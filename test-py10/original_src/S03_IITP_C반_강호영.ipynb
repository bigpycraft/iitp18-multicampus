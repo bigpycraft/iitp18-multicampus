{
 "cells": [
  {
   "cell_type": "markdown",
   "metadata": {},
   "source": [
    "## 실습 1) 데이터 타입에 대한 이해"
   ]
  },
  {
   "cell_type": "code",
   "execution_count": 1,
   "metadata": {},
   "outputs": [
    {
     "name": "stdout",
     "output_type": "stream",
     "text": [
      "1366\n"
     ]
    }
   ],
   "source": [
    "a = 2**1000\n",
    "a2 = \"/\".join(str(a))\n",
    "alist = a2.split(\"/\")\n",
    "sum = 0\n",
    "for i in range(len(alist)):\n",
    "    sum += int(alist[i])\n",
    "print(sum)"
   ]
  },
  {
   "cell_type": "markdown",
   "metadata": {},
   "source": [
    "## 실습 2) 로또 번호를 주문하는 클래스를 생성하시오."
   ]
  },
  {
   "cell_type": "code",
   "execution_count": 2,
   "metadata": {},
   "outputs": [],
   "source": [
    "import random\n",
    "\n",
    "\n",
    "class Lotto:\n",
    "\n",
    "    def __init__(self):\n",
    "        self.numl = []\n",
    "        self.numbers = set(\"0123456789\")\n",
    "        self.buy = 0   # 로또주문갯수\n",
    "        \n",
    "        # self.order_lotto()\n",
    "\n",
    "    def order_lotto(self):\n",
    "        while True:\n",
    "            buy = input(\"주문 갯수를 입력해주세요(1~10)\")\n",
    "            self.buy = buy\n",
    "            \n",
    "            if set(self.buy) - self.numbers == set():\n",
    "                if 10>=int(self.buy)>=1:\n",
    "                    self.buy = int(self.buy)\n",
    "                    print(\"주문 갯수 : %s\" % self.buy)\n",
    "                    break\n",
    "\n",
    "\n",
    "                else:\n",
    "                    print(\"1~10 사이의 숫자를 입력해주세요.\")\n",
    "                    continue\n",
    "            else:\n",
    "                print(\"1~10 사이의 숫자를 입력해주세요.\")\n",
    "                continue\n",
    "\n",
    "    def lonum(self):\n",
    "\n",
    "        for b in range(self.buy):\n",
    "            num = random.sample(range(1, 45), 6)\n",
    "            num.sort()\n",
    "            self.numl.append(num)\n",
    "            \n",
    "        # print(self.numl)\n",
    "\n",
    "    def answer(self):\n",
    "        print(\"%d개의 로또 번호\" % self.buy)\n",
    "        for i in range(len(self.numl)):\n",
    "            print(\"{1}: {2}\".format(self.buy, (i + 1), self.numl[i]))\n",
    "    \n",
    "    def order(self):\n",
    "        self.order_lotto()\n",
    "        self.lonum()\n",
    "        self.answer()\n",
    "            \n",
    "\n"
   ]
  },
  {
   "cell_type": "code",
   "execution_count": 3,
   "metadata": {},
   "outputs": [],
   "source": [
    "lotto2 = Lotto()"
   ]
  },
  {
   "cell_type": "code",
   "execution_count": 4,
   "metadata": {},
   "outputs": [
    {
     "name": "stdout",
     "output_type": "stream",
     "text": [
      "주문 갯수를 입력해주세요(1~10)5\n",
      "주문 갯수 : 5\n",
      "5개의 로또 번호\n",
      "1: [2, 6, 8, 16, 23, 31]\n",
      "2: [8, 16, 23, 36, 38, 43]\n",
      "3: [5, 13, 23, 33, 35, 43]\n",
      "4: [7, 19, 21, 37, 38, 42]\n",
      "5: [1, 3, 10, 14, 18, 39]\n"
     ]
    }
   ],
   "source": [
    "lotto2.order()"
   ]
  },
  {
   "cell_type": "markdown",
   "metadata": {},
   "source": [
    "## 실습 3) 특정 기념일로 부터 얼마나 경과되었는지 알려주는 함수를 만드시오"
   ]
  },
  {
   "cell_type": "code",
   "execution_count": 5,
   "metadata": {},
   "outputs": [],
   "source": [
    "from datetime import datetime\n",
    "\n",
    "def getMemorialDay(year, month, day, mem_dat = \"기념일\", is_msg = True):\n",
    "    memdate = datetime(year, month, day)\n",
    "    today = datetime.now()\n",
    "    day1 = today - memdate\n",
    "    days = abs(day1.days)\n",
    "    days2 = format(days, \",\")\n",
    "    months = days//30\n",
    "    years = days//365\n",
    "    \n",
    "    if day1.days >0 :\n",
    "        print(\"오늘은 {0}로 부터 {1}일 경과되었고, 달수로는 {2}개월째, 연수로는 {3}년째 되었습니다!!\".format(mem_dat, days2, months, years))\n",
    "    else:\n",
    "        print(\"{0}까지는 {1}일 남았습니다!!\".format(mem_dat, days))"
   ]
  },
  {
   "cell_type": "code",
   "execution_count": 6,
   "metadata": {},
   "outputs": [
    {
     "name": "stdout",
     "output_type": "stream",
     "text": [
      "오늘은 밀레니엄일로 부터 6,878일 경과되었고, 달수로는 229개월째, 연수로는 18년째 되었습니다!!\n"
     ]
    }
   ],
   "source": [
    "getMemorialDay(2000,1,1, '밀레니엄일')"
   ]
  },
  {
   "cell_type": "code",
   "execution_count": 8,
   "metadata": {},
   "outputs": [
    {
     "name": "stdout",
     "output_type": "stream",
     "text": [
      "크리스마스까지는 55일 남았습니다!!\n"
     ]
    }
   ],
   "source": [
    "getMemorialDay(2018, 12, 25, '크리스마스', False)"
   ]
  },
  {
   "cell_type": "markdown",
   "metadata": {},
   "source": [
    "## 실습 4) reduce를 사용하여 히스토그램 함수를 작성하시오"
   ]
  },
  {
   "cell_type": "code",
   "execution_count": 10,
   "metadata": {},
   "outputs": [],
   "source": [
    "from functools import reduce\n",
    "\n",
    "def makedic(dic, x):\n",
    "    if x in dic:\n",
    "        dic[x] +=1\n",
    "    else:\n",
    "        dic[x] = 1\n",
    "    return dic\n",
    "        "
   ]
  },
  {
   "cell_type": "code",
   "execution_count": 11,
   "metadata": {},
   "outputs": [],
   "source": [
    "data = [\"cat\", \"cat\", \"cat\", \"sheep\", \"sheep\", \"duck\", \"duck\", \"duck\", \"duck\" ]\n",
    "dic = reduce(makedic, data, {})"
   ]
  },
  {
   "cell_type": "code",
   "execution_count": 12,
   "metadata": {},
   "outputs": [
    {
     "name": "stdout",
     "output_type": "stream",
     "text": [
      "출력값:  {'cat': 3, 'sheep': 2, 'duck': 4}\n",
      "cat\t===\n",
      "sheep\t==\n",
      "duck\t====\n"
     ]
    }
   ],
   "source": [
    "def histogram(dic):\n",
    "    key = list(dic.keys())\n",
    "    for i in range(len(key)):\n",
    "        print(\"{0}\\t{1}\".format(key[i], dic[key[i]]*\"=\"))\n",
    "\n",
    "print(\"출력값: \", dic)        \n",
    "histogram(dic)"
   ]
  },
  {
   "cell_type": "code",
   "execution_count": null,
   "metadata": {},
   "outputs": [],
   "source": []
  }
 ],
 "metadata": {
  "kernelspec": {
   "display_name": "Python 3",
   "language": "python",
   "name": "python3"
  },
  "language_info": {
   "codemirror_mode": {
    "name": "ipython",
    "version": 3
   },
   "file_extension": ".py",
   "mimetype": "text/x-python",
   "name": "python",
   "nbconvert_exporter": "python",
   "pygments_lexer": "ipython3",
   "version": "3.6.5"
  }
 },
 "nbformat": 4,
 "nbformat_minor": 2
}
