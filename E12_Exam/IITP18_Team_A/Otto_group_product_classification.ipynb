{
  "nbformat": 4,
  "nbformat_minor": 0,
  "metadata": {
    "colab": {
      "name": "Otto group product classification.ipynb",
      "version": "0.3.2",
      "provenance": [],
      "collapsed_sections": [],
      "toc_visible": true
    },
    "kernelspec": {
      "name": "python3",
      "display_name": "Python 3"
    },
    "accelerator": "GPU"
  },
  "cells": [
    {
      "metadata": {
        "id": "iPcY2JYeDcAs",
        "colab_type": "text"
      },
      "cell_type": "markdown",
      "source": [
        "# A팀 (하드캐리팀)\n",
        "# Otto group product classification\n",
        "## 강호영 이상훈 유영재"
      ]
    },
    {
      "metadata": {
        "id": "gEdB1omNHHSE",
        "colab_type": "code",
        "colab": {}
      },
      "cell_type": "code",
      "source": [
        "import pandas as pd\n",
        "import numpy as np\n",
        "import re\n",
        "import tensorflow as tf\n",
        "import random\n",
        "import matplotlib.pyplot as plt\n",
        "from tqdm import tqdm_notebook\n",
        "import math\n",
        "import os\n",
        "from random import randint"
      ],
      "execution_count": 0,
      "outputs": []
    },
    {
      "metadata": {
        "id": "FCiU6WUMD9fD",
        "colab_type": "text"
      },
      "cell_type": "markdown",
      "source": [
        "## 데이터 로드 및 특징"
      ]
    },
    {
      "metadata": {
        "id": "Tfbqc7ToHm-U",
        "colab_type": "code",
        "outputId": "214a9350-9af5-4f6b-f07d-021a60899599",
        "colab": {
          "base_uri": "https://localhost:8080/",
          "height": 253
        }
      },
      "cell_type": "code",
      "source": [
        "preTrain = pd.read_csv(\"./train_targetInt.csv\")\n",
        "preTrain.drop('Unnamed: 0', axis=1, inplace=True)\n",
        "preTrain.head()"
      ],
      "execution_count": 2,
      "outputs": [
        {
          "output_type": "execute_result",
          "data": {
            "text/html": [
              "<div>\n",
              "<style scoped>\n",
              "    .dataframe tbody tr th:only-of-type {\n",
              "        vertical-align: middle;\n",
              "    }\n",
              "\n",
              "    .dataframe tbody tr th {\n",
              "        vertical-align: top;\n",
              "    }\n",
              "\n",
              "    .dataframe thead th {\n",
              "        text-align: right;\n",
              "    }\n",
              "</style>\n",
              "<table border=\"1\" class=\"dataframe\">\n",
              "  <thead>\n",
              "    <tr style=\"text-align: right;\">\n",
              "      <th></th>\n",
              "      <th>id</th>\n",
              "      <th>feat_1</th>\n",
              "      <th>feat_2</th>\n",
              "      <th>feat_3</th>\n",
              "      <th>feat_4</th>\n",
              "      <th>feat_5</th>\n",
              "      <th>feat_6</th>\n",
              "      <th>feat_7</th>\n",
              "      <th>feat_8</th>\n",
              "      <th>feat_9</th>\n",
              "      <th>...</th>\n",
              "      <th>feat_85</th>\n",
              "      <th>feat_86</th>\n",
              "      <th>feat_87</th>\n",
              "      <th>feat_88</th>\n",
              "      <th>feat_89</th>\n",
              "      <th>feat_90</th>\n",
              "      <th>feat_91</th>\n",
              "      <th>feat_92</th>\n",
              "      <th>feat_93</th>\n",
              "      <th>target</th>\n",
              "    </tr>\n",
              "  </thead>\n",
              "  <tbody>\n",
              "    <tr>\n",
              "      <th>0</th>\n",
              "      <td>1</td>\n",
              "      <td>1</td>\n",
              "      <td>0</td>\n",
              "      <td>0</td>\n",
              "      <td>0</td>\n",
              "      <td>0</td>\n",
              "      <td>0</td>\n",
              "      <td>0</td>\n",
              "      <td>0</td>\n",
              "      <td>0</td>\n",
              "      <td>...</td>\n",
              "      <td>1</td>\n",
              "      <td>0</td>\n",
              "      <td>0</td>\n",
              "      <td>0</td>\n",
              "      <td>0</td>\n",
              "      <td>0</td>\n",
              "      <td>0</td>\n",
              "      <td>0</td>\n",
              "      <td>0</td>\n",
              "      <td>1</td>\n",
              "    </tr>\n",
              "    <tr>\n",
              "      <th>1</th>\n",
              "      <td>2</td>\n",
              "      <td>0</td>\n",
              "      <td>0</td>\n",
              "      <td>0</td>\n",
              "      <td>0</td>\n",
              "      <td>0</td>\n",
              "      <td>0</td>\n",
              "      <td>0</td>\n",
              "      <td>1</td>\n",
              "      <td>0</td>\n",
              "      <td>...</td>\n",
              "      <td>0</td>\n",
              "      <td>0</td>\n",
              "      <td>0</td>\n",
              "      <td>0</td>\n",
              "      <td>0</td>\n",
              "      <td>0</td>\n",
              "      <td>0</td>\n",
              "      <td>0</td>\n",
              "      <td>0</td>\n",
              "      <td>1</td>\n",
              "    </tr>\n",
              "    <tr>\n",
              "      <th>2</th>\n",
              "      <td>3</td>\n",
              "      <td>0</td>\n",
              "      <td>0</td>\n",
              "      <td>0</td>\n",
              "      <td>0</td>\n",
              "      <td>0</td>\n",
              "      <td>0</td>\n",
              "      <td>0</td>\n",
              "      <td>1</td>\n",
              "      <td>0</td>\n",
              "      <td>...</td>\n",
              "      <td>0</td>\n",
              "      <td>0</td>\n",
              "      <td>0</td>\n",
              "      <td>0</td>\n",
              "      <td>0</td>\n",
              "      <td>0</td>\n",
              "      <td>0</td>\n",
              "      <td>0</td>\n",
              "      <td>0</td>\n",
              "      <td>1</td>\n",
              "    </tr>\n",
              "    <tr>\n",
              "      <th>3</th>\n",
              "      <td>4</td>\n",
              "      <td>1</td>\n",
              "      <td>0</td>\n",
              "      <td>0</td>\n",
              "      <td>1</td>\n",
              "      <td>6</td>\n",
              "      <td>1</td>\n",
              "      <td>5</td>\n",
              "      <td>0</td>\n",
              "      <td>0</td>\n",
              "      <td>...</td>\n",
              "      <td>0</td>\n",
              "      <td>1</td>\n",
              "      <td>2</td>\n",
              "      <td>0</td>\n",
              "      <td>0</td>\n",
              "      <td>0</td>\n",
              "      <td>0</td>\n",
              "      <td>0</td>\n",
              "      <td>0</td>\n",
              "      <td>1</td>\n",
              "    </tr>\n",
              "    <tr>\n",
              "      <th>4</th>\n",
              "      <td>5</td>\n",
              "      <td>0</td>\n",
              "      <td>0</td>\n",
              "      <td>0</td>\n",
              "      <td>0</td>\n",
              "      <td>0</td>\n",
              "      <td>0</td>\n",
              "      <td>0</td>\n",
              "      <td>0</td>\n",
              "      <td>0</td>\n",
              "      <td>...</td>\n",
              "      <td>1</td>\n",
              "      <td>0</td>\n",
              "      <td>0</td>\n",
              "      <td>0</td>\n",
              "      <td>0</td>\n",
              "      <td>1</td>\n",
              "      <td>0</td>\n",
              "      <td>0</td>\n",
              "      <td>0</td>\n",
              "      <td>1</td>\n",
              "    </tr>\n",
              "  </tbody>\n",
              "</table>\n",
              "<p>5 rows × 95 columns</p>\n",
              "</div>"
            ],
            "text/plain": [
              "   id  feat_1  feat_2  feat_3  feat_4  feat_5  feat_6  feat_7  feat_8  feat_9  \\\n",
              "0   1       1       0       0       0       0       0       0       0       0   \n",
              "1   2       0       0       0       0       0       0       0       1       0   \n",
              "2   3       0       0       0       0       0       0       0       1       0   \n",
              "3   4       1       0       0       1       6       1       5       0       0   \n",
              "4   5       0       0       0       0       0       0       0       0       0   \n",
              "\n",
              "    ...    feat_85  feat_86  feat_87  feat_88  feat_89  feat_90  feat_91  \\\n",
              "0   ...          1        0        0        0        0        0        0   \n",
              "1   ...          0        0        0        0        0        0        0   \n",
              "2   ...          0        0        0        0        0        0        0   \n",
              "3   ...          0        1        2        0        0        0        0   \n",
              "4   ...          1        0        0        0        0        1        0   \n",
              "\n",
              "   feat_92  feat_93  target  \n",
              "0        0        0       1  \n",
              "1        0        0       1  \n",
              "2        0        0       1  \n",
              "3        0        0       1  \n",
              "4        0        0       1  \n",
              "\n",
              "[5 rows x 95 columns]"
            ]
          },
          "metadata": {
            "tags": []
          },
          "execution_count": 2
        }
      ]
    },
    {
      "metadata": {
        "id": "34Tiz4aX8fjy",
        "colab_type": "code",
        "outputId": "bf6d8bb7-d577-4824-864c-49dd74c2bd13",
        "colab": {
          "base_uri": "https://localhost:8080/",
          "height": 346
        }
      },
      "cell_type": "code",
      "source": [
        "preTrain.describe()"
      ],
      "execution_count": 0,
      "outputs": [
        {
          "output_type": "execute_result",
          "data": {
            "text/html": [
              "<div>\n",
              "<style scoped>\n",
              "    .dataframe tbody tr th:only-of-type {\n",
              "        vertical-align: middle;\n",
              "    }\n",
              "\n",
              "    .dataframe tbody tr th {\n",
              "        vertical-align: top;\n",
              "    }\n",
              "\n",
              "    .dataframe thead th {\n",
              "        text-align: right;\n",
              "    }\n",
              "</style>\n",
              "<table border=\"1\" class=\"dataframe\">\n",
              "  <thead>\n",
              "    <tr style=\"text-align: right;\">\n",
              "      <th></th>\n",
              "      <th>id</th>\n",
              "      <th>feat_1</th>\n",
              "      <th>feat_2</th>\n",
              "      <th>feat_3</th>\n",
              "      <th>feat_4</th>\n",
              "      <th>feat_5</th>\n",
              "      <th>feat_6</th>\n",
              "      <th>feat_7</th>\n",
              "      <th>feat_8</th>\n",
              "      <th>feat_9</th>\n",
              "      <th>...</th>\n",
              "      <th>feat_85</th>\n",
              "      <th>feat_86</th>\n",
              "      <th>feat_87</th>\n",
              "      <th>feat_88</th>\n",
              "      <th>feat_89</th>\n",
              "      <th>feat_90</th>\n",
              "      <th>feat_91</th>\n",
              "      <th>feat_92</th>\n",
              "      <th>feat_93</th>\n",
              "      <th>target</th>\n",
              "    </tr>\n",
              "  </thead>\n",
              "  <tbody>\n",
              "    <tr>\n",
              "      <th>count</th>\n",
              "      <td>61878.000000</td>\n",
              "      <td>61878.00000</td>\n",
              "      <td>61878.000000</td>\n",
              "      <td>61878.000000</td>\n",
              "      <td>61878.000000</td>\n",
              "      <td>61878.000000</td>\n",
              "      <td>61878.000000</td>\n",
              "      <td>61878.000000</td>\n",
              "      <td>61878.000000</td>\n",
              "      <td>61878.000000</td>\n",
              "      <td>...</td>\n",
              "      <td>61878.000000</td>\n",
              "      <td>61878.000000</td>\n",
              "      <td>61878.000000</td>\n",
              "      <td>61878.000000</td>\n",
              "      <td>61878.000000</td>\n",
              "      <td>61878.000000</td>\n",
              "      <td>61878.000000</td>\n",
              "      <td>61878.000000</td>\n",
              "      <td>61878.000000</td>\n",
              "      <td>61878.000000</td>\n",
              "    </tr>\n",
              "    <tr>\n",
              "      <th>mean</th>\n",
              "      <td>30939.500000</td>\n",
              "      <td>0.38668</td>\n",
              "      <td>0.263066</td>\n",
              "      <td>0.901467</td>\n",
              "      <td>0.779081</td>\n",
              "      <td>0.071043</td>\n",
              "      <td>0.025696</td>\n",
              "      <td>0.193704</td>\n",
              "      <td>0.662433</td>\n",
              "      <td>1.011296</td>\n",
              "      <td>...</td>\n",
              "      <td>0.532306</td>\n",
              "      <td>1.128576</td>\n",
              "      <td>0.393549</td>\n",
              "      <td>0.874915</td>\n",
              "      <td>0.457772</td>\n",
              "      <td>0.812421</td>\n",
              "      <td>0.264941</td>\n",
              "      <td>0.380119</td>\n",
              "      <td>0.126135</td>\n",
              "      <td>4.842335</td>\n",
              "    </tr>\n",
              "    <tr>\n",
              "      <th>std</th>\n",
              "      <td>17862.784315</td>\n",
              "      <td>1.52533</td>\n",
              "      <td>1.252073</td>\n",
              "      <td>2.934818</td>\n",
              "      <td>2.788005</td>\n",
              "      <td>0.438902</td>\n",
              "      <td>0.215333</td>\n",
              "      <td>1.030102</td>\n",
              "      <td>2.255770</td>\n",
              "      <td>3.474822</td>\n",
              "      <td>...</td>\n",
              "      <td>1.900438</td>\n",
              "      <td>2.681554</td>\n",
              "      <td>1.575455</td>\n",
              "      <td>2.115466</td>\n",
              "      <td>1.527385</td>\n",
              "      <td>4.597804</td>\n",
              "      <td>2.045646</td>\n",
              "      <td>0.982385</td>\n",
              "      <td>1.201720</td>\n",
              "      <td>2.510794</td>\n",
              "    </tr>\n",
              "    <tr>\n",
              "      <th>min</th>\n",
              "      <td>1.000000</td>\n",
              "      <td>0.00000</td>\n",
              "      <td>0.000000</td>\n",
              "      <td>0.000000</td>\n",
              "      <td>0.000000</td>\n",
              "      <td>0.000000</td>\n",
              "      <td>0.000000</td>\n",
              "      <td>0.000000</td>\n",
              "      <td>0.000000</td>\n",
              "      <td>0.000000</td>\n",
              "      <td>...</td>\n",
              "      <td>0.000000</td>\n",
              "      <td>0.000000</td>\n",
              "      <td>0.000000</td>\n",
              "      <td>0.000000</td>\n",
              "      <td>0.000000</td>\n",
              "      <td>0.000000</td>\n",
              "      <td>0.000000</td>\n",
              "      <td>0.000000</td>\n",
              "      <td>0.000000</td>\n",
              "      <td>1.000000</td>\n",
              "    </tr>\n",
              "    <tr>\n",
              "      <th>25%</th>\n",
              "      <td>15470.250000</td>\n",
              "      <td>0.00000</td>\n",
              "      <td>0.000000</td>\n",
              "      <td>0.000000</td>\n",
              "      <td>0.000000</td>\n",
              "      <td>0.000000</td>\n",
              "      <td>0.000000</td>\n",
              "      <td>0.000000</td>\n",
              "      <td>0.000000</td>\n",
              "      <td>0.000000</td>\n",
              "      <td>...</td>\n",
              "      <td>0.000000</td>\n",
              "      <td>0.000000</td>\n",
              "      <td>0.000000</td>\n",
              "      <td>0.000000</td>\n",
              "      <td>0.000000</td>\n",
              "      <td>0.000000</td>\n",
              "      <td>0.000000</td>\n",
              "      <td>0.000000</td>\n",
              "      <td>0.000000</td>\n",
              "      <td>2.000000</td>\n",
              "    </tr>\n",
              "    <tr>\n",
              "      <th>50%</th>\n",
              "      <td>30939.500000</td>\n",
              "      <td>0.00000</td>\n",
              "      <td>0.000000</td>\n",
              "      <td>0.000000</td>\n",
              "      <td>0.000000</td>\n",
              "      <td>0.000000</td>\n",
              "      <td>0.000000</td>\n",
              "      <td>0.000000</td>\n",
              "      <td>0.000000</td>\n",
              "      <td>0.000000</td>\n",
              "      <td>...</td>\n",
              "      <td>0.000000</td>\n",
              "      <td>0.000000</td>\n",
              "      <td>0.000000</td>\n",
              "      <td>0.000000</td>\n",
              "      <td>0.000000</td>\n",
              "      <td>0.000000</td>\n",
              "      <td>0.000000</td>\n",
              "      <td>0.000000</td>\n",
              "      <td>0.000000</td>\n",
              "      <td>5.000000</td>\n",
              "    </tr>\n",
              "    <tr>\n",
              "      <th>75%</th>\n",
              "      <td>46408.750000</td>\n",
              "      <td>0.00000</td>\n",
              "      <td>0.000000</td>\n",
              "      <td>0.000000</td>\n",
              "      <td>0.000000</td>\n",
              "      <td>0.000000</td>\n",
              "      <td>0.000000</td>\n",
              "      <td>0.000000</td>\n",
              "      <td>1.000000</td>\n",
              "      <td>0.000000</td>\n",
              "      <td>...</td>\n",
              "      <td>0.000000</td>\n",
              "      <td>1.000000</td>\n",
              "      <td>0.000000</td>\n",
              "      <td>1.000000</td>\n",
              "      <td>0.000000</td>\n",
              "      <td>0.000000</td>\n",
              "      <td>0.000000</td>\n",
              "      <td>0.000000</td>\n",
              "      <td>0.000000</td>\n",
              "      <td>7.000000</td>\n",
              "    </tr>\n",
              "    <tr>\n",
              "      <th>max</th>\n",
              "      <td>61878.000000</td>\n",
              "      <td>61.00000</td>\n",
              "      <td>51.000000</td>\n",
              "      <td>64.000000</td>\n",
              "      <td>70.000000</td>\n",
              "      <td>19.000000</td>\n",
              "      <td>10.000000</td>\n",
              "      <td>38.000000</td>\n",
              "      <td>76.000000</td>\n",
              "      <td>43.000000</td>\n",
              "      <td>...</td>\n",
              "      <td>55.000000</td>\n",
              "      <td>65.000000</td>\n",
              "      <td>67.000000</td>\n",
              "      <td>30.000000</td>\n",
              "      <td>61.000000</td>\n",
              "      <td>130.000000</td>\n",
              "      <td>52.000000</td>\n",
              "      <td>19.000000</td>\n",
              "      <td>87.000000</td>\n",
              "      <td>9.000000</td>\n",
              "    </tr>\n",
              "  </tbody>\n",
              "</table>\n",
              "<p>8 rows × 95 columns</p>\n",
              "</div>"
            ],
            "text/plain": [
              "                 id       feat_1        feat_2        feat_3        feat_4  \\\n",
              "count  61878.000000  61878.00000  61878.000000  61878.000000  61878.000000   \n",
              "mean   30939.500000      0.38668      0.263066      0.901467      0.779081   \n",
              "std    17862.784315      1.52533      1.252073      2.934818      2.788005   \n",
              "min        1.000000      0.00000      0.000000      0.000000      0.000000   \n",
              "25%    15470.250000      0.00000      0.000000      0.000000      0.000000   \n",
              "50%    30939.500000      0.00000      0.000000      0.000000      0.000000   \n",
              "75%    46408.750000      0.00000      0.000000      0.000000      0.000000   \n",
              "max    61878.000000     61.00000     51.000000     64.000000     70.000000   \n",
              "\n",
              "             feat_5        feat_6        feat_7        feat_8        feat_9  \\\n",
              "count  61878.000000  61878.000000  61878.000000  61878.000000  61878.000000   \n",
              "mean       0.071043      0.025696      0.193704      0.662433      1.011296   \n",
              "std        0.438902      0.215333      1.030102      2.255770      3.474822   \n",
              "min        0.000000      0.000000      0.000000      0.000000      0.000000   \n",
              "25%        0.000000      0.000000      0.000000      0.000000      0.000000   \n",
              "50%        0.000000      0.000000      0.000000      0.000000      0.000000   \n",
              "75%        0.000000      0.000000      0.000000      1.000000      0.000000   \n",
              "max       19.000000     10.000000     38.000000     76.000000     43.000000   \n",
              "\n",
              "           ...            feat_85       feat_86       feat_87       feat_88  \\\n",
              "count      ...       61878.000000  61878.000000  61878.000000  61878.000000   \n",
              "mean       ...           0.532306      1.128576      0.393549      0.874915   \n",
              "std        ...           1.900438      2.681554      1.575455      2.115466   \n",
              "min        ...           0.000000      0.000000      0.000000      0.000000   \n",
              "25%        ...           0.000000      0.000000      0.000000      0.000000   \n",
              "50%        ...           0.000000      0.000000      0.000000      0.000000   \n",
              "75%        ...           0.000000      1.000000      0.000000      1.000000   \n",
              "max        ...          55.000000     65.000000     67.000000     30.000000   \n",
              "\n",
              "            feat_89       feat_90       feat_91       feat_92       feat_93  \\\n",
              "count  61878.000000  61878.000000  61878.000000  61878.000000  61878.000000   \n",
              "mean       0.457772      0.812421      0.264941      0.380119      0.126135   \n",
              "std        1.527385      4.597804      2.045646      0.982385      1.201720   \n",
              "min        0.000000      0.000000      0.000000      0.000000      0.000000   \n",
              "25%        0.000000      0.000000      0.000000      0.000000      0.000000   \n",
              "50%        0.000000      0.000000      0.000000      0.000000      0.000000   \n",
              "75%        0.000000      0.000000      0.000000      0.000000      0.000000   \n",
              "max       61.000000    130.000000     52.000000     19.000000     87.000000   \n",
              "\n",
              "             target  \n",
              "count  61878.000000  \n",
              "mean       4.842335  \n",
              "std        2.510794  \n",
              "min        1.000000  \n",
              "25%        2.000000  \n",
              "50%        5.000000  \n",
              "75%        7.000000  \n",
              "max        9.000000  \n",
              "\n",
              "[8 rows x 95 columns]"
            ]
          },
          "metadata": {
            "tags": []
          },
          "execution_count": 121
        }
      ]
    },
    {
      "metadata": {
        "id": "eXID3Hg0HrGa",
        "colab_type": "code",
        "outputId": "a13ae48f-1079-40e8-b9e8-58bf36ebe919",
        "colab": {
          "base_uri": "https://localhost:8080/",
          "height": 253
        }
      },
      "cell_type": "code",
      "source": [
        "preTest = pd.read_csv(\"./test.csv\")\n",
        "preTest.head()"
      ],
      "execution_count": 15,
      "outputs": [
        {
          "output_type": "execute_result",
          "data": {
            "text/html": [
              "<div>\n",
              "<style scoped>\n",
              "    .dataframe tbody tr th:only-of-type {\n",
              "        vertical-align: middle;\n",
              "    }\n",
              "\n",
              "    .dataframe tbody tr th {\n",
              "        vertical-align: top;\n",
              "    }\n",
              "\n",
              "    .dataframe thead th {\n",
              "        text-align: right;\n",
              "    }\n",
              "</style>\n",
              "<table border=\"1\" class=\"dataframe\">\n",
              "  <thead>\n",
              "    <tr style=\"text-align: right;\">\n",
              "      <th></th>\n",
              "      <th>id</th>\n",
              "      <th>feat_1</th>\n",
              "      <th>feat_2</th>\n",
              "      <th>feat_3</th>\n",
              "      <th>feat_4</th>\n",
              "      <th>feat_5</th>\n",
              "      <th>feat_6</th>\n",
              "      <th>feat_7</th>\n",
              "      <th>feat_8</th>\n",
              "      <th>feat_9</th>\n",
              "      <th>...</th>\n",
              "      <th>feat_84</th>\n",
              "      <th>feat_85</th>\n",
              "      <th>feat_86</th>\n",
              "      <th>feat_87</th>\n",
              "      <th>feat_88</th>\n",
              "      <th>feat_89</th>\n",
              "      <th>feat_90</th>\n",
              "      <th>feat_91</th>\n",
              "      <th>feat_92</th>\n",
              "      <th>feat_93</th>\n",
              "    </tr>\n",
              "  </thead>\n",
              "  <tbody>\n",
              "    <tr>\n",
              "      <th>0</th>\n",
              "      <td>1</td>\n",
              "      <td>0</td>\n",
              "      <td>0</td>\n",
              "      <td>0</td>\n",
              "      <td>0</td>\n",
              "      <td>0</td>\n",
              "      <td>0</td>\n",
              "      <td>0</td>\n",
              "      <td>0</td>\n",
              "      <td>0</td>\n",
              "      <td>...</td>\n",
              "      <td>0</td>\n",
              "      <td>0</td>\n",
              "      <td>11</td>\n",
              "      <td>1</td>\n",
              "      <td>20</td>\n",
              "      <td>0</td>\n",
              "      <td>0</td>\n",
              "      <td>0</td>\n",
              "      <td>0</td>\n",
              "      <td>0</td>\n",
              "    </tr>\n",
              "    <tr>\n",
              "      <th>1</th>\n",
              "      <td>2</td>\n",
              "      <td>2</td>\n",
              "      <td>2</td>\n",
              "      <td>14</td>\n",
              "      <td>16</td>\n",
              "      <td>0</td>\n",
              "      <td>0</td>\n",
              "      <td>0</td>\n",
              "      <td>0</td>\n",
              "      <td>0</td>\n",
              "      <td>...</td>\n",
              "      <td>0</td>\n",
              "      <td>0</td>\n",
              "      <td>0</td>\n",
              "      <td>0</td>\n",
              "      <td>0</td>\n",
              "      <td>4</td>\n",
              "      <td>0</td>\n",
              "      <td>0</td>\n",
              "      <td>2</td>\n",
              "      <td>0</td>\n",
              "    </tr>\n",
              "    <tr>\n",
              "      <th>2</th>\n",
              "      <td>3</td>\n",
              "      <td>0</td>\n",
              "      <td>1</td>\n",
              "      <td>12</td>\n",
              "      <td>1</td>\n",
              "      <td>0</td>\n",
              "      <td>0</td>\n",
              "      <td>0</td>\n",
              "      <td>0</td>\n",
              "      <td>0</td>\n",
              "      <td>...</td>\n",
              "      <td>0</td>\n",
              "      <td>0</td>\n",
              "      <td>0</td>\n",
              "      <td>0</td>\n",
              "      <td>2</td>\n",
              "      <td>0</td>\n",
              "      <td>0</td>\n",
              "      <td>0</td>\n",
              "      <td>0</td>\n",
              "      <td>1</td>\n",
              "    </tr>\n",
              "    <tr>\n",
              "      <th>3</th>\n",
              "      <td>4</td>\n",
              "      <td>0</td>\n",
              "      <td>0</td>\n",
              "      <td>0</td>\n",
              "      <td>1</td>\n",
              "      <td>0</td>\n",
              "      <td>0</td>\n",
              "      <td>0</td>\n",
              "      <td>0</td>\n",
              "      <td>0</td>\n",
              "      <td>...</td>\n",
              "      <td>0</td>\n",
              "      <td>3</td>\n",
              "      <td>1</td>\n",
              "      <td>0</td>\n",
              "      <td>0</td>\n",
              "      <td>0</td>\n",
              "      <td>0</td>\n",
              "      <td>0</td>\n",
              "      <td>0</td>\n",
              "      <td>0</td>\n",
              "    </tr>\n",
              "    <tr>\n",
              "      <th>4</th>\n",
              "      <td>5</td>\n",
              "      <td>1</td>\n",
              "      <td>0</td>\n",
              "      <td>0</td>\n",
              "      <td>1</td>\n",
              "      <td>0</td>\n",
              "      <td>0</td>\n",
              "      <td>1</td>\n",
              "      <td>2</td>\n",
              "      <td>0</td>\n",
              "      <td>...</td>\n",
              "      <td>0</td>\n",
              "      <td>0</td>\n",
              "      <td>0</td>\n",
              "      <td>0</td>\n",
              "      <td>0</td>\n",
              "      <td>0</td>\n",
              "      <td>0</td>\n",
              "      <td>9</td>\n",
              "      <td>0</td>\n",
              "      <td>0</td>\n",
              "    </tr>\n",
              "  </tbody>\n",
              "</table>\n",
              "<p>5 rows × 94 columns</p>\n",
              "</div>"
            ],
            "text/plain": [
              "   id  feat_1  feat_2  feat_3  feat_4  feat_5  feat_6  feat_7  feat_8  feat_9  \\\n",
              "0   1       0       0       0       0       0       0       0       0       0   \n",
              "1   2       2       2      14      16       0       0       0       0       0   \n",
              "2   3       0       1      12       1       0       0       0       0       0   \n",
              "3   4       0       0       0       1       0       0       0       0       0   \n",
              "4   5       1       0       0       1       0       0       1       2       0   \n",
              "\n",
              "    ...     feat_84  feat_85  feat_86  feat_87  feat_88  feat_89  feat_90  \\\n",
              "0   ...           0        0       11        1       20        0        0   \n",
              "1   ...           0        0        0        0        0        4        0   \n",
              "2   ...           0        0        0        0        2        0        0   \n",
              "3   ...           0        3        1        0        0        0        0   \n",
              "4   ...           0        0        0        0        0        0        0   \n",
              "\n",
              "   feat_91  feat_92  feat_93  \n",
              "0        0        0        0  \n",
              "1        0        2        0  \n",
              "2        0        0        1  \n",
              "3        0        0        0  \n",
              "4        9        0        0  \n",
              "\n",
              "[5 rows x 94 columns]"
            ]
          },
          "metadata": {
            "tags": []
          },
          "execution_count": 15
        }
      ]
    },
    {
      "metadata": {
        "id": "YRa1OmfX-fh4",
        "colab_type": "text"
      },
      "cell_type": "markdown",
      "source": [
        "## 데이터 전처리 > log scailing"
      ]
    },
    {
      "metadata": {
        "id": "4ULsPtN1-dV4",
        "colab_type": "code",
        "colab": {}
      },
      "cell_type": "code",
      "source": [
        "def log_scale(data):\n",
        "  for feature in data.columns[1:94]:\n",
        "    scaleDummy = []\n",
        "    for n in data[feature]:\n",
        "      scaleDummy.append(math.log10(n+1))\n",
        "    data[feature] = scaleDummy\n",
        "  return data"
      ],
      "execution_count": 0,
      "outputs": []
    },
    {
      "metadata": {
        "id": "ggwLbEko_rJA",
        "colab_type": "code",
        "outputId": "7cde2f2d-c2da-4ea9-f400-1b83aa150fcd",
        "colab": {
          "base_uri": "https://localhost:8080/",
          "height": 253
        }
      },
      "cell_type": "code",
      "source": [
        "trainRaw = log_scale(preTrain)\n",
        "trainRaw.head()"
      ],
      "execution_count": 4,
      "outputs": [
        {
          "output_type": "execute_result",
          "data": {
            "text/html": [
              "<div>\n",
              "<style scoped>\n",
              "    .dataframe tbody tr th:only-of-type {\n",
              "        vertical-align: middle;\n",
              "    }\n",
              "\n",
              "    .dataframe tbody tr th {\n",
              "        vertical-align: top;\n",
              "    }\n",
              "\n",
              "    .dataframe thead th {\n",
              "        text-align: right;\n",
              "    }\n",
              "</style>\n",
              "<table border=\"1\" class=\"dataframe\">\n",
              "  <thead>\n",
              "    <tr style=\"text-align: right;\">\n",
              "      <th></th>\n",
              "      <th>id</th>\n",
              "      <th>feat_1</th>\n",
              "      <th>feat_2</th>\n",
              "      <th>feat_3</th>\n",
              "      <th>feat_4</th>\n",
              "      <th>feat_5</th>\n",
              "      <th>feat_6</th>\n",
              "      <th>feat_7</th>\n",
              "      <th>feat_8</th>\n",
              "      <th>feat_9</th>\n",
              "      <th>...</th>\n",
              "      <th>feat_85</th>\n",
              "      <th>feat_86</th>\n",
              "      <th>feat_87</th>\n",
              "      <th>feat_88</th>\n",
              "      <th>feat_89</th>\n",
              "      <th>feat_90</th>\n",
              "      <th>feat_91</th>\n",
              "      <th>feat_92</th>\n",
              "      <th>feat_93</th>\n",
              "      <th>target</th>\n",
              "    </tr>\n",
              "  </thead>\n",
              "  <tbody>\n",
              "    <tr>\n",
              "      <th>0</th>\n",
              "      <td>1</td>\n",
              "      <td>0.30103</td>\n",
              "      <td>0.0</td>\n",
              "      <td>0.0</td>\n",
              "      <td>0.00000</td>\n",
              "      <td>0.000000</td>\n",
              "      <td>0.00000</td>\n",
              "      <td>0.000000</td>\n",
              "      <td>0.00000</td>\n",
              "      <td>0.0</td>\n",
              "      <td>...</td>\n",
              "      <td>0.30103</td>\n",
              "      <td>0.00000</td>\n",
              "      <td>0.000000</td>\n",
              "      <td>0.0</td>\n",
              "      <td>0.0</td>\n",
              "      <td>0.00000</td>\n",
              "      <td>0.0</td>\n",
              "      <td>0.0</td>\n",
              "      <td>0.0</td>\n",
              "      <td>1</td>\n",
              "    </tr>\n",
              "    <tr>\n",
              "      <th>1</th>\n",
              "      <td>2</td>\n",
              "      <td>0.00000</td>\n",
              "      <td>0.0</td>\n",
              "      <td>0.0</td>\n",
              "      <td>0.00000</td>\n",
              "      <td>0.000000</td>\n",
              "      <td>0.00000</td>\n",
              "      <td>0.000000</td>\n",
              "      <td>0.30103</td>\n",
              "      <td>0.0</td>\n",
              "      <td>...</td>\n",
              "      <td>0.00000</td>\n",
              "      <td>0.00000</td>\n",
              "      <td>0.000000</td>\n",
              "      <td>0.0</td>\n",
              "      <td>0.0</td>\n",
              "      <td>0.00000</td>\n",
              "      <td>0.0</td>\n",
              "      <td>0.0</td>\n",
              "      <td>0.0</td>\n",
              "      <td>1</td>\n",
              "    </tr>\n",
              "    <tr>\n",
              "      <th>2</th>\n",
              "      <td>3</td>\n",
              "      <td>0.00000</td>\n",
              "      <td>0.0</td>\n",
              "      <td>0.0</td>\n",
              "      <td>0.00000</td>\n",
              "      <td>0.000000</td>\n",
              "      <td>0.00000</td>\n",
              "      <td>0.000000</td>\n",
              "      <td>0.30103</td>\n",
              "      <td>0.0</td>\n",
              "      <td>...</td>\n",
              "      <td>0.00000</td>\n",
              "      <td>0.00000</td>\n",
              "      <td>0.000000</td>\n",
              "      <td>0.0</td>\n",
              "      <td>0.0</td>\n",
              "      <td>0.00000</td>\n",
              "      <td>0.0</td>\n",
              "      <td>0.0</td>\n",
              "      <td>0.0</td>\n",
              "      <td>1</td>\n",
              "    </tr>\n",
              "    <tr>\n",
              "      <th>3</th>\n",
              "      <td>4</td>\n",
              "      <td>0.30103</td>\n",
              "      <td>0.0</td>\n",
              "      <td>0.0</td>\n",
              "      <td>0.30103</td>\n",
              "      <td>0.845098</td>\n",
              "      <td>0.30103</td>\n",
              "      <td>0.778151</td>\n",
              "      <td>0.00000</td>\n",
              "      <td>0.0</td>\n",
              "      <td>...</td>\n",
              "      <td>0.00000</td>\n",
              "      <td>0.30103</td>\n",
              "      <td>0.477121</td>\n",
              "      <td>0.0</td>\n",
              "      <td>0.0</td>\n",
              "      <td>0.00000</td>\n",
              "      <td>0.0</td>\n",
              "      <td>0.0</td>\n",
              "      <td>0.0</td>\n",
              "      <td>1</td>\n",
              "    </tr>\n",
              "    <tr>\n",
              "      <th>4</th>\n",
              "      <td>5</td>\n",
              "      <td>0.00000</td>\n",
              "      <td>0.0</td>\n",
              "      <td>0.0</td>\n",
              "      <td>0.00000</td>\n",
              "      <td>0.000000</td>\n",
              "      <td>0.00000</td>\n",
              "      <td>0.000000</td>\n",
              "      <td>0.00000</td>\n",
              "      <td>0.0</td>\n",
              "      <td>...</td>\n",
              "      <td>0.30103</td>\n",
              "      <td>0.00000</td>\n",
              "      <td>0.000000</td>\n",
              "      <td>0.0</td>\n",
              "      <td>0.0</td>\n",
              "      <td>0.30103</td>\n",
              "      <td>0.0</td>\n",
              "      <td>0.0</td>\n",
              "      <td>0.0</td>\n",
              "      <td>1</td>\n",
              "    </tr>\n",
              "  </tbody>\n",
              "</table>\n",
              "<p>5 rows × 95 columns</p>\n",
              "</div>"
            ],
            "text/plain": [
              "   id   feat_1  feat_2  feat_3   feat_4    feat_5   feat_6    feat_7   feat_8  \\\n",
              "0   1  0.30103     0.0     0.0  0.00000  0.000000  0.00000  0.000000  0.00000   \n",
              "1   2  0.00000     0.0     0.0  0.00000  0.000000  0.00000  0.000000  0.30103   \n",
              "2   3  0.00000     0.0     0.0  0.00000  0.000000  0.00000  0.000000  0.30103   \n",
              "3   4  0.30103     0.0     0.0  0.30103  0.845098  0.30103  0.778151  0.00000   \n",
              "4   5  0.00000     0.0     0.0  0.00000  0.000000  0.00000  0.000000  0.00000   \n",
              "\n",
              "   feat_9   ...    feat_85  feat_86   feat_87  feat_88  feat_89  feat_90  \\\n",
              "0     0.0   ...    0.30103  0.00000  0.000000      0.0      0.0  0.00000   \n",
              "1     0.0   ...    0.00000  0.00000  0.000000      0.0      0.0  0.00000   \n",
              "2     0.0   ...    0.00000  0.00000  0.000000      0.0      0.0  0.00000   \n",
              "3     0.0   ...    0.00000  0.30103  0.477121      0.0      0.0  0.00000   \n",
              "4     0.0   ...    0.30103  0.00000  0.000000      0.0      0.0  0.30103   \n",
              "\n",
              "   feat_91  feat_92  feat_93  target  \n",
              "0      0.0      0.0      0.0       1  \n",
              "1      0.0      0.0      0.0       1  \n",
              "2      0.0      0.0      0.0       1  \n",
              "3      0.0      0.0      0.0       1  \n",
              "4      0.0      0.0      0.0       1  \n",
              "\n",
              "[5 rows x 95 columns]"
            ]
          },
          "metadata": {
            "tags": []
          },
          "execution_count": 4
        }
      ]
    },
    {
      "metadata": {
        "id": "B-ja0et7AhBp",
        "colab_type": "code",
        "outputId": "594d605b-a550-4c22-feea-e418777983d4",
        "colab": {
          "base_uri": "https://localhost:8080/",
          "height": 333
        }
      },
      "cell_type": "code",
      "source": [
        "trainRaw.describe()"
      ],
      "execution_count": 0,
      "outputs": [
        {
          "output_type": "execute_result",
          "data": {
            "text/html": [
              "<div>\n",
              "<style scoped>\n",
              "    .dataframe tbody tr th:only-of-type {\n",
              "        vertical-align: middle;\n",
              "    }\n",
              "\n",
              "    .dataframe tbody tr th {\n",
              "        vertical-align: top;\n",
              "    }\n",
              "\n",
              "    .dataframe thead th {\n",
              "        text-align: right;\n",
              "    }\n",
              "</style>\n",
              "<table border=\"1\" class=\"dataframe\">\n",
              "  <thead>\n",
              "    <tr style=\"text-align: right;\">\n",
              "      <th></th>\n",
              "      <th>id</th>\n",
              "      <th>feat_1</th>\n",
              "      <th>feat_2</th>\n",
              "      <th>feat_3</th>\n",
              "      <th>feat_4</th>\n",
              "      <th>feat_5</th>\n",
              "      <th>feat_6</th>\n",
              "      <th>feat_7</th>\n",
              "      <th>feat_8</th>\n",
              "      <th>feat_9</th>\n",
              "      <th>...</th>\n",
              "      <th>feat_85</th>\n",
              "      <th>feat_86</th>\n",
              "      <th>feat_87</th>\n",
              "      <th>feat_88</th>\n",
              "      <th>feat_89</th>\n",
              "      <th>feat_90</th>\n",
              "      <th>feat_91</th>\n",
              "      <th>feat_92</th>\n",
              "      <th>feat_93</th>\n",
              "      <th>target</th>\n",
              "    </tr>\n",
              "  </thead>\n",
              "  <tbody>\n",
              "    <tr>\n",
              "      <th>count</th>\n",
              "      <td>61878.000000</td>\n",
              "      <td>61878.000000</td>\n",
              "      <td>61878.000000</td>\n",
              "      <td>61878.000000</td>\n",
              "      <td>61878.000000</td>\n",
              "      <td>61878.000000</td>\n",
              "      <td>61878.000000</td>\n",
              "      <td>61878.000000</td>\n",
              "      <td>61878.000000</td>\n",
              "      <td>61878.000000</td>\n",
              "      <td>...</td>\n",
              "      <td>61878.000000</td>\n",
              "      <td>61878.000000</td>\n",
              "      <td>61878.000000</td>\n",
              "      <td>61878.000000</td>\n",
              "      <td>61878.000000</td>\n",
              "      <td>61878.000000</td>\n",
              "      <td>61878.000000</td>\n",
              "      <td>61878.000000</td>\n",
              "      <td>61878.000000</td>\n",
              "      <td>61878.000000</td>\n",
              "    </tr>\n",
              "    <tr>\n",
              "      <th>mean</th>\n",
              "      <td>30939.500000</td>\n",
              "      <td>0.075185</td>\n",
              "      <td>0.049744</td>\n",
              "      <td>0.121108</td>\n",
              "      <td>0.117062</td>\n",
              "      <td>0.017380</td>\n",
              "      <td>0.006735</td>\n",
              "      <td>0.038128</td>\n",
              "      <td>0.120869</td>\n",
              "      <td>0.118816</td>\n",
              "      <td>...</td>\n",
              "      <td>0.096580</td>\n",
              "      <td>0.199564</td>\n",
              "      <td>0.080011</td>\n",
              "      <td>0.157608</td>\n",
              "      <td>0.093936</td>\n",
              "      <td>0.081122</td>\n",
              "      <td>0.036810</td>\n",
              "      <td>0.088084</td>\n",
              "      <td>0.024161</td>\n",
              "      <td>4.842335</td>\n",
              "    </tr>\n",
              "    <tr>\n",
              "      <th>std</th>\n",
              "      <td>17862.784315</td>\n",
              "      <td>0.188445</td>\n",
              "      <td>0.159492</td>\n",
              "      <td>0.281224</td>\n",
              "      <td>0.259088</td>\n",
              "      <td>0.083421</td>\n",
              "      <td>0.050803</td>\n",
              "      <td>0.138082</td>\n",
              "      <td>0.232394</td>\n",
              "      <td>0.292268</td>\n",
              "      <td>...</td>\n",
              "      <td>0.215920</td>\n",
              "      <td>0.283516</td>\n",
              "      <td>0.184629</td>\n",
              "      <td>0.265143</td>\n",
              "      <td>0.198915</td>\n",
              "      <td>0.250462</td>\n",
              "      <td>0.151920</td>\n",
              "      <td>0.181542</td>\n",
              "      <td>0.107565</td>\n",
              "      <td>2.510794</td>\n",
              "    </tr>\n",
              "    <tr>\n",
              "      <th>min</th>\n",
              "      <td>1.000000</td>\n",
              "      <td>0.000000</td>\n",
              "      <td>0.000000</td>\n",
              "      <td>0.000000</td>\n",
              "      <td>0.000000</td>\n",
              "      <td>0.000000</td>\n",
              "      <td>0.000000</td>\n",
              "      <td>0.000000</td>\n",
              "      <td>0.000000</td>\n",
              "      <td>0.000000</td>\n",
              "      <td>...</td>\n",
              "      <td>0.000000</td>\n",
              "      <td>0.000000</td>\n",
              "      <td>0.000000</td>\n",
              "      <td>0.000000</td>\n",
              "      <td>0.000000</td>\n",
              "      <td>0.000000</td>\n",
              "      <td>0.000000</td>\n",
              "      <td>0.000000</td>\n",
              "      <td>0.000000</td>\n",
              "      <td>1.000000</td>\n",
              "    </tr>\n",
              "    <tr>\n",
              "      <th>25%</th>\n",
              "      <td>15470.250000</td>\n",
              "      <td>0.000000</td>\n",
              "      <td>0.000000</td>\n",
              "      <td>0.000000</td>\n",
              "      <td>0.000000</td>\n",
              "      <td>0.000000</td>\n",
              "      <td>0.000000</td>\n",
              "      <td>0.000000</td>\n",
              "      <td>0.000000</td>\n",
              "      <td>0.000000</td>\n",
              "      <td>...</td>\n",
              "      <td>0.000000</td>\n",
              "      <td>0.000000</td>\n",
              "      <td>0.000000</td>\n",
              "      <td>0.000000</td>\n",
              "      <td>0.000000</td>\n",
              "      <td>0.000000</td>\n",
              "      <td>0.000000</td>\n",
              "      <td>0.000000</td>\n",
              "      <td>0.000000</td>\n",
              "      <td>2.000000</td>\n",
              "    </tr>\n",
              "    <tr>\n",
              "      <th>50%</th>\n",
              "      <td>30939.500000</td>\n",
              "      <td>0.000000</td>\n",
              "      <td>0.000000</td>\n",
              "      <td>0.000000</td>\n",
              "      <td>0.000000</td>\n",
              "      <td>0.000000</td>\n",
              "      <td>0.000000</td>\n",
              "      <td>0.000000</td>\n",
              "      <td>0.000000</td>\n",
              "      <td>0.000000</td>\n",
              "      <td>...</td>\n",
              "      <td>0.000000</td>\n",
              "      <td>0.000000</td>\n",
              "      <td>0.000000</td>\n",
              "      <td>0.000000</td>\n",
              "      <td>0.000000</td>\n",
              "      <td>0.000000</td>\n",
              "      <td>0.000000</td>\n",
              "      <td>0.000000</td>\n",
              "      <td>0.000000</td>\n",
              "      <td>5.000000</td>\n",
              "    </tr>\n",
              "    <tr>\n",
              "      <th>75%</th>\n",
              "      <td>46408.750000</td>\n",
              "      <td>0.000000</td>\n",
              "      <td>0.000000</td>\n",
              "      <td>0.000000</td>\n",
              "      <td>0.000000</td>\n",
              "      <td>0.000000</td>\n",
              "      <td>0.000000</td>\n",
              "      <td>0.000000</td>\n",
              "      <td>0.301030</td>\n",
              "      <td>0.000000</td>\n",
              "      <td>...</td>\n",
              "      <td>0.000000</td>\n",
              "      <td>0.301030</td>\n",
              "      <td>0.000000</td>\n",
              "      <td>0.301030</td>\n",
              "      <td>0.000000</td>\n",
              "      <td>0.000000</td>\n",
              "      <td>0.000000</td>\n",
              "      <td>0.000000</td>\n",
              "      <td>0.000000</td>\n",
              "      <td>7.000000</td>\n",
              "    </tr>\n",
              "    <tr>\n",
              "      <th>max</th>\n",
              "      <td>61878.000000</td>\n",
              "      <td>1.792392</td>\n",
              "      <td>1.716003</td>\n",
              "      <td>1.812913</td>\n",
              "      <td>1.851258</td>\n",
              "      <td>1.301030</td>\n",
              "      <td>1.041393</td>\n",
              "      <td>1.591065</td>\n",
              "      <td>1.886491</td>\n",
              "      <td>1.643453</td>\n",
              "      <td>...</td>\n",
              "      <td>1.748188</td>\n",
              "      <td>1.819544</td>\n",
              "      <td>1.832509</td>\n",
              "      <td>1.491362</td>\n",
              "      <td>1.792392</td>\n",
              "      <td>2.117271</td>\n",
              "      <td>1.724276</td>\n",
              "      <td>1.301030</td>\n",
              "      <td>1.944483</td>\n",
              "      <td>9.000000</td>\n",
              "    </tr>\n",
              "  </tbody>\n",
              "</table>\n",
              "<p>8 rows × 95 columns</p>\n",
              "</div>"
            ],
            "text/plain": [
              "                 id        feat_1        feat_2        feat_3        feat_4  \\\n",
              "count  61878.000000  61878.000000  61878.000000  61878.000000  61878.000000   \n",
              "mean   30939.500000      0.075185      0.049744      0.121108      0.117062   \n",
              "std    17862.784315      0.188445      0.159492      0.281224      0.259088   \n",
              "min        1.000000      0.000000      0.000000      0.000000      0.000000   \n",
              "25%    15470.250000      0.000000      0.000000      0.000000      0.000000   \n",
              "50%    30939.500000      0.000000      0.000000      0.000000      0.000000   \n",
              "75%    46408.750000      0.000000      0.000000      0.000000      0.000000   \n",
              "max    61878.000000      1.792392      1.716003      1.812913      1.851258   \n",
              "\n",
              "             feat_5        feat_6        feat_7        feat_8        feat_9  \\\n",
              "count  61878.000000  61878.000000  61878.000000  61878.000000  61878.000000   \n",
              "mean       0.017380      0.006735      0.038128      0.120869      0.118816   \n",
              "std        0.083421      0.050803      0.138082      0.232394      0.292268   \n",
              "min        0.000000      0.000000      0.000000      0.000000      0.000000   \n",
              "25%        0.000000      0.000000      0.000000      0.000000      0.000000   \n",
              "50%        0.000000      0.000000      0.000000      0.000000      0.000000   \n",
              "75%        0.000000      0.000000      0.000000      0.301030      0.000000   \n",
              "max        1.301030      1.041393      1.591065      1.886491      1.643453   \n",
              "\n",
              "           ...            feat_85       feat_86       feat_87       feat_88  \\\n",
              "count      ...       61878.000000  61878.000000  61878.000000  61878.000000   \n",
              "mean       ...           0.096580      0.199564      0.080011      0.157608   \n",
              "std        ...           0.215920      0.283516      0.184629      0.265143   \n",
              "min        ...           0.000000      0.000000      0.000000      0.000000   \n",
              "25%        ...           0.000000      0.000000      0.000000      0.000000   \n",
              "50%        ...           0.000000      0.000000      0.000000      0.000000   \n",
              "75%        ...           0.000000      0.301030      0.000000      0.301030   \n",
              "max        ...           1.748188      1.819544      1.832509      1.491362   \n",
              "\n",
              "            feat_89       feat_90       feat_91       feat_92       feat_93  \\\n",
              "count  61878.000000  61878.000000  61878.000000  61878.000000  61878.000000   \n",
              "mean       0.093936      0.081122      0.036810      0.088084      0.024161   \n",
              "std        0.198915      0.250462      0.151920      0.181542      0.107565   \n",
              "min        0.000000      0.000000      0.000000      0.000000      0.000000   \n",
              "25%        0.000000      0.000000      0.000000      0.000000      0.000000   \n",
              "50%        0.000000      0.000000      0.000000      0.000000      0.000000   \n",
              "75%        0.000000      0.000000      0.000000      0.000000      0.000000   \n",
              "max        1.792392      2.117271      1.724276      1.301030      1.944483   \n",
              "\n",
              "             target  \n",
              "count  61878.000000  \n",
              "mean       4.842335  \n",
              "std        2.510794  \n",
              "min        1.000000  \n",
              "25%        2.000000  \n",
              "50%        5.000000  \n",
              "75%        7.000000  \n",
              "max        9.000000  \n",
              "\n",
              "[8 rows x 95 columns]"
            ]
          },
          "metadata": {
            "tags": []
          },
          "execution_count": 43
        }
      ]
    },
    {
      "metadata": {
        "id": "dicCiucCHxRV",
        "colab_type": "code",
        "outputId": "755063d3-106a-4410-a155-736f3c0bb540",
        "colab": {
          "base_uri": "https://localhost:8080/",
          "height": 253
        }
      },
      "cell_type": "code",
      "source": [
        "test = log_scale(preTest)\n",
        "test.head()"
      ],
      "execution_count": 16,
      "outputs": [
        {
          "output_type": "execute_result",
          "data": {
            "text/html": [
              "<div>\n",
              "<style scoped>\n",
              "    .dataframe tbody tr th:only-of-type {\n",
              "        vertical-align: middle;\n",
              "    }\n",
              "\n",
              "    .dataframe tbody tr th {\n",
              "        vertical-align: top;\n",
              "    }\n",
              "\n",
              "    .dataframe thead th {\n",
              "        text-align: right;\n",
              "    }\n",
              "</style>\n",
              "<table border=\"1\" class=\"dataframe\">\n",
              "  <thead>\n",
              "    <tr style=\"text-align: right;\">\n",
              "      <th></th>\n",
              "      <th>id</th>\n",
              "      <th>feat_1</th>\n",
              "      <th>feat_2</th>\n",
              "      <th>feat_3</th>\n",
              "      <th>feat_4</th>\n",
              "      <th>feat_5</th>\n",
              "      <th>feat_6</th>\n",
              "      <th>feat_7</th>\n",
              "      <th>feat_8</th>\n",
              "      <th>feat_9</th>\n",
              "      <th>...</th>\n",
              "      <th>feat_84</th>\n",
              "      <th>feat_85</th>\n",
              "      <th>feat_86</th>\n",
              "      <th>feat_87</th>\n",
              "      <th>feat_88</th>\n",
              "      <th>feat_89</th>\n",
              "      <th>feat_90</th>\n",
              "      <th>feat_91</th>\n",
              "      <th>feat_92</th>\n",
              "      <th>feat_93</th>\n",
              "    </tr>\n",
              "  </thead>\n",
              "  <tbody>\n",
              "    <tr>\n",
              "      <th>0</th>\n",
              "      <td>1</td>\n",
              "      <td>0.000000</td>\n",
              "      <td>0.000000</td>\n",
              "      <td>0.000000</td>\n",
              "      <td>0.000000</td>\n",
              "      <td>0.0</td>\n",
              "      <td>0.0</td>\n",
              "      <td>0.00000</td>\n",
              "      <td>0.000000</td>\n",
              "      <td>0.0</td>\n",
              "      <td>...</td>\n",
              "      <td>0.0</td>\n",
              "      <td>0.00000</td>\n",
              "      <td>1.079181</td>\n",
              "      <td>0.30103</td>\n",
              "      <td>1.322219</td>\n",
              "      <td>0.00000</td>\n",
              "      <td>0.0</td>\n",
              "      <td>0.0</td>\n",
              "      <td>0.000000</td>\n",
              "      <td>0.00000</td>\n",
              "    </tr>\n",
              "    <tr>\n",
              "      <th>1</th>\n",
              "      <td>2</td>\n",
              "      <td>0.477121</td>\n",
              "      <td>0.477121</td>\n",
              "      <td>1.176091</td>\n",
              "      <td>1.230449</td>\n",
              "      <td>0.0</td>\n",
              "      <td>0.0</td>\n",
              "      <td>0.00000</td>\n",
              "      <td>0.000000</td>\n",
              "      <td>0.0</td>\n",
              "      <td>...</td>\n",
              "      <td>0.0</td>\n",
              "      <td>0.00000</td>\n",
              "      <td>0.000000</td>\n",
              "      <td>0.00000</td>\n",
              "      <td>0.000000</td>\n",
              "      <td>0.69897</td>\n",
              "      <td>0.0</td>\n",
              "      <td>0.0</td>\n",
              "      <td>0.477121</td>\n",
              "      <td>0.00000</td>\n",
              "    </tr>\n",
              "    <tr>\n",
              "      <th>2</th>\n",
              "      <td>3</td>\n",
              "      <td>0.000000</td>\n",
              "      <td>0.301030</td>\n",
              "      <td>1.113943</td>\n",
              "      <td>0.301030</td>\n",
              "      <td>0.0</td>\n",
              "      <td>0.0</td>\n",
              "      <td>0.00000</td>\n",
              "      <td>0.000000</td>\n",
              "      <td>0.0</td>\n",
              "      <td>...</td>\n",
              "      <td>0.0</td>\n",
              "      <td>0.00000</td>\n",
              "      <td>0.000000</td>\n",
              "      <td>0.00000</td>\n",
              "      <td>0.477121</td>\n",
              "      <td>0.00000</td>\n",
              "      <td>0.0</td>\n",
              "      <td>0.0</td>\n",
              "      <td>0.000000</td>\n",
              "      <td>0.30103</td>\n",
              "    </tr>\n",
              "    <tr>\n",
              "      <th>3</th>\n",
              "      <td>4</td>\n",
              "      <td>0.000000</td>\n",
              "      <td>0.000000</td>\n",
              "      <td>0.000000</td>\n",
              "      <td>0.301030</td>\n",
              "      <td>0.0</td>\n",
              "      <td>0.0</td>\n",
              "      <td>0.00000</td>\n",
              "      <td>0.000000</td>\n",
              "      <td>0.0</td>\n",
              "      <td>...</td>\n",
              "      <td>0.0</td>\n",
              "      <td>0.60206</td>\n",
              "      <td>0.301030</td>\n",
              "      <td>0.00000</td>\n",
              "      <td>0.000000</td>\n",
              "      <td>0.00000</td>\n",
              "      <td>0.0</td>\n",
              "      <td>0.0</td>\n",
              "      <td>0.000000</td>\n",
              "      <td>0.00000</td>\n",
              "    </tr>\n",
              "    <tr>\n",
              "      <th>4</th>\n",
              "      <td>5</td>\n",
              "      <td>0.301030</td>\n",
              "      <td>0.000000</td>\n",
              "      <td>0.000000</td>\n",
              "      <td>0.301030</td>\n",
              "      <td>0.0</td>\n",
              "      <td>0.0</td>\n",
              "      <td>0.30103</td>\n",
              "      <td>0.477121</td>\n",
              "      <td>0.0</td>\n",
              "      <td>...</td>\n",
              "      <td>0.0</td>\n",
              "      <td>0.00000</td>\n",
              "      <td>0.000000</td>\n",
              "      <td>0.00000</td>\n",
              "      <td>0.000000</td>\n",
              "      <td>0.00000</td>\n",
              "      <td>0.0</td>\n",
              "      <td>1.0</td>\n",
              "      <td>0.000000</td>\n",
              "      <td>0.00000</td>\n",
              "    </tr>\n",
              "  </tbody>\n",
              "</table>\n",
              "<p>5 rows × 94 columns</p>\n",
              "</div>"
            ],
            "text/plain": [
              "   id    feat_1    feat_2    feat_3    feat_4  feat_5  feat_6   feat_7  \\\n",
              "0   1  0.000000  0.000000  0.000000  0.000000     0.0     0.0  0.00000   \n",
              "1   2  0.477121  0.477121  1.176091  1.230449     0.0     0.0  0.00000   \n",
              "2   3  0.000000  0.301030  1.113943  0.301030     0.0     0.0  0.00000   \n",
              "3   4  0.000000  0.000000  0.000000  0.301030     0.0     0.0  0.00000   \n",
              "4   5  0.301030  0.000000  0.000000  0.301030     0.0     0.0  0.30103   \n",
              "\n",
              "     feat_8  feat_9   ...     feat_84  feat_85   feat_86  feat_87   feat_88  \\\n",
              "0  0.000000     0.0   ...         0.0  0.00000  1.079181  0.30103  1.322219   \n",
              "1  0.000000     0.0   ...         0.0  0.00000  0.000000  0.00000  0.000000   \n",
              "2  0.000000     0.0   ...         0.0  0.00000  0.000000  0.00000  0.477121   \n",
              "3  0.000000     0.0   ...         0.0  0.60206  0.301030  0.00000  0.000000   \n",
              "4  0.477121     0.0   ...         0.0  0.00000  0.000000  0.00000  0.000000   \n",
              "\n",
              "   feat_89  feat_90  feat_91   feat_92  feat_93  \n",
              "0  0.00000      0.0      0.0  0.000000  0.00000  \n",
              "1  0.69897      0.0      0.0  0.477121  0.00000  \n",
              "2  0.00000      0.0      0.0  0.000000  0.30103  \n",
              "3  0.00000      0.0      0.0  0.000000  0.00000  \n",
              "4  0.00000      0.0      1.0  0.000000  0.00000  \n",
              "\n",
              "[5 rows x 94 columns]"
            ]
          },
          "metadata": {
            "tags": []
          },
          "execution_count": 16
        }
      ]
    },
    {
      "metadata": {
        "id": "-ET1szASEb18",
        "colab_type": "text"
      },
      "cell_type": "markdown",
      "source": [
        "# Deep Learning 적용"
      ]
    },
    {
      "metadata": {
        "id": "7bZat35-H1UE",
        "colab_type": "text"
      },
      "cell_type": "markdown",
      "source": [
        "## Relu 3 layers Adam \n",
        "## 256 Nodes Xavier"
      ]
    },
    {
      "metadata": {
        "id": "Jl0OAXQ0HumK",
        "colab_type": "code",
        "colab": {}
      },
      "cell_type": "code",
      "source": [
        "tf.set_random_seed(777)\n",
        "\n",
        "# xavier 변수 초기화\n",
        "tf.reset_default_graph()\n",
        "\n",
        "global_step = tf.Variable(0, trainable=False, name='global_step')\n",
        "\n",
        "nb_classes = 10\n",
        "\n",
        "X = tf.placeholder(tf.float32, [None, 93])\n",
        "Y = tf.placeholder(tf.int32, [None, 1])\n",
        "\n",
        "Y_one_hot = tf.one_hot(Y, nb_classes)\n",
        "\n",
        "Y_one_hot = tf.reshape(Y_one_hot, [-1, nb_classes])\n",
        "\n",
        "W1 = tf.get_variable(\"W1\", shape=[93, 256],\n",
        "                     initializer=tf.contrib.layers.xavier_initializer())\n",
        "b1 = tf.Variable(tf.random_normal([256]))\n",
        "L1 = tf.nn.relu(tf.matmul(X, W1) + b1)\n",
        "\n",
        "W2 = tf.get_variable(\"W2\", shape=[256, 256],\n",
        "                     initializer=tf.contrib.layers.xavier_initializer())\n",
        "b2 = tf.Variable(tf.random_normal([256]))\n",
        "L2 = tf.nn.relu(tf.matmul(L1, W2) + b2)\n",
        "\n",
        "W3 = tf.get_variable(\"W3\", shape=[256, 10],\n",
        "                     initializer=tf.contrib.layers.xavier_initializer())\n",
        "b3 = tf.Variable(tf.random_normal([10]))\n",
        "\n",
        "logits = tf.matmul(L2, W3) + b3\n",
        "hypothesis = tf.nn.softmax(logits)\n",
        "\n",
        "cost = tf.reduce_mean(tf.nn.softmax_cross_entropy_with_logits_v2(logits=logits, labels=Y_one_hot))\n",
        "optimizer = tf.train.AdamOptimizer(learning_rate=1e-3).minimize(cost)\n",
        "\n",
        "prediction = tf.argmax(hypothesis, 1)\n",
        "correct_prediction = tf.equal(prediction, tf.argmax(Y_one_hot, 1))\n",
        "accuracy = tf.reduce_mean(tf.cast(correct_prediction, tf.float32))"
      ],
      "execution_count": 0,
      "outputs": []
    },
    {
      "metadata": {
        "id": "b6oW1hdlH7db",
        "colab_type": "code",
        "outputId": "a5a7eda0-b5a8-4aa5-acd9-2e22167c4338",
        "colab": {
          "base_uri": "https://localhost:8080/",
          "height": 251
        }
      },
      "cell_type": "code",
      "source": [
        "# Launch the graph in a session.\n",
        "sess = tf.Session()\n",
        "# Initializes global variables in the graph.\n",
        "sess.run(tf.global_variables_initializer())\n",
        "\n",
        "for step in range(3001):\n",
        "    sess.run(optimizer, feed_dict={X: tmpTrain.iloc[:, 1:94], Y: tmpTrain.iloc[:, -1:]})\n",
        "    if step % 1000 == 0 or (step % 100 == 0 and step < 1000):\n",
        "        loss, acc, result = sess.run([cost, accuracy, hypothesis], \n",
        "                                     feed_dict={X: tmpTrain.iloc[:, 1:94], \n",
        "                                                Y: tmpTrain.iloc[:, -1:]})\n",
        "        print(\"Step: {:5}, Loss: {:.3f}, Acc: {:.2%}\".format(step, loss, acc))"
      ],
      "execution_count": 0,
      "outputs": [
        {
          "output_type": "stream",
          "text": [
            "Step:     0, Loss: 2.140, Acc: 20.91%\n",
            "Step:   100, Loss: 0.957, Acc: 68.87%\n",
            "Step:   200, Loss: 0.694, Acc: 73.65%\n",
            "Step:   300, Loss: 0.627, Acc: 76.00%\n",
            "Step:   400, Loss: 0.589, Acc: 77.44%\n",
            "Step:   500, Loss: 0.561, Acc: 78.44%\n",
            "Step:   600, Loss: 0.536, Acc: 79.29%\n",
            "Step:   700, Loss: 0.508, Acc: 80.29%\n",
            "Step:   800, Loss: 0.480, Acc: 81.37%\n",
            "Step:   900, Loss: 0.451, Acc: 82.56%\n",
            "Step:  1000, Loss: 0.423, Acc: 83.84%\n",
            "Step:  2000, Loss: 0.223, Acc: 92.50%\n",
            "Step:  3000, Loss: 0.127, Acc: 96.04%\n"
          ],
          "name": "stdout"
        }
      ]
    },
    {
      "metadata": {
        "id": "haNww8wDJ9oK",
        "colab_type": "text"
      },
      "cell_type": "markdown",
      "source": [
        "## Relu 3layers Adam Xavier\n",
        "## 256Nodes Xavier Drop out"
      ]
    },
    {
      "metadata": {
        "id": "GjQtYb5OJ8bY",
        "colab_type": "code",
        "outputId": "60eba982-1968-438a-e1aa-aea10e5db118",
        "colab": {
          "base_uri": "https://localhost:8080/",
          "height": 35
        }
      },
      "cell_type": "code",
      "source": [
        "tf.set_random_seed(777)\n",
        "\n",
        "# xavier 변수 초기화\n",
        "tf.reset_default_graph()\n",
        "\n",
        "global_step = tf.Variable(0, trainable=False, name='global_step')\n",
        "\n",
        "# 입력 출력 데이터 분류\n",
        "\n",
        "nb_classes = 10\n",
        "\n",
        "X = tf.placeholder(tf.float32, [None, 93])\n",
        "Y = tf.placeholder(tf.int32, [None, 1])\n",
        "keep_prob = tf.placeholder(tf.float32)\n",
        "\n",
        "Y_one_hot = tf.one_hot(Y, nb_classes)\n",
        "\n",
        "Y_one_hot = tf.reshape(Y_one_hot, [-1, nb_classes])\n",
        "\n",
        "W1 = tf.get_variable(\"W1\", shape=[93, 256],\n",
        "                     initializer=tf.contrib.layers.xavier_initializer())\n",
        "b1 = tf.Variable(tf.random_normal([256]))\n",
        "L1 = tf.nn.relu(tf.matmul(X, W1) + b1)\n",
        "L1 = tf.nn.dropout(L1, keep_prob=keep_prob)\n",
        "\n",
        "W2 = tf.get_variable(\"W2\", shape=[256, 256],\n",
        "                     initializer=tf.contrib.layers.xavier_initializer())\n",
        "b2 = tf.Variable(tf.random_normal([256]))\n",
        "L2 = tf.nn.relu(tf.matmul(L1, W2) + b2)\n",
        "L2 = tf.nn.dropout(L2, keep_prob=keep_prob)\n",
        "\n",
        "W3 = tf.get_variable(\"W3\", shape=[256, 10],\n",
        "                     initializer=tf.contrib.layers.xavier_initializer())\n",
        "b3 = tf.Variable(tf.random_normal([10]))\n",
        "\n",
        "logits = tf.matmul(L2, W3) + b3\n",
        "hypothesis = tf.nn.softmax(logits)\n",
        "\n",
        "cost = tf.reduce_mean(tf.nn.softmax_cross_entropy_with_logits(logits=logits, labels=Y_one_hot))\n",
        "optimizer = tf.train.AdamOptimizer(learning_rate=1e-3).minimize(cost)\n",
        "\n",
        "prediction = tf.argmax(hypothesis, 1)\n",
        "correct_prediction = tf.equal(prediction, tf.argmax(Y_one_hot, 1))\n",
        "accuracy = tf.reduce_mean(tf.cast(correct_prediction, tf.float32))"
      ],
      "execution_count": 0,
      "outputs": [
        {
          "output_type": "stream",
          "text": [
            "(61878, 93) (61878, 1)\n"
          ],
          "name": "stdout"
        }
      ]
    },
    {
      "metadata": {
        "id": "3QPMhcrYNTPx",
        "colab_type": "code",
        "colab": {}
      },
      "cell_type": "code",
      "source": [
        "# Launch the graph in a session.\n",
        "sess = tf.Session()\n",
        "# Initializes global variables in the graph.\n",
        "sess.run(tf.global_variables_initializer())\n",
        "\n",
        "for step in range(10001):\n",
        "    sess.run(optimizer, feed_dict={X: xData, Y: yData, keep_prob: 0.75})\n",
        "    if step % 1000 == 0 or (step % 100 == 0 and step < 1000):\n",
        "        loss, acc, result = sess.run([cost, accuracy, hypothesis], \n",
        "                                     feed_dict={X: xData, Y: yData, keep_prob: 0.75})\n",
        "        print(\"Step: {:5}, Loss: {:.3f}, Acc: {:.2%}\".format(\n",
        "            step, loss, acc))"
      ],
      "execution_count": 0,
      "outputs": []
    },
    {
      "metadata": {
        "id": "BUgsMH8HSqV7",
        "colab_type": "text"
      },
      "cell_type": "markdown",
      "source": [
        "# 과적합 방지"
      ]
    },
    {
      "metadata": {
        "id": "VlguN4XoChlp",
        "colab_type": "text"
      },
      "cell_type": "markdown",
      "source": [
        "## Validation data 생성"
      ]
    },
    {
      "metadata": {
        "id": "jf8bnIS-CkEr",
        "colab_type": "code",
        "colab": {}
      },
      "cell_type": "code",
      "source": [
        "def validIndex(data, ratio):\n",
        "  numList = range(len(data))\n",
        "  numExtract = round(len(data)*ratio)\n",
        "  numSample = random.sample(numList, numExtract)\n",
        "  onlyTrain = []\n",
        "  for n in numList:\n",
        "    if n not in numSample: onlyTrain.append(n)\n",
        "  return data.iloc[numSample], data.iloc[onlyTrain]"
      ],
      "execution_count": 0,
      "outputs": []
    },
    {
      "metadata": {
        "id": "VG7Nf_DOI7SK",
        "colab_type": "code",
        "outputId": "5e06b604-db85-449a-d6a9-4624458ceb9a",
        "colab": {
          "base_uri": "https://localhost:8080/",
          "height": 35
        }
      },
      "cell_type": "code",
      "source": [
        "validation, remain = validIndex(trainRaw, 0.15)\n",
        "len(validation), len(remain)"
      ],
      "execution_count": 7,
      "outputs": [
        {
          "output_type": "execute_result",
          "data": {
            "text/plain": [
              "(9282, 52596)"
            ]
          },
          "metadata": {
            "tags": []
          },
          "execution_count": 7
        }
      ]
    },
    {
      "metadata": {
        "id": "sJLBTn8QGIb8",
        "colab_type": "text"
      },
      "cell_type": "markdown",
      "source": [
        "## validation 데이터를 제외한 train 데이터 분할"
      ]
    },
    {
      "metadata": {
        "id": "nGBPcgxrcgf8",
        "colab_type": "code",
        "outputId": "33fb5137-4a76-4607-818b-12c1b6a4d94f",
        "colab": {
          "base_uri": "https://localhost:8080/",
          "height": 35
        }
      },
      "cell_type": "code",
      "source": [
        "tmpTrain, remain = validIndex(remain, 1.0)\n",
        "len(tmpTrain), len(remain)"
      ],
      "execution_count": 9,
      "outputs": [
        {
          "output_type": "execute_result",
          "data": {
            "text/plain": [
              "(52596, 0)"
            ]
          },
          "metadata": {
            "tags": []
          },
          "execution_count": 9
        }
      ]
    },
    {
      "metadata": {
        "id": "icvMkSTK0dCX",
        "colab_type": "text"
      },
      "cell_type": "markdown",
      "source": [
        "## weight 저장 폴더 생성"
      ]
    },
    {
      "metadata": {
        "id": "Bh_2bcN_UTWR",
        "colab_type": "code",
        "colab": {}
      },
      "cell_type": "code",
      "source": [
        "# 학습모델 저장폴더 생성\n",
        "MODEL_DIR = './models/nodrop'\n",
        "if not os.path.exists(MODEL_DIR):\n",
        "    os.mkdir(MODEL_DIR)"
      ],
      "execution_count": 0,
      "outputs": []
    },
    {
      "metadata": {
        "id": "vcmx7BryF1EM",
        "colab_type": "text"
      },
      "cell_type": "markdown",
      "source": [
        "## 학습된 weight를 validation에 적용 및 정확도 출력"
      ]
    },
    {
      "metadata": {
        "id": "RNjS7kE_Suaa",
        "colab_type": "code",
        "outputId": "a443ac6b-72a5-42fc-b2dc-26988423d239",
        "colab": {
          "base_uri": "https://localhost:8080/",
          "height": 35
        }
      },
      "cell_type": "code",
      "source": [
        "accracy = sess.run(accuracy, feed_dict={X: validation.iloc[:, 1:94], \n",
        "                                        Y: validation.iloc[:, -1:]})\n",
        "accracy"
      ],
      "execution_count": 74,
      "outputs": [
        {
          "output_type": "execute_result",
          "data": {
            "text/plain": [
              "0.7955182"
            ]
          },
          "metadata": {
            "tags": []
          },
          "execution_count": 74
        }
      ]
    },
    {
      "metadata": {
        "id": "hSNtqQMMGcc2",
        "colab_type": "text"
      },
      "cell_type": "markdown",
      "source": [
        "## 다양한 횟수로 학습한 것 중 최적의 weight를 출력하는 함수"
      ]
    },
    {
      "metadata": {
        "id": "PWmX1M7h0JBp",
        "colab_type": "code",
        "colab": {}
      },
      "cell_type": "code",
      "source": [
        "sess = tf.Session()"
      ],
      "execution_count": 0,
      "outputs": []
    },
    {
      "metadata": {
        "id": "GLbV506spWvd",
        "colab_type": "code",
        "colab": {}
      },
      "cell_type": "code",
      "source": [
        "# 여러 스텝 중 최적의 weight를 구하는 함수\n",
        "def check_acc(num):\n",
        "  accList = []\n",
        "  for n in range(1, num+1):\n",
        "    realStep = 10*n+1\n",
        "    chkpoint = tf.train.get_checkpoint_state('./models/nodrop')\n",
        "    if chkpoint and tf.train.checkpoint_exists(chkpoint.model_checkpoint_path):\n",
        "      saver.restore(sess, chkpoint.model_checkpoint_path)\n",
        "    else:\n",
        "      sess.run(tf.global_variables_initializer())\n",
        "    \n",
        "    for step in range(realStep):\n",
        "      sess.run(optimizer, feed_dict={X: tmpTrain.iloc[:, 1:94], Y: tmpTrain.iloc[:, -1:]})\n",
        "          \n",
        "    accracy = sess.run(accuracy, feed_dict={X: validation.iloc[:, 1:94], \n",
        "                                            Y: validation.iloc[:, -1:]})\n",
        "    accList.append(accracy)\n",
        "    \n",
        "    if n % 10 ==0: print(\"{} {}\".format(n, len(accList)), end ='\\t')\n",
        "  return accList"
      ],
      "execution_count": 0,
      "outputs": []
    },
    {
      "metadata": {
        "id": "2XmANycfrCiq",
        "colab_type": "code",
        "colab": {
          "base_uri": "https://localhost:8080/",
          "height": 575
        },
        "outputId": "587f5d7b-6379-4920-f8a7-f2216ca4ace8"
      },
      "cell_type": "code",
      "source": [
        "accList = check_acc(30)"
      ],
      "execution_count": 69,
      "outputs": [
        {
          "output_type": "stream",
          "text": [
            "INFO:tensorflow:Restoring parameters from ./models/nodrop/lay3.1e3.step1-0\n",
            "INFO:tensorflow:Restoring parameters from ./models/nodrop/lay3.1e3.step1-0\n",
            "INFO:tensorflow:Restoring parameters from ./models/nodrop/lay3.1e3.step1-0\n",
            "INFO:tensorflow:Restoring parameters from ./models/nodrop/lay3.1e3.step1-0\n",
            "INFO:tensorflow:Restoring parameters from ./models/nodrop/lay3.1e3.step1-0\n",
            "INFO:tensorflow:Restoring parameters from ./models/nodrop/lay3.1e3.step1-0\n",
            "INFO:tensorflow:Restoring parameters from ./models/nodrop/lay3.1e3.step1-0\n",
            "INFO:tensorflow:Restoring parameters from ./models/nodrop/lay3.1e3.step1-0\n",
            "INFO:tensorflow:Restoring parameters from ./models/nodrop/lay3.1e3.step1-0\n",
            "INFO:tensorflow:Restoring parameters from ./models/nodrop/lay3.1e3.step1-0\n",
            "10 10\tINFO:tensorflow:Restoring parameters from ./models/nodrop/lay3.1e3.step1-0\n",
            "INFO:tensorflow:Restoring parameters from ./models/nodrop/lay3.1e3.step1-0\n",
            "INFO:tensorflow:Restoring parameters from ./models/nodrop/lay3.1e3.step1-0\n",
            "INFO:tensorflow:Restoring parameters from ./models/nodrop/lay3.1e3.step1-0\n",
            "INFO:tensorflow:Restoring parameters from ./models/nodrop/lay3.1e3.step1-0\n",
            "INFO:tensorflow:Restoring parameters from ./models/nodrop/lay3.1e3.step1-0\n",
            "INFO:tensorflow:Restoring parameters from ./models/nodrop/lay3.1e3.step1-0\n",
            "INFO:tensorflow:Restoring parameters from ./models/nodrop/lay3.1e3.step1-0\n",
            "INFO:tensorflow:Restoring parameters from ./models/nodrop/lay3.1e3.step1-0\n",
            "INFO:tensorflow:Restoring parameters from ./models/nodrop/lay3.1e3.step1-0\n",
            "20 20\tINFO:tensorflow:Restoring parameters from ./models/nodrop/lay3.1e3.step1-0\n",
            "INFO:tensorflow:Restoring parameters from ./models/nodrop/lay3.1e3.step1-0\n",
            "INFO:tensorflow:Restoring parameters from ./models/nodrop/lay3.1e3.step1-0\n",
            "INFO:tensorflow:Restoring parameters from ./models/nodrop/lay3.1e3.step1-0\n",
            "INFO:tensorflow:Restoring parameters from ./models/nodrop/lay3.1e3.step1-0\n",
            "INFO:tensorflow:Restoring parameters from ./models/nodrop/lay3.1e3.step1-0\n",
            "INFO:tensorflow:Restoring parameters from ./models/nodrop/lay3.1e3.step1-0\n",
            "INFO:tensorflow:Restoring parameters from ./models/nodrop/lay3.1e3.step1-0\n",
            "INFO:tensorflow:Restoring parameters from ./models/nodrop/lay3.1e3.step1-0\n",
            "INFO:tensorflow:Restoring parameters from ./models/nodrop/lay3.1e3.step1-0\n",
            "30 30\t"
          ],
          "name": "stdout"
        }
      ]
    },
    {
      "metadata": {
        "id": "fLxwBypqOSoy",
        "colab_type": "code",
        "colab": {
          "base_uri": "https://localhost:8080/",
          "height": 557
        },
        "outputId": "72bed9e2-8595-433c-e647-11da83fe4e31"
      },
      "cell_type": "code",
      "source": [
        "accList"
      ],
      "execution_count": 70,
      "outputs": [
        {
          "output_type": "execute_result",
          "data": {
            "text/plain": [
              "[0.44343892,\n",
              " 0.544387,\n",
              " 0.6141995,\n",
              " 0.68024135,\n",
              " 0.71805644,\n",
              " 0.7336781,\n",
              " 0.739819,\n",
              " 0.74962294,\n",
              " 0.75404006,\n",
              " 0.76276666,\n",
              " 0.7656755,\n",
              " 0.7692308,\n",
              " 0.77343243,\n",
              " 0.7763413,\n",
              " 0.78075844,\n",
              " 0.78291315,\n",
              " 0.7853911,\n",
              " 0.7868994,\n",
              " 0.7885154,\n",
              " 0.7906701,\n",
              " 0.7900237,\n",
              " 0.79077786,\n",
              " 0.79228616,\n",
              " 0.7918552,\n",
              " 0.7927171,\n",
              " 0.7942254,\n",
              " 0.7955182,\n",
              " 0.79530275,\n",
              " 0.79541045,\n",
              " 0.79530275]"
            ]
          },
          "metadata": {
            "tags": []
          },
          "execution_count": 70
        }
      ]
    },
    {
      "metadata": {
        "id": "BwRs3p1A1iRk",
        "colab_type": "code",
        "colab": {
          "base_uri": "https://localhost:8080/",
          "height": 35
        },
        "outputId": "5d12f073-6326-47df-87bd-b703ef3283ee"
      },
      "cell_type": "code",
      "source": [
        "accList.index(max(accList)) +1"
      ],
      "execution_count": 71,
      "outputs": [
        {
          "output_type": "execute_result",
          "data": {
            "text/plain": [
              "27"
            ]
          },
          "metadata": {
            "tags": []
          },
          "execution_count": 71
        }
      ]
    },
    {
      "metadata": {
        "id": "Eq7kvry5Rtxx",
        "colab_type": "text"
      },
      "cell_type": "markdown",
      "source": [
        "## weight 보존"
      ]
    },
    {
      "metadata": {
        "id": "pulP8l7ZV2BF",
        "colab_type": "code",
        "outputId": "2f9f5ba8-e1c0-4032-e94a-a18d2c5253a4",
        "colab": {
          "base_uri": "https://localhost:8080/",
          "height": 89
        }
      },
      "cell_type": "code",
      "source": [
        "# 최적의 weight에 다가가기 위한 함수\n",
        "# 파일 체크\n",
        "chkpoint = tf.train.get_checkpoint_state('./models/nodrop')\n",
        "if chkpoint and tf.train.checkpoint_exists(chkpoint.model_checkpoint_path):\n",
        "    saver.restore(sess, chkpoint.model_checkpoint_path)\n",
        "else:\n",
        "    sess.run(tf.global_variables_initializer())\n",
        "    \n",
        "# sess.run(tf.global_variables_initializer())\n",
        "\n",
        "for step in range(271):\n",
        "    sess.run(optimizer, feed_dict={X: tmpTrain.iloc[:, 1:94], Y: tmpTrain.iloc[:, -1:]})\n",
        "    if step % 1000 == 0 or (step % 100 == 0 and step < 1000):\n",
        "        loss, acc, result = sess.run([cost, accuracy, hypothesis], \n",
        "                                     feed_dict={X: tmpTrain.iloc[:, 1:94], \n",
        "                                                Y: tmpTrain.iloc[:, -1:]})\n",
        "        print(\"Step: {:5}, Loss: {:.3f}, Acc: {:.2%}\".format(step, loss, acc))"
      ],
      "execution_count": 72,
      "outputs": [
        {
          "output_type": "stream",
          "text": [
            "INFO:tensorflow:Restoring parameters from ./models/nodrop/lay3.1e3.step1-0\n",
            "Step:     0, Loss: 2.091, Acc: 26.25%\n",
            "Step:   100, Loss: 0.649, Acc: 75.60%\n",
            "Step:   200, Loss: 0.544, Acc: 79.23%\n"
          ],
          "name": "stdout"
        }
      ]
    },
    {
      "metadata": {
        "id": "CoeS7zHuMqh9",
        "colab_type": "code",
        "colab": {
          "base_uri": "https://localhost:8080/",
          "height": 35
        },
        "outputId": "52c307a6-ac49-4ca1-ab8c-5cbdc1627f83"
      },
      "cell_type": "code",
      "source": [
        "accracy = sess.run(accuracy, feed_dict={X: validation.iloc[:, 1:94], \n",
        "                                        Y: validation.iloc[:, -1:]})\n",
        "accracy"
      ],
      "execution_count": 73,
      "outputs": [
        {
          "output_type": "execute_result",
          "data": {
            "text/plain": [
              "0.7955182"
            ]
          },
          "metadata": {
            "tags": []
          },
          "execution_count": 73
        }
      ]
    },
    {
      "metadata": {
        "id": "hsyHbUFDQ5IU",
        "colab_type": "code",
        "outputId": "629c755f-99af-43ac-f2a6-ec245a33d31a",
        "colab": {
          "base_uri": "https://localhost:8080/",
          "height": 35
        }
      },
      "cell_type": "code",
      "source": [
        "# weight 보존해서 학습\n",
        "saver = tf.train.Saver(tf.global_variables())\n",
        "saver.save(sess, './models/nodrop/lay3.1e3.step1', global_step=global_step)"
      ],
      "execution_count": 62,
      "outputs": [
        {
          "output_type": "execute_result",
          "data": {
            "text/plain": [
              "'./models/nodrop/lay3.1e3.step1-0'"
            ]
          },
          "metadata": {
            "tags": []
          },
          "execution_count": 62
        }
      ]
    },
    {
      "metadata": {
        "id": "t8-0RmVTKTx9",
        "colab_type": "text"
      },
      "cell_type": "markdown",
      "source": [
        "## train label을 이용해 대략적인 test"
      ]
    },
    {
      "metadata": {
        "id": "tvaszY2IUTfM",
        "colab_type": "code",
        "outputId": "21cd85f3-e3db-447c-a2cb-576500d6f56b",
        "colab": {
          "base_uri": "https://localhost:8080/",
          "height": 197
        }
      },
      "cell_type": "code",
      "source": [
        "justX = sess.run(prediction, feed_dict={X: xData})\n",
        "justX = pd.Series(justX)\n",
        "justX.value_counts()"
      ],
      "execution_count": 0,
      "outputs": [
        {
          "output_type": "execute_result",
          "data": {
            "text/plain": [
              "2    16402\n",
              "6    14131\n",
              "8     8450\n",
              "3     7839\n",
              "9     4952\n",
              "7     2821\n",
              "5     2740\n",
              "4     2624\n",
              "1     1919\n",
              "dtype: int64"
            ]
          },
          "metadata": {
            "tags": []
          },
          "execution_count": 145
        }
      ]
    },
    {
      "metadata": {
        "id": "yRSO_-uYf4wp",
        "colab_type": "code",
        "outputId": "f8c4704d-b8c7-4d44-ab18-f5507ed0c6b8",
        "colab": {
          "base_uri": "https://localhost:8080/",
          "height": 197
        }
      },
      "cell_type": "code",
      "source": [
        "justY = sess.run(tf.argmax(Y_one_hot, 1), feed_dict={Y: yData})\n",
        "justY = pd.Series(justY)\n",
        "justY.value_counts()"
      ],
      "execution_count": 0,
      "outputs": [
        {
          "output_type": "execute_result",
          "data": {
            "text/plain": [
              "2    16122\n",
              "6    14135\n",
              "8     8464\n",
              "3     8004\n",
              "9     4955\n",
              "7     2839\n",
              "5     2739\n",
              "4     2691\n",
              "1     1929\n",
              "dtype: int64"
            ]
          },
          "metadata": {
            "tags": []
          },
          "execution_count": 146
        }
      ]
    },
    {
      "metadata": {
        "id": "Ac3QEYu21HM9",
        "colab_type": "text"
      },
      "cell_type": "markdown",
      "source": [
        "# 제출물 생성"
      ]
    },
    {
      "metadata": {
        "id": "kcG3RWHUH9_C",
        "colab_type": "code",
        "outputId": "ce8a9332-1669-4bfa-e525-1c6a33d35aaf",
        "colab": {
          "base_uri": "https://localhost:8080/",
          "height": 35
        }
      },
      "cell_type": "code",
      "source": [
        "xTest = test.iloc[:, 1:94].astype(float)\n",
        "len(xTest)"
      ],
      "execution_count": 50,
      "outputs": [
        {
          "output_type": "execute_result",
          "data": {
            "text/plain": [
              "144368"
            ]
          },
          "metadata": {
            "tags": []
          },
          "execution_count": 50
        }
      ]
    },
    {
      "metadata": {
        "id": "XslxF-QQNo1r",
        "colab_type": "code",
        "colab": {}
      },
      "cell_type": "code",
      "source": [
        "# No drop out\n",
        "result = sess.run(hypothesis, feed_dict= {X: xTest})"
      ],
      "execution_count": 0,
      "outputs": []
    },
    {
      "metadata": {
        "id": "b9gAfOFlCy2M",
        "colab_type": "code",
        "colab": {}
      },
      "cell_type": "code",
      "source": [
        "# drop out\n",
        "result = sess.run(hypothesis, feed_dict= {X: xTest, keep_prob: 1.0})"
      ],
      "execution_count": 0,
      "outputs": []
    },
    {
      "metadata": {
        "id": "g6GW0qBo9Ur6",
        "colab_type": "code",
        "outputId": "d4a1f818-fd21-45d6-e057-45351ffca163",
        "colab": {
          "base_uri": "https://localhost:8080/",
          "height": 71
        }
      },
      "cell_type": "code",
      "source": [
        "result[0]"
      ],
      "execution_count": 76,
      "outputs": [
        {
          "output_type": "execute_result",
          "data": {
            "text/plain": [
              "array([9.7809592e-09, 8.7840839e-05, 2.4050014e-01, 1.8005252e-01,\n",
              "       5.6795180e-01, 2.8885220e-06, 3.7401615e-04, 1.0959112e-02,\n",
              "       7.0434035e-05, 1.2803835e-06], dtype=float32)"
            ]
          },
          "metadata": {
            "tags": []
          },
          "execution_count": 76
        }
      ]
    },
    {
      "metadata": {
        "id": "h3vA2xhCH8Q5",
        "colab_type": "text"
      },
      "cell_type": "markdown",
      "source": [
        "## 제출 포맷 생성 코드"
      ]
    },
    {
      "metadata": {
        "id": "570TJV-ENvg6",
        "colab_type": "code",
        "outputId": "686a7a50-1b88-46d9-eb32-542ae025cbc7",
        "colab": {
          "base_uri": "https://localhost:8080/",
          "height": 340
        }
      },
      "cell_type": "code",
      "source": [
        "# 출력 데이터 형태 만들기\n",
        "c1 = []\n",
        "c2 = []\n",
        "c3 = []\n",
        "c4 = []\n",
        "c5 = []\n",
        "c6 = []\n",
        "c7 = []\n",
        "c8 = []\n",
        "c9 = []\n",
        "iden = []\n",
        "\n",
        "for n in range(len(result)):\n",
        "  iden.append(n+1)\n",
        "  c1.append(result[n][1])\n",
        "  c2.append(result[n][2])\n",
        "  c3.append(result[n][3])\n",
        "  c4.append(result[n][4])\n",
        "  c5.append(result[n][5])\n",
        "  c6.append(result[n][6])\n",
        "  c7.append(result[n][7])\n",
        "  c8.append(result[n][8])\n",
        "  c9.append(result[n][9])\n",
        "  \n",
        "resDf = pd.DataFrame({'id' : iden,\n",
        "                      'Class_1' : c1,\n",
        "                      'Class_2' : c2,\n",
        "                      'Class_3' : c3,\n",
        "                      'Class_4' : c4,\n",
        "                      'Class_5' : c5,\n",
        "                      'Class_6' : c6,\n",
        "                      'Class_7' : c7,\n",
        "                      'Class_8' : c8,\n",
        "                      'Class_9' : c9})\n",
        "\n",
        "cols = [resDf.columns[-1]] + [col for col in resDf if col != resDf.columns[-1]]\n",
        "resDf = resDf[cols]\n",
        "resDf.set_index('id', inplace=True)\n",
        "resDf.head()"
      ],
      "execution_count": 77,
      "outputs": [
        {
          "output_type": "execute_result",
          "data": {
            "text/html": [
              "<div>\n",
              "<style scoped>\n",
              "    .dataframe tbody tr th:only-of-type {\n",
              "        vertical-align: middle;\n",
              "    }\n",
              "\n",
              "    .dataframe tbody tr th {\n",
              "        vertical-align: top;\n",
              "    }\n",
              "\n",
              "    .dataframe thead th {\n",
              "        text-align: right;\n",
              "    }\n",
              "</style>\n",
              "<table border=\"1\" class=\"dataframe\">\n",
              "  <thead>\n",
              "    <tr style=\"text-align: right;\">\n",
              "      <th></th>\n",
              "      <th>Class_1</th>\n",
              "      <th>Class_2</th>\n",
              "      <th>Class_3</th>\n",
              "      <th>Class_4</th>\n",
              "      <th>Class_5</th>\n",
              "      <th>Class_6</th>\n",
              "      <th>Class_7</th>\n",
              "      <th>Class_8</th>\n",
              "      <th>Class_9</th>\n",
              "    </tr>\n",
              "    <tr>\n",
              "      <th>id</th>\n",
              "      <th></th>\n",
              "      <th></th>\n",
              "      <th></th>\n",
              "      <th></th>\n",
              "      <th></th>\n",
              "      <th></th>\n",
              "      <th></th>\n",
              "      <th></th>\n",
              "      <th></th>\n",
              "    </tr>\n",
              "  </thead>\n",
              "  <tbody>\n",
              "    <tr>\n",
              "      <th>1</th>\n",
              "      <td>0.000088</td>\n",
              "      <td>2.405001e-01</td>\n",
              "      <td>1.800525e-01</td>\n",
              "      <td>5.679518e-01</td>\n",
              "      <td>2.888522e-06</td>\n",
              "      <td>0.000374</td>\n",
              "      <td>0.010959</td>\n",
              "      <td>0.000070</td>\n",
              "      <td>0.000001</td>\n",
              "    </tr>\n",
              "    <tr>\n",
              "      <th>2</th>\n",
              "      <td>0.001573</td>\n",
              "      <td>2.083430e-03</td>\n",
              "      <td>7.249854e-05</td>\n",
              "      <td>2.135389e-04</td>\n",
              "      <td>5.539732e-04</td>\n",
              "      <td>0.349449</td>\n",
              "      <td>0.000586</td>\n",
              "      <td>0.623886</td>\n",
              "      <td>0.021583</td>\n",
              "    </tr>\n",
              "    <tr>\n",
              "      <th>3</th>\n",
              "      <td>0.000005</td>\n",
              "      <td>3.645461e-08</td>\n",
              "      <td>4.149065e-08</td>\n",
              "      <td>2.535489e-08</td>\n",
              "      <td>2.941408e-09</td>\n",
              "      <td>0.999948</td>\n",
              "      <td>0.000003</td>\n",
              "      <td>0.000031</td>\n",
              "      <td>0.000013</td>\n",
              "    </tr>\n",
              "    <tr>\n",
              "      <th>4</th>\n",
              "      <td>0.000069</td>\n",
              "      <td>5.099242e-01</td>\n",
              "      <td>4.788100e-01</td>\n",
              "      <td>1.007003e-02</td>\n",
              "      <td>2.786970e-06</td>\n",
              "      <td>0.000014</td>\n",
              "      <td>0.000126</td>\n",
              "      <td>0.000009</td>\n",
              "      <td>0.000975</td>\n",
              "    </tr>\n",
              "    <tr>\n",
              "      <th>5</th>\n",
              "      <td>0.215655</td>\n",
              "      <td>1.866454e-04</td>\n",
              "      <td>9.192061e-05</td>\n",
              "      <td>2.747643e-05</td>\n",
              "      <td>3.187786e-07</td>\n",
              "      <td>0.004133</td>\n",
              "      <td>0.000989</td>\n",
              "      <td>0.021184</td>\n",
              "      <td>0.757733</td>\n",
              "    </tr>\n",
              "  </tbody>\n",
              "</table>\n",
              "</div>"
            ],
            "text/plain": [
              "     Class_1       Class_2       Class_3       Class_4       Class_5  \\\n",
              "id                                                                     \n",
              "1   0.000088  2.405001e-01  1.800525e-01  5.679518e-01  2.888522e-06   \n",
              "2   0.001573  2.083430e-03  7.249854e-05  2.135389e-04  5.539732e-04   \n",
              "3   0.000005  3.645461e-08  4.149065e-08  2.535489e-08  2.941408e-09   \n",
              "4   0.000069  5.099242e-01  4.788100e-01  1.007003e-02  2.786970e-06   \n",
              "5   0.215655  1.866454e-04  9.192061e-05  2.747643e-05  3.187786e-07   \n",
              "\n",
              "     Class_6   Class_7   Class_8   Class_9  \n",
              "id                                          \n",
              "1   0.000374  0.010959  0.000070  0.000001  \n",
              "2   0.349449  0.000586  0.623886  0.021583  \n",
              "3   0.999948  0.000003  0.000031  0.000013  \n",
              "4   0.000014  0.000126  0.000009  0.000975  \n",
              "5   0.004133  0.000989  0.021184  0.757733  "
            ]
          },
          "metadata": {
            "tags": []
          },
          "execution_count": 77
        }
      ]
    },
    {
      "metadata": {
        "id": "BZ07fRiSI6a9",
        "colab_type": "text"
      },
      "cell_type": "markdown",
      "source": [
        "## 제출물 csv 파일 출력"
      ]
    },
    {
      "metadata": {
        "id": "bfSpe0ApNy4q",
        "colab_type": "code",
        "colab": {}
      },
      "cell_type": "code",
      "source": [
        "resDf.to_csv('./sample_data/relu256_nodrop3_vali271.csv', sep=',', encoding='utf-8-sig')"
      ],
      "execution_count": 0,
      "outputs": []
    },
    {
      "metadata": {
        "id": "PYWkhytwI9l8",
        "colab_type": "text"
      },
      "cell_type": "markdown",
      "source": [
        "## 제출물 파일 체크"
      ]
    },
    {
      "metadata": {
        "id": "gdpddfZcN39p",
        "colab_type": "code",
        "outputId": "2cadb197-49f5-4fa6-ad6d-16a0f826db24",
        "colab": {
          "base_uri": "https://localhost:8080/",
          "height": 309
        }
      },
      "cell_type": "code",
      "source": [
        "check = pd.read_csv('sample_data/relu256_nodrop3_vali1300.csv')\n",
        "check.head()"
      ],
      "execution_count": 0,
      "outputs": [
        {
          "output_type": "execute_result",
          "data": {
            "text/html": [
              "<div>\n",
              "<style scoped>\n",
              "    .dataframe tbody tr th:only-of-type {\n",
              "        vertical-align: middle;\n",
              "    }\n",
              "\n",
              "    .dataframe tbody tr th {\n",
              "        vertical-align: top;\n",
              "    }\n",
              "\n",
              "    .dataframe thead th {\n",
              "        text-align: right;\n",
              "    }\n",
              "</style>\n",
              "<table border=\"1\" class=\"dataframe\">\n",
              "  <thead>\n",
              "    <tr style=\"text-align: right;\">\n",
              "      <th></th>\n",
              "      <th>id</th>\n",
              "      <th>Class_1</th>\n",
              "      <th>Class_2</th>\n",
              "      <th>Class_3</th>\n",
              "      <th>Class_4</th>\n",
              "      <th>Class_5</th>\n",
              "      <th>Class_6</th>\n",
              "      <th>Class_7</th>\n",
              "      <th>Class_8</th>\n",
              "      <th>Class_9</th>\n",
              "    </tr>\n",
              "  </thead>\n",
              "  <tbody>\n",
              "    <tr>\n",
              "      <th>0</th>\n",
              "      <td>1</td>\n",
              "      <td>7.209775e-09</td>\n",
              "      <td>1.121509e-03</td>\n",
              "      <td>1.055122e-01</td>\n",
              "      <td>8.933249e-01</td>\n",
              "      <td>7.789883e-14</td>\n",
              "      <td>2.306713e-09</td>\n",
              "      <td>4.141774e-05</td>\n",
              "      <td>1.256526e-08</td>\n",
              "      <td>2.237493e-12</td>\n",
              "    </tr>\n",
              "    <tr>\n",
              "      <th>1</th>\n",
              "      <td>2</td>\n",
              "      <td>1.157383e-10</td>\n",
              "      <td>1.289152e-02</td>\n",
              "      <td>2.718332e-05</td>\n",
              "      <td>8.403281e-09</td>\n",
              "      <td>5.520099e-08</td>\n",
              "      <td>2.744112e-08</td>\n",
              "      <td>1.313812e-08</td>\n",
              "      <td>9.842026e-01</td>\n",
              "      <td>2.878617e-03</td>\n",
              "    </tr>\n",
              "    <tr>\n",
              "      <th>2</th>\n",
              "      <td>3</td>\n",
              "      <td>2.669149e-12</td>\n",
              "      <td>1.285589e-15</td>\n",
              "      <td>5.046788e-14</td>\n",
              "      <td>2.350110e-14</td>\n",
              "      <td>2.054441e-17</td>\n",
              "      <td>1.000000e+00</td>\n",
              "      <td>2.663531e-11</td>\n",
              "      <td>1.103965e-09</td>\n",
              "      <td>6.781395e-11</td>\n",
              "    </tr>\n",
              "    <tr>\n",
              "      <th>3</th>\n",
              "      <td>4</td>\n",
              "      <td>6.177626e-12</td>\n",
              "      <td>6.341051e-03</td>\n",
              "      <td>9.936214e-01</td>\n",
              "      <td>1.049839e-05</td>\n",
              "      <td>8.528034e-14</td>\n",
              "      <td>1.061285e-16</td>\n",
              "      <td>5.544301e-11</td>\n",
              "      <td>1.746582e-08</td>\n",
              "      <td>2.695237e-05</td>\n",
              "    </tr>\n",
              "    <tr>\n",
              "      <th>4</th>\n",
              "      <td>5</td>\n",
              "      <td>1.823590e-02</td>\n",
              "      <td>1.540355e-10</td>\n",
              "      <td>3.197002e-09</td>\n",
              "      <td>2.086919e-12</td>\n",
              "      <td>3.500919e-22</td>\n",
              "      <td>2.851185e-09</td>\n",
              "      <td>3.509965e-07</td>\n",
              "      <td>8.099020e-01</td>\n",
              "      <td>1.718618e-01</td>\n",
              "    </tr>\n",
              "  </tbody>\n",
              "</table>\n",
              "</div>"
            ],
            "text/plain": [
              "   id       Class_1       Class_2       Class_3       Class_4       Class_5  \\\n",
              "0   1  7.209775e-09  1.121509e-03  1.055122e-01  8.933249e-01  7.789883e-14   \n",
              "1   2  1.157383e-10  1.289152e-02  2.718332e-05  8.403281e-09  5.520099e-08   \n",
              "2   3  2.669149e-12  1.285589e-15  5.046788e-14  2.350110e-14  2.054441e-17   \n",
              "3   4  6.177626e-12  6.341051e-03  9.936214e-01  1.049839e-05  8.528034e-14   \n",
              "4   5  1.823590e-02  1.540355e-10  3.197002e-09  2.086919e-12  3.500919e-22   \n",
              "\n",
              "        Class_6       Class_7       Class_8       Class_9  \n",
              "0  2.306713e-09  4.141774e-05  1.256526e-08  2.237493e-12  \n",
              "1  2.744112e-08  1.313812e-08  9.842026e-01  2.878617e-03  \n",
              "2  1.000000e+00  2.663531e-11  1.103965e-09  6.781395e-11  \n",
              "3  1.061285e-16  5.544301e-11  1.746582e-08  2.695237e-05  \n",
              "4  2.851185e-09  3.509965e-07  8.099020e-01  1.718618e-01  "
            ]
          },
          "metadata": {
            "tags": []
          },
          "execution_count": 390
        }
      ]
    },
    {
      "metadata": {
        "id": "5uxjoznBOF-T",
        "colab_type": "code",
        "colab": {}
      },
      "cell_type": "code",
      "source": [
        ""
      ],
      "execution_count": 0,
      "outputs": []
    }
  ]
}