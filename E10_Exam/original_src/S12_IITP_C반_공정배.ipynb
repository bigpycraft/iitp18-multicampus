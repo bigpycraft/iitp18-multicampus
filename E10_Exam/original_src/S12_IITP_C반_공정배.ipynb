{
 "cells": [
  {
   "cell_type": "code",
   "execution_count": 1,
   "metadata": {},
   "outputs": [],
   "source": [
    "# --------------  1번 --------------------------------------------------"
   ]
  },
  {
   "cell_type": "code",
   "execution_count": 5,
   "metadata": {},
   "outputs": [
    {
     "data": {
      "text/plain": [
       "1366"
      ]
     },
     "execution_count": 5,
     "metadata": {},
     "output_type": "execute_result"
    }
   ],
   "source": [
    "def n_sum(number):\n",
    "    \n",
    "    num = str(number)\n",
    "    sum1 = 0\n",
    "    for i in range(len(num)):\n",
    "        sum1 += int(num[i])\n",
    "    \n",
    "    return sum1\n",
    "\n",
    "n_sum(2**1000)"
   ]
  },
  {
   "cell_type": "code",
   "execution_count": null,
   "metadata": {},
   "outputs": [],
   "source": [
    "# --------------  2번 --------------------------------------------------"
   ]
  },
  {
   "cell_type": "code",
   "execution_count": 61,
   "metadata": {},
   "outputs": [
    {
     "name": "stdout",
     "output_type": "stream",
     "text": [
      "최대 10장 구매할 수 있어요!\n",
      "[]\n",
      "[[3, 15, 23, 26, 31, 39], [3, 11, 21, 25, 40, 41], [6, 9, 19, 20, 30, 34], [1, 10, 15, 17, 21, 42], [1, 19, 20, 21, 25, 31]]\n"
     ]
    }
   ],
   "source": [
    "import random\n",
    "\n",
    "class Lotto:\n",
    "    \n",
    "    final = []\n",
    "        \n",
    "    def select(self, n):\n",
    "        \n",
    "        if n < 11:\n",
    "            for i in range(n):\n",
    "                \n",
    "                nums = set()\n",
    "\n",
    "                while len(nums) < 6:\n",
    "                    num = random.randint(1,45)\n",
    "                    nums.add(num)\n",
    "\n",
    "                nums = sorted(nums)\n",
    "                \n",
    "\n",
    "                self.final.append(nums)\n",
    "\n",
    "        else:\n",
    "            print(\"최대 10장 구매할 수 있어요!\")\n",
    "\n",
    "        return self.final\n",
    "\n",
    "    \n",
    "Test = Lotto()\n",
    "\n",
    "print(Test.select(12))\n",
    "print(Test.select(5))"
   ]
  },
  {
   "cell_type": "code",
   "execution_count": null,
   "metadata": {},
   "outputs": [],
   "source": [
    "# --------------  3번 --------------------------------------------------"
   ]
  },
  {
   "cell_type": "code",
   "execution_count": 38,
   "metadata": {},
   "outputs": [],
   "source": [
    "# is_msg = True 를 못 넣었습니다.\n",
    "\n",
    "import datetime\n",
    "\n",
    "def dday(year, month, day, mem_day='기념일'):\n",
    "    set_day = datetime.date(year, month, day)\n",
    "    set_day2 = datetime.date.today()\n",
    "        \n",
    "    nday = (set_day2 - set_day)\n",
    "    nday1 = nday.days\n",
    "    nday2 = format(nday1, ',')      \n",
    "    \n",
    "    if nday1 >= 0:\n",
    "        print(mem_day,': 오늘로부터',set_day,'은')\n",
    "\n",
    "        print('\\n경과년수는',set_day2.year - set_day.year,'년 입니다.')\n",
    "\n",
    "        print('\\n경과월수는',((set_day2.year - set_day.year)*12) + (set_day2.month - set_day.month),'개월 입니다.')\n",
    "        \n",
    "        print('\\n경과일수는',nday2,'일 입니다.')\n",
    "    \n",
    "    else:\n",
    "        nday3 = -nday1\n",
    "        nday4 = format(nday3, ',')\n",
    "        print(nday4,'일 남았습니다.')\n",
    "        \n",
    "    return\n",
    "\n"
   ]
  },
  {
   "cell_type": "code",
   "execution_count": 9,
   "metadata": {},
   "outputs": [
    {
     "name": "stdout",
     "output_type": "stream",
     "text": [
      "크리스마스 : 오늘로부터 2015-12-25 은\n",
      "\n",
      "경과년수는 3 년 입니다.\n",
      "\n",
      "경과월수는 34 개월 입니다.\n",
      "\n",
      "경과일수는 1,041 일 입니다.\n"
     ]
    }
   ],
   "source": [
    "dday(2015,12,25,'크리스마스')"
   ]
  },
  {
   "cell_type": "code",
   "execution_count": 10,
   "metadata": {},
   "outputs": [
    {
     "name": "stdout",
     "output_type": "stream",
     "text": [
      "55 일 남았습니다.\n"
     ]
    }
   ],
   "source": [
    "dday(2018,12,25,'크리스마스')"
   ]
  },
  {
   "cell_type": "code",
   "execution_count": null,
   "metadata": {},
   "outputs": [],
   "source": [
    "# --------------  4번 --------------------------------------------------"
   ]
  },
  {
   "cell_type": "code",
   "execution_count": 1,
   "metadata": {},
   "outputs": [
    {
     "data": {
      "text/plain": [
       "{'cat': 3, 'sheep': 2, 'duck': 4}"
      ]
     },
     "execution_count": 1,
     "metadata": {},
     "output_type": "execute_result"
    }
   ],
   "source": [
    "# reduce를 안썼습니다.\n",
    "\n",
    "data =  [\"cat\", \"cat\", \"cat\", \"sheep\", \"sheep\", \"duck\", \"duck\", \"duck\", \"duck\" ]\n",
    "\n",
    "\n",
    "result =  { i : 0  for i in data}\n",
    "# print(result) => {'cat': 0, 'sheep': 0, 'duck': 0}\n",
    "\n",
    "for i in data:\n",
    "    result[i] += 1\n",
    "\n",
    "result"
   ]
  },
  {
   "cell_type": "code",
   "execution_count": 2,
   "metadata": {},
   "outputs": [
    {
     "name": "stdout",
     "output_type": "stream",
     "text": [
      "cat   ===\n",
      "sheep ==\n",
      "duck  ====\n"
     ]
    }
   ],
   "source": [
    "for element in result:\n",
    "    a = result[element]\n",
    "    print(element + ' '*(6-len(element))+'='*a)"
   ]
  },
  {
   "cell_type": "code",
   "execution_count": 3,
   "metadata": {},
   "outputs": [],
   "source": [
    "# 구글링한 것입니다.\n",
    "\n",
    "from functools import reduce\n",
    "\n",
    "data =  [\"cat\", \"cat\", \"cat\", \"sheep\", \"duck\", \"sheep\", \"duck\", \"duck\", \"duck\" ]\n",
    "\n",
    "def ggg(data):\n",
    "    return reduce(lambda x, y: x.update({y: x.get(y, 0) + 1}) or x, data, {})\n",
    "\n",
    "ggg(data)\n",
    "\n",
    "result1 = ggg(data)"
   ]
  },
  {
   "cell_type": "code",
   "execution_count": 4,
   "metadata": {},
   "outputs": [
    {
     "name": "stdout",
     "output_type": "stream",
     "text": [
      "cat   ===\n",
      "sheep ==\n",
      "duck  ====\n"
     ]
    }
   ],
   "source": [
    "for element in result1:\n",
    "    a = result1[element]\n",
    "    print(element + ' '*(6-len(element))+'='*a)"
   ]
  },
  {
   "cell_type": "code",
   "execution_count": null,
   "metadata": {},
   "outputs": [],
   "source": []
  }
 ],
 "metadata": {
  "kernelspec": {
   "display_name": "Python 3",
   "language": "python",
   "name": "python3"
  },
  "language_info": {
   "codemirror_mode": {
    "name": "ipython",
    "version": 3
   },
   "file_extension": ".py",
   "mimetype": "text/x-python",
   "name": "python",
   "nbconvert_exporter": "python",
   "pygments_lexer": "ipython3",
   "version": "3.6.5"
  }
 },
 "nbformat": 4,
 "nbformat_minor": 2
}
