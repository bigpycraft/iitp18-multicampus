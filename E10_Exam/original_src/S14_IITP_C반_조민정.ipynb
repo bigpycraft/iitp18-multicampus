{
 "cells": [
  {
   "cell_type": "markdown",
   "metadata": {},
   "source": [
    "## 실습 1. 2^1000의 각 자리수의 합 구하기"
   ]
  },
  {
   "cell_type": "code",
   "execution_count": 2,
   "metadata": {
    "scrolled": true
   },
   "outputs": [
    {
     "name": "stdout",
     "output_type": "stream",
     "text": [
      "2의 1000제곱 모든 자리수의 합은 1366\n"
     ]
    }
   ],
   "source": [
    "data1 = 2**1000\n",
    "\n",
    "def sum(data1):\n",
    "    result = 0\n",
    "    for i in str(data1):\n",
    "        result +=int(i)\n",
    "    return result\n",
    "\n",
    "print(\"2의 1000제곱 모든 자리수의 합은\", sum(data1))"
   ]
  },
  {
   "cell_type": "markdown",
   "metadata": {},
   "source": [
    "## 실습 2. 로또번호를 주문하는 클래스(Class Lotto) 생성"
   ]
  },
  {
   "cell_type": "code",
   "execution_count": 27,
   "metadata": {},
   "outputs": [],
   "source": [
    "import random\n",
    "\n",
    "class Lotto:\n",
    "    \n",
    "    def __init__(self):\n",
    "        self.num_buy = 0\n",
    "        self.num_list = []\n",
    "    \n",
    "    def checking(self):\n",
    "        while True:\n",
    "            num_buy2=input(\"로또 게임 수를 적어주세요\")\n",
    "            is_number = True\n",
    "            check_num = list('0123456789')\n",
    "\n",
    "            for char in list(num_buy2):\n",
    "                is_number = is_number * int(char in check_num)\n",
    "                if is_number:\n",
    "                    if int(num_buy2)>=1 and int(num_buy2)<=10:\n",
    "                        self.num_buy = int(num_buy2)\n",
    "                        return self.num_buy\n",
    "                        break\n",
    "                    else:\n",
    "                        continue\n",
    "                else:\n",
    "                    continue\n",
    "                \n",
    "        \n",
    "    \n",
    "    def rangenum(self):\n",
    "        while True:\n",
    "            number_range = True\n",
    "            check_range = list('0123456789')\n",
    "\n",
    "    def lonum(self):\n",
    "        for x in range(self.num_buy):\n",
    "            LottoNum = random.sample(range(1, 46), 6)\n",
    "            LottoNum.sort()\n",
    "            self.num_list.append(LottoNum)\n",
    "    \n",
    "    def answer(self):\n",
    "        print(\"%d개의 로또번호\" %self.num_buy)\n",
    "        for i in range(len(self.num_list)):\n",
    "            print(\"{buy_amount}:{num_list}\".format(\n",
    "                self.num_buy,\n",
    "                buy_amount = (i+1),\n",
    "                num_list = self.num_list[i]))\n"
   ]
  },
  {
   "cell_type": "code",
   "execution_count": 28,
   "metadata": {},
   "outputs": [
    {
     "name": "stdout",
     "output_type": "stream",
     "text": [
      "로또 게임 수를 적어주세요4\n",
      "4개의 로또번호\n",
      "1:[11, 21, 27, 28, 36, 38]\n",
      "2:[9, 17, 23, 35, 40, 42]\n",
      "3:[3, 6, 10, 25, 27, 36]\n",
      "4:[9, 14, 18, 24, 25, 42]\n"
     ]
    }
   ],
   "source": [
    "result = Lotto()\n",
    "result.checking()\n",
    "result.lonum()\n",
    "result.answer()"
   ]
  },
  {
   "cell_type": "markdown",
   "metadata": {},
   "source": [
    "## 실습 3. 특정기념일로부터 얼마나 경과되었는지 알려주는 함수 생성"
   ]
  },
  {
   "cell_type": "code",
   "execution_count": 24,
   "metadata": {},
   "outputs": [],
   "source": [
    "from datetime import datetime\n",
    "\n",
    "def getMemorialDay(year, month, day, memory='기념일', is_msg=True):\n",
    "    m_day = datetime(year,month,day)\n",
    "    today = datetime.now()\n",
    "    day1 = today - m_day\n",
    "    days = abs(day1.days)\n",
    "    days2 = format(days, \",\")\n",
    "    months = days//30\n",
    "    years = days//365\n",
    "    \n",
    "    memory=str(memory)\n",
    "    days=int(days)\n",
    "    months=int(months)\n",
    "    years=int(years)\n",
    "    \n",
    "   \n",
    "    if day1.days>0:\n",
    "        print(\"오늘은 {memory}으로부터 {remain_day}일 경과되었고, 달수로는 {remain_month}개월 째, 연수로는 {remain_year}년 경과되었습니다!\".format(\n",
    "            memory       = memory, \n",
    "            remain_day    = days, \n",
    "            remain_month = months, \n",
    "            remain_year  = years\n",
    "        ))\n",
    "        # print(\"오늘은 {0}으로부터 {1}일 경과되었고, 달수로는 {2}개월 째, 연수로는 {3}년 경과되었습니다!\".format(memory, days, months, years))\n",
    "        # print(\"오늘은 %s으로부터 %d일 경과되었고, 달수로는 %d개월 째, 연수로는 %d년 경과되었습니다!\" % (memory, days, months, years))\n",
    "    else:\n",
    "        print(\" {memory}까지는 {future_day}일 남았습니다!\".format(\n",
    "            memory = memory,\n",
    "            future_day = days))"
   ]
  },
  {
   "cell_type": "code",
   "execution_count": 25,
   "metadata": {},
   "outputs": [
    {
     "name": "stdout",
     "output_type": "stream",
     "text": [
      "오늘은 세월호침몰사고일으로부터 1659일 경과되었고, 달수로는 55개월 째, 연수로는 4년 경과되었습니다!\n"
     ]
    }
   ],
   "source": [
    "getMemorialDay(2014,4,16,\"세월호침몰사고일\")"
   ]
  },
  {
   "cell_type": "code",
   "execution_count": 26,
   "metadata": {},
   "outputs": [
    {
     "name": "stdout",
     "output_type": "stream",
     "text": [
      " 크리스마스까지는 55일 남았습니다!\n"
     ]
    }
   ],
   "source": [
    "getMemorialDay(2018,12,25,\"크리스마스\")"
   ]
  },
  {
   "cell_type": "markdown",
   "metadata": {},
   "source": [
    "## 실습 4. reduce를 사용하여 히스토그램(histogram) 함수 작성"
   ]
  },
  {
   "cell_type": "code",
   "execution_count": 8,
   "metadata": {},
   "outputs": [],
   "source": [
    "data = [\"cat\", \"cat\", \"cat\", \"sheep\", \"sheep\", \"duck\", \"duck\", \"duck\", \"duck\" ]"
   ]
  },
  {
   "cell_type": "code",
   "execution_count": 9,
   "metadata": {},
   "outputs": [],
   "source": [
    "from functools import reduce\n",
    "\n",
    "def word_count(dic, element):\n",
    "    if element in dic:\n",
    "        dic[element]+=1\n",
    "    else :\n",
    "        dic[element]=1        \n",
    "    return dic\n",
    "\n",
    "def draw_histogram(data):\n",
    "    dic = reduce(word_count,data,{})\n",
    "    print(dic)\n",
    "    for element in dic.keys():\n",
    "        print(element + ' '*(10-len(element)) + '='*dic[element])"
   ]
  },
  {
   "cell_type": "code",
   "execution_count": 10,
   "metadata": {},
   "outputs": [
    {
     "name": "stdout",
     "output_type": "stream",
     "text": [
      "{'cat': 3, 'sheep': 2, 'duck': 4}\n",
      "cat       ===\n",
      "sheep     ==\n",
      "duck      ====\n"
     ]
    }
   ],
   "source": [
    "draw_histogram(data)"
   ]
  },
  {
   "cell_type": "markdown",
   "metadata": {},
   "source": [
    "##### >>아직 Reduce 개념이 잘 이해가 안 가서 다른 친구들 도움을 많이 받았습니다ㅜㅜ"
   ]
  }
 ],
 "metadata": {
  "kernelspec": {
   "display_name": "Python 3",
   "language": "python",
   "name": "python3"
  },
  "language_info": {
   "codemirror_mode": {
    "name": "ipython",
    "version": 3
   },
   "file_extension": ".py",
   "mimetype": "text/x-python",
   "name": "python",
   "nbconvert_exporter": "python",
   "pygments_lexer": "ipython3",
   "version": "3.6.5"
  }
 },
 "nbformat": 4,
 "nbformat_minor": 2
}
