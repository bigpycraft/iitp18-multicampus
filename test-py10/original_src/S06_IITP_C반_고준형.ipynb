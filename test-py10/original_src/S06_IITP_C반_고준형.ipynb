{
 "cells": [
  {
   "cell_type": "markdown",
   "metadata": {},
   "source": [
    "## 실습1. 2^1000의 각 자리수를 모두 더하면 얼마입니까?"
   ]
  },
  {
   "cell_type": "code",
   "execution_count": 1,
   "metadata": {},
   "outputs": [
    {
     "name": "stdout",
     "output_type": "stream",
     "text": [
      "['1', '0', '7', '1', '5', '0', '8', '6', '0', '7', '1', '8', '6', '2', '6', '7', '3', '2', '0', '9', '4', '8', '4', '2', '5', '0', '4', '9', '0', '6', '0', '0', '0', '1', '8', '1', '0', '5', '6', '1', '4', '0', '4', '8', '1', '1', '7', '0', '5', '5', '3', '3', '6', '0', '7', '4', '4', '3', '7', '5', '0', '3', '8', '8', '3', '7', '0', '3', '5', '1', '0', '5', '1', '1', '2', '4', '9', '3', '6', '1', '2', '2', '4', '9', '3', '1', '9', '8', '3', '7', '8', '8', '1', '5', '6', '9', '5', '8', '5', '8', '1', '2', '7', '5', '9', '4', '6', '7', '2', '9', '1', '7', '5', '5', '3', '1', '4', '6', '8', '2', '5', '1', '8', '7', '1', '4', '5', '2', '8', '5', '6', '9', '2', '3', '1', '4', '0', '4', '3', '5', '9', '8', '4', '5', '7', '7', '5', '7', '4', '6', '9', '8', '5', '7', '4', '8', '0', '3', '9', '3', '4', '5', '6', '7', '7', '7', '4', '8', '2', '4', '2', '3', '0', '9', '8', '5', '4', '2', '1', '0', '7', '4', '6', '0', '5', '0', '6', '2', '3', '7', '1', '1', '4', '1', '8', '7', '7', '9', '5', '4', '1', '8', '2', '1', '5', '3', '0', '4', '6', '4', '7', '4', '9', '8', '3', '5', '8', '1', '9', '4', '1', '2', '6', '7', '3', '9', '8', '7', '6', '7', '5', '5', '9', '1', '6', '5', '5', '4', '3', '9', '4', '6', '0', '7', '7', '0', '6', '2', '9', '1', '4', '5', '7', '1', '1', '9', '6', '4', '7', '7', '6', '8', '6', '5', '4', '2', '1', '6', '7', '6', '6', '0', '4', '2', '9', '8', '3', '1', '6', '5', '2', '6', '2', '4', '3', '8', '6', '8', '3', '7', '2', '0', '5', '6', '6', '8', '0', '6', '9', '3', '7', '6']\n"
     ]
    }
   ],
   "source": [
    "# 각 자리 숫자를 분리해 리스트화\n",
    "number = 2 ** 1000\n",
    "list_number = list(str(number))\n",
    "print(list_number)"
   ]
  },
  {
   "cell_type": "code",
   "execution_count": 2,
   "metadata": {},
   "outputs": [],
   "source": [
    "# 덧셈 함수 생성\n",
    "def sum(a, b):\n",
    "    return int(a) + int(b)"
   ]
  },
  {
   "cell_type": "code",
   "execution_count": 3,
   "metadata": {},
   "outputs": [
    {
     "name": "stdout",
     "output_type": "stream",
     "text": [
      "2^1000의 각 자리수의 합: 1366\n"
     ]
    }
   ],
   "source": [
    "# reduce 적용\n",
    "from functools import *\n",
    "result = reduce(sum, list_number)\n",
    "print('2^1000의 각 자리수의 합:', result)"
   ]
  },
  {
   "cell_type": "markdown",
   "metadata": {},
   "source": [
    "## 실습2. 로또번호를 주문하는 클래스(Class Lotto)를 생성하시오."
   ]
  },
  {
   "cell_type": "code",
   "execution_count": null,
   "metadata": {},
   "outputs": [],
   "source": [
    "# - 로또는 1~10까지 주문 가능\n",
    "# - 6개의 숫자로 된 로또는 오름차순으로 정렬\n",
    "# - 주문한 개수만큼의 일련번호를 달아 로또번호를 출력\n",
    "# - OOP 기반으로 클래스에 메소드를 최대한 모듈화"
   ]
  },
  {
   "cell_type": "code",
   "execution_count": null,
   "metadata": {},
   "outputs": [],
   "source": [
    "# 작업 순서:\n",
    "# 난수 발행해보기\n",
    "# 클래스 로또 생성\n",
    "# 메소드에서 난수 생성\n",
    "# 로또 1장 발행해보기\n",
    "# 로또 n장 주세요.를 input으로 받기\n",
    "# n개의 인스턴스 생성하기\n",
    "# 클래스 최적화"
   ]
  },
  {
   "cell_type": "code",
   "execution_count": 5,
   "metadata": {},
   "outputs": [
    {
     "name": "stdout",
     "output_type": "stream",
     "text": [
      "0.799180817102519 [3, 10, 6, 8, 1, 9]\n"
     ]
    }
   ],
   "source": [
    "# 난수 발행해보기\n",
    "import random as r\n",
    "a = r.random()\n",
    "# 1~10 중 숫자 6개 선택\n",
    "b = r.sample(range(1, 11), 6)\n",
    "print(a, b)"
   ]
  },
  {
   "cell_type": "code",
   "execution_count": 6,
   "metadata": {},
   "outputs": [],
   "source": [
    "# 클래스 로또 생성\n",
    "# 초기 속성값 생성\n",
    "class Lotto:\n",
    "    def __init__(self, name):\n",
    "        self.name = name\n",
    "# 메소드 생성\n",
    "    def do_lotto(self):\n",
    "        try1 = r.sample(range(1, 11), 6)\n",
    "        # print(try1)\n",
    "        return try1"
   ]
  },
  {
   "cell_type": "code",
   "execution_count": 7,
   "metadata": {},
   "outputs": [
    {
     "name": "stdout",
     "output_type": "stream",
     "text": [
      "result: 1otto1 [4, 10, 5, 7, 6, 8]\n"
     ]
    }
   ],
   "source": [
    "# 로또 1장 발행\n",
    "l1 = Lotto('1otto1')\n",
    "print('result:', l1.name, l1.do_lotto())"
   ]
  },
  {
   "cell_type": "code",
   "execution_count": 10,
   "metadata": {},
   "outputs": [
    {
     "name": "stdout",
     "output_type": "stream",
     "text": [
      "로또 몇 장 드릴까요?5\n"
     ]
    }
   ],
   "source": [
    "# 로또 입력기 생성\n",
    "# validation\n",
    "while True:\n",
    "    key = input('로또 몇 장 드릴까요?')\n",
    "    # key = '12a3'\n",
    "    key2 = list(str(key))\n",
    "    # print(key2)\n",
    "    check_list = list('1234567890')\n",
    "    # print(check_list)\n",
    "    valid = 1\n",
    "    for letter in key2:\n",
    "        valid = valid * (letter in check_list)\n",
    "    # print(valid)\n",
    "    if valid == 1:\n",
    "        break"
   ]
  },
  {
   "cell_type": "code",
   "execution_count": 11,
   "metadata": {},
   "outputs": [
    {
     "name": "stdout",
     "output_type": "stream",
     "text": [
      "로또 5 장 나왔습니다.\n",
      "로또 1: [4, 6, 2, 8, 1, 3]\n",
      "로또 2: [6, 7, 8, 2, 5, 9]\n",
      "로또 3: [10, 6, 9, 3, 8, 5]\n",
      "로또 4: [1, 6, 8, 10, 9, 3]\n",
      "로또 5: [7, 4, 5, 6, 3, 1]\n"
     ]
    }
   ],
   "source": [
    "# 주문 안내\n",
    "print('로또', key, '장 나왔습니다.')\n",
    "\n",
    "# 로또 n장 발행\n",
    "key = int(key)\n",
    "for n in range(key):\n",
    "    n = n + 1\n",
    "    lotto = Lotto('나눔로또')\n",
    "    print('로또 %d:' % n, lotto.do_lotto())\n",
    "\n"
   ]
  },
  {
   "cell_type": "code",
   "execution_count": 12,
   "metadata": {},
   "outputs": [
    {
     "name": "stdout",
     "output_type": "stream",
     "text": [
      "안녕하세요. 나눔로또입니다.\n",
      "로또 몇 장 드릴까요?5\n",
      "로또 5 장 나왔습니다.\n",
      "로또 1: [6, 5, 8, 7, 2, 1]\n",
      "로또 2: [2, 9, 3, 1, 7, 5]\n",
      "로또 3: [2, 6, 5, 8, 9, 7]\n",
      "로또 4: [8, 3, 10, 1, 9, 7]\n",
      "로또 5: [9, 8, 7, 10, 5, 6]\n"
     ]
    }
   ],
   "source": [
    "# 클래스 최적화\n",
    "import random as r\n",
    "\n",
    "# 클래스 및 초기 속성값 생성\n",
    "class Lotto:\n",
    "    def __init__(self, name):\n",
    "        self.name = name\n",
    "        self.key = 0\n",
    "        print('안녕하세요. 나눔로또입니다.')\n",
    "# 메소드 생성\n",
    "    def do_lotto(self):\n",
    "\n",
    "        # 로또 입력기 생성\n",
    "        # validation\n",
    "        while True:\n",
    "            self.key = input('로또 몇 장 드릴까요?')\n",
    "            key2 = list(str(self.key))\n",
    "            check_list = list('1234567890')\n",
    "            valid = 1\n",
    "            for letter in key2:\n",
    "                valid = valid * (letter in check_list)\n",
    "\n",
    "            if valid == 1:\n",
    "                # 주문 안내\n",
    "                print('로또', self.key, '장 나왔습니다.')\n",
    "\n",
    "                # 로또 발행\n",
    "                key3 = int(self.key)\n",
    "                for n in range(key3):\n",
    "                    n = n + 1\n",
    "                    # 난수 생성\n",
    "                    get_one = r.sample(range(1, 11), 6)\n",
    "                    print('로또 %d:' % n, get_one)\n",
    "                break\n",
    "            else:\n",
    "                print('숫자로 말씀해주세요.')\n",
    "\n",
    "# 나눔로또 주문 받기\n",
    "lotto1 = Lotto('나눔로또')\n",
    "lotto1.do_lotto()"
   ]
  },
  {
   "cell_type": "code",
   "execution_count": 13,
   "metadata": {},
   "outputs": [
    {
     "name": "stdout",
     "output_type": "stream",
     "text": [
      "오늘 당신의 행운은?\n",
      "로또 몇 장 드릴까요?5\n",
      "로또 5 장 나왔습니다.\n",
      "로또 1: [7, 6, 4, 10, 2, 3]\n",
      "로또 2: [5, 1, 3, 10, 2, 9]\n",
      "로또 3: [1, 8, 7, 3, 6, 10]\n",
      "로또 4: [10, 1, 9, 7, 5, 3]\n",
      "로또 5: [5, 10, 1, 6, 7, 4]\n"
     ]
    }
   ],
   "source": [
    "# 불법 사설로또 생성(상속)\n",
    "class Illegal_lotto(Lotto):\n",
    "    # 초기속성 변경\n",
    "    def __init__(self, name):\n",
    "        self.name = name\n",
    "        self.key = 0\n",
    "        print('오늘 당신의 행운은?')\n",
    "lotto2 = Illegal_lotto('사설로또')\n",
    "lotto2.do_lotto()"
   ]
  },
  {
   "cell_type": "markdown",
   "metadata": {},
   "source": [
    "## 실습3. 특정 기념일로부터 얼마나 경과되었는지 알려주는 함수"
   ]
  },
  {
   "cell_type": "code",
   "execution_count": 14,
   "metadata": {},
   "outputs": [],
   "source": [
    "# - 경과일자가 1000일이 넘는 경우, 천 단위로 콤마(,)를 붙혀서 출력\n",
    "# - 구현할 함수의 옵션:\n",
    "# from datetime import datetime\n",
    "# def getMemorialDay(year, month, day, mem_day='기념일', is_msg=True):\n",
    "#     return remain_year, remain_month, remain_day\n",
    "# - 출력형태\n",
    "# > getMemorialDay(2014, 4, 15, '세월호침몰사고일')\n",
    "# 오늘은 \"세월호침몰사고일\"로부터 1,658일 경과되었고, 달 수로는 55개우러재, 연 수로는 4년째 되었습니다.\n",
    "# > _y, _m, elapsed_day = getMemoraialDay(2018, 12, 25, '크리스마스', False)\n",
    "# '크리스마스까지는 %d일 남았습니다.' % -elapsed_day"
   ]
  },
  {
   "cell_type": "code",
   "execution_count": 15,
   "metadata": {},
   "outputs": [],
   "source": [
    "# 작업 순서\n",
    "# 세 자리마다 콤마(,) 넣기\n",
    "# getMemorialDay 함수 선언\n",
    "## 경과일 계산\n",
    "## 경과일 표현\n",
    "# 세월호침몰사고 날짜 입력\n",
    "# 크리스마스 날짜 입력"
   ]
  },
  {
   "cell_type": "code",
   "execution_count": 16,
   "metadata": {},
   "outputs": [
    {
     "name": "stdout",
     "output_type": "stream",
     "text": [
      "123,456,890\n"
     ]
    }
   ],
   "source": [
    "# 세 자리마다 콤마(,) 넣는 함수\n",
    "\n",
    "def comma_maker(num):\n",
    "    num_str = str(num)\n",
    "    num_list = list(num_str)        # 한 자리씩 끊어 리스트화\n",
    "    first_comma = len(num_str) % 3  # 0번째 콤마 자리\n",
    "\n",
    "    for n in range(len(num_list)//3):\n",
    "        comma = first_comma + 3*n + n   # n번째 콤마 자리 =  0번째 콤마 자리 + 3*n(3자리씩 끊기) +  n(더해진 콤마 개수)\n",
    "        # print('콤마 자리:', comma)\n",
    "        num_list.insert(comma, ',')     # 리스트에 콤마를 추가\n",
    "    # print(num_list)\n",
    "\n",
    "    if num_list[0] == ',': num_list.pop(0)  # 리스트 처음에 콤마가 올 경우 추출해버리기\n",
    "\n",
    "    new_letter = str()\n",
    "    for letter in num_list:\n",
    "        new_letter = new_letter + str(letter)  # 리스트를 하나의 글자로 반환\n",
    "\n",
    "    return(new_letter)\n",
    "\n",
    "print(comma_maker(123456890))"
   ]
  },
  {
   "cell_type": "code",
   "execution_count": 17,
   "metadata": {},
   "outputs": [],
   "source": [
    "# getMemorialDay 함수 선언\n",
    "from datetime import datetime as D\n",
    "\n",
    "def getMemorialDay(year, month, day, mem_day='기념일', is_msg=True):\n",
    "    the_date = D(year, month, day)\n",
    "    today = D.today()\n",
    "    elapsed = today - the_date  # class 'datetime.timedelta'\n",
    "    remain_day = elapsed.days\n",
    "    remain_month = remain_day // 30\n",
    "    remain_year = remain_day // 365\n",
    "    # print(remain_day, remain_month, remain_year)\n",
    "\n",
    "    if today > the_date:\n",
    "        print('오늘은 \"세월호침몰사고일\"로부터 {d}일 경과되었고, 달 수로는 {m}개월째, 햇수로는 {y}년째 되었습니다.'.format(\n",
    "            d = comma_maker(remain_day),\n",
    "            m = remain_month,\n",
    "            y = remain_year\n",
    "        ))\n",
    "    else:\n",
    "        print('%s까지는 %d일 남았습니다.' % (mem_day, -remain_day))"
   ]
  },
  {
   "cell_type": "code",
   "execution_count": 18,
   "metadata": {},
   "outputs": [
    {
     "name": "stdout",
     "output_type": "stream",
     "text": [
      "오늘은 \"세월호침몰사고일\"로부터 1,661일 경과되었고, 달 수로는 55개월째, 햇수로는 4년째 되었습니다.\n"
     ]
    }
   ],
   "source": [
    "getMemorialDay(2014, 4, 15, '세월호침몰사고일')"
   ]
  },
  {
   "cell_type": "code",
   "execution_count": 19,
   "metadata": {},
   "outputs": [
    {
     "name": "stdout",
     "output_type": "stream",
     "text": [
      "크리스마스까지는 54일 남았습니다.\n"
     ]
    }
   ],
   "source": [
    "getMemorialDay(2018, 12, 25, '크리스마스', False)"
   ]
  },
  {
   "cell_type": "markdown",
   "metadata": {},
   "source": [
    "## 실습4. 리스트에서 각 변수를 세어 히스토그램 만들기"
   ]
  },
  {
   "cell_type": "code",
   "execution_count": 20,
   "metadata": {},
   "outputs": [],
   "source": [
    "from functools import *\n",
    "\n",
    "animals = [\"cat\", \"cat\", \"cat\", \"sheep\", \"sheep\", \"duck\", \"duck\", \"duck\", \"duck\"]"
   ]
  },
  {
   "cell_type": "code",
   "execution_count": 23,
   "metadata": {},
   "outputs": [
    {
     "name": "stdout",
     "output_type": "stream",
     "text": [
      "result: {'cat': 3, 'sheep': 2, 'duck': 4}\n",
      "cat \t ===\n",
      "sheep \t ==\n",
      "duck \t ====\n"
     ]
    }
   ],
   "source": [
    "count = {}\n",
    "\n",
    "def draw_histogram(a, b):\n",
    "#     print(a, b)\n",
    "\n",
    "    if bool(count) == False:\n",
    "#         print('empty dict:', count)\n",
    "        count[a] = 1\n",
    "    else:\n",
    "#         print('dict exists')\n",
    "        pass\n",
    "\n",
    "    if b in count.keys():\n",
    "#         print('plus')\n",
    "        count[b] += 1\n",
    "    else:\n",
    "#         print('make one')\n",
    "        count[b] = 1\n",
    "\n",
    "#     print('count:', count, '\\n', '-'*40)\n",
    "    return count\n",
    "\n",
    "result = reduce(draw_histogram, animals)\n",
    "print('result:', result)\n",
    "for key in result.keys():\n",
    "    print(key, '\\t', '='*result[key])"
   ]
  },
  {
   "cell_type": "code",
   "execution_count": null,
   "metadata": {},
   "outputs": [],
   "source": []
  }
 ],
 "metadata": {
  "kernelspec": {
   "display_name": "Python 3",
   "language": "python",
   "name": "python3"
  },
  "language_info": {
   "codemirror_mode": {
    "name": "ipython",
    "version": 3
   },
   "file_extension": ".py",
   "mimetype": "text/x-python",
   "name": "python",
   "nbconvert_exporter": "python",
   "pygments_lexer": "ipython3",
   "version": "3.6.5"
  }
 },
 "nbformat": 4,
 "nbformat_minor": 2
}
