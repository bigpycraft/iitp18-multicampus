{
 "cells": [
  {
   "cell_type": "markdown",
   "metadata": {},
   "source": [
    "# 실습1. 데이터타입에 대한 이해\n",
    "-  2^15 = 32768 의 각 자리수를 더하면 3+2+7+6+8 = 26입니다.\n",
    "-  2^1000의 각 자리수를 모두 더하면 얼마입니까?\n"
   ]
  },
  {
   "cell_type": "code",
   "execution_count": 55,
   "metadata": {
    "scrolled": true
   },
   "outputs": [
    {
     "data": {
      "text/plain": [
       "1189"
      ]
     },
     "execution_count": 55,
     "metadata": {},
     "output_type": "execute_result"
    }
   ],
   "source": [
    "from functools import*\n",
    "\n",
    "given_num = 2**1000\n",
    "#print(len(str(given_num)))\n",
    "num_list=[]\n",
    "\n",
    "for j in range(len(str(given_num))):\n",
    "    num = int(given_num%10)\n",
    "    num_list.append(num)\n",
    "    given_num = (given_num- num)/10\n",
    "\n",
    "#print(num_list)\n",
    "\n",
    "def sum(list):\n",
    "    return reduce(lambda x,y: x+y, list)\n",
    "\n",
    "sum(num_list)\n"
   ]
  },
  {
   "cell_type": "markdown",
   "metadata": {},
   "source": [
    "# 실습2. 로또번호를 주문하는 클래스(class lotto)를 생성하시오.\n",
    "- 로또는 1~10까지 주문가능\n",
    "- 6개의 숫자로 된 로또는 오름차순으로 정렬\n",
    "- 주문한 개수만큼의 일련번호를 달아 로또번호를 출력\n",
    "- OOP기반으로 클래스에 메소드를 최대한 모듈화"
   ]
  },
  {
   "cell_type": "code",
   "execution_count": 5,
   "metadata": {},
   "outputs": [],
   "source": [
    "import random \n",
    "\n",
    "class Lotto:\n",
    "    def __init__(self):\n",
    "        self.cnt = int()\n",
    "        self.one_list=[]\n",
    "        self.final_list=[]\n",
    "    \n",
    "    def getSetcount(self):\n",
    "        number = set('0123456789')\n",
    "        while True:\n",
    "            getcnt = input('몇 세트 사시겠어요? 0~10 사이의 숫자')\n",
    "            #a = str(getcnt)\n",
    "            #a = set(a)\n",
    "            if set(getcnt) - number == set() : \n",
    "                getcnt = int(getcnt)\n",
    "                #getcnt[0] = int(getcnt[0])\n",
    "                if getcnt <= 10 and getcnt >= 1 :\n",
    "                    break\n",
    "                else : \n",
    "                    print('1과 10사이의 숫자를 입력해주세요.')\n",
    "                    continue\n",
    "            else : print('숫자 1과 10사이의 숫자를 입력해주세요.')\n",
    "                \n",
    "        self.cnt = getcnt\n",
    "        \n",
    "    def getOneSet(self):\n",
    "        self.one_list = random.sample(range(1,46),6)\n",
    "        self.final_list.append(self.one_list)\n",
    "        return self.one_list\n",
    "    \n",
    "    def finalSet(self):\n",
    "        for i in range(self.cnt):\n",
    "            self.getOneSet()\n",
    "        return self.final_list\n",
    "    \n",
    "    def finalPrint(self):\n",
    "        for i in range(self.cnt):\n",
    "            number = i+1\n",
    "            print('{0} : {1}'.format(number, self.final_list[i]))\n",
    "            \n",
    "        \n",
    "        \n",
    "        \n"
   ]
  },
  {
   "cell_type": "code",
   "execution_count": 6,
   "metadata": {},
   "outputs": [
    {
     "name": "stdout",
     "output_type": "stream",
     "text": [
      "몇 세트 사시겠어요? 0~10 사이의 숫자2\n",
      "1 : [8, 15, 37, 27, 42, 19]\n",
      "2 : [3, 29, 19, 14, 4, 23]\n"
     ]
    }
   ],
   "source": [
    "lotto = Lotto()\n",
    "lotto.getSetcount()\n",
    "lotto.finalSet()\n",
    "lotto.finalPrint()"
   ]
  },
  {
   "cell_type": "code",
   "execution_count": null,
   "metadata": {},
   "outputs": [],
   "source": []
  },
  {
   "cell_type": "markdown",
   "metadata": {},
   "source": [
    "# 실습3 특정기념일로부터 얼마나 경과되었는지 알려주는 함수를 만드시오.\n",
    "- 천단위에 , 붙여서 출력하기\n",
    "- 구현할 함수의 옵션\n",
    "    from datetime import datetime\n",
    "    def getMemorialDay(year, month, day, mem_day='기념일', is_msg = True):\n",
    "    return remain_year, remain_month, remain_day\n",
    "- 출력형태\n"
   ]
  },
  {
   "cell_type": "code",
   "execution_count": 76,
   "metadata": {},
   "outputs": [],
   "source": [
    "from datetime import datetime\n",
    "   \n",
    "def getMemorialDay(year, month, day, mem_day='기념일', is_msg = True): \n",
    "    memday = datetime(year, month, day)\n",
    "    \n",
    "    #print(memday)\n",
    "    today = datetime.now()\n",
    "    passDay = abs(today-memday)\n",
    "    abs(passDay)\n",
    "    #print(passDay)\n",
    "    passDay = passDay.days\n",
    "    rMonth = passDay//30\n",
    "    rYear = passDay//365\n",
    "    \n",
    "    if today > memday :\n",
    "        print(\"오늘은 {0}로부터 {1}일 경과되었고, 달 수로는 {2}개월 째, 연 수로는 {3}년 째 되었습니다!!\".format(mem_day, passDay, rMonth,rYear))\n",
    "    else: \n",
    "        print(\"{0} 까지는 {1}일 남았습니다!!\".format(mem_day, passDay))\n",
    "    return"
   ]
  },
  {
   "cell_type": "code",
   "execution_count": 78,
   "metadata": {},
   "outputs": [
    {
     "name": "stdout",
     "output_type": "stream",
     "text": [
      "xmas 까지는 419일 남았습니다!!\n"
     ]
    }
   ],
   "source": [
    "getMemorialDay(2019,12,25,'xmas')"
   ]
  },
  {
   "cell_type": "markdown",
   "metadata": {},
   "source": [
    "# 실습4. reduce를 사용하여 히스토그램 함수를 작성하시오."
   ]
  },
  {
   "cell_type": "code",
   "execution_count": 23,
   "metadata": {},
   "outputs": [
    {
     "name": "stdout",
     "output_type": "stream",
     "text": [
      "Once deleted, variables cannot be recovered. Proceed (y/[n])? y\n"
     ]
    }
   ],
   "source": [
    "reset"
   ]
  },
  {
   "cell_type": "code",
   "execution_count": 26,
   "metadata": {
    "scrolled": true
   },
   "outputs": [
    {
     "name": "stdout",
     "output_type": "stream",
     "text": [
      "['duck', 'sheep', 'cat']\n"
     ]
    },
    {
     "data": {
      "text/plain": [
       "{'cat': 3, 'sheep': 2, 'duck': 4}"
      ]
     },
     "execution_count": 26,
     "metadata": {},
     "output_type": "execute_result"
    }
   ],
   "source": [
    "from functools import reduce\n",
    "\n",
    "animals = [\"cat\", \"cat\", \"cat\", \"sheep\", \"sheep\", \"duck\", \"duck\", \"duck\", \"duck\" ]\n",
    "animals_set = set(animals)\n",
    "animals_set = list(animals_set)\n",
    "\n",
    "print(animals_set)\n",
    "count = 0\n",
    "count_list = []\n",
    "\n",
    "# for i in range(len(animals_set)):\n",
    "#     check = animals_set[i]\n",
    "#     for animal in animals:\n",
    "#         if animal == check :\n",
    "#             count += 1\n",
    "#     count_list.append(count)\n",
    "    \n",
    "# print(count_list)\n",
    "\n",
    "def count(dic, key) :\n",
    "   \n",
    "    if key in dic:\n",
    "        dic[key] += 1    \n",
    "    else : \n",
    "        dic[key] = 1\n",
    "    return dic\n",
    "\n",
    "reduce(count, animals, {})\n",
    "\n",
    "def draw_histogram(data):\n",
    "    for i in range(3):\n",
    "        print(dic[0])"
   ]
  },
  {
   "cell_type": "code",
   "execution_count": null,
   "metadata": {},
   "outputs": [],
   "source": []
  },
  {
   "cell_type": "code",
   "execution_count": null,
   "metadata": {},
   "outputs": [],
   "source": []
  },
  {
   "cell_type": "code",
   "execution_count": null,
   "metadata": {},
   "outputs": [],
   "source": []
  },
  {
   "cell_type": "code",
   "execution_count": null,
   "metadata": {},
   "outputs": [],
   "source": []
  },
  {
   "cell_type": "code",
   "execution_count": null,
   "metadata": {},
   "outputs": [],
   "source": []
  },
  {
   "cell_type": "code",
   "execution_count": null,
   "metadata": {},
   "outputs": [],
   "source": []
  },
  {
   "cell_type": "code",
   "execution_count": null,
   "metadata": {},
   "outputs": [],
   "source": []
  },
  {
   "cell_type": "code",
   "execution_count": null,
   "metadata": {},
   "outputs": [],
   "source": []
  }
 ],
 "metadata": {
  "kernelspec": {
   "display_name": "Python 3",
   "language": "python",
   "name": "python3"
  },
  "language_info": {
   "codemirror_mode": {
    "name": "ipython",
    "version": 3
   },
   "file_extension": ".py",
   "mimetype": "text/x-python",
   "name": "python",
   "nbconvert_exporter": "python",
   "pygments_lexer": "ipython3",
   "version": "3.6.5"
  }
 },
 "nbformat": 4,
 "nbformat_minor": 2
}
