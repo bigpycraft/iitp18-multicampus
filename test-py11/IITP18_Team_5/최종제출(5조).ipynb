{
 "cells": [
  {
   "cell_type": "markdown",
   "metadata": {},
   "source": [
    "## 데이터 수집"
   ]
  },
  {
   "cell_type": "code",
   "execution_count": 1,
   "metadata": {},
   "outputs": [
    {
     "name": "stdout",
     "output_type": "stream",
     "text": [
      "pygame 1.9.4\n",
      "Hello from the pygame community. https://www.pygame.org/contribute.html\n"
     ]
    }
   ],
   "source": [
    "from bs4 import BeautifulSoup \n",
    "from urllib.request import urlopen\n",
    "from konlpy.tag import Twitter\n",
    "from lxml import html\n",
    "from collections import Counter\n",
    "from datetime import datetime, timedelta\n",
    "\n",
    "import pandas as pd\n",
    "import re\n",
    "import random\n",
    "import pytagcloud      # requires Korean font support\n",
    "import webbrowser\n",
    "import nltk\n",
    "import numpy as np\n",
    "import matplotlib.pyplot as plt\n",
    "import matplotlib\n",
    "import datetime\n",
    "\n",
    "matplotlib.rcParams['axes.unicode_minus'] = False\n",
    "\n",
    "from matplotlib import font_manager, rc\n",
    "from pylab import figure, axes, pie, title, savefig\n",
    "font_name = font_manager.FontProperties(fname=\"C:/Windows/Fonts/malgun.ttf\").get_name()\n",
    "rc('font', family=font_name)"
   ]
  },
  {
   "cell_type": "markdown",
   "metadata": {},
   "source": [
    "### 언론사 제목 수집(조선,세계,한겨레)"
   ]
  },
  {
   "cell_type": "markdown",
   "metadata": {},
   "source": [
    "### URL 입력"
   ]
  },
  {
   "cell_type": "code",
   "execution_count": 4,
   "metadata": {},
   "outputs": [
    {
     "name": "stdout",
     "output_type": "stream",
     "text": [
      "url 주소를 입력하세요. \n",
      "정치 : http://www.segye.com/newsList/0101010100000?curPage=\n",
      "경제 : http://www.segye.com/newsList/0101030100000?curPage=\n",
      "사회 : http://www.segye.com/newsList/0101080100000?curPage= \n",
      "http://www.segye.com/newsList/0101030100000?curPage=\n"
     ]
    }
   ],
   "source": [
    "urls = []\n",
    "url = input(\"url 주소를 입력하세요. \\n정치 : http://www.segye.com/newsList/0101010100000?curPage=\\n경제 : http://www.segye.com/newsList/0101030100000?curPage=\\n사회 : http://www.segye.com/newsList/0101080100000?curPage= \\n\")\n",
    "for x in range(1, 1000):\n",
    "    urls.append('%s%d' % (url, x))"
   ]
  },
  {
   "cell_type": "code",
   "execution_count": 5,
   "metadata": {},
   "outputs": [
    {
     "data": {
      "text/plain": [
       "999"
      ]
     },
     "execution_count": 5,
     "metadata": {},
     "output_type": "execute_result"
    }
   ],
   "source": [
    "len(urls)"
   ]
  },
  {
   "cell_type": "code",
   "execution_count": 6,
   "metadata": {},
   "outputs": [
    {
     "data": {
      "text/plain": [
       "['http://www.segye.com/newsList/0101030100000?curPage=1',\n",
       " 'http://www.segye.com/newsList/0101030100000?curPage=2',\n",
       " 'http://www.segye.com/newsList/0101030100000?curPage=3',\n",
       " 'http://www.segye.com/newsList/0101030100000?curPage=4',\n",
       " 'http://www.segye.com/newsList/0101030100000?curPage=5',\n",
       " 'http://www.segye.com/newsList/0101030100000?curPage=6',\n",
       " 'http://www.segye.com/newsList/0101030100000?curPage=7',\n",
       " 'http://www.segye.com/newsList/0101030100000?curPage=8',\n",
       " 'http://www.segye.com/newsList/0101030100000?curPage=9',\n",
       " 'http://www.segye.com/newsList/0101030100000?curPage=10',\n",
       " 'http://www.segye.com/newsList/0101030100000?curPage=11',\n",
       " 'http://www.segye.com/newsList/0101030100000?curPage=12',\n",
       " 'http://www.segye.com/newsList/0101030100000?curPage=13',\n",
       " 'http://www.segye.com/newsList/0101030100000?curPage=14',\n",
       " 'http://www.segye.com/newsList/0101030100000?curPage=15',\n",
       " 'http://www.segye.com/newsList/0101030100000?curPage=16',\n",
       " 'http://www.segye.com/newsList/0101030100000?curPage=17',\n",
       " 'http://www.segye.com/newsList/0101030100000?curPage=18',\n",
       " 'http://www.segye.com/newsList/0101030100000?curPage=19',\n",
       " 'http://www.segye.com/newsList/0101030100000?curPage=20',\n",
       " 'http://www.segye.com/newsList/0101030100000?curPage=21',\n",
       " 'http://www.segye.com/newsList/0101030100000?curPage=22',\n",
       " 'http://www.segye.com/newsList/0101030100000?curPage=23',\n",
       " 'http://www.segye.com/newsList/0101030100000?curPage=24',\n",
       " 'http://www.segye.com/newsList/0101030100000?curPage=25',\n",
       " 'http://www.segye.com/newsList/0101030100000?curPage=26',\n",
       " 'http://www.segye.com/newsList/0101030100000?curPage=27',\n",
       " 'http://www.segye.com/newsList/0101030100000?curPage=28',\n",
       " 'http://www.segye.com/newsList/0101030100000?curPage=29',\n",
       " 'http://www.segye.com/newsList/0101030100000?curPage=30',\n",
       " 'http://www.segye.com/newsList/0101030100000?curPage=31',\n",
       " 'http://www.segye.com/newsList/0101030100000?curPage=32',\n",
       " 'http://www.segye.com/newsList/0101030100000?curPage=33',\n",
       " 'http://www.segye.com/newsList/0101030100000?curPage=34',\n",
       " 'http://www.segye.com/newsList/0101030100000?curPage=35',\n",
       " 'http://www.segye.com/newsList/0101030100000?curPage=36',\n",
       " 'http://www.segye.com/newsList/0101030100000?curPage=37',\n",
       " 'http://www.segye.com/newsList/0101030100000?curPage=38',\n",
       " 'http://www.segye.com/newsList/0101030100000?curPage=39',\n",
       " 'http://www.segye.com/newsList/0101030100000?curPage=40',\n",
       " 'http://www.segye.com/newsList/0101030100000?curPage=41',\n",
       " 'http://www.segye.com/newsList/0101030100000?curPage=42',\n",
       " 'http://www.segye.com/newsList/0101030100000?curPage=43',\n",
       " 'http://www.segye.com/newsList/0101030100000?curPage=44',\n",
       " 'http://www.segye.com/newsList/0101030100000?curPage=45',\n",
       " 'http://www.segye.com/newsList/0101030100000?curPage=46',\n",
       " 'http://www.segye.com/newsList/0101030100000?curPage=47',\n",
       " 'http://www.segye.com/newsList/0101030100000?curPage=48',\n",
       " 'http://www.segye.com/newsList/0101030100000?curPage=49',\n",
       " 'http://www.segye.com/newsList/0101030100000?curPage=50',\n",
       " 'http://www.segye.com/newsList/0101030100000?curPage=51',\n",
       " 'http://www.segye.com/newsList/0101030100000?curPage=52',\n",
       " 'http://www.segye.com/newsList/0101030100000?curPage=53',\n",
       " 'http://www.segye.com/newsList/0101030100000?curPage=54',\n",
       " 'http://www.segye.com/newsList/0101030100000?curPage=55',\n",
       " 'http://www.segye.com/newsList/0101030100000?curPage=56',\n",
       " 'http://www.segye.com/newsList/0101030100000?curPage=57',\n",
       " 'http://www.segye.com/newsList/0101030100000?curPage=58',\n",
       " 'http://www.segye.com/newsList/0101030100000?curPage=59',\n",
       " 'http://www.segye.com/newsList/0101030100000?curPage=60',\n",
       " 'http://www.segye.com/newsList/0101030100000?curPage=61',\n",
       " 'http://www.segye.com/newsList/0101030100000?curPage=62',\n",
       " 'http://www.segye.com/newsList/0101030100000?curPage=63',\n",
       " 'http://www.segye.com/newsList/0101030100000?curPage=64',\n",
       " 'http://www.segye.com/newsList/0101030100000?curPage=65',\n",
       " 'http://www.segye.com/newsList/0101030100000?curPage=66',\n",
       " 'http://www.segye.com/newsList/0101030100000?curPage=67',\n",
       " 'http://www.segye.com/newsList/0101030100000?curPage=68',\n",
       " 'http://www.segye.com/newsList/0101030100000?curPage=69',\n",
       " 'http://www.segye.com/newsList/0101030100000?curPage=70',\n",
       " 'http://www.segye.com/newsList/0101030100000?curPage=71',\n",
       " 'http://www.segye.com/newsList/0101030100000?curPage=72',\n",
       " 'http://www.segye.com/newsList/0101030100000?curPage=73',\n",
       " 'http://www.segye.com/newsList/0101030100000?curPage=74',\n",
       " 'http://www.segye.com/newsList/0101030100000?curPage=75',\n",
       " 'http://www.segye.com/newsList/0101030100000?curPage=76',\n",
       " 'http://www.segye.com/newsList/0101030100000?curPage=77',\n",
       " 'http://www.segye.com/newsList/0101030100000?curPage=78',\n",
       " 'http://www.segye.com/newsList/0101030100000?curPage=79',\n",
       " 'http://www.segye.com/newsList/0101030100000?curPage=80',\n",
       " 'http://www.segye.com/newsList/0101030100000?curPage=81',\n",
       " 'http://www.segye.com/newsList/0101030100000?curPage=82',\n",
       " 'http://www.segye.com/newsList/0101030100000?curPage=83',\n",
       " 'http://www.segye.com/newsList/0101030100000?curPage=84',\n",
       " 'http://www.segye.com/newsList/0101030100000?curPage=85',\n",
       " 'http://www.segye.com/newsList/0101030100000?curPage=86',\n",
       " 'http://www.segye.com/newsList/0101030100000?curPage=87',\n",
       " 'http://www.segye.com/newsList/0101030100000?curPage=88',\n",
       " 'http://www.segye.com/newsList/0101030100000?curPage=89',\n",
       " 'http://www.segye.com/newsList/0101030100000?curPage=90',\n",
       " 'http://www.segye.com/newsList/0101030100000?curPage=91',\n",
       " 'http://www.segye.com/newsList/0101030100000?curPage=92',\n",
       " 'http://www.segye.com/newsList/0101030100000?curPage=93',\n",
       " 'http://www.segye.com/newsList/0101030100000?curPage=94',\n",
       " 'http://www.segye.com/newsList/0101030100000?curPage=95',\n",
       " 'http://www.segye.com/newsList/0101030100000?curPage=96',\n",
       " 'http://www.segye.com/newsList/0101030100000?curPage=97',\n",
       " 'http://www.segye.com/newsList/0101030100000?curPage=98',\n",
       " 'http://www.segye.com/newsList/0101030100000?curPage=99',\n",
       " 'http://www.segye.com/newsList/0101030100000?curPage=100',\n",
       " 'http://www.segye.com/newsList/0101030100000?curPage=101',\n",
       " 'http://www.segye.com/newsList/0101030100000?curPage=102',\n",
       " 'http://www.segye.com/newsList/0101030100000?curPage=103',\n",
       " 'http://www.segye.com/newsList/0101030100000?curPage=104',\n",
       " 'http://www.segye.com/newsList/0101030100000?curPage=105',\n",
       " 'http://www.segye.com/newsList/0101030100000?curPage=106',\n",
       " 'http://www.segye.com/newsList/0101030100000?curPage=107',\n",
       " 'http://www.segye.com/newsList/0101030100000?curPage=108',\n",
       " 'http://www.segye.com/newsList/0101030100000?curPage=109',\n",
       " 'http://www.segye.com/newsList/0101030100000?curPage=110',\n",
       " 'http://www.segye.com/newsList/0101030100000?curPage=111',\n",
       " 'http://www.segye.com/newsList/0101030100000?curPage=112',\n",
       " 'http://www.segye.com/newsList/0101030100000?curPage=113',\n",
       " 'http://www.segye.com/newsList/0101030100000?curPage=114',\n",
       " 'http://www.segye.com/newsList/0101030100000?curPage=115',\n",
       " 'http://www.segye.com/newsList/0101030100000?curPage=116',\n",
       " 'http://www.segye.com/newsList/0101030100000?curPage=117',\n",
       " 'http://www.segye.com/newsList/0101030100000?curPage=118',\n",
       " 'http://www.segye.com/newsList/0101030100000?curPage=119',\n",
       " 'http://www.segye.com/newsList/0101030100000?curPage=120',\n",
       " 'http://www.segye.com/newsList/0101030100000?curPage=121',\n",
       " 'http://www.segye.com/newsList/0101030100000?curPage=122',\n",
       " 'http://www.segye.com/newsList/0101030100000?curPage=123',\n",
       " 'http://www.segye.com/newsList/0101030100000?curPage=124',\n",
       " 'http://www.segye.com/newsList/0101030100000?curPage=125',\n",
       " 'http://www.segye.com/newsList/0101030100000?curPage=126',\n",
       " 'http://www.segye.com/newsList/0101030100000?curPage=127',\n",
       " 'http://www.segye.com/newsList/0101030100000?curPage=128',\n",
       " 'http://www.segye.com/newsList/0101030100000?curPage=129',\n",
       " 'http://www.segye.com/newsList/0101030100000?curPage=130',\n",
       " 'http://www.segye.com/newsList/0101030100000?curPage=131',\n",
       " 'http://www.segye.com/newsList/0101030100000?curPage=132',\n",
       " 'http://www.segye.com/newsList/0101030100000?curPage=133',\n",
       " 'http://www.segye.com/newsList/0101030100000?curPage=134',\n",
       " 'http://www.segye.com/newsList/0101030100000?curPage=135',\n",
       " 'http://www.segye.com/newsList/0101030100000?curPage=136',\n",
       " 'http://www.segye.com/newsList/0101030100000?curPage=137',\n",
       " 'http://www.segye.com/newsList/0101030100000?curPage=138',\n",
       " 'http://www.segye.com/newsList/0101030100000?curPage=139',\n",
       " 'http://www.segye.com/newsList/0101030100000?curPage=140',\n",
       " 'http://www.segye.com/newsList/0101030100000?curPage=141',\n",
       " 'http://www.segye.com/newsList/0101030100000?curPage=142',\n",
       " 'http://www.segye.com/newsList/0101030100000?curPage=143',\n",
       " 'http://www.segye.com/newsList/0101030100000?curPage=144',\n",
       " 'http://www.segye.com/newsList/0101030100000?curPage=145',\n",
       " 'http://www.segye.com/newsList/0101030100000?curPage=146',\n",
       " 'http://www.segye.com/newsList/0101030100000?curPage=147',\n",
       " 'http://www.segye.com/newsList/0101030100000?curPage=148',\n",
       " 'http://www.segye.com/newsList/0101030100000?curPage=149',\n",
       " 'http://www.segye.com/newsList/0101030100000?curPage=150',\n",
       " 'http://www.segye.com/newsList/0101030100000?curPage=151',\n",
       " 'http://www.segye.com/newsList/0101030100000?curPage=152',\n",
       " 'http://www.segye.com/newsList/0101030100000?curPage=153',\n",
       " 'http://www.segye.com/newsList/0101030100000?curPage=154',\n",
       " 'http://www.segye.com/newsList/0101030100000?curPage=155',\n",
       " 'http://www.segye.com/newsList/0101030100000?curPage=156',\n",
       " 'http://www.segye.com/newsList/0101030100000?curPage=157',\n",
       " 'http://www.segye.com/newsList/0101030100000?curPage=158',\n",
       " 'http://www.segye.com/newsList/0101030100000?curPage=159',\n",
       " 'http://www.segye.com/newsList/0101030100000?curPage=160',\n",
       " 'http://www.segye.com/newsList/0101030100000?curPage=161',\n",
       " 'http://www.segye.com/newsList/0101030100000?curPage=162',\n",
       " 'http://www.segye.com/newsList/0101030100000?curPage=163',\n",
       " 'http://www.segye.com/newsList/0101030100000?curPage=164',\n",
       " 'http://www.segye.com/newsList/0101030100000?curPage=165',\n",
       " 'http://www.segye.com/newsList/0101030100000?curPage=166',\n",
       " 'http://www.segye.com/newsList/0101030100000?curPage=167',\n",
       " 'http://www.segye.com/newsList/0101030100000?curPage=168',\n",
       " 'http://www.segye.com/newsList/0101030100000?curPage=169',\n",
       " 'http://www.segye.com/newsList/0101030100000?curPage=170',\n",
       " 'http://www.segye.com/newsList/0101030100000?curPage=171',\n",
       " 'http://www.segye.com/newsList/0101030100000?curPage=172',\n",
       " 'http://www.segye.com/newsList/0101030100000?curPage=173',\n",
       " 'http://www.segye.com/newsList/0101030100000?curPage=174',\n",
       " 'http://www.segye.com/newsList/0101030100000?curPage=175',\n",
       " 'http://www.segye.com/newsList/0101030100000?curPage=176',\n",
       " 'http://www.segye.com/newsList/0101030100000?curPage=177',\n",
       " 'http://www.segye.com/newsList/0101030100000?curPage=178',\n",
       " 'http://www.segye.com/newsList/0101030100000?curPage=179',\n",
       " 'http://www.segye.com/newsList/0101030100000?curPage=180',\n",
       " 'http://www.segye.com/newsList/0101030100000?curPage=181',\n",
       " 'http://www.segye.com/newsList/0101030100000?curPage=182',\n",
       " 'http://www.segye.com/newsList/0101030100000?curPage=183',\n",
       " 'http://www.segye.com/newsList/0101030100000?curPage=184',\n",
       " 'http://www.segye.com/newsList/0101030100000?curPage=185',\n",
       " 'http://www.segye.com/newsList/0101030100000?curPage=186',\n",
       " 'http://www.segye.com/newsList/0101030100000?curPage=187',\n",
       " 'http://www.segye.com/newsList/0101030100000?curPage=188',\n",
       " 'http://www.segye.com/newsList/0101030100000?curPage=189',\n",
       " 'http://www.segye.com/newsList/0101030100000?curPage=190',\n",
       " 'http://www.segye.com/newsList/0101030100000?curPage=191',\n",
       " 'http://www.segye.com/newsList/0101030100000?curPage=192',\n",
       " 'http://www.segye.com/newsList/0101030100000?curPage=193',\n",
       " 'http://www.segye.com/newsList/0101030100000?curPage=194',\n",
       " 'http://www.segye.com/newsList/0101030100000?curPage=195',\n",
       " 'http://www.segye.com/newsList/0101030100000?curPage=196',\n",
       " 'http://www.segye.com/newsList/0101030100000?curPage=197',\n",
       " 'http://www.segye.com/newsList/0101030100000?curPage=198',\n",
       " 'http://www.segye.com/newsList/0101030100000?curPage=199',\n",
       " 'http://www.segye.com/newsList/0101030100000?curPage=200',\n",
       " 'http://www.segye.com/newsList/0101030100000?curPage=201',\n",
       " 'http://www.segye.com/newsList/0101030100000?curPage=202',\n",
       " 'http://www.segye.com/newsList/0101030100000?curPage=203',\n",
       " 'http://www.segye.com/newsList/0101030100000?curPage=204',\n",
       " 'http://www.segye.com/newsList/0101030100000?curPage=205',\n",
       " 'http://www.segye.com/newsList/0101030100000?curPage=206',\n",
       " 'http://www.segye.com/newsList/0101030100000?curPage=207',\n",
       " 'http://www.segye.com/newsList/0101030100000?curPage=208',\n",
       " 'http://www.segye.com/newsList/0101030100000?curPage=209',\n",
       " 'http://www.segye.com/newsList/0101030100000?curPage=210',\n",
       " 'http://www.segye.com/newsList/0101030100000?curPage=211',\n",
       " 'http://www.segye.com/newsList/0101030100000?curPage=212',\n",
       " 'http://www.segye.com/newsList/0101030100000?curPage=213',\n",
       " 'http://www.segye.com/newsList/0101030100000?curPage=214',\n",
       " 'http://www.segye.com/newsList/0101030100000?curPage=215',\n",
       " 'http://www.segye.com/newsList/0101030100000?curPage=216',\n",
       " 'http://www.segye.com/newsList/0101030100000?curPage=217',\n",
       " 'http://www.segye.com/newsList/0101030100000?curPage=218',\n",
       " 'http://www.segye.com/newsList/0101030100000?curPage=219',\n",
       " 'http://www.segye.com/newsList/0101030100000?curPage=220',\n",
       " 'http://www.segye.com/newsList/0101030100000?curPage=221',\n",
       " 'http://www.segye.com/newsList/0101030100000?curPage=222',\n",
       " 'http://www.segye.com/newsList/0101030100000?curPage=223',\n",
       " 'http://www.segye.com/newsList/0101030100000?curPage=224',\n",
       " 'http://www.segye.com/newsList/0101030100000?curPage=225',\n",
       " 'http://www.segye.com/newsList/0101030100000?curPage=226',\n",
       " 'http://www.segye.com/newsList/0101030100000?curPage=227',\n",
       " 'http://www.segye.com/newsList/0101030100000?curPage=228',\n",
       " 'http://www.segye.com/newsList/0101030100000?curPage=229',\n",
       " 'http://www.segye.com/newsList/0101030100000?curPage=230',\n",
       " 'http://www.segye.com/newsList/0101030100000?curPage=231',\n",
       " 'http://www.segye.com/newsList/0101030100000?curPage=232',\n",
       " 'http://www.segye.com/newsList/0101030100000?curPage=233',\n",
       " 'http://www.segye.com/newsList/0101030100000?curPage=234',\n",
       " 'http://www.segye.com/newsList/0101030100000?curPage=235',\n",
       " 'http://www.segye.com/newsList/0101030100000?curPage=236',\n",
       " 'http://www.segye.com/newsList/0101030100000?curPage=237',\n",
       " 'http://www.segye.com/newsList/0101030100000?curPage=238',\n",
       " 'http://www.segye.com/newsList/0101030100000?curPage=239',\n",
       " 'http://www.segye.com/newsList/0101030100000?curPage=240',\n",
       " 'http://www.segye.com/newsList/0101030100000?curPage=241',\n",
       " 'http://www.segye.com/newsList/0101030100000?curPage=242',\n",
       " 'http://www.segye.com/newsList/0101030100000?curPage=243',\n",
       " 'http://www.segye.com/newsList/0101030100000?curPage=244',\n",
       " 'http://www.segye.com/newsList/0101030100000?curPage=245',\n",
       " 'http://www.segye.com/newsList/0101030100000?curPage=246',\n",
       " 'http://www.segye.com/newsList/0101030100000?curPage=247',\n",
       " 'http://www.segye.com/newsList/0101030100000?curPage=248',\n",
       " 'http://www.segye.com/newsList/0101030100000?curPage=249',\n",
       " 'http://www.segye.com/newsList/0101030100000?curPage=250',\n",
       " 'http://www.segye.com/newsList/0101030100000?curPage=251',\n",
       " 'http://www.segye.com/newsList/0101030100000?curPage=252',\n",
       " 'http://www.segye.com/newsList/0101030100000?curPage=253',\n",
       " 'http://www.segye.com/newsList/0101030100000?curPage=254',\n",
       " 'http://www.segye.com/newsList/0101030100000?curPage=255',\n",
       " 'http://www.segye.com/newsList/0101030100000?curPage=256',\n",
       " 'http://www.segye.com/newsList/0101030100000?curPage=257',\n",
       " 'http://www.segye.com/newsList/0101030100000?curPage=258',\n",
       " 'http://www.segye.com/newsList/0101030100000?curPage=259',\n",
       " 'http://www.segye.com/newsList/0101030100000?curPage=260',\n",
       " 'http://www.segye.com/newsList/0101030100000?curPage=261',\n",
       " 'http://www.segye.com/newsList/0101030100000?curPage=262',\n",
       " 'http://www.segye.com/newsList/0101030100000?curPage=263',\n",
       " 'http://www.segye.com/newsList/0101030100000?curPage=264',\n",
       " 'http://www.segye.com/newsList/0101030100000?curPage=265',\n",
       " 'http://www.segye.com/newsList/0101030100000?curPage=266',\n",
       " 'http://www.segye.com/newsList/0101030100000?curPage=267',\n",
       " 'http://www.segye.com/newsList/0101030100000?curPage=268',\n",
       " 'http://www.segye.com/newsList/0101030100000?curPage=269',\n",
       " 'http://www.segye.com/newsList/0101030100000?curPage=270',\n",
       " 'http://www.segye.com/newsList/0101030100000?curPage=271',\n",
       " 'http://www.segye.com/newsList/0101030100000?curPage=272',\n",
       " 'http://www.segye.com/newsList/0101030100000?curPage=273',\n",
       " 'http://www.segye.com/newsList/0101030100000?curPage=274',\n",
       " 'http://www.segye.com/newsList/0101030100000?curPage=275',\n",
       " 'http://www.segye.com/newsList/0101030100000?curPage=276',\n",
       " 'http://www.segye.com/newsList/0101030100000?curPage=277',\n",
       " 'http://www.segye.com/newsList/0101030100000?curPage=278',\n",
       " 'http://www.segye.com/newsList/0101030100000?curPage=279',\n",
       " 'http://www.segye.com/newsList/0101030100000?curPage=280',\n",
       " 'http://www.segye.com/newsList/0101030100000?curPage=281',\n",
       " 'http://www.segye.com/newsList/0101030100000?curPage=282',\n",
       " 'http://www.segye.com/newsList/0101030100000?curPage=283',\n",
       " 'http://www.segye.com/newsList/0101030100000?curPage=284',\n",
       " 'http://www.segye.com/newsList/0101030100000?curPage=285',\n",
       " 'http://www.segye.com/newsList/0101030100000?curPage=286',\n",
       " 'http://www.segye.com/newsList/0101030100000?curPage=287',\n",
       " 'http://www.segye.com/newsList/0101030100000?curPage=288',\n",
       " 'http://www.segye.com/newsList/0101030100000?curPage=289',\n",
       " 'http://www.segye.com/newsList/0101030100000?curPage=290',\n",
       " 'http://www.segye.com/newsList/0101030100000?curPage=291',\n",
       " 'http://www.segye.com/newsList/0101030100000?curPage=292',\n",
       " 'http://www.segye.com/newsList/0101030100000?curPage=293',\n",
       " 'http://www.segye.com/newsList/0101030100000?curPage=294',\n",
       " 'http://www.segye.com/newsList/0101030100000?curPage=295',\n",
       " 'http://www.segye.com/newsList/0101030100000?curPage=296',\n",
       " 'http://www.segye.com/newsList/0101030100000?curPage=297',\n",
       " 'http://www.segye.com/newsList/0101030100000?curPage=298',\n",
       " 'http://www.segye.com/newsList/0101030100000?curPage=299',\n",
       " 'http://www.segye.com/newsList/0101030100000?curPage=300',\n",
       " 'http://www.segye.com/newsList/0101030100000?curPage=301',\n",
       " 'http://www.segye.com/newsList/0101030100000?curPage=302',\n",
       " 'http://www.segye.com/newsList/0101030100000?curPage=303',\n",
       " 'http://www.segye.com/newsList/0101030100000?curPage=304',\n",
       " 'http://www.segye.com/newsList/0101030100000?curPage=305',\n",
       " 'http://www.segye.com/newsList/0101030100000?curPage=306',\n",
       " 'http://www.segye.com/newsList/0101030100000?curPage=307',\n",
       " 'http://www.segye.com/newsList/0101030100000?curPage=308',\n",
       " 'http://www.segye.com/newsList/0101030100000?curPage=309',\n",
       " 'http://www.segye.com/newsList/0101030100000?curPage=310',\n",
       " 'http://www.segye.com/newsList/0101030100000?curPage=311',\n",
       " 'http://www.segye.com/newsList/0101030100000?curPage=312',\n",
       " 'http://www.segye.com/newsList/0101030100000?curPage=313',\n",
       " 'http://www.segye.com/newsList/0101030100000?curPage=314',\n",
       " 'http://www.segye.com/newsList/0101030100000?curPage=315',\n",
       " 'http://www.segye.com/newsList/0101030100000?curPage=316',\n",
       " 'http://www.segye.com/newsList/0101030100000?curPage=317',\n",
       " 'http://www.segye.com/newsList/0101030100000?curPage=318',\n",
       " 'http://www.segye.com/newsList/0101030100000?curPage=319',\n",
       " 'http://www.segye.com/newsList/0101030100000?curPage=320',\n",
       " 'http://www.segye.com/newsList/0101030100000?curPage=321',\n",
       " 'http://www.segye.com/newsList/0101030100000?curPage=322',\n",
       " 'http://www.segye.com/newsList/0101030100000?curPage=323',\n",
       " 'http://www.segye.com/newsList/0101030100000?curPage=324',\n",
       " 'http://www.segye.com/newsList/0101030100000?curPage=325',\n",
       " 'http://www.segye.com/newsList/0101030100000?curPage=326',\n",
       " 'http://www.segye.com/newsList/0101030100000?curPage=327',\n",
       " 'http://www.segye.com/newsList/0101030100000?curPage=328',\n",
       " 'http://www.segye.com/newsList/0101030100000?curPage=329',\n",
       " 'http://www.segye.com/newsList/0101030100000?curPage=330',\n",
       " 'http://www.segye.com/newsList/0101030100000?curPage=331',\n",
       " 'http://www.segye.com/newsList/0101030100000?curPage=332',\n",
       " 'http://www.segye.com/newsList/0101030100000?curPage=333',\n",
       " 'http://www.segye.com/newsList/0101030100000?curPage=334',\n",
       " 'http://www.segye.com/newsList/0101030100000?curPage=335',\n",
       " 'http://www.segye.com/newsList/0101030100000?curPage=336',\n",
       " 'http://www.segye.com/newsList/0101030100000?curPage=337',\n",
       " 'http://www.segye.com/newsList/0101030100000?curPage=338',\n",
       " 'http://www.segye.com/newsList/0101030100000?curPage=339',\n",
       " 'http://www.segye.com/newsList/0101030100000?curPage=340',\n",
       " 'http://www.segye.com/newsList/0101030100000?curPage=341',\n",
       " 'http://www.segye.com/newsList/0101030100000?curPage=342',\n",
       " 'http://www.segye.com/newsList/0101030100000?curPage=343',\n",
       " 'http://www.segye.com/newsList/0101030100000?curPage=344',\n",
       " 'http://www.segye.com/newsList/0101030100000?curPage=345',\n",
       " 'http://www.segye.com/newsList/0101030100000?curPage=346',\n",
       " 'http://www.segye.com/newsList/0101030100000?curPage=347',\n",
       " 'http://www.segye.com/newsList/0101030100000?curPage=348',\n",
       " 'http://www.segye.com/newsList/0101030100000?curPage=349',\n",
       " 'http://www.segye.com/newsList/0101030100000?curPage=350',\n",
       " 'http://www.segye.com/newsList/0101030100000?curPage=351',\n",
       " 'http://www.segye.com/newsList/0101030100000?curPage=352',\n",
       " 'http://www.segye.com/newsList/0101030100000?curPage=353',\n",
       " 'http://www.segye.com/newsList/0101030100000?curPage=354',\n",
       " 'http://www.segye.com/newsList/0101030100000?curPage=355',\n",
       " 'http://www.segye.com/newsList/0101030100000?curPage=356',\n",
       " 'http://www.segye.com/newsList/0101030100000?curPage=357',\n",
       " 'http://www.segye.com/newsList/0101030100000?curPage=358',\n",
       " 'http://www.segye.com/newsList/0101030100000?curPage=359',\n",
       " 'http://www.segye.com/newsList/0101030100000?curPage=360',\n",
       " 'http://www.segye.com/newsList/0101030100000?curPage=361',\n",
       " 'http://www.segye.com/newsList/0101030100000?curPage=362',\n",
       " 'http://www.segye.com/newsList/0101030100000?curPage=363',\n",
       " 'http://www.segye.com/newsList/0101030100000?curPage=364',\n",
       " 'http://www.segye.com/newsList/0101030100000?curPage=365',\n",
       " 'http://www.segye.com/newsList/0101030100000?curPage=366',\n",
       " 'http://www.segye.com/newsList/0101030100000?curPage=367',\n",
       " 'http://www.segye.com/newsList/0101030100000?curPage=368',\n",
       " 'http://www.segye.com/newsList/0101030100000?curPage=369',\n",
       " 'http://www.segye.com/newsList/0101030100000?curPage=370',\n",
       " 'http://www.segye.com/newsList/0101030100000?curPage=371',\n",
       " 'http://www.segye.com/newsList/0101030100000?curPage=372',\n",
       " 'http://www.segye.com/newsList/0101030100000?curPage=373',\n",
       " 'http://www.segye.com/newsList/0101030100000?curPage=374',\n",
       " 'http://www.segye.com/newsList/0101030100000?curPage=375',\n",
       " 'http://www.segye.com/newsList/0101030100000?curPage=376',\n",
       " 'http://www.segye.com/newsList/0101030100000?curPage=377',\n",
       " 'http://www.segye.com/newsList/0101030100000?curPage=378',\n",
       " 'http://www.segye.com/newsList/0101030100000?curPage=379',\n",
       " 'http://www.segye.com/newsList/0101030100000?curPage=380',\n",
       " 'http://www.segye.com/newsList/0101030100000?curPage=381',\n",
       " 'http://www.segye.com/newsList/0101030100000?curPage=382',\n",
       " 'http://www.segye.com/newsList/0101030100000?curPage=383',\n",
       " 'http://www.segye.com/newsList/0101030100000?curPage=384',\n",
       " 'http://www.segye.com/newsList/0101030100000?curPage=385',\n",
       " 'http://www.segye.com/newsList/0101030100000?curPage=386',\n",
       " 'http://www.segye.com/newsList/0101030100000?curPage=387',\n",
       " 'http://www.segye.com/newsList/0101030100000?curPage=388',\n",
       " 'http://www.segye.com/newsList/0101030100000?curPage=389',\n",
       " 'http://www.segye.com/newsList/0101030100000?curPage=390',\n",
       " 'http://www.segye.com/newsList/0101030100000?curPage=391',\n",
       " 'http://www.segye.com/newsList/0101030100000?curPage=392',\n",
       " 'http://www.segye.com/newsList/0101030100000?curPage=393',\n",
       " 'http://www.segye.com/newsList/0101030100000?curPage=394',\n",
       " 'http://www.segye.com/newsList/0101030100000?curPage=395',\n",
       " 'http://www.segye.com/newsList/0101030100000?curPage=396',\n",
       " 'http://www.segye.com/newsList/0101030100000?curPage=397',\n",
       " 'http://www.segye.com/newsList/0101030100000?curPage=398',\n",
       " 'http://www.segye.com/newsList/0101030100000?curPage=399',\n",
       " 'http://www.segye.com/newsList/0101030100000?curPage=400',\n",
       " 'http://www.segye.com/newsList/0101030100000?curPage=401',\n",
       " 'http://www.segye.com/newsList/0101030100000?curPage=402',\n",
       " 'http://www.segye.com/newsList/0101030100000?curPage=403',\n",
       " 'http://www.segye.com/newsList/0101030100000?curPage=404',\n",
       " 'http://www.segye.com/newsList/0101030100000?curPage=405',\n",
       " 'http://www.segye.com/newsList/0101030100000?curPage=406',\n",
       " 'http://www.segye.com/newsList/0101030100000?curPage=407',\n",
       " 'http://www.segye.com/newsList/0101030100000?curPage=408',\n",
       " 'http://www.segye.com/newsList/0101030100000?curPage=409',\n",
       " 'http://www.segye.com/newsList/0101030100000?curPage=410',\n",
       " 'http://www.segye.com/newsList/0101030100000?curPage=411',\n",
       " 'http://www.segye.com/newsList/0101030100000?curPage=412',\n",
       " 'http://www.segye.com/newsList/0101030100000?curPage=413',\n",
       " 'http://www.segye.com/newsList/0101030100000?curPage=414',\n",
       " 'http://www.segye.com/newsList/0101030100000?curPage=415',\n",
       " 'http://www.segye.com/newsList/0101030100000?curPage=416',\n",
       " 'http://www.segye.com/newsList/0101030100000?curPage=417',\n",
       " 'http://www.segye.com/newsList/0101030100000?curPage=418',\n",
       " 'http://www.segye.com/newsList/0101030100000?curPage=419',\n",
       " 'http://www.segye.com/newsList/0101030100000?curPage=420',\n",
       " 'http://www.segye.com/newsList/0101030100000?curPage=421',\n",
       " 'http://www.segye.com/newsList/0101030100000?curPage=422',\n",
       " 'http://www.segye.com/newsList/0101030100000?curPage=423',\n",
       " 'http://www.segye.com/newsList/0101030100000?curPage=424',\n",
       " 'http://www.segye.com/newsList/0101030100000?curPage=425',\n",
       " 'http://www.segye.com/newsList/0101030100000?curPage=426',\n",
       " 'http://www.segye.com/newsList/0101030100000?curPage=427',\n",
       " 'http://www.segye.com/newsList/0101030100000?curPage=428',\n",
       " 'http://www.segye.com/newsList/0101030100000?curPage=429',\n",
       " 'http://www.segye.com/newsList/0101030100000?curPage=430',\n",
       " 'http://www.segye.com/newsList/0101030100000?curPage=431',\n",
       " 'http://www.segye.com/newsList/0101030100000?curPage=432',\n",
       " 'http://www.segye.com/newsList/0101030100000?curPage=433',\n",
       " 'http://www.segye.com/newsList/0101030100000?curPage=434',\n",
       " 'http://www.segye.com/newsList/0101030100000?curPage=435',\n",
       " 'http://www.segye.com/newsList/0101030100000?curPage=436',\n",
       " 'http://www.segye.com/newsList/0101030100000?curPage=437',\n",
       " 'http://www.segye.com/newsList/0101030100000?curPage=438',\n",
       " 'http://www.segye.com/newsList/0101030100000?curPage=439',\n",
       " 'http://www.segye.com/newsList/0101030100000?curPage=440',\n",
       " 'http://www.segye.com/newsList/0101030100000?curPage=441',\n",
       " 'http://www.segye.com/newsList/0101030100000?curPage=442',\n",
       " 'http://www.segye.com/newsList/0101030100000?curPage=443',\n",
       " 'http://www.segye.com/newsList/0101030100000?curPage=444',\n",
       " 'http://www.segye.com/newsList/0101030100000?curPage=445',\n",
       " 'http://www.segye.com/newsList/0101030100000?curPage=446',\n",
       " 'http://www.segye.com/newsList/0101030100000?curPage=447',\n",
       " 'http://www.segye.com/newsList/0101030100000?curPage=448',\n",
       " 'http://www.segye.com/newsList/0101030100000?curPage=449',\n",
       " 'http://www.segye.com/newsList/0101030100000?curPage=450',\n",
       " 'http://www.segye.com/newsList/0101030100000?curPage=451',\n",
       " 'http://www.segye.com/newsList/0101030100000?curPage=452',\n",
       " 'http://www.segye.com/newsList/0101030100000?curPage=453',\n",
       " 'http://www.segye.com/newsList/0101030100000?curPage=454',\n",
       " 'http://www.segye.com/newsList/0101030100000?curPage=455',\n",
       " 'http://www.segye.com/newsList/0101030100000?curPage=456',\n",
       " 'http://www.segye.com/newsList/0101030100000?curPage=457',\n",
       " 'http://www.segye.com/newsList/0101030100000?curPage=458',\n",
       " 'http://www.segye.com/newsList/0101030100000?curPage=459',\n",
       " 'http://www.segye.com/newsList/0101030100000?curPage=460',\n",
       " 'http://www.segye.com/newsList/0101030100000?curPage=461',\n",
       " 'http://www.segye.com/newsList/0101030100000?curPage=462',\n",
       " 'http://www.segye.com/newsList/0101030100000?curPage=463',\n",
       " 'http://www.segye.com/newsList/0101030100000?curPage=464',\n",
       " 'http://www.segye.com/newsList/0101030100000?curPage=465',\n",
       " 'http://www.segye.com/newsList/0101030100000?curPage=466',\n",
       " 'http://www.segye.com/newsList/0101030100000?curPage=467',\n",
       " 'http://www.segye.com/newsList/0101030100000?curPage=468',\n",
       " 'http://www.segye.com/newsList/0101030100000?curPage=469',\n",
       " 'http://www.segye.com/newsList/0101030100000?curPage=470',\n",
       " 'http://www.segye.com/newsList/0101030100000?curPage=471',\n",
       " 'http://www.segye.com/newsList/0101030100000?curPage=472',\n",
       " 'http://www.segye.com/newsList/0101030100000?curPage=473',\n",
       " 'http://www.segye.com/newsList/0101030100000?curPage=474',\n",
       " 'http://www.segye.com/newsList/0101030100000?curPage=475',\n",
       " 'http://www.segye.com/newsList/0101030100000?curPage=476',\n",
       " 'http://www.segye.com/newsList/0101030100000?curPage=477',\n",
       " 'http://www.segye.com/newsList/0101030100000?curPage=478',\n",
       " 'http://www.segye.com/newsList/0101030100000?curPage=479',\n",
       " 'http://www.segye.com/newsList/0101030100000?curPage=480',\n",
       " 'http://www.segye.com/newsList/0101030100000?curPage=481',\n",
       " 'http://www.segye.com/newsList/0101030100000?curPage=482',\n",
       " 'http://www.segye.com/newsList/0101030100000?curPage=483',\n",
       " 'http://www.segye.com/newsList/0101030100000?curPage=484',\n",
       " 'http://www.segye.com/newsList/0101030100000?curPage=485',\n",
       " 'http://www.segye.com/newsList/0101030100000?curPage=486',\n",
       " 'http://www.segye.com/newsList/0101030100000?curPage=487',\n",
       " 'http://www.segye.com/newsList/0101030100000?curPage=488',\n",
       " 'http://www.segye.com/newsList/0101030100000?curPage=489',\n",
       " 'http://www.segye.com/newsList/0101030100000?curPage=490',\n",
       " 'http://www.segye.com/newsList/0101030100000?curPage=491',\n",
       " 'http://www.segye.com/newsList/0101030100000?curPage=492',\n",
       " 'http://www.segye.com/newsList/0101030100000?curPage=493',\n",
       " 'http://www.segye.com/newsList/0101030100000?curPage=494',\n",
       " 'http://www.segye.com/newsList/0101030100000?curPage=495',\n",
       " 'http://www.segye.com/newsList/0101030100000?curPage=496',\n",
       " 'http://www.segye.com/newsList/0101030100000?curPage=497',\n",
       " 'http://www.segye.com/newsList/0101030100000?curPage=498',\n",
       " 'http://www.segye.com/newsList/0101030100000?curPage=499',\n",
       " 'http://www.segye.com/newsList/0101030100000?curPage=500',\n",
       " 'http://www.segye.com/newsList/0101030100000?curPage=501',\n",
       " 'http://www.segye.com/newsList/0101030100000?curPage=502',\n",
       " 'http://www.segye.com/newsList/0101030100000?curPage=503',\n",
       " 'http://www.segye.com/newsList/0101030100000?curPage=504',\n",
       " 'http://www.segye.com/newsList/0101030100000?curPage=505',\n",
       " 'http://www.segye.com/newsList/0101030100000?curPage=506',\n",
       " 'http://www.segye.com/newsList/0101030100000?curPage=507',\n",
       " 'http://www.segye.com/newsList/0101030100000?curPage=508',\n",
       " 'http://www.segye.com/newsList/0101030100000?curPage=509',\n",
       " 'http://www.segye.com/newsList/0101030100000?curPage=510',\n",
       " 'http://www.segye.com/newsList/0101030100000?curPage=511',\n",
       " 'http://www.segye.com/newsList/0101030100000?curPage=512',\n",
       " 'http://www.segye.com/newsList/0101030100000?curPage=513',\n",
       " 'http://www.segye.com/newsList/0101030100000?curPage=514',\n",
       " 'http://www.segye.com/newsList/0101030100000?curPage=515',\n",
       " 'http://www.segye.com/newsList/0101030100000?curPage=516',\n",
       " 'http://www.segye.com/newsList/0101030100000?curPage=517',\n",
       " 'http://www.segye.com/newsList/0101030100000?curPage=518',\n",
       " 'http://www.segye.com/newsList/0101030100000?curPage=519',\n",
       " 'http://www.segye.com/newsList/0101030100000?curPage=520',\n",
       " 'http://www.segye.com/newsList/0101030100000?curPage=521',\n",
       " 'http://www.segye.com/newsList/0101030100000?curPage=522',\n",
       " 'http://www.segye.com/newsList/0101030100000?curPage=523',\n",
       " 'http://www.segye.com/newsList/0101030100000?curPage=524',\n",
       " 'http://www.segye.com/newsList/0101030100000?curPage=525',\n",
       " 'http://www.segye.com/newsList/0101030100000?curPage=526',\n",
       " 'http://www.segye.com/newsList/0101030100000?curPage=527',\n",
       " 'http://www.segye.com/newsList/0101030100000?curPage=528',\n",
       " 'http://www.segye.com/newsList/0101030100000?curPage=529',\n",
       " 'http://www.segye.com/newsList/0101030100000?curPage=530',\n",
       " 'http://www.segye.com/newsList/0101030100000?curPage=531',\n",
       " 'http://www.segye.com/newsList/0101030100000?curPage=532',\n",
       " 'http://www.segye.com/newsList/0101030100000?curPage=533',\n",
       " 'http://www.segye.com/newsList/0101030100000?curPage=534',\n",
       " 'http://www.segye.com/newsList/0101030100000?curPage=535',\n",
       " 'http://www.segye.com/newsList/0101030100000?curPage=536',\n",
       " 'http://www.segye.com/newsList/0101030100000?curPage=537',\n",
       " 'http://www.segye.com/newsList/0101030100000?curPage=538',\n",
       " 'http://www.segye.com/newsList/0101030100000?curPage=539',\n",
       " 'http://www.segye.com/newsList/0101030100000?curPage=540',\n",
       " 'http://www.segye.com/newsList/0101030100000?curPage=541',\n",
       " 'http://www.segye.com/newsList/0101030100000?curPage=542',\n",
       " 'http://www.segye.com/newsList/0101030100000?curPage=543',\n",
       " 'http://www.segye.com/newsList/0101030100000?curPage=544',\n",
       " 'http://www.segye.com/newsList/0101030100000?curPage=545',\n",
       " 'http://www.segye.com/newsList/0101030100000?curPage=546',\n",
       " 'http://www.segye.com/newsList/0101030100000?curPage=547',\n",
       " 'http://www.segye.com/newsList/0101030100000?curPage=548',\n",
       " 'http://www.segye.com/newsList/0101030100000?curPage=549',\n",
       " 'http://www.segye.com/newsList/0101030100000?curPage=550',\n",
       " 'http://www.segye.com/newsList/0101030100000?curPage=551',\n",
       " 'http://www.segye.com/newsList/0101030100000?curPage=552',\n",
       " 'http://www.segye.com/newsList/0101030100000?curPage=553',\n",
       " 'http://www.segye.com/newsList/0101030100000?curPage=554',\n",
       " 'http://www.segye.com/newsList/0101030100000?curPage=555',\n",
       " 'http://www.segye.com/newsList/0101030100000?curPage=556',\n",
       " 'http://www.segye.com/newsList/0101030100000?curPage=557',\n",
       " 'http://www.segye.com/newsList/0101030100000?curPage=558',\n",
       " 'http://www.segye.com/newsList/0101030100000?curPage=559',\n",
       " 'http://www.segye.com/newsList/0101030100000?curPage=560',\n",
       " 'http://www.segye.com/newsList/0101030100000?curPage=561',\n",
       " 'http://www.segye.com/newsList/0101030100000?curPage=562',\n",
       " 'http://www.segye.com/newsList/0101030100000?curPage=563',\n",
       " 'http://www.segye.com/newsList/0101030100000?curPage=564',\n",
       " 'http://www.segye.com/newsList/0101030100000?curPage=565',\n",
       " 'http://www.segye.com/newsList/0101030100000?curPage=566',\n",
       " 'http://www.segye.com/newsList/0101030100000?curPage=567',\n",
       " 'http://www.segye.com/newsList/0101030100000?curPage=568',\n",
       " 'http://www.segye.com/newsList/0101030100000?curPage=569',\n",
       " 'http://www.segye.com/newsList/0101030100000?curPage=570',\n",
       " 'http://www.segye.com/newsList/0101030100000?curPage=571',\n",
       " 'http://www.segye.com/newsList/0101030100000?curPage=572',\n",
       " 'http://www.segye.com/newsList/0101030100000?curPage=573',\n",
       " 'http://www.segye.com/newsList/0101030100000?curPage=574',\n",
       " 'http://www.segye.com/newsList/0101030100000?curPage=575',\n",
       " 'http://www.segye.com/newsList/0101030100000?curPage=576',\n",
       " 'http://www.segye.com/newsList/0101030100000?curPage=577',\n",
       " 'http://www.segye.com/newsList/0101030100000?curPage=578',\n",
       " 'http://www.segye.com/newsList/0101030100000?curPage=579',\n",
       " 'http://www.segye.com/newsList/0101030100000?curPage=580',\n",
       " 'http://www.segye.com/newsList/0101030100000?curPage=581',\n",
       " 'http://www.segye.com/newsList/0101030100000?curPage=582',\n",
       " 'http://www.segye.com/newsList/0101030100000?curPage=583',\n",
       " 'http://www.segye.com/newsList/0101030100000?curPage=584',\n",
       " 'http://www.segye.com/newsList/0101030100000?curPage=585',\n",
       " 'http://www.segye.com/newsList/0101030100000?curPage=586',\n",
       " 'http://www.segye.com/newsList/0101030100000?curPage=587',\n",
       " 'http://www.segye.com/newsList/0101030100000?curPage=588',\n",
       " 'http://www.segye.com/newsList/0101030100000?curPage=589',\n",
       " 'http://www.segye.com/newsList/0101030100000?curPage=590',\n",
       " 'http://www.segye.com/newsList/0101030100000?curPage=591',\n",
       " 'http://www.segye.com/newsList/0101030100000?curPage=592',\n",
       " 'http://www.segye.com/newsList/0101030100000?curPage=593',\n",
       " 'http://www.segye.com/newsList/0101030100000?curPage=594',\n",
       " 'http://www.segye.com/newsList/0101030100000?curPage=595',\n",
       " 'http://www.segye.com/newsList/0101030100000?curPage=596',\n",
       " 'http://www.segye.com/newsList/0101030100000?curPage=597',\n",
       " 'http://www.segye.com/newsList/0101030100000?curPage=598',\n",
       " 'http://www.segye.com/newsList/0101030100000?curPage=599',\n",
       " 'http://www.segye.com/newsList/0101030100000?curPage=600',\n",
       " 'http://www.segye.com/newsList/0101030100000?curPage=601',\n",
       " 'http://www.segye.com/newsList/0101030100000?curPage=602',\n",
       " 'http://www.segye.com/newsList/0101030100000?curPage=603',\n",
       " 'http://www.segye.com/newsList/0101030100000?curPage=604',\n",
       " 'http://www.segye.com/newsList/0101030100000?curPage=605',\n",
       " 'http://www.segye.com/newsList/0101030100000?curPage=606',\n",
       " 'http://www.segye.com/newsList/0101030100000?curPage=607',\n",
       " 'http://www.segye.com/newsList/0101030100000?curPage=608',\n",
       " 'http://www.segye.com/newsList/0101030100000?curPage=609',\n",
       " 'http://www.segye.com/newsList/0101030100000?curPage=610',\n",
       " 'http://www.segye.com/newsList/0101030100000?curPage=611',\n",
       " 'http://www.segye.com/newsList/0101030100000?curPage=612',\n",
       " 'http://www.segye.com/newsList/0101030100000?curPage=613',\n",
       " 'http://www.segye.com/newsList/0101030100000?curPage=614',\n",
       " 'http://www.segye.com/newsList/0101030100000?curPage=615',\n",
       " 'http://www.segye.com/newsList/0101030100000?curPage=616',\n",
       " 'http://www.segye.com/newsList/0101030100000?curPage=617',\n",
       " 'http://www.segye.com/newsList/0101030100000?curPage=618',\n",
       " 'http://www.segye.com/newsList/0101030100000?curPage=619',\n",
       " 'http://www.segye.com/newsList/0101030100000?curPage=620',\n",
       " 'http://www.segye.com/newsList/0101030100000?curPage=621',\n",
       " 'http://www.segye.com/newsList/0101030100000?curPage=622',\n",
       " 'http://www.segye.com/newsList/0101030100000?curPage=623',\n",
       " 'http://www.segye.com/newsList/0101030100000?curPage=624',\n",
       " 'http://www.segye.com/newsList/0101030100000?curPage=625',\n",
       " 'http://www.segye.com/newsList/0101030100000?curPage=626',\n",
       " 'http://www.segye.com/newsList/0101030100000?curPage=627',\n",
       " 'http://www.segye.com/newsList/0101030100000?curPage=628',\n",
       " 'http://www.segye.com/newsList/0101030100000?curPage=629',\n",
       " 'http://www.segye.com/newsList/0101030100000?curPage=630',\n",
       " 'http://www.segye.com/newsList/0101030100000?curPage=631',\n",
       " 'http://www.segye.com/newsList/0101030100000?curPage=632',\n",
       " 'http://www.segye.com/newsList/0101030100000?curPage=633',\n",
       " 'http://www.segye.com/newsList/0101030100000?curPage=634',\n",
       " 'http://www.segye.com/newsList/0101030100000?curPage=635',\n",
       " 'http://www.segye.com/newsList/0101030100000?curPage=636',\n",
       " 'http://www.segye.com/newsList/0101030100000?curPage=637',\n",
       " 'http://www.segye.com/newsList/0101030100000?curPage=638',\n",
       " 'http://www.segye.com/newsList/0101030100000?curPage=639',\n",
       " 'http://www.segye.com/newsList/0101030100000?curPage=640',\n",
       " 'http://www.segye.com/newsList/0101030100000?curPage=641',\n",
       " 'http://www.segye.com/newsList/0101030100000?curPage=642',\n",
       " 'http://www.segye.com/newsList/0101030100000?curPage=643',\n",
       " 'http://www.segye.com/newsList/0101030100000?curPage=644',\n",
       " 'http://www.segye.com/newsList/0101030100000?curPage=645',\n",
       " 'http://www.segye.com/newsList/0101030100000?curPage=646',\n",
       " 'http://www.segye.com/newsList/0101030100000?curPage=647',\n",
       " 'http://www.segye.com/newsList/0101030100000?curPage=648',\n",
       " 'http://www.segye.com/newsList/0101030100000?curPage=649',\n",
       " 'http://www.segye.com/newsList/0101030100000?curPage=650',\n",
       " 'http://www.segye.com/newsList/0101030100000?curPage=651',\n",
       " 'http://www.segye.com/newsList/0101030100000?curPage=652',\n",
       " 'http://www.segye.com/newsList/0101030100000?curPage=653',\n",
       " 'http://www.segye.com/newsList/0101030100000?curPage=654',\n",
       " 'http://www.segye.com/newsList/0101030100000?curPage=655',\n",
       " 'http://www.segye.com/newsList/0101030100000?curPage=656',\n",
       " 'http://www.segye.com/newsList/0101030100000?curPage=657',\n",
       " 'http://www.segye.com/newsList/0101030100000?curPage=658',\n",
       " 'http://www.segye.com/newsList/0101030100000?curPage=659',\n",
       " 'http://www.segye.com/newsList/0101030100000?curPage=660',\n",
       " 'http://www.segye.com/newsList/0101030100000?curPage=661',\n",
       " 'http://www.segye.com/newsList/0101030100000?curPage=662',\n",
       " 'http://www.segye.com/newsList/0101030100000?curPage=663',\n",
       " 'http://www.segye.com/newsList/0101030100000?curPage=664',\n",
       " 'http://www.segye.com/newsList/0101030100000?curPage=665',\n",
       " 'http://www.segye.com/newsList/0101030100000?curPage=666',\n",
       " 'http://www.segye.com/newsList/0101030100000?curPage=667',\n",
       " 'http://www.segye.com/newsList/0101030100000?curPage=668',\n",
       " 'http://www.segye.com/newsList/0101030100000?curPage=669',\n",
       " 'http://www.segye.com/newsList/0101030100000?curPage=670',\n",
       " 'http://www.segye.com/newsList/0101030100000?curPage=671',\n",
       " 'http://www.segye.com/newsList/0101030100000?curPage=672',\n",
       " 'http://www.segye.com/newsList/0101030100000?curPage=673',\n",
       " 'http://www.segye.com/newsList/0101030100000?curPage=674',\n",
       " 'http://www.segye.com/newsList/0101030100000?curPage=675',\n",
       " 'http://www.segye.com/newsList/0101030100000?curPage=676',\n",
       " 'http://www.segye.com/newsList/0101030100000?curPage=677',\n",
       " 'http://www.segye.com/newsList/0101030100000?curPage=678',\n",
       " 'http://www.segye.com/newsList/0101030100000?curPage=679',\n",
       " 'http://www.segye.com/newsList/0101030100000?curPage=680',\n",
       " 'http://www.segye.com/newsList/0101030100000?curPage=681',\n",
       " 'http://www.segye.com/newsList/0101030100000?curPage=682',\n",
       " 'http://www.segye.com/newsList/0101030100000?curPage=683',\n",
       " 'http://www.segye.com/newsList/0101030100000?curPage=684',\n",
       " 'http://www.segye.com/newsList/0101030100000?curPage=685',\n",
       " 'http://www.segye.com/newsList/0101030100000?curPage=686',\n",
       " 'http://www.segye.com/newsList/0101030100000?curPage=687',\n",
       " 'http://www.segye.com/newsList/0101030100000?curPage=688',\n",
       " 'http://www.segye.com/newsList/0101030100000?curPage=689',\n",
       " 'http://www.segye.com/newsList/0101030100000?curPage=690',\n",
       " 'http://www.segye.com/newsList/0101030100000?curPage=691',\n",
       " 'http://www.segye.com/newsList/0101030100000?curPage=692',\n",
       " 'http://www.segye.com/newsList/0101030100000?curPage=693',\n",
       " 'http://www.segye.com/newsList/0101030100000?curPage=694',\n",
       " 'http://www.segye.com/newsList/0101030100000?curPage=695',\n",
       " 'http://www.segye.com/newsList/0101030100000?curPage=696',\n",
       " 'http://www.segye.com/newsList/0101030100000?curPage=697',\n",
       " 'http://www.segye.com/newsList/0101030100000?curPage=698',\n",
       " 'http://www.segye.com/newsList/0101030100000?curPage=699',\n",
       " 'http://www.segye.com/newsList/0101030100000?curPage=700',\n",
       " 'http://www.segye.com/newsList/0101030100000?curPage=701',\n",
       " 'http://www.segye.com/newsList/0101030100000?curPage=702',\n",
       " 'http://www.segye.com/newsList/0101030100000?curPage=703',\n",
       " 'http://www.segye.com/newsList/0101030100000?curPage=704',\n",
       " 'http://www.segye.com/newsList/0101030100000?curPage=705',\n",
       " 'http://www.segye.com/newsList/0101030100000?curPage=706',\n",
       " 'http://www.segye.com/newsList/0101030100000?curPage=707',\n",
       " 'http://www.segye.com/newsList/0101030100000?curPage=708',\n",
       " 'http://www.segye.com/newsList/0101030100000?curPage=709',\n",
       " 'http://www.segye.com/newsList/0101030100000?curPage=710',\n",
       " 'http://www.segye.com/newsList/0101030100000?curPage=711',\n",
       " 'http://www.segye.com/newsList/0101030100000?curPage=712',\n",
       " 'http://www.segye.com/newsList/0101030100000?curPage=713',\n",
       " 'http://www.segye.com/newsList/0101030100000?curPage=714',\n",
       " 'http://www.segye.com/newsList/0101030100000?curPage=715',\n",
       " 'http://www.segye.com/newsList/0101030100000?curPage=716',\n",
       " 'http://www.segye.com/newsList/0101030100000?curPage=717',\n",
       " 'http://www.segye.com/newsList/0101030100000?curPage=718',\n",
       " 'http://www.segye.com/newsList/0101030100000?curPage=719',\n",
       " 'http://www.segye.com/newsList/0101030100000?curPage=720',\n",
       " 'http://www.segye.com/newsList/0101030100000?curPage=721',\n",
       " 'http://www.segye.com/newsList/0101030100000?curPage=722',\n",
       " 'http://www.segye.com/newsList/0101030100000?curPage=723',\n",
       " 'http://www.segye.com/newsList/0101030100000?curPage=724',\n",
       " 'http://www.segye.com/newsList/0101030100000?curPage=725',\n",
       " 'http://www.segye.com/newsList/0101030100000?curPage=726',\n",
       " 'http://www.segye.com/newsList/0101030100000?curPage=727',\n",
       " 'http://www.segye.com/newsList/0101030100000?curPage=728',\n",
       " 'http://www.segye.com/newsList/0101030100000?curPage=729',\n",
       " 'http://www.segye.com/newsList/0101030100000?curPage=730',\n",
       " 'http://www.segye.com/newsList/0101030100000?curPage=731',\n",
       " 'http://www.segye.com/newsList/0101030100000?curPage=732',\n",
       " 'http://www.segye.com/newsList/0101030100000?curPage=733',\n",
       " 'http://www.segye.com/newsList/0101030100000?curPage=734',\n",
       " 'http://www.segye.com/newsList/0101030100000?curPage=735',\n",
       " 'http://www.segye.com/newsList/0101030100000?curPage=736',\n",
       " 'http://www.segye.com/newsList/0101030100000?curPage=737',\n",
       " 'http://www.segye.com/newsList/0101030100000?curPage=738',\n",
       " 'http://www.segye.com/newsList/0101030100000?curPage=739',\n",
       " 'http://www.segye.com/newsList/0101030100000?curPage=740',\n",
       " 'http://www.segye.com/newsList/0101030100000?curPage=741',\n",
       " 'http://www.segye.com/newsList/0101030100000?curPage=742',\n",
       " 'http://www.segye.com/newsList/0101030100000?curPage=743',\n",
       " 'http://www.segye.com/newsList/0101030100000?curPage=744',\n",
       " 'http://www.segye.com/newsList/0101030100000?curPage=745',\n",
       " 'http://www.segye.com/newsList/0101030100000?curPage=746',\n",
       " 'http://www.segye.com/newsList/0101030100000?curPage=747',\n",
       " 'http://www.segye.com/newsList/0101030100000?curPage=748',\n",
       " 'http://www.segye.com/newsList/0101030100000?curPage=749',\n",
       " 'http://www.segye.com/newsList/0101030100000?curPage=750',\n",
       " 'http://www.segye.com/newsList/0101030100000?curPage=751',\n",
       " 'http://www.segye.com/newsList/0101030100000?curPage=752',\n",
       " 'http://www.segye.com/newsList/0101030100000?curPage=753',\n",
       " 'http://www.segye.com/newsList/0101030100000?curPage=754',\n",
       " 'http://www.segye.com/newsList/0101030100000?curPage=755',\n",
       " 'http://www.segye.com/newsList/0101030100000?curPage=756',\n",
       " 'http://www.segye.com/newsList/0101030100000?curPage=757',\n",
       " 'http://www.segye.com/newsList/0101030100000?curPage=758',\n",
       " 'http://www.segye.com/newsList/0101030100000?curPage=759',\n",
       " 'http://www.segye.com/newsList/0101030100000?curPage=760',\n",
       " 'http://www.segye.com/newsList/0101030100000?curPage=761',\n",
       " 'http://www.segye.com/newsList/0101030100000?curPage=762',\n",
       " 'http://www.segye.com/newsList/0101030100000?curPage=763',\n",
       " 'http://www.segye.com/newsList/0101030100000?curPage=764',\n",
       " 'http://www.segye.com/newsList/0101030100000?curPage=765',\n",
       " 'http://www.segye.com/newsList/0101030100000?curPage=766',\n",
       " 'http://www.segye.com/newsList/0101030100000?curPage=767',\n",
       " 'http://www.segye.com/newsList/0101030100000?curPage=768',\n",
       " 'http://www.segye.com/newsList/0101030100000?curPage=769',\n",
       " 'http://www.segye.com/newsList/0101030100000?curPage=770',\n",
       " 'http://www.segye.com/newsList/0101030100000?curPage=771',\n",
       " 'http://www.segye.com/newsList/0101030100000?curPage=772',\n",
       " 'http://www.segye.com/newsList/0101030100000?curPage=773',\n",
       " 'http://www.segye.com/newsList/0101030100000?curPage=774',\n",
       " 'http://www.segye.com/newsList/0101030100000?curPage=775',\n",
       " 'http://www.segye.com/newsList/0101030100000?curPage=776',\n",
       " 'http://www.segye.com/newsList/0101030100000?curPage=777',\n",
       " 'http://www.segye.com/newsList/0101030100000?curPage=778',\n",
       " 'http://www.segye.com/newsList/0101030100000?curPage=779',\n",
       " 'http://www.segye.com/newsList/0101030100000?curPage=780',\n",
       " 'http://www.segye.com/newsList/0101030100000?curPage=781',\n",
       " 'http://www.segye.com/newsList/0101030100000?curPage=782',\n",
       " 'http://www.segye.com/newsList/0101030100000?curPage=783',\n",
       " 'http://www.segye.com/newsList/0101030100000?curPage=784',\n",
       " 'http://www.segye.com/newsList/0101030100000?curPage=785',\n",
       " 'http://www.segye.com/newsList/0101030100000?curPage=786',\n",
       " 'http://www.segye.com/newsList/0101030100000?curPage=787',\n",
       " 'http://www.segye.com/newsList/0101030100000?curPage=788',\n",
       " 'http://www.segye.com/newsList/0101030100000?curPage=789',\n",
       " 'http://www.segye.com/newsList/0101030100000?curPage=790',\n",
       " 'http://www.segye.com/newsList/0101030100000?curPage=791',\n",
       " 'http://www.segye.com/newsList/0101030100000?curPage=792',\n",
       " 'http://www.segye.com/newsList/0101030100000?curPage=793',\n",
       " 'http://www.segye.com/newsList/0101030100000?curPage=794',\n",
       " 'http://www.segye.com/newsList/0101030100000?curPage=795',\n",
       " 'http://www.segye.com/newsList/0101030100000?curPage=796',\n",
       " 'http://www.segye.com/newsList/0101030100000?curPage=797',\n",
       " 'http://www.segye.com/newsList/0101030100000?curPage=798',\n",
       " 'http://www.segye.com/newsList/0101030100000?curPage=799',\n",
       " 'http://www.segye.com/newsList/0101030100000?curPage=800',\n",
       " 'http://www.segye.com/newsList/0101030100000?curPage=801',\n",
       " 'http://www.segye.com/newsList/0101030100000?curPage=802',\n",
       " 'http://www.segye.com/newsList/0101030100000?curPage=803',\n",
       " 'http://www.segye.com/newsList/0101030100000?curPage=804',\n",
       " 'http://www.segye.com/newsList/0101030100000?curPage=805',\n",
       " 'http://www.segye.com/newsList/0101030100000?curPage=806',\n",
       " 'http://www.segye.com/newsList/0101030100000?curPage=807',\n",
       " 'http://www.segye.com/newsList/0101030100000?curPage=808',\n",
       " 'http://www.segye.com/newsList/0101030100000?curPage=809',\n",
       " 'http://www.segye.com/newsList/0101030100000?curPage=810',\n",
       " 'http://www.segye.com/newsList/0101030100000?curPage=811',\n",
       " 'http://www.segye.com/newsList/0101030100000?curPage=812',\n",
       " 'http://www.segye.com/newsList/0101030100000?curPage=813',\n",
       " 'http://www.segye.com/newsList/0101030100000?curPage=814',\n",
       " 'http://www.segye.com/newsList/0101030100000?curPage=815',\n",
       " 'http://www.segye.com/newsList/0101030100000?curPage=816',\n",
       " 'http://www.segye.com/newsList/0101030100000?curPage=817',\n",
       " 'http://www.segye.com/newsList/0101030100000?curPage=818',\n",
       " 'http://www.segye.com/newsList/0101030100000?curPage=819',\n",
       " 'http://www.segye.com/newsList/0101030100000?curPage=820',\n",
       " 'http://www.segye.com/newsList/0101030100000?curPage=821',\n",
       " 'http://www.segye.com/newsList/0101030100000?curPage=822',\n",
       " 'http://www.segye.com/newsList/0101030100000?curPage=823',\n",
       " 'http://www.segye.com/newsList/0101030100000?curPage=824',\n",
       " 'http://www.segye.com/newsList/0101030100000?curPage=825',\n",
       " 'http://www.segye.com/newsList/0101030100000?curPage=826',\n",
       " 'http://www.segye.com/newsList/0101030100000?curPage=827',\n",
       " 'http://www.segye.com/newsList/0101030100000?curPage=828',\n",
       " 'http://www.segye.com/newsList/0101030100000?curPage=829',\n",
       " 'http://www.segye.com/newsList/0101030100000?curPage=830',\n",
       " 'http://www.segye.com/newsList/0101030100000?curPage=831',\n",
       " 'http://www.segye.com/newsList/0101030100000?curPage=832',\n",
       " 'http://www.segye.com/newsList/0101030100000?curPage=833',\n",
       " 'http://www.segye.com/newsList/0101030100000?curPage=834',\n",
       " 'http://www.segye.com/newsList/0101030100000?curPage=835',\n",
       " 'http://www.segye.com/newsList/0101030100000?curPage=836',\n",
       " 'http://www.segye.com/newsList/0101030100000?curPage=837',\n",
       " 'http://www.segye.com/newsList/0101030100000?curPage=838',\n",
       " 'http://www.segye.com/newsList/0101030100000?curPage=839',\n",
       " 'http://www.segye.com/newsList/0101030100000?curPage=840',\n",
       " 'http://www.segye.com/newsList/0101030100000?curPage=841',\n",
       " 'http://www.segye.com/newsList/0101030100000?curPage=842',\n",
       " 'http://www.segye.com/newsList/0101030100000?curPage=843',\n",
       " 'http://www.segye.com/newsList/0101030100000?curPage=844',\n",
       " 'http://www.segye.com/newsList/0101030100000?curPage=845',\n",
       " 'http://www.segye.com/newsList/0101030100000?curPage=846',\n",
       " 'http://www.segye.com/newsList/0101030100000?curPage=847',\n",
       " 'http://www.segye.com/newsList/0101030100000?curPage=848',\n",
       " 'http://www.segye.com/newsList/0101030100000?curPage=849',\n",
       " 'http://www.segye.com/newsList/0101030100000?curPage=850',\n",
       " 'http://www.segye.com/newsList/0101030100000?curPage=851',\n",
       " 'http://www.segye.com/newsList/0101030100000?curPage=852',\n",
       " 'http://www.segye.com/newsList/0101030100000?curPage=853',\n",
       " 'http://www.segye.com/newsList/0101030100000?curPage=854',\n",
       " 'http://www.segye.com/newsList/0101030100000?curPage=855',\n",
       " 'http://www.segye.com/newsList/0101030100000?curPage=856',\n",
       " 'http://www.segye.com/newsList/0101030100000?curPage=857',\n",
       " 'http://www.segye.com/newsList/0101030100000?curPage=858',\n",
       " 'http://www.segye.com/newsList/0101030100000?curPage=859',\n",
       " 'http://www.segye.com/newsList/0101030100000?curPage=860',\n",
       " 'http://www.segye.com/newsList/0101030100000?curPage=861',\n",
       " 'http://www.segye.com/newsList/0101030100000?curPage=862',\n",
       " 'http://www.segye.com/newsList/0101030100000?curPage=863',\n",
       " 'http://www.segye.com/newsList/0101030100000?curPage=864',\n",
       " 'http://www.segye.com/newsList/0101030100000?curPage=865',\n",
       " 'http://www.segye.com/newsList/0101030100000?curPage=866',\n",
       " 'http://www.segye.com/newsList/0101030100000?curPage=867',\n",
       " 'http://www.segye.com/newsList/0101030100000?curPage=868',\n",
       " 'http://www.segye.com/newsList/0101030100000?curPage=869',\n",
       " 'http://www.segye.com/newsList/0101030100000?curPage=870',\n",
       " 'http://www.segye.com/newsList/0101030100000?curPage=871',\n",
       " 'http://www.segye.com/newsList/0101030100000?curPage=872',\n",
       " 'http://www.segye.com/newsList/0101030100000?curPage=873',\n",
       " 'http://www.segye.com/newsList/0101030100000?curPage=874',\n",
       " 'http://www.segye.com/newsList/0101030100000?curPage=875',\n",
       " 'http://www.segye.com/newsList/0101030100000?curPage=876',\n",
       " 'http://www.segye.com/newsList/0101030100000?curPage=877',\n",
       " 'http://www.segye.com/newsList/0101030100000?curPage=878',\n",
       " 'http://www.segye.com/newsList/0101030100000?curPage=879',\n",
       " 'http://www.segye.com/newsList/0101030100000?curPage=880',\n",
       " 'http://www.segye.com/newsList/0101030100000?curPage=881',\n",
       " 'http://www.segye.com/newsList/0101030100000?curPage=882',\n",
       " 'http://www.segye.com/newsList/0101030100000?curPage=883',\n",
       " 'http://www.segye.com/newsList/0101030100000?curPage=884',\n",
       " 'http://www.segye.com/newsList/0101030100000?curPage=885',\n",
       " 'http://www.segye.com/newsList/0101030100000?curPage=886',\n",
       " 'http://www.segye.com/newsList/0101030100000?curPage=887',\n",
       " 'http://www.segye.com/newsList/0101030100000?curPage=888',\n",
       " 'http://www.segye.com/newsList/0101030100000?curPage=889',\n",
       " 'http://www.segye.com/newsList/0101030100000?curPage=890',\n",
       " 'http://www.segye.com/newsList/0101030100000?curPage=891',\n",
       " 'http://www.segye.com/newsList/0101030100000?curPage=892',\n",
       " 'http://www.segye.com/newsList/0101030100000?curPage=893',\n",
       " 'http://www.segye.com/newsList/0101030100000?curPage=894',\n",
       " 'http://www.segye.com/newsList/0101030100000?curPage=895',\n",
       " 'http://www.segye.com/newsList/0101030100000?curPage=896',\n",
       " 'http://www.segye.com/newsList/0101030100000?curPage=897',\n",
       " 'http://www.segye.com/newsList/0101030100000?curPage=898',\n",
       " 'http://www.segye.com/newsList/0101030100000?curPage=899',\n",
       " 'http://www.segye.com/newsList/0101030100000?curPage=900',\n",
       " 'http://www.segye.com/newsList/0101030100000?curPage=901',\n",
       " 'http://www.segye.com/newsList/0101030100000?curPage=902',\n",
       " 'http://www.segye.com/newsList/0101030100000?curPage=903',\n",
       " 'http://www.segye.com/newsList/0101030100000?curPage=904',\n",
       " 'http://www.segye.com/newsList/0101030100000?curPage=905',\n",
       " 'http://www.segye.com/newsList/0101030100000?curPage=906',\n",
       " 'http://www.segye.com/newsList/0101030100000?curPage=907',\n",
       " 'http://www.segye.com/newsList/0101030100000?curPage=908',\n",
       " 'http://www.segye.com/newsList/0101030100000?curPage=909',\n",
       " 'http://www.segye.com/newsList/0101030100000?curPage=910',\n",
       " 'http://www.segye.com/newsList/0101030100000?curPage=911',\n",
       " 'http://www.segye.com/newsList/0101030100000?curPage=912',\n",
       " 'http://www.segye.com/newsList/0101030100000?curPage=913',\n",
       " 'http://www.segye.com/newsList/0101030100000?curPage=914',\n",
       " 'http://www.segye.com/newsList/0101030100000?curPage=915',\n",
       " 'http://www.segye.com/newsList/0101030100000?curPage=916',\n",
       " 'http://www.segye.com/newsList/0101030100000?curPage=917',\n",
       " 'http://www.segye.com/newsList/0101030100000?curPage=918',\n",
       " 'http://www.segye.com/newsList/0101030100000?curPage=919',\n",
       " 'http://www.segye.com/newsList/0101030100000?curPage=920',\n",
       " 'http://www.segye.com/newsList/0101030100000?curPage=921',\n",
       " 'http://www.segye.com/newsList/0101030100000?curPage=922',\n",
       " 'http://www.segye.com/newsList/0101030100000?curPage=923',\n",
       " 'http://www.segye.com/newsList/0101030100000?curPage=924',\n",
       " 'http://www.segye.com/newsList/0101030100000?curPage=925',\n",
       " 'http://www.segye.com/newsList/0101030100000?curPage=926',\n",
       " 'http://www.segye.com/newsList/0101030100000?curPage=927',\n",
       " 'http://www.segye.com/newsList/0101030100000?curPage=928',\n",
       " 'http://www.segye.com/newsList/0101030100000?curPage=929',\n",
       " 'http://www.segye.com/newsList/0101030100000?curPage=930',\n",
       " 'http://www.segye.com/newsList/0101030100000?curPage=931',\n",
       " 'http://www.segye.com/newsList/0101030100000?curPage=932',\n",
       " 'http://www.segye.com/newsList/0101030100000?curPage=933',\n",
       " 'http://www.segye.com/newsList/0101030100000?curPage=934',\n",
       " 'http://www.segye.com/newsList/0101030100000?curPage=935',\n",
       " 'http://www.segye.com/newsList/0101030100000?curPage=936',\n",
       " 'http://www.segye.com/newsList/0101030100000?curPage=937',\n",
       " 'http://www.segye.com/newsList/0101030100000?curPage=938',\n",
       " 'http://www.segye.com/newsList/0101030100000?curPage=939',\n",
       " 'http://www.segye.com/newsList/0101030100000?curPage=940',\n",
       " 'http://www.segye.com/newsList/0101030100000?curPage=941',\n",
       " 'http://www.segye.com/newsList/0101030100000?curPage=942',\n",
       " 'http://www.segye.com/newsList/0101030100000?curPage=943',\n",
       " 'http://www.segye.com/newsList/0101030100000?curPage=944',\n",
       " 'http://www.segye.com/newsList/0101030100000?curPage=945',\n",
       " 'http://www.segye.com/newsList/0101030100000?curPage=946',\n",
       " 'http://www.segye.com/newsList/0101030100000?curPage=947',\n",
       " 'http://www.segye.com/newsList/0101030100000?curPage=948',\n",
       " 'http://www.segye.com/newsList/0101030100000?curPage=949',\n",
       " 'http://www.segye.com/newsList/0101030100000?curPage=950',\n",
       " 'http://www.segye.com/newsList/0101030100000?curPage=951',\n",
       " 'http://www.segye.com/newsList/0101030100000?curPage=952',\n",
       " 'http://www.segye.com/newsList/0101030100000?curPage=953',\n",
       " 'http://www.segye.com/newsList/0101030100000?curPage=954',\n",
       " 'http://www.segye.com/newsList/0101030100000?curPage=955',\n",
       " 'http://www.segye.com/newsList/0101030100000?curPage=956',\n",
       " 'http://www.segye.com/newsList/0101030100000?curPage=957',\n",
       " 'http://www.segye.com/newsList/0101030100000?curPage=958',\n",
       " 'http://www.segye.com/newsList/0101030100000?curPage=959',\n",
       " 'http://www.segye.com/newsList/0101030100000?curPage=960',\n",
       " 'http://www.segye.com/newsList/0101030100000?curPage=961',\n",
       " 'http://www.segye.com/newsList/0101030100000?curPage=962',\n",
       " 'http://www.segye.com/newsList/0101030100000?curPage=963',\n",
       " 'http://www.segye.com/newsList/0101030100000?curPage=964',\n",
       " 'http://www.segye.com/newsList/0101030100000?curPage=965',\n",
       " 'http://www.segye.com/newsList/0101030100000?curPage=966',\n",
       " 'http://www.segye.com/newsList/0101030100000?curPage=967',\n",
       " 'http://www.segye.com/newsList/0101030100000?curPage=968',\n",
       " 'http://www.segye.com/newsList/0101030100000?curPage=969',\n",
       " 'http://www.segye.com/newsList/0101030100000?curPage=970',\n",
       " 'http://www.segye.com/newsList/0101030100000?curPage=971',\n",
       " 'http://www.segye.com/newsList/0101030100000?curPage=972',\n",
       " 'http://www.segye.com/newsList/0101030100000?curPage=973',\n",
       " 'http://www.segye.com/newsList/0101030100000?curPage=974',\n",
       " 'http://www.segye.com/newsList/0101030100000?curPage=975',\n",
       " 'http://www.segye.com/newsList/0101030100000?curPage=976',\n",
       " 'http://www.segye.com/newsList/0101030100000?curPage=977',\n",
       " 'http://www.segye.com/newsList/0101030100000?curPage=978',\n",
       " 'http://www.segye.com/newsList/0101030100000?curPage=979',\n",
       " 'http://www.segye.com/newsList/0101030100000?curPage=980',\n",
       " 'http://www.segye.com/newsList/0101030100000?curPage=981',\n",
       " 'http://www.segye.com/newsList/0101030100000?curPage=982',\n",
       " 'http://www.segye.com/newsList/0101030100000?curPage=983',\n",
       " 'http://www.segye.com/newsList/0101030100000?curPage=984',\n",
       " 'http://www.segye.com/newsList/0101030100000?curPage=985',\n",
       " 'http://www.segye.com/newsList/0101030100000?curPage=986',\n",
       " 'http://www.segye.com/newsList/0101030100000?curPage=987',\n",
       " 'http://www.segye.com/newsList/0101030100000?curPage=988',\n",
       " 'http://www.segye.com/newsList/0101030100000?curPage=989',\n",
       " 'http://www.segye.com/newsList/0101030100000?curPage=990',\n",
       " 'http://www.segye.com/newsList/0101030100000?curPage=991',\n",
       " 'http://www.segye.com/newsList/0101030100000?curPage=992',\n",
       " 'http://www.segye.com/newsList/0101030100000?curPage=993',\n",
       " 'http://www.segye.com/newsList/0101030100000?curPage=994',\n",
       " 'http://www.segye.com/newsList/0101030100000?curPage=995',\n",
       " 'http://www.segye.com/newsList/0101030100000?curPage=996',\n",
       " 'http://www.segye.com/newsList/0101030100000?curPage=997',\n",
       " 'http://www.segye.com/newsList/0101030100000?curPage=998',\n",
       " 'http://www.segye.com/newsList/0101030100000?curPage=999']"
      ]
     },
     "execution_count": 6,
     "metadata": {},
     "output_type": "execute_result"
    }
   ],
   "source": [
    "urls"
   ]
  },
  {
   "cell_type": "markdown",
   "metadata": {},
   "source": [
    "### 하나의 페이지 테스트"
   ]
  },
  {
   "cell_type": "code",
   "execution_count": 7,
   "metadata": {},
   "outputs": [],
   "source": [
    "url = urls[0]\n",
    "html = urlopen(url)\n",
    "data = BeautifulSoup(html, \"lxml\")"
   ]
  },
  {
   "cell_type": "code",
   "execution_count": 8,
   "metadata": {},
   "outputs": [
    {
     "data": {
      "text/plain": [
       "<!DOCTYPE html PUBLIC \"-//W3C//DTD XHTML 1.0 Transitional//EN\" \"http://www.w3.org/TR/xhtml1/DTD/xhtml1-transitional.dtd\">\n",
       "<html lang=\"ko\" xmlns=\"http://www.w3.org/1999/xhtml\">\n",
       "<head>\n",
       "<meta content=\"text/html; charset=utf-8\" http-equiv=\"Content-Type\"/>\n",
       "<meta content=\"세계일보\" name=\"Author\"/>\n",
       "<meta content=\"세계일보\" name=\"Description\"/>\n",
       "<meta content=\"IE=edge,chrome=1\" http-equiv=\"X-UA-Compatible\"/>\n",
       "<link href=\"//img.segye.com/resourcesimages/favicon-segye1.ico\" rel=\"shortcut icon\"/>\n",
       "<link href=\"//img.segye.com/resources/css/segye2016.css\" rel=\"stylesheet\" type=\"text/css\"/>\n",
       "<title>세상을 보는 눈, 글로벌 미디어 - 세계일보 -</title>\n",
       "</head>\n",
       "<!-- Google Tag Manager -->\n",
       "<body><noscript><iframe height=\"0\" src=\"//www.googletagmanager.com/ns.html?id=GTM-KDPKKS\" style=\"display:none;visibility:hidden\" width=\"0\"></iframe></noscript>\n",
       "<script>(function(w,d,s,l,i){w[l]=w[l]||[];w[l].push({'gtm.start':\n",
       "new Date().getTime(),event:'gtm.js'});var f=d.getElementsByTagName(s)[0],\n",
       "j=d.createElement(s),dl=l!='dataLayer'?'&l='+l:'';j.async=true;j.src=\n",
       "'//www.googletagmanager.com/gtm.js?id='+i+dl;f.parentNode.insertBefore(j,f);\n",
       "})(window,document,'script','dataLayer','GTM-KDPKKS');</script>\n",
       "<!-- End Google Tag Manager -->\n",
       "<input id=\"seriesId\" name=\"seriesId\" type=\"hidden\" value=\"\"/>\n",
       "<input id=\"categoryId\" name=\"categoryId\" type=\"hidden\" value=\"0101030100000\"/>\n",
       "<input id=\"curPage\" name=\"curPage\" type=\"hidden\" value=\"1\"/>\n",
       "<script src=\"//img.segye.com/resources/js/jquery.js\"></script>\n",
       "<script src=\"//img.segye.com/resources/js/common_v2.js\"></script>\n",
       "<!------------------------>\n",
       "<!-- wrap start -->\n",
       "<div id=\"wrap\">\n",
       "<!------------------------>\n",
       "<!-- 헤더영역 start -->\n",
       "<div id=\"header\">\n",
       "<!-- 탑 네비 -->\n",
       "<div class=\"nvi_top\">\n",
       "<div class=\"top_link\">\n",
       "<a href=\"http://www.sportsworldi.com/\" target=\"_blank\">스포츠월드</a>    \n",
       "\t\t<a href=\"http://fn.segye.com/\" target=\"_blank\">세계파이낸스</a>    \n",
       "\t\t<a href=\"http://www.segyelocalnews.com/\" target=\"_blank\">세계로컬신문</a>    \t\n",
       "\t\t<a href=\"http://www.jknews.kr/main.jsp\" target=\"_blank\">종교신문</a>    \n",
       "\n",
       "\t\t<a href=\"javascript:sales();\">구독신청</a>   &amp;nbsp\n",
       "\t\t<a href=\"http://sg.scrapmaster.co.kr/\" target=\"_blank\">mPaper</a>    \n",
       "\t\t<a href=\"http://www.segye.com/rssInfo\" target=\"_blank\">RSS</a>\n",
       "</div>\n",
       "</div>\n",
       "<div class=\"logo_area\">\n",
       "<!-- 기본로고 -->\n",
       "<div class=\"top_logo\"><a href=\"http://www.segye.com/main\"><img src=\"//img.segye.com/resources/images/logo.png\"/></a></div>\n",
       "<!-- 명절로고\n",
       "\t\t<div class=\"top_logo_holiday\"><a href=\"http://www.segye.com/main\"><img src=\"//img.segye.com/resources/images/logo_2018.png\" /></a></div>\n",
       "\n",
       "\t\t-->\n",
       "<div class=\"top_bn250\"><iframe frameborder=\"0\" height=\"60\" marginheight=\"0\" marginwidth=\"0\" noresize=\"\" scrolling=\"no\" src=\"//white.contentsfeed.com/RealMedia/ads/adstream_sx.ads/segye.com/view3@x30\" width=\"250\"></iframe></div>\n",
       "<div class=\"top_sns\">\n",
       "<ul>\n",
       "<li><a href=\"https://www.facebook.com/segyetimes\" target=\"_blank\" title=\"세계일보 페이스북\"><img alt=\"페이스북\" border=\"0\" src=\"//img.segye.com/resources/images/topsns_fb.png\"/></a></li>\n",
       "<li><a href=\"https://twitter.com/segyecom\" target=\"_blank\" title=\"세계일보 트위터\"><img alt=\"트위터\" border=\"0\" src=\"//img.segye.com/resources/images/topsns_tw.png\"/></a></li>\n",
       "<li><a href=\"http://post.naver.com/my.nhn?memberNo=15305315\" target=\"_blank\" title=\"세계일보 네이버\"><img alt=\"네이버\" border=\"0\" src=\"//img.segye.com/resources/images/topsns_naver.png\"/></a></li>\n",
       "<li><a href=\"https://story.kakao.com/#ch/segyetimes\" target=\"_blank\" title=\"세계일보 카카오스토리\"><img alt=\"카카오스토리\" border=\"0\" src=\"//img.segye.com/resources/images/topsns_kk.png\"/></a></li>\n",
       "</ul>\n",
       "</div>\n",
       "<!-- 지면보기, 뉴스제보 start -->\n",
       "<div class=\"navi_menuS\">\n",
       "<a href=\"http://www.segye.com/newspaper\">지면보기</a>   l   <a href=\"http://company.segye.com/news/information\" target=\"_blank\">뉴스제보</a>\n",
       "</div>\n",
       "</div>\n",
       "<div class=\"gnbNav\">\n",
       "<div class=\"section_navi\">\n",
       "<!-- class설정= 뉴스(naviT_news), 오피니언(naviT_opinion), 연예(naviT_enter), 스포츠(naviT_sports), 포토비디오(naviT_phpoto), 기자블로그(naviT_blog) -->\n",
       "<!--전체보기 -->\n",
       "<div class=\"main_navi_all\" id=\"topOpen\"><a href=\"javascript:;\" title=\"서비스 전체보기\"><span><img border=\"0\" src=\"//img.segye.com/resources/images/listbt_blue.png\"/></span><font>전체보기</font></a></div>\n",
       "<div class=\"main_navi_all\" id=\"topClose\" style=\"display:none;\"><a href=\"javascript:;\" title=\"서비스 메뉴닫기\"><span><img border=\"0\" src=\"//img.segye.com/resources/images/listbt_x.png\"/></span><font>메뉴닫기</font></a></div>\n",
       "<ul class=\"navi_menu\">\n",
       "<li id=\"bigClass010101\"><a href=\"/newsList/0101010000000\">정치</a></li>\n",
       "<li id=\"bigClass010103\"><a href=\"/newsList/0101030000000\">경제</a></li>\n",
       "<li id=\"bigClass010108\"><a href=\"/newsList/0101080000000\">사회</a></li>\n",
       "<li id=\"bigClass010104\"><a href=\"/newsList/0101040000000\">국제</a></li>\n",
       "<li id=\"bigClass010105\"><a href=\"/newsList/0101050000000\">문화</a></li>\n",
       "<li id=\"bigClass010110\"><a href=\"/opinion\">오피니언</a></li>\n",
       "<li id=\"bigClass010106\"><a href=\"/ent\">연예</a></li>\n",
       "<li id=\"bigClass010111\"><a href=\"/sports\">스포츠</a></li>\n",
       "<li id=\"bigClass011500\"><a href=\"/photo\">포토</a></li>\n",
       "<li id=\"bigClass012600\"><a href=\"/video\">영상</a></li>\n",
       "<!-- 드론 오픈 후 숨김\n",
       "\t <li id=\"bigClass012500\"><a href=\"/innovList/0125000000000\">inno북스</a></li>\n",
       "\t <li id=\"bigClass012400\"><a href=\"http://www.segye.com/eco2018\"><img src=\"http://img.segye.com/resources/images/eco_maintitle.png\" /></a></li>\n",
       "\n",
       "\t  -->\n",
       "<!-- 드론 오픈 -->\n",
       "<li id=\"bigClass012500\" style=\"position:relative;top: -17px;margin-right:15px;\"><a href=\"http://www.segye.com/drone\"><img src=\"//img.segye.com/resources/images/drone_maintitle.png\"/></a></li>\n",
       "<li id=\"bigClass012400\"><a href=\"http://www.segye.com/eco2018\">환경</a></li>\n",
       "</ul>\n",
       "<!-- 우측 (검색, 로그인, 목록)버튼들 start -->\n",
       "<!-- 우측 (검색, 로그인, 목록)버튼들 start -->\n",
       "<div class=\"btn_all\" style=\"\">\n",
       "<dl>\n",
       "<div class=\"searchbox\" style=\"display:block;\">\n",
       "<form action=\"http://search3.segye.com/\" id=\"searchform\" method=\"post\" name=\"searchform\" target=\"_blank\">\n",
       "<label for=\"textfield\"></label>\n",
       "<input class=\"searchbox_txt\" id=\"searchWord\" name=\"searchWord\" placeholder=\"검색어를 입력하세요.\" type=\"text\"/>\n",
       "</form>\n",
       "</div>\n",
       "<!--검색버튼 클릭시 오픈 end -->\n",
       "<script type=\"text/javascript\">\n",
       "\t  var result = getCookie('eyeid');\n",
       "\t  if (result==\"\"){\n",
       "\t   document.write(\"<dd id='in'><a title='로그인' class='login' href='javascript:Login()'>로그인</a></dd>\");\n",
       "\t  }else{\n",
       "\t   document.write(\"<dd id='out'><a title='로그아웃' class='login_on' href='javascript:Logout()'>로그아웃</a></dd>\");\n",
       "\t  }\n",
       "\t  function getCookie(name) { \n",
       "\t\t var cookieName = name + \"=\";\n",
       "\t\t var cookie_start = 0;\n",
       "\t\t while ( cookie_start <= document.cookie.length ) { \n",
       "\t\t var cookie_end = (cookie_start+cookieName.length); \n",
       "\t\t if ( document.cookie.substring( cookie_start, cookie_end ) == cookieName) { \n",
       "\t\t if ((lastChrCookie=document.cookie.indexOf(\";\", cookie_end)) == -1) \n",
       "\t\t lastChrCookie = document.cookie.length;\n",
       "\t\t return decodeURI(document.cookie.substring(cookie_end, lastChrCookie));\n",
       "\t\t }\n",
       "\t\t cookie_start = document.cookie.indexOf(\" \", cookie_start ) + 1; \n",
       "\t\t if ( cookie_start == 0 )\n",
       "\t\t break; \n",
       "\t\t } \n",
       "\t\t return \"\";\n",
       "\t  }\n",
       "\t </script>\n",
       "<dd><a class=\"search\" title=\"검색\">검색</a></dd>\n",
       "<dd><a class=\"list\" title=\"전체보기\">전체보기</a></dd>\n",
       "<!-- 로그인박스 오픈 -->\n",
       "<div class=\"loginbox_main\" id=\"login\" style=\"display:none;\">\n",
       "<div><a href=\"/login\">로그인</a></div>\n",
       "<div><a href=\"/stipulation\">회원가입</a></div>\n",
       "</div>\n",
       "<div class=\"loginbox_main\" id=\"logout\" style=\"display:none;height:70px;\">\n",
       "<div><a href=\"javascript:logoutAction();\">로그아웃</a></div>\n",
       "<div><a href=\"/memberModify\">정보수정</a></div>\n",
       "<div><a href=\"/memberCancel\">회원탈퇴</a></div>\n",
       "</div>\n",
       "<div class=\"loginbox_close\" id=\"loginbox_close\" style=\"display:none;\"><img src=\"//img.segye.com/resources/images/bt_close.png\" style=\"cursor:pointer;\"/></div>\n",
       "<!-- 로그인박스 오픈 end -->\n",
       "<script type=\"text/javascript\">\n",
       "\t  function Login(){\n",
       "\t   $('#login').toggle();\n",
       "\t   $('#loginbox_close').toggle();\n",
       "\t  }\n",
       "\t  function Logout(){\n",
       "\t   $('#logout').toggle();\n",
       "\t   $('#loginbox_close').toggle();\n",
       "\t  }\n",
       "\t  $('#loginbox_close').click(function(){\n",
       "\t   $('#login').css('display', 'none');\n",
       "\t   $('#logout').css('display', 'none');\n",
       "\t   $('#loginbox_close').css('display', 'none');\n",
       "\t  });\n",
       "\t </script>\n",
       "</dl>\n",
       "</div>\n",
       "<!-- 우측 (검색, 로그인, 목록)버튼들 end -->\n",
       "</div>\n",
       "<div>\n",
       "<!-- 서비스 전체보기 클릭시 나타나는 메뉴박스 start -->\n",
       "<div id=\"topMenu\" style=\"display:none;\">\n",
       "<div class=\"footer_open_top\">\n",
       "<a class=\"closeBt2\"><img alt=\"닫기\" border=\"0\" src=\"//img.segye.com/resources/images/bt_close2.png\"/></a>\n",
       "<div class=\"bmenu1\">\n",
       "<ul>\n",
       "<li class=\"title\"><a href=\"http://www.segye.com/newsList/0101010000000\">뉴스</a></li>\n",
       "<li><a href=\"http://www.segye.com/newsList/0101010000000\">정치</a></li>\n",
       "<li><a href=\"http://www.segye.com/newsList/0101030000000\">경제</a></li>\n",
       "<li><a href=\"http://www.segye.com/newsList/0101080000000\">사회</a></li>\n",
       "<li><a href=\"http://www.segye.com/newsList/0101040000000\">국제</a></li>\n",
       "<li><a href=\"http://www.segye.com/newsList/0101050000000\">문화</a></li>\n",
       "<li><a href=\"http://www.segye.com/newsList/0101070000000\">전국</a></li>\n",
       "<li><a href=\"http://www.segye.com/newsList/0101120000000\">피플</a></li>\n",
       "<li><a href=\"http://www.segye.com/seriesList/4300000\">기획특집</a></li>\n",
       "<li><a href=\"http://www.segye.com/cardList/9140000\">카드뉴스</a></li>\n",
       "</ul>\n",
       "<ul>\n",
       "<li class=\"title\"><a href=\"http://www.segye.com/opinion\">오피니언</a></li>\n",
       "<li><a href=\"http://www.segye.com/newsList/0101100300000\">사설</a></li>\n",
       "<li><a href=\"http://www.segye.com/newsList/0101100100000\">오늘의칼럼</a></li>\n",
       "<li><a href=\"http://www.segye.com/newsList/0101100503000\">기자ㆍ데스크</a></li>\n",
       "<li><a href=\"http://www.segye.com/newsList/0101100501000\">논설위원칼럼</a></li>\n",
       "<li><a href=\"http://www.segye.com/newsList/0101100504000\">전문가칼럼</a></li>\n",
       "<li><a href=\"http://www.segye.com/newsList/0101100502000\">외부칼럼</a></li>\n",
       "<li><a href=\"http://www.segye.com/newsList/0101100800000\">기고ㆍ독자</a></li>\n",
       "<li><a href=\"http://www.segye.com/newsList/0101100200000\">월드</a></li>\n",
       "</ul>\n",
       "<ul>\n",
       "<li class=\"title\"><a href=\"http://www.segye.com/ent\">연예</a></li>\n",
       "<li><a href=\"http://www.segye.com/newsList/0101060100000\">연예가소식</a></li>\n",
       "<li><a href=\"http://www.segye.com/newsList/0101060500000\">TVㆍ방송</a></li>\n",
       "<li><a href=\"http://www.segye.com/newsList/0101060300000\">영화</a></li>\n",
       "<li><a href=\"http://www.segye.com/newsList/0101060400000\">대중음악</a></li>\n",
       "<li><a href=\"http://www.segye.com/newsList/0101060700000\">해외연예</a></li>\n",
       "</ul>\n",
       "<ul>\n",
       "<li class=\"title\"><a href=\"http://www.segye.com/sports\">스포츠</a></li>\n",
       "<li><a href=\"http://www.segye.com/newsList/0101110100000\">일반</a></li>\n",
       "<li><a href=\"http://www.segye.com/newsList/0101110400000\">야구</a></li>\n",
       "<li><a href=\"http://www.segye.com/newsList/0101110300000\">축구</a></li>\n",
       "<li><a href=\"http://www.segye.com/newsList/0101110500000\">농구</a></li>\n",
       "<li><a href=\"http://www.segye.com/newsList/0101110600000\">배구</a></li>\n",
       "<li><a href=\"http://www.segye.com/newsList/0101110200000\">골프</a></li>\n",
       "</ul>\n",
       "<ul>\n",
       "<li class=\"title\"><a href=\"http://www.segye.com/photo\">포토</a></li>\n",
       "<li><a href=\"http://www.segye.com/hotgalleryList/0115000000000\">핫갤러리</a></li>\n",
       "<li><a href=\"http://www.segye.com/photoList/0104010500000\">연예</a></li>\n",
       "<li><a href=\"http://www.segye.com/photoList/0104010400000\">스포츠</a></li>\n",
       "<li><a href=\"http://www.segye.com/photoList/0104010100000\">정치</a></li>\n",
       "<li><a href=\"http://www.segye.com/photoList/0104010200000\">경제</a></li>\n",
       "<li><a href=\"http://www.segye.com/photoList/0104010700000\">사회</a></li>\n",
       "<li><a href=\"http://www.segye.com/photoList/0104010600000\">국제</a></li>\n",
       "<li><a href=\"http://www.segye.com/photoList/0104010300000\">문화</a></li>\n",
       "<li><a href=\"http://www.segye.com/photoList/3000314\">렌즈로보는세상</a></li>\n",
       "<li><a href=\"http://www.segye.com/photoList/1000109\">포토에세이</a></li>\n",
       "</ul>\n",
       "</div>\n",
       "<div class=\"bmenu2\">\n",
       "<ul>\n",
       "<li class=\"title\"><a href=\"http://www.segye.com/video\">영상</a></li>\n",
       "<!--<li><a href=\"\">기자블로그</a><li>-->\n",
       "</ul>\n",
       "<ul>\n",
       "<li class=\"title\">부가서비스</li>\n",
       "<li><a href=\"http://www.segye.com/innovList/0125000000000\">inno북스</a></li>\n",
       "<li><a href=\"http://www.segye.com/drone\">드론</a></li>\n",
       "<li><a href=\"http://www.segye.com/eco2018\">환경</a></li>\n",
       "<li><a href=\"http://www.segye.com/newsList/3000222\">오늘의 운세</a></li>\n",
       "</ul>\n",
       "<ul>\n",
       "<li class=\"title\">외국어</li>\n",
       "<li><a href=\"http://www.segye.com/newsList/3100168\">해커스톡</a></li>\n",
       "<li><a href=\"http://www.segye.com/newsList/3100167\">영단기신토익</a></li>\n",
       "<li><a href=\"http://www.segye.com/newsList/3100164\">시사일본어</a></li>\n",
       "<li><a href=\"http://www.segye.com/newsList/3100169\">차이나로중국어</a></li>\n",
       "</ul>\n",
       "<ul>\n",
       "<li class=\"title\">Family Sites\n",
       "\t </li><li><a href=\"http://www.sportsworldi.com\" target=\"_blank\">스포츠월드</a></li>\n",
       "<li><a href=\"http://fn.segye.com\" target=\"_blank\">세계파이낸스</a></li>\n",
       "<li><a href=\"http://www.jknews.kr/main.jsp\" target=\"_blank\">종교신문</a></li>\n",
       "</ul>\n",
       "<ul>\n",
       "<li class=\"mpaper\"><a href=\"http://sg.scrapmaster.co.kr/\" target=\"_blank\" title=\"M-paper\"><img border=\"0\" src=\"//img.segye.com/resources/images/bt_mpaper.png\"/></a></li>\n",
       "<li class=\"rss\"><a href=\"http://www.segye.com/rssInfo\" target=\"_blank\" title=\"RSS\"><img border=\"0\" src=\"//img.segye.com/resources/images/bt_rss.png\"/></a></li>\n",
       "</ul>\n",
       "</div>\n",
       "</div>\n",
       "<!-- 서비스 전체보기 클릭시 나타나는 메뉴박스 end -->\n",
       "</div>\n",
       "<script>\n",
       "$('#topOpen,#topClose,#topMenu').click(function(){\n",
       "\t$('#topMenu').toggle();\n",
       "\t$('#topOpen').toggle();\n",
       "\t$('#topClose').toggle();\n",
       "});\n",
       "$('.navi_menu> li> a').each(function(){\n",
       "\tvar link = $(this).attr('href');\n",
       "\tif(link.indexOf('0101030100000') != -1 ){\n",
       "\t\t$(this).parent().addClass(\"on\");\n",
       "\t}\n",
       "});\n",
       "$('.search').click(function(){\n",
       "\tif($('#searchWord').val() == ''){\n",
       "\t\t$('.searchbox').toggle();\n",
       "\t}else{\n",
       "\t\t$('#searchform').submit();\n",
       "\t}\n",
       "});\n",
       "function logoutAction(){\n",
       "\tdeleteCookie(\"eyeid\", \".segye.com\" );\n",
       "\tdeleteCookie(\"eyename\", \".segye.com\" );\n",
       "\tlocation.href='/login';\n",
       "}\n",
       "\n",
       "function sales(){\n",
       "\tif(getCookie('eyeid')==''){\n",
       "\t\tlocation.href='/login?f=http://www.segye.com/sales';\n",
       "\t}else{\n",
       "\t\t$('#memberId').val(getCookie('eyeid'));\n",
       "\t\t//console.log(getCookie('eyeid'));\n",
       "\t\t$('#mfrm').attr('action','http://www.segye.com/sales').submit();\n",
       "\t}\n",
       "}\n",
       "</script>\n",
       "<form id=\"mfrm\" method=\"post\" name=\"mfrm\">\n",
       "<input id=\"memberId\" name=\"memberId\" type=\"hidden\"/>\n",
       "</form>\n",
       "<!-- 네비 서브 메뉴 리뉴얼 2017.07 시작 -->\n",
       "<div class=\"navi_menu_sub\" sytle=\"display:show;\">\n",
       "<div class=\"navi_subbox\">\n",
       "<ul id=\"subBar010101\" style=\"display:none;\">\n",
       "<li id=\"midClass01010101\"><a href=\"/newsList/0101010100000\">일반</a></li>\n",
       "<li id=\"midClass01010102\"><a href=\"/newsList/0101010200000\">청와대</a></li>\n",
       "<li id=\"midClass01010104\"><a href=\"/newsList/0101010400000\">국회ㆍ정당</a></li>\n",
       "<li id=\"midClass01010105\"><a href=\"/newsList/0101010500000\">선거ㆍ선관위</a></li>\n",
       "<li id=\"midClass01010106\"><a href=\"/newsList/0101010600000\">외교ㆍ안보</a></li>\n",
       "<li id=\"midClass01010107\"><a href=\"/newsList/0101010700000\">국방</a></li>\n",
       "<li id=\"midClass01010108\"><a href=\"/newsList/0101010800000\">북한ㆍ통일</a></li>\n",
       "</ul>\n",
       "<ul id=\"subBar010103\" style=\"display:none;\">\n",
       "<li id=\"midClass01010301\"><a href=\"/newsList/0101030100000\">일반</a></li>\n",
       "<li id=\"midClass01010303\"><a href=\"/newsList/0101030300000\">금융ㆍ증권</a></li>\n",
       "<li id=\"midClass01010305\"><a href=\"/newsList/0101030500000\">보험</a></li>\n",
       "<li id=\"midClass01010307\"><a href=\"/newsList/0101030700000\">부동산ㆍ건설</a></li>\n",
       "<li id=\"midClass01010309\"><a href=\"/newsList/0101030900000\">ITㆍ과학</a></li>\n",
       "<li id=\"midClass01010311\"><a href=\"/newsList/0101031100000\">산업ㆍ기업</a></li>\n",
       "<li id=\"midClass01010312\"><a href=\"/newsList/0101031200000\">자동차</a></li>\n",
       "<li id=\"midClass01010315\"><a href=\"/newsList/0101031500000\">쇼핑ㆍ유통</a></li>\n",
       "<li id=\"midClass01010316\"><a href=\"/newsList/0101031600000\">취업ㆍ창업</a></li>\n",
       "<li id=\"midClass01010317\"><a href=\"/newsList/0101031700000\">재테크</a></li>\n",
       "</ul>\n",
       "<ul id=\"subBar010108\" style=\"display:none;\">\n",
       "<li id=\"midClass01010801\"><a href=\"/newsList/0101080100000\">일반</a></li>\n",
       "<li id=\"midClass01010803\"><a href=\"/newsList/0101080300000\">검찰ㆍ법원</a></li>\n",
       "<li id=\"midClass01010805\"><a href=\"/newsList/0101080500000\">노동ㆍ복지</a></li>\n",
       "<li id=\"midClass01010807\"><a href=\"/newsList/0101080700000\">환경ㆍ날씨</a></li>\n",
       "<li id=\"midClass01010808\"><a href=\"/newsList/0101080800000\">교통ㆍ항공</a></li>\n",
       "<li id=\"midClass01010809\"><a href=\"/newsList/0101080900000\">교육ㆍ학교</a></li>\n",
       "<li id=\"midClass01010810\"><a href=\"/newsList/0101081000000\">사건사고</a></li>\n",
       "</ul>\n",
       "<ul id=\"subBar010104\" style=\"display:none;\">\n",
       "<li id=\"midClass01010401\"><a href=\"/newsList/0101040100000\">일반</a></li>\n",
       "<li id=\"midClass01010402\"><a href=\"/newsList/0101040200000\">미국ㆍ캐나다</a></li>\n",
       "<li id=\"midClass01010403\"><a href=\"/newsList/0101040300000\">중국</a></li>\n",
       "<li id=\"midClass01010404\"><a href=\"/newsList/0101040400000\">일본</a></li>\n",
       "<li id=\"midClass01010405\"><a href=\"/newsList/0101040500000\">아시아ㆍ태평양</a></li>\n",
       "<li id=\"midClass01010406\"><a href=\"/newsList/0101040600000\">유럽</a></li>\n",
       "<li id=\"midClass01010407\"><a href=\"/newsList/0101040700000\">중동ㆍ아프리카</a></li>\n",
       "<li id=\"midClass01010411\"><a href=\"/newsList/0101041100000\">러시아</a></li>\n",
       "<li id=\"midClass01010412\"><a href=\"/newsList/0101041200000\">중남미</a></li>\n",
       "<li id=\"midClass01010410\"><a href=\"/newsList/0101041000000\">국제경제</a></li>\n",
       "<li id=\"midClass01010413\"><a href=\"/newsList/0101041300000\">국제기구</a></li>\n",
       "</ul>\n",
       "<ul id=\"subBar010105\" style=\"display:none;\">\n",
       "<li id=\"midClass01010501\"><a href=\"/newsList/0101050100000\">일반</a></li>\n",
       "<li id=\"midClass01010503\"><a href=\"/newsList/0101050300000\">미디어</a></li>\n",
       "<li id=\"midClass01010504\"><a href=\"/newsList/0101050400000\">종교ㆍ학술</a></li>\n",
       "<li id=\"midClass01010506\"><a href=\"/newsList/0101050600000\">음악ㆍ공연</a></li>\n",
       "<li id=\"midClass01010507\"><a href=\"/newsList/0101050700000\">미술ㆍ전시</a></li>\n",
       "<li id=\"midClass01010508\"><a href=\"/newsList/0101050800000\">건강ㆍ의료</a></li>\n",
       "<li id=\"midClass01010509\"><a href=\"/newsList/0101050900000\">관광ㆍ레저</a></li>\n",
       "<li id=\"midClass01010510\"><a href=\"/newsList/0101051000000\">문학ㆍ출판</a></li>\n",
       "<li id=\"midClass01010511\"><a href=\"/newsList/0101051100000\">음식</a></li>\n",
       "<li id=\"midClass01010513\"><a href=\"/newsList/0101051300000\">패션ㆍ뷰티</a></li>\n",
       "<li id=\"midClass01010514\"><a href=\"/newsList/0101051400000\">결혼ㆍ육아</a></li>\n",
       "</ul>\n",
       "<ul id=\"subBar010107\" style=\"display:none;\">\n",
       "<li id=\"midClass01010701\"><a href=\"/newsList/0101070100000\">일반</a></li>\n",
       "<li id=\"midClass01010710\"><a href=\"/newsList/0101071000000\">서울</a></li>\n",
       "<li id=\"midClass01010709\"><a href=\"/newsList/0101070900000\">경기</a></li>\n",
       "<li id=\"midClass01010711\"><a href=\"/newsList/0101071100000\">강원</a></li>\n",
       "<li id=\"midClass01010706\"><a href=\"/newsList/0101070600000\">충청</a></li>\n",
       "<li id=\"midClass01010712\"><a href=\"/newsList/0101071200000\">영남</a></li>\n",
       "<li id=\"midClass01010707\"><a href=\"/newsList/0101070700000\">호남</a></li>\n",
       "<li id=\"midClass01010708\"><a href=\"/newsList/0101070800000\">제주</a></li>\n",
       "</ul>\n",
       "<ul id=\"subBar010110\" style=\"display:none;\">\n",
       "<li id=\"midClass01011003\"><a href=\"/newsList/0101100300000\">사설</a></li>\n",
       "<li id=\"midClass2001167\"><a href=\"/newsList/2009999\">오늘의칼럼</a></li>\n",
       "<li id=\"midClass0101100503\"><a href=\"/newsList/0101100503000\">기자ㆍ데스크</a></li>\n",
       "<li id=\"midClass0101100501\"><a href=\"/newsList/0101100501000\">논설위원칼럼</a></li>\n",
       "<li id=\"midClass0101100504\"><a href=\"/newsList/0101100504000\">전문가칼럼</a></li>\n",
       "<li id=\"midClass0101100502\"><a href=\"/newsList/0101100502000\">외부칼럼</a></li>\n",
       "<li id=\"midClass01011008\"><a href=\"/newsList/0101100800000\">기고ㆍ독자</a></li>\n",
       "<li id=\"midClass01011002\"><a href=\"/newsList/0101100200000\">월드</a></li>\n",
       "</ul>\n",
       "<ul id=\"subBar010106\" style=\"display:none;\">\n",
       "<li id=\"midClass01010601\"><a href=\"/newsList/0101060100000\">연예가소식</a></li>\n",
       "<li id=\"midClass01010605\"><a href=\"/newsList/0101060500000\">TVㆍ방송</a></li>\n",
       "<li id=\"midClass01010603\"><a href=\"/newsList/0101060300000\">영화</a></li>\n",
       "<li id=\"midClass01010604\"><a href=\"/newsList/0101060400000\">대중음악</a></li>\n",
       "<li id=\"midClass01010607\"><a href=\"/newsList/0101060700000\">해외연예</a></li>\n",
       "</ul>\n",
       "<ul id=\"subBar010111\" style=\"display:none;\">\n",
       "<li id=\"midClass01011101\"><a href=\"/newsList/0101110100000\">일반</a></li>\n",
       "<li id=\"midClass01011104\"><a href=\"/newsList/0101110400000\">야구</a></li>\n",
       "<li id=\"midClass01011103\"><a href=\"/newsList/0101110300000\">축구</a></li>\n",
       "<li id=\"midClass01011105\"><a href=\"/newsList/0101110500000\">농구</a></li>\n",
       "<li id=\"midClass01011106\"><a href=\"/newsList/0101110600000\">배구</a></li>\n",
       "<li id=\"midClass01011102\"><a href=\"/newsList/0101110200000\">골프</a></li>\n",
       "</ul>\n",
       "<ul id=\"subBar010112\" style=\"display:none;\">\n",
       "<li id=\"midClass01011201\"><a href=\"/newsList/0101120100000\">일반</a></li>\n",
       "<li id=\"midClass01011203\"><a href=\"/newsList/0101120300000\">동정ㆍ인사</a></li>\n",
       "<li id=\"midClass01011202\"><a href=\"/newsList/0101120200000\">부음</a></li>\n",
       "<li id=\"midClass01011205\"><a href=\"/newsList/0101120500000\">인터뷰</a></li>\n",
       "</ul>\n",
       "<ul id=\"subBar011500\" style=\"display:none;\">\n",
       "<li id=\"midClass01150000\"><a href=\"http://www.segye.com/hotgalleryList/0115000000000\">핫갤러리</a></li>\n",
       "<li id=\"midClass01040105\"><a href=\"http://www.segye.com/photoList/0104010500000\">연예</a></li>\n",
       "<li id=\"midClass01040104\"><a href=\"http://www.segye.com/photoList/0104010400000\">스포츠</a></li>\n",
       "<li id=\"midClass01040101\"><a href=\"http://www.segye.com/photoList/0104010100000\">정치</a></li>\n",
       "<li id=\"midClass01040102\"><a href=\"http://www.segye.com/photoList/0104010200000\">경제</a></li>\n",
       "<li id=\"midClass01040107\"><a href=\"http://www.segye.com/photoList/0104010700000\">사회</a></li>\n",
       "<li id=\"midClass01040106\"><a href=\"http://www.segye.com/photoList/0104010600000\">국제</a></li>\n",
       "<li id=\"midClass01040103\"><a href=\"http://www.segye.com/photoList/0104010300000\">문화</a></li>\n",
       "<li id=\"midClass3000314\"><a href=\"http://www.segye.com/photoList/3000314\">렌즈로보는세상</a></li>\n",
       "<li id=\"midClass1000109\"><a href=\"http://www.segye.com/photoList/1000109\">포토에세이</a></li>\n",
       "</ul>\n",
       "<ul id=\"subBar4300000\" style=\"display:none;\">\n",
       "<li id=\"midClass4300000\"><a href=\"/seriesList/4300000\">탐사</a></li>\n",
       "<li id=\"midClass4000000\"><a href=\"/seriesList/4000000\">기획</a></li>\n",
       "<li id=\"midClass4400000\"><a href=\"/seriesList/4400000\">이슈</a></li>\n",
       "<li id=\"midClassonly\"><a href=\"/newsList/only\">ONLY 세계</a></li>\n",
       "</ul>\n",
       "</div>\n",
       "</div>\n",
       "<!-- 네비 서브 메뉴 리뉴얼 2017.07 끝 -->\n",
       "<script>\n",
       "var thisSection='';\n",
       "$(\"[id^='bigClass']\").mouseenter(function(obj){\n",
       "\tvar subMenuId=$(this).attr('id').replace('bigClass','subBar');\n",
       "\t$(\"[id^='subBar']\").hide();\n",
       "\t$(\"#\"+subMenuId).show();\n",
       "});\n",
       "$(\".gnbNav\").mouseleave(function(){\n",
       "\t$(\"[id^='subBar']\").hide();\n",
       "\t$(\"#subBar\"+thisSection).show();\n",
       "});\n",
       "\n",
       "function selectMenu(categoryId){\n",
       "\tvar seriesId = [\"2001167\", \"3000314\",\"1000109\"];\n",
       "\tvar bigClassId=\"\";\n",
       "\tvar tmp=\"\";\n",
       "\n",
       "\tif(categoryId==''){\n",
       "\t\tcategoryExp=/List\\/(\\d{5,13})/;\n",
       "\t\ttmp=categoryExp.exec(location.href);\n",
       "\n",
       "\t\tif(tmp==null){\n",
       "\t\t\tvar editableCategoryExp = /\\/([a-z]+)$/;\n",
       "\t\t\tvar editableCategory = [\"opinion\", \"ent\",\"sports\", \"photo\",\"only\",\"video\"];\n",
       "\t\t\tvar editableCategoryId = [\"0101100000000\",\"0101060000000\",\"0101110000000\",\"0115000000000\",\"only\",\"0126000000000\"];\n",
       "\t\t\ttmp=editableCategoryExp.exec(location.href);\n",
       "\t\t\t\n",
       "\t\t\tif(tmp!=null){\n",
       "\t\t\t\tvar index=editableCategory.indexOf(tmp[1]);\n",
       "\t\t\t\tcategoryId=editableCategoryId[index];\n",
       "\t\t\t}\n",
       "\t\t}else{\n",
       "\t\t\tcategoryId=tmp[1];\n",
       "\t\t}\n",
       "\t}\n",
       "\n",
       "\tvar index=seriesId.indexOf(categoryId);\n",
       "\tif(index>-1){\n",
       "\t\tvar seriseBigClassId = [\"010110\",\"011500\",\"011500\"];\n",
       "\t\tbigClassId = seriseBigClassId[index];\n",
       "\t\tmidClassId= categoryId;\n",
       "\t}else if(!categoryId){\n",
       "\n",
       "\t}else if(categoryId.length==7 ||categoryId.length==4){\n",
       "\t\tvar tamsaSeries = [\"4300000\",\"4000000\",\"4400000\",\"only\"];\n",
       "\t\tif(tamsaSeries.indexOf(categoryId)>-1){\n",
       "\t\t\tbigClassId = '4300000';\n",
       "\t\t\tmidClassId = tamsaSeries[tamsaSeries.indexOf(categoryId)];\n",
       "\t\t}\n",
       "\t}else if(categoryId!=\"\"){\t\n",
       "\t\tvar regExp = /(\\d{2})(\\d{2})(\\d{2})(\\d{2})(\\d{2})(\\d{3})/\n",
       "\t\tidArray=regExp.exec(categoryId)\n",
       "\t\tbigClassId=idArray[1]+idArray[2]+idArray[3];\n",
       "\n",
       "\t\tbigClassId=(bigClassId==\"010401\"?\"011500\":bigClassId);\n",
       "\t\tmidClassId=idArray[1]+idArray[2]+idArray[3]+idArray[4];\n",
       "\t\tmidClassId= ( midClassId==\"01011005\" ? midClassId+idArray[5] : midClassId );\n",
       "\t\tif(tmp[1] == 'photo') midClassId='';\n",
       "\t}\n",
       "\n",
       "\tif(bigClassId!=\"\"){\n",
       "\t\tthisSection = bigClassId;\n",
       "\t\t$(\"#bigClass\"+bigClassId).attr('class','on');\n",
       "\t\t$(\"#midClass\"+midClassId).attr('class','on');\n",
       "\t\t$(\"#subBar\"+bigClassId).show();\n",
       "\t}\n",
       "}\n",
       "</script>\n",
       "</div>\n",
       "</div>\n",
       "<script>selectMenu('');</script>\n",
       "<!-- 헤더영역 end -->\n",
       "<!-- 양쪽 날개배너 start -->\n",
       "<div class=\"ad_subwing_wrap_L\">\n",
       "<iframe frameborder=\"0\" height=\"230\" marginheight=\"0\" marginwidth=\"0\" noresize=\"\" scrolling=\"no\" src=\"//white.contentsfeed.com/RealMedia/ads/adstream_sx.ads/segye.com/List3@TopLeft\" width=\"160\"></iframe>\n",
       "</div>\n",
       "<div class=\"ad_subwing_wrap_R\">\n",
       "<iframe frameborder=\"0\" height=\"230\" marginheight=\"0\" marginwidth=\"0\" noresize=\"\" scrolling=\"no\" src=\"https://white.contentsfeed.com/RealMedia/ads/adstream_sx.ads/segye.com/List3@TopRight\" width=\"160\"></iframe>\n",
       "</div>\n",
       "<!-- 양쪽 날개배너 end -->\n",
       "<!------------------------>\n",
       "<!-- 콘텐츠 영역 start -->\n",
       "<div id=\"content\">\n",
       "<!------------------------>\n",
       "<!-- content Left start -->\n",
       "<!-- newsList start -->\n",
       "<div class=\"newslist_area\">\n",
       "<div class=\"bd\">\n",
       "<div class=\"area_box\" data-current-page=\"1\">\n",
       "<dl class=\"r_txt\">\n",
       "<dt class=\"title_cr\"><a href=\"/newsView/20181118001744\" target=\"_self\">단순노무직 5년 만에 최대폭 감소</a></dt>\n",
       "<dd class=\"read_cr\"><a href=\"/newsView/20181118001744\" target=\"_self\">건설노무자, 배달원 등 단순노무 종사자가 5년 만에 가장 큰 폭으로 감소한 것으로 나타났다. 특히 미용실, 예식장 등 소규모 서비스업에서 단순노무 종사자가 줄어든 것으로 나타나 최저임금 인상과 경기 침체 등의 여파로 자영업 경기 부진이 심화하고 있다는 분석이 나온다.18일 통계청에 따르면 지난달 단순노무 종사자는 356만1000명으로 1년 전보다 9만3000명 감소했다. 같은 기준으로 통계를 작성하기 시작한 2013년 이후 감소폭이 가장 크다. 단순노무 종사자는 지난 4월 전년 동월 대비 1만9000명이 감소한 이후 지난달까지 7개월 연속 감소 중이다. 감소폭도 지난 8월 5만명, 9월 8만4000명을 기록한 데 이어 지난달에는 10만명선에 근접했다. 산업별로는 수리 및 기타 개인 서비스업 종사자가 대폭 줄었다.올해 초반부터 이어진 숙박음식점업과 사업시설관리업 등의 취업자 감소가 기타 개인 서비스업까지 확산했다는 것이 통계청의 설명이다. 통계청 관계자는 통화에서 숙박음식점업의 단순노</a></dd>\n",
       "</dl>\n",
       "<span class=\"date\">2018.11.18</span>\n",
       "</div>\n",
       "<div class=\"area_box\" data-current-page=\"1\">\n",
       "<dl class=\"Pho\">\n",
       "<dd class=\"photo\">\n",
       "<a href=\"/newsView/20181118001486\" style=\"cursor:pointer;\" target=\"_self\">\n",
       "</a><table border=\"0\" cellpadding=\"0\" cellspacing=\"0\"><tr><td align=\"center\" height=\"107\" style=\"vertical-align:middle;\" valign=\"middle\" width=\"178\"><img border=\"0\" src=\"http://img.segye.com/content/image/2018/11/18/20181118001364_t.jpg\"/></td></tr></table>\n",
       "</dd>\n",
       "</dl>\n",
       "<dl class=\"r_txt\">\n",
       "<dt class=\"title_cr\"><a href=\"/newsView/20181118001486\" target=\"_self\">BBQ, 치킨값 19일 인상…황금올리브 등 2000원 올라</a></dt>\n",
       "<dd class=\"read_cr\"><a href=\"/newsView/20181118001486\" target=\"_self\">BBQ로고. BBQ제공치킨 프랜차이즈 BBQ가 주요 치킨 가격을 2000원 올렸다.18일 업계에 따르면 BBQ는 19일부터 프라이드 대표 제품 황금올리브를 기존 1만6000원에서 2000원 인상하는 등의 방침을 결정했으며, 이 같은 내용을 가맹점주들에게 통보했다.인상 품목은 황금올리브를 비롯해 양념치킨과 반반 메뉴 등으로 알려졌다.BBQ는 지난해 5월과 6월 두 차례에 걸쳐 가격 인상을 단행했으나, 공정거래위원회로부터 가맹사업법 위반 혐의로 조사를 받는 사실이 알려지면서 30개 제품 전체의 가격을 원상회복한 바 있어 이번 인상에 관심이 쏠린다.한편 BBQ의 윤학종 대표가 돌연 사임한 사실도 이날 전해졌다. 윤 대표는 지난달 31일 공식 퇴사 처리됐으며, 2월1일에 취임한 지 불과 9개월 만의 일이다.김동환 기자 kimcharr@segye.com</a></dd>\n",
       "</dl>\n",
       "<span class=\"date\">2018.11.18</span>\n",
       "</div>\n",
       "<div class=\"area_box\" data-current-page=\"1\">\n",
       "<dl class=\"r_txt\">\n",
       "<dt class=\"title_cr\"><a href=\"/newsView/20181118001274\" target=\"_self\">첫 업종별 사회적대화, 금융산업위원회 발족</a></dt>\n",
       "<dd class=\"read_cr\"><a href=\"/newsView/20181118001274\" target=\"_self\">경제사회노동위원회 산하에 금융 분야의 일자리 창출 방안 등을 논의하기 위한 금융산업위원회가 발족한다. 오는 22일 경사노위의 공식 출범을 앞두고 업종별 사회적대화가 첫선을 보이는 셈이다.경사노위는 19일 대회의실에서 금융산업위원회 발족회의를 개최한다고 18일 밝혔다.이는 지난달 12일 제4차 노사정 대표자 회의에서 경사노위 산하에 △금융 △해운 △보건의료 △공공기관의 네 가지 업종별 위원회를 두기로 의결한 데 따른 것이다.앞서 지난 4월 제2차 노사정 대표자회의에서 금융산업위원회 설치에 대해 처음 합의했다. 이후 금융산업노조와 사무금융노조는 지난 5월 금융산업위원회 설치를 공동제안하면서 디지털 혁신에 따른 금융 업종의 인력 감축 등에 대해 우려를 제기하는 한편 4차 산업혁명을 일자리 창출의 계기로 삼아야 한다고 촉구한 바 있다.금융산업위원회의 위원장은 김유선 한국노동사회연구소 이사장이 맡는다. 여기에 노동계와 경영계 위원 각 2명과 정부 위원 1명, 공익위원 4명, 간사 1명 등 총</a></dd>\n",
       "</dl>\n",
       "<span class=\"date\">2018.11.18</span>\n",
       "</div>\n",
       "<div class=\"area_box\" data-current-page=\"1\">\n",
       "<dl class=\"Pho\">\n",
       "<dd class=\"photo\">\n",
       "<a href=\"/newsView/20181118001167\" style=\"cursor:pointer;\" target=\"_self\">\n",
       "</a><table border=\"0\" cellpadding=\"0\" cellspacing=\"0\"><tr><td align=\"center\" height=\"107\" style=\"vertical-align:middle;\" valign=\"middle\" width=\"178\"><img border=\"0\" src=\"http://img.segye.com/content/image/2018/11/18/20181118001158_t.jpg\"/></td></tr></table>\n",
       "</dd>\n",
       "</dl>\n",
       "<dl class=\"r_txt\">\n",
       "<dt class=\"title_cr\"><a href=\"/newsView/20181118001167\" target=\"_self\">BBQ 윤학종 대표 돌연 사임…지난해 이어 CEO '줄사임'</a></dt>\n",
       "<dd class=\"read_cr\"><a href=\"/newsView/20181118001167\" target=\"_self\">치킨 프랜차이즈 BBQ의 윤학종 대표가 돌연 사임한 사실이 확인됐다. 지난해 이성락 전 대표에 연이은 대표 사임으로, BBQ가 'CEO의 무덤'이 됐다는 업계 평가도 나온다.18일 업계에 따르면 윤 전 대표는 최근건강이 나빠져 일신상의 사유로 회사에 사표를 제출했고 지난달 31일 공식 퇴사 처리됐다.지난 2월 1일 취임 이후 불과 만 9개월 만의 퇴임이다.회사는 기존 윤경주윤학종 공동 대표 체제에서 윤경주 단독 대표 체제로 꾸려지게 됐다. 윤경주 대표는 창업자인 윤홍근 회장의 동생이다.윤 전 대표의 갑작스러운 사임은 최근 잇따른 경영 악재가 계기가 됐을 것이라는 관측이 나온다.BBQ는 지난 3월 인테리어비를 가맹점주에 떠넘기는 '갑질'이 적발돼 공정거래위원회로부터 과징금 3억 원을 부과받은 바 있다.최근에는 아이돌그룹이 대거 출연하는 '슈퍼콘서트'를 주최하면서 인기그룹 엑소가 출연하는 것처럼 이른바 '낚시성' 마케팅을 했다는 논란이 제기돼 팬들의 반발을 샀다.그러나 업계는 윤 회장이</a></dd>\n",
       "</dl>\n",
       "<span class=\"date\">2018.11.18</span>\n",
       "</div>\n",
       "<div class=\"area_box\" data-current-page=\"1\">\n",
       "<dl class=\"r_txt\">\n",
       "<dt class=\"title_cr\"><a href=\"/newsView/20181118000983\" target=\"_self\">화장품업체들 3분기에도 ‘실적 충격’</a></dt>\n",
       "<dd class=\"read_cr\"><a href=\"/newsView/20181118000983\" target=\"_self\">화장품업체들이 올해 3분기에도 실적 충격에 휩싸였다. 지난해 중국의 사드(THAAD고고도 미사일 방어체계사드) 배치 보복으로 성장세가 꺾이고, 내수 경쟁 심화, 온라인과 면세점 확대 등 환경 변화에 빠르게 대응하지 못해 영업이 악화했다.18일 화장품 업계에 따르면 국내 화장품 로드샵의 시초격인 미샤의 에이블씨엔씨는 올해 3분기 연결기준 영업손실이 132억원으로 작년 동기 대비 적자로 돌아섰다. 매출액은 731억원으로 12.1％ 감소했으며 당기순손실은 94억원으로 적자 전환했다. 회사 측은 국내 경쟁 심화로 매출이 감소 했고 5세대 신규 매장 오픈과 기존 매장 리모델링, 신제품 출시를 위한 연구 개발 투자 등으로 비용이 늘어 적자 전환했다고 설명했다.토니모리도 3분기에 적자를 냈다. 이 회사는 연결기준으로 올해 3분기에 8억원의 영업손실과 35억원의 당기순손실을 냈다. 올해 3분기까지 누적 영업손실과 순손실 규모가 각각 17억원, 20억원가량으로 연간 기준 적자가 예상된다.잇츠스킨을</a></dd>\n",
       "</dl>\n",
       "<span class=\"date\">2018.11.18</span>\n",
       "</div>\n",
       "<div class=\"area_box\" data-current-page=\"1\">\n",
       "<dl class=\"Pho\">\n",
       "<dd class=\"photo\">\n",
       "<a href=\"/newsView/20181118000961\" style=\"cursor:pointer;\" target=\"_self\">\n",
       "</a><table border=\"0\" cellpadding=\"0\" cellspacing=\"0\"><tr><td align=\"center\" height=\"107\" style=\"vertical-align:middle;\" valign=\"middle\" width=\"178\"><img border=\"0\" src=\"http://img.segye.com/content/image/2018/11/18/20181118000950_t.jpg\"/></td></tr></table>\n",
       "</dd>\n",
       "</dl>\n",
       "<dl class=\"r_txt\">\n",
       "<dt class=\"title_cr\"><a href=\"/newsView/20181118000961\" target=\"_self\">최저기온 영하로 뚝, 겨울추위 본격 시작…보일러관리 4가지 Tip [이슈탐색]</a></dt>\n",
       "<dd class=\"read_cr\"><a href=\"/newsView/20181118000961\" target=\"_self\">매년 수능을 즈음해 찾아오는 겨울 추위가 올해도 어김없이 시작됐다. 기상청은 16일 낮부터 북서쪽에서 찬공기가 유입되면서 주말에는 기온이 많이 내려갈 것이라며, 토요일인 17일 아침 최저기온이 영하 5도까지 떨어지는 등 본격적인 추위가 시작될 것이라고 알렸다.이에 추워진 날씨를 녹이기 위해 겨울철 난방을 책임지는 보일러 역시 사용이 늘어날 전망이다. 하지만 급작스럽게 격한 운동을 하면 몸살이 나듯, 보일러도 오래간만에 가동하면 문제가 생길 수도 있다. 때문에 사전에 꼼꼼하게 점검하고 사용하는 것이 문제를 줄일 수 있는 방법이다.겨울이 오기 전 보일러를 살펴봐야 하는 이유는 또 있다. 가전제품과 달리 그 자체로의 사용제품이 아니라 수도관, 가스관, 전기배선, 연도, 배수구가 어우러져 사용되기 때문에 다양한 요소에 의해 문제가 발생할 수 있기 때문.보일러를 고장 없이 안전하게 사용하려면 몇 가지 요소를 사전에 살펴보는 것이 필요하다. 경동나비엔의 조언을 받아 보일러 관리 4가지 팁에 대</a></dd>\n",
       "</dl>\n",
       "<span class=\"date\">2018.11.18</span>\n",
       "</div>\n",
       "<div class=\"area_box\" data-current-page=\"1\">\n",
       "<dl class=\"Pho\">\n",
       "<dd class=\"photo\">\n",
       "<a href=\"/newsView/20181117000235\" style=\"cursor:pointer;\" target=\"_self\">\n",
       "</a><table border=\"0\" cellpadding=\"0\" cellspacing=\"0\"><tr><td align=\"center\" height=\"107\" style=\"vertical-align:middle;\" valign=\"middle\" width=\"178\"><img border=\"0\" src=\"http://img.segye.com/content/image/2018/11/17/20181117000279_t.jpg\"/></td></tr></table>\n",
       "</dd>\n",
       "</dl>\n",
       "<dl class=\"r_txt\">\n",
       "<dt class=\"title_cr\"><a href=\"/newsView/20181117000235\" target=\"_self\">나 혼자 사는 1인가구, 내 몸은 내가 지킨다 [김현주의 일상 톡톡]</a></dt>\n",
       "<dd class=\"read_cr\"><a href=\"/newsView/20181117000235\" target=\"_self\">1인 가구 수가 560만명을 넘어서는 등 폭발적인 증가세를 보이고 있지만, 이들의 신체정신적 건강상태는 좋지 않은 것으로 나타났습니다. 대체적으로 주거 불안감, 영양 불균형 등에 시달리고 있었는데요. 우울증 등 정신건강까지 악화된 경우도 더러 있었습니다.무엇보다 현재 1인 가구의 가장 큰 문제점은 식생활이었습니다. 1인 가구는 다가구에 비해 외식이나 결식이 잦았는데, 특히 연령별 1인 가구 영양 상태를 조사한 결과 2030대와 60대 이상 연령층에서 영양섭취 부족자 비율이 높았습니다.보통 1인 가구라고 하면 영화나 드라마 속 자유롭고 화려한 '싱글 라이프'를 떠올리기 쉽지만, 사실 그 이면에는 혼자 사는 어려움도 만만치 않습니다.한국건강증진개발원은 1인 가구는 다인가구에 비해 혼밥하는 비율이 압도적으로 높고 혼자 식사하는 경우 라면 등으로 대충 끼니를 해결한다며 1인 가구의 만성질환율, 외래진료경험률, 입원율 등은 다인가구에 비하여 전반적으로 높은 수준이라고 지적하기도 했습니다.가정</a></dd>\n",
       "</dl>\n",
       "<span class=\"date\">2018.11.18</span>\n",
       "</div>\n",
       "<div class=\"area_box\" data-current-page=\"1\">\n",
       "<dl class=\"Pho\">\n",
       "<dd class=\"photo\">\n",
       "<a href=\"/newsView/20181116003079\" style=\"cursor:pointer;\" target=\"_self\">\n",
       "</a><table border=\"0\" cellpadding=\"0\" cellspacing=\"0\"><tr><td align=\"center\" height=\"107\" style=\"vertical-align:middle;\" valign=\"middle\" width=\"178\"><img border=\"0\" src=\"http://img.segye.com/content/image/2018/11/17/20181117000848_t.jpg\"/></td></tr></table>\n",
       "</dd>\n",
       "</dl>\n",
       "<dl class=\"r_txt\">\n",
       "<dt class=\"title_cr\"><a href=\"/newsView/20181116003079\" target=\"_self\">한국 산업용 로봇활용 세계 1위…“일자리와 보완 관계 가능”</a></dt>\n",
       "<dd class=\"read_cr\"><a href=\"/newsView/20181116003079\" target=\"_self\">한국이 산업용 로봇 활용 비중이 전세계에서 가장 높은 것으로 나타났다.IBK경제연구소의 IBK경제브리프 사례를 통해 본 로봇과 일자리의 보완관계를 보면 한국은 근로자 1만명 당 710대의 산업용 로봇을 도입한 것으로 밝혔다.이는 국제로봇연맹이 2017년 집계한 수치다. 한국의 산업용 로봇밀도는 세계 1위 수준이다. 2위를 차지한 싱가포르 658대와도 차이가 크다. 제조강국인 독일(322대), 일본(308대) 등보다도 2배 이상 많은 수다. 전세계 평균인 85대와 비교해서는 8.4배에 달한다.일각에서는 로봇의 도입으로 일자리가 사라질 위험이 커진다고 우려하고 있다. 그러나 최근 산업현장에서는 로봇이 인간의 노동력을 대체하는 것이 아니라 생산성 향상을 위해 인간과의 협력이 가능한 로봇의 개념이 확산하고 있다고 보고서는 전했다. 이런 로봇을 협동로봇이라 부르는데, 인간과 로봇이 같은 공간에서 함께 작업하는 로봇을 말한다.해외에서는 이를 활용한 고용창출 사례도 있었다. 아디다스의 경우 19</a></dd>\n",
       "</dl>\n",
       "<span class=\"date\">2018.11.17</span>\n",
       "</div>\n",
       "<div class=\"area_box\" data-current-page=\"1\">\n",
       "<dl class=\"Pho\">\n",
       "<dd class=\"photo\">\n",
       "<a href=\"/newsView/20181117000696\" style=\"cursor:pointer;\" target=\"_self\">\n",
       "</a><table border=\"0\" cellpadding=\"0\" cellspacing=\"0\"><tr><td align=\"center\" height=\"107\" style=\"vertical-align:middle;\" valign=\"middle\" width=\"178\"><img border=\"0\" src=\"http://img.segye.com/content/image/2018/11/17/20181117000804_0.jpg\"/></td></tr></table>\n",
       "</dd>\n",
       "</dl>\n",
       "<dl class=\"r_txt\">\n",
       "<dt class=\"title_cr\"><a href=\"/newsView/20181117000696\" target=\"_self\">반전없는 고용부진…친기업 행보 속도낼까</a></dt>\n",
       "<dd class=\"read_cr\"><a href=\"/newsView/20181117000696\" target=\"_self\">이번 주 발표된 고용지표도 별다른 반전 없이 부진의 늪에서 벗어나지 못했다.경기침체와 소득주도 성장 정책의 후폭풍이 맞물리면서 4050대를 중심으로 실업자 수가 급증하면서 10월 실업자 수가 외환위기 직후인 1999년 이후 최대였다. 서울시청년일자리센터에서 한 취업준비생이 희망의 메세지가 적힌 게시판 옆으로 지나가고 있다. 남정탁 기자통계청이 14일 발표한 10월 고용동향을 보면 10월 실업자는 지난해 같은 달보다 8.9%(7만9000명) 증가한 97만3000명으로 10월 기준으로 1999년 이후 최대를 기록했다. 실업자 수는 30대가 1년 전보다 7.2%(1만3000명), 40대는 27.5%(3만5000명), 50대는 23.1%(3만명) 각각 늘었다. 10월 실업률은 3.5%로 1년 전보다 0.3%포인트 상승해 10월 기준으로 2015년의 3.6% 이후 최고치를 찍었다. 10월 취업자 증가 폭은 6만4000명으로 지난 79월에 비해서는 나아졌지만, 60세 이상 취업자 수가 24만3</a></dd>\n",
       "</dl>\n",
       "<span class=\"date\">2018.11.17</span>\n",
       "</div>\n",
       "<div class=\"area_box\" data-current-page=\"1\">\n",
       "<dl class=\"Pho\">\n",
       "<dd class=\"photo\">\n",
       "<a href=\"/newsView/20181117000409\" style=\"cursor:pointer;\" target=\"_self\">\n",
       "</a><table border=\"0\" cellpadding=\"0\" cellspacing=\"0\"><tr><td align=\"center\" height=\"107\" style=\"vertical-align:middle;\" valign=\"middle\" width=\"178\"><img border=\"0\" src=\"http://img.segye.com/content/image/2018/11/17/20181117000969_0.jpg\"/></td></tr></table>\n",
       "</dd>\n",
       "</dl>\n",
       "<dl class=\"r_txt\">\n",
       "<dt class=\"title_cr\"><a href=\"/newsView/20181117000409\" target=\"_self\">저출산 속에도 '육아 전담' 남편수 12개월 연속 늘었다</a></dt>\n",
       "<dd class=\"read_cr\"><a href=\"/newsView/20181117000409\" target=\"_self\">월간 출생아 수가 3만명에 미치지 못하는 저출산 기조 속에서도 직장 없이 육아를 전담하는 남편은 30대를 중심으로 1년째 늘어나고 있는 것으로 나타났다.육아 휴직을 하는 남편들도 크게 증가하고 있다는 점을 감안하면, 육아를 여성이 전담해야 한다는 고정관념이 조금씩 깨지고 있는 세태를 반영한 것으로 풀이된다.17일 통계청의 고용동향을 보면 비경제활동인구(만 15세 이상 중 취업도 아니고 구직활동도 하지 않는 이) 중 '육아' 상태인 남성은 지난달 7천명으로 집계됐다.육아 상태인 남성은 초등학교 입학 전인 미취학 아동을 돌보기 위해 집에 있는 이들을 말한다.취업 중 육아휴직을 한 이들은 일할 의사가 있는 것으로 간주해 경제활동인구로 분류되기 때문에 이 수치에는 포함되지 않는다.육아 상태에 속하는 남성은 최근 12개월 연속 1년 전보다 늘어났다.작년 10월까지 3천4천명에 불과했던 육아 상태 남성은 작년 11월 6천명으로 1년 전보다 19.2% 늘어나며 플러스로 전환했다.이후 월별로 등락</a></dd>\n",
       "</dl>\n",
       "<span class=\"date\">2018.11.17</span>\n",
       "</div>\n",
       "<div class=\"area_box\" data-current-page=\"1\">\n",
       "<dl class=\"Pho\">\n",
       "<dd class=\"photo\">\n",
       "<a href=\"/newsView/20181116001057\" style=\"cursor:pointer;\" target=\"_self\">\n",
       "</a><table border=\"0\" cellpadding=\"0\" cellspacing=\"0\"><tr><td align=\"center\" height=\"107\" style=\"vertical-align:middle;\" valign=\"middle\" width=\"178\"><img border=\"0\" src=\"http://img.segye.com/content/image/2018/11/16/20181116001495_t.jpg\"/></td></tr></table>\n",
       "</dd>\n",
       "</dl>\n",
       "<dl class=\"r_txt\">\n",
       "<dt class=\"title_cr\"><a href=\"/newsView/20181116001057\" target=\"_self\">삼성바이오로직스 '고의 분식회계' 후폭풍 어디까지 휘몰아칠까? [김현주의 일상 톡톡]</a></dt>\n",
       "<dd class=\"read_cr\"><a href=\"/newsView/20181116001057\" target=\"_self\">금융위원회 산하 증권선물위원회가 지난 14일 삼성바이오로직스의 고의 분식회계를 인정한 가운데 벌써부터 상당한 후폭풍이 거세게 불고 있습니다.삼성바이오로직스 주식은 거래 정지됐고, 한국거래소는 이 회사 상장폐지 실질심사에 들어갑니다. 증선위는 삼성바이오로직스 김태한 대표이사 해임을 권고하고 검찰에 고발키로 했습니다.유가증권시장에서 삼성바이오로직스 주식 거래가 중지돼 투자자들의 피해도 예상됩니다. 삼성바이오로직스 소액주주는 지난해 말 기준으로 8만명이 넘고, 이들이 보유한 주식도 1400여만주에 달합니다.지난해 3월 금융감독원 특별감리가 시작된 지 1년8개월 만에 삼성바이오로직스 분식회계 논란은 일단락된 듯 보이지만, 투자자 집단소송 등 후폭풍이 상당할 것으로 보입니다.분식회계 논란이 커지고 이슈가 불거질 때마다 삼성바이오로직스 주가는 천당과 지옥을 오갔습니다. 그러는 사이 소액투자자들은 폭락사태를 지켜봐야만 했습니다. 증선위 발표로 주식거래정지 조치까지 내려져 자금이 묶여 오도가도 못</a></dd>\n",
       "</dl>\n",
       "<span class=\"date\">2018.11.17</span>\n",
       "</div>\n",
       "<div class=\"area_box\" data-current-page=\"1\">\n",
       "<dl class=\"r_txt\">\n",
       "<dt class=\"title_cr\"><a href=\"/newsView/20181116001066\" target=\"_self\">금강제화 16일부터 25일까지 윈터 정기세일 진행</a></dt>\n",
       "<dd class=\"read_cr\"><a href=\"/newsView/20181116001066\" target=\"_self\">금강제화가 16일부터 25일까지 윈터 정기세일을 실시한다.전국 금강제화, 브루노말리 매장에서 진행되는 이번 행사는 금강제화가 운영하는 리갈, 에스쁘렌도, 르느와르, 바이오 소프 등 다양한 브랜드의 남녀 구두를 비롯해 랜드로바, 클락스, 브루노말리 등 핸드백과 캐주얼화 등을 최대 40% 할인된 가격에 만나볼 수 있다. 이번 세일기간에는 최고급 수제화 헤리티지(HERITAGE)도 세일 품목에 포함했다. 이번 윈터 세일에는 지난해부터 2030 젊은 남성들에게 선풍적인 인기를 끌었던 리갈 201d를 비롯해, 겨울철 보온과 스타일을 동시에 만족하기 원하는 여성들을 위한 다양한 종류의 부츠, 각양각색의 핸드백과 지갑 등을 실속 있는 가격에 구매할 수 있다. 금강제화 대표 남성화 리갈(Regal)은 이번 세일을 앞두고 지난해 수 차례 완판을 기록한 리갈201d의 새로운 컬러 라인과 리뉴얼된 제품들을 선보인다. 이번 세일기간 중 금강제화 직영 매장을 방문하는 고객 대상으로는 구매 금액에 따라 머플</a></dd>\n",
       "</dl>\n",
       "<span class=\"date\">2018.11.17</span>\n",
       "</div>\n",
       "<div class=\"area_box\" data-current-page=\"1\">\n",
       "<dl class=\"Pho\">\n",
       "<dd class=\"photo\">\n",
       "<a href=\"/newsView/20181116001098\" style=\"cursor:pointer;\" target=\"_self\">\n",
       "</a><table border=\"0\" cellpadding=\"0\" cellspacing=\"0\"><tr><td align=\"center\" height=\"107\" style=\"vertical-align:middle;\" valign=\"middle\" width=\"178\"><img border=\"0\" src=\"http://img.segye.com/content/image/2018/11/16/20181116000879_t.jpg\"/></td></tr></table>\n",
       "</dd>\n",
       "</dl>\n",
       "<dl class=\"r_txt\">\n",
       "<dt class=\"title_cr\"><a href=\"/newsView/20181116001098\" target=\"_self\">빙그레,‘꽃게랑 청양고추’출시</a></dt>\n",
       "<dd class=\"read_cr\"><a href=\"/newsView/20181116001098\" target=\"_self\">빙그레 대표 스낵 브랜드 꽃게랑이 세 번째 매운맛 시리즈로 꽃게랑 청양고추를 출시했다고 16일 밝혔다. 1986년 출시한 꽃게랑은 독특한 꽃게 모양의 디자인과 소금으로 구워 담백한 맛으로 소비자들의 큰 사랑을 받아왔다. 빙그레 꽃게랑은 2015년 55억원의 연매출을 기록한 이후 꽃게랑 불짬뽕, 꽃게랑 고추냉이 등 지속적인 신제품 출시를 통해 2016년 70억원, 지난 해에는 90억원의 매출을 기록했다.빙그레는 이러한 성장세를 이어나가기 위해 매운맛 시리즈로 신제품을 계획했다. 중화풍의 불짬뽕과 일본풍의 고추냉이를 이어 한국의 매운맛으로 선보이는 꽃게랑 청양고추는 청양고추 특유의 알싸하고 칼칼한 매운맛을 살린 것이 특징이다. 김기환 유통전문기자 kkh@segye.com</a></dd>\n",
       "</dl>\n",
       "<span class=\"date\">2018.11.17</span>\n",
       "</div>\n",
       "<div class=\"area_box\" data-current-page=\"1\">\n",
       "<dl class=\"Pho\">\n",
       "<dd class=\"photo\">\n",
       "<a href=\"/newsView/20181116001140\" style=\"cursor:pointer;\" target=\"_self\">\n",
       "</a><table border=\"0\" cellpadding=\"0\" cellspacing=\"0\"><tr><td align=\"center\" height=\"107\" style=\"vertical-align:middle;\" valign=\"middle\" width=\"178\"><img border=\"0\" src=\"http://img.segye.com/content/image/2018/11/16/20181116000918_t.jpg\"/></td></tr></table>\n",
       "</dd>\n",
       "</dl>\n",
       "<dl class=\"r_txt\">\n",
       "<dt class=\"title_cr\"><a href=\"/newsView/20181116001140\" target=\"_self\">롯데칠성음료,‘칸타타’‘레쓰비’겨울 스페셜 패키지 출시</a></dt>\n",
       "<dd class=\"read_cr\"><a href=\"/newsView/20181116001140\" target=\"_self\">롯데칠성음료가 연말 분위기를 담은 칸타타와 레쓰비의 겨울 스페셜 패키지를 출시했다고 16일 밝혔다. 이 제품은 2016년부터 매년 겨울 시즌에 선보이는 3번째 스페셜 패키지로, 소비자에게 특별한 경험과 소소한 즐거움을 제공하고 대표 캔커피 브랜드인 칸타타와 레쓰비에 신선한 느낌을 불어 넣기 위해 기획됐다.겨울 패키지는 올해도 찾아온 특별하고 따스한 겨울 선물! 포근한 연말 감성을 입은 칸타타와 레쓰비를 소중한 사람에게 전하세요!라는 콘셉트와 함께 칸타타 5종(275㎖ 3종, 390㎖ 2종)과 레쓰비 5종(175㎖ 2종, 200㎖ 2종, 240㎖ 1종)으로 출시됐다.레쓰비 겨울 패키지는 추운 겨울날 따뜻한 레쓰비를 주고 받으며 싹 트던 설렘을 표현하기 위해 연인을 포근하게 안아 온기를 나누고, 함께 담요를 덮고 눈 내린 겨울 풍경을 바라보는 감성적인 이미지를 담았다. 김기환 유통전문기자 kkh@segye.com</a></dd>\n",
       "</dl>\n",
       "<span class=\"date\">2018.11.17</span>\n",
       "</div>\n",
       "<div class=\"area_box\" data-current-page=\"1\">\n",
       "<dl class=\"Pho\">\n",
       "<dd class=\"photo\">\n",
       "<a href=\"/newsView/20181116001208\" style=\"cursor:pointer;\" target=\"_self\">\n",
       "</a><table border=\"0\" cellpadding=\"0\" cellspacing=\"0\"><tr><td align=\"center\" height=\"107\" style=\"vertical-align:middle;\" valign=\"middle\" width=\"178\"><img border=\"0\" src=\"http://img.segye.com/content/image/2018/11/16/20181116000983_t.jpg\"/></td></tr></table>\n",
       "</dd>\n",
       "</dl>\n",
       "<dl class=\"r_txt\">\n",
       "<dt class=\"title_cr\"><a href=\"/newsView/20181116001208\" target=\"_self\">CJ푸드빌 \"빕스(VIPS)에서 행복한 연말 보내세요\"</a></dt>\n",
       "<dd class=\"read_cr\"><a href=\"/newsView/20181116001208\" target=\"_self\">CJ푸드빌이 운영하는 빕스(VIPS)가 연말 시즌을 맞아 샐러드바부터 스테이크, 디저트까지 가치를 높인 다채로운 신메뉴를 출시한다고 16일 밝혔다.빕스는 그랑 파티 에디션(GRAND PARTY EDITION)이라는 콘셉으로, 에피타이저부터 디저트까지 연말 파티와 모임에 최적화한 신메뉴를 풀코스로 선보인다. 새우 신메뉴 3종과 연어 베스트 메뉴 4종으로 샐러드 바를 더욱 풍성하게 채웠다. 슈림프 부야베스는 새우가리비 등을 가득넣어 끓인 지중해식 해산물 스튜다. 지난 시즌에 출시해 좋은 반응을 얻었던 연어 통구이(평일 저녁/주말 제공), 레드핫 연어장과 '훈제연어도 꾸준히 선보인다.연말의 특별함과 설레임을 더해 줄 겨울 시즌 한정 스테이크 2종도선보인다. 새롭게 출시한 그랑 파티 스테이크는 육즙 가득한 채끝 등심 스테이크와 고소한 로브스터 구이, 키조개 껍질에 올린 씨푸드 그라탕을 한꺼번에 즐길 수 있는 메뉴다. 메리 베리 스테이크는 두툼한 454g 의 립아이 스테이크에 달콤하게 졸인</a></dd>\n",
       "</dl>\n",
       "<span class=\"date\">2018.11.17</span>\n",
       "</div>\n",
       "<div class=\"area_box\" data-current-page=\"1\">\n",
       "<dl class=\"Pho\">\n",
       "<dd class=\"photo\">\n",
       "<a href=\"/newsView/20181116001273\" style=\"cursor:pointer;\" target=\"_self\">\n",
       "</a><table border=\"0\" cellpadding=\"0\" cellspacing=\"0\"><tr><td align=\"center\" height=\"107\" style=\"vertical-align:middle;\" valign=\"middle\" width=\"178\"><img border=\"0\" src=\"http://img.segye.com/content/image/2018/11/16/20181116001044_t.jpg\"/></td></tr></table>\n",
       "</dd>\n",
       "</dl>\n",
       "<dl class=\"r_txt\">\n",
       "<dt class=\"title_cr\"><a href=\"/newsView/20181116001273\" target=\"_self\">매일유업 상하목장‘마이리틀 유기농 짜먹는 요거트’2종 출시</a></dt>\n",
       "<dd class=\"read_cr\"><a href=\"/newsView/20181116001273\" target=\"_self\">매일유업 상하목장이 신제품 마이리틀 유기농 짜먹는 요거트 2종을 출시했다고 16일 밝혔다. 마이리틀은 사과바나나, 딸기블루베리 2종이다. 상하목장 유기농 우유를 바탕으로 사과 및 딸기와 블루베리 등 유기농 원료가 99% 이상 포함됐다. 특히 성장기 아이들을 위해 최적의 칼슘과 비타민D의 함량을 설계했다. 국내 3~5세 아이의 1일 칼슘 부족분을 기준으로 칼슘 함량을 130㎎ 포함시켰으며, 칼슘 흡수와 기능 유지에 도움이 되는 비타민D는 한국인 영양소 섭취 기준으로 부족분 7㎍ 반영했다.또 장 건강을 위해 세계에서 가장 많이 연구된 L-GG 및 BB-12 유산균을 4억마리 이상 포함시켰다. 당 함량은 시중에 출시된 일반 요거트 제품들의 평균 함량 대비 낮춰 아이들의 건강을 더욱 생각했다. 손과 손가락 등 소근육 발달이 필요한 영유아을 위해 유기농 요거트 중 국내에서 유일하게 안전캡이 달린 파우치 형태로 디자인해 아이 스스로 잡고 짜먹기 편리하다.김기환 유통전문기자 kkh@segye.c</a></dd>\n",
       "</dl>\n",
       "<span class=\"date\">2018.11.17</span>\n",
       "</div>\n",
       "<div class=\"area_box\" data-current-page=\"1\">\n",
       "<dl class=\"Pho\">\n",
       "<dd class=\"photo\">\n",
       "<a href=\"/newsView/20181116001673\" style=\"cursor:pointer;\" target=\"_self\">\n",
       "</a><table border=\"0\" cellpadding=\"0\" cellspacing=\"0\"><tr><td align=\"center\" height=\"107\" style=\"vertical-align:middle;\" valign=\"middle\" width=\"178\"><img border=\"0\" src=\"http://img.segye.com/content/image/2018/11/16/20181116001389_t.jpg\"/></td></tr></table>\n",
       "</dd>\n",
       "</dl>\n",
       "<dl class=\"r_txt\">\n",
       "<dt class=\"title_cr\"><a href=\"/newsView/20181116001673\" target=\"_self\">농협재단, 농촌정주(定住) 장학생『새내기 농업인』간담회 실시</a></dt>\n",
       "<dd class=\"read_cr\"><a href=\"/newsView/20181116001673\" target=\"_self\">농촌의 희망, 청년농업인으로 살아가기농협재단(이사장 김병원)은 지난 15일 농협미래농업지원센터에서 농협재단의 『미래 농촌정주(定住)장학생 졸업자 간담회』를 실시하고 단체기념촬영을 하고 있다. 농협 제공농협재단(이사장 김병원)은 15일부터 1박2일간 농협미래농업지원센터에서 농협재단의『미래 농촌정주(定住)장학생 졸업자 간담회』를 실시했다. 젊은이들이 농촌에서 승계, 창농으로 일자리를 찾아 농촌에 정주할 수 있도록 2017년부터 새로 도입된미래 농촌정주(定住) 장학생1회 졸업자가 올해 초 처음 나왔으며, 졸업자 중 20여명이 승계농으로 농촌에 정주하여 영농중이다.이번 간담회에는 승계농 뿐만 아니라 한국농수산대 재학생 및 연암대학교, 경상대학교 재학생들이 참석하여 미래 안정적인 영농 정착을 위한 창농 및 승계농 아이디어 교육을 실시한다.또한 선배농업인을(청년농업인 강보람, 김지용) 초청해 영농정착과정의 시행착오 및 극복 노하우에 대해 들어보고 실제 영농에 필요한 준비 및 고민을 상담할 수</a></dd>\n",
       "</dl>\n",
       "<span class=\"date\">2018.11.17</span>\n",
       "</div>\n",
       "<div class=\"area_box\" data-current-page=\"1\">\n",
       "<dl class=\"Pho\">\n",
       "<dd class=\"photo\">\n",
       "<a href=\"/newsView/20181116001688\" style=\"cursor:pointer;\" target=\"_self\">\n",
       "</a><table border=\"0\" cellpadding=\"0\" cellspacing=\"0\"><tr><td align=\"center\" height=\"107\" style=\"vertical-align:middle;\" valign=\"middle\" width=\"178\"><img border=\"0\" src=\"http://img.segye.com/content/image/2018/11/16/20181116002839_t.jpg\"/></td></tr></table>\n",
       "</dd>\n",
       "</dl>\n",
       "<dl class=\"r_txt\">\n",
       "<dt class=\"title_cr\"><a href=\"/newsView/20181116001688\" target=\"_self\">'코오롱몰', 최대 75%까지 할인 판매하는 '블랙프라이데이'진행</a></dt>\n",
       "<dd class=\"read_cr\"><a href=\"/newsView/20181116001688\" target=\"_self\">코오롱인더스트리FnC부문(이하 코오롱FnC)의 공식 온라인몰 '코오롱몰'은 오는 26일까지 다운 재킷, 코트 등을 최대 75%까지 할인 판매하는 '블랙프라이데이(Black Friday)' 이벤트를 실시한다고 16일 밝혔다. 이번 행사는 코오롱FnC 공식 온라인몰에서만 진행되는 단독 이벤트로 1000여개의 의류 및 잡화 아이템을 최대 75% 할인된 가격에 만나볼 수 있다. 대표적인 참여 브랜드는 아웃도어 라이프스타일 브랜드 '코오롱스포츠', 여성 캐릭터 캐주얼 브랜드 '럭키슈에뜨', 남성 어반 캐주얼 브랜드 '시리즈', 디자이너 핸드백 브랜드 '쿠론', 스포츠 브랜드 '헤드' 등이다. 한편 코오롱몰은 대국민 라이브 모바일 퀴즈쇼 '잼라이브'와 함께 지난달 18일부터 진행한 '코오롱몰 아우터 페스티벌' 개최 기념 특별 협업 방송을 예정하고 있다. '코오롱몰X잼라이브'는 오는 18일 저녁 9시부터 약 30분에 걸쳐 진행되며, 코오롱몰 아우터 페스티벌과 코오롱FnC의 브랜드에 관련된 퀴즈로</a></dd>\n",
       "</dl>\n",
       "<span class=\"date\">2018.11.17</span>\n",
       "</div>\n",
       "<div class=\"area_box\" data-current-page=\"1\">\n",
       "<dl class=\"Pho\">\n",
       "<dd class=\"photo\">\n",
       "<a href=\"/newsView/20181116002287\" style=\"cursor:pointer;\" target=\"_self\">\n",
       "</a><table border=\"0\" cellpadding=\"0\" cellspacing=\"0\"><tr><td align=\"center\" height=\"107\" style=\"vertical-align:middle;\" valign=\"middle\" width=\"178\"><img border=\"0\" src=\"http://img.segye.com/content/image/2018/11/16/20181116001973_t.jpg\"/></td></tr></table>\n",
       "</dd>\n",
       "</dl>\n",
       "<dl class=\"r_txt\">\n",
       "<dt class=\"title_cr\"><a href=\"/newsView/20181116002287\" target=\"_self\">LX, 감사원 감사평가‘최우수 등급’달성</a></dt>\n",
       "<dd class=\"read_cr\"><a href=\"/newsView/20181116002287\" target=\"_self\">한국국토정보공사(LX, 사장 최창학)가 감사원에서 실시하는 자체감사활동 심사평가에서 최고등급인 A등급을 획득하며 작년까지 B등급에 머물던 평가등급 최고 수준으로 끌어올렸다고 16일 밝혔다.감사원은 매년 중앙행정기관, 지방자치단체 등 213개 기관을 대상으로 감사조직 및 인력운영, 감사활동, 감사성과, 사후관리 4개 분야에 대해 자체감사활동을 심사해 A~D 4개 등급으로 결과를 발표한다.이번 평가 결과는 예방컨설팅 감사를 강화하고, 자체감사기구 활동의 내실을 도모하는 등 다방면에서 추진된 LX의 노력을 정부 차원에서 인정받은 결과이다.류근태 상임감사는 앞으로도 투명하고 공정한 감사체계를 유지하며 부조리 등의 사전예방에 중점을 두는 스마트감사 추진으로 임직원과 국민에게 신뢰받는 공공기관으로 거듭나겠다고 말했다.나기천 기자 na@seyge.com</a></dd>\n",
       "</dl>\n",
       "<span class=\"date\">2018.11.17</span>\n",
       "</div>\n",
       "<div class=\"area_box\" data-current-page=\"1\">\n",
       "<dl class=\"r_txt\">\n",
       "<dt class=\"title_cr\"><a href=\"/newsView/20181116002315\" target=\"_self\">한국체인스토어협회, 2019년 유통 키워드는'5 Free(프리)'</a></dt>\n",
       "<dd class=\"read_cr\"><a href=\"/newsView/20181116002315\" target=\"_self\">한국체인스토어협회는 16일 개최한 2019 유통 대전망 세미나에서 5 Free(프리)를 2019년 전망 키워드로 제시했다. 이마트 유통산업연구소 이경희 팀장은 이날 세미나에서 내년도 유통산업 업태별 전망을 발표하며 2019년 유통 키워드로 5 Free(프리)를 선정했다고 밝혔다.5 Free는 미니멀리즘 시대에 다섯 가지 낭비를 없앤다는 5無(무) 전략을 나타낸 것이다. Effort(수고), Border(경계), Staff(인력), Cash(비용), Additive(첨가물)에서 불필요한 요소를 제거해 유통업의 본질인 편의효율건강 등에 집중하는 현상을 반영했다.이 다섯 가지 5무 키워드를 정리하면 Effort-free(무노력), Border-free(무경계), Staff-free(무인화), Cash-free(무현금), Additive-free(무첨가)로 풀어낼 수 있다.올해로 4회째를 맞은 유통 대전망 세미나는 한국체인스토어협회와 유통 전문지 리테일매거진 주관으로 2015년 이후 매년</a></dd>\n",
       "</dl>\n",
       "<span class=\"date\">2018.11.17</span>\n",
       "</div>\n",
       "</div>\n",
       "<!-- paging start -->\n",
       "<div class=\"paging paginationElement\" data-cur-page=\"1\" data-endpaging=\"10\" data-list-articlenum=\"5\" data-pagingnum=\"10\" data-startpaging=\"1\" data-tot-articlenum=\"100\" data-totalpage=\"3644\">\n",
       "<a class=\"pre\" id=\"page_prev\" title=\"이전\"></a>\n",
       "<a class=\"selected\" id=\"selectPage\">{{PAGE}}</a>\n",
       "<a href=\"{{HREF}}\" id=\"noneSelectPage\">{{PAGE}}</a>\n",
       "<a class=\"next\" id=\"page_next\" title=\"다음\"></a>\n",
       "</div>\n",
       "<script> makePagination();</script>\n",
       "<!-- paging end -->\n",
       "</div>\n",
       "<!-- newsList end -->\n",
       "<!-- content Left end -->\n",
       "<!------------------------->\n",
       "<!-- content Right start -->\n",
       "<div class=\"news_aside\">\n",
       "<!-- ad :: 300x250 배너 start -->\n",
       "<div class=\"ad_right_300bn\">\n",
       "<iframe frameborder=\"0\" height=\"250\" marginheight=\"0\" marginwidth=\"0\" noresize=\"\" scrolling=\"no\" src=\"//white.contentsfeed.com/RealMedia/ads/adstream_sx.ads/segye.com/List3@Right\" width=\"300\"></iframe>\n",
       "</div>\n",
       "<!-- ad :: 300x250 배너 end -->\n",
       "<!-- 세계미래포럼 300x82 start\n",
       "<div style=\"width:300px;margin:0 0 35px 0;\">\n",
       "\t <div style=\"margin:0;\"><a href=\"https://www.worlddrone.co.kr/\" target=\"_blank\"  border=\"0\"><img src=https://img.segye.com/resources/images/ad/20181008_droneexpo_300x82.png  border=\"0\"></a></div>\n",
       "</div>\n",
       " 세계미래포럼 300x82 end-->\n",
       "<!-- 지방선거 특집페이지 오픈 후 삭제 start \n",
       "   <div style=\"margin-bottom:35px;\" id=\"613electionDiv\">\n",
       "\t<ul>\n",
       "\t\t<li><a href=\"http://segye.com/newsList/6000085\"  target=\"_blank\" ><img src=\"http://img.segye.com/resources/images/bn/613election_bn.png\" border=\"0\" width=\"300px\" height=\"82px\" /></a></li>\n",
       "\t</ul>\n",
       "\t</div>\n",
       "\n",
       "\t지방선거 특집페이지 오픈 후 삭제 end -->\n",
       "<!-- 지방선거 특집페이지 오픈 후 등록 start\n",
       "\t<div style=\"margin-bottom:35px;\" id=\"613electionDiv\">\n",
       "\t<ul>\n",
       "\t\t<li><a href=\"/election613\" target=\"_blank\" ><img src=\"http://img.segye.com/resources/images/bn/613election_bn03.png\" border=\"0\" width=\"300px\" height=\"82px\" /></li>\n",
       "\t</ul>\n",
       "\t</div>\n",
       "\t지방선거 특집페이지 오픈 end -->\n",
       "<!-- 2018 러시아 월드컵 start\n",
       "\t<div style=\"margin-bottom:35px;\">\n",
       "\t<ul>\n",
       "\t\t<li><a href=\"/worldcup2018\"  target=\"_blank\" ><img src=\"http://img.segye.com/resources/images/eventpage/worldcup2018_viewbn.jpg\" border=\"0\" width=\"300px\" height=\"82px\" /></a></li>\n",
       "\t</ul>\n",
       "\t</div>  \n",
       "   2018 러시아 월드컵 end -->\n",
       "<!-- R :: 추천뉴스 start -->\n",
       "<tornado:component componentid=\"0_2011022315484676\">\n",
       "<div class=\"news_recommand\" data-component=\"0_2011022315484676\">\n",
       "<div class=\"news_T\">인기 뉴스</div>\n",
       "<div class=\"news_Top\"><a href=\"/newsView/20181111001889\">\"만취한 나를 강간했다\"…무고에 파탄난 삶</a></div>\n",
       "<ul class=\"news_C\">\n",
       "<li>\n",
       "<span class=\"text_r\"><a href=\"/newsView/20181114005320\">\"여자라서 맞았다\"…성 대결로 번진 '이수역 폭행'</a></span>\n",
       "<span class=\"img_r\"><a href=\"/newsView/20181114005320\"><img border=\"0\" height=\"45\" src=\"http://img.segye.com/content/image/2018/11/14/20181114004455_0.jpg\" width=\"75\"/></a></span>\n",
       "</li>\n",
       "<li>\n",
       "<span class=\"text_r\"><a href=\"/newsView/20181029001184\">\"XX 그룹이라는 말까지…\" 걸그룹 전 멤버의 눈물</a></span>\n",
       "<span class=\"img_r\"><a href=\"/newsView/20181029001184\"><img border=\"0\" height=\"45\" src=\"http://img.segye.com/content/image/2018/10/29/20181029003181_0.jpg\" width=\"75\"/></a></span>\n",
       "</li>\n",
       "<li>\n",
       "<span class=\"text_r\"><a href=\"/newsView/20181114004032\">\"병역은 거부, 36개월도 NO\"… 고심 깊은 국방부</a></span>\n",
       "<span class=\"img_r\"><a href=\"/newsView/20181114004032\"><img border=\"0\" height=\"45\" src=\"http://img.segye.com/content/image/2018/11/14/20181114004042_0.jpg\" width=\"75\"/></a></span>\n",
       "</li>\n",
       "<li>\n",
       "<span class=\"text_r\"><a href=\"/newsView/20181005003396\">다리 굵으면 오래 산다? 허벅지 둘레를 키워야 하는 이유</a></span>\n",
       "<span class=\"img_r\"><a href=\"/newsView/20181005003396\"><img border=\"0\" height=\"45\" src=\"http://img.segye.com/content/image/2018/10/05/20181005002961_0.jpg\" width=\"75\"/></a></span>\n",
       "</li>\n",
       "</ul>\n",
       "</div>\n",
       "</tornado:component>\n",
       "<!-- R :: 추천뉴스 end -->\n",
       "<!-- R :: 포토 start -->\n",
       "<tornado:component componentid=\"0_2007102518411844\">\n",
       "<div class=\"pictorial\">\n",
       "<div class=\"news_T\">포토<span><a href=\"/photo\"><img border=\"0\" src=\"//img.segye.com/resources/images/bt_more.png\"/></a></span></div>\n",
       "<div class=\"view\" data-component=\"0_2007102518411844\" id=\"view\">\n",
       "<div id=\"window\"><a href=\"/newsView/20181114004936\"><img height=\"211\" src=\"http://img.segye.com/content/image/2018/11/14/20181114004321_0.jpg\" style=\"border:0; margin:0; padding:0;\" width=\"239\"/></a></div>\n",
       "<div class=\"txtBox\" id=\"txtBox\"><span class=\"txt\"><a href=\"/newsView/20181114004936\">트와이스 쯔위 '너무 사랑스러워'</a></span><span class=\"bg\"></span></div>\n",
       "</div>\n",
       "<ul class=\"th_list\" id=\"list_thumb\">\n",
       "<li class=\"first on\" id=\"thumb_class_0\" rel=\"0\">\n",
       "<a href=\"/newsView/20181114004936\">\n",
       "<img alt=\"트와이스 쯔위 '너무 사랑스러워'\" height=\"52\" src=\"http://img.segye.com/content/image/2018/11/14/20181114004321_0.jpg\" style=\"border:0; margin:0; padding:0;\" width=\"59\"/><span></span>\n",
       "</a>\n",
       "</li>\n",
       "<li class=\"first on\" id=\"thumb_class_0\" rel=\"1\">\n",
       "<a href=\"/newsView/20181114004900\">\n",
       "<img alt=\"트와이스 사나 '돋보이는 섹시'\" height=\"52\" src=\"http://img.segye.com/content/image/2018/11/14/20181114004322_0.jpg\" style=\"border:0; margin:0; padding:0;\" width=\"59\"/><span></span>\n",
       "</a>\n",
       "</li>\n",
       "<li class=\"first on\" id=\"thumb_class_0\" rel=\"2\">\n",
       "<a href=\"/newsView/20181114002475\">\n",
       "<img alt=\"전소민 '너무 사랑스러워'\" height=\"52\" src=\"http://img.segye.com/content/image/2018/11/14/20181114002326_0.jpg\" style=\"border:0; margin:0; padding:0;\" width=\"59\"/><span></span>\n",
       "</a>\n",
       "</li>\n",
       "<li class=\"first on\" id=\"thumb_class_0\" rel=\"3\">\n",
       "<a href=\"/newsView/20181114000544\">\n",
       "<img alt=\"아이즈원 '국민 요정들'\" height=\"52\" src=\"http://img.segye.com/content/image/2018/11/14/20181114001018_0.jpg\" style=\"border:0; margin:0; padding:0;\" width=\"59\"/><span></span>\n",
       "</a>\n",
       "</li>\n",
       "</ul><ul class=\"th_list2\" id=\"list_thumb\">\n",
       "<li class=\"first on\" id=\"thumb_class_0\" rel=\"4\">\n",
       "<a href=\"/newsView/20181113004690\">\n",
       "<img alt=\"구구단 미나 '아찔한 터치'\" height=\"52\" src=\"http://img.segye.com/content/image/2018/11/13/20181113004300_0.jpg\" style=\"border:0; margin:0; padding:0;\" width=\"59\"/><span></span>\n",
       "</a>\n",
       "</li>\n",
       "<li class=\"first on\" id=\"thumb_class_0\" rel=\"5\">\n",
       "<a href=\"/newsView/20181113001441\">\n",
       "<img alt=\"전지현 '오늘도 예쁨'\" height=\"52\" src=\"http://img.segye.com/content/image/2018/11/13/20181113001371_0.jpg\" style=\"border:0; margin:0; padding:0;\" width=\"59\"/><span></span>\n",
       "</a>\n",
       "</li>\n",
       "<li class=\"first on\" id=\"thumb_class_0\" rel=\"6\">\n",
       "<a href=\"/newsView/20181112002313\">\n",
       "<img alt=\"정유미 '여신의 손인사'\" height=\"52\" src=\"http://img.segye.com/content/image/2018/11/12/20181112002257_0.jpg\" style=\"border:0; margin:0; padding:0;\" width=\"59\"/><span></span>\n",
       "</a>\n",
       "</li>\n",
       "<li class=\"first on\" id=\"thumb_class_0\" rel=\"7\">\n",
       "<a href=\"/newsView/20181108002714\">\n",
       "<img alt=\"구구단 세정 '센터 미모'\" height=\"52\" src=\"http://img.segye.com/content/image/2018/11/08/20181108002693_0.jpg\" style=\"border:0; margin:0; padding:0;\" width=\"59\"/><span></span>\n",
       "</a>\n",
       "</li>\n",
       "<li class=\"first on\" id=\"thumb_class_0\" rel=\"8\">\n",
       "<a href=\"/newsView/20181107002618\">\n",
       "<img alt=\"유리 '포즈 자신 있어요!'\" height=\"52\" src=\"http://img.segye.com/content/image/2018/11/07/20181107003044_0.jpg\" style=\"border:0; margin:0; padding:0;\" width=\"59\"/><span></span>\n",
       "</a>\n",
       "</li>\n",
       "</ul>\n",
       "</div>\n",
       "<script type=\"text/javascript\">\n",
       "\tvar currentIndex = -1;\n",
       "\tvar obj;\n",
       "\tfunction showImage(index){\n",
       "\t\tif(index < $('#list_thumb img').length){\n",
       "\t\t\t\n",
       "\t\t\tvar currentImage = $('#list_thumb img')[currentIndex];\n",
       "\t\t\tvar indexImage = $('#list_thumb img')[index];\n",
       "\t\t\tclearTimeout(myTimer);\n",
       "\t\t\t\n",
       "\t\t\t\tmyTimer = setTimeout(\"showNext()\", 3000);\n",
       "\t\t\t\t$(currentImage).parent().children('span').removeClass('line');\n",
       "\t\t\t\t$(indexImage).parent().children('span').addClass('line');\n",
       "\t\t\t\timg_url = $(indexImage).attr('src');\n",
       "\t\t\t\timg_title = $(indexImage).attr('alt');\n",
       "\t\t\t\timg_href = $(indexImage).parent('a').attr('href');\n",
       "\t\t\t\t$('#window img').attr('src',img_url);\n",
       "\t\t\t\t$('#window a').attr('href',img_href);\n",
       "\t\t\t\t$('#txtBox span a').text(img_title);\n",
       "\t\t\t\t$('#txtBox span a').attr('href',img_href);\n",
       "\t\t\t\tcurrentIndex = index;\n",
       "\n",
       "\t\t\t}\n",
       "\t\t}\n",
       "\n",
       "\tfunction showNext(){\n",
       "\t\tvar len = $('#list_thumb img').length;\n",
       "\t\tvar next = currentIndex < (len-1) ? currentIndex + 1 : 0;\n",
       "\t\tshowImage(next);\n",
       "\t}\n",
       "\tvar myTimer;\n",
       "\t$(document).ready(function(){\n",
       "\t\tmyTimer = setTimeout(\"showNext()\", 3000);\n",
       "\t\tshowNext();\n",
       "\t\t$('#list_thumb img').bind('mouseover',function(e){\n",
       "\t\t\te.preventDefault();\n",
       "\t\t\tvar count = $(this).parent().parent().attr('rel');\n",
       "\t\t\tshowImage(parseInt(count));\n",
       "\t\t});\n",
       "\t})\n",
       "</script>\n",
       "</tornado:component>\n",
       "<!-- R :: 포토 end -->\n",
       "<!-- R :: 많이 본 뉴스 start -->\n",
       "<div class=\"news_favor\">\n",
       "<div class=\"news_T\">많이 본 뉴스</div>\n",
       "<ul class=\"news_C\">\n",
       "<li class=\"facor_1\"><a href=\"//www.segye.com/newsView/20181117000571\">'혜경궁 김씨' 논란, 그 시작은 네티즌 수사대였다</a></li>\n",
       "<li class=\"facor_2\"><a href=\"//www.segye.com/newsView/20181117000793\">\"'혜경궁 김씨'는 이재명 부인\"… 논란 일파만파</a></li>\n",
       "<li class=\"facor_3\"><a href=\"//www.segye.com/newsView/20181117000915\">양구 군인 사망 軍 '대공혐의 없다'에 누리꾼\"사망원인 규명 안됐는데 북한 소행부터 원천봉쇄\"</a></li>\n",
       "<li class=\"facor_4\"><a href=\"//www.segye.com/newsView/20181118000603\">'전참시' 이승윤 매니저, 이영자도 극찬한 '훈남 외모'+'특급 성실성' 화제</a></li>\n",
       "<li class=\"facor_5\"><a href=\"//www.segye.com/newsView/20181117000981\">전해철 '혜경궁 김씨'경찰수사 결과에 \"고발 취하했는데 결과 나오니 당황스러운 마음 뿐\"</a></li>\n",
       "<li class=\"facor_6\"><a href=\"//www.segye.com/newsView/20181117001053\">흉기난동범에 카트 밀며 맞선 노숙인 법정행</a></li>\n",
       "<li class=\"facor_7\"><a href=\"//www.segye.com/newsView/20181117000211\">경찰 \"'혜경궁 김씨'는 이재명 부인\"…수사결과 확인</a></li>\n",
       "<li class=\"facor_8\"><a href=\"//www.segye.com/newsView/20181117000563\">77년형 받은 이멜다에게 보석 허용한 필리핀</a></li>\n",
       "<li class=\"facor_9\"><a href=\"//www.segye.com/newsView/20181117000904\">‘혜경궁 김씨’ 밝혀낸 누리꾼들…이재명도 “누리꾼 도와달라”</a></li>\n",
       "<li class=\"facor_10\"><a href=\"//www.segye.com/newsView/20181117000773\">“이해찬 대답해야” 혜경궁 김씨 논란에 커지는 목소리</a></li>\n",
       "</ul>\n",
       "</div>\n",
       "<!-- R :: 많이 본 뉴스 end -->\n",
       "<!-- R :: 카드뉴스 start -->\n",
       "<div class=\"cardnews\">\n",
       "<div class=\"photo1\">\n",
       "<a border=\"0\" href=\"/cardView/20181030003955\" id=\"photo_left_link\"><img border=\"0\" height=\"300px\" src=\"http://img.segye.com/content/image/2018/10/31/20181031000452_0.jpg\" width=\"300px\"/></a>\n",
       "<span class=\"face\"><img border=\"0\" src=\"http://img.segye.com/resources/images/cardnews_t.png\"/></span>\n",
       "</div>\n",
       "</div>\n",
       "<!-- R :: 카드뉴스 end -->\n",
       "<!-- R :: 홍보배너 start -->\n",
       "<!-- <div class=\"promotion_bn\">\n",
       "\t<ul>\n",
       "\t\t<li><a href=\"\"><img src=\"http://img.segye.com/resources/images/common/bn/mainRight_253x47_ucc.png\" border=\"0\" width=\"300px\" height=\"56px\" /></li>\n",
       "\t</ul>\n",
       "</div> -->\n",
       "<!-- R :: 홍보배너 end -->\n",
       "</div>\n",
       "<!-- content Right end -->\n",
       "</div>\n",
       "<!-- 콘텐츠 영역 end -->\n",
       "<!------------------------>\n",
       "<!------------------------>\n",
       "<!-- 푸터 영역 start -->\n",
       "<script type=\"text/javascript\">\n",
       "\tif(typeof _GUL == 'undefined'){\n",
       "\t\tvar _aid = \"\";\t\t\t// 기사 ID\n",
       "\t\tvar _seriesid = \"\";\n",
       "\t\t\n",
       "\t\tif(document.getElementById(\"SG_CreatorName\")){\n",
       "\t\t\tvar _aname = document.getElementById(\"SG_CreatorName\").innerHTML;\t\t// 기자명\n",
       "\t\t}\n",
       "\t\t\n",
       "\t\tif(document.getElementById(\"SG_MECHE\")){\n",
       "\t\t\tvar _atype = document.getElementById(\"SG_MECHE\").innerHTML.replace(\"<\",\"\").replace(\">\",\"\").replace(\"&lt;\",\"\").replace(\"&gt;\",\"\");\t\t// 기성성타입\n",
       "\t\t}\n",
       "\t\tvar _GCD = '';\n",
       "\t\tif(_GCD == ''){\n",
       "\t\t\tif('13'==7){\n",
       "\t\t\t\t_GCD = '0101080000000';\n",
       "\t\t\t}else{\n",
       "\t\t\t\t_GCD='010103'+'0000000';\n",
       "\t\t\t}\n",
       "\t\t}\n",
       "\t\tif(_GCD.substr(0,4)=='0198'){\n",
       "\t\t\t_GCD ='0115030000000';\n",
       "\t\t}else if(_GCD.substr(0,4)=='0121'){\n",
       "\t\t\t_GCD ='0101030000000';\n",
       "\t\t}else if(_GCD.substr(0,4)=='0101'){\n",
       "\t\t\t//_GCD ='0101010000000';\n",
       "\t\t}else if(_GCD.substr(0,4)=='0117'){\n",
       "\t\t\t_GCD ='0117000000000';\n",
       "\t\t}else if(_GCD.substr(0,4)=='0114'){\n",
       "\t\t\t_GCD ='0114000000000';\n",
       "\t\t}else if(_GCD.substr(0,4)=='0115'){\n",
       "\t\t\t_GCD ='0115000000000';\n",
       "\t\t}else if(_GCD.substr(0,4)=='0104'){\n",
       "\t\t\t_GCD ='0104000000000';\n",
       "\t\t}else if(_GCD.substr(0,4)=='0103'){\n",
       "\t\t\t_GCD ='0101080000000';\n",
       "\t\t}else if(_GCD.substr(0,4)=='0198'){\n",
       "\t\t\t_GCD ='0115030000000';\n",
       "\t\t}else if(_GCD.substr(0,4)=='0100'){\n",
       "\t\t\t_GCD ='0101080000000';\n",
       "\t\t}else if(_GCD.substr(0,4)=='0112'){\n",
       "\t\t\t_GCD ='0112000000000';\n",
       "\t\t}else if(_GCD.substr(0,4)=='0501'){\n",
       "\t\t\t_GCD ='0101030000000';\n",
       "\t\t}else if(_GCD.substr(0,2)==\"11\"){\n",
       "\t\t\t_GCD ='0101060000000';\n",
       "\t\t}else if(_GCD.substr(0,2)=='71'){\n",
       "\t\t\t_GCD ='0101030000000';\n",
       "\t\t}else if(_GCD.substr(0,2)=='93'){\n",
       "\t\t\t_GCD ='0101040000000';\n",
       "\t\t}else if(_GCD.substr(0,2)=='97'){\n",
       "\t\t\t_GCD ='0101030000000';\n",
       "\t\t}else if(_GCD.substr(0,2)=='91'){\n",
       "\t\t\t_GCD ='0101080000000';\n",
       "\t\t}else if(_GCD=='0200000000000'){\n",
       "\t\t\t_GCD ='0101080000000';\n",
       "\t\t}else if(_GCD=='0202000000000'){\n",
       "\t\t\t_GCD ='0101080000000';\n",
       "\t\t}else if(_GCD=='0201000000000'){\n",
       "\t\t\t_GCD ='0101060000000';\n",
       "\t\t}else if(_seriesid == '6450038' ){\n",
       "\t\t\t_GCD ='0119000000000';\n",
       "\t\t}else if(_GCD == '' ){\n",
       "\t\t\t_GCD ='0199000000000';\n",
       "\t\t}\n",
       "\n",
       "\t\tif(_GCD == '' ){\n",
       "\t\t\t_GCD ='0199000000000';\n",
       "\t\t}\n",
       "\t\tvar _GUL = 'ace.segye.com';\n",
       "\t\tvar _GPT='80';\n",
       "\t\tvar _SGPT='443';\n",
       "\t\tvar _AIMG = new Image();\n",
       "\t\tvar _bn=navigator.appName;\n",
       "\t\tvar _PR = location.protocol==\"https:\"?\"https://\"+_GUL+\":\"+_SGPT:\"http://\"+_GUL+\":\"+_GPT;\n",
       "\t\tif( _bn.indexOf(\"Netscape\") > -1 || _bn==\"Mozilla\"){\n",
       "\t\t\tsetTimeout(\"_AIMG.src = _PR+'/?cookie';\",1); \n",
       "\t\t}else{\n",
       "\t\t\t_AIMG.src = _PR+'/?cookie'; \n",
       "\t\t};\n",
       "\t\tdocument.writeln(\"<scr\"+\"ipt language='javascript' src='//img.segye.com/resources/js/acecounter/acecounter_V70.js'></scr\"+\"ipt>\");\n",
       "\t}\n",
       "</script>\n",
       "<!-- 푸터 서비스 전체보기 클릭시 나타나는 메뉴박스 start -->\n",
       "<div id=\"footer\">\n",
       "<!-- 푸터 서비스 전체보기 클릭시 나타나는 메뉴박스 start -->\n",
       "<div class=\"footer_open_down\" id=\"footerClose\" style=\"display:none\">\n",
       "<a class=\"closeBt2\" id=\"footerBt\"><img alt=\"닫기\" border=\"0\" src=\"//img.segye.com/resources/images/bt_close2.png\"/></a>\n",
       "<div class=\"bmenu1\">\n",
       "<ul>\n",
       "<li class=\"title\"><a href=\"/main\">뉴스</a></li>\n",
       "<li><a href=\"http://www.segye.com/newsList/0101010000000\">정치</a></li>\n",
       "<li><a href=\"http://www.segye.com/newsList/0101030000000\">경제</a></li>\n",
       "<li><a href=\"http://www.segye.com/newsList/0101080000000\">사회</a></li>\n",
       "<li><a href=\"http://www.segye.com/newsList/0101040000000\">국제</a></li>\n",
       "<li><a href=\"http://www.segye.com/newsList/0101050000000\">문화</a></li>\n",
       "<li><a href=\"http://www.segye.com/newsList/0101070000000\">전국</a></li>\n",
       "<li><a href=\"http://www.segye.com/newsList/0101120000000\">피플</a></li>\n",
       "<li><a href=\"http://www.segye.com/seriesList/4300000\">기획특집</a></li>\n",
       "<li><a href=\"http://www.segye.com/cardList/9140000\">카드뉴스</a></li>\n",
       "</ul>\n",
       "<ul>\n",
       "<li class=\"title\"><a href=\"http://www.segye.com/opinion\">오피니언</a></li>\n",
       "<li><a href=\"http://www.segye.com/newsList/0101100300000\">사설</a></li>\n",
       "<li><a href=\"http://www.segye.com/newsList/2001167\">오늘의 칼럼</a></li>\n",
       "<li><a href=\"http://www.segye.com/newsList/0101100503000\">기자ㆍ데스크</a></li>\n",
       "<li><a href=\"http://www.segye.com/newsList/0101100501000\">논설위원칼럼</a></li>\n",
       "<li><a href=\"http://www.segye.com/newsList/0101100504000\">전문가칼럼</a></li>\n",
       "<li><a href=\"http://www.segye.com/newsList/0101100502000\">외부칼럼</a></li>\n",
       "<li><a href=\"http://www.segye.com/newsList/0101100800000\">기고ㆍ독자</a></li>\n",
       "<li><a href=\"http://www.segye.com/newsList/0101100200000\">월드</a></li>\n",
       "</ul>\n",
       "<ul>\n",
       "<li class=\"title\"><a href=\"http://www.segye.com/ent\">연예</a></li>\n",
       "<li><a href=\"http://www.segye.com/newsList/0101060100000\">연예가소식</a></li>\n",
       "<li><a href=\"http://www.segye.com/newsList/0101060500000\">TV·방송</a></li>\n",
       "<li><a href=\"http://www.segye.com/newsList/0101060300000\">영화</a></li>\n",
       "<li><a href=\"http://www.segye.com/newsList/0101060400000\">대중음악</a></li>\n",
       "<li><a href=\"http://www.segye.com/newsList/0101060700000\">해외연예</a></li>\n",
       "</ul>\n",
       "<ul>\n",
       "<li class=\"title\"><a href=\"http://www.segye.com/sports\">스포츠</a></li>\n",
       "<li><a href=\"http://www.segye.com/newsList/0101110100000\">일반</a></li>\n",
       "<li><a href=\"http://www.segye.com/newsList/0101110400000\">야구</a></li>\n",
       "<li><a href=\"http://www.segye.com/newsList/0101110300000\">축구</a></li>\n",
       "<li><a href=\"http://www.segye.com/newsList/0101110500000\">농구</a></li>\n",
       "<li><a href=\"http://www.segye.com/newsList/0101110600000\">배구</a></li>\n",
       "<li><a href=\"http://www.segye.com/newsList/0101110200000\">골프</a></li>\n",
       "</ul>\n",
       "<ul>\n",
       "<li class=\"title\"><a href=\"http://www.segye.com/photo\">포토</a></li>\n",
       "<li><a href=\"http://www.segye.com/hotgalleryList/0115000000000\">핫갤러리</a></li>\n",
       "<li><a href=\"http://www.segye.com/photoList/0104010500000\">연예</a></li>\n",
       "<li><a href=\"http://www.segye.com/photoList/0104010400000\">스포츠</a></li>\n",
       "<li><a href=\"http://www.segye.com/photoList/0104010100000\">정치</a></li>\n",
       "<li><a href=\"http://www.segye.com/photoList/0104010200000\">경제</a></li>\n",
       "<li><a href=\"http://www.segye.com/photoList/0104010700000\">사회</a></li>\n",
       "<li><a href=\"http://www.segye.com/photoList/0104010600000\">국제</a></li>\n",
       "<li><a href=\"http://www.segye.com/photoList/0104010300000\">문화</a></li>\n",
       "<li><a href=\"http://www.segye.com/photoList/3000314\">렌즈로 보는 세상</a></li>\n",
       "<li><a href=\"http://www.segye.com/photoList/1000109\">포토에세이</a></li>\n",
       "</ul>\n",
       "</div>\n",
       "<div class=\"bmenu2\">\n",
       "<ul>\n",
       "<li class=\"title\"><a href=\"http://www.segye.com/video\">영상</a></li>\n",
       "</ul>\n",
       "<ul>\n",
       "<li class=\"title\">부가서비스</li>\n",
       "<li><a href=\"http://www.segye.com/innovList/0125000000000\">inno북스</a></li>\n",
       "<li><a href=\"http://www.segye.com/drone\">드론</a></li>\n",
       "<li><a href=\"http://www.segye.com/eco2018\">환경</a></li>\n",
       "<li><a href=\"http://www.segye.com/newsList/3000222\">오늘의 운세</a></li>\n",
       "</ul>\n",
       "<ul>\n",
       "<li class=\"title\">외국어</li>\n",
       "<li><a href=\"http://www.segye.com/newsList/3100168\">해커스톡</a></li>\n",
       "<li><a href=\"http://www.segye.com/newsList/3100167\">영단기신토익</a></li>\n",
       "<li><a href=\"http://www.segye.com/newsList/3100164\">시사일본어</a></li>\n",
       "<li><a href=\"http://www.segye.com/newsList/3100169\">차이나로중국어</a></li>\n",
       "</ul>\n",
       "<ul>\n",
       "<li class=\"title\">Family Sites\n",
       "\t\t\t\t\t</li><li><a href=\"http://www.sportsworldi.com\" target=\"_blank\">스포츠월드</a></li>\n",
       "<li><a href=\"http://fn.segye.com\" target=\"_blank\">세계파이낸스</a></li>\n",
       "<li><a href=\"http://www.jknews.kr/main.jsp\" target=\"_blank\">종교신문</a></li>\n",
       "</ul>\n",
       "<ul>\n",
       "<li class=\"mpaper\"><a href=\"http://sg.scrapmaster.co.kr/\" target=\"_blank\" title=\"M-paper\"><img border=\"0\" src=\"//img.segye.com/resources/images/bt_mpaper.png\"/></a></li>\n",
       "<li class=\"rss\"><a href=\"http://www.segye.com/rssInfo\" target=\"_blank\" title=\"RSS\"><img border=\"0\" src=\"//img.segye.com/resources/images/bt_rss.png\"/></a></li>\n",
       "</ul>\n",
       "</div>\n",
       "</div>\n",
       "<!-- 푸터 서비스 전체보기 클릭시 나타나는 메뉴박스 end -->\n",
       "<!-- 퀵 메뉴(리스트, 상단) start -->\n",
       "<div class=\"quick\">\n",
       "<ul>\n",
       "<li><a href=\"http://www.segye.com/main\" title=\"홈으로\"><img border=\"0\" src=\"//img.segye.com/resources/images/quick_home.png\"/></a></li>\n",
       "<li><a href=\"#wrap\" title=\"맨위로\"><img border=\"0\" src=\"//img.segye.com/resources/images/quick_top.png\"/></a></li>\n",
       "</ul>\n",
       "</div>\n",
       "<!-- 퀵 메뉴(상단,홈으로,리스트) end -->\n",
       "<!-- 푸터영역 start -->\n",
       "<div class=\"footerarea\">\n",
       "<div class=\"footerareas\">\n",
       "<div class=\"footer_logo\"><a href=\"http://www.segye.com/main\" title=\"세계일보\"><img border=\"0\" src=\"//img.segye.com/resources/images/logo_s.png\"/></a></div>\n",
       "<div class=\"footer_inner\">\n",
       "<ul>\n",
       "<li class=\"txt\"><a href=\"http://company.segye.com\" target=\"_blank\">회사소개</a></li>\n",
       "<li class=\"line2\">ㅣ</li>\n",
       "<li class=\"txt\"><a href=\"http://company.segye.com/alliance/paperad\" target=\"_blank\">지면광고</a></li>\n",
       "<li class=\"line2\">ㅣ</li>\n",
       "<li class=\"txt\"><a href=\"http://company.segye.com/alliance/onlinead\" target=\"_blank\">온라인광고</a></li>\n",
       "<li class=\"line2\">ㅣ</li>\n",
       "<li class=\"txt\"><a href=\"http://company.segye.com/alliance/displayad\" target=\"_blank\">전광판 광고</a></li>\n",
       "<li class=\"line2\">ㅣ</li>\n",
       "<li class=\"txt\"><a href=\"http://company.segye.com/alliance/partner\" target=\"_blank\">사업제휴</a></li>\n",
       "<li class=\"line2\">ㅣ</li>\n",
       "<li class=\"txt\"><a href=\"http://company.segye.com/service/readersRights\" target=\"_blank\">독자인권위원회</a></li>\n",
       "<li class=\"line2\">ㅣ</li>\n",
       "<li class=\"txt\"><a href=\"http://company.segye.com/service/apply\" target=\"_blank\">정정보도신청</a></li>\n",
       "<li class=\"line2\">ㅣ</li>\n",
       "<li class=\"txt\"><a href=\"http://company.segye.com/service/privacyStatement\" target=\"_blank\">개인정보취급방침</a></li>\n",
       "<li class=\"line2\">ㅣ</li>\n",
       "<li class=\"txt\"><a href=\"http://company.segye.com/service/youthProtectionPolicy\" target=\"_blank\">청소년보호정책</a></li>\n",
       "<li class=\"line2\">ㅣ</li>\n",
       "<li class=\"txt\"><a href=\"http://company.segye.com/service/userTerms\" target=\"_blank\">이용자약관</a></li>\n",
       "<li class=\"line2\">ㅣ</li>\n",
       "<li class=\"txt\"><a href=\"http://company.segye.com/service/digitalNewsRules\" target=\"_blank\">디지털뉴스이용규칙</a></li>\n",
       "<li class=\"line2\">ㅣ</li>\n",
       "<li class=\"txt\"><a href=\"http://company.segye.com/service/notice&amp;type=list\" target=\"_blank\">고객센터</a></li>\n",
       "</ul>\n",
       "<div class=\"footer_openbt\" id=\"footerOn\"><a title=\"서비스 전체보기\"><font></font><span><img border=\"0\" src=\"//img.segye.com/resources/images/listbt.png\"/></span></a></div>\n",
       "</div>\n",
       "</div>\n",
       "<div class=\"copyright\">\n",
       "<div class=\"copy\">\n",
       "<font class=\"copy1\">서울시 종로구 경희궁길 26   l   등록번호 : 서울, 아03959   |   등록일(발행일) : 2015년 11월 2일  ㅣ  발행인 : 정희택  ㅣ  편집인 : 황정미</font>\n",
       "<font class=\"copy2\">전화번호 : 02-2000-1234   l   청소년보호 책임자 : 문준식   |   Copyright ⓒ 세계일보 All rights reserved.</font>\n",
       "</div>\n",
       "<div class=\"selectoverMenu\">\n",
       "<label for=\"select\"></label>\n",
       "<select id=\"select\" name=\"select\" onchange=\"goSite(this.value);\" style=\"font-size:12px;padding:2px;\">\n",
       "<option selected=\"selected\" value=\"\">문화사업</option>\n",
       "<option value=\"http://company.segye.com/event/agriculture\">세계농업기술상</option>\n",
       "<option value=\"http://munhak.segye.com/munhak/segye_culture9.asp\">세계문학상</option>\n",
       "<option value=\"http://shinchun.segye.com/shinchun/shinchun_2018.asp\">신춘문예</option>\n",
       "<option value=\"http://music.segye.com\">음악콩쿠르</option>\n",
       "</select>\n",
       "<select id=\"select\" name=\"select\" onchange=\"goSite(this.value);\" style=\"font-size:12px;padding:2px;\">\n",
       "<option selected=\"selected\">글로벌미디어</option>\n",
       "<option value=\"http://www.washingtontimes.com/\">Washington Times</option>\n",
       "<option value=\"http://www.tdm.com/\">Tiempos Del Mundo</option>\n",
       "<option value=\"http://www.worldtimes.co.jp/\">일본 세계일보</option>\n",
       "</select>\n",
       "</div>\n",
       "</div>\n",
       "</div>\n",
       "<!-- 푸터영역 end -->\n",
       "</div>\n",
       "<script>\n",
       "$('#footerBt').click(function(){\n",
       "\t$('#footerClose').css('display', 'none');\n",
       "});\n",
       "$('#footerOn').click(function(){\n",
       "\t$('#footerClose').css('display', '');\n",
       "});\n",
       "\n",
       "/*var linkback = linkback|| {};\n",
       "(function() {\n",
       "\tvar d = document, scr = d.createElement('script'), pro = d.location.protocol,\n",
       "\ttar = d.getElementsByTagName('head')[0];\n",
       "\tscr.type = 'text/javascript';  scr.async = true;\n",
       "\tscr.src = ((pro === 'https:') ? 'https' : 'http') + '://linkback.contentsfeed.com/src/lb4segye.min.js';\n",
       "\tscr.charset='utf-8';\n",
       "\tif(!linkback.l){linkback.l=true; tar.insertBefore(scr, tar.firstChild);}\n",
       "})();*/\n",
       "</script>\n",
       "<!-- 푸터 영역 end -->\n",
       "</div>\n",
       "<!-- wrap end -->\n",
       "</div></body></html>"
      ]
     },
     "execution_count": 8,
     "metadata": {},
     "output_type": "execute_result"
    }
   ],
   "source": [
    "data"
   ]
  },
  {
   "cell_type": "code",
   "execution_count": 9,
   "metadata": {
    "scrolled": false
   },
   "outputs": [],
   "source": [
    "data_temp = data.find_all('div', 'newslist_area')"
   ]
  },
  {
   "cell_type": "code",
   "execution_count": 10,
   "metadata": {},
   "outputs": [
    {
     "data": {
      "text/plain": [
       "1"
      ]
     },
     "execution_count": 10,
     "metadata": {},
     "output_type": "execute_result"
    }
   ],
   "source": [
    "len(data_temp)"
   ]
  },
  {
   "cell_type": "markdown",
   "metadata": {},
   "source": [
    "#### 제목 가져오기"
   ]
  },
  {
   "cell_type": "code",
   "execution_count": 11,
   "metadata": {},
   "outputs": [],
   "source": [
    "data_title = data_temp[0].find_all('dt', 'title_cr')"
   ]
  },
  {
   "cell_type": "code",
   "execution_count": 12,
   "metadata": {},
   "outputs": [
    {
     "data": {
      "text/plain": [
       "<dt class=\"title_cr\"><a href=\"/newsView/20181118001744\" target=\"_self\">단순노무직 5년 만에 최대폭 감소</a></dt>"
      ]
     },
     "execution_count": 12,
     "metadata": {},
     "output_type": "execute_result"
    }
   ],
   "source": [
    "data_title[0]"
   ]
  },
  {
   "cell_type": "code",
   "execution_count": 13,
   "metadata": {},
   "outputs": [
    {
     "data": {
      "text/plain": [
       "<dt class=\"title_cr\"><a href=\"/newsView/20181116002315\" target=\"_self\">한국체인스토어협회, 2019년 유통 키워드는'5 Free(프리)'</a></dt>"
      ]
     },
     "execution_count": 13,
     "metadata": {},
     "output_type": "execute_result"
    }
   ],
   "source": [
    "data_title[-1]"
   ]
  },
  {
   "cell_type": "code",
   "execution_count": 14,
   "metadata": {},
   "outputs": [
    {
     "data": {
      "text/plain": [
       "20"
      ]
     },
     "execution_count": 14,
     "metadata": {},
     "output_type": "execute_result"
    }
   ],
   "source": [
    "len(data_title)"
   ]
  },
  {
   "cell_type": "code",
   "execution_count": 15,
   "metadata": {},
   "outputs": [
    {
     "data": {
      "text/plain": [
       "'단순노무직 5년 만에 최대폭 감소'"
      ]
     },
     "execution_count": 15,
     "metadata": {},
     "output_type": "execute_result"
    }
   ],
   "source": [
    "data_title[0].get_text()"
   ]
  },
  {
   "cell_type": "code",
   "execution_count": 16,
   "metadata": {},
   "outputs": [
    {
     "data": {
      "text/plain": [
       "'단순노무직 5년 만에 최대폭 감소'"
      ]
     },
     "execution_count": 16,
     "metadata": {},
     "output_type": "execute_result"
    }
   ],
   "source": [
    "re.sub('[\\'\\n\\r\\t\\xa0]', '', data_title[0].get_text())"
   ]
  },
  {
   "cell_type": "markdown",
   "metadata": {},
   "source": [
    "#### 날짜 가져오기"
   ]
  },
  {
   "cell_type": "code",
   "execution_count": 17,
   "metadata": {},
   "outputs": [],
   "source": [
    "data_date = data_temp[0].find_all('span', 'date')"
   ]
  },
  {
   "cell_type": "code",
   "execution_count": 18,
   "metadata": {},
   "outputs": [
    {
     "data": {
      "text/plain": [
       "<span class=\"date\">2018.11.18</span>"
      ]
     },
     "execution_count": 18,
     "metadata": {},
     "output_type": "execute_result"
    }
   ],
   "source": [
    "data_date[0]"
   ]
  },
  {
   "cell_type": "code",
   "execution_count": 19,
   "metadata": {},
   "outputs": [
    {
     "data": {
      "text/plain": [
       "<span class=\"date\">2018.11.17</span>"
      ]
     },
     "execution_count": 19,
     "metadata": {},
     "output_type": "execute_result"
    }
   ],
   "source": [
    "data_date[-1]"
   ]
  },
  {
   "cell_type": "code",
   "execution_count": 20,
   "metadata": {},
   "outputs": [
    {
     "data": {
      "text/plain": [
       "20"
      ]
     },
     "execution_count": 20,
     "metadata": {},
     "output_type": "execute_result"
    }
   ],
   "source": [
    "len(data_date)"
   ]
  },
  {
   "cell_type": "code",
   "execution_count": 21,
   "metadata": {},
   "outputs": [
    {
     "data": {
      "text/plain": [
       "'2018.11.18'"
      ]
     },
     "execution_count": 21,
     "metadata": {},
     "output_type": "execute_result"
    }
   ],
   "source": [
    "data_date[0].get_text()"
   ]
  },
  {
   "cell_type": "markdown",
   "metadata": {},
   "source": [
    "### 데이터 수집 및 확인"
   ]
  },
  {
   "cell_type": "markdown",
   "metadata": {},
   "source": [
    "### 언론사(세계)"
   ]
  },
  {
   "cell_type": "code",
   "execution_count": 22,
   "metadata": {},
   "outputs": [
    {
     "name": "stdout",
     "output_type": "stream",
     "text": [
      "시작 날짜를 입력하세요.  ex) 20181007 \n",
      "20181115\n",
      "마지막 날짜를 입력하세요.  ex) 20181115 \n",
      "20181118\n",
      "==================================================\n",
      "[2018.11.15 ~ 2018.11.18] 데이터 수집을 시작합니다.\n",
      "\n",
      "1 페이지 수집중입니다.... ing     [수집완료]\n",
      "2 페이지 수집중입니다.... ing     [수집완료]\n",
      "3 페이지 수집중입니다.... ing     [수집완료]\n",
      "4 페이지 수집중입니다.... ing     [수집완료]\n",
      "5 페이지 수집중입니다.... ing     [수집완료]\n",
      "==================================================\n",
      "데이터 수집을 완료했습니다.\n",
      "총 계산 시간: 0:00:02.477141\n",
      "총 수집 개수: 89개\n"
     ]
    }
   ],
   "source": [
    "title = []\n",
    "date = []\n",
    "page = 0\n",
    "\n",
    "start_flag = False\n",
    "end_flag = False\n",
    "\n",
    "end_date = input(\"시작 날짜를 입력하세요.  ex) 20181007 \\n\")\n",
    "start_date = input(\"마지막 날짜를 입력하세요.  ex) 20181115 \\n\")\n",
    "end_date = end_date[:4] + '.' + end_date[4:6] + '.' + end_date[6:]\n",
    "start_date = start_date[:4] + '.' + start_date[4:6] + '.' + start_date[6:]\n",
    "\n",
    "print(\"=\" * 50)\n",
    "print(\"[%s ~ %s] 데이터 수집을 시작합니다.\\n\" % (end_date, start_date))\n",
    "\n",
    "start = datetime.now()\n",
    "\n",
    "for url in urls:\n",
    "    html = urlopen(url)\n",
    "    data = BeautifulSoup(html, \"lxml\")    \n",
    "    data_temp = data.find_all('div', 'newslist_area')\n",
    "    \n",
    "    # 기사 제목 및 날짜 찾기\n",
    "    data_title = data_temp[0].find_all('dt', 'title_cr')\n",
    "    data_date = data_temp[0].find_all('span', 'date')\n",
    "    \n",
    "    # 데이터수집 체크\n",
    "    page += 1\n",
    "    \n",
    "    if start_flag:\n",
    "        print(\"%d 페이지 수집중입니다.... ing\" %page, end='')\n",
    "    \n",
    "    for x in range(len(data_title)):\n",
    "        \n",
    "        # 기사 끝날 날짜 체크 (end_flag 변경)\n",
    "        if data_date[x].get_text() in end_date:\n",
    "            temp_date = data_date[x].get_text()\n",
    "            end_flag = True\n",
    "\n",
    "        # 기사 끝날 날짜 체크(반복문 out)    \n",
    "        if end_flag:\n",
    "            if not(temp_date == data_date[x].get_text()):\n",
    "                break       \n",
    "        \n",
    "        \n",
    "        if not(start_flag):            \n",
    "            # 기사 시작 날짜 체크\n",
    "            if not(data_date[x].get_text() in start_date):            \n",
    "                continue\n",
    "            print(\"%d 페이지 수집중입니다.... ing\" %page, end='')\n",
    "            start_flag = True\n",
    "        \n",
    "  \n",
    "        \n",
    "        # 기사 제목만 가져오기\n",
    "        title.append(re.sub('[\\'\\n\\r\\t\\xa0]', '', data_title[x].get_text()))\n",
    "   \n",
    "        # 기사 날짜만 가져오기\n",
    "        date.append(data_date[x].get_text())\n",
    "        \n",
    "\n",
    "    # 데이터 수집 시작 체크\n",
    "    if not(start_flag):\n",
    "        continue\n",
    "        \n",
    "    # 데이터수집 체크\n",
    "    print(\"     [수집완료]\")       \n",
    "          \n",
    "    \n",
    "    # 기사 끝날 날짜 체크(반복문 out)  \n",
    "    if end_flag:\n",
    "        if not(temp_date == data_date[x].get_text()):\n",
    "            break \n",
    "\n",
    "        \n",
    "end = datetime.now()\n",
    "print(\"=\" * 50)\n",
    "print(\"데이터 수집을 완료했습니다.\")\n",
    "elapsed = end - start\n",
    "print('총 계산 시간: ', end='');   print(elapsed)\n",
    "print('총 수집 개수: %d개' %len(title))"
   ]
  },
  {
   "cell_type": "code",
   "execution_count": 23,
   "metadata": {},
   "outputs": [
    {
     "data": {
      "text/plain": [
       "89"
      ]
     },
     "execution_count": 23,
     "metadata": {},
     "output_type": "execute_result"
    }
   ],
   "source": [
    "len(title)"
   ]
  },
  {
   "cell_type": "code",
   "execution_count": 24,
   "metadata": {},
   "outputs": [
    {
     "data": {
      "text/plain": [
       "89"
      ]
     },
     "execution_count": 24,
     "metadata": {},
     "output_type": "execute_result"
    }
   ],
   "source": [
    "len(date)"
   ]
  },
  {
   "cell_type": "code",
   "execution_count": 25,
   "metadata": {},
   "outputs": [
    {
     "data": {
      "text/plain": [
       "'단순노무직 5년 만에 최대폭 감소'"
      ]
     },
     "execution_count": 25,
     "metadata": {},
     "output_type": "execute_result"
    }
   ],
   "source": [
    "title[0]"
   ]
  },
  {
   "cell_type": "code",
   "execution_count": 26,
   "metadata": {},
   "outputs": [
    {
     "data": {
      "text/plain": [
       "'2018.11.18'"
      ]
     },
     "execution_count": 26,
     "metadata": {},
     "output_type": "execute_result"
    }
   ],
   "source": [
    "date[0]"
   ]
  },
  {
   "cell_type": "code",
   "execution_count": 27,
   "metadata": {},
   "outputs": [
    {
     "data": {
      "text/plain": [
       "'‘계열사 고의 누락’ 이건희 회장 고발'"
      ]
     },
     "execution_count": 27,
     "metadata": {},
     "output_type": "execute_result"
    }
   ],
   "source": [
    "title[-1]"
   ]
  },
  {
   "cell_type": "code",
   "execution_count": 28,
   "metadata": {},
   "outputs": [
    {
     "data": {
      "text/plain": [
       "'2018.11.15'"
      ]
     },
     "execution_count": 28,
     "metadata": {},
     "output_type": "execute_result"
    }
   ],
   "source": [
    "date[-1]"
   ]
  },
  {
   "cell_type": "markdown",
   "metadata": {},
   "source": [
    "### DataFrame 만들기 & 파일로 저장하기"
   ]
  },
  {
   "cell_type": "code",
   "execution_count": 29,
   "metadata": {},
   "outputs": [],
   "source": [
    "df_temp = {'Title' : title, 'Date' : date}\n",
    "df = pd.DataFrame(df_temp)"
   ]
  },
  {
   "cell_type": "code",
   "execution_count": 30,
   "metadata": {},
   "outputs": [
    {
     "name": "stdout",
     "output_type": "stream",
     "text": [
      "<class 'pandas.core.frame.DataFrame'>\n",
      "RangeIndex: 89 entries, 0 to 88\n",
      "Data columns (total 2 columns):\n",
      "Title    89 non-null object\n",
      "Date     89 non-null object\n",
      "dtypes: object(2)\n",
      "memory usage: 1.5+ KB\n"
     ]
    }
   ],
   "source": [
    "df.info()"
   ]
  },
  {
   "cell_type": "code",
   "execution_count": 31,
   "metadata": {},
   "outputs": [
    {
     "data": {
      "text/html": [
       "<div>\n",
       "<style scoped>\n",
       "    .dataframe tbody tr th:only-of-type {\n",
       "        vertical-align: middle;\n",
       "    }\n",
       "\n",
       "    .dataframe tbody tr th {\n",
       "        vertical-align: top;\n",
       "    }\n",
       "\n",
       "    .dataframe thead th {\n",
       "        text-align: right;\n",
       "    }\n",
       "</style>\n",
       "<table border=\"1\" class=\"dataframe\">\n",
       "  <thead>\n",
       "    <tr style=\"text-align: right;\">\n",
       "      <th></th>\n",
       "      <th>Title</th>\n",
       "      <th>Date</th>\n",
       "    </tr>\n",
       "  </thead>\n",
       "  <tbody>\n",
       "    <tr>\n",
       "      <th>0</th>\n",
       "      <td>단순노무직 5년 만에 최대폭 감소</td>\n",
       "      <td>2018.11.18</td>\n",
       "    </tr>\n",
       "    <tr>\n",
       "      <th>1</th>\n",
       "      <td>BBQ, 치킨값 19일 인상…황금올리브 등 2000원 올라</td>\n",
       "      <td>2018.11.18</td>\n",
       "    </tr>\n",
       "    <tr>\n",
       "      <th>2</th>\n",
       "      <td>첫 업종별 사회적대화, 금융산업위원회 발족</td>\n",
       "      <td>2018.11.18</td>\n",
       "    </tr>\n",
       "    <tr>\n",
       "      <th>3</th>\n",
       "      <td>BBQ 윤학종 대표 돌연 사임…지난해 이어 CEO 줄사임</td>\n",
       "      <td>2018.11.18</td>\n",
       "    </tr>\n",
       "    <tr>\n",
       "      <th>4</th>\n",
       "      <td>화장품업체들 3분기에도 ‘실적 충격’</td>\n",
       "      <td>2018.11.18</td>\n",
       "    </tr>\n",
       "    <tr>\n",
       "      <th>5</th>\n",
       "      <td>최저기온 영하로 뚝, 겨울추위 본격 시작…보일러관리 4가지 Tip [이슈탐색]</td>\n",
       "      <td>2018.11.18</td>\n",
       "    </tr>\n",
       "    <tr>\n",
       "      <th>6</th>\n",
       "      <td>나 혼자 사는 1인가구, 내 몸은 내가 지킨다 [김현주의 일상 톡톡]</td>\n",
       "      <td>2018.11.18</td>\n",
       "    </tr>\n",
       "    <tr>\n",
       "      <th>7</th>\n",
       "      <td>한국 산업용 로봇활용 세계 1위…“일자리와 보완 관계 가능”</td>\n",
       "      <td>2018.11.17</td>\n",
       "    </tr>\n",
       "    <tr>\n",
       "      <th>8</th>\n",
       "      <td>반전없는 고용부진…친기업 행보 속도낼까</td>\n",
       "      <td>2018.11.17</td>\n",
       "    </tr>\n",
       "    <tr>\n",
       "      <th>9</th>\n",
       "      <td>저출산 속에도 육아 전담 남편수 12개월 연속 늘었다</td>\n",
       "      <td>2018.11.17</td>\n",
       "    </tr>\n",
       "  </tbody>\n",
       "</table>\n",
       "</div>"
      ],
      "text/plain": [
       "                                         Title        Date\n",
       "0                           단순노무직 5년 만에 최대폭 감소  2018.11.18\n",
       "1             BBQ, 치킨값 19일 인상…황금올리브 등 2000원 올라  2018.11.18\n",
       "2                      첫 업종별 사회적대화, 금융산업위원회 발족  2018.11.18\n",
       "3              BBQ 윤학종 대표 돌연 사임…지난해 이어 CEO 줄사임  2018.11.18\n",
       "4                         화장품업체들 3분기에도 ‘실적 충격’  2018.11.18\n",
       "5  최저기온 영하로 뚝, 겨울추위 본격 시작…보일러관리 4가지 Tip [이슈탐색]  2018.11.18\n",
       "6       나 혼자 사는 1인가구, 내 몸은 내가 지킨다 [김현주의 일상 톡톡]  2018.11.18\n",
       "7            한국 산업용 로봇활용 세계 1위…“일자리와 보완 관계 가능”  2018.11.17\n",
       "8                        반전없는 고용부진…친기업 행보 속도낼까  2018.11.17\n",
       "9                저출산 속에도 육아 전담 남편수 12개월 연속 늘었다  2018.11.17"
      ]
     },
     "execution_count": 31,
     "metadata": {},
     "output_type": "execute_result"
    }
   ],
   "source": [
    "df.head(10)"
   ]
  },
  {
   "cell_type": "code",
   "execution_count": 32,
   "metadata": {},
   "outputs": [
    {
     "data": {
      "text/html": [
       "<div>\n",
       "<style scoped>\n",
       "    .dataframe tbody tr th:only-of-type {\n",
       "        vertical-align: middle;\n",
       "    }\n",
       "\n",
       "    .dataframe tbody tr th {\n",
       "        vertical-align: top;\n",
       "    }\n",
       "\n",
       "    .dataframe thead th {\n",
       "        text-align: right;\n",
       "    }\n",
       "</style>\n",
       "<table border=\"1\" class=\"dataframe\">\n",
       "  <thead>\n",
       "    <tr style=\"text-align: right;\">\n",
       "      <th></th>\n",
       "      <th>Title</th>\n",
       "      <th>Date</th>\n",
       "    </tr>\n",
       "  </thead>\n",
       "  <tbody>\n",
       "    <tr>\n",
       "      <th>79</th>\n",
       "      <td>9·13대책 발표 두 달…\"2억∼3억원 내려도 집 안 팔려\"</td>\n",
       "      <td>2018.11.15</td>\n",
       "    </tr>\n",
       "    <tr>\n",
       "      <th>80</th>\n",
       "      <td>\"관세는 내렸는데…수입 초콜릿·고가 맥주 가격은 오히려 올라\"</td>\n",
       "      <td>2018.11.15</td>\n",
       "    </tr>\n",
       "    <tr>\n",
       "      <th>81</th>\n",
       "      <td>㈜한라 천진법인 청산에 따른 243억원 투자금 회수</td>\n",
       "      <td>2018.11.15</td>\n",
       "    </tr>\n",
       "    <tr>\n",
       "      <th>82</th>\n",
       "      <td>오티스, 2018 한국국제승강기엑스포서 차세대 혁신기술 선보여</td>\n",
       "      <td>2018.11.15</td>\n",
       "    </tr>\n",
       "    <tr>\n",
       "      <th>83</th>\n",
       "      <td>도공, 내년 2월부터 고속도로 모든 휴게공간에 무료 와이파이서비스 제공</td>\n",
       "      <td>2018.11.15</td>\n",
       "    </tr>\n",
       "    <tr>\n",
       "      <th>84</th>\n",
       "      <td>코레일, 국내 유일‘철도교통 관제교육 기관’ 지정 박차</td>\n",
       "      <td>2018.11.15</td>\n",
       "    </tr>\n",
       "    <tr>\n",
       "      <th>85</th>\n",
       "      <td>일본 농림어업신용보증기금, 한국 농신보 포항센터 방문</td>\n",
       "      <td>2018.11.15</td>\n",
       "    </tr>\n",
       "    <tr>\n",
       "      <th>86</th>\n",
       "      <td>이베이코리아·우정사업본부, 소상공인·지역경제 활성화 위한 업무협약 체결</td>\n",
       "      <td>2018.11.15</td>\n",
       "    </tr>\n",
       "    <tr>\n",
       "      <th>87</th>\n",
       "      <td>[이코노 브리핑] KB금융 대국민안전문화확산 MOU 외</td>\n",
       "      <td>2018.11.15</td>\n",
       "    </tr>\n",
       "    <tr>\n",
       "      <th>88</th>\n",
       "      <td>‘계열사 고의 누락’ 이건희 회장 고발</td>\n",
       "      <td>2018.11.15</td>\n",
       "    </tr>\n",
       "  </tbody>\n",
       "</table>\n",
       "</div>"
      ],
      "text/plain": [
       "                                      Title        Date\n",
       "79        9·13대책 발표 두 달…\"2억∼3억원 내려도 집 안 팔려\"  2018.11.15\n",
       "80       \"관세는 내렸는데…수입 초콜릿·고가 맥주 가격은 오히려 올라\"  2018.11.15\n",
       "81             ㈜한라 천진법인 청산에 따른 243억원 투자금 회수  2018.11.15\n",
       "82       오티스, 2018 한국국제승강기엑스포서 차세대 혁신기술 선보여  2018.11.15\n",
       "83  도공, 내년 2월부터 고속도로 모든 휴게공간에 무료 와이파이서비스 제공  2018.11.15\n",
       "84           코레일, 국내 유일‘철도교통 관제교육 기관’ 지정 박차  2018.11.15\n",
       "85            일본 농림어업신용보증기금, 한국 농신보 포항센터 방문  2018.11.15\n",
       "86  이베이코리아·우정사업본부, 소상공인·지역경제 활성화 위한 업무협약 체결  2018.11.15\n",
       "87           [이코노 브리핑] KB금융 대국민안전문화확산 MOU 외  2018.11.15\n",
       "88                    ‘계열사 고의 누락’ 이건희 회장 고발  2018.11.15"
      ]
     },
     "execution_count": 32,
     "metadata": {},
     "output_type": "execute_result"
    }
   ],
   "source": [
    "df.tail(10)"
   ]
  },
  {
   "cell_type": "markdown",
   "metadata": {},
   "source": [
    "### 결과 저장하기(주석 처리)"
   ]
  },
  {
   "cell_type": "code",
   "execution_count": 33,
   "metadata": {},
   "outputs": [],
   "source": [
    "# Thema = input(\"주제를 입력하세요.  ex) society \\n\")\n",
    "# df.to_csv('TeamMission/segye_%s_title_(%s - %s).csv' % (Thema, end_date, start_date), sep=',', encoding='UTF-8')"
   ]
  },
  {
   "cell_type": "markdown",
   "metadata": {},
   "source": [
    "## 기사 단어 뽑기"
   ]
  },
  {
   "cell_type": "markdown",
   "metadata": {},
   "source": [
    "### 저장된 데이터 가져오기"
   ]
  },
  {
   "cell_type": "code",
   "execution_count": 2,
   "metadata": {},
   "outputs": [
    {
     "name": "stdout",
     "output_type": "stream",
     "text": [
      "언론사 데이터를 가져오려면 : 1 \n",
      "국민청원 데이터를 가져오려면 : 2\n",
      "2\n",
      "청원 분야를 입력하세요.\n",
      "- 일교/통일/국방 : 36 \n",
      "- 일자리 : 37 \n",
      "- 인권/성평등 : 49 \n",
      "36\n",
      "진행 중 청원 : 1, 만료된 청원 : 2, 전체 청원 : 3\n",
      "3\n",
      "시작 날짜를 입력하세요.  ex) 181007 \n",
      "180101\n",
      "마지막 날짜를 입력하세요.  ex) 181115 \n",
      "181116\n"
     ]
    }
   ],
   "source": [
    "check = input(\"언론사 데이터를 가져오려면 : 1 \\n국민청원 데이터를 가져오려면 : 2\\n\")\n",
    "\n",
    "if check == \"1\":\n",
    "    Thema = input(\"주제를 입력하세요.  ex) society \\n\")\n",
    "    end_date = input(\"시작 날짜를 입력하세요.  ex) 20181007 \\n\")\n",
    "    start_date = input(\"마지막 날짜를 입력하세요.  ex) 20181115 \\n\")\n",
    "    choose = input(\"제목만 가져오려면 : 1\\n본문까지 가져오려면 : 2 \\n\")\n",
    "    end_date = end_date[:4] + '.' + end_date[4:6] + '.' + end_date[6:]\n",
    "    start_date = start_date[:4] + '.' + start_date[4:6] + '.' + start_date[6:]\n",
    "else:\n",
    "    thema = input(\"청원 분야를 입력하세요.\\n- 일교/통일/국방 : 36 \\n- 일자리 : 37 \\n- 인권/성평등 : 49 \\n\")\n",
    "    day = input(\"진행 중 청원 : 1, 만료된 청원 : 2, 전체 청원 : 3\\n\")\n",
    "    end_date = input(\"시작 날짜를 입력하세요.  ex) 181007 \\n\")\n",
    "    start_date = input(\"마지막 날짜를 입력하세요.  ex) 181115 \\n\")\n",
    "    end_date = end_date[:2] + '.' + end_date[2:4] + '.' + end_date[4:]\n",
    "    start_date = start_date[:2] + '.' + start_date[2:4] + '.' + start_date[4:]"
   ]
  },
  {
   "cell_type": "code",
   "execution_count": 3,
   "metadata": {},
   "outputs": [],
   "source": [
    "if check == \"1\":\n",
    "    if choose == '1':\n",
    "        word = pd.read_csv('./TeamMission/segye_%s_title_(%s - %s).csv' % (Thema, end_date, start_date), sep=',', encoding='utf-8')\n",
    "    else:\n",
    "        word = pd.read_csv('./TeamMission/segye_%s_(%s - %s).csv' % (Thema, end_date, start_date), sep=',', encoding='utf-8')\n",
    "else:\n",
    "    word = pd.read_csv('./TeamMission/president_%s_%s_(%s - %s).csv' % (thema, day, end_date, start_date), sep=',', encoding='utf-8')\n",
    "\n",
    "del word['Unnamed: 0']"
   ]
  },
  {
   "cell_type": "code",
   "execution_count": 4,
   "metadata": {},
   "outputs": [
    {
     "name": "stdout",
     "output_type": "stream",
     "text": [
      "<class 'pandas.core.frame.DataFrame'>\n",
      "RangeIndex: 20199 entries, 0 to 20198\n",
      "Data columns (total 3 columns):\n",
      "Title    20199 non-null object\n",
      "Date     20199 non-null object\n",
      "count    20199 non-null object\n",
      "dtypes: object(3)\n",
      "memory usage: 473.5+ KB\n"
     ]
    }
   ],
   "source": [
    "word.info()"
   ]
  },
  {
   "cell_type": "code",
   "execution_count": 5,
   "metadata": {},
   "outputs": [
    {
     "data": {
      "text/html": [
       "<div>\n",
       "<style scoped>\n",
       "    .dataframe tbody tr th:only-of-type {\n",
       "        vertical-align: middle;\n",
       "    }\n",
       "\n",
       "    .dataframe tbody tr th {\n",
       "        vertical-align: top;\n",
       "    }\n",
       "\n",
       "    .dataframe thead th {\n",
       "        text-align: right;\n",
       "    }\n",
       "</style>\n",
       "<table border=\"1\" class=\"dataframe\">\n",
       "  <thead>\n",
       "    <tr style=\"text-align: right;\">\n",
       "      <th></th>\n",
       "      <th>Title</th>\n",
       "      <th>Date</th>\n",
       "      <th>count</th>\n",
       "    </tr>\n",
       "  </thead>\n",
       "  <tbody>\n",
       "    <tr>\n",
       "      <th>0</th>\n",
       "      <td>북한은매번 일본한테 과거사 과거사 사죄요구합니다..</td>\n",
       "      <td>18.11.16</td>\n",
       "      <td>5명</td>\n",
       "    </tr>\n",
       "    <tr>\n",
       "      <th>1</th>\n",
       "      <td>문재인 대통령님 국방부 분들 의경 경찰청 없앨거면 군대복무기간 12개월이하로 줄여주세요</td>\n",
       "      <td>18.11.16</td>\n",
       "      <td>2명</td>\n",
       "    </tr>\n",
       "    <tr>\n",
       "      <th>2</th>\n",
       "      <td>양구 군인 총상 사고 진상규명하십시오.</td>\n",
       "      <td>18.11.16</td>\n",
       "      <td>102명</td>\n",
       "    </tr>\n",
       "    <tr>\n",
       "      <th>3</th>\n",
       "      <td>옥류관 냉면정치...성공할까???</td>\n",
       "      <td>18.11.16</td>\n",
       "      <td>4명</td>\n",
       "    </tr>\n",
       "    <tr>\n",
       "      <th>4</th>\n",
       "      <td>중국강경대응</td>\n",
       "      <td>18.11.16</td>\n",
       "      <td>3명</td>\n",
       "    </tr>\n",
       "    <tr>\n",
       "      <th>5</th>\n",
       "      <td>양구 군인</td>\n",
       "      <td>18.11.16</td>\n",
       "      <td>342명</td>\n",
       "    </tr>\n",
       "    <tr>\n",
       "      <th>6</th>\n",
       "      <td>산이 군대보내주세요</td>\n",
       "      <td>18.11.16</td>\n",
       "      <td>300명</td>\n",
       "    </tr>\n",
       "    <tr>\n",
       "      <th>7</th>\n",
       "      <td>GP에서 총상 이게 무슨일입니까?</td>\n",
       "      <td>18.11.16</td>\n",
       "      <td>23명</td>\n",
       "    </tr>\n",
       "    <tr>\n",
       "      <th>8</th>\n",
       "      <td>병사가 죽었는데 나라님들은 관심이없네요?</td>\n",
       "      <td>18.11.16</td>\n",
       "      <td>26명</td>\n",
       "    </tr>\n",
       "    <tr>\n",
       "      <th>9</th>\n",
       "      <td>국방부는  '자진귀가제도'를 부활 시켜주십시요.</td>\n",
       "      <td>18.11.16</td>\n",
       "      <td>3명</td>\n",
       "    </tr>\n",
       "  </tbody>\n",
       "</table>\n",
       "</div>"
      ],
      "text/plain": [
       "                                              Title      Date count\n",
       "0                      북한은매번 일본한테 과거사 과거사 사죄요구합니다..  18.11.16    5명\n",
       "1  문재인 대통령님 국방부 분들 의경 경찰청 없앨거면 군대복무기간 12개월이하로 줄여주세요  18.11.16    2명\n",
       "2                             양구 군인 총상 사고 진상규명하십시오.  18.11.16  102명\n",
       "3                                옥류관 냉면정치...성공할까???  18.11.16    4명\n",
       "4                                            중국강경대응  18.11.16    3명\n",
       "5                                             양구 군인  18.11.16  342명\n",
       "6                                        산이 군대보내주세요  18.11.16  300명\n",
       "7                                GP에서 총상 이게 무슨일입니까?  18.11.16   23명\n",
       "8                            병사가 죽었는데 나라님들은 관심이없네요?  18.11.16   26명\n",
       "9                        국방부는  '자진귀가제도'를 부활 시켜주십시요.  18.11.16    3명"
      ]
     },
     "execution_count": 5,
     "metadata": {},
     "output_type": "execute_result"
    }
   ],
   "source": [
    "word.head(10)"
   ]
  },
  {
   "cell_type": "code",
   "execution_count": 6,
   "metadata": {},
   "outputs": [
    {
     "data": {
      "text/html": [
       "<div>\n",
       "<style scoped>\n",
       "    .dataframe tbody tr th:only-of-type {\n",
       "        vertical-align: middle;\n",
       "    }\n",
       "\n",
       "    .dataframe tbody tr th {\n",
       "        vertical-align: top;\n",
       "    }\n",
       "\n",
       "    .dataframe thead th {\n",
       "        text-align: right;\n",
       "    }\n",
       "</style>\n",
       "<table border=\"1\" class=\"dataframe\">\n",
       "  <thead>\n",
       "    <tr style=\"text-align: right;\">\n",
       "      <th></th>\n",
       "      <th>Title</th>\n",
       "      <th>Date</th>\n",
       "      <th>count</th>\n",
       "    </tr>\n",
       "  </thead>\n",
       "  <tbody>\n",
       "    <tr>\n",
       "      <th>20189</th>\n",
       "      <td>한,미 미래연합사령부 논의 불가 ^^*</td>\n",
       "      <td>18.01.01</td>\n",
       "      <td>0명</td>\n",
       "    </tr>\n",
       "    <tr>\n",
       "      <th>20190</th>\n",
       "      <td>한,미 미래연합사령부 논의 불가 ^^*</td>\n",
       "      <td>18.01.01</td>\n",
       "      <td>0명</td>\n",
       "    </tr>\n",
       "    <tr>\n",
       "      <th>20191</th>\n",
       "      <td>군의 사기저하는 백전백패 입니다. ^^*</td>\n",
       "      <td>18.01.01</td>\n",
       "      <td>1명</td>\n",
       "    </tr>\n",
       "    <tr>\n",
       "      <th>20192</th>\n",
       "      <td>한,미 미래연합사령부 논의 불가^^*</td>\n",
       "      <td>18.01.01</td>\n",
       "      <td>0명</td>\n",
       "    </tr>\n",
       "    <tr>\n",
       "      <th>20193</th>\n",
       "      <td>끌려가는 외교 걱정된다.</td>\n",
       "      <td>18.01.01</td>\n",
       "      <td>0명</td>\n",
       "    </tr>\n",
       "    <tr>\n",
       "      <th>20194</th>\n",
       "      <td>어려운 결단 핵무장</td>\n",
       "      <td>18.01.01</td>\n",
       "      <td>1명</td>\n",
       "    </tr>\n",
       "    <tr>\n",
       "      <th>20195</th>\n",
       "      <td>예비역 복학생 등록금을 동일학번 비군복무자 학년별 등록금과 같게 적용해 주세요</td>\n",
       "      <td>18.01.01</td>\n",
       "      <td>2명</td>\n",
       "    </tr>\n",
       "    <tr>\n",
       "      <th>20196</th>\n",
       "      <td>‘홍준표법’이라고 불리는 2005년 개정 국적법으로 삭제된 국적법을  왜 다시 환원...</td>\n",
       "      <td>18.01.01</td>\n",
       "      <td>70명</td>\n",
       "    </tr>\n",
       "    <tr>\n",
       "      <th>20197</th>\n",
       "      <td>여러분! 2018년 우리의 안보는 우리가 지킵시다.</td>\n",
       "      <td>18.01.01</td>\n",
       "      <td>11명</td>\n",
       "    </tr>\n",
       "    <tr>\n",
       "      <th>20198</th>\n",
       "      <td>UAE 관련</td>\n",
       "      <td>18.01.01</td>\n",
       "      <td>0명</td>\n",
       "    </tr>\n",
       "  </tbody>\n",
       "</table>\n",
       "</div>"
      ],
      "text/plain": [
       "                                                   Title      Date count\n",
       "20189                              한,미 미래연합사령부 논의 불가 ^^*  18.01.01    0명\n",
       "20190                              한,미 미래연합사령부 논의 불가 ^^*  18.01.01    0명\n",
       "20191                             군의 사기저하는 백전백패 입니다. ^^*  18.01.01    1명\n",
       "20192                               한,미 미래연합사령부 논의 불가^^*  18.01.01    0명\n",
       "20193                                      끌려가는 외교 걱정된다.  18.01.01    0명\n",
       "20194                                         어려운 결단 핵무장  18.01.01    1명\n",
       "20195        예비역 복학생 등록금을 동일학번 비군복무자 학년별 등록금과 같게 적용해 주세요  18.01.01    2명\n",
       "20196  ‘홍준표법’이라고 불리는 2005년 개정 국적법으로 삭제된 국적법을  왜 다시 환원...  18.01.01   70명\n",
       "20197                       여러분! 2018년 우리의 안보는 우리가 지킵시다.  18.01.01   11명\n",
       "20198                                             UAE 관련  18.01.01    0명"
      ]
     },
     "execution_count": 6,
     "metadata": {},
     "output_type": "execute_result"
    }
   ],
   "source": [
    "word.tail(10)"
   ]
  },
  {
   "cell_type": "code",
   "execution_count": 7,
   "metadata": {},
   "outputs": [
    {
     "data": {
      "text/plain": [
       "20199"
      ]
     },
     "execution_count": 7,
     "metadata": {},
     "output_type": "execute_result"
    }
   ],
   "source": [
    "len(word)"
   ]
  },
  {
   "cell_type": "markdown",
   "metadata": {},
   "source": [
    "#### DataFrame -> List -> String"
   ]
  },
  {
   "cell_type": "code",
   "execution_count": 8,
   "metadata": {},
   "outputs": [
    {
     "name": "stdout",
     "output_type": "stream",
     "text": [
      "총 계산 시간: 0:00:12.435712\n"
     ]
    }
   ],
   "source": [
    "words = str()\n",
    "\n",
    "start = datetime.now()\n",
    "\n",
    "if check == '1':\n",
    "    if choose == '1':\n",
    "        for i in range(len(list(word['Title']))):\n",
    "            words += str(list(word['Title'])[i])\n",
    "    else:\n",
    "        for i in range(len(list(word['News']))):\n",
    "            words += str(list(word['News'])[i])\n",
    "else:\n",
    "    for i in range(len(list(word['Title']))):\n",
    "        words += str(list(word['Title'])[i])\n",
    "\n",
    "end = datetime.now()\n",
    "elapsed = end - start\n",
    "print('총 계산 시간: ', end='');   print(elapsed)"
   ]
  },
  {
   "cell_type": "code",
   "execution_count": 9,
   "metadata": {},
   "outputs": [
    {
     "data": {
      "text/plain": [
       "\"북한은매번 일본한테 과거사 과거사 사죄요구합니다..문재인 대통령님 국방부 분들 의경 경찰청 없앨거면 군대복무기간 12개월이하로 줄여주세요양구 군인 총상 사고 진상규명하십시오.옥류관 냉면정치...성공할까???중국강경대응양구 군인산이 군대보내주세요GP에서 총상 이게 무슨일입니까?병사가 죽었는데 나라님들은 관심이없네요?국방부는  '자진귀가제도'를 부활 시켜주십시요.나라위해 군에 간 아들들을 지켜야 합니다. 지금 양구에서 군인들이 죽어나가고 있습니다. 민간인들이 죽어나가면 누가 책임질건가요?지뢰 다시 설치하고 GP다시 설치하라!!!ㄴ군대도  갈사람 안갈사람 결정해서 가게 해주시고 여자도 군대 가게 해주세요북한인민병역에 남녀차별을 두는 병역법은 위헌법률입니다.여성도 군복무 합시다여호와의 증인들 그냥 국제법 그런거 통용되는 나라로병역법폐지합시다문재인 임명 영국 여성대사 박은하씨 뭐하고 있나요하노이 영사관은 베트남 신부 입국을 허가 해 주십시오북핵, 북미 진실은?, 북미회담,한반도 비핵화영국 대사관의 직무 유기를 해결해 주세요남래퍼 '산이'를 군대보내주십시오영국, 한국인폭행사건 대사관,영사관,처벌 청원래퍼 산이를 군대보내주세요'알바 국가' --- 문재인,  인종석, 주사파들아 국가 경영이 애들 장난이냐북한의핵탄두소형화 작업..산이의 랩 Feminist를 해외에 알리는데에 힘써주십시오일본의 도발과 억지주장에 대한 현 정부의 입장과 앞으로의 계획을 듣고 싶습니다.(말로만 하는 유감, 실망 이런 표현이 아닌 구체적인 방안)청와대 근무자님들 몽땅 북한에서 월급 받으시기를.부쩍 늘어난 해외 순방…靑, 예산 동나자 긴급 예비비 편성...국민세금으로 김정은 선전하려 다니지말라.김정은 핵 사기 치는데 남한 대통령 공범되지 않아야.교황 남북한 방문 요청탈북자들은 정치적으로 이용하면 안됩니다.~~~~~~~~~~~~~~^^^^국민 여러분 호소합니다.북한에 대한 환상,좌파 정부의 속임수에 3번은 믿지 말아 주십시오.청와대 대변인 김의겸의 스펙조작, 문재인의 공정사회북한인권을 정치적으로 이용하면\""
      ]
     },
     "execution_count": 9,
     "metadata": {},
     "output_type": "execute_result"
    }
   ],
   "source": [
    "words[:1000]"
   ]
  },
  {
   "cell_type": "code",
   "execution_count": 10,
   "metadata": {},
   "outputs": [
    {
     "data": {
      "text/plain": [
       "490513"
      ]
     },
     "execution_count": 10,
     "metadata": {},
     "output_type": "execute_result"
    }
   ],
   "source": [
    "len(words)"
   ]
  },
  {
   "cell_type": "markdown",
   "metadata": {},
   "source": [
    "#### 트위터로 단어 뽑기"
   ]
  },
  {
   "cell_type": "code",
   "execution_count": null,
   "metadata": {},
   "outputs": [],
   "source": [
    "start = datetime.now()\n",
    "\n",
    "twitter = Twitter()\n",
    "nouns3 = twitter.nouns(words)\n",
    "count3 = Counter(nouns3)\n",
    "\n",
    "end = datetime.now()\n",
    "elapsed = end - start\n",
    "print('총 계산 시간: ', end='');   print(elapsed)"
   ]
  },
  {
   "cell_type": "markdown",
   "metadata": {},
   "source": [
    "#### 단어 분류"
   ]
  },
  {
   "cell_type": "code",
   "execution_count": 12,
   "metadata": {},
   "outputs": [
    {
     "data": {
      "text/plain": [
       "(1382, 7815, 1961)"
      ]
     },
     "execution_count": 12,
     "metadata": {},
     "output_type": "execute_result"
    }
   ],
   "source": [
    "one_words = []\n",
    "two_words = []\n",
    "etc_words = []\n",
    "\n",
    "for noun in nouns3:\n",
    "    if len(noun) == 1:\n",
    "        one_words.append(noun)\n",
    "    elif len(noun) == 2:\n",
    "        two_words.append(noun)\n",
    "    else:\n",
    "        etc_words.append(noun)\n",
    "        \n",
    "len(one_words), len(two_words), len(etc_words)"
   ]
  },
  {
   "cell_type": "code",
   "execution_count": 13,
   "metadata": {},
   "outputs": [
    {
     "data": {
      "text/plain": [
       "(286, 1869, 645)"
      ]
     },
     "execution_count": 13,
     "metadata": {},
     "output_type": "execute_result"
    }
   ],
   "source": [
    "one_words = list(set(one_words))\n",
    "two_words = list(set(two_words))\n",
    "etc_words = list(set(etc_words))\n",
    "\n",
    "len(one_words), len(two_words), len(etc_words)"
   ]
  },
  {
   "cell_type": "code",
   "execution_count": 14,
   "metadata": {},
   "outputs": [
    {
     "name": "stdout",
     "output_type": "stream",
     "text": [
      "컨\t박\t늣\t톤\t코\t레\t뭘\t죽\t랩\t혈\t려\t뜸\t함\t충\t면\t부\t날\t곪\t예\t푼\t잠\t껍\t쉬\t배\t집\t웧\t후\t뜻\t눈\t패\t셰\t칙\t혼\t관\t목\t국\t비\t백\t창\t번\t옥\t물\t쪽\t자\t굽\t편\t벽\t댓\t강\t책\t뺨\t개\t보\t선\t만\t불\t반\t마\t구\t쇼\t씨\t랏\t핵\t살\t압\t너\t활\t택\t네\t손\t협\t요\t팔\t문\t걸\t쑈\t내\t범\t수\t뻔\t준\t녀\t역\t표\t고\t데\t위\t밖\t시\t돈\t항\t옆\t실\t과\t현\t처\t귤\t탓\t그\t탈\t리\t철\t노\t심\t또\t뿐\t간\t젠\t더\t은\t막\t양\t석\t글\t칠\t게\t최\t뜰\t태\t바\t판\t꼭\t율\t싹\t달\t놈\t건\t능\t포\t앞\t급\t컵\t의\t말\t숨\t란\t산\t해\t죄\t남\t생\t휘\t답\t두\t민\t증\t임\t률\t햐\t알\t을\t흉\t힘\t길\t것\t맛\t총\t칼\t때\t체\t전\t입\t적\t회\t명\t방\t오\t앱\t터\t묘\t깜\t썪\t습\t차\t술\t발\t주\t악\t찍\t얼\t로\t몽\t법\t짝\t켐\t묵\t끝\t군\t통\t월\t일\t유\t뭐\t재\t를\t세\t합\t망\t도\t향\t삭\t균\t몾\t짓\t갑\t정\t인\t끌\t청\t봉\t화\t람\t치\t장\t며\t웃\t약\t듯\t금\t직\t병\t녘\t사\t돌\t층\t벅\t즉\t제\t단\t거\t겁\t기\t감\t땅\t팝\t축\t온\t왕\t용\t값\t북\t절\t귀\t읁\t왜\t윌\t카\t밥\t큘\t나\t등\t퍼\t곳\t점\t호\t짱\t잡\t쫌\t중\t줄\t피\t무\t속\t김\t환\t켜\t딸\t니\t좀\t분\t외\t옷\t채\t쌀\t못\t머\t하\t아\t꿈\t및\t이\t저\t애\t드\t안\t루\t"
     ]
    }
   ],
   "source": [
    "for word in one_words:\n",
    "    print(word, end='\\t')"
   ]
  },
  {
   "cell_type": "markdown",
   "metadata": {},
   "source": [
    "#### stop_words 생성"
   ]
  },
  {
   "cell_type": "code",
   "execution_count": 15,
   "metadata": {},
   "outputs": [],
   "source": [
    "stop_words = []\n",
    "sw_time = ['오늘', '어제', '미래', '내일', '시작', '하루', '올해', '오전', '오후', '하루', '이번', '다시', '마지막','개월', '내년']\n",
    "sw_various = ['알림','소식', '궂긴', '기업', '회장','최대','대통령','한국','청와대','대표','포토','의원','정부','정치','후보','추진','이유','달라','만난','누구','사진','직접','마련','리선']\n",
    "sw_region = ['서울','인천','수원','용인','대전','대구','부산','울산','광주','제주','제주도']\n",
    "\n",
    "stop_words.extend(one_words)\n",
    "stop_words.extend(sw_time)\n",
    "stop_words.extend(sw_various)\n",
    "stop_words.extend(sw_region)\n",
    "stop_words.extend(one_words)"
   ]
  },
  {
   "cell_type": "markdown",
   "metadata": {},
   "source": [
    "#### stop_words 빼기"
   ]
  },
  {
   "cell_type": "code",
   "execution_count": 16,
   "metadata": {},
   "outputs": [
    {
     "data": {
      "text/plain": [
       "9295"
      ]
     },
     "execution_count": 16,
     "metadata": {},
     "output_type": "execute_result"
    }
   ],
   "source": [
    "nouns = [word for word in nouns3 if word not in stop_words]\n",
    "len(nouns)"
   ]
  },
  {
   "cell_type": "code",
   "execution_count": 17,
   "metadata": {},
   "outputs": [],
   "source": [
    "common_word2 = Counter(nouns)"
   ]
  },
  {
   "cell_type": "code",
   "execution_count": 18,
   "metadata": {},
   "outputs": [],
   "source": [
    "common_word2 = common_word2.most_common()"
   ]
  },
  {
   "cell_type": "code",
   "execution_count": 19,
   "metadata": {},
   "outputs": [],
   "source": [
    "wordname = []\n",
    "wordfreq = []\n",
    "\n",
    "for i in range(len(common_word2)):\n",
    "    wordname.append(common_word2[i][0])\n",
    "    wordfreq.append(common_word2[i][1])\n",
    "    \n",
    "    ecolist = pd.DataFrame({'단어명' : wordname, '빈도수':wordfreq})"
   ]
  },
  {
   "cell_type": "code",
   "execution_count": 20,
   "metadata": {},
   "outputs": [
    {
     "data": {
      "text/html": [
       "<div>\n",
       "<style scoped>\n",
       "    .dataframe tbody tr th:only-of-type {\n",
       "        vertical-align: middle;\n",
       "    }\n",
       "\n",
       "    .dataframe tbody tr th {\n",
       "        vertical-align: top;\n",
       "    }\n",
       "\n",
       "    .dataframe thead th {\n",
       "        text-align: right;\n",
       "    }\n",
       "</style>\n",
       "<table border=\"1\" class=\"dataframe\">\n",
       "  <thead>\n",
       "    <tr style=\"text-align: right;\">\n",
       "      <th></th>\n",
       "      <th>단어명</th>\n",
       "      <th>빈도수</th>\n",
       "    </tr>\n",
       "  </thead>\n",
       "  <tbody>\n",
       "    <tr>\n",
       "      <th>0</th>\n",
       "      <td>양심</td>\n",
       "      <td>336</td>\n",
       "    </tr>\n",
       "    <tr>\n",
       "      <th>1</th>\n",
       "      <td>거부</td>\n",
       "      <td>305</td>\n",
       "    </tr>\n",
       "    <tr>\n",
       "      <th>2</th>\n",
       "      <td>병역</td>\n",
       "      <td>299</td>\n",
       "    </tr>\n",
       "    <tr>\n",
       "      <th>3</th>\n",
       "      <td>북한</td>\n",
       "      <td>172</td>\n",
       "    </tr>\n",
       "    <tr>\n",
       "      <th>4</th>\n",
       "      <td>국민</td>\n",
       "      <td>151</td>\n",
       "    </tr>\n",
       "  </tbody>\n",
       "</table>\n",
       "</div>"
      ],
      "text/plain": [
       "  단어명  빈도수\n",
       "0  양심  336\n",
       "1  거부  305\n",
       "2  병역  299\n",
       "3  북한  172\n",
       "4  국민  151"
      ]
     },
     "execution_count": 20,
     "metadata": {},
     "output_type": "execute_result"
    }
   ],
   "source": [
    "ecolist.head()"
   ]
  },
  {
   "cell_type": "markdown",
   "metadata": {},
   "source": [
    "#### stop_word 실행한 데이터 저장"
   ]
  },
  {
   "cell_type": "code",
   "execution_count": 21,
   "metadata": {},
   "outputs": [
    {
     "name": "stdout",
     "output_type": "stream",
     "text": [
      "TeamMission/president_36_1_word_utf_(18.01.01 - 18.11.16).csv 파일을 생성했습니다.\n"
     ]
    }
   ],
   "source": [
    "if check == \"1\":\n",
    "    if choose == \"1\":\n",
    "        ecolist.to_csv('./TeamMission/segye_%s_title_word_utf_(%s - %s).csv'% (Thema, end_date, start_date), sep=',', encoding='utf-8')\n",
    "        print('./TeamMission/segye_%s_title_word_utf_(%s - %s).csv 파일을 생성했습니다.'% (Thema, end_date, start_date))\n",
    "    else:\n",
    "        ecolist.to_csv('./TeamMission/segye_%s_word_utf_(%s - %s).csv'% (Thema, end_date, start_date), sep=',', encoding='utf-8')\n",
    "        print('./TeamMission/segye_%s_word_utf_(%s - %s).csv 파일을 생성했습니다.'% (Thema, end_date, start_date))\n",
    "else:\n",
    "    ecolist.to_csv('TeamMission/president_%s_%s_word_utf_(%s - %s).csv'% (thema, day, end_date, start_date), sep=',', encoding='utf-8')\n",
    "    print('TeamMission/president_%s_%s_word_utf_(%s - %s).csv 파일을 생성했습니다.'% (thema, day, end_date, start_date))\n",
    "    "
   ]
  },
  {
   "cell_type": "markdown",
   "metadata": {},
   "source": [
    "#### 워드클라우드 만들기"
   ]
  },
  {
   "cell_type": "code",
   "execution_count": 22,
   "metadata": {},
   "outputs": [
    {
     "data": {
      "text/plain": [
       "(nltk.text.Text, 9295)"
      ]
     },
     "execution_count": 22,
     "metadata": {},
     "output_type": "execute_result"
    }
   ],
   "source": [
    "token = nltk.Text(nouns, name='기사')\n",
    "type(token), len(token)"
   ]
  },
  {
   "cell_type": "code",
   "execution_count": 23,
   "metadata": {},
   "outputs": [
    {
     "data": {
      "text/plain": [
       "[('양심', 336),\n",
       " ('거부', 305),\n",
       " ('병역', 299),\n",
       " ('북한', 172),\n",
       " ('국민', 151),\n",
       " ('대한민국', 98),\n",
       " ('청원', 87),\n",
       " ('군대', 80),\n",
       " ('문재인', 76),\n",
       " ('국가', 67),\n",
       " ('대한', 67),\n",
       " ('나라', 56),\n",
       " ('판결', 55),\n",
       " ('일본', 54),\n",
       " ('무죄', 54),\n",
       " ('종교', 49),\n",
       " ('의무', 49),\n",
       " ('남북', 45),\n",
       " ('복무', 43),\n",
       " ('선언', 43),\n",
       " ('김정은', 40),\n",
       " ('평양', 40),\n",
       " ('참전', 39),\n",
       " ('관련', 38),\n",
       " ('반대', 38),\n",
       " ('예비군', 37),\n",
       " ('대체복무', 37),\n",
       " ('국방', 37),\n",
       " ('처벌', 33),\n",
       " ('우리', 32)]"
      ]
     },
     "execution_count": 23,
     "metadata": {},
     "output_type": "execute_result"
    }
   ],
   "source": [
    "token.vocab().most_common(30)"
   ]
  },
  {
   "cell_type": "markdown",
   "metadata": {},
   "source": [
    "#### 워드클라우드 한글폰트 설정"
   ]
  },
  {
   "cell_type": "code",
   "execution_count": 24,
   "metadata": {},
   "outputs": [],
   "source": [
    "from matplotlib import font_manager, rc\n",
    "\n",
    "font_name = font_manager.FontProperties(fname=\"C:/Windows/Fonts/malgun.ttf\").get_name()\n",
    "rc('font', family=font_name)"
   ]
  },
  {
   "cell_type": "code",
   "execution_count": 25,
   "metadata": {},
   "outputs": [
    {
     "data": {
      "text/plain": [
       "1000"
      ]
     },
     "execution_count": 25,
     "metadata": {},
     "output_type": "execute_result"
    }
   ],
   "source": [
    "data = token.vocab().most_common(1000)\n",
    "len(data)"
   ]
  },
  {
   "cell_type": "code",
   "execution_count": 26,
   "metadata": {},
   "outputs": [
    {
     "data": {
      "text/plain": [
       "[('양심', 336),\n",
       " ('거부', 305),\n",
       " ('병역', 299),\n",
       " ('북한', 172),\n",
       " ('국민', 151),\n",
       " ('대한민국', 98),\n",
       " ('청원', 87),\n",
       " ('군대', 80),\n",
       " ('문재인', 76),\n",
       " ('국가', 67)]"
      ]
     },
     "execution_count": 26,
     "metadata": {},
     "output_type": "execute_result"
    }
   ],
   "source": [
    "data[:10]"
   ]
  },
  {
   "cell_type": "markdown",
   "metadata": {},
   "source": [
    "#### data를 딕셔너리 형태로 변환"
   ]
  },
  {
   "cell_type": "code",
   "execution_count": 27,
   "metadata": {},
   "outputs": [
    {
     "data": {
      "text/plain": [
       "1000"
      ]
     },
     "execution_count": 27,
     "metadata": {},
     "output_type": "execute_result"
    }
   ],
   "source": [
    "dict_data = dict(data)\n",
    "len(dict_data)"
   ]
  },
  {
   "cell_type": "markdown",
   "metadata": {},
   "source": [
    "#### 워드클라우드 그리기"
   ]
  },
  {
   "cell_type": "code",
   "execution_count": 28,
   "metadata": {},
   "outputs": [],
   "source": [
    "%matplotlib inline\n",
    "import matplotlib.pyplot as plt\n",
    "from wordcloud import WordCloud"
   ]
  },
  {
   "cell_type": "code",
   "execution_count": 29,
   "metadata": {},
   "outputs": [
    {
     "data": {
      "image/png": "[encoded data removed]",
      "text/plain": [
       "<Figure size 1728x1152 with 1 Axes>"
      ]
     },
     "metadata": {},
     "output_type": "display_data"
    }
   ],
   "source": [
    "params = {\n",
    "    \"width\"            : 800,\n",
    "    \"height\"           : 600,\n",
    "    \"min_font_size\"    : 2**3, \n",
    "    \"max_font_size\"    : 2**7, \n",
    "    \"max_words\"        : 100,\n",
    "    \"relative_scaling\" : 0.2,\n",
    "#     \"font_path\"        : 'C:/Windows/Fonts/malgun.ttf',\n",
    "    \"font_path\"        : 'C:/Windows/Fonts/HMFMMUEX.TTC',\n",
    "    \"background_color\" : 'white',\n",
    "}\n",
    "\n",
    "wordcolud = WordCloud(**params)\n",
    "# wordcolud = wordcolud.generate(text) \n",
    "wordcolud = wordcolud.generate_from_frequencies(dict_data) \n",
    "\n",
    "if check == '1':\n",
    "    if choose == '1':\n",
    "        save_img = 'images/segye_%s_title_wordcloud_(%s - %s).png' % (Thema, end_date, start_date)\n",
    "    else:\n",
    "        save_img = 'images/segye_%s_wordcloud_(%s - %s).png' % (Thema, end_date, start_date)\n",
    "else:\n",
    "    save_img = 'images/president_%s_%s_(%s - %s).png' % (thema, day, end_date, start_date)\n",
    "    \n",
    "plt.figure(figsize=(24,16))\n",
    "plt.imshow(wordcolud)\n",
    "plt.axis('off')\n",
    "plt.savefig(save_img)"
   ]
  },
  {
   "cell_type": "markdown",
   "metadata": {},
   "source": [
    "### 국민청원 데이터 정리"
   ]
  },
  {
   "cell_type": "markdown",
   "metadata": {},
   "source": [
    "#### 데이터 읽어오기"
   ]
  },
  {
   "cell_type": "code",
   "execution_count": 2,
   "metadata": {},
   "outputs": [],
   "source": [
    "president_36_1 = pd.read_csv('./TeamMission/president_36_1_(18.01.01 - 18.11.16).csv', sep=(','), encoding='utf-8')\n",
    "president_36_2 = pd.read_csv('./TeamMission/president_36_2_(18.01.01 - 18.10.17).csv', sep=(','), encoding='utf-8')\n",
    "president_37_1 = pd.read_csv('./TeamMission/president_37_1_(18.01.01 - 18.11.16).csv', sep=(','), encoding='utf-8')\n",
    "president_37_2 = pd.read_csv('TeamMission/president_37_2_(18.01.01 - 18.11.16).csv', sep=(','), encoding='utf-8')\n",
    "president_49_1 = pd.read_csv('./TeamMission/president_49_1_(18.01.01 - 18.11.16).csv', sep=(','), encoding='utf-8')\n",
    "president_49_2 = pd.read_csv('TeamMission/president_49_2_(18.01.01 - 18.11.16).csv', sep=(','), encoding='utf-8')"
   ]
  },
  {
   "cell_type": "code",
   "execution_count": 3,
   "metadata": {},
   "outputs": [
    {
     "data": {
      "text/html": [
       "<div>\n",
       "<style scoped>\n",
       "    .dataframe tbody tr th:only-of-type {\n",
       "        vertical-align: middle;\n",
       "    }\n",
       "\n",
       "    .dataframe tbody tr th {\n",
       "        vertical-align: top;\n",
       "    }\n",
       "\n",
       "    .dataframe thead th {\n",
       "        text-align: right;\n",
       "    }\n",
       "</style>\n",
       "<table border=\"1\" class=\"dataframe\">\n",
       "  <thead>\n",
       "    <tr style=\"text-align: right;\">\n",
       "      <th></th>\n",
       "      <th>Unnamed: 0</th>\n",
       "      <th>Title</th>\n",
       "      <th>Date</th>\n",
       "      <th>count</th>\n",
       "    </tr>\n",
       "  </thead>\n",
       "  <tbody>\n",
       "    <tr>\n",
       "      <th>0</th>\n",
       "      <td>0</td>\n",
       "      <td>북한은매번 일본한테 과거사 과거사 사죄요구합니다..</td>\n",
       "      <td>18.11.16</td>\n",
       "      <td>5명</td>\n",
       "    </tr>\n",
       "    <tr>\n",
       "      <th>1</th>\n",
       "      <td>1</td>\n",
       "      <td>문재인 대통령님 국방부 분들 의경 경찰청 없앨거면 군대복무기간 12개월이하로 줄여주세요</td>\n",
       "      <td>18.11.16</td>\n",
       "      <td>2명</td>\n",
       "    </tr>\n",
       "    <tr>\n",
       "      <th>2</th>\n",
       "      <td>2</td>\n",
       "      <td>양구 군인 총상 사고 진상규명하십시오.</td>\n",
       "      <td>18.11.16</td>\n",
       "      <td>102명</td>\n",
       "    </tr>\n",
       "    <tr>\n",
       "      <th>3</th>\n",
       "      <td>3</td>\n",
       "      <td>옥류관 냉면정치...성공할까???</td>\n",
       "      <td>18.11.16</td>\n",
       "      <td>4명</td>\n",
       "    </tr>\n",
       "    <tr>\n",
       "      <th>4</th>\n",
       "      <td>4</td>\n",
       "      <td>중국강경대응</td>\n",
       "      <td>18.11.16</td>\n",
       "      <td>3명</td>\n",
       "    </tr>\n",
       "  </tbody>\n",
       "</table>\n",
       "</div>"
      ],
      "text/plain": [
       "   Unnamed: 0                                             Title      Date  \\\n",
       "0           0                      북한은매번 일본한테 과거사 과거사 사죄요구합니다..  18.11.16   \n",
       "1           1  문재인 대통령님 국방부 분들 의경 경찰청 없앨거면 군대복무기간 12개월이하로 줄여주세요  18.11.16   \n",
       "2           2                             양구 군인 총상 사고 진상규명하십시오.  18.11.16   \n",
       "3           3                                옥류관 냉면정치...성공할까???  18.11.16   \n",
       "4           4                                            중국강경대응  18.11.16   \n",
       "\n",
       "  count  \n",
       "0    5명  \n",
       "1    2명  \n",
       "2  102명  \n",
       "3    4명  \n",
       "4    3명  "
      ]
     },
     "execution_count": 3,
     "metadata": {},
     "output_type": "execute_result"
    }
   ],
   "source": [
    "president_36_1.head()"
   ]
  },
  {
   "cell_type": "markdown",
   "metadata": {},
   "source": [
    "#### 불필요한 열 제거"
   ]
  },
  {
   "cell_type": "code",
   "execution_count": 4,
   "metadata": {},
   "outputs": [],
   "source": [
    "president_36_1.drop('Unnamed: 0',axis=1, inplace=True)\n",
    "president_36_2.drop('Unnamed: 0',axis=1, inplace=True)\n",
    "president_37_1.drop('Unnamed: 0',axis=1, inplace=True)\n",
    "president_37_2.drop('Unnamed: 0',axis=1, inplace=True)\n",
    "president_49_1.drop('Unnamed: 0',axis=1, inplace=True)\n",
    "president_49_2.drop('Unnamed: 0',axis=1, inplace=True)"
   ]
  },
  {
   "cell_type": "code",
   "execution_count": 5,
   "metadata": {},
   "outputs": [
    {
     "data": {
      "text/html": [
       "<div>\n",
       "<style scoped>\n",
       "    .dataframe tbody tr th:only-of-type {\n",
       "        vertical-align: middle;\n",
       "    }\n",
       "\n",
       "    .dataframe tbody tr th {\n",
       "        vertical-align: top;\n",
       "    }\n",
       "\n",
       "    .dataframe thead th {\n",
       "        text-align: right;\n",
       "    }\n",
       "</style>\n",
       "<table border=\"1\" class=\"dataframe\">\n",
       "  <thead>\n",
       "    <tr style=\"text-align: right;\">\n",
       "      <th></th>\n",
       "      <th>Title</th>\n",
       "      <th>Date</th>\n",
       "      <th>count</th>\n",
       "    </tr>\n",
       "  </thead>\n",
       "  <tbody>\n",
       "    <tr>\n",
       "      <th>0</th>\n",
       "      <td>북한은매번 일본한테 과거사 과거사 사죄요구합니다..</td>\n",
       "      <td>18.11.16</td>\n",
       "      <td>5명</td>\n",
       "    </tr>\n",
       "    <tr>\n",
       "      <th>1</th>\n",
       "      <td>문재인 대통령님 국방부 분들 의경 경찰청 없앨거면 군대복무기간 12개월이하로 줄여주세요</td>\n",
       "      <td>18.11.16</td>\n",
       "      <td>2명</td>\n",
       "    </tr>\n",
       "    <tr>\n",
       "      <th>2</th>\n",
       "      <td>양구 군인 총상 사고 진상규명하십시오.</td>\n",
       "      <td>18.11.16</td>\n",
       "      <td>102명</td>\n",
       "    </tr>\n",
       "    <tr>\n",
       "      <th>3</th>\n",
       "      <td>옥류관 냉면정치...성공할까???</td>\n",
       "      <td>18.11.16</td>\n",
       "      <td>4명</td>\n",
       "    </tr>\n",
       "    <tr>\n",
       "      <th>4</th>\n",
       "      <td>중국강경대응</td>\n",
       "      <td>18.11.16</td>\n",
       "      <td>3명</td>\n",
       "    </tr>\n",
       "  </tbody>\n",
       "</table>\n",
       "</div>"
      ],
      "text/plain": [
       "                                              Title      Date count\n",
       "0                      북한은매번 일본한테 과거사 과거사 사죄요구합니다..  18.11.16    5명\n",
       "1  문재인 대통령님 국방부 분들 의경 경찰청 없앨거면 군대복무기간 12개월이하로 줄여주세요  18.11.16    2명\n",
       "2                             양구 군인 총상 사고 진상규명하십시오.  18.11.16  102명\n",
       "3                                옥류관 냉면정치...성공할까???  18.11.16    4명\n",
       "4                                            중국강경대응  18.11.16    3명"
      ]
     },
     "execution_count": 5,
     "metadata": {},
     "output_type": "execute_result"
    }
   ],
   "source": [
    "president_36_1.head()"
   ]
  },
  {
   "cell_type": "code",
   "execution_count": 6,
   "metadata": {},
   "outputs": [
    {
     "data": {
      "text/plain": [
       "(1977, 18222)"
      ]
     },
     "execution_count": 6,
     "metadata": {},
     "output_type": "execute_result"
    }
   ],
   "source": [
    "len(president_36_1), len(president_36_2)"
   ]
  },
  {
   "cell_type": "code",
   "execution_count": 7,
   "metadata": {},
   "outputs": [
    {
     "data": {
      "text/plain": [
       "(1653, 15820)"
      ]
     },
     "execution_count": 7,
     "metadata": {},
     "output_type": "execute_result"
    }
   ],
   "source": [
    "len(president_37_1), len(president_37_2)"
   ]
  },
  {
   "cell_type": "code",
   "execution_count": 8,
   "metadata": {},
   "outputs": [
    {
     "data": {
      "text/plain": [
       "(2313, 20582)"
      ]
     },
     "execution_count": 8,
     "metadata": {},
     "output_type": "execute_result"
    }
   ],
   "source": [
    "len(president_49_1), len(president_49_2)"
   ]
  },
  {
   "cell_type": "markdown",
   "metadata": {},
   "source": [
    "#### 데이터 합치기"
   ]
  },
  {
   "cell_type": "code",
   "execution_count": 9,
   "metadata": {},
   "outputs": [],
   "source": [
    "president_36_3 = pd.concat([president_36_1, president_36_2])\n",
    "president_37_3 = pd.concat([president_37_1, president_37_2])\n",
    "president_49_3 = pd.concat([president_49_1, president_49_2])"
   ]
  },
  {
   "cell_type": "code",
   "execution_count": 10,
   "metadata": {
    "scrolled": true
   },
   "outputs": [
    {
     "data": {
      "text/html": [
       "<div>\n",
       "<style scoped>\n",
       "    .dataframe tbody tr th:only-of-type {\n",
       "        vertical-align: middle;\n",
       "    }\n",
       "\n",
       "    .dataframe tbody tr th {\n",
       "        vertical-align: top;\n",
       "    }\n",
       "\n",
       "    .dataframe thead th {\n",
       "        text-align: right;\n",
       "    }\n",
       "</style>\n",
       "<table border=\"1\" class=\"dataframe\">\n",
       "  <thead>\n",
       "    <tr style=\"text-align: right;\">\n",
       "      <th></th>\n",
       "      <th>Title</th>\n",
       "      <th>Date</th>\n",
       "      <th>count</th>\n",
       "    </tr>\n",
       "  </thead>\n",
       "  <tbody>\n",
       "    <tr>\n",
       "      <th>0</th>\n",
       "      <td>북한은매번 일본한테 과거사 과거사 사죄요구합니다..</td>\n",
       "      <td>18.11.16</td>\n",
       "      <td>5명</td>\n",
       "    </tr>\n",
       "    <tr>\n",
       "      <th>1</th>\n",
       "      <td>문재인 대통령님 국방부 분들 의경 경찰청 없앨거면 군대복무기간 12개월이하로 줄여주세요</td>\n",
       "      <td>18.11.16</td>\n",
       "      <td>2명</td>\n",
       "    </tr>\n",
       "    <tr>\n",
       "      <th>2</th>\n",
       "      <td>양구 군인 총상 사고 진상규명하십시오.</td>\n",
       "      <td>18.11.16</td>\n",
       "      <td>102명</td>\n",
       "    </tr>\n",
       "    <tr>\n",
       "      <th>3</th>\n",
       "      <td>옥류관 냉면정치...성공할까???</td>\n",
       "      <td>18.11.16</td>\n",
       "      <td>4명</td>\n",
       "    </tr>\n",
       "    <tr>\n",
       "      <th>4</th>\n",
       "      <td>중국강경대응</td>\n",
       "      <td>18.11.16</td>\n",
       "      <td>3명</td>\n",
       "    </tr>\n",
       "  </tbody>\n",
       "</table>\n",
       "</div>"
      ],
      "text/plain": [
       "                                              Title      Date count\n",
       "0                      북한은매번 일본한테 과거사 과거사 사죄요구합니다..  18.11.16    5명\n",
       "1  문재인 대통령님 국방부 분들 의경 경찰청 없앨거면 군대복무기간 12개월이하로 줄여주세요  18.11.16    2명\n",
       "2                             양구 군인 총상 사고 진상규명하십시오.  18.11.16  102명\n",
       "3                                옥류관 냉면정치...성공할까???  18.11.16    4명\n",
       "4                                            중국강경대응  18.11.16    3명"
      ]
     },
     "execution_count": 10,
     "metadata": {},
     "output_type": "execute_result"
    }
   ],
   "source": [
    "president_36_3.head()"
   ]
  },
  {
   "cell_type": "code",
   "execution_count": 11,
   "metadata": {},
   "outputs": [
    {
     "data": {
      "text/html": [
       "<div>\n",
       "<style scoped>\n",
       "    .dataframe tbody tr th:only-of-type {\n",
       "        vertical-align: middle;\n",
       "    }\n",
       "\n",
       "    .dataframe tbody tr th {\n",
       "        vertical-align: top;\n",
       "    }\n",
       "\n",
       "    .dataframe thead th {\n",
       "        text-align: right;\n",
       "    }\n",
       "</style>\n",
       "<table border=\"1\" class=\"dataframe\">\n",
       "  <thead>\n",
       "    <tr style=\"text-align: right;\">\n",
       "      <th></th>\n",
       "      <th>Title</th>\n",
       "      <th>Date</th>\n",
       "      <th>count</th>\n",
       "    </tr>\n",
       "  </thead>\n",
       "  <tbody>\n",
       "    <tr>\n",
       "      <th>18217</th>\n",
       "      <td>어려운 결단 핵무장</td>\n",
       "      <td>18.01.01</td>\n",
       "      <td>1명</td>\n",
       "    </tr>\n",
       "    <tr>\n",
       "      <th>18218</th>\n",
       "      <td>예비역 복학생 등록금을 동일학번 비군복무자 학년별 등록금과 같게 적용해 주세요</td>\n",
       "      <td>18.01.01</td>\n",
       "      <td>2명</td>\n",
       "    </tr>\n",
       "    <tr>\n",
       "      <th>18219</th>\n",
       "      <td>‘홍준표법’이라고 불리는 2005년 개정 국적법으로 삭제된 국적법을  왜 다시 환원...</td>\n",
       "      <td>18.01.01</td>\n",
       "      <td>70명</td>\n",
       "    </tr>\n",
       "    <tr>\n",
       "      <th>18220</th>\n",
       "      <td>여러분! 2018년 우리의 안보는 우리가 지킵시다.</td>\n",
       "      <td>18.01.01</td>\n",
       "      <td>11명</td>\n",
       "    </tr>\n",
       "    <tr>\n",
       "      <th>18221</th>\n",
       "      <td>UAE 관련</td>\n",
       "      <td>18.01.01</td>\n",
       "      <td>0명</td>\n",
       "    </tr>\n",
       "  </tbody>\n",
       "</table>\n",
       "</div>"
      ],
      "text/plain": [
       "                                                   Title      Date count\n",
       "18217                                         어려운 결단 핵무장  18.01.01    1명\n",
       "18218        예비역 복학생 등록금을 동일학번 비군복무자 학년별 등록금과 같게 적용해 주세요  18.01.01    2명\n",
       "18219  ‘홍준표법’이라고 불리는 2005년 개정 국적법으로 삭제된 국적법을  왜 다시 환원...  18.01.01   70명\n",
       "18220                       여러분! 2018년 우리의 안보는 우리가 지킵시다.  18.01.01   11명\n",
       "18221                                             UAE 관련  18.01.01    0명"
      ]
     },
     "execution_count": 11,
     "metadata": {},
     "output_type": "execute_result"
    }
   ],
   "source": [
    "president_36_3.tail()"
   ]
  },
  {
   "cell_type": "code",
   "execution_count": 12,
   "metadata": {},
   "outputs": [
    {
     "data": {
      "text/plain": [
       "(20199, 17473, 22895)"
      ]
     },
     "execution_count": 12,
     "metadata": {},
     "output_type": "execute_result"
    }
   ],
   "source": [
    "len(president_36_3), len(president_37_3), len(president_49_3)"
   ]
  },
  {
   "cell_type": "code",
   "execution_count": 13,
   "metadata": {},
   "outputs": [
    {
     "data": {
      "text/plain": [
       "5"
      ]
     },
     "execution_count": 13,
     "metadata": {},
     "output_type": "execute_result"
    }
   ],
   "source": [
    "int(list(president_36_3['count'])[0][:-1].replace(',', ''))"
   ]
  },
  {
   "cell_type": "markdown",
   "metadata": {},
   "source": [
    "#### 데이터 저장"
   ]
  },
  {
   "cell_type": "code",
   "execution_count": 14,
   "metadata": {},
   "outputs": [
    {
     "name": "stdout",
     "output_type": "stream",
     "text": [
      "./TeamMission/president_36_3_(18.01.01 - 18.11.16).csv 파일을 생성했습니다.\n",
      "./TeamMission/president_37_3_(18.01.01 - 18.11.16).csv 파일을 생성했습니다.\n",
      "./TeamMission/president_49_3_(18.01.01 - 18.11.16).csv 파일을 생성했습니다.\n"
     ]
    }
   ],
   "source": [
    "president_36_3.to_csv('./TeamMission/president_36_3_(18.01.01 - 18.11.16).csv', sep=',', encoding='UTF-8')\n",
    "print('./TeamMission/president_36_3_(18.01.01 - 18.11.16).csv 파일을 생성했습니다.')\n",
    "president_37_3.to_csv('./TeamMission/president_37_3_(18.01.01 - 18.11.16).csv', sep=',', encoding='UTF-8')\n",
    "print('./TeamMission/president_37_3_(18.01.01 - 18.11.16).csv 파일을 생성했습니다.')\n",
    "president_49_3.to_csv('./TeamMission/president_49_3_(18.01.01 - 18.11.16).csv', sep=',', encoding='UTF-8')\n",
    "print('./TeamMission/president_49_3_(18.01.01 - 18.11.16).csv 파일을 생성했습니다.')"
   ]
  },
  {
   "cell_type": "markdown",
   "metadata": {},
   "source": [
    "#### 청원 참여인원 합계 구하기"
   ]
  },
  {
   "cell_type": "code",
   "execution_count": 15,
   "metadata": {},
   "outputs": [],
   "source": [
    "sum_count_36 = 0\n",
    "sum_count_37 = 0\n",
    "sum_count_49 = 0\n",
    "\n",
    "for x in range(len(president_36_3)):\n",
    "    sum_count_36 += int(list(president_36_3['count'])[x][:-1].replace(',', ''))\n",
    "    \n",
    "for x in range(len(president_37_3)):\n",
    "    sum_count_37 += int(list(president_37_3['count'])[x][:-1].replace(',', ''))\n",
    "    \n",
    "for x in range(len(president_49_3)):\n",
    "    sum_count_49 += int(list(president_49_3['count'])[x][:-1].replace(',', ''))  \n",
    "    "
   ]
  },
  {
   "cell_type": "code",
   "execution_count": 16,
   "metadata": {},
   "outputs": [
    {
     "data": {
      "text/plain": [
       "(3088617, 734551, 9391430)"
      ]
     },
     "execution_count": 16,
     "metadata": {},
     "output_type": "execute_result"
    }
   ],
   "source": [
    "sum_count_36, sum_count_37, sum_count_49"
   ]
  },
  {
   "cell_type": "markdown",
   "metadata": {},
   "source": [
    "### 네이버 데이터랩을 활용한 검색지수 산출"
   ]
  },
  {
   "cell_type": "code",
   "execution_count": 17,
   "metadata": {},
   "outputs": [],
   "source": [
    "%matplotlib inline"
   ]
  },
  {
   "cell_type": "code",
   "execution_count": 18,
   "metadata": {},
   "outputs": [
    {
     "name": "stdout",
     "output_type": "stream",
     "text": [
      "분야를 입력하세요. \n",
      "정치 : 36, 경제 : 37, 사회 : 49 \n",
      "36\n"
     ]
    }
   ],
   "source": [
    "thema = input(\"분야를 입력하세요. \\n정치 : 36, 경제 : 37, 사회 : 49 \\n\")"
   ]
  },
  {
   "cell_type": "code",
   "execution_count": 19,
   "metadata": {},
   "outputs": [],
   "source": [
    "data1 = pd.read_excel('./TeamMission/datalab_%s_1_1.xlsx' %thema)\n",
    "data2 = pd.read_excel('./TeamMission/datalab_%s_1_2.xlsx' %thema)"
   ]
  },
  {
   "cell_type": "code",
   "execution_count": 20,
   "metadata": {},
   "outputs": [
    {
     "data": {
      "text/html": [
       "<div>\n",
       "<style scoped>\n",
       "    .dataframe tbody tr th:only-of-type {\n",
       "        vertical-align: middle;\n",
       "    }\n",
       "\n",
       "    .dataframe tbody tr th {\n",
       "        vertical-align: top;\n",
       "    }\n",
       "\n",
       "    .dataframe thead th {\n",
       "        text-align: right;\n",
       "    }\n",
       "</style>\n",
       "<table border=\"1\" class=\"dataframe\">\n",
       "  <thead>\n",
       "    <tr style=\"text-align: right;\">\n",
       "      <th></th>\n",
       "      <th>날짜</th>\n",
       "      <th>남북통일</th>\n",
       "      <th>날짜.1</th>\n",
       "      <th>한반도안보</th>\n",
       "    </tr>\n",
       "  </thead>\n",
       "  <tbody>\n",
       "    <tr>\n",
       "      <th>0</th>\n",
       "      <td>2018-01-01</td>\n",
       "      <td>15.61909</td>\n",
       "      <td>2018-01-01</td>\n",
       "      <td>13.13730</td>\n",
       "    </tr>\n",
       "    <tr>\n",
       "      <th>1</th>\n",
       "      <td>2018-01-02</td>\n",
       "      <td>27.78527</td>\n",
       "      <td>2018-01-02</td>\n",
       "      <td>12.57081</td>\n",
       "    </tr>\n",
       "    <tr>\n",
       "      <th>2</th>\n",
       "      <td>2018-01-03</td>\n",
       "      <td>44.21364</td>\n",
       "      <td>2018-01-03</td>\n",
       "      <td>13.13730</td>\n",
       "    </tr>\n",
       "    <tr>\n",
       "      <th>3</th>\n",
       "      <td>2018-01-04</td>\n",
       "      <td>16.02373</td>\n",
       "      <td>2018-01-04</td>\n",
       "      <td>13.27218</td>\n",
       "    </tr>\n",
       "    <tr>\n",
       "      <th>4</th>\n",
       "      <td>2018-01-05</td>\n",
       "      <td>100.00000</td>\n",
       "      <td>2018-01-05</td>\n",
       "      <td>11.59967</td>\n",
       "    </tr>\n",
       "  </tbody>\n",
       "</table>\n",
       "</div>"
      ],
      "text/plain": [
       "           날짜       남북통일        날짜.1     한반도안보\n",
       "0  2018-01-01   15.61909  2018-01-01  13.13730\n",
       "1  2018-01-02   27.78527  2018-01-02  12.57081\n",
       "2  2018-01-03   44.21364  2018-01-03  13.13730\n",
       "3  2018-01-04   16.02373  2018-01-04  13.27218\n",
       "4  2018-01-05  100.00000  2018-01-05  11.59967"
      ]
     },
     "execution_count": 20,
     "metadata": {},
     "output_type": "execute_result"
    }
   ],
   "source": [
    "data1.head()"
   ]
  },
  {
   "cell_type": "code",
   "execution_count": 21,
   "metadata": {},
   "outputs": [
    {
     "data": {
      "text/html": [
       "<div>\n",
       "<style scoped>\n",
       "    .dataframe tbody tr th:only-of-type {\n",
       "        vertical-align: middle;\n",
       "    }\n",
       "\n",
       "    .dataframe tbody tr th {\n",
       "        vertical-align: top;\n",
       "    }\n",
       "\n",
       "    .dataframe thead th {\n",
       "        text-align: right;\n",
       "    }\n",
       "</style>\n",
       "<table border=\"1\" class=\"dataframe\">\n",
       "  <thead>\n",
       "    <tr style=\"text-align: right;\">\n",
       "      <th></th>\n",
       "      <th>날짜</th>\n",
       "      <th>남북통일</th>\n",
       "      <th>날짜.1</th>\n",
       "      <th>한반도안보</th>\n",
       "    </tr>\n",
       "  </thead>\n",
       "  <tbody>\n",
       "    <tr>\n",
       "      <th>0</th>\n",
       "      <td>2018-01-01</td>\n",
       "      <td>23.66790</td>\n",
       "      <td>2018-01-01</td>\n",
       "      <td>34.69640</td>\n",
       "    </tr>\n",
       "    <tr>\n",
       "      <th>1</th>\n",
       "      <td>2018-01-02</td>\n",
       "      <td>35.06815</td>\n",
       "      <td>2018-01-02</td>\n",
       "      <td>42.25526</td>\n",
       "    </tr>\n",
       "    <tr>\n",
       "      <th>2</th>\n",
       "      <td>2018-01-03</td>\n",
       "      <td>38.41387</td>\n",
       "      <td>2018-01-03</td>\n",
       "      <td>50.68153</td>\n",
       "    </tr>\n",
       "    <tr>\n",
       "      <th>3</th>\n",
       "      <td>2018-01-04</td>\n",
       "      <td>39.03345</td>\n",
       "      <td>2018-01-04</td>\n",
       "      <td>45.22924</td>\n",
       "    </tr>\n",
       "    <tr>\n",
       "      <th>4</th>\n",
       "      <td>2018-01-05</td>\n",
       "      <td>37.42255</td>\n",
       "      <td>2018-01-05</td>\n",
       "      <td>44.48574</td>\n",
       "    </tr>\n",
       "  </tbody>\n",
       "</table>\n",
       "</div>"
      ],
      "text/plain": [
       "           날짜      남북통일        날짜.1     한반도안보\n",
       "0  2018-01-01  23.66790  2018-01-01  34.69640\n",
       "1  2018-01-02  35.06815  2018-01-02  42.25526\n",
       "2  2018-01-03  38.41387  2018-01-03  50.68153\n",
       "3  2018-01-04  39.03345  2018-01-04  45.22924\n",
       "4  2018-01-05  37.42255  2018-01-05  44.48574"
      ]
     },
     "execution_count": 21,
     "metadata": {},
     "output_type": "execute_result"
    }
   ],
   "source": [
    "data2.head()"
   ]
  },
  {
   "cell_type": "code",
   "execution_count": 22,
   "metadata": {},
   "outputs": [
    {
     "data": {
      "text/html": [
       "<div>\n",
       "<style scoped>\n",
       "    .dataframe tbody tr th:only-of-type {\n",
       "        vertical-align: middle;\n",
       "    }\n",
       "\n",
       "    .dataframe tbody tr th {\n",
       "        vertical-align: top;\n",
       "    }\n",
       "\n",
       "    .dataframe thead th {\n",
       "        text-align: right;\n",
       "    }\n",
       "</style>\n",
       "<table border=\"1\" class=\"dataframe\">\n",
       "  <thead>\n",
       "    <tr style=\"text-align: right;\">\n",
       "      <th></th>\n",
       "      <th>날짜</th>\n",
       "      <th>남북통일</th>\n",
       "      <th>날짜.1</th>\n",
       "      <th>한반도안보</th>\n",
       "    </tr>\n",
       "  </thead>\n",
       "  <tbody>\n",
       "    <tr>\n",
       "      <th>317</th>\n",
       "      <td>2018-11-14</td>\n",
       "      <td>14.18937</td>\n",
       "      <td>2018-11-14</td>\n",
       "      <td>18.28972</td>\n",
       "    </tr>\n",
       "    <tr>\n",
       "      <th>318</th>\n",
       "      <td>2018-11-15</td>\n",
       "      <td>11.81548</td>\n",
       "      <td>2018-11-15</td>\n",
       "      <td>16.64418</td>\n",
       "    </tr>\n",
       "    <tr>\n",
       "      <th>319</th>\n",
       "      <td>2018-11-16</td>\n",
       "      <td>11.68060</td>\n",
       "      <td>2018-11-16</td>\n",
       "      <td>15.83490</td>\n",
       "    </tr>\n",
       "    <tr>\n",
       "      <th>320</th>\n",
       "      <td>2018-11-17</td>\n",
       "      <td>10.19692</td>\n",
       "      <td>2018-11-17</td>\n",
       "      <td>11.08713</td>\n",
       "    </tr>\n",
       "    <tr>\n",
       "      <th>321</th>\n",
       "      <td>2018-11-18</td>\n",
       "      <td>12.00431</td>\n",
       "      <td>2018-11-18</td>\n",
       "      <td>14.70191</td>\n",
       "    </tr>\n",
       "  </tbody>\n",
       "</table>\n",
       "</div>"
      ],
      "text/plain": [
       "             날짜      남북통일        날짜.1     한반도안보\n",
       "317  2018-11-14  14.18937  2018-11-14  18.28972\n",
       "318  2018-11-15  11.81548  2018-11-15  16.64418\n",
       "319  2018-11-16  11.68060  2018-11-16  15.83490\n",
       "320  2018-11-17  10.19692  2018-11-17  11.08713\n",
       "321  2018-11-18  12.00431  2018-11-18  14.70191"
      ]
     },
     "execution_count": 22,
     "metadata": {},
     "output_type": "execute_result"
    }
   ],
   "source": [
    "data1.tail()"
   ]
  },
  {
   "cell_type": "code",
   "execution_count": 23,
   "metadata": {},
   "outputs": [
    {
     "data": {
      "text/html": [
       "<div>\n",
       "<style scoped>\n",
       "    .dataframe tbody tr th:only-of-type {\n",
       "        vertical-align: middle;\n",
       "    }\n",
       "\n",
       "    .dataframe tbody tr th {\n",
       "        vertical-align: top;\n",
       "    }\n",
       "\n",
       "    .dataframe thead th {\n",
       "        text-align: right;\n",
       "    }\n",
       "</style>\n",
       "<table border=\"1\" class=\"dataframe\">\n",
       "  <thead>\n",
       "    <tr style=\"text-align: right;\">\n",
       "      <th></th>\n",
       "      <th>날짜</th>\n",
       "      <th>남북통일</th>\n",
       "      <th>날짜.1</th>\n",
       "      <th>한반도안보</th>\n",
       "    </tr>\n",
       "  </thead>\n",
       "  <tbody>\n",
       "    <tr>\n",
       "      <th>317</th>\n",
       "      <td>2018-11-14</td>\n",
       "      <td>42.75092</td>\n",
       "      <td>2018-11-14</td>\n",
       "      <td>61.46220</td>\n",
       "    </tr>\n",
       "    <tr>\n",
       "      <th>318</th>\n",
       "      <td>2018-11-15</td>\n",
       "      <td>43.74225</td>\n",
       "      <td>2018-11-15</td>\n",
       "      <td>56.75340</td>\n",
       "    </tr>\n",
       "    <tr>\n",
       "      <th>319</th>\n",
       "      <td>2018-11-16</td>\n",
       "      <td>38.66171</td>\n",
       "      <td>2018-11-16</td>\n",
       "      <td>44.73358</td>\n",
       "    </tr>\n",
       "    <tr>\n",
       "      <th>320</th>\n",
       "      <td>2018-11-17</td>\n",
       "      <td>29.24411</td>\n",
       "      <td>2018-11-17</td>\n",
       "      <td>40.64436</td>\n",
       "    </tr>\n",
       "    <tr>\n",
       "      <th>321</th>\n",
       "      <td>2018-11-18</td>\n",
       "      <td>40.39653</td>\n",
       "      <td>2018-11-18</td>\n",
       "      <td>46.34448</td>\n",
       "    </tr>\n",
       "  </tbody>\n",
       "</table>\n",
       "</div>"
      ],
      "text/plain": [
       "             날짜      남북통일        날짜.1     한반도안보\n",
       "317  2018-11-14  42.75092  2018-11-14  61.46220\n",
       "318  2018-11-15  43.74225  2018-11-15  56.75340\n",
       "319  2018-11-16  38.66171  2018-11-16  44.73358\n",
       "320  2018-11-17  29.24411  2018-11-17  40.64436\n",
       "321  2018-11-18  40.39653  2018-11-18  46.34448"
      ]
     },
     "execution_count": 23,
     "metadata": {},
     "output_type": "execute_result"
    }
   ],
   "source": [
    "data2.tail()"
   ]
  },
  {
   "cell_type": "code",
   "execution_count": 24,
   "metadata": {},
   "outputs": [
    {
     "data": {
      "text/plain": [
       "(322, 322)"
      ]
     },
     "execution_count": 24,
     "metadata": {},
     "output_type": "execute_result"
    }
   ],
   "source": [
    "len(data1), len(data2)"
   ]
  },
  {
   "cell_type": "code",
   "execution_count": 25,
   "metadata": {},
   "outputs": [],
   "source": [
    "data1['통합'] = data1[data1.columns[1]] + data1[data1.columns[3]]\n",
    "data2['통합'] = data2[data2.columns[1]] + data2[data2.columns[3]]"
   ]
  },
  {
   "cell_type": "code",
   "execution_count": 26,
   "metadata": {},
   "outputs": [
    {
     "data": {
      "text/html": [
       "<div>\n",
       "<style scoped>\n",
       "    .dataframe tbody tr th:only-of-type {\n",
       "        vertical-align: middle;\n",
       "    }\n",
       "\n",
       "    .dataframe tbody tr th {\n",
       "        vertical-align: top;\n",
       "    }\n",
       "\n",
       "    .dataframe thead th {\n",
       "        text-align: right;\n",
       "    }\n",
       "</style>\n",
       "<table border=\"1\" class=\"dataframe\">\n",
       "  <thead>\n",
       "    <tr style=\"text-align: right;\">\n",
       "      <th></th>\n",
       "      <th>날짜</th>\n",
       "      <th>남북통일</th>\n",
       "      <th>날짜.1</th>\n",
       "      <th>한반도안보</th>\n",
       "      <th>통합</th>\n",
       "    </tr>\n",
       "  </thead>\n",
       "  <tbody>\n",
       "    <tr>\n",
       "      <th>0</th>\n",
       "      <td>2018-01-01</td>\n",
       "      <td>15.61909</td>\n",
       "      <td>2018-01-01</td>\n",
       "      <td>13.13730</td>\n",
       "      <td>28.75639</td>\n",
       "    </tr>\n",
       "    <tr>\n",
       "      <th>1</th>\n",
       "      <td>2018-01-02</td>\n",
       "      <td>27.78527</td>\n",
       "      <td>2018-01-02</td>\n",
       "      <td>12.57081</td>\n",
       "      <td>40.35608</td>\n",
       "    </tr>\n",
       "    <tr>\n",
       "      <th>2</th>\n",
       "      <td>2018-01-03</td>\n",
       "      <td>44.21364</td>\n",
       "      <td>2018-01-03</td>\n",
       "      <td>13.13730</td>\n",
       "      <td>57.35094</td>\n",
       "    </tr>\n",
       "    <tr>\n",
       "      <th>3</th>\n",
       "      <td>2018-01-04</td>\n",
       "      <td>16.02373</td>\n",
       "      <td>2018-01-04</td>\n",
       "      <td>13.27218</td>\n",
       "      <td>29.29591</td>\n",
       "    </tr>\n",
       "    <tr>\n",
       "      <th>4</th>\n",
       "      <td>2018-01-05</td>\n",
       "      <td>100.00000</td>\n",
       "      <td>2018-01-05</td>\n",
       "      <td>11.59967</td>\n",
       "      <td>111.59967</td>\n",
       "    </tr>\n",
       "  </tbody>\n",
       "</table>\n",
       "</div>"
      ],
      "text/plain": [
       "           날짜       남북통일        날짜.1     한반도안보         통합\n",
       "0  2018-01-01   15.61909  2018-01-01  13.13730   28.75639\n",
       "1  2018-01-02   27.78527  2018-01-02  12.57081   40.35608\n",
       "2  2018-01-03   44.21364  2018-01-03  13.13730   57.35094\n",
       "3  2018-01-04   16.02373  2018-01-04  13.27218   29.29591\n",
       "4  2018-01-05  100.00000  2018-01-05  11.59967  111.59967"
      ]
     },
     "execution_count": 26,
     "metadata": {},
     "output_type": "execute_result"
    }
   ],
   "source": [
    "data1.head()"
   ]
  },
  {
   "cell_type": "code",
   "execution_count": 27,
   "metadata": {},
   "outputs": [
    {
     "data": {
      "text/html": [
       "<div>\n",
       "<style scoped>\n",
       "    .dataframe tbody tr th:only-of-type {\n",
       "        vertical-align: middle;\n",
       "    }\n",
       "\n",
       "    .dataframe tbody tr th {\n",
       "        vertical-align: top;\n",
       "    }\n",
       "\n",
       "    .dataframe thead th {\n",
       "        text-align: right;\n",
       "    }\n",
       "</style>\n",
       "<table border=\"1\" class=\"dataframe\">\n",
       "  <thead>\n",
       "    <tr style=\"text-align: right;\">\n",
       "      <th></th>\n",
       "      <th>날짜</th>\n",
       "      <th>남북통일</th>\n",
       "      <th>날짜.1</th>\n",
       "      <th>한반도안보</th>\n",
       "      <th>통합</th>\n",
       "    </tr>\n",
       "  </thead>\n",
       "  <tbody>\n",
       "    <tr>\n",
       "      <th>0</th>\n",
       "      <td>2018-01-01</td>\n",
       "      <td>23.66790</td>\n",
       "      <td>2018-01-01</td>\n",
       "      <td>34.69640</td>\n",
       "      <td>58.36430</td>\n",
       "    </tr>\n",
       "    <tr>\n",
       "      <th>1</th>\n",
       "      <td>2018-01-02</td>\n",
       "      <td>35.06815</td>\n",
       "      <td>2018-01-02</td>\n",
       "      <td>42.25526</td>\n",
       "      <td>77.32341</td>\n",
       "    </tr>\n",
       "    <tr>\n",
       "      <th>2</th>\n",
       "      <td>2018-01-03</td>\n",
       "      <td>38.41387</td>\n",
       "      <td>2018-01-03</td>\n",
       "      <td>50.68153</td>\n",
       "      <td>89.09540</td>\n",
       "    </tr>\n",
       "    <tr>\n",
       "      <th>3</th>\n",
       "      <td>2018-01-04</td>\n",
       "      <td>39.03345</td>\n",
       "      <td>2018-01-04</td>\n",
       "      <td>45.22924</td>\n",
       "      <td>84.26269</td>\n",
       "    </tr>\n",
       "    <tr>\n",
       "      <th>4</th>\n",
       "      <td>2018-01-05</td>\n",
       "      <td>37.42255</td>\n",
       "      <td>2018-01-05</td>\n",
       "      <td>44.48574</td>\n",
       "      <td>81.90829</td>\n",
       "    </tr>\n",
       "  </tbody>\n",
       "</table>\n",
       "</div>"
      ],
      "text/plain": [
       "           날짜      남북통일        날짜.1     한반도안보        통합\n",
       "0  2018-01-01  23.66790  2018-01-01  34.69640  58.36430\n",
       "1  2018-01-02  35.06815  2018-01-02  42.25526  77.32341\n",
       "2  2018-01-03  38.41387  2018-01-03  50.68153  89.09540\n",
       "3  2018-01-04  39.03345  2018-01-04  45.22924  84.26269\n",
       "4  2018-01-05  37.42255  2018-01-05  44.48574  81.90829"
      ]
     },
     "execution_count": 27,
     "metadata": {},
     "output_type": "execute_result"
    }
   ],
   "source": [
    "data2.head()"
   ]
  },
  {
   "cell_type": "code",
   "execution_count": 28,
   "metadata": {},
   "outputs": [],
   "source": [
    "data1['날짜'] = data1['날짜'].apply(lambda x: datetime.datetime.strptime(x, '%Y-%m-%d'))\n",
    "data2['날짜'] = data2['날짜'].apply(lambda x: datetime.datetime.strptime(x, '%Y-%m-%d'))"
   ]
  },
  {
   "cell_type": "code",
   "execution_count": 29,
   "metadata": {},
   "outputs": [
    {
     "data": {
      "text/html": [
       "<div>\n",
       "<style scoped>\n",
       "    .dataframe tbody tr th:only-of-type {\n",
       "        vertical-align: middle;\n",
       "    }\n",
       "\n",
       "    .dataframe tbody tr th {\n",
       "        vertical-align: top;\n",
       "    }\n",
       "\n",
       "    .dataframe thead th {\n",
       "        text-align: right;\n",
       "    }\n",
       "</style>\n",
       "<table border=\"1\" class=\"dataframe\">\n",
       "  <thead>\n",
       "    <tr style=\"text-align: right;\">\n",
       "      <th></th>\n",
       "      <th>날짜</th>\n",
       "      <th>남북통일</th>\n",
       "      <th>날짜.1</th>\n",
       "      <th>한반도안보</th>\n",
       "      <th>통합</th>\n",
       "    </tr>\n",
       "  </thead>\n",
       "  <tbody>\n",
       "    <tr>\n",
       "      <th>0</th>\n",
       "      <td>2018-01-01</td>\n",
       "      <td>23.66790</td>\n",
       "      <td>2018-01-01</td>\n",
       "      <td>34.69640</td>\n",
       "      <td>58.36430</td>\n",
       "    </tr>\n",
       "    <tr>\n",
       "      <th>1</th>\n",
       "      <td>2018-01-02</td>\n",
       "      <td>35.06815</td>\n",
       "      <td>2018-01-02</td>\n",
       "      <td>42.25526</td>\n",
       "      <td>77.32341</td>\n",
       "    </tr>\n",
       "    <tr>\n",
       "      <th>2</th>\n",
       "      <td>2018-01-03</td>\n",
       "      <td>38.41387</td>\n",
       "      <td>2018-01-03</td>\n",
       "      <td>50.68153</td>\n",
       "      <td>89.09540</td>\n",
       "    </tr>\n",
       "    <tr>\n",
       "      <th>3</th>\n",
       "      <td>2018-01-04</td>\n",
       "      <td>39.03345</td>\n",
       "      <td>2018-01-04</td>\n",
       "      <td>45.22924</td>\n",
       "      <td>84.26269</td>\n",
       "    </tr>\n",
       "    <tr>\n",
       "      <th>4</th>\n",
       "      <td>2018-01-05</td>\n",
       "      <td>37.42255</td>\n",
       "      <td>2018-01-05</td>\n",
       "      <td>44.48574</td>\n",
       "      <td>81.90829</td>\n",
       "    </tr>\n",
       "  </tbody>\n",
       "</table>\n",
       "</div>"
      ],
      "text/plain": [
       "          날짜      남북통일        날짜.1     한반도안보        통합\n",
       "0 2018-01-01  23.66790  2018-01-01  34.69640  58.36430\n",
       "1 2018-01-02  35.06815  2018-01-02  42.25526  77.32341\n",
       "2 2018-01-03  38.41387  2018-01-03  50.68153  89.09540\n",
       "3 2018-01-04  39.03345  2018-01-04  45.22924  84.26269\n",
       "4 2018-01-05  37.42255  2018-01-05  44.48574  81.90829"
      ]
     },
     "execution_count": 29,
     "metadata": {},
     "output_type": "execute_result"
    }
   ],
   "source": [
    "data2.head()"
   ]
  },
  {
   "cell_type": "code",
   "execution_count": 30,
   "metadata": {},
   "outputs": [],
   "source": [
    "data1['지수차'] = data1['통합'] - data2['통합']"
   ]
  },
  {
   "cell_type": "code",
   "execution_count": 31,
   "metadata": {},
   "outputs": [
    {
     "data": {
      "text/html": [
       "<div>\n",
       "<style scoped>\n",
       "    .dataframe tbody tr th:only-of-type {\n",
       "        vertical-align: middle;\n",
       "    }\n",
       "\n",
       "    .dataframe tbody tr th {\n",
       "        vertical-align: top;\n",
       "    }\n",
       "\n",
       "    .dataframe thead th {\n",
       "        text-align: right;\n",
       "    }\n",
       "</style>\n",
       "<table border=\"1\" class=\"dataframe\">\n",
       "  <thead>\n",
       "    <tr style=\"text-align: right;\">\n",
       "      <th></th>\n",
       "      <th>날짜</th>\n",
       "      <th>남북통일</th>\n",
       "      <th>날짜.1</th>\n",
       "      <th>한반도안보</th>\n",
       "      <th>통합</th>\n",
       "      <th>지수차</th>\n",
       "    </tr>\n",
       "  </thead>\n",
       "  <tbody>\n",
       "    <tr>\n",
       "      <th>317</th>\n",
       "      <td>2018-11-14</td>\n",
       "      <td>14.18937</td>\n",
       "      <td>2018-11-14</td>\n",
       "      <td>18.28972</td>\n",
       "      <td>32.47909</td>\n",
       "      <td>-71.73403</td>\n",
       "    </tr>\n",
       "    <tr>\n",
       "      <th>318</th>\n",
       "      <td>2018-11-15</td>\n",
       "      <td>11.81548</td>\n",
       "      <td>2018-11-15</td>\n",
       "      <td>16.64418</td>\n",
       "      <td>28.45966</td>\n",
       "      <td>-72.03599</td>\n",
       "    </tr>\n",
       "    <tr>\n",
       "      <th>319</th>\n",
       "      <td>2018-11-16</td>\n",
       "      <td>11.68060</td>\n",
       "      <td>2018-11-16</td>\n",
       "      <td>15.83490</td>\n",
       "      <td>27.51550</td>\n",
       "      <td>-55.87979</td>\n",
       "    </tr>\n",
       "    <tr>\n",
       "      <th>320</th>\n",
       "      <td>2018-11-17</td>\n",
       "      <td>10.19692</td>\n",
       "      <td>2018-11-17</td>\n",
       "      <td>11.08713</td>\n",
       "      <td>21.28405</td>\n",
       "      <td>-48.60442</td>\n",
       "    </tr>\n",
       "    <tr>\n",
       "      <th>321</th>\n",
       "      <td>2018-11-18</td>\n",
       "      <td>12.00431</td>\n",
       "      <td>2018-11-18</td>\n",
       "      <td>14.70191</td>\n",
       "      <td>26.70622</td>\n",
       "      <td>-60.03479</td>\n",
       "    </tr>\n",
       "  </tbody>\n",
       "</table>\n",
       "</div>"
      ],
      "text/plain": [
       "            날짜      남북통일        날짜.1     한반도안보        통합       지수차\n",
       "317 2018-11-14  14.18937  2018-11-14  18.28972  32.47909 -71.73403\n",
       "318 2018-11-15  11.81548  2018-11-15  16.64418  28.45966 -72.03599\n",
       "319 2018-11-16  11.68060  2018-11-16  15.83490  27.51550 -55.87979\n",
       "320 2018-11-17  10.19692  2018-11-17  11.08713  21.28405 -48.60442\n",
       "321 2018-11-18  12.00431  2018-11-18  14.70191  26.70622 -60.03479"
      ]
     },
     "execution_count": 31,
     "metadata": {},
     "output_type": "execute_result"
    }
   ],
   "source": [
    "data1.tail()"
   ]
  },
  {
   "cell_type": "code",
   "execution_count": 32,
   "metadata": {},
   "outputs": [
    {
     "data": {
      "image/png": "[encoded data removed]",
      "text/plain": [
       "<Figure size 576x288 with 1 Axes>"
      ]
     },
     "metadata": {},
     "output_type": "display_data"
    }
   ],
   "source": [
    "plt.figure(figsize=(8,4))\n",
    "plt.plot(data1['날짜'], data1[data1.columns[1]], label='긍정')\n",
    "plt.plot(data2['날짜'], data2[data2.columns[1]], label='부정')\n",
    "plt.title(data1.columns[1])\n",
    "plt.legend()\n",
    "plt.show()"
   ]
  },
  {
   "cell_type": "code",
   "execution_count": 33,
   "metadata": {},
   "outputs": [
    {
     "data": {
      "image/png": "[encoded data removed]",
      "text/plain": [
       "<Figure size 576x288 with 1 Axes>"
      ]
     },
     "metadata": {},
     "output_type": "display_data"
    }
   ],
   "source": [
    "plt.figure(figsize=(8,4))\n",
    "plt.plot(data1['날짜'], data1[data1.columns[3]], label='긍정')\n",
    "plt.plot(data2['날짜'], data2[data2.columns[3]], label='부정')\n",
    "plt.title(data1.columns[3])\n",
    "plt.legend()\n",
    "plt.show()"
   ]
  },
  {
   "cell_type": "code",
   "execution_count": 34,
   "metadata": {},
   "outputs": [
    {
     "data": {
      "image/png": "[encoded data removed]",
      "text/plain": [
       "<Figure size 576x288 with 1 Axes>"
      ]
     },
     "metadata": {},
     "output_type": "display_data"
    }
   ],
   "source": [
    "plt_1 = plt.figure(figsize=(8,4))\n",
    "plt.plot(data1['날짜'], data1[data1.columns[4]], label='긍정')\n",
    "plt.plot(data2['날짜'], data2[data2.columns[4]], label='부정')\n",
    "plt.title(data1.columns[4])\n",
    "plt.legend()\n",
    "plt.show()"
   ]
  },
  {
   "cell_type": "code",
   "execution_count": 35,
   "metadata": {},
   "outputs": [],
   "source": [
    "plt_1.savefig(r'./images/datalab_%s_1.png' %thema, format='png')"
   ]
  },
  {
   "cell_type": "code",
   "execution_count": 36,
   "metadata": {},
   "outputs": [
    {
     "data": {
      "image/png": "[encoded data removed]",
      "text/plain": [
       "<Figure size 576x288 with 1 Axes>"
      ]
     },
     "metadata": {},
     "output_type": "display_data"
    }
   ],
   "source": [
    "plt_2 = plt.figure(figsize=(8,4))\n",
    "plt.plot(data1['날짜'], data1[data1.columns[5]], 'c', label='점수')\n",
    "plt.title(data1.columns[5])\n",
    "plt.legend()\n",
    "plt.show()"
   ]
  },
  {
   "cell_type": "code",
   "execution_count": 37,
   "metadata": {},
   "outputs": [],
   "source": [
    "plt_2.savefig(r'./images/datalab_%s_2.png' %thema, format='png')"
   ]
  },
  {
   "cell_type": "code",
   "execution_count": 38,
   "metadata": {},
   "outputs": [
    {
     "data": {
      "text/html": [
       "<div>\n",
       "<style scoped>\n",
       "    .dataframe tbody tr th:only-of-type {\n",
       "        vertical-align: middle;\n",
       "    }\n",
       "\n",
       "    .dataframe tbody tr th {\n",
       "        vertical-align: top;\n",
       "    }\n",
       "\n",
       "    .dataframe thead th {\n",
       "        text-align: right;\n",
       "    }\n",
       "</style>\n",
       "<table border=\"1\" class=\"dataframe\">\n",
       "  <thead>\n",
       "    <tr style=\"text-align: right;\">\n",
       "      <th></th>\n",
       "      <th>날짜</th>\n",
       "      <th>남북통일</th>\n",
       "      <th>날짜.1</th>\n",
       "      <th>한반도안보</th>\n",
       "      <th>통합</th>\n",
       "      <th>지수차</th>\n",
       "    </tr>\n",
       "  </thead>\n",
       "  <tbody>\n",
       "    <tr>\n",
       "      <th>0</th>\n",
       "      <td>2018-01-01</td>\n",
       "      <td>15.61909</td>\n",
       "      <td>2018-01-01</td>\n",
       "      <td>13.13730</td>\n",
       "      <td>28.75639</td>\n",
       "      <td>-29.60791</td>\n",
       "    </tr>\n",
       "    <tr>\n",
       "      <th>1</th>\n",
       "      <td>2018-01-02</td>\n",
       "      <td>27.78527</td>\n",
       "      <td>2018-01-02</td>\n",
       "      <td>12.57081</td>\n",
       "      <td>40.35608</td>\n",
       "      <td>-36.96733</td>\n",
       "    </tr>\n",
       "    <tr>\n",
       "      <th>2</th>\n",
       "      <td>2018-01-03</td>\n",
       "      <td>44.21364</td>\n",
       "      <td>2018-01-03</td>\n",
       "      <td>13.13730</td>\n",
       "      <td>57.35094</td>\n",
       "      <td>-31.74446</td>\n",
       "    </tr>\n",
       "    <tr>\n",
       "      <th>3</th>\n",
       "      <td>2018-01-04</td>\n",
       "      <td>16.02373</td>\n",
       "      <td>2018-01-04</td>\n",
       "      <td>13.27218</td>\n",
       "      <td>29.29591</td>\n",
       "      <td>-54.96678</td>\n",
       "    </tr>\n",
       "    <tr>\n",
       "      <th>4</th>\n",
       "      <td>2018-01-05</td>\n",
       "      <td>100.00000</td>\n",
       "      <td>2018-01-05</td>\n",
       "      <td>11.59967</td>\n",
       "      <td>111.59967</td>\n",
       "      <td>29.69138</td>\n",
       "    </tr>\n",
       "  </tbody>\n",
       "</table>\n",
       "</div>"
      ],
      "text/plain": [
       "          날짜       남북통일        날짜.1     한반도안보         통합       지수차\n",
       "0 2018-01-01   15.61909  2018-01-01  13.13730   28.75639 -29.60791\n",
       "1 2018-01-02   27.78527  2018-01-02  12.57081   40.35608 -36.96733\n",
       "2 2018-01-03   44.21364  2018-01-03  13.13730   57.35094 -31.74446\n",
       "3 2018-01-04   16.02373  2018-01-04  13.27218   29.29591 -54.96678\n",
       "4 2018-01-05  100.00000  2018-01-05  11.59967  111.59967  29.69138"
      ]
     },
     "execution_count": 38,
     "metadata": {},
     "output_type": "execute_result"
    }
   ],
   "source": [
    "data1.head()"
   ]
  },
  {
   "cell_type": "code",
   "execution_count": 39,
   "metadata": {},
   "outputs": [
    {
     "name": "stdout",
     "output_type": "stream",
     "text": [
      "./TeamMission/datalab_%s_1_3.csv 파일을 생성했습니다.\n"
     ]
    }
   ],
   "source": [
    "data1.to_csv('./TeamMission/datalab_%s_1_3.csv' %thema, sep=',', encoding='UTF-8')\n",
    "print('./TeamMission/datalab_%s_1_3.csv 파일을 생성했습니다.')"
   ]
  },
  {
   "cell_type": "markdown",
   "metadata": {},
   "source": [
    "#### 지수차 그래프 그리기"
   ]
  },
  {
   "cell_type": "code",
   "execution_count": 40,
   "metadata": {},
   "outputs": [],
   "source": [
    "data1 = pd.read_csv('./TeamMission/datalab_36_1_3.csv')\n",
    "data2 = pd.read_csv('./TeamMission/datalab_37_1_3.csv')\n",
    "data3 = pd.read_csv('./TeamMission/datalab_49_1_3.csv')"
   ]
  },
  {
   "cell_type": "code",
   "execution_count": 41,
   "metadata": {},
   "outputs": [
    {
     "data": {
      "image/png": "[encoded data removed]",
      "text/plain": [
       "<Figure size 576x288 with 1 Axes>"
      ]
     },
     "metadata": {},
     "output_type": "display_data"
    }
   ],
   "source": [
    "plt_1 = plt.figure(figsize=(8,4))\n",
    "plt.plot(data1['날짜'], data1[data1.columns[6]], label='정치')\n",
    "plt.plot(data2['날짜'], data2[data2.columns[6]], label='경제')\n",
    "plt.plot(data3['날짜'], data3[data3.columns[6]], label='사회')\n",
    "plt.title(data1.columns[6])\n",
    "plt.legend()\n",
    "plt.show()"
   ]
  },
  {
   "cell_type": "code",
   "execution_count": 42,
   "metadata": {},
   "outputs": [],
   "source": [
    "plt_2.savefig(r'./images/datalab_%s_3.png' %thema, format='png')"
   ]
  },
  {
   "cell_type": "markdown",
   "metadata": {},
   "source": [
    "### 점수화"
   ]
  },
  {
   "cell_type": "markdown",
   "metadata": {},
   "source": [
    "##### 점수지표\n",
    "- 청원 점수 : 25%\n",
    "- 네이버랩 검색지수 : 25%\n",
    "- 정량지표(목표달성도) : 50%"
   ]
  },
  {
   "cell_type": "markdown",
   "metadata": {},
   "source": [
    "#### 청원 점수"
   ]
  },
  {
   "cell_type": "code",
   "execution_count": 43,
   "metadata": {},
   "outputs": [
    {
     "data": {
      "text/plain": [
       "(20199, 17473, 22895)"
      ]
     },
     "execution_count": 43,
     "metadata": {},
     "output_type": "execute_result"
    }
   ],
   "source": [
    "len(president_36_3), len(president_37_3), len(president_49_3)"
   ]
  },
  {
   "cell_type": "code",
   "execution_count": 44,
   "metadata": {},
   "outputs": [
    {
     "data": {
      "text/plain": [
       "(3088617, 734551, 9391430)"
      ]
     },
     "execution_count": 44,
     "metadata": {},
     "output_type": "execute_result"
    }
   ],
   "source": [
    "sum_count_36, sum_count_37, sum_count_49"
   ]
  },
  {
   "cell_type": "markdown",
   "metadata": {},
   "source": [
    "#### 네이버랩 검색지수(평균)"
   ]
  },
  {
   "cell_type": "code",
   "execution_count": 45,
   "metadata": {},
   "outputs": [
    {
     "data": {
      "text/plain": [
       "(-59.178, -75.999, -6.988)"
      ]
     },
     "execution_count": 45,
     "metadata": {},
     "output_type": "execute_result"
    }
   ],
   "source": [
    "round(sum(data1[data1.columns[6]]) / len(data1[data1.columns[6]]), 3), round(sum(data2[data2.columns[6]]) / len(data2[data2.columns[6]]),3), round(sum(data3[data3.columns[6]]) / len(data3[data3.columns[6]]), 3)"
   ]
  },
  {
   "cell_type": "markdown",
   "metadata": {},
   "source": [
    "#### 정량지표(목표달성도)"
   ]
  },
  {
   "cell_type": "markdown",
   "metadata": {},
   "source": [
    "2018년 예산안 중 실제 이행예정 중이였던 정책들과\n",
    "2018년도 실제 수행된 정책들을 비교해서 점수화\n",
    "\n",
    "cf) 2018년 기획재정부 정책 예산안.pdf 참고"
   ]
  },
  {
   "cell_type": "markdown",
   "metadata": {},
   "source": [
    "- 정치 : -10점\n",
    "- 경제 : -30점\n",
    "- 사회 : -20점"
   ]
  },
  {
   "cell_type": "markdown",
   "metadata": {},
   "source": [
    "### 총평"
   ]
  },
  {
   "cell_type": "markdown",
   "metadata": {},
   "source": [
    "정치 : 100 - (6.3 + 10.25 + 5)\n",
    "\n",
    "경제 : 100 - (1.75 + 13.25 + 15)\n",
    "\n",
    "사회 : 100 - (16.95 + 1.5 + 10)"
   ]
  },
  {
   "cell_type": "code",
   "execution_count": 50,
   "metadata": {},
   "outputs": [
    {
     "data": {
      "text/plain": [
       "78.45"
      ]
     },
     "execution_count": 50,
     "metadata": {},
     "output_type": "execute_result"
    }
   ],
   "source": [
    "100 - (6.3 + 10.25 + 5)"
   ]
  },
  {
   "cell_type": "code",
   "execution_count": 52,
   "metadata": {},
   "outputs": [
    {
     "data": {
      "text/plain": [
       "70.0"
      ]
     },
     "execution_count": 52,
     "metadata": {},
     "output_type": "execute_result"
    }
   ],
   "source": [
    "100 - (1.75 + 13.25 + 15)"
   ]
  },
  {
   "cell_type": "code",
   "execution_count": 53,
   "metadata": {},
   "outputs": [
    {
     "data": {
      "text/plain": [
       "71.55"
      ]
     },
     "execution_count": 53,
     "metadata": {},
     "output_type": "execute_result"
    }
   ],
   "source": [
    "100 - (16.95 + 1.5 + 10)"
   ]
  },
  {
   "cell_type": "code",
   "execution_count": 54,
   "metadata": {},
   "outputs": [
    {
     "data": {
      "text/plain": [
       "73.33333333333333"
      ]
     },
     "execution_count": 54,
     "metadata": {},
     "output_type": "execute_result"
    }
   ],
   "source": [
    "(78.45+70.0+71.55)/3"
   ]
  },
  {
   "cell_type": "markdown",
   "metadata": {},
   "source": [
    "끝~"
   ]
  },
  {
   "cell_type": "code",
   "execution_count": null,
   "metadata": {},
   "outputs": [],
   "source": []
  }
 ],
 "metadata": {
  "kernelspec": {
   "display_name": "Python 3",
   "language": "python",
   "name": "python3"
  },
  "language_info": {
   "codemirror_mode": {
    "name": "ipython",
    "version": 3
   },
   "file_extension": ".py",
   "mimetype": "text/x-python",
   "name": "python",
   "nbconvert_exporter": "python",
   "pygments_lexer": "ipython3",
   "version": "3.6.5"
  }
 },
 "nbformat": 4,
 "nbformat_minor": 2
}
