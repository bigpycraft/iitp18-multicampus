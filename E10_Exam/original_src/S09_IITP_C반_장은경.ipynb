{
 "cells": [
  {
   "cell_type": "markdown",
   "metadata": {},
   "source": [
    "# 실습1. 데이터 타입에 대한 이해\n",
    "* 2 ** 1000의 각 자리수를 모두 더하면 얼마?"
   ]
  },
  {
   "cell_type": "code",
   "execution_count": 51,
   "metadata": {},
   "outputs": [
    {
     "name": "stdout",
     "output_type": "stream",
     "text": [
      "1366\n"
     ]
    }
   ],
   "source": [
    "a = 2 ** 1000\n",
    "result = int()\n",
    "\n",
    "for num in str(a):\n",
    "    result += int(num)\n",
    "print(result)"
   ]
  },
  {
   "cell_type": "markdown",
   "metadata": {},
   "source": [
    "# 실습2. 로또번호를 주문하는 클래스(Class Lotto)\n",
    "* 로또는 1~10까지 주문 가능\n",
    "* 6개의 숫자로 된 로또는 오름차순 정렬\n",
    "* 주문한 개수만큼의 일련번호를 달아 로또 번호 출력\n",
    "* OOP 기반으로 클래스에 메소드를 최대한 모듈화\n"
   ]
  },
  {
   "cell_type": "code",
   "execution_count": 105,
   "metadata": {},
   "outputs": [
    {
     "name": "stdout",
     "output_type": "stream",
     "text": [
      "숫자 5 를 입력하셨군요! \n"
     ]
    },
    {
     "data": {
      "text/plain": [
       "[[3, 23, 23, 26, 35, 37],\n",
       " [1, 15, 23, 37, 43, 44],\n",
       " [8, 13, 18, 19, 27, 32],\n",
       " [4, 9, 34, 38, 39, 40],\n",
       " [7, 11, 14, 16, 25, 30]]"
      ]
     },
     "execution_count": 105,
     "metadata": {},
     "output_type": "execute_result"
    }
   ],
   "source": [
    "import random\n",
    "\n",
    "class WrongNumError(Exception):\n",
    "    def __init__(self, val):\n",
    "        self.val = val\n",
    "    def __str__(self):\n",
    "        return '{} 말고 1에서 10 사이의 수를 입력하세요! '.format(self.val)\n",
    "    \n",
    "class Lotto:\n",
    "    lotto = []\n",
    "    n = int()\n",
    "    \n",
    "    def getLotto(self):\n",
    "        if self.n > 10 or self.n <1:\n",
    "            raise WrongNumError(self.n)\n",
    "        print('숫자 {} 를 입력하셨군요! '.format(self.n))\n",
    "        \n",
    "        result = []\n",
    "        for i in range(self.n):\n",
    "            self.lotto = []\n",
    "            for j in range(6):\n",
    "                self.lotto.append(random.randint(1, 45))\n",
    "            self.lotto = sorted(self.lotto)\n",
    "            result.append(self.lotto)\n",
    "            \n",
    "        return result\n",
    "\n",
    "test = Lotto()       # 인스턴스 생성\n",
    "test.n = 5           # 속성값 셋팅\n",
    "test.getLotto()      # 메소드 호출\n"
   ]
  },
  {
   "cell_type": "code",
   "execution_count": 108,
   "metadata": {},
   "outputs": [
    {
     "ename": "WrongNumError",
     "evalue": "0 말고 1에서 10 사이의 수를 입력하세요! ",
     "output_type": "error",
     "traceback": [
      "\u001b[1;31m---------------------------------------------------------------------------\u001b[0m",
      "\u001b[1;31mWrongNumError\u001b[0m                             Traceback (most recent call last)",
      "\u001b[1;32m<ipython-input-108-f7bc61b9b7f2>\u001b[0m in \u001b[0;36m<module>\u001b[1;34m()\u001b[0m\n\u001b[0;32m      1\u001b[0m \u001b[0mtest\u001b[0m \u001b[1;33m=\u001b[0m \u001b[0mLotto\u001b[0m\u001b[1;33m(\u001b[0m\u001b[1;33m)\u001b[0m   \u001b[1;31m# 인스턴스 생성\u001b[0m\u001b[1;33m\u001b[0m\u001b[0m\n\u001b[0;32m      2\u001b[0m \u001b[0mtest\u001b[0m\u001b[1;33m.\u001b[0m\u001b[0mn\u001b[0m \u001b[1;33m=\u001b[0m \u001b[1;36m0\u001b[0m \u001b[1;31m# 맞지 않는 속성값 셋팅\u001b[0m\u001b[1;33m\u001b[0m\u001b[0m\n\u001b[1;32m----> 3\u001b[1;33m \u001b[0mtest\u001b[0m\u001b[1;33m.\u001b[0m\u001b[0mgetLotto\u001b[0m\u001b[1;33m(\u001b[0m\u001b[1;33m)\u001b[0m      \u001b[1;31m# 메소드 호출\u001b[0m\u001b[1;33m\u001b[0m\u001b[0m\n\u001b[0m",
      "\u001b[1;32m<ipython-input-105-589a1a693dca>\u001b[0m in \u001b[0;36mgetLotto\u001b[1;34m(self)\u001b[0m\n\u001b[0;32m     13\u001b[0m     \u001b[1;32mdef\u001b[0m \u001b[0mgetLotto\u001b[0m\u001b[1;33m(\u001b[0m\u001b[0mself\u001b[0m\u001b[1;33m)\u001b[0m\u001b[1;33m:\u001b[0m\u001b[1;33m\u001b[0m\u001b[0m\n\u001b[0;32m     14\u001b[0m         \u001b[1;32mif\u001b[0m \u001b[0mself\u001b[0m\u001b[1;33m.\u001b[0m\u001b[0mn\u001b[0m \u001b[1;33m>\u001b[0m \u001b[1;36m10\u001b[0m \u001b[1;32mor\u001b[0m \u001b[0mself\u001b[0m\u001b[1;33m.\u001b[0m\u001b[0mn\u001b[0m \u001b[1;33m<\u001b[0m\u001b[1;36m1\u001b[0m\u001b[1;33m:\u001b[0m\u001b[1;33m\u001b[0m\u001b[0m\n\u001b[1;32m---> 15\u001b[1;33m             \u001b[1;32mraise\u001b[0m \u001b[0mWrongNumError\u001b[0m\u001b[1;33m(\u001b[0m\u001b[0mself\u001b[0m\u001b[1;33m.\u001b[0m\u001b[0mn\u001b[0m\u001b[1;33m)\u001b[0m\u001b[1;33m\u001b[0m\u001b[0m\n\u001b[0m\u001b[0;32m     16\u001b[0m         \u001b[0mprint\u001b[0m\u001b[1;33m(\u001b[0m\u001b[1;34m'숫자 {} 를 입력하셨군요! '\u001b[0m\u001b[1;33m.\u001b[0m\u001b[0mformat\u001b[0m\u001b[1;33m(\u001b[0m\u001b[0mself\u001b[0m\u001b[1;33m.\u001b[0m\u001b[0mn\u001b[0m\u001b[1;33m)\u001b[0m\u001b[1;33m)\u001b[0m\u001b[1;33m\u001b[0m\u001b[0m\n\u001b[0;32m     17\u001b[0m \u001b[1;33m\u001b[0m\u001b[0m\n",
      "\u001b[1;31mWrongNumError\u001b[0m: 0 말고 1에서 10 사이의 수를 입력하세요! "
     ]
    }
   ],
   "source": [
    "test = Lotto()   # 인스턴스 생성\n",
    "test.n = 0 # 맞지 않는 속성값 셋팅\n",
    "test.getLotto()      # 메소드 호출"
   ]
  },
  {
   "cell_type": "markdown",
   "metadata": {},
   "source": [
    "# 실습3. 특정기념일로부터 얼마나 경과되었는지 알려주는 함수\n",
    "* 1000마다 (,) 붙이기\n",
    "* 구현할 함수 옵션: \n",
    "    from datetime import datetime\n",
    "    def getMemorialDay(year, month, day, mem_day = '기념일', is_msg = True):\n",
    "        return remain_year, remain_month, remain_day\n",
    "* getMemorialDay(2014, 4, 16, '세월호 사고일'):\n",
    "    - '오늘은 {}로부터 {}일 경과되었고, 달 수로는 {}개월 째, 연수로는 {}년 째 되었습니다!'.format(mem_day, remain_day, remain_month, remain_year)\n",
    "    \n",
    "    \n",
    "* _y, _m, elapsed_day = getMemorialDay(2018, 12, 25, '크리스마스', False):\n",
    "    - '크리스마스까지는 {}일이 남았습니다!'.format(- elapsed_day)"
   ]
  },
  {
   "cell_type": "code",
   "execution_count": 110,
   "metadata": {},
   "outputs": [
    {
     "name": "stdout",
     "output_type": "stream",
     "text": [
      "오늘은 기념일로부터 1,659일 경과되었고, 달 수로는 55개월 째, 연수로는 4년 째 되었습니다!\n"
     ]
    },
    {
     "data": {
      "text/plain": [
       "(4, 55, '1,659')"
      ]
     },
     "execution_count": 110,
     "metadata": {},
     "output_type": "execute_result"
    }
   ],
   "source": [
    "from datetime import datetime \n",
    "\n",
    "#1000마다 (,) 찍어주기\n",
    "def comma(num):\n",
    "    r_num = str(num)[::-1]\n",
    "    result = ''\n",
    "    for idx in range(len(r_num)):\n",
    "        if idx % 3 == 0 and idx != 0:\n",
    "            result += ','\n",
    "        result += r_num[idx]\n",
    "    \n",
    "    return result[::-1]\n",
    "\n",
    "\n",
    "# 일, 월, 연수 세기      \n",
    "def getMemorialDay(year, month, day, mem_day = '기념일', is_msg = True):\n",
    "    elapsed = datetime.today() - datetime(year, month, day)\n",
    "    elapsed_day = elapsed.days\n",
    "    elapsed_month = int(elapsed_day/30)\n",
    "    elapsed_year = int(elapsed_day/365)\n",
    "    #콤마 함수 써주기\n",
    "    if elapsed_day >= 1000:\n",
    "        elapsed_day = comma(elapsed_day)\n",
    "    # 메세지 설정해주기\n",
    "    if is_msg:\n",
    "        print('오늘은 {}로부터 {}일 경과되었고, 달 수로는 {}개월 째, 연수로는 {}년 째 되었습니다!'.format(mem_day, elapsed_day, elapsed_month, elapsed_year))\n",
    "    \n",
    "    return elapsed_year, elapsed_month, elapsed_day\n",
    "\n",
    "\n",
    "getMemorialDay(2014, 4, 16)"
   ]
  },
  {
   "cell_type": "code",
   "execution_count": 48,
   "metadata": {},
   "outputs": [
    {
     "data": {
      "text/plain": [
       "'크리스마스까지는 55일이 남았습니다!'"
      ]
     },
     "execution_count": 48,
     "metadata": {},
     "output_type": "execute_result"
    }
   ],
   "source": [
    "_y, _m, elapsed_day = getMemorialDay(2018, 12, 25, '크리스마스', False)\n",
    "\n",
    "'크리스마스까지는 {}일이 남았습니다!'.format(- elapsed_day)"
   ]
  },
  {
   "cell_type": "markdown",
   "metadata": {},
   "source": [
    "# 실습4. reduce를 사용하여 히스토그램(histogram) 함수를 작성\n",
    "* animals = [\"cat\", \"cat\", \"cat\", \"sheep\", \"sheep\", \"duck\", \"duck\", \"duck\", \"duck\" ]\n",
    "* input: {'cat': 3, 'duck': 4, 'sheep': 2} --> 그림으로!"
   ]
  },
  {
   "cell_type": "code",
   "execution_count": 97,
   "metadata": {},
   "outputs": [
    {
     "name": "stdout",
     "output_type": "stream",
     "text": [
      "cat    ===\n",
      "sheep  ==\n",
      "duck   ====\n"
     ]
    }
   ],
   "source": [
    "from functools import *\n",
    "# 딕셔너리에 개수별로 숫자를 더해줄 함수\n",
    "def countN(dic, animal):\n",
    "    if animal not in dic:\n",
    "        dic[animal] = 1\n",
    "    else:\n",
    "        dic[animal] += 1\n",
    "    return dic\n",
    "\n",
    "#히스토그램을 그리자!\n",
    "def draw_histogram(data):   \n",
    "    #먼저 countN 함수를 reduce로 돌려서 빈도수 딕셔너리를 만들어준다\n",
    "    dic = reduce(countN, data, {})\n",
    "    \n",
    "    #key값의 문자열 길이 중 가장 긴 문자열 찾기\n",
    "    key_l = []\n",
    "    for key in dic:\n",
    "        key_l.append(len(key))\n",
    "        max_l = max(key_l)\n",
    "    #히스토그램 그리기\n",
    "    for key, value in dic.items():\n",
    "        print(key, \" \"*(max_l - len(key)), \"=\"* value)\n",
    "\n",
    "animals = [\"cat\", \"cat\", \"cat\",\"sheep\", \"sheep\", \"duck\", \"duck\", \"duck\", \"duck\"]              \n",
    "draw_histogram(animals)"
   ]
  },
  {
   "cell_type": "code",
   "execution_count": null,
   "metadata": {},
   "outputs": [],
   "source": [
    "\n"
   ]
  },
  {
   "cell_type": "code",
   "execution_count": null,
   "metadata": {},
   "outputs": [],
   "source": []
  },
  {
   "cell_type": "code",
   "execution_count": null,
   "metadata": {},
   "outputs": [],
   "source": []
  },
  {
   "cell_type": "code",
   "execution_count": null,
   "metadata": {},
   "outputs": [],
   "source": []
  },
  {
   "cell_type": "code",
   "execution_count": null,
   "metadata": {},
   "outputs": [],
   "source": []
  },
  {
   "cell_type": "code",
   "execution_count": null,
   "metadata": {},
   "outputs": [],
   "source": []
  },
  {
   "cell_type": "code",
   "execution_count": null,
   "metadata": {},
   "outputs": [],
   "source": []
  },
  {
   "cell_type": "code",
   "execution_count": null,
   "metadata": {},
   "outputs": [],
   "source": []
  },
  {
   "cell_type": "code",
   "execution_count": null,
   "metadata": {},
   "outputs": [],
   "source": []
  },
  {
   "cell_type": "code",
   "execution_count": null,
   "metadata": {},
   "outputs": [],
   "source": []
  },
  {
   "cell_type": "code",
   "execution_count": null,
   "metadata": {},
   "outputs": [],
   "source": []
  }
 ],
 "metadata": {
  "kernelspec": {
   "display_name": "Python 3",
   "language": "python",
   "name": "python3"
  },
  "language_info": {
   "codemirror_mode": {
    "name": "ipython",
    "version": 3
   },
   "file_extension": ".py",
   "mimetype": "text/x-python",
   "name": "python",
   "nbconvert_exporter": "python",
   "pygments_lexer": "ipython3",
   "version": "3.6.5"
  }
 },
 "nbformat": 4,
 "nbformat_minor": 2
}
