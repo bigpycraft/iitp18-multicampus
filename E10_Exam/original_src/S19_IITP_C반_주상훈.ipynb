{
 "cells": [
  {
   "cell_type": "markdown",
   "metadata": {},
   "source": [
    "## 문제 1"
   ]
  },
  {
   "cell_type": "code",
   "execution_count": 1,
   "metadata": {},
   "outputs": [
    {
     "name": "stdout",
     "output_type": "stream",
     "text": [
      "1366\n"
     ]
    }
   ],
   "source": [
    "def test1_multiply(x) :\n",
    "    plus = 0\n",
    "    for i in list(str(2**x)) :\n",
    "        plus = plus + int(i)\n",
    "    print(plus)\n",
    "\n",
    "if __name__ == \"__main__\" :\n",
    "    test1_multiply(1000)\n"
   ]
  },
  {
   "cell_type": "markdown",
   "metadata": {},
   "source": [
    "## 문제 2"
   ]
  },
  {
   "cell_type": "code",
   "execution_count": 2,
   "metadata": {},
   "outputs": [
    {
     "name": "stdout",
     "output_type": "stream",
     "text": [
      "로또를 주문하시려면 아무 키를 눌러주십시오(끝내시려면 \"end\"를 입력해주십시오) : end\n",
      "종료합니다. 로또값을 출력합니다.\n"
     ]
    }
   ],
   "source": [
    "class Lotto() :\n",
    "    def __init__(self, count, numbers):\n",
    "        self.count = count\n",
    "        self.numbers = numbers\n",
    "        self.numbers.sort()\n",
    "\n",
    "    def LottoPrint(self):\n",
    "        print(\"{}번째 로또 입력 값은 {}입니다. \\n\".format(self.count, self.numbers))\n",
    "\n",
    "class lottoController() :\n",
    "    lotto_List = []\n",
    "    def __init__(self):\n",
    "\n",
    "        return\n",
    "\n",
    "    def record(self, count, numbers):\n",
    "        lotto = Lotto(count, numbers)\n",
    "        self.lotto_List.append(lotto)\n",
    "        return\n",
    "\n",
    "    def lottoControllerPrint(self):\n",
    "        for lotto in self.lotto_List :\n",
    "            lotto.LottoPrint()\n",
    "\n",
    "class lottoView() :\n",
    "    def __init__(self):\n",
    "        self.lottocontroller = lottoController()\n",
    "        self.input()\n",
    "        return\n",
    "\n",
    "    def input(self) :\n",
    "        self.count = 1\n",
    "        self.flag = input(\"로또를 주문하시려면 아무 키를 눌러주십시오(끝내시려면 \\\"end\\\"를 입력해주십시오) : \")\n",
    "        while(self.count <= 10 and self.flag != 'end') :\n",
    "            self.numbers = []\n",
    "            for i in range(6) :\n",
    "                self.lottoOrder = input(\"[{}]값을 입력해주세요 : \".format(i+1))\n",
    "                self.numbers.append(int(self.lottoOrder))\n",
    "            self.lottocontroller.record(self.count, self.numbers)\n",
    "            self.count += 1\n",
    "            self.flag = input(\"로또를 주문하시려면 아무 키를 눌러주십시오(끝내시려면 \\\"end\\\"를 입력해주십시오) : \")\n",
    "\n",
    "        print(\"종료합니다. 로또값을 출력합니다.\")\n",
    "\n",
    "        self.lottocontroller.lottoControllerPrint()\n",
    "\n",
    "\n",
    "\n",
    "if __name__ == \"__main__\" :\n",
    "    lottoview = lottoView()"
   ]
  },
  {
   "cell_type": "markdown",
   "metadata": {},
   "source": [
    "## 문제3"
   ]
  },
  {
   "cell_type": "code",
   "execution_count": 3,
   "metadata": {},
   "outputs": [
    {
     "name": "stdout",
     "output_type": "stream",
     "text": [
      "기념일 계산 프로그램에 오신 것을 환영합니다!\n",
      "기념일을 입력해주세요(yyyy-mm-dd) : 2018-05-05\n",
      "기념일명을 입력해주세요(ex. \"태어난 날\") : ㅁ\n",
      "오늘은 \"ㅁ\"로부터 연 수는 0년, 달 수는 6개월, 일 수는 181일이 경과되었습니다!\n"
     ]
    }
   ],
   "source": [
    "from datetime import datetime\n",
    "\n",
    "class dateView :\n",
    "    today = datetime.now()\n",
    "    tmp = []\n",
    "\n",
    "    def __init__(self):\n",
    "        self.input()\n",
    "\n",
    "    def input(self):\n",
    "        print(\"기념일 계산 프로그램에 오신 것을 환영합니다!\")\n",
    "        self.mDayInput = input(\"기념일을 입력해주세요(yyyy-mm-dd) : \")\n",
    "        self.mem_day = input(\"기념일명을 입력해주세요(ex. \\\"태어난 날\\\") : \")\n",
    "\n",
    "        self.mDaySplit = self.mDayInput.split(\"-\")\n",
    "        self.year = self.mDaySplit[0]\n",
    "        self.month = self.mDaySplit[1]\n",
    "        self.day = self.mDaySplit[2]\n",
    "\n",
    "        self.mDay = datetime(int(self.year), int(self.month), int(self.day))\n",
    "        self.elapsed = self.today - self.mDay\n",
    "        self.elapsedDay = self.elapsed.days\n",
    "\n",
    "        self.print()\n",
    "\n",
    "    def print(self):\n",
    "        self.strElapsedDay = str(self.elapsedDay)\n",
    "        for i in range(len(self.strElapsedDay)) :\n",
    "            self.tmp.append(self.strElapsedDay[i])\n",
    "\n",
    "        # print(self.tmp)\n",
    "        self.flag = len(self.tmp)\n",
    "        # print(self.flag)\n",
    "        if len(self.tmp) >= 4 : ########### ,를 왜 함수화 못하지 ㅠㅠ\n",
    "            self.tmp.insert(self.flag-3, \",\")\n",
    "            # if len(self.tmp) >= 8 :\n",
    "            #     self.tmp.insert(self.flag-7, \",\")\n",
    "        # print(self.tmp)\n",
    "\n",
    "        self.finalElapsedDay = \"\"\n",
    "        for k in range(len(self.tmp)) :\n",
    "            self.finalElapsedDay += self.tmp[k]\n",
    "\n",
    "        print(\"오늘은 \\\"{0}\\\"로부터 연 수는 {1:.0f}년, 달 수는 {2:.0f}개월, 일 수는 {3}일이 경과되었습니다!\".format(self.mem_day, self.elapsedDay / 365, self.elapsedDay / 30, self.finalElapsedDay))\n",
    "\n",
    "if __name__ == \"__main__\" :\n",
    "    dateview = dateView()\n"
   ]
  },
  {
   "cell_type": "markdown",
   "metadata": {},
   "source": [
    "## 문제4"
   ]
  },
  {
   "cell_type": "code",
   "execution_count": 4,
   "metadata": {},
   "outputs": [
    {
     "name": "stdout",
     "output_type": "stream",
     "text": [
      "cat       ===\n",
      "sheep     ==\n",
      "duck      ====\n"
     ]
    }
   ],
   "source": [
    "from functools import *\n",
    "\n",
    "def count(first, second) :\n",
    "    if second in first :\n",
    "        first[second] += 1\n",
    "    else :\n",
    "        first[second] = 1\n",
    "    return first\n",
    "\n",
    "def draw_histogram(data) :\n",
    "    result = reduce(count, data, {})\n",
    "    for i in result.keys() :\n",
    "        print(i + ' ' * (10 - len(i)) + '=' * result[i])\n",
    "\n",
    "if __name__ == \"__main__\" :\n",
    "    data = [\"cat\", \"cat\", \"cat\", \"sheep\", \"sheep\", \"duck\", \"duck\", \"duck\", \"duck\" ]\n",
    "    draw_histogram(data)\n",
    "\n",
    "# 해당 문제는 reduce 사용 경험이 없어 다른 친구들 답을 참고하였습니다. ㅠ"
   ]
  },
  {
   "cell_type": "code",
   "execution_count": null,
   "metadata": {},
   "outputs": [],
   "source": []
  }
 ],
 "metadata": {
  "kernelspec": {
   "display_name": "Python 3",
   "language": "python",
   "name": "python3"
  },
  "language_info": {
   "codemirror_mode": {
    "name": "ipython",
    "version": 3
   },
   "file_extension": ".py",
   "mimetype": "text/x-python",
   "name": "python",
   "nbconvert_exporter": "python",
   "pygments_lexer": "ipython3",
   "version": "3.6.5"
  }
 },
 "nbformat": 4,
 "nbformat_minor": 2
}
