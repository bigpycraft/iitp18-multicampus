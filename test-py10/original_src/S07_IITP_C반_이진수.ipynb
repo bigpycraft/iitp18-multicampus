{
 "cells": [
  {
   "cell_type": "markdown",
   "metadata": {},
   "source": [
    "# 실습 1. 데이터 타입에 대한 이해\n",
    "- 2^15 = 32768의 각 자리수를 더하면 26입니다.\n",
    "- 2^1000의 각 자리수를 모두 더하면 얼마입니까?"
   ]
  },
  {
   "cell_type": "code",
   "execution_count": 2,
   "metadata": {},
   "outputs": [
    {
     "name": "stdout",
     "output_type": "stream",
     "text": [
      "2의 몇 제곱?1000\n",
      "2^1000 = 10715086071862673209484250490600018105614048117055336074437503883703510511249361224931983788156958581275946729175531468251871452856923140435984577574698574803934567774824230985421074605062371141877954182153046474983581941267398767559165543946077062914571196477686542167660429831652624386837205668069376\n",
      "각 자리수의 합은 1366입니다.\n"
     ]
    }
   ],
   "source": [
    "x = input(\"2의 몇 제곱?\")\n",
    "x = int(x)\n",
    "i = 1\n",
    "sum = 0\n",
    "\n",
    "for y in range(x) :\n",
    "    i= i*2\n",
    "print('2^%d = %d' %(x,i))\n",
    "i = str(i)\n",
    "i = list(i)\n",
    "\n",
    "for y in range(len(i)):\n",
    "    sum = sum + int(i[y])\n",
    "print('각 자리수의 합은 %d입니다.'%sum)"
   ]
  },
  {
   "cell_type": "markdown",
   "metadata": {},
   "source": [
    "# 실습 2. 로또번호를 주문하는 클래스를 생성하시오.\n",
    "- 로또는 1~10까지 주문가능\n",
    "- 6개의 숫자로 된 로또는 오름차순으로 정렬\n",
    "- 주문한 개수만큼 일련번호를 달아 로또 번호를 출력\n",
    "- OOP 기반으로 클래스에 메소드를 최대한 모듈화"
   ]
  },
  {
   "cell_type": "code",
   "execution_count": 3,
   "metadata": {},
   "outputs": [
    {
     "name": "stdout",
     "output_type": "stream",
     "text": [
      "몇개 구매? (1~10)5\n",
      "일련번호 1\n",
      "[5, 17, 20, 34, 38, 43]\n",
      "일련번호 2\n",
      "[3, 13, 16, 32, 38, 39]\n",
      "일련번호 3\n",
      "[11, 12, 30, 34, 42, 43]\n",
      "일련번호 4\n",
      "[1, 10, 12, 24, 26, 28]\n",
      "일련번호 5\n",
      "[2, 7, 16, 23, 25, 36]\n"
     ]
    }
   ],
   "source": [
    "import random\n",
    "def lotto():\n",
    "    x=0\n",
    "    y=set()\n",
    "    while True:\n",
    "        if len(y) ==6:\n",
    "            break\n",
    "        else:\n",
    "            x = random.randint(1,45)\n",
    "            y.add(x)\n",
    "    y=sorted(y)\n",
    "    print(y)\n",
    "\n",
    "def order(num):\n",
    "    for i in range(num):\n",
    "        print(\"일련번호 %d\" %(i+1))\n",
    "        lotto()\n",
    "\n",
    "num = input(\"몇개 구매? (1~10)\")\n",
    "num = int(num)\n",
    "order(num)"
   ]
  },
  {
   "cell_type": "markdown",
   "metadata": {},
   "source": [
    "# 실습 3. 특정 기념일로부터 얼마나 경과되었는지 알려주는 함수를 만드시오.\n",
    "- 경과일자가 1000일이 넘는경우, 천단위로(,)를 넣어서 출력.\n",
    "- 구현할 함수의 옵션 :\n",
    "-    from datetime import datetime\n",
    "-    def getMemorialDay(year, month, day, mem_day='기념일',is_msg=True):\n",
    "-    return remain_year, remain_month, remain_day\n",
    "- 출력형태\n",
    "- getMemorialDay(2014,4,16,'세월호침몰사고일')\n",
    "- 오늘은 세월호침몰사고일 로부터 1,658일 경과되었고, 달 수로는 55개월째, 연수로는 4년 째 되었습니다.\n",
    "- y,_m,elapsed_day = getMemorialDay(2018,12,25,'크리스마스',False)\n",
    "- 크리스마스 까지는 %d일 남았습니다. % -elapsed_day"
   ]
  },
  {
   "cell_type": "code",
   "execution_count": 2,
   "metadata": {},
   "outputs": [
    {
     "name": "stdout",
     "output_type": "stream",
     "text": [
      "2000-01-01 00:00:00\n",
      "6878 days, 17:10:08.528396\n",
      "오늘은 밀레니엄일 부터 6,878일 경과되었고, 달 수로는 229개월째, 연수로는 18년째 되었습니다.\n",
      "2014-04-16 00:00:00\n",
      "1659 days, 17:10:08.528396\n",
      "오늘은 세월호침몰사고일 부터 1,659일 경과되었고, 달 수로는 55개월째, 연수로는 4년째 되었습니다.\n",
      "2018-12-25 00:00:00\n",
      "-55 days, 17:10:08.528396\n",
      "크리스마스까지 55일 남았습니다.\n"
     ]
    }
   ],
   "source": [
    "from datetime import datetime\n",
    "\n",
    "def getMemorialDay(year, month, day, mem_day='기념일', is_msg=True):\n",
    "    m_day = datetime(year, month, day)\n",
    "    print(m_day)\n",
    "    today=datetime.now()\n",
    "    elapsed = today - m_day\n",
    "    print(elapsed)\n",
    "    elapsed_day   = elapsed.days\n",
    "    elapsed_month = int(elapsed_day / 30)\n",
    "    elapsed_year  = int(elapsed_day / 365)\n",
    "    if elapsed_day>1000:\n",
    "        elapsed_day =  format(elapsed_day, ',')\n",
    "    if is_msg==False:\n",
    "        print(\"%s까지 %d일 남았습니다.\"%(mem_day,-elapsed_day))\n",
    "    else:\n",
    "         print(\"오늘은 %s일 부터 %s일 경과되었고, 달 수로는 %d개월째, 연수로는 %d년째 되었습니다.\" %(mem_day, elapsed_day, elapsed_month,elapsed_year))\n",
    "    \n",
    "getMemorialDay(2000,1,1, '밀레니엄')\n",
    "getMemorialDay(2014,4,16,'세월호침몰사고')\n",
    "getMemorialDay(2018, 12, 25, '크리스마스', False)"
   ]
  },
  {
   "cell_type": "markdown",
   "metadata": {},
   "source": [
    "# 실습 4. reduce를 활용하여 Histogram 함수 작성\n",
    "- 리스트를 받아서, 히스토그램을 그리는 함수\n",
    "- 입력값 : [\"cat\", \"cat\", \"cat\", \"sheep\", \"sheep\", \"duck\", \"duck\", \"duck\", \"duck\" ]\n",
    "- 출력형태\n",
    "-  cat    ===\n",
    "-  sheep  ==\n",
    "-  duck   ===="
   ]
  },
  {
   "cell_type": "code",
   "execution_count": 4,
   "metadata": {},
   "outputs": [
    {
     "name": "stdout",
     "output_type": "stream",
     "text": [
      "cat, sheep, duck 중 하나를 입력하세요. 입력완료시 entercat\n",
      "cat, sheep, duck 중 하나를 입력하세요. 입력완료시 entercat\n",
      "cat, sheep, duck 중 하나를 입력하세요. 입력완료시 entercat\n",
      "cat, sheep, duck 중 하나를 입력하세요. 입력완료시 entercat\n",
      "cat, sheep, duck 중 하나를 입력하세요. 입력완료시 entercat\n",
      "cat, sheep, duck 중 하나를 입력하세요. 입력완료시 entersheep\n",
      "cat, sheep, duck 중 하나를 입력하세요. 입력완료시 enterduck\n",
      "cat, sheep, duck 중 하나를 입력하세요. 입력완료시 enterduck\n",
      "cat, sheep, duck 중 하나를 입력하세요. 입력완료시 enterduck\n",
      "cat, sheep, duck 중 하나를 입력하세요. 입력완료시 enter\n",
      "5 1 3\n",
      "입력된 값 :  ['cat', 'cat', 'cat', 'cat', 'cat', 'sheep', 'duck', 'duck', 'duck']\n",
      "{'cat': 5, 'sheep': 1, 'duck': 3} \n",
      "\n",
      "\n",
      "cat : =====\n",
      "sheep :  =\n",
      "duck :  ===\n"
     ]
    }
   ],
   "source": [
    "from functools import *\n",
    "\n",
    "def make_dict():\n",
    "    data=[]\n",
    "    while True:\n",
    "        x = input(\"cat, sheep, duck 중 하나를 입력하세요. 입력완료시 enter\")\n",
    "        if x== 'cat'or x=='sheep' or x =='duck':\n",
    "            data.append(x)\n",
    "        else:\n",
    "            break\n",
    "    x=0;y=0;z=0\n",
    "    global data1\n",
    "    for i in range(len(data)):\n",
    "        if data[i] == 'cat':\n",
    "            x += 1\n",
    "        elif data[i] == 'sheep':\n",
    "            y +=1\n",
    "        elif data[i] == 'duck':\n",
    "            z +=1\n",
    "    print(x,y,z)\n",
    "    print(\"입력된 값 : \", data)\n",
    "    data1 = {'cat':x, 'sheep':y, 'duck':z}\n",
    "    print(data1, \"\\n\\n\") \n",
    "\n",
    "def draw_histogram():\n",
    "    c_num = int(data1['cat'])\n",
    "    d_num = int(data1['duck'])\n",
    "    s_num = int(data1['sheep'])\n",
    "    print(\"cat :\", \"=\"*c_num)\n",
    "    print(\"sheep : \", \"=\"*s_num)\n",
    "    print(\"duck : \", \"=\"*d_num)\n",
    "\n",
    "make_dict()\n",
    "draw_histogram()"
   ]
  },
  {
   "cell_type": "code",
   "execution_count": null,
   "metadata": {},
   "outputs": [],
   "source": []
  }
 ],
 "metadata": {
  "kernelspec": {
   "display_name": "Python 3",
   "language": "python",
   "name": "python3"
  },
  "language_info": {
   "codemirror_mode": {
    "name": "ipython",
    "version": 3
   },
   "file_extension": ".py",
   "mimetype": "text/x-python",
   "name": "python",
   "nbconvert_exporter": "python",
   "pygments_lexer": "ipython3",
   "version": "3.6.5"
  }
 },
 "nbformat": 4,
 "nbformat_minor": 2
}
