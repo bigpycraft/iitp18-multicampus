{
 "cells": [
  {
   "cell_type": "markdown",
   "metadata": {},
   "source": [
    "# 1번"
   ]
  },
  {
   "cell_type": "code",
   "execution_count": 2,
   "metadata": {},
   "outputs": [
    {
     "name": "stdout",
     "output_type": "stream",
     "text": [
      "결과 : 1366\n"
     ]
    }
   ],
   "source": [
    "num=2**1000\n",
    "def sum_digit(num):\n",
    "    result = 0    \n",
    "    for i in str(num):\n",
    "        result = result + int(i) \n",
    "    return result    \n",
    "\n",
    "print(\"결과 : {}\".format(sum_digit(num)));"
   ]
  },
  {
   "cell_type": "markdown",
   "metadata": {},
   "source": [
    "# 2번"
   ]
  },
  {
   "cell_type": "markdown",
   "metadata": {},
   "source": [
    "### class로 못하였고 중복도 나옵니다...."
   ]
  },
  {
   "cell_type": "code",
   "execution_count": 7,
   "metadata": {
    "scrolled": true
   },
   "outputs": [
    {
     "name": "stdout",
     "output_type": "stream",
     "text": [
      "로또 몇 장 살건가요?[1~10]a\n",
      "갯수를 다시 입력하시오\n",
      "로또 몇 장 살건가요?[1~10]100\n",
      "갯수를 다시 입력하시오\n",
      "로또 몇 장 살건가요?[1~10]3\n",
      "로또는 총 3장입니다.\n",
      "[10, 15, 23, 34, 35, 42]\n",
      "[5, 19, 27, 29, 33, 38]\n",
      "[1, 3, 20, 24, 36, 40]\n"
     ]
    }
   ],
   "source": [
    "import random\n",
    "while True:\n",
    "    lotto_num = input(\"로또 몇 장 살건가요?[1~10]\")\n",
    "    is_number = True\n",
    "    chk_number = list('0123456789')\n",
    "\n",
    "    is_number = is_number * int(lotto_num in chk_number)\n",
    "    if is_number:\n",
    "        if int(lotto_num)<=10:\n",
    "            print(\"로또는 총 %d장입니다.\" % int(lotto_num))\n",
    "            break\n",
    "        else:\n",
    "            print(\"10장이하로 사세요\")\n",
    "            continue\n",
    "    else:\n",
    "        print(\"갯수를 다시 입력하시오\")\n",
    "        continue\n",
    "\n",
    "lottos=[]\n",
    "for a in range(1,(int(lotto_num)+1)):\n",
    "\n",
    "    nums = []\n",
    "    n = 1\n",
    "    while n <= 6:\n",
    "        i = random.randint(1, 45)\n",
    "        nums.append(i)\n",
    "        n += 1\n",
    "        nums.sort()\n",
    "    print(nums)\n",
    "    lottos.append(nums)\n",
    "    for i in range(0,6):\n",
    "        if nums[i] in nums:\n",
    "            new=random.randint(1, 45)\n",
    "            nums.append(new)\n",
    "\n"
   ]
  },
  {
   "cell_type": "markdown",
   "metadata": {},
   "source": [
    "# 3번"
   ]
  },
  {
   "cell_type": "markdown",
   "metadata": {},
   "source": [
    "### 짝꿍의 아이디어를 따왔습니다.^^"
   ]
  },
  {
   "cell_type": "code",
   "execution_count": 9,
   "metadata": {},
   "outputs": [],
   "source": [
    "import datetime\n",
    "\n",
    "def getMemorialDay(year, month, day, mem_day=\"기념일\"):\n",
    "    set_day = datetime.date(year, month, day)\n",
    "    set_day2 = datetime.date.today()\n",
    "    \n",
    "    nday=(set_day2-set_day)\n",
    "    nday1=nday.days\n",
    "    nday2=format(nday1,',')\n",
    "    \n",
    "    if nday1 >= 0:\n",
    "        print(mem_day,\": 오늘로부터\",set_day,'은')\n",
    "        print('\\n경과년수는', set_day2.year-set_day.year,\"년 입니다.\")\n",
    "        print('\\n경과월수는', ((set_day2.year-set_day.year)*12)+(set_day2.month-set_day.month),\"개월 입니다.\")\n",
    "        print('\\n경과일수는', nday2,\"일 입니다.\")        \n",
    "    \n",
    "    else:\n",
    "        nday3=-nday1\n",
    "        nday4=format(nday3,',')\n",
    "        print(nday4,'일 남았습니다.')\n",
    "        \n",
    "    return\n",
    "    "
   ]
  },
  {
   "cell_type": "markdown",
   "metadata": {},
   "source": [
    "# 4번"
   ]
  },
  {
   "cell_type": "markdown",
   "metadata": {},
   "source": [
    "#####"
   ]
  },
  {
   "cell_type": "code",
   "execution_count": 10,
   "metadata": {},
   "outputs": [
    {
     "name": "stdout",
     "output_type": "stream",
     "text": [
      "<class 'int'>\n",
      "duck의 총 갯수는 4입니다.\n",
      "sheep의 총 갯수는 2입니다.\n",
      "cat의 총 갯수는 3입니다.\n"
     ]
    }
   ],
   "source": [
    "ani = [\"cat\", \"cat\", \"cat\", \"sheep\", \"sheep\", \"duck\", \"duck\", \"duck\", \"duck\" ]\n",
    "set_ani= set(ani)\n",
    "list_set_ani= list(set_ani)\n",
    "print(type(len(list_set_ani)))\n",
    "\n",
    "for i in range(len(list_set_ani)):\n",
    "    print(\"%s의 총 갯수는 %s입니다.\"%(list_set_ani[i], ani.count(list_set_ani[i])))"
   ]
  },
  {
   "cell_type": "markdown",
   "metadata": {},
   "source": [
    "#####"
   ]
  },
  {
   "cell_type": "code",
   "execution_count": 19,
   "metadata": {},
   "outputs": [],
   "source": [
    "from functools import *\n",
    "def count(dic, element):\n",
    "    if element in dic:\n",
    "        dic[element] += 1\n",
    "    else:\n",
    "        dic[element]=1\n",
    "    return dic\n",
    "\n",
    "def draw_histogram(data):\n",
    "    dic = reduce(count, data,{})\n",
    "    print(\"출력값: \", dic)\n",
    "    for element in dic.keys():\n",
    "        print(element+\" \"*(10-len(element))+\"=\"*dic[element])"
   ]
  },
  {
   "cell_type": "code",
   "execution_count": 20,
   "metadata": {},
   "outputs": [],
   "source": [
    "data = [\"cat\", \"cat\", \"cat\", \"sheep\", \"sheep\", \"duck\", \"duck\", \"duck\", \"duck\" ]"
   ]
  },
  {
   "cell_type": "code",
   "execution_count": 21,
   "metadata": {},
   "outputs": [
    {
     "name": "stdout",
     "output_type": "stream",
     "text": [
      "출력값:  {'cat': 3, 'sheep': 2, 'duck': 4}\n",
      "cat       ===\n",
      "sheep     ==\n",
      "duck      ====\n"
     ]
    }
   ],
   "source": [
    "draw_histogram(data)"
   ]
  },
  {
   "cell_type": "code",
   "execution_count": null,
   "metadata": {},
   "outputs": [],
   "source": []
  }
 ],
 "metadata": {
  "kernelspec": {
   "display_name": "Python 3",
   "language": "python",
   "name": "python3"
  },
  "language_info": {
   "codemirror_mode": {
    "name": "ipython",
    "version": 3
   },
   "file_extension": ".py",
   "mimetype": "text/x-python",
   "name": "python",
   "nbconvert_exporter": "python",
   "pygments_lexer": "ipython3",
   "version": "3.6.5"
  }
 },
 "nbformat": 4,
 "nbformat_minor": 2
}
