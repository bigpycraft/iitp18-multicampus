{
 "cells": [
  {
   "cell_type": "markdown",
   "metadata": {},
   "source": [
    "## 실습1. 데이터 타입에 대한 이해\n",
    "> - 2**15 = 32768의 각 자리수를 더하면 3+2+7+6+8 = 26 입니다.\n",
    "- 2**1000의 각 자리수를 모두 더하면 얼마입니까?"
   ]
  },
  {
   "cell_type": "markdown",
   "metadata": {},
   "source": [
    "### 답안 1"
   ]
  },
  {
   "cell_type": "code",
   "execution_count": 69,
   "metadata": {},
   "outputs": [
    {
     "name": "stdout",
     "output_type": "stream",
     "text": [
      "1366\n"
     ]
    }
   ],
   "source": [
    "def add_square(x):\n",
    "    x = str(x)\n",
    "    result = int()\n",
    "    for i in range(len(x)):\n",
    "        result += int(x[i])\n",
    "   \n",
    "    print(result)\n",
    "    \n",
    "add_square(2**1000)\n",
    "\n",
    "\n",
    "\n",
    "# def add_square(x):\n",
    "#     x = str(x)\n",
    "#     x = list(str(x))\n",
    "# #     print(x)\n",
    "#     num = int()\n",
    "#     for i in range(len(x)):\n",
    "#         num += int(x[i])\n",
    "#     print(num)\n",
    "    \n",
    "# add_square(2**1000)"
   ]
  },
  {
   "cell_type": "markdown",
   "metadata": {},
   "source": [
    "### 답안 2(reduce 활용)"
   ]
  },
  {
   "cell_type": "code",
   "execution_count": 1,
   "metadata": {},
   "outputs": [
    {
     "data": {
      "text/plain": [
       "1366"
      ]
     },
     "execution_count": 1,
     "metadata": {},
     "output_type": "execute_result"
    }
   ],
   "source": [
    "from functools import *\n",
    "\n",
    "def add_list(a, b):\n",
    "    return int(a) + int(b)\n",
    "\n",
    "y = 2**1000\n",
    "z = list(str(y))\n",
    "# print(z)\n",
    "\n",
    "# reduce(add_list, z)"
   ]
  },
  {
   "cell_type": "markdown",
   "metadata": {},
   "source": [
    "## 실습2. 로또번호를 주문하는 클래스(Class Lotto)를 생성하시오.\n",
    "> - 로또는 1~10까지 주문가능\n",
    "- 6개의 숫자로 된 로또는 오름차순으로 정렬\n",
    "- 주문한 개수만큼의 일련번호를 달아 로또번호를 출력\n",
    "- OOP 기반으로 클래스에 메소드를 최대한 모듈화"
   ]
  },
  {
   "cell_type": "markdown",
   "metadata": {},
   "source": [
    "### 답안"
   ]
  },
  {
   "cell_type": "code",
   "execution_count": 20,
   "metadata": {},
   "outputs": [
    {
     "name": "stdout",
     "output_type": "stream",
     "text": [
      "몇개의 로또 번호를 구하실 건가요? => 5\n",
      "1번째는 [9, 11, 24, 26, 27, 39]입니다.\n",
      "2번째는 [13, 23, 25, 36, 39, 40]입니다.\n",
      "3번째는 [4, 7, 11, 27, 33, 40]입니다.\n",
      "4번째는 [11, 13, 20, 29, 30, 40]입니다.\n",
      "5번째는 [10, 15, 21, 23, 33, 36]입니다.\n"
     ]
    }
   ],
   "source": [
    "# 6자리 수를 뽑아내는 것부터 시작해보자.\n",
    "    # import random\n",
    "\n",
    "    # lotto1 = set()\n",
    "    # while len(lotto1) <= 5:\n",
    "    #     x = random.randint(1,45)\n",
    "    #     lotto1.add(x)\n",
    "\n",
    "    # print(lotto1)\n",
    "\n",
    "# 정렬까지 해보자.\n",
    "    # import random\n",
    "\n",
    "    # lotto1 = set()\n",
    "    # while len(lotto1) <= 5:\n",
    "    #     x = random.randint(1,45)\n",
    "    #     lotto1.add(x)\n",
    "\n",
    "    # lotto2 = list(lotto1)\n",
    "    # lotto2.sort()\n",
    "\n",
    "    # print(lotto2)\n",
    "\n",
    "\n",
    "import random\n",
    "\n",
    "class Lotto:\n",
    "    final = list()\n",
    "    \n",
    "    def lotto(self, n):\n",
    "        for i in range(n):\n",
    "            nums = set()\n",
    "            while len(nums) <= 5:\n",
    "                num = random.randint(1,45)\n",
    "                nums.add(num)\n",
    "                \n",
    "            nums = sorted(nums)\n",
    "            print(\"{}번째는 {}입니다.\".format(i+1, nums))\n",
    "            self.final.append(nums)\n",
    "            \n",
    "        return self.final\n",
    "        \n",
    "    \n",
    "\n",
    "howmanylotto = Lotto()\n",
    "n = input(\"몇개의 로또 번호를 구하실 건가요? => \")\n",
    "n = int(n)\n",
    "yourlotto = howmanylotto.lotto(n)"
   ]
  },
  {
   "cell_type": "markdown",
   "metadata": {},
   "source": [
    "## 실습3. 특정기념일로부터 얼마나 경과되었는지 알려주는 함수를 만드시오.\n",
    "> - 경과일자가 1000일이 넘는경우, 천단위로 (,)를 붙여서 출력해보기 eg. 1234일 -> 1,234일\n",
    "- 구현할 함수의 옵션 : from datetime import datetime\n",
    "- def getMemorialDay(year, month, day, mem_day = '기념일', is_msg = True):\n",
    "    return remain_year, remain_month, remain_day\n",
    "- 출력형태\n",
    "> getMemorialDay(2014, 4, 16, '세월호침몰사고일')\n",
    "- 오늘은 '세월호침몰사고일'로부터 1,658일 경과되었고, 달 수로는 55개월째, 연 수로는 4년째 되었습니다!!\n",
    "> - _y, _m, elapsed_day = getMemorialDay(2018, 12, 25, '크리스마스', False):\n",
    "- '크리스마스까지는 %d일 남았습니다!!' %-elapsed_day"
   ]
  },
  {
   "cell_type": "markdown",
   "metadata": {},
   "source": [
    "### 답안"
   ]
  },
  {
   "cell_type": "code",
   "execution_count": 10,
   "metadata": {},
   "outputs": [],
   "source": [
    "# 콤마를 넣는 코드\n",
    "\n",
    "def comma(data):\n",
    "    data = str(data)\n",
    "    r_data = data[::-1]\n",
    "    # print(r_data)\n",
    "    date = \"\"\n",
    "\n",
    "    for i in range(len(r_data)):\n",
    "        com = ','\n",
    "        if i%3 == 0 and i>0:\n",
    "            date += com\n",
    "\n",
    "        date += r_data[i]\n",
    "\n",
    "    return date[::-1]"
   ]
  },
  {
   "cell_type": "code",
   "execution_count": 12,
   "metadata": {},
   "outputs": [
    {
     "name": "stdout",
     "output_type": "stream",
     "text": [
      "2000-01-01 00:00:00\n",
      "2018-10-31 16:09:22.583081\n",
      "6878\n",
      "229\n",
      "18\n",
      "오늘은 밀레니엄일로부터 6,878일 경과되었고, 달수로는 229개월째, 연 수로는 18년째 되었습니다!!\n"
     ]
    }
   ],
   "source": [
    "# 경과일 알려주는 코드\n",
    "\n",
    "from datetime import datetime\n",
    "\n",
    "def getMemorialDay(year, month, day, mem_day='기념일', is_msg=True):\n",
    "    special_day = datetime(year, month, day)\n",
    "    print(special_day)\n",
    "    now = datetime.now()\n",
    "    print(now)\n",
    "    \n",
    "    if is_msg:\n",
    "        elapsed = now - special_day\n",
    "        elapsed_day = elapsed.days\n",
    "        elapsed_day_comma = comma(elapsed_day)\n",
    "        print(elapsed_day)\n",
    "        elapsed_month = int(elapsed_day / 30)\n",
    "        print(elapsed_month)\n",
    "        elapsed_year = int(elapsed_day / 365)\n",
    "        print(elapsed_year)\n",
    "        print('오늘은 {0}로부터 {1}일 경과되었고, 달수로는 {2}개월째, 연 수로는 {3}년째 되었습니다!!'.format(mem_day, elapsed_day_comma, elapsed_month, elapsed_year))\n",
    "\n",
    "    if False:\n",
    "        elapsed = special_day - now\n",
    "        elapsed_day = elapsed.days\n",
    "        elapsed_day_comma = comma(elapsed_day)\n",
    "        print(elapsed_day)\n",
    "        elapsed_month = int(elapsed_day / 30)\n",
    "        print(elapsed_month)\n",
    "        elapsed_year = int(elapsed_day / 365)\n",
    "        print(elapsed_year)\n",
    "        print('크리스마스까지는 %d일 남았습니다!!' % elapsed_day_comma)\n",
    "\n",
    "getMemorialDay(2000, 1, 1, '밀레니엄일')"
   ]
  },
  {
   "cell_type": "markdown",
   "metadata": {},
   "source": [
    "## 실습4. reduce를 사용하여 히스토그램(histogram) 함수를 작성하시오.\n",
    "> - 아래의 리스트를 입력받아, 히스토그램을 그리기.\n",
    "- 입력값 : [\"cat\", \"cat\", \"cat\", \"sheep\", \"sheep\", \"duck\", \"duck\", \"duck\", \"duck\" ]\n",
    "- 출력형태\n",
    "    출력값 : {'cat':3, 'duck':4, 'sheep':2}\n",
    "        cat     ===\n",
    "        sheep   ==\n",
    "        duck    ===="
   ]
  },
  {
   "cell_type": "code",
   "execution_count": 41,
   "metadata": {},
   "outputs": [
    {
     "name": "stdout",
     "output_type": "stream",
     "text": [
      "{'cat': 1}\n",
      "{'cat': 2}\n",
      "{'cat': 3}\n",
      "{'cat': 3, 'sheep': 1}\n",
      "{'cat': 3, 'sheep': 2}\n",
      "{'cat': 3, 'sheep': 2, 'duck': 1}\n",
      "{'cat': 3, 'sheep': 2, 'duck': 2}\n",
      "{'cat': 3, 'sheep': 2, 'duck': 3}\n",
      "{'cat': 3, 'sheep': 2, 'duck': 4}\n"
     ]
    },
    {
     "data": {
      "text/plain": [
       "{'cat': 3, 'sheep': 2, 'duck': 4}"
      ]
     },
     "execution_count": 41,
     "metadata": {},
     "output_type": "execute_result"
    }
   ],
   "source": [
    "# reduce를 쓰기 위한 함수 생성하기.\n",
    "\n",
    "animals = [\"cat\", \"cat\", \"cat\", \"sheep\", \"sheep\", \"duck\", \"duck\", \"duck\", \"duck\" ]\n",
    "\n",
    "# dictionary = dict()\n",
    "# type(dictionary)\n",
    "\n",
    "\n",
    "# def dict_arry(x):\n",
    "#     cat = int()\n",
    "#     sheep = int()\n",
    "#     duck = int()\n",
    "#     for i in range(len(x)):\n",
    "#         if x[i] == 'cat':\n",
    "#             cat += 1\n",
    "#         elif x[i] == 'sheep':\n",
    "#             sheep += 1\n",
    "#         else:\n",
    "#             duck += 1\n",
    "#     print(cat, sheep, duck)\n",
    "    \n",
    "    \n",
    "# dict_arry(data)\n",
    "\n",
    "def count(dic, animal):\n",
    "    if animal in dic.keys():\n",
    "        dic[animal] += 1\n",
    "        print(dic)\n",
    "    else:\n",
    "        dic[animal] = 1\n",
    "        print(dic)\n",
    "    return dic\n",
    "\n",
    "reduce(count, animals, {})\n",
    "    \n",
    "\n"
   ]
  },
  {
   "cell_type": "code",
   "execution_count": null,
   "metadata": {},
   "outputs": [],
   "source": [
    "# 아래 히스토그램 그리기 작업을 위한 reduce 결과값에 대한 인자 설정\n",
    "\n",
    "result = reduce(count, animals, {})"
   ]
  },
  {
   "cell_type": "code",
   "execution_count": 52,
   "metadata": {},
   "outputs": [
    {
     "name": "stdout",
     "output_type": "stream",
     "text": [
      "cat\t===\n",
      "sheep\t==\n",
      "duck\t====\n"
     ]
    }
   ],
   "source": [
    "# 히스토그램 그리기\n",
    "\n",
    "def histo(x):\n",
    "    for i in x:\n",
    "        num = \"=\" * x[i] \n",
    "        print(i + \"\\t\" + num)\n",
    "#     return x\n",
    "\n",
    "histo(result)"
   ]
  },
  {
   "cell_type": "code",
   "execution_count": null,
   "metadata": {},
   "outputs": [],
   "source": []
  }
 ],
 "metadata": {
  "kernelspec": {
   "display_name": "Python 3",
   "language": "python",
   "name": "python3"
  },
  "language_info": {
   "codemirror_mode": {
    "name": "ipython",
    "version": 3
   },
   "file_extension": ".py",
   "mimetype": "text/x-python",
   "name": "python",
   "nbconvert_exporter": "python",
   "pygments_lexer": "ipython3",
   "version": "3.6.5"
  }
 },
 "nbformat": 4,
 "nbformat_minor": 2
}
