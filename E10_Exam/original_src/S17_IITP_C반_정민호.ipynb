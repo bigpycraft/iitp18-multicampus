{
 "cells": [
  {
   "cell_type": "markdown",
   "metadata": {},
   "source": [
    "## 실습1. 데이터타입에 대한 이해"
   ]
  },
  {
   "cell_type": "markdown",
   "metadata": {},
   "source": [
    "#### 2 ** 15 = 32768 의 각 자리수를 더하면 3 + 2 + 7 + 6 + 8 = 26 입니다.\n",
    "#### 2 ** 1000의 각 자리수를 모두 더하면 얼마입니까?"
   ]
  },
  {
   "cell_type": "code",
   "execution_count": 1,
   "metadata": {},
   "outputs": [
    {
     "name": "stdout",
     "output_type": "stream",
     "text": [
      "26\n"
     ]
    }
   ],
   "source": [
    "answer = 0\n",
    "n = str(2 ** 15)\n",
    "\n",
    "for x in range(len(n)):\n",
    "    answer += int(n[x])\n",
    "\n",
    "print(answer)"
   ]
  },
  {
   "cell_type": "code",
   "execution_count": 2,
   "metadata": {},
   "outputs": [
    {
     "name": "stdout",
     "output_type": "stream",
     "text": [
      "1392\n"
     ]
    }
   ],
   "source": [
    "n = str(2 ** 1000)\n",
    "\n",
    "for x in range(len(n)):\n",
    "    answer += int(n[x])\n",
    "\n",
    "print(answer)"
   ]
  },
  {
   "cell_type": "markdown",
   "metadata": {},
   "source": [
    "## 실습2. 로또번호를 주문하는 클래스(Class Lotto)를 생성하시오."
   ]
  },
  {
   "cell_type": "markdown",
   "metadata": {},
   "source": [
    "#### - 로또는 1~10까지 주문가능\n",
    "#### - 6개의 숫자로 된 로또는 오름차순으로 정렬\n",
    "#### - 주문한 개수만큼의 일련번호를 달아 로또번호를 출력\n",
    "#### - OOP기반으로 클래스에 메소드를 최대한 모듈화"
   ]
  },
  {
   "cell_type": "code",
   "execution_count": 3,
   "metadata": {},
   "outputs": [],
   "source": [
    "import random\n",
    "\n",
    "class Lotto:\n",
    "    \n",
    "    # 초기함수(번수 선언)\n",
    "    def __init__(self, start_num, end_num, ball_num):\n",
    "        self.start_num = start_num\n",
    "        self.end_num = end_num\n",
    "        self.ball_num = ball_num\n",
    "        self.ball_count = 0\n",
    "        self.lotto_num = []\n",
    "        self.buy_count = str\n",
    "        self.is_ok = True\n",
    "        self.num_chk_list = list('0123456789')\n",
    "        self.is_num = True\n",
    "        self.ball_count = 0\n",
    "        \n",
    "    # 로또 구매 수 입력 함수\n",
    "    def buy_num(self):\n",
    "        while True:\n",
    "            self.buy_count = input('주문할 Lotto 구매 개수를 입력하세요.[1~10]')\n",
    "            self.is_ok = True\n",
    "            \n",
    "            for _ in self.buy_count:\n",
    "                self.is_num = _ in self.num_chk_list\n",
    "                self.is_ok *= self.is_num\n",
    "                if not self.is_num:\n",
    "                    break\n",
    "            if self.is_ok:\n",
    "                self.buy_count = int(self.buy_count)\n",
    "                if 1 <= self.buy_count <= 10:\n",
    "                    print('Lotto %d개를 구매하였습니다. 잠시만 기다려주세요.' % self.buy_count)\n",
    "                    break\n",
    "                else:\n",
    "                    print('입력 숫자의 범위가 아닙니다. 확인후 다시 입력해주세요. [1~10]')\n",
    "            else:\n",
    "                print('입력한 값이 음수이거나 숫자가 아닙니다.')\n",
    "        \n",
    "    # 로또 복권 출력 함수\n",
    "    def out_lotto(self):\n",
    "        for _ in range(self.buy_count):\n",
    "            while self.ball_count < self.ball_num:\n",
    "                check_num = random.randint(self.start_num, self.end_num)\n",
    "                for x in range(self.start_num, self.end_num):\n",
    "                    if int(check_num) == self.lotto_num:\n",
    "                        break\n",
    "                self.lotto_num.append(check_num)\n",
    "                self.ball_count += 1\n",
    "            self.lotto_num.sort()\n",
    "            print(\"일련번호는 뭐로 할까요? 이런식? 일련번호 : 20181031%d\" % _)\n",
    "            print(self.lotto_num)\n",
    "            self.lotto_num = []\n",
    "            self.ball_count = 0   \n"
   ]
  },
  {
   "cell_type": "code",
   "execution_count": 4,
   "metadata": {},
   "outputs": [
    {
     "name": "stdout",
     "output_type": "stream",
     "text": [
      "주문할 Lotto 구매 개수를 입력하세요.[1~10]asdfg12334\n",
      "입력한 값이 음수이거나 숫자가 아닙니다.\n",
      "주문할 Lotto 구매 개수를 입력하세요.[1~10]12345asdfg\n",
      "입력한 값이 음수이거나 숫자가 아닙니다.\n",
      "주문할 Lotto 구매 개수를 입력하세요.[1~10]-12345\n",
      "입력한 값이 음수이거나 숫자가 아닙니다.\n",
      "주문할 Lotto 구매 개수를 입력하세요.[1~10]0\n",
      "입력 숫자의 범위가 아닙니다. 확인후 다시 입력해주세요. [1~10]\n",
      "주문할 Lotto 구매 개수를 입력하세요.[1~10]12345\n",
      "입력 숫자의 범위가 아닙니다. 확인후 다시 입력해주세요. [1~10]\n",
      "주문할 Lotto 구매 개수를 입력하세요.[1~10]10\n",
      "Lotto 10개를 구매하였습니다. 잠시만 기다려주세요.\n",
      "일련번호는 뭐로 할까요? 이런식? 일련번호 : 201810310\n",
      "[2, 12, 17, 20, 30, 39]\n",
      "일련번호는 뭐로 할까요? 이런식? 일련번호 : 201810311\n",
      "[2, 8, 11, 20, 26, 38]\n",
      "일련번호는 뭐로 할까요? 이런식? 일련번호 : 201810312\n",
      "[3, 13, 31, 32, 34, 40]\n",
      "일련번호는 뭐로 할까요? 이런식? 일련번호 : 201810313\n",
      "[9, 15, 19, 27, 43, 46]\n",
      "일련번호는 뭐로 할까요? 이런식? 일련번호 : 201810314\n",
      "[3, 8, 24, 36, 39, 45]\n",
      "일련번호는 뭐로 할까요? 이런식? 일련번호 : 201810315\n",
      "[8, 8, 13, 18, 22, 39]\n",
      "일련번호는 뭐로 할까요? 이런식? 일련번호 : 201810316\n",
      "[14, 14, 15, 20, 34, 39]\n",
      "일련번호는 뭐로 할까요? 이런식? 일련번호 : 201810317\n",
      "[5, 14, 22, 35, 35, 36]\n",
      "일련번호는 뭐로 할까요? 이런식? 일련번호 : 201810318\n",
      "[4, 4, 11, 12, 42, 44]\n",
      "일련번호는 뭐로 할까요? 이런식? 일련번호 : 201810319\n",
      "[1, 2, 19, 26, 40, 45]\n"
     ]
    }
   ],
   "source": [
    "answer = Lotto(1, 46, 6)\n",
    "answer.buy_num()\n",
    "answer.out_lotto()"
   ]
  },
  {
   "cell_type": "markdown",
   "metadata": {},
   "source": [
    "## 실습3. 특정기념일로 부터 얼마나 경과되었는지 알려주는 함수를 만드시오."
   ]
  },
  {
   "cell_type": "markdown",
   "metadata": {},
   "source": [
    "#### - 경과일자가 1000일이 넘는경우, 천단위로 (,)를 붙여서 출력해보기\n",
    "####   eg. 1234일 -> 1,234일\n",
    "#### - 구현할 함수의 옵션 :\n",
    "####   from datetime import datetime\n",
    "####   def getMemorialDay(year, month, day, mem_day='기념일', is_msg=True):\n",
    "####       return remain_year, remain_month, remain_day\n",
    "#### - 출력형태\n",
    "#### >  getMemorialDay(2014, 4, 16, '세월호침몰사고일'\n",
    "#### 오늘은 \"세월호침몰사고일\"로부터 1,658일 경과되었고, 달 수로는 55개월째, 연 수로는 4년재 되었습니다!!\n",
    "#### >  getMemorialDay(2018, 12, 25, '크리스마스', False)\n",
    "#### '크리스마스까지는 %d일 남았습니다!!'"
   ]
  },
  {
   "cell_type": "code",
   "execution_count": 7,
   "metadata": {},
   "outputs": [],
   "source": [
    "from datetime import datetime\n",
    "\n",
    "\n",
    "def getMemorialDay(year, month, day, men_day='기념일', is_msg=True):\n",
    "    m_day = datetime(year, month, day)\n",
    "    elapsed_day = datetime.now() - m_day\n",
    "\n",
    "    remain_year = elapsed_day.days // 365\n",
    "    remain_month = elapsed_day.days // 30\n",
    "    remain_day = elapsed_day.days\n",
    "\n",
    "    remain_day = format(remain_day, ',')\n",
    "\n",
    "    if is_msg:\n",
    "        print(\"오늘은 \\\"%s\\\"로부터 %s일 경과되었고, 달 수로는 %s개월째, 연 수로는 %s년째 되었습니다!!\" % (men_day, remain_day, remain_month, remain_year))\n",
    "    else:\n",
    "        print(\"%s까지는 %d일 남았습니다!!\" % (men_day, -int(remain_day)))\n",
    "    return remain_year, remain_month, remain_day"
   ]
  },
  {
   "cell_type": "code",
   "execution_count": 8,
   "metadata": {
    "scrolled": true
   },
   "outputs": [
    {
     "name": "stdout",
     "output_type": "stream",
     "text": [
      "오늘은 \"세월호침몰사고일\"로부터 1,660일 경과되었고, 달 수로는 55개월째, 연 수로는 4년째 되었습니다!!\n",
      "크리스마스까지는 54일 남았습니다!!\n"
     ]
    },
    {
     "data": {
      "text/plain": [
       "(-1, -2, '-54')"
      ]
     },
     "execution_count": 8,
     "metadata": {},
     "output_type": "execute_result"
    }
   ],
   "source": [
    "getMemorialDay(2014, 4, 16, '세월호침몰사고일')\n",
    "getMemorialDay(2018, 12, 25, '크리스마스', False)"
   ]
  },
  {
   "cell_type": "markdown",
   "metadata": {},
   "source": [
    "## 실습4. reduce를 사용하여 히스토그램(histogram) 함수를 작성하시오."
   ]
  },
  {
   "cell_type": "markdown",
   "metadata": {},
   "source": [
    "#### - 아래의 리스트를 입력받아 히스토그램을 그리기.\n",
    "       입력값 : [\"cat\", \"cat\", \"cat\", \"sheep\", \"sheep\", \"duck\", \"duck\", \"duck\", \"duck\"]\n",
    "#### - 출력형태\n",
    "       출력값 : {'cat': 3, 'sheep': 2, 'duck': 4}\n",
    "        cat     ===\n",
    "        sheep   ==\n",
    "        duck    ===="
   ]
  },
  {
   "cell_type": "code",
   "execution_count": 9,
   "metadata": {},
   "outputs": [],
   "source": [
    "from functools import *\n",
    "\n",
    "def dic (a, b):\n",
    "    if b in a:\n",
    "        a[b] += 1\n",
    "    else:\n",
    "        a[b] = 1\n",
    "    return a\n",
    "\n",
    "\n",
    "def histogram(data):\n",
    "    temp = reduce(dic, data, check)\n",
    "    print(temp)\n",
    "    for x in temp.keys():\n",
    "        print(x + \" \" * (10 - len(x)) + \"=\" * temp[x])    "
   ]
  },
  {
   "cell_type": "code",
   "execution_count": 10,
   "metadata": {},
   "outputs": [],
   "source": [
    "data = [\"cat\", \"cat\", \"cat\", \"sheep\", \"sheep\", \"duck\", \"duck\", \"duck\", \"duck\"]\n",
    "check = {}"
   ]
  },
  {
   "cell_type": "code",
   "execution_count": 11,
   "metadata": {},
   "outputs": [
    {
     "name": "stdout",
     "output_type": "stream",
     "text": [
      "{'cat': 3, 'sheep': 2, 'duck': 4}\n",
      "cat       ===\n",
      "sheep     ==\n",
      "duck      ====\n"
     ]
    }
   ],
   "source": [
    "histogram(data)"
   ]
  }
 ],
 "metadata": {
  "kernelspec": {
   "display_name": "Python 3",
   "language": "python",
   "name": "python3"
  },
  "language_info": {
   "codemirror_mode": {
    "name": "ipython",
    "version": 3
   },
   "file_extension": ".py",
   "mimetype": "text/x-python",
   "name": "python",
   "nbconvert_exporter": "python",
   "pygments_lexer": "ipython3",
   "version": "3.6.5"
  }
 },
 "nbformat": 4,
 "nbformat_minor": 2
}
