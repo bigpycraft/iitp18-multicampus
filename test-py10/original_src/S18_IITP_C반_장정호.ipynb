{
 "cells": [
  {
   "cell_type": "markdown",
   "metadata": {},
   "source": [
    "# IITP_C반_장정호_midterm_exam\n",
    "\n",
    "\n",
    "## 1. 데이터에 대한 이해 "
   ]
  },
  {
   "cell_type": "code",
   "execution_count": null,
   "metadata": {},
   "outputs": [],
   "source": [
    "# 1. 데이터타입에 대한 이해 \n",
    "# data = 2**1000\n",
    "# print(data)\n",
    "# data\n",
    "k2 = 2**1000\n",
    "numlist= []\n",
    "\n",
    "def data():\n",
    "#     print('숫자를 입력하세요')\n",
    "#     k = input()\n",
    "    k1 = str(k2)\n",
    "#     print(type(k1))\n",
    "    len(k1)\n",
    "    for i in range(len(k1)):\n",
    "        numlists = k1[i]\n",
    "        numlist.append(numlists)\n",
    "    return numlist\n",
    "\n",
    "list2=data()\n",
    "list2\n",
    "\n"
   ]
  },
  {
   "cell_type": "code",
   "execution_count": null,
   "metadata": {},
   "outputs": [],
   "source": [
    "\n",
    "def sum_nums(list2):\n",
    "    sum=0\n",
    "    for j in list2:\n",
    "        sum += int(j)\n",
    "    return sum\n",
    "\n",
    "sum_nums(list2)\n",
    "    "
   ]
  },
  {
   "cell_type": "markdown",
   "metadata": {},
   "source": [
    "## 2. 로또 번호를 주문하는 클래스를 생성하시오."
   ]
  },
  {
   "cell_type": "code",
   "execution_count": 13,
   "metadata": {},
   "outputs": [],
   "source": [
    "import random\n",
    "\n",
    "class Lotto:\n",
    "    \n",
    "    \n",
    "    def __init__(self):\n",
    "        self.numlist = []\n",
    "        self.set = set(\"0123456789\")\n",
    "        self.order = 0 \n",
    "    \n",
    "    def 로또구매개수(self):\n",
    "        \n",
    "        tickets = input('1~10 사이의 숫자를 입력하세요 ')\n",
    "        self.order = tickets\n",
    "        \n",
    "        while True:            \n",
    "            if set(self.order)-self.set == set(): \n",
    "                if not 1<=int(self.order)<= 10:\n",
    "                    self.order=input(\"1~10 사이의 숫자를 다시 입력하세요 \")\n",
    "                    continue\n",
    "                    # 1-10까지 숫자가 들어온 것이 아니면 while안에서만 돌수 있게끔\n",
    "                else:\n",
    "                    self.order = int(self.order)\n",
    "                    print(\"주문개수 : %d개\" % self.order)\n",
    "#                     print(\"Pass\")\n",
    "                    break\n",
    "    \n",
    "    def 로또번호함수(self):\n",
    "\n",
    "        for number in range(self.order):\n",
    "            numbers = random.sample(range(1,47),6)\n",
    "            numbers = sorted(numbers)\n",
    "            self.numlist.append(numbers)\n",
    "            \n",
    "    def 로또표시함수(self):\n",
    "        print(\"%d개의 로또 번호\" % self.order)\n",
    "        for i in range(len(self.numlist)):\n",
    "            print('{}:{}'.format(self.order,self.numlist[i]))\n",
    "            \n",
    "    \n",
    "    def 실행함수(self):\n",
    "        self.로또구매개수()\n",
    "        self.로또번호함수()\n",
    "        self.로또표시함수()\n",
    "\n",
    "lotto = Lotto()\n",
    "            \n",
    "        "
   ]
  },
  {
   "cell_type": "code",
   "execution_count": 14,
   "metadata": {},
   "outputs": [
    {
     "data": {
      "text/plain": [
       "set()"
      ]
     },
     "execution_count": 14,
     "metadata": {},
     "output_type": "execute_result"
    }
   ],
   "source": [
    "setw= set(\"0123456789\")\n",
    "set('9')\n",
    "J=set('9')-setw\n",
    "J\n",
    "K=set('89')-setw\n",
    "K"
   ]
  },
  {
   "cell_type": "code",
   "execution_count": 15,
   "metadata": {},
   "outputs": [
    {
     "name": "stdout",
     "output_type": "stream",
     "text": [
      "1~10 사이의 숫자를 입력하세요 1\n",
      "주문개수 : 1개\n",
      "1개의 로또 번호\n",
      "1:[6, 17, 18, 25, 26, 42]\n"
     ]
    }
   ],
   "source": [
    "lotto.실행함수()"
   ]
  },
  {
   "cell_type": "markdown",
   "metadata": {},
   "source": [
    "## 3. 특정기념일로 부터 얼마나 경과되었는지 알려주는 함수를 만드시오. "
   ]
  },
  {
   "cell_type": "code",
   "execution_count": null,
   "metadata": {},
   "outputs": [],
   "source": [
    "def comma(nums):\n",
    "    nums = str(nums)\n",
    "#     print(nums)\n",
    "    r_nums = nums[::-1]\n",
    "#     print(r_nums)\n",
    "    r_nums2 = ''\n",
    "    for idx in range(len(r_nums)):\n",
    "        char = r_nums[idx]\n",
    "#         print(char)\n",
    "        r_nums+=char\n",
    "#         print(r_nums)\n",
    "        if idx%3 == 0 and idx >0: # 3,6,9.. 일때만 콤마가 삽입.\n",
    "            r_nums2 += ','\n",
    "        r_nums2 += char\n",
    "#         print(r_nums2)\n",
    "    return r_nums2[::-1] # 변수 자리수에 상관없이 콤마가 적정위치에 찍힐 수 있게 \n",
    "            \n",
    "comma(123456789)\n",
    "type(comma(123456789))\n",
    "    "
   ]
  },
  {
   "cell_type": "code",
   "execution_count": null,
   "metadata": {},
   "outputs": [],
   "source": [
    "#3. 특정기념일로부터 얼마나 경과되었는지 알려주는 함수를 만드시오. \n",
    "\n",
    "from datetime import datetime\n",
    "def getMemorialDay(year, month, day, mem_day='기념일',is_msg=True):\n",
    "    m_day = datetime(year, month, day)\n",
    "#     m_day = m_day.strftime('%Y-%m-%d')\n",
    "#     print(type(m_day)) \n",
    "    today = datetime.now()\n",
    "    elapsed = today - m_day\n",
    "#     print(elapsed)\n",
    "    경과일 = elapsed.days\n",
    "    경과달수 = int(경과일/30)\n",
    "    경과년수 = int(경과일/365)\n",
    "    \n",
    "    if is_msg:\n",
    "        message = '오늘은 {m}로부터 {dd}일 경과되었고, 달 수로는 {mm}개월째, 연 수로는 {yy}년째 되었습니다!!'.format(\n",
    "            m = mem_day,\n",
    "            dd = comma(경과일),\n",
    "            mm = 경과달수,\n",
    "            yy = 경과년수)\n",
    "        print(message)\n",
    "    \n",
    "    else:\n",
    "        pass\n",
    "    \n",
    "    return 경과일, 경과달수, 경과년수, mem_day\n",
    "\n",
    "    \n"
   ]
  },
  {
   "cell_type": "code",
   "execution_count": null,
   "metadata": {},
   "outputs": [],
   "source": [
    "경과일, 경과달수, 경과년수, mem_day = getMemorialDay(2014, 4, 16, '세월호침몰사고일',)"
   ]
  },
  {
   "cell_type": "code",
   "execution_count": null,
   "metadata": {},
   "outputs": [],
   "source": [
    "경과일, 경과달수, 경과년수, mem_day =  getMemorialDay(2018, 12, 25, '크리스마스', False)\n",
    "print('크리스마스까지는 %d일 남았습니다' % -경과일)"
   ]
  },
  {
   "cell_type": "markdown",
   "metadata": {},
   "source": [
    "## 4. reduce를 사용하여 히스토그램 함수를 작성하시오. "
   ]
  },
  {
   "cell_type": "code",
   "execution_count": null,
   "metadata": {},
   "outputs": [],
   "source": [
    "#4. reduce를 사용하여 히스토그램 함수를 작성하시오. \n",
    "from functools import *\n",
    "# input: {'cat': 3, 'duck': 4, 'sheep': 2} => output: 그림 \n",
    "data = [\"cat\", \"cat\", \"cat\", \"sheep\", \"sheep\", \"duck\", \"duck\", \"duck\", \"duck\" ]\n",
    "\n",
    "def function(dic,element):\n",
    "    if element in dic: # dict에 요소가 있는지를 확인해보고 있으면\n",
    "        dic[element] += 1 #각 요소의 value값을 올린다. \n",
    "#         print(dic)\n",
    "    else:\n",
    "        dic[element] = 1  # 아니면 key와 value를 추가  \n",
    "#         print(dic)\n",
    "    return dic\n",
    "    \n",
    "# function({},\"cat\")\n",
    "reduce(function,data,{})\n",
    "\n",
    "def draw_histogram(data):\n",
    "    dic =reduce(function,data,{})\n",
    "    for key in dic.keys():\n",
    "#         print(key)\n",
    "        print(key,' '*(5-len(key)), '='* dic[key])\n",
    "    \n",
    "draw_histogram(data)\n"
   ]
  },
  {
   "cell_type": "code",
   "execution_count": null,
   "metadata": {},
   "outputs": [],
   "source": []
  },
  {
   "cell_type": "code",
   "execution_count": null,
   "metadata": {},
   "outputs": [],
   "source": []
  }
 ],
 "metadata": {
  "kernelspec": {
   "display_name": "Python 3",
   "language": "python",
   "name": "python3"
  },
  "language_info": {
   "codemirror_mode": {
    "name": "ipython",
    "version": 3
   },
   "file_extension": ".py",
   "mimetype": "text/x-python",
   "name": "python",
   "nbconvert_exporter": "python",
   "pygments_lexer": "ipython3",
   "version": "3.6.5"
  }
 },
 "nbformat": 4,
 "nbformat_minor": 2
}
