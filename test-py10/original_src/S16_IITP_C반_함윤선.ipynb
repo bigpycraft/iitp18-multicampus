{
 "cells": [
  {
   "cell_type": "markdown",
   "metadata": {},
   "source": [
    "### 실습1 데이터 타입에 대한 이해 "
   ]
  },
  {
   "cell_type": "code",
   "execution_count": 1,
   "metadata": {},
   "outputs": [
    {
     "name": "stdout",
     "output_type": "stream",
     "text": [
      "2의 1000제곱 자리 수를 모두 더하면\n",
      "1366\n"
     ]
    }
   ],
   "source": [
    "def function(num): # num = 원하는 2의  제곱\n",
    "    output = 2 ** num \n",
    "    output = str(output)\n",
    "    a = list(output)\n",
    "    fianl = 0\n",
    "    \n",
    "    for i in a:\n",
    "        fianl += int(i)\n",
    "        \n",
    "    # print(\"2의 {}제곱 자리 수를 모두 더하면 {}이다\".format(num,final)) << 왜 이게 안될까요?ㅠㅠ\n",
    "    print(\"2의 {}제곱 자리 수를 모두 더하면\".format(num))\n",
    "    print(fianl)\n",
    "    \n",
    "function(1000) # 답"
   ]
  },
  {
   "cell_type": "markdown",
   "metadata": {},
   "source": [
    "#### 강사님께 드리는 질문*************\n",
    "- print(\"2의 {}제곱 자리 수를 모두 더하면 {}이다\".format(num,final))\n",
    "- 이걸 function함수 작성문에 넣고 돌리면, final변수가 정의된게 없다고 뜨는데...... \n",
    "- print(final)돌리면 final값이 나오거든요???>.. 도대체 왜 안되는거죠??? 진짜 미스테리네요"
   ]
  },
  {
   "cell_type": "markdown",
   "metadata": {},
   "source": [
    "### 실습2. 로또번호를 주문하는 클래스(Class Lotto)를 생성하시오. \n",
    "- 이거 아무리 생각해도... 제 머릿속에서는 클래스에 대한 답이 제대로 정립되지 않아서..\n",
    "- 어떻게 짜야할지 잘 모르겠씁니다.. 그래서 포기하겠습니다 ㅠㅠ..\n",
    "- 다른 학생들이 쓴거 참고를 많이 해야 할텐데.. |그럼 제가 과제를 해서 피드백 까지 받아야 할 필요가 없다고 생각합니다..\n",
    "- 호영니꺼 참고해서 따로 공부하겠습니다.."
   ]
  },
  {
   "cell_type": "code",
   "execution_count": 10,
   "metadata": {},
   "outputs": [],
   "source": [
    "import random"
   ]
  },
  {
   "cell_type": "code",
   "execution_count": 25,
   "metadata": {},
   "outputs": [],
   "source": [
    "class Lotto:\n",
    "    def __init__(self):\n",
    "        n = int(input(\"원하는 로또 장수를 입력하세요 [최소1장/ 최대 10장] : \"))\n",
    "        if 10> n > 0 :\n",
    "            print(\"\")\n",
    "            print(\"\"\"자네.. 결국 {}개의 로또를 주문했군...\n",
    "무작위로 번호를 생성할 수 있게, \n",
    "'lotto.make_num' 함수를 불러와주게...\"\"\".format(n))\n",
    "        else:\n",
    "             print(\"똑바로 입력하슈 ㅡㅡ\")\n",
    "    def  make_num(self,n)\n",
    "        lotto1 = set(n)\n",
    "        while len(lotto1) <= 5:\n",
    "            x = random.randint(1,45)\n",
    "            lotto1.add(x)\n",
    "#         print(lotto1) #  lotto1은 set 타입임.\n",
    "        lotto2 = list(lotto1)\n",
    "        lotto2.sort\n",
    "        print(lotto2)"
   ]
  },
  {
   "cell_type": "code",
   "execution_count": 17,
   "metadata": {},
   "outputs": [
    {
     "name": "stdout",
     "output_type": "stream",
     "text": [
      "원하는 로또 장수를 입력하세요 [최소1장/ 최대 10장] : 20\n",
      "똑바로 입력하슈 ㅡㅡ\n"
     ]
    }
   ],
   "source": [
    "lotto = Lotto()"
   ]
  },
  {
   "cell_type": "code",
   "execution_count": 26,
   "metadata": {},
   "outputs": [
    {
     "name": "stdout",
     "output_type": "stream",
     "text": [
      "원하는 로또 장수를 입력하세요 [최소1장/ 최대 10장] : 9\n",
      "\n",
      "자네.. 결국 9개의 로또를 주문했군...\n",
      "무작위로 번호를 생성할 수 있게, \n",
      "'lotto.make_num' 함수를 불러와주게...\n"
     ]
    }
   ],
   "source": [
    "lotto = Lotto()"
   ]
  },
  {
   "cell_type": "markdown",
   "metadata": {},
   "source": [
    "### 실습 3) 특정기간일로부터 얼마나 경과 되었는지\n",
    "- Index error : tuple index out of range 가 뜨는데, 왜 이게 뜨는지 도저히 모르겠습니다. (해결완료)\n",
    "- 오류 이유:  e_mm = int(remain_month) 이렇게 지정해 놨으면, { } 안에 e_mm 넣어줘야 한다"
   ]
  },
  {
   "cell_type": "code",
   "execution_count": 2,
   "metadata": {},
   "outputs": [
    {
     "data": {
      "text/plain": [
       "'Korean_Korea.949'"
      ]
     },
     "execution_count": 2,
     "metadata": {},
     "output_type": "execute_result"
    }
   ],
   "source": [
    "#  기본 셋팅 (모듈 불러오기)\n",
    "from  datetime import datetime\n",
    "import locale\n",
    "locale.setlocale(locale.LC_ALL, '')\n"
   ]
  },
  {
   "cell_type": "code",
   "execution_count": 3,
   "metadata": {},
   "outputs": [],
   "source": [
    "# 함수 지정하기\n",
    "def getMemorialDay(year,month,day,mem_day = '기념일', is_msg = True): # 이 is_msg는 뭐지요.. 구글링해도 안뜨네요..\n",
    "    today = datetime.now() #현재 시간입니다.\n",
    "    m_day = datetime(year,month,day) #getMemorialDay로부터 받은 날짜를 기억합니다.\n",
    "    remain = today - m_day #뺀 나머지( 경과일, 시간 포함 )\n",
    "    remain_day = remain.days # 경과일만 남기자\n",
    "    remain_month = remain.days/30 #경과 달\n",
    "    remain_year = remain.days//365 # 경과 연도\n",
    "    e_dd = locale.format('%d',remain_day, 1) # 경과일에 , 추가하기\n",
    "        #cf)locale.format(\"형식규칙\", 숫자, 통화형식)\n",
    "        #    통화형식(monetary)는 참이면 ,를 추가하고, 거짓이면 ,를 추가하지 않습니다.\n",
    "                            \n",
    "#     print(type(remain_year))  #잘 되었는지 테스트\n",
    "\n",
    "    if remain_day>0:\n",
    "        return '오늘은 \"{}\"로부터 {}일이나 지났고, 월수는 {e_mm}개월, 년수는 {e_yy}년이 지났네~!!'.format(\n",
    "             mem_day,\n",
    "             e_dd,\n",
    "             e_mm = int(remain_month),\n",
    "             e_yy = remain_year\n",
    "         )\n",
    "    else:\n",
    "        return '{} 까지는 {}일 남았습니다'.format(\n",
    "             mem_day,\n",
    "             e_dd)"
   ]
  },
  {
   "cell_type": "code",
   "execution_count": 4,
   "metadata": {},
   "outputs": [
    {
     "name": "stderr",
     "output_type": "stream",
     "text": [
      "C:\\Users\\dotst\\Anaconda3\\lib\\site-packages\\ipykernel_launcher.py:9: DeprecationWarning: This method will be removed in a future version of Python. Use 'locale.format_string()' instead.\n",
      "  if __name__ == '__main__':\n"
     ]
    },
    {
     "data": {
      "text/plain": [
       "'오늘은 \"세월호침몰사고일\"로부터 1,669일이나 지났고, 월수는 55개월, 년수는 4년이 지났네~!!'"
      ]
     },
     "execution_count": 4,
     "metadata": {},
     "output_type": "execute_result"
    }
   ],
   "source": [
    "# 출력값 구하기(과거)\n",
    "getMemorialDay(2014,4,16,'세월호침몰사고일')"
   ]
  },
  {
   "cell_type": "code",
   "execution_count": 5,
   "metadata": {},
   "outputs": [
    {
     "name": "stderr",
     "output_type": "stream",
     "text": [
      "C:\\Users\\dotst\\Anaconda3\\lib\\site-packages\\ipykernel_launcher.py:9: DeprecationWarning: This method will be removed in a future version of Python. Use 'locale.format_string()' instead.\n",
      "  if __name__ == '__main__':\n"
     ]
    },
    {
     "data": {
      "text/plain": [
       "'크리스마스 까지는 -45일 남았습니다'"
      ]
     },
     "execution_count": 5,
     "metadata": {},
     "output_type": "execute_result"
    }
   ],
   "source": [
    "# 출력값 구하기(미래)\n",
    "getMemorialDay(2018,12,25,'크리스마스')"
   ]
  },
  {
   "cell_type": "markdown",
   "metadata": {},
   "source": [
    "####  강사님께 드리는 질문\n",
    "C:\\Users\\dotst\\Anaconda3\\lib\\site-packages\\ipykernel_launcher.py:9: DeprecationWarning: This method will be removed in a future version of Python. Use 'locale.format_string()' instead.\n",
    "  if __name__ == '__main__':\n",
    "\n",
    "- 출력값을 구하면, 다음과 같이 뜨는데.. 도대체 무슨 말인가요 @_@"
   ]
  },
  {
   "cell_type": "markdown",
   "metadata": {},
   "source": [
    "### 실습 4. reduce를 사용하여 히스토그램(histogram)함수를 작성하시오\n",
    "- 이해가 잘 안되어서, 영재님 코드 참조했습니다 ㅎㅎ...."
   ]
  },
  {
   "cell_type": "markdown",
   "metadata": {},
   "source": [
    "- 아래의 리스트를 입력받아, 히스토그램을 그리기.\n",
    "- 입력값 : [\"cat\", \"cat\", \"cat\",\"sheep\",\"sheep\",\"duck\",\"duck\",\"duck\"}"
   ]
  },
  {
   "cell_type": "markdown",
   "metadata": {},
   "source": [
    "- 함윤선 참고용 -\n",
    "- 딕셔너리 : <키> : <값>\n",
    "- 딕셔너리에 요소 추가하기 : <딕셔너리>[<새로운 키>] = <새로운 값>\n",
    "- 예시 : dict_a[\"new_name\"] = 10 ← 그냥 때려 넣으면 OK\n",
    "- 리스트 : list_[a] → 인덱스\n",
    "- 딕셔너리 : dict_a[\"name\"] → 키\n",
    "- 확인 : <키 > in <딕셔너리>\n",
    "- 그외 : https://www.notion.so/f39883691d6043d398f89eaf0035ddc7"
   ]
  },
  {
   "cell_type": "code",
   "execution_count": 6,
   "metadata": {},
   "outputs": [],
   "source": [
    "#reduce를 사용하기 위해 모듈을 설치합니다.\n",
    "from functools import reduce"
   ]
  },
  {
   "cell_type": "code",
   "execution_count": 7,
   "metadata": {},
   "outputs": [
    {
     "data": {
      "text/plain": [
       "{'cat': 3, 'sheep': 2, 'duck': 4}"
      ]
     },
     "execution_count": 7,
     "metadata": {},
     "output_type": "execute_result"
    }
   ],
   "source": [
    "data = [\"cat\", \"cat\", \"cat\", \"sheep\", \"sheep\", \"duck\", \"duck\", \"duck\", \"duck\" ]\n",
    "\n",
    "def count(dic, element):\n",
    "    if element in dic: # dic이라는 딕셔너리 안에, element라는 키가 있어?\n",
    "        dic[element] += 1 # element키가 있으면,  값을 +1 해줘.\n",
    "    else: #없어?\n",
    "        dic[element] = 1 #element키와 해당 값을 새로 만들면 되지 ^^\n",
    "    return dic #dic(딕셔너리)를 가지고 리턴합니다.\n",
    "\n",
    "dic_animal = reduce(count,data,{}) #reduce(함수,입력값,초기값) \n",
    "# type(dic_animal) -> 딕셔너리\n",
    "dic_animal"
   ]
  },
  {
   "cell_type": "code",
   "execution_count": 8,
   "metadata": {},
   "outputs": [],
   "source": [
    "#이제 히스토그램을 만들어보자\n",
    "def draw_hisogram(data):\n",
    "    dic_animal = reduce(count,data,{}) # dic_animal은 이와 같은 딕셔너리이다\n",
    "    for element in dic_animal: #여기서 element는 cat, sheep, duck가 들어가지용~\n",
    "        print(element + ' '*(8-len(element))+'='*dic_animal[element])"
   ]
  },
  {
   "cell_type": "raw",
   "metadata": {},
   "source": [
    "- 함윤선에게\n",
    "- 구문: 딕셔너리와 함께 사용하는 for 반복문\n",
    "    for <키 변수> in <딕셔너리> : \n",
    "        <코드>\n",
    "  ! 딕셔너리 내부에 있는 키가 변수에 들어가는 것에 주의하자."
   ]
  },
  {
   "cell_type": "code",
   "execution_count": 9,
   "metadata": {},
   "outputs": [
    {
     "name": "stdout",
     "output_type": "stream",
     "text": [
      "cat     ===\n",
      "sheep   ==\n",
      "duck    ====\n"
     ]
    }
   ],
   "source": [
    "draw_hisogram(data)"
   ]
  },
  {
   "cell_type": "code",
   "execution_count": null,
   "metadata": {},
   "outputs": [],
   "source": []
  }
 ],
 "metadata": {
  "kernelspec": {
   "display_name": "Python 3",
   "language": "python",
   "name": "python3"
  },
  "language_info": {
   "codemirror_mode": {
    "name": "ipython",
    "version": 3
   },
   "file_extension": ".py",
   "mimetype": "text/x-python",
   "name": "python",
   "nbconvert_exporter": "python",
   "pygments_lexer": "ipython3",
   "version": "3.7.0"
  }
 },
 "nbformat": 4,
 "nbformat_minor": 2
}
