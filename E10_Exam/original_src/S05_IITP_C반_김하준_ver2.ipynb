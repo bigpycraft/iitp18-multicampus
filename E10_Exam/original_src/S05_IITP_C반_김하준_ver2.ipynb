{
 "cells": [
  {
   "cell_type": "markdown",
   "metadata": {},
   "source": [
    "# 실습 1"
   ]
  },
  {
   "cell_type": "code",
   "execution_count": 15,
   "metadata": {},
   "outputs": [
    {
     "name": "stdout",
     "output_type": "stream",
     "text": [
      "1366\n"
     ]
    }
   ],
   "source": [
    "result = 0\n",
    "for i in str(2**1000):\n",
    "    result += int(i)\n",
    "print(result)"
   ]
  },
  {
   "cell_type": "markdown",
   "metadata": {},
   "source": [
    "# 실습 2 (객체 지향적인 풀이를 위해 클래스 함수를 사용)"
   ]
  },
  {
   "cell_type": "code",
   "execution_count": 160,
   "metadata": {},
   "outputs": [],
   "source": [
    "import random\n",
    "# 클래스 선언 및 범위 고정선언\n",
    "class Lotto:\n",
    "    num_1 = 1\n",
    "    num_2 = 46\n",
    "# 상속받을 속성들 설정 및 바로 get_lotto 함수를 발동\n",
    "    def __init__(self, number):\n",
    "        self.number = number\n",
    "        self.lotto_one  = set()\n",
    "        self.get_lotto()\n",
    "# 로또 번호를 제작\n",
    "    def get_lotto(self):\n",
    "        self.lotto_manu = list()\n",
    "        \n",
    "        for i in range(self.number):\n",
    "            count = 0\n",
    "            self.lotto_one = set('')\n",
    "            while len(self.lotto_one) < 6:\n",
    "                count = count + 1\n",
    "                rnd_num = random.randint(self.num_1, self.num_2)\n",
    "                self.lotto_one.add(rnd_num)\n",
    "            self.lotto_manu.append(self.lotto_one)\n",
    "           \n",
    "            \n",
    "# 로또 보여주기\n",
    "    def show_lotto(self):\n",
    "        print(\"총 %s개 로또를 주문하셨습니다.\"% self.number)\n",
    "        sloto = sorted(self.lotto_manu)\n",
    "        count = 0\n",
    "        for i in range(len(sloto)):\n",
    "            count += 1\n",
    "            print('%s번째 로또 ='%count, sloto[i])\n",
    "\n",
    "\n",
    "\n",
    "# mylotto.get_lotto()\n",
    "# mylotto.show_lotto()"
   ]
  },
  {
   "cell_type": "code",
   "execution_count": 161,
   "metadata": {},
   "outputs": [
    {
     "name": "stdout",
     "output_type": "stream",
     "text": [
      "총 9개 로또를 주문하셨습니다.\n",
      "1번째 로또 = {1, 41, 43, 45, 23, 30}\n",
      "2번째 로또 = {5, 40, 9, 11, 29, 30}\n",
      "3번째 로또 = {35, 4, 7, 44, 16, 25}\n",
      "4번째 로또 = {32, 33, 36, 37, 20, 23}\n",
      "5번째 로또 = {34, 39, 40, 15, 24, 29}\n",
      "6번째 로또 = {7, 41, 9, 15, 21, 31}\n",
      "7번째 로또 = {7, 9, 13, 20, 22, 23}\n",
      "8번째 로또 = {41, 43, 45, 46, 17, 22}\n",
      "9번째 로또 = {1, 34, 36, 5, 39, 24}\n"
     ]
    }
   ],
   "source": [
    "mylotto = Lotto(9)\n",
    "mylotto.show_lotto()"
   ]
  },
  {
   "cell_type": "markdown",
   "metadata": {},
   "source": [
    "# 실습3"
   ]
  },
  {
   "cell_type": "code",
   "execution_count": 162,
   "metadata": {},
   "outputs": [],
   "source": [
    "import datetime\n",
    "\n",
    "def getMemorialDay(year, month, day, memorial_day='기념일', is_msg=True):\n",
    "    \n",
    "#     now = datetime.now()\n",
    "#     print(now)          # yyyy-MM-dd hh:mm:ss\n",
    "\n",
    "    nowDate = today = datetime.date.today()\n",
    "\n",
    "    m_day = datetime.date(year, month, day)\n",
    "    # m_day = m_day.strftime('%Y-%m-%d')\n",
    "    m_day\n",
    "    elapsed_day = nowDate - m_day\n",
    "    elapsed_month = int(elapsed_day.days / 30)\n",
    "    elapse_year = int(elapsed_day.days / 365)\n",
    "    expecting_day = -elapsed_day.days\n",
    "    if is_msg:\n",
    "        print('오늘은 [%s]이후 [%s]일째, [%s]달, [%s]년 지났습니다.' % (memorial_day, format(elapsed_day.days,','), elapsed_month, elapse_year))\n",
    "    else:\n",
    "        print('%s까지 %s일 남았습니다' % (memorial_day,format(-elapsed_day.days,',')))"
   ]
  },
  {
   "cell_type": "code",
   "execution_count": 163,
   "metadata": {},
   "outputs": [
    {
     "name": "stdout",
     "output_type": "stream",
     "text": [
      "내 생일까지 1,188일 남았습니다\n"
     ]
    }
   ],
   "source": [
    "getMemorialDay(2022, 1, 31, '내 생일', is_msg = False)"
   ]
  },
  {
   "cell_type": "markdown",
   "metadata": {},
   "source": [
    "## 실습4"
   ]
  },
  {
   "cell_type": "code",
   "execution_count": 5,
   "metadata": {},
   "outputs": [
    {
     "name": "stdout",
     "output_type": "stream",
     "text": [
      "{'cat': 3, 'duck': 4, 'sheep': 3}\n",
      "cat\t ===\n",
      "duck\t ====\n",
      "sheep\t ===\n"
     ]
    }
   ],
   "source": [
    "from functools import *\n",
    "# 데이터 지정\n",
    "data1 = ['cat','sheep', 'cat', 'cat', 'sheep', 'sheep', 'duck', 'duck', 'duck', 'duck']\n",
    " # data1 의 키값들 받기\n",
    "key_cats = set(data1)\n",
    " #더미 딕셔너리 선언\n",
    "tempdict = dict()\n",
    " # 각 키값들에 1 밸류를 지정해주면서 딕셔너리 만들기\n",
    "for i in set(data1):\n",
    "    temp = {i : 1}\n",
    "    tempdict.update(temp)\n",
    " # Reduce 함수; 딕셔너리의 밸류값들을 계산하게 만들기\n",
    "def catfunc(a, b):\n",
    "    if a == b:\n",
    "        tempdict[a] += 1\n",
    "        return a\n",
    "    else:\n",
    "        return b\n",
    "    return tempdict\n",
    " # Reduce 실행\n",
    "reduce(catfunc, sorted(data1))\n",
    "print(tempdict)\n",
    " # 히스토그램\n",
    "for x in tempdict:\n",
    "    print('%s\\t'%x, '='*tempdict[x])"
   ]
  },
  {
   "cell_type": "code",
   "execution_count": null,
   "metadata": {},
   "outputs": [],
   "source": []
  }
 ],
 "metadata": {
  "kernelspec": {
   "display_name": "Python 3",
   "language": "python",
   "name": "python3"
  },
  "language_info": {
   "codemirror_mode": {
    "name": "ipython",
    "version": 3
   },
   "file_extension": ".py",
   "mimetype": "text/x-python",
   "name": "python",
   "nbconvert_exporter": "python",
   "pygments_lexer": "ipython3",
   "version": "3.6.5"
  }
 },
 "nbformat": 4,
 "nbformat_minor": 2
}
