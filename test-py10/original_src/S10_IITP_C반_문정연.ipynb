{
 "cells": [
  {
   "cell_type": "markdown",
   "metadata": {},
   "source": [
    "## 실습 1 . 데이터타입에 대한 이해 \n",
    "2**15 = 32768 의 각 자리수를 더하면 3+2+7+6+8=26 입니다. \n",
    "\n",
    "2**1000의 각 자리수를 모두 더하면 얼마입니까?"
   ]
  },
  {
   "cell_type": "code",
   "execution_count": 18,
   "metadata": {},
   "outputs": [
    {
     "name": "stdout",
     "output_type": "stream",
     "text": [
      "32768\n"
     ]
    },
    {
     "data": {
      "text/plain": [
       "int"
      ]
     },
     "execution_count": 18,
     "metadata": {},
     "output_type": "execute_result"
    }
   ],
   "source": [
    "data1=2**15\n",
    "print(data1)\n",
    "type(data1)"
   ]
  },
  {
   "cell_type": "code",
   "execution_count": 19,
   "metadata": {
    "scrolled": true
   },
   "outputs": [
    {
     "name": "stdout",
     "output_type": "stream",
     "text": [
      "10715086071862673209484250490600018105614048117055336074437503883703510511249361224931983788156958581275946729175531468251871452856923140435984577574698574803934567774824230985421074605062371141877954182153046474983581941267398767559165543946077062914571196477686542167660429831652624386837205668069376\n"
     ]
    },
    {
     "data": {
      "text/plain": [
       "int"
      ]
     },
     "execution_count": 19,
     "metadata": {},
     "output_type": "execute_result"
    }
   ],
   "source": [
    "data2 = 2**1000\n",
    "print(data2)\n",
    "type(data2)"
   ]
  },
  {
   "cell_type": "code",
   "execution_count": 37,
   "metadata": {},
   "outputs": [],
   "source": [
    "def add_number(da1,da2):\n",
    "    result = da1 + da2\n",
    "    return result\n"
   ]
  },
  {
   "cell_type": "code",
   "execution_count": 38,
   "metadata": {},
   "outputs": [
    {
     "name": "stdout",
     "output_type": "stream",
     "text": [
      "1\n",
      "0\n",
      "7\n",
      "1\n",
      "5\n",
      "0\n",
      "8\n",
      "6\n",
      "0\n",
      "7\n",
      "1\n",
      "8\n",
      "6\n",
      "2\n",
      "6\n",
      "7\n",
      "3\n",
      "2\n",
      "0\n",
      "9\n",
      "4\n",
      "8\n",
      "4\n",
      "2\n",
      "5\n",
      "0\n",
      "4\n",
      "9\n",
      "0\n",
      "6\n",
      "0\n",
      "0\n",
      "0\n",
      "1\n",
      "8\n",
      "1\n",
      "0\n",
      "5\n",
      "6\n",
      "1\n",
      "4\n",
      "0\n",
      "4\n",
      "8\n",
      "1\n",
      "1\n",
      "7\n",
      "0\n",
      "5\n",
      "5\n",
      "3\n",
      "3\n",
      "6\n",
      "0\n",
      "7\n",
      "4\n",
      "4\n",
      "3\n",
      "7\n",
      "5\n",
      "0\n",
      "3\n",
      "8\n",
      "8\n",
      "3\n",
      "7\n",
      "0\n",
      "3\n",
      "5\n",
      "1\n",
      "0\n",
      "5\n",
      "1\n",
      "1\n",
      "2\n",
      "4\n",
      "9\n",
      "3\n",
      "6\n",
      "1\n",
      "2\n",
      "2\n",
      "4\n",
      "9\n",
      "3\n",
      "1\n",
      "9\n",
      "8\n",
      "3\n",
      "7\n",
      "8\n",
      "8\n",
      "1\n",
      "5\n",
      "6\n",
      "9\n",
      "5\n",
      "8\n",
      "5\n",
      "8\n",
      "1\n",
      "2\n",
      "7\n",
      "5\n",
      "9\n",
      "4\n",
      "6\n",
      "7\n",
      "2\n",
      "9\n",
      "1\n",
      "7\n",
      "5\n",
      "5\n",
      "3\n",
      "1\n",
      "4\n",
      "6\n",
      "8\n",
      "2\n",
      "5\n",
      "1\n",
      "8\n",
      "7\n",
      "1\n",
      "4\n",
      "5\n",
      "2\n",
      "8\n",
      "5\n",
      "6\n",
      "9\n",
      "2\n",
      "3\n",
      "1\n",
      "4\n",
      "0\n",
      "4\n",
      "3\n",
      "5\n",
      "9\n",
      "8\n",
      "4\n",
      "5\n",
      "7\n",
      "7\n",
      "5\n",
      "7\n",
      "4\n",
      "6\n",
      "9\n",
      "8\n",
      "5\n",
      "7\n",
      "4\n",
      "8\n",
      "0\n",
      "3\n",
      "9\n",
      "3\n",
      "4\n",
      "5\n",
      "6\n",
      "7\n",
      "7\n",
      "7\n",
      "4\n",
      "8\n",
      "2\n",
      "4\n",
      "2\n",
      "3\n",
      "0\n",
      "9\n",
      "8\n",
      "5\n",
      "4\n",
      "2\n",
      "1\n",
      "0\n",
      "7\n",
      "4\n",
      "6\n",
      "0\n",
      "5\n",
      "0\n",
      "6\n",
      "2\n",
      "3\n",
      "7\n",
      "1\n",
      "1\n",
      "4\n",
      "1\n",
      "8\n",
      "7\n",
      "7\n",
      "9\n",
      "5\n",
      "4\n",
      "1\n",
      "8\n",
      "2\n",
      "1\n",
      "5\n",
      "3\n",
      "0\n",
      "4\n",
      "6\n",
      "4\n",
      "7\n",
      "4\n",
      "9\n",
      "8\n",
      "3\n",
      "5\n",
      "8\n",
      "1\n",
      "9\n",
      "4\n",
      "1\n",
      "2\n",
      "6\n",
      "7\n",
      "3\n",
      "9\n",
      "8\n",
      "7\n",
      "6\n",
      "7\n",
      "5\n",
      "5\n",
      "9\n",
      "1\n",
      "6\n",
      "5\n",
      "5\n",
      "4\n",
      "3\n",
      "9\n",
      "4\n",
      "6\n",
      "0\n",
      "7\n",
      "7\n",
      "0\n",
      "6\n",
      "2\n",
      "9\n",
      "1\n",
      "4\n",
      "5\n",
      "7\n",
      "1\n",
      "1\n",
      "9\n",
      "6\n",
      "4\n",
      "7\n",
      "7\n",
      "6\n",
      "8\n",
      "6\n",
      "5\n",
      "4\n",
      "2\n",
      "1\n",
      "6\n",
      "7\n",
      "6\n",
      "6\n",
      "0\n",
      "4\n",
      "2\n",
      "9\n",
      "8\n",
      "3\n",
      "1\n",
      "6\n",
      "5\n",
      "2\n",
      "6\n",
      "2\n",
      "4\n",
      "3\n",
      "8\n",
      "6\n",
      "8\n",
      "3\n",
      "7\n",
      "2\n",
      "0\n",
      "5\n",
      "6\n",
      "6\n",
      "8\n",
      "0\n",
      "6\n",
      "9\n",
      "3\n",
      "7\n",
      "6\n"
     ]
    }
   ],
   "source": [
    "d2 = str(data2) \n",
    "type(d2)\n",
    "d1= 0\n",
    "for i in range(len(d2)):\n",
    "    character = d2[i]\n",
    "    character1 = int(character) \n",
    "    print(character)\n"
   ]
  },
  {
   "cell_type": "code",
   "execution_count": 42,
   "metadata": {},
   "outputs": [
    {
     "name": "stdout",
     "output_type": "stream",
     "text": [
      "1366\n"
     ]
    }
   ],
   "source": [
    "def add_number(da1,da2):\n",
    "    result = da1 + da2\n",
    "    return result\n",
    "\n",
    "data2 = 2**1000\n",
    "data2 = str(data2)\n",
    "result =0\n",
    "\n",
    "for i in range(len(d2)):\n",
    "    character = d2[i]\n",
    "    character1 = int(character) \n",
    "    result = add_number(character1,result)\n",
    "print(result)\n"
   ]
  },
  {
   "cell_type": "markdown",
   "metadata": {},
   "source": [
    "### 답 ) 1366"
   ]
  },
  {
   "cell_type": "markdown",
   "metadata": {},
   "source": [
    "#  실습 2 . 로또번호를 주문하는 클래스(class lotto)를 생성하시오.\n",
    "- 로또는 1~10까지 주문가능 \n",
    "- 6개의 숫자로 된 로또는 오름차순으로 정렬 \n",
    "- 주문한 개수만큼의 일련번호를달아 로또번호를 출력 \n",
    "- OOP 기반으로 클래스에서 메소드를 최대한 모듈화 "
   ]
  },
  {
   "cell_type": "code",
   "execution_count": 44,
   "metadata": {},
   "outputs": [
    {
     "data": {
      "text/plain": [
       "[29, 8, 31, 44, 5, 19]"
      ]
     },
     "execution_count": 44,
     "metadata": {},
     "output_type": "execute_result"
    }
   ],
   "source": [
    "#0~45까지 숫자 중 임의로 6개 뽑는 로또 \n",
    "\n",
    "import random \n",
    "random.sample(list(range(1,46)),6)"
   ]
  },
  {
   "cell_type": "code",
   "execution_count": 118,
   "metadata": {},
   "outputs": [],
   "source": [
    "def lotto():\n",
    "    i = input(\"로또를 몇번 뽑을까요?\")\n",
    "    i=int(i)\n",
    "    import random \n",
    "    if 0<i<11:\n",
    "        for idx in range(i) :\n",
    "            idx=random.sample(list(range(1,46)),6)\n",
    "            print(idx)"
   ]
  },
  {
   "cell_type": "code",
   "execution_count": 120,
   "metadata": {
    "scrolled": false
   },
   "outputs": [
    {
     "name": "stdout",
     "output_type": "stream",
     "text": [
      "로또를 몇번 뽑을까요?5\n",
      "[38, 3, 32, 2, 8, 42]\n",
      "[24, 3, 25, 44, 10, 16]\n",
      "[5, 12, 24, 10, 14, 36]\n",
      "[26, 28, 16, 39, 45, 38]\n",
      "[32, 16, 44, 31, 28, 19]\n"
     ]
    }
   ],
   "source": [
    "lotto()"
   ]
  },
  {
   "cell_type": "code",
   "execution_count": 165,
   "metadata": {},
   "outputs": [],
   "source": [
    "def lotto(i):\n",
    "    import random \n",
    "    if 0<i<11:\n",
    "        for idx in range(i) :\n",
    "            s=random.sample(list(range(1,46)),6)\n",
    "            print(s)"
   ]
  },
  {
   "cell_type": "code",
   "execution_count": 166,
   "metadata": {
    "scrolled": false
   },
   "outputs": [
    {
     "name": "stdout",
     "output_type": "stream",
     "text": [
      "[21, 20, 42, 18, 6, 13]\n",
      "[12, 3, 39, 40, 36, 26]\n",
      "[13, 12, 24, 20, 4, 25]\n",
      "[6, 32, 17, 41, 21, 33]\n",
      "[5, 29, 28, 16, 13, 14]\n"
     ]
    }
   ],
   "source": [
    "lotto(5)"
   ]
  },
  {
   "cell_type": "code",
   "execution_count": 174,
   "metadata": {},
   "outputs": [
    {
     "name": "stdout",
     "output_type": "stream",
     "text": [
      "로또를 몇번 뽑을까요?5\n",
      "[7, 8, 13, 16, 22, 32]\n",
      "[2, 4, 5, 10, 25, 41]\n",
      "[12, 14, 27, 32, 37, 43]\n",
      "[1, 19, 20, 32, 33, 35]\n",
      "[7, 12, 29, 32, 40, 43]\n"
     ]
    }
   ],
   "source": [
    "#random 없이 만들어보기 \n",
    "i = input(\"로또를 몇번 뽑을까요?\")\n",
    "i=int(i)\n",
    "\n",
    "ball = [x for x in range(1, 46)] \n",
    "for x in range(i):\n",
    "    random.shuffle(ball)     # 섞기\n",
    "    ball_selected = ball[:6]  # 6개만 선택\n",
    "    ball_selected.sort()     # 선택된 번호를 정렬\n",
    "    print(ball_selected)     # 출력\n"
   ]
  },
  {
   "cell_type": "code",
   "execution_count": 178,
   "metadata": {},
   "outputs": [
    {
     "name": "stdout",
     "output_type": "stream",
     "text": [
      "로또를 몇번 뽑을까요?5\n",
      "1 : [9, 13, 14, 18, 33, 39]\n",
      "2 : [1, 7, 24, 31, 34, 39]\n",
      "3 : [4, 7, 11, 28, 38, 42]\n",
      "4 : [3, 8, 23, 24, 35, 43]\n",
      "5 : [1, 4, 12, 19, 31, 42]\n"
     ]
    }
   ],
   "source": [
    "#일련번호 달기\n",
    "i = input(\"로또를 몇번 뽑을까요?\")\n",
    "i=int(i)\n",
    "\n",
    "ball = [x for x in range(1, 46)] \n",
    "for x in range(i):\n",
    "    random.shuffle(ball)     # 섞기\n",
    "    ball_selected = ball[:6]  # 6개만 선택\n",
    "    ball_selected.sort()     # 선택된 번호를 정렬\n",
    "    print(\"{} : {}\". format((x+1),(ball_selected)))     # 출력"
   ]
  },
  {
   "cell_type": "markdown",
   "metadata": {},
   "source": [
    "# 실습3 . 특정 기념일로부터 얼마나 경과되었는지를 알려주는 함수를 만드시오 \n",
    "- 경과일자가 1000일이 넘는 경우, 천단위로 (,)를 붙여서 출력하기 \n",
    "- 구현할 함수의 옵션 : \n",
    "   from datetime import datetime \n",
    "   def gerMemorialDay(year,month,day,mem_day='기념일',is_msg=True):\n",
    "       return remain_year,remain_month, remain_day\n",
    "- 출력형태\n",
    "    getMemorialDay(2014,4,16,'세월호침몰사고일')\n",
    "    \n",
    "    오늘은 \"세월호침몰사고일\"로부터 1,658일 경과되었고, 달 수로는 55개월째, 연수로는 4년째 되었습니다!\n",
    "    \n",
    "    _y,_m,elapsed_day = getMemorialDay(2018,12,25,'크리스마스',False)\n",
    "    \n",
    "    크리스마스까지는 %d일 남았습니다! % -elapsed_day"
   ]
  },
  {
   "cell_type": "code",
   "execution_count": 54,
   "metadata": {},
   "outputs": [],
   "source": [
    "#날짜세는 함수 만들기 \n",
    "\n",
    "from datetime import datetime\n",
    "\n",
    "def getMemorialDay(year,month,day,mem_day='기념일',is_msg=True):\n",
    "    mem_day = datetime(year,month,day)\n",
    "    today = datetime.today()\n",
    "    elapsed = today - mem_day\n",
    "    elapsed_day = int(elapsed.days)\n",
    "    elapsed_month = int(elapsed_day/30)\n",
    "    elapsed_year = int(elapsed_day/365)\n",
    "    print(elapsed_day, elapsed_month, elapsed_year)\n",
    "    "
   ]
  },
  {
   "cell_type": "code",
   "execution_count": 55,
   "metadata": {
    "scrolled": true
   },
   "outputs": [
    {
     "name": "stdout",
     "output_type": "stream",
     "text": [
      "1659 55 4\n"
     ]
    }
   ],
   "source": [
    "getMemorialDay(2014,4,16, '세월호침몰사고일')"
   ]
  },
  {
   "cell_type": "code",
   "execution_count": 63,
   "metadata": {},
   "outputs": [
    {
     "name": "stdout",
     "output_type": "stream",
     "text": [
      "987654321\n"
     ]
    }
   ],
   "source": [
    "#콤마찍는 함수만들기 \n",
    "def comma(data):\n",
    "    data = str(data)\n",
    "    r_data= data[::-1]\n",
    "    print(r_data)  #우선 뒤집어준다 -> 뒤집어서 세번째 자리수면 \",\"을 추가해줌\n",
    "    \n",
    "    \n",
    "comma(123456789)"
   ]
  },
  {
   "cell_type": "code",
   "execution_count": 80,
   "metadata": {},
   "outputs": [
    {
     "data": {
      "text/plain": [
       "'123,456,789'"
      ]
     },
     "execution_count": 80,
     "metadata": {},
     "output_type": "execute_result"
    }
   ],
   "source": [
    "#콤마찍는 함수만들기 \n",
    "def comma(data):\n",
    "    data = str(data)\n",
    "    r_data= data[::-1]\n",
    "    \n",
    "    date=\"\"\n",
    "    for i in range(len(r_data)): \n",
    "        char= r_data[i]\n",
    "        com=\",\"\n",
    "        \n",
    "        if i%3==0 and i>0 :\n",
    "            date += com\n",
    "            \n",
    "        date += char\n",
    "        \n",
    "    return date[::-1]\n",
    "    \n",
    "comma(123456789)"
   ]
  },
  {
   "cell_type": "code",
   "execution_count": 103,
   "metadata": {},
   "outputs": [],
   "source": [
    "#합치기 \n",
    "def comma(data):\n",
    "    data = str(data)\n",
    "    r_data= data[::-1]\n",
    "    \n",
    "    date=\"\"\n",
    "    for i in range(len(r_data)): \n",
    "        char= r_data[i]\n",
    "        com=\",\"\n",
    "        \n",
    "        if i%3==0 and i>0 :\n",
    "            date += com\n",
    "            \n",
    "        date += char\n",
    "        \n",
    "    return date[::-1]\n",
    "\n",
    "from datetime import datetime\n",
    "\n",
    "def getMemorialDay(year,month,day,mem_day='기념일',is_msg=True):\n",
    "    mem= datetime(year,month,day)\n",
    "    today = datetime.today()\n",
    "    \n",
    "    \n",
    "    if is_msg: \n",
    "        elapsed = today - mem\n",
    "        elapsed_day = int(elapsed.days)\n",
    "        elapsed_month = int(elapsed_day/30)\n",
    "        elapsed_year = int(elapsed_day/365)\n",
    "        elapsed_day = comma(elapsed_day)      #comma 함수 적용\n",
    "        print(\"오늘은 {}로부터 {}일 경과되었고, 달 수로는 {}개월째, 연 수로는 {}년째 되었습니다!!\".\n",
    "                  format(mem_day,elapsed_day,elapsed_month,elapsed_year))\n",
    "    else: \n",
    "        elapsed = mem-today\n",
    "        elapsed_day = int(elapsed.days)\n",
    "        elapsed_month = int(elapsed_day/30)\n",
    "        elapsed_year = int(elapsed_day/365)\n",
    "        elapsed_day = comma(elapsed_day)\n",
    "        print(\"{}까지는 {}일 남았습니다!\".format(mem_day,elapsed_day))\n",
    "        \n",
    "    \n"
   ]
  },
  {
   "cell_type": "code",
   "execution_count": 104,
   "metadata": {
    "scrolled": true
   },
   "outputs": [
    {
     "name": "stdout",
     "output_type": "stream",
     "text": [
      "오늘은 세월호침몰사고일로부터 1,659일 경과되었고, 달 수로는 55개월째, 연 수로는 4년째 되었습니다!!\n"
     ]
    }
   ],
   "source": [
    "getMemorialDay(2014,4,16, '세월호침몰사고일')"
   ]
  },
  {
   "cell_type": "markdown",
   "metadata": {},
   "source": [
    "오늘은 세월호침몰사고일로부터 1,659일 경과되었고, 달 수로는 55개월째, 연 수로는 4년째 되었습니다!!\n"
   ]
  },
  {
   "cell_type": "code",
   "execution_count": 105,
   "metadata": {},
   "outputs": [
    {
     "name": "stdout",
     "output_type": "stream",
     "text": [
      "크리스마스까지는 54일 남았습니다!\n"
     ]
    }
   ],
   "source": [
    "getMemorialDay(2018,12,25,'크리스마스',False)"
   ]
  },
  {
   "cell_type": "markdown",
   "metadata": {},
   "source": [
    "크리스마스까지는 54일 남았습니다!"
   ]
  },
  {
   "cell_type": "markdown",
   "metadata": {},
   "source": [
    "# 실습 4. reduce를 사용하여 히스토그램(histogram)함수를 작성하시오 \n",
    "- 아래의 리스트를 입력받아 히스토그램 그리기 \n",
    "    입력값 : [\"cat\", \"cat\", \"cat\", \"sheep\", \"sheep\", \"duck\", \"duck\", \"duck\", \"duck\" ]"
   ]
  },
  {
   "cell_type": "code",
   "execution_count": 183,
   "metadata": {},
   "outputs": [],
   "source": [
    " data = [\"cat\", \"cat\", \"cat\", \"sheep\", \"sheep\", \"duck\", \"duck\", \"duck\", \"duck\" ]"
   ]
  },
  {
   "cell_type": "code",
   "execution_count": 187,
   "metadata": {
    "scrolled": true
   },
   "outputs": [
    {
     "name": "stdout",
     "output_type": "stream",
     "text": [
      "{'cat', 'duck', 'sheep'}\n"
     ]
    }
   ],
   "source": [
    "#key값들은 list를 set한 값들임\n",
    "s_data = set(data)\n",
    "print(s_data)"
   ]
  },
  {
   "cell_type": "code",
   "execution_count": 238,
   "metadata": {},
   "outputs": [
    {
     "name": "stdout",
     "output_type": "stream",
     "text": [
      "cat ==> 0\n",
      "sheep ==> 0\n",
      "duck ==> 0\n"
     ]
    }
   ],
   "source": [
    "##dic을 만들어줌 \n",
    "len(data)\n",
    "dic={\"cat\":0,\"sheep\":0,\"duck\":0}\n",
    "type(dic)\n",
    "for key in dic:\n",
    "    value = dic[key]\n",
    "    value = int(value)\n",
    "    print(\"%s ==> %s\" % (key, value))"
   ]
  },
  {
   "cell_type": "code",
   "execution_count": 228,
   "metadata": {},
   "outputs": [],
   "source": [
    "###key값을 미리주고 value값을 카운팅하려고 함 \n",
    "def count(a,b):\n",
    "    dic={\"cat\":value for \"cat\",\"sheep\":value for \"sheep\",\"duck\":value for \"duck\"}\n",
    "    x=0\n",
    "    y=0\n",
    "    z=0\n",
    "    if a==\"cat\":\n",
    "        x += 1\n",
    "    if a==\"sheep\":\n",
    "        y += 1\n",
    "    if a==\"duck\":\n",
    "        z += 1\n",
    "\n",
    "    "
   ]
  },
  {
   "cell_type": "code",
   "execution_count": 229,
   "metadata": {
    "scrolled": true
   },
   "outputs": [
    {
     "ename": "UnboundLocalError",
     "evalue": "local variable 'x' referenced before assignment",
     "output_type": "error",
     "traceback": [
      "\u001b[1;31m---------------------------------------------------------------------------\u001b[0m",
      "\u001b[1;31mUnboundLocalError\u001b[0m                         Traceback (most recent call last)",
      "\u001b[1;32m<ipython-input-229-b6d75f2bb2c8>\u001b[0m in \u001b[0;36m<module>\u001b[1;34m()\u001b[0m\n\u001b[0;32m      1\u001b[0m \u001b[0mdata\u001b[0m \u001b[1;33m=\u001b[0m \u001b[1;33m[\u001b[0m\u001b[1;34m\"cat\"\u001b[0m\u001b[1;33m,\u001b[0m \u001b[1;34m\"cat\"\u001b[0m\u001b[1;33m,\u001b[0m \u001b[1;34m\"cat\"\u001b[0m\u001b[1;33m,\u001b[0m \u001b[1;34m\"sheep\"\u001b[0m\u001b[1;33m,\u001b[0m \u001b[1;34m\"sheep\"\u001b[0m\u001b[1;33m,\u001b[0m \u001b[1;34m\"duck\"\u001b[0m\u001b[1;33m,\u001b[0m \u001b[1;34m\"duck\"\u001b[0m\u001b[1;33m,\u001b[0m \u001b[1;34m\"duck\"\u001b[0m\u001b[1;33m,\u001b[0m \u001b[1;34m\"duck\"\u001b[0m \u001b[1;33m]\u001b[0m\u001b[1;33m\u001b[0m\u001b[0m\n\u001b[1;32m----> 2\u001b[1;33m \u001b[0mreduce\u001b[0m\u001b[1;33m(\u001b[0m\u001b[0mcount\u001b[0m\u001b[1;33m,\u001b[0m\u001b[0mdata\u001b[0m\u001b[1;33m,\u001b[0m\u001b[1;36m0\u001b[0m\u001b[1;33m)\u001b[0m\u001b[1;33m\u001b[0m\u001b[0m\n\u001b[0m",
      "\u001b[1;32m<ipython-input-228-bf126b2338de>\u001b[0m in \u001b[0;36mcount\u001b[1;34m(a, b)\u001b[0m\n\u001b[0;32m      1\u001b[0m \u001b[1;32mdef\u001b[0m \u001b[0mcount\u001b[0m\u001b[1;33m(\u001b[0m\u001b[0ma\u001b[0m\u001b[1;33m,\u001b[0m\u001b[0mb\u001b[0m\u001b[1;33m)\u001b[0m\u001b[1;33m:\u001b[0m\u001b[1;33m\u001b[0m\u001b[0m\n\u001b[1;32m----> 2\u001b[1;33m     \u001b[0mdic\u001b[0m\u001b[1;33m=\u001b[0m\u001b[1;33m{\u001b[0m\u001b[1;34m\"cat\"\u001b[0m\u001b[1;33m:\u001b[0m\u001b[0mx\u001b[0m\u001b[1;33m,\u001b[0m\u001b[1;34m\"sheep\"\u001b[0m\u001b[1;33m:\u001b[0m\u001b[0my\u001b[0m\u001b[1;33m,\u001b[0m\u001b[1;34m\"duck\"\u001b[0m\u001b[1;33m:\u001b[0m\u001b[0mz\u001b[0m\u001b[1;33m}\u001b[0m\u001b[1;33m\u001b[0m\u001b[0m\n\u001b[0m\u001b[0;32m      3\u001b[0m     \u001b[0mx\u001b[0m\u001b[1;33m=\u001b[0m\u001b[1;36m0\u001b[0m\u001b[1;33m\u001b[0m\u001b[0m\n\u001b[0;32m      4\u001b[0m     \u001b[0my\u001b[0m\u001b[1;33m=\u001b[0m\u001b[1;36m0\u001b[0m\u001b[1;33m\u001b[0m\u001b[0m\n\u001b[0;32m      5\u001b[0m     \u001b[0mz\u001b[0m\u001b[1;33m=\u001b[0m\u001b[1;36m0\u001b[0m\u001b[1;33m\u001b[0m\u001b[0m\n",
      "\u001b[1;31mUnboundLocalError\u001b[0m: local variable 'x' referenced before assignment"
     ]
    }
   ],
   "source": [
    "#안됨;;\n",
    "data = [\"cat\", \"cat\", \"cat\", \"sheep\", \"sheep\", \"duck\", \"duck\", \"duck\", \"duck\" ]\n",
    "reduce(count,data,0)"
   ]
  },
  {
   "cell_type": "markdown",
   "metadata": {},
   "source": [
    "### 다시 해보기->key값을 기준으로 딕셔너리에 추가해주기 "
   ]
  },
  {
   "cell_type": "code",
   "execution_count": 252,
   "metadata": {},
   "outputs": [],
   "source": [
    "dic ={}\n",
    "def count(a,b):\n",
    "    for i in range(len(data)):\n",
    "        if a!=b: \n",
    "            dic[b] =dic[b] +1\n",
    "        else :\n",
    "            dic[a] = dic[a] +1\n",
    "        return dic"
   ]
  },
  {
   "cell_type": "code",
   "execution_count": 253,
   "metadata": {},
   "outputs": [
    {
     "ename": "KeyError",
     "evalue": "'cat'",
     "output_type": "error",
     "traceback": [
      "\u001b[1;31m---------------------------------------------------------------------------\u001b[0m",
      "\u001b[1;31mKeyError\u001b[0m                                  Traceback (most recent call last)",
      "\u001b[1;32m<ipython-input-253-b6d75f2bb2c8>\u001b[0m in \u001b[0;36m<module>\u001b[1;34m()\u001b[0m\n\u001b[0;32m      1\u001b[0m \u001b[0mdata\u001b[0m \u001b[1;33m=\u001b[0m \u001b[1;33m[\u001b[0m\u001b[1;34m\"cat\"\u001b[0m\u001b[1;33m,\u001b[0m \u001b[1;34m\"cat\"\u001b[0m\u001b[1;33m,\u001b[0m \u001b[1;34m\"cat\"\u001b[0m\u001b[1;33m,\u001b[0m \u001b[1;34m\"sheep\"\u001b[0m\u001b[1;33m,\u001b[0m \u001b[1;34m\"sheep\"\u001b[0m\u001b[1;33m,\u001b[0m \u001b[1;34m\"duck\"\u001b[0m\u001b[1;33m,\u001b[0m \u001b[1;34m\"duck\"\u001b[0m\u001b[1;33m,\u001b[0m \u001b[1;34m\"duck\"\u001b[0m\u001b[1;33m,\u001b[0m \u001b[1;34m\"duck\"\u001b[0m \u001b[1;33m]\u001b[0m\u001b[1;33m\u001b[0m\u001b[0m\n\u001b[1;32m----> 2\u001b[1;33m \u001b[0mreduce\u001b[0m\u001b[1;33m(\u001b[0m\u001b[0mcount\u001b[0m\u001b[1;33m,\u001b[0m\u001b[0mdata\u001b[0m\u001b[1;33m,\u001b[0m\u001b[1;36m0\u001b[0m\u001b[1;33m)\u001b[0m\u001b[1;33m\u001b[0m\u001b[0m\n\u001b[0m",
      "\u001b[1;32m<ipython-input-252-b0f4ef90a993>\u001b[0m in \u001b[0;36mcount\u001b[1;34m(a, b)\u001b[0m\n\u001b[0;32m      3\u001b[0m     \u001b[1;32mfor\u001b[0m \u001b[0mi\u001b[0m \u001b[1;32min\u001b[0m \u001b[0mrange\u001b[0m\u001b[1;33m(\u001b[0m\u001b[0mlen\u001b[0m\u001b[1;33m(\u001b[0m\u001b[0mdata\u001b[0m\u001b[1;33m)\u001b[0m\u001b[1;33m)\u001b[0m\u001b[1;33m:\u001b[0m\u001b[1;33m\u001b[0m\u001b[0m\n\u001b[0;32m      4\u001b[0m         \u001b[1;32mif\u001b[0m \u001b[0ma\u001b[0m\u001b[1;33m!=\u001b[0m\u001b[0mb\u001b[0m\u001b[1;33m:\u001b[0m\u001b[1;33m\u001b[0m\u001b[0m\n\u001b[1;32m----> 5\u001b[1;33m             \u001b[0mdic\u001b[0m\u001b[1;33m[\u001b[0m\u001b[0mb\u001b[0m\u001b[1;33m]\u001b[0m \u001b[1;33m=\u001b[0m\u001b[0mdic\u001b[0m\u001b[1;33m[\u001b[0m\u001b[0mb\u001b[0m\u001b[1;33m]\u001b[0m \u001b[1;33m+\u001b[0m\u001b[1;36m1\u001b[0m\u001b[1;33m\u001b[0m\u001b[0m\n\u001b[0m\u001b[0;32m      6\u001b[0m         \u001b[1;32melse\u001b[0m \u001b[1;33m:\u001b[0m\u001b[1;33m\u001b[0m\u001b[0m\n\u001b[0;32m      7\u001b[0m             \u001b[0mdic\u001b[0m\u001b[1;33m[\u001b[0m\u001b[0ma\u001b[0m\u001b[1;33m]\u001b[0m \u001b[1;33m=\u001b[0m \u001b[0mdic\u001b[0m\u001b[1;33m[\u001b[0m\u001b[0ma\u001b[0m\u001b[1;33m]\u001b[0m \u001b[1;33m+\u001b[0m\u001b[1;36m1\u001b[0m\u001b[1;33m\u001b[0m\u001b[0m\n",
      "\u001b[1;31mKeyError\u001b[0m: 'cat'"
     ]
    }
   ],
   "source": [
    "data = [\"cat\", \"cat\", \"cat\", \"sheep\", \"sheep\", \"duck\", \"duck\", \"duck\", \"duck\" ]\n",
    "reduce(count,data,0)"
   ]
  },
  {
   "cell_type": "code",
   "execution_count": 261,
   "metadata": {},
   "outputs": [
    {
     "ename": "NameError",
     "evalue": "name 'bvalue' is not defined",
     "output_type": "error",
     "traceback": [
      "\u001b[1;31m---------------------------------------------------------------------------\u001b[0m",
      "\u001b[1;31mNameError\u001b[0m                                 Traceback (most recent call last)",
      "\u001b[1;32m<ipython-input-261-1ab9774ee428>\u001b[0m in \u001b[0;36m<module>\u001b[1;34m()\u001b[0m\n\u001b[0;32m      9\u001b[0m             \u001b[0mavalue\u001b[0m \u001b[1;33m+=\u001b[0m \u001b[1;36m1\u001b[0m\u001b[1;33m\u001b[0m\u001b[0m\n\u001b[0;32m     10\u001b[0m         \u001b[1;32mreturn\u001b[0m \u001b[0mdic\u001b[0m\u001b[1;33m\u001b[0m\u001b[0m\n\u001b[1;32m---> 11\u001b[1;33m \u001b[0mprint\u001b[0m\u001b[1;33m(\u001b[0m\u001b[0mbvalue\u001b[0m\u001b[1;33m)\u001b[0m\u001b[1;33m\u001b[0m\u001b[0m\n\u001b[0m",
      "\u001b[1;31mNameError\u001b[0m: name 'bvalue' is not defined"
     ]
    }
   ],
   "source": [
    "dic ={}\n",
    "def count(dic,data):\n",
    "    for dic in data:\n",
    "        if dic[data]=\n",
    "        \n",
    "            \n",
    "            \n",
    "            \n",
    "        else :\n",
    "            \n",
    "            \n",
    "        return dic"
   ]
  },
  {
   "cell_type": "code",
   "execution_count": 260,
   "metadata": {},
   "outputs": [
    {
     "ename": "KeyError",
     "evalue": "'cat'",
     "output_type": "error",
     "traceback": [
      "\u001b[1;31m---------------------------------------------------------------------------\u001b[0m",
      "\u001b[1;31mKeyError\u001b[0m                                  Traceback (most recent call last)",
      "\u001b[1;32m<ipython-input-260-fa0d1d310a84>\u001b[0m in \u001b[0;36m<module>\u001b[1;34m()\u001b[0m\n\u001b[0;32m      1\u001b[0m \u001b[0mdata\u001b[0m \u001b[1;33m=\u001b[0m \u001b[1;33m[\u001b[0m\u001b[1;34m\"cat\"\u001b[0m\u001b[1;33m,\u001b[0m \u001b[1;34m\"cat\"\u001b[0m\u001b[1;33m,\u001b[0m \u001b[1;34m\"cat\"\u001b[0m\u001b[1;33m,\u001b[0m \u001b[1;34m\"sheep\"\u001b[0m\u001b[1;33m,\u001b[0m \u001b[1;34m\"sheep\"\u001b[0m\u001b[1;33m,\u001b[0m \u001b[1;34m\"duck\"\u001b[0m\u001b[1;33m,\u001b[0m \u001b[1;34m\"duck\"\u001b[0m\u001b[1;33m,\u001b[0m \u001b[1;34m\"duck\"\u001b[0m\u001b[1;33m,\u001b[0m \u001b[1;34m\"duck\"\u001b[0m \u001b[1;33m]\u001b[0m\u001b[1;33m\u001b[0m\u001b[0m\n\u001b[1;32m----> 2\u001b[1;33m \u001b[0mreduce\u001b[0m\u001b[1;33m(\u001b[0m\u001b[0mcount\u001b[0m\u001b[1;33m,\u001b[0m\u001b[0mdata\u001b[0m\u001b[1;33m,\u001b[0m\u001b[1;36m0\u001b[0m\u001b[1;33m)\u001b[0m\u001b[1;33m\u001b[0m\u001b[0m\n\u001b[0m\u001b[0;32m      3\u001b[0m \u001b[0mprint\u001b[0m\u001b[1;33m(\u001b[0m\u001b[0mbvalue\u001b[0m\u001b[1;33m)\u001b[0m\u001b[1;33m\u001b[0m\u001b[0m\n",
      "\u001b[1;32m<ipython-input-256-f8eff1b1ceb4>\u001b[0m in \u001b[0;36mcount\u001b[1;34m(a, b)\u001b[0m\n\u001b[0;32m      3\u001b[0m     \u001b[1;32mfor\u001b[0m \u001b[0mi\u001b[0m \u001b[1;32min\u001b[0m \u001b[0mrange\u001b[0m\u001b[1;33m(\u001b[0m\u001b[0mlen\u001b[0m\u001b[1;33m(\u001b[0m\u001b[0mdata\u001b[0m\u001b[1;33m)\u001b[0m\u001b[1;33m)\u001b[0m\u001b[1;33m:\u001b[0m\u001b[1;33m\u001b[0m\u001b[0m\n\u001b[0;32m      4\u001b[0m         \u001b[1;32mif\u001b[0m \u001b[0ma\u001b[0m\u001b[1;33m!=\u001b[0m\u001b[0mb\u001b[0m\u001b[1;33m:\u001b[0m\u001b[1;33m\u001b[0m\u001b[0m\n\u001b[1;32m----> 5\u001b[1;33m             \u001b[0mbvalue\u001b[0m \u001b[1;33m=\u001b[0m \u001b[0mdic\u001b[0m\u001b[1;33m[\u001b[0m\u001b[0mb\u001b[0m\u001b[1;33m]\u001b[0m\u001b[1;33m\u001b[0m\u001b[0m\n\u001b[0m\u001b[0;32m      6\u001b[0m             \u001b[0mbvalue\u001b[0m \u001b[1;33m+=\u001b[0m\u001b[1;36m1\u001b[0m\u001b[1;33m\u001b[0m\u001b[0m\n\u001b[0;32m      7\u001b[0m         \u001b[1;32melse\u001b[0m \u001b[1;33m:\u001b[0m\u001b[1;33m\u001b[0m\u001b[0m\n",
      "\u001b[1;31mKeyError\u001b[0m: 'cat'"
     ]
    }
   ],
   "source": [
    "data = [\"cat\", \"cat\", \"cat\", \"sheep\", \"sheep\", \"duck\", \"duck\", \"duck\", \"duck\" ]\n",
    "reduce(count,data,0)dic\n"
   ]
  },
  {
   "cell_type": "code",
   "execution_count": 278,
   "metadata": {
    "scrolled": true
   },
   "outputs": [
    {
     "ename": "SyntaxError",
     "evalue": "can't assign to function call (<ipython-input-278-8e170db46c28>, line 7)",
     "output_type": "error",
     "traceback": [
      "\u001b[1;36m  File \u001b[1;32m\"<ipython-input-278-8e170db46c28>\"\u001b[1;36m, line \u001b[1;32m7\u001b[0m\n\u001b[1;33m    dic.keys(i) += 1\u001b[0m\n\u001b[1;37m    ^\u001b[0m\n\u001b[1;31mSyntaxError\u001b[0m\u001b[1;31m:\u001b[0m can't assign to function call\n"
     ]
    }
   ],
   "source": [
    "dic ={}\n",
    "def count(dic,data):\n",
    "    for i in data:\n",
    "            dic[i] = 1      \n",
    "            #key값 추가법\n",
    "        else :\n",
    "            dic.keys(i) += 1\n",
    "            #value 카운트?\n",
    "                        \n",
    "        print(dic)"
   ]
  },
  {
   "cell_type": "markdown",
   "metadata": {},
   "source": [
    "## count 함수 만들기"
   ]
  },
  {
   "cell_type": "code",
   "execution_count": 300,
   "metadata": {},
   "outputs": [],
   "source": [
    "data = [\"cat\", \"cat\", \"cat\", \"sheep\", \"sheep\", \"duck\", \"duck\", \"duck\", \"duck\" ]\n",
    "dic ={}\n",
    "def count(dic,data):\n",
    "    if data in dic.keys():\n",
    "        dic[data] += 1\n",
    "    else: \n",
    "        dic[data] = 1\n",
    "    return dic\n",
    "    "
   ]
  },
  {
   "cell_type": "code",
   "execution_count": 301,
   "metadata": {},
   "outputs": [
    {
     "data": {
      "text/plain": [
       "{'cat': 3, 'sheep': 2, 'duck': 4}"
      ]
     },
     "execution_count": 301,
     "metadata": {},
     "output_type": "execute_result"
    }
   ],
   "source": [
    "data = [\"cat\", \"cat\", \"cat\", \"sheep\", \"sheep\", \"duck\", \"duck\", \"duck\", \"duck\" ]\n",
    "reduce(count,data,{})"
   ]
  },
  {
   "cell_type": "markdown",
   "metadata": {},
   "source": [
    "#### 히스토그램 그리기 : input: list => output: histogram dict"
   ]
  },
  {
   "cell_type": "code",
   "execution_count": 305,
   "metadata": {},
   "outputs": [],
   "source": [
    "result = (reduce(count,data,{}))"
   ]
  },
  {
   "cell_type": "code",
   "execution_count": 306,
   "metadata": {},
   "outputs": [
    {
     "name": "stdout",
     "output_type": "stream",
     "text": [
      "{'cat': 3, 'sheep': 2, 'duck': 4}\n"
     ]
    }
   ],
   "source": [
    "print(result)"
   ]
  },
  {
   "cell_type": "code",
   "execution_count": 319,
   "metadata": {},
   "outputs": [],
   "source": [
    "#result의 key값의 갯수만큼 for을 돌릴것 \n",
    "# 첫번째 key인 고양이는 : value값이 3이다 \n",
    "#value 1의 값은 = 하나씩에 할당한다. \n",
    "#이때 value1은 숫자값  \n",
    "\n",
    "\n",
    "def draw_histogram(result):\n",
    "    for i in result:\n",
    "        num = \"=\" * int(result[i])\n",
    "        print (\"{}  {}\".format(result[i],num))\n",
    "    "
   ]
  },
  {
   "cell_type": "code",
   "execution_count": 320,
   "metadata": {},
   "outputs": [
    {
     "ename": "ValueError",
     "evalue": "invalid literal for int() with base 10: '==='",
     "output_type": "error",
     "traceback": [
      "\u001b[1;31m---------------------------------------------------------------------------\u001b[0m",
      "\u001b[1;31mValueError\u001b[0m                                Traceback (most recent call last)",
      "\u001b[1;32m<ipython-input-320-bb87ceefa54a>\u001b[0m in \u001b[0;36m<module>\u001b[1;34m()\u001b[0m\n\u001b[1;32m----> 1\u001b[1;33m \u001b[0mdraw_histogram\u001b[0m\u001b[1;33m(\u001b[0m\u001b[0mresult\u001b[0m\u001b[1;33m)\u001b[0m\u001b[1;33m\u001b[0m\u001b[0m\n\u001b[0m",
      "\u001b[1;32m<ipython-input-319-7d9c6b4852a4>\u001b[0m in \u001b[0;36mdraw_histogram\u001b[1;34m(result)\u001b[0m\n\u001b[0;32m      7\u001b[0m \u001b[1;32mdef\u001b[0m \u001b[0mdraw_histogram\u001b[0m\u001b[1;33m(\u001b[0m\u001b[0mresult\u001b[0m\u001b[1;33m)\u001b[0m\u001b[1;33m:\u001b[0m\u001b[1;33m\u001b[0m\u001b[0m\n\u001b[0;32m      8\u001b[0m     \u001b[1;32mfor\u001b[0m \u001b[0mi\u001b[0m \u001b[1;32min\u001b[0m \u001b[0mresult\u001b[0m\u001b[1;33m:\u001b[0m\u001b[1;33m\u001b[0m\u001b[0m\n\u001b[1;32m----> 9\u001b[1;33m         \u001b[0mnum\u001b[0m \u001b[1;33m=\u001b[0m \u001b[1;34m\"=\"\u001b[0m \u001b[1;33m*\u001b[0m \u001b[0mint\u001b[0m\u001b[1;33m(\u001b[0m\u001b[0mresult\u001b[0m\u001b[1;33m[\u001b[0m\u001b[0mi\u001b[0m\u001b[1;33m]\u001b[0m\u001b[1;33m)\u001b[0m\u001b[1;33m\u001b[0m\u001b[0m\n\u001b[0m\u001b[0;32m     10\u001b[0m         \u001b[0mprint\u001b[0m \u001b[1;33m(\u001b[0m\u001b[1;34m\"{}  {}\"\u001b[0m\u001b[1;33m.\u001b[0m\u001b[0mformat\u001b[0m\u001b[1;33m(\u001b[0m\u001b[0mresult\u001b[0m\u001b[1;33m[\u001b[0m\u001b[0mi\u001b[0m\u001b[1;33m]\u001b[0m\u001b[1;33m,\u001b[0m\u001b[0mnum\u001b[0m\u001b[1;33m)\u001b[0m\u001b[1;33m)\u001b[0m\u001b[1;33m\u001b[0m\u001b[0m\n\u001b[0;32m     11\u001b[0m \u001b[1;33m\u001b[0m\u001b[0m\n",
      "\u001b[1;31mValueError\u001b[0m: invalid literal for int() with base 10: '==='"
     ]
    }
   ],
   "source": [
    "draw_histogram(result)"
   ]
  },
  {
   "cell_type": "code",
   "execution_count": 332,
   "metadata": {},
   "outputs": [
    {
     "name": "stdout",
     "output_type": "stream",
     "text": [
      "{'cat': '===', 'sheep': '==', 'duck': '===='}\n"
     ]
    }
   ],
   "source": [
    "print (result)"
   ]
  },
  {
   "cell_type": "code",
   "execution_count": 326,
   "metadata": {
    "scrolled": true
   },
   "outputs": [
    {
     "name": "stdout",
     "output_type": "stream",
     "text": [
      "===\n"
     ]
    }
   ],
   "source": [
    "print(result['cat'])"
   ]
  },
  {
   "cell_type": "markdown",
   "metadata": {},
   "source": [
    "## 히스토그램 완성"
   ]
  },
  {
   "cell_type": "code",
   "execution_count": 362,
   "metadata": {},
   "outputs": [],
   "source": [
    "data = [\"cat\", \"cat\", \"cat\", \"sheep\", \"sheep\", \"duck\", \"duck\", \"duck\", \"duck\" ]\n",
    "reduce(count,data,{})\n",
    "result = (reduce(count,data,{}))\n",
    "\n",
    "def draw_histogram(result):\n",
    "    for i in result:\n",
    "        num = \"=\" * result[i]\n",
    "        print (i + \"\\t\" + num)\n",
    "    return result\n",
    "        "
   ]
  },
  {
   "cell_type": "code",
   "execution_count": 363,
   "metadata": {},
   "outputs": [
    {
     "name": "stdout",
     "output_type": "stream",
     "text": [
      "cat\t===\n",
      "sheep\t==\n",
      "duck\t====\n"
     ]
    },
    {
     "data": {
      "text/plain": [
       "{'cat': 3, 'sheep': 2, 'duck': 4}"
      ]
     },
     "execution_count": 363,
     "metadata": {},
     "output_type": "execute_result"
    }
   ],
   "source": [
    "draw_histogram(result)"
   ]
  }
 ],
 "metadata": {
  "kernelspec": {
   "display_name": "Python 3",
   "language": "python",
   "name": "python3"
  },
  "language_info": {
   "codemirror_mode": {
    "name": "ipython",
    "version": 3
   },
   "file_extension": ".py",
   "mimetype": "text/x-python",
   "name": "python",
   "nbconvert_exporter": "python",
   "pygments_lexer": "ipython3",
   "version": "3.6.5"
  }
 },
 "nbformat": 4,
 "nbformat_minor": 2
}
