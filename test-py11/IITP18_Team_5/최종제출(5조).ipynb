{
 "cells": [
  {
   "cell_type": "markdown",
   "metadata": {},
   "source": [
    "## 데이터 수집"
   ]
  },
  {
   "cell_type": "code",
   "execution_count": 74,
   "metadata": {},
   "outputs": [],
   "source": [
    "from bs4 import BeautifulSoup \n",
    "from urllib.request import urlopen\n",
    "from konlpy.tag import Twitter\n",
    "from lxml import html\n",
    "from collections import Counter\n",
    "from datetime import datetime, timedelta\n",
    "from selenium import webdriver\n",
    "\n",
    "import pandas as pd\n",
    "import re\n",
    "import random\n",
    "import pytagcloud      # requires Korean font support\n",
    "import webbrowser\n",
    "import nltk\n",
    "import numpy as np\n",
    "import matplotlib.pyplot as plt\n",
    "import matplotlib\n",
    "import time\n",
    "\n",
    "matplotlib.rcParams['axes.unicode_minus'] = False\n",
    "\n",
    "from matplotlib import font_manager, rc\n",
    "from pylab import figure, axes, pie, title, savefig\n",
    "font_name = font_manager.FontProperties(fname=\"C:/Windows/Fonts/malgun.ttf\").get_name()\n",
    "rc('font', family=font_name)"
   ]
  },
  {
   "cell_type": "markdown",
   "metadata": {},
   "source": [
    "### 언론사 제목 수집(조선,세계,한겨레)"
   ]
  },
  {
   "cell_type": "markdown",
   "metadata": {},
   "source": [
    "### URL 입력"
   ]
  },
  {
   "cell_type": "code",
   "execution_count": 2,
   "metadata": {},
   "outputs": [
    {
     "name": "stdout",
     "output_type": "stream",
     "text": [
      "url 주소를 입력하세요. \n",
      "정치 : http://www.segye.com/newsList/0101010100000?curPage=\n",
      "경제 : http://www.segye.com/newsList/0101030100000?curPage=\n",
      "사회 : http://www.segye.com/newsList/0101080100000?curPage= \n",
      "http://www.segye.com/newsList/0101080100000?curPage=\n"
     ]
    }
   ],
   "source": [
    "urls = []\n",
    "url = input(\"url 주소를 입력하세요. \\n정치 : http://www.segye.com/newsList/0101010100000?curPage=\\n경제 : http://www.segye.com/newsList/0101030100000?curPage=\\n사회 : http://www.segye.com/newsList/0101080100000?curPage= \\n\")\n",
    "for x in range(1, 1000):\n",
    "    urls.append('%s%d' % (url, x))"
   ]
  },
  {
   "cell_type": "code",
   "execution_count": 3,
   "metadata": {},
   "outputs": [
    {
     "data": {
      "text/plain": [
       "999"
      ]
     },
     "execution_count": 3,
     "metadata": {},
     "output_type": "execute_result"
    }
   ],
   "source": [
    "len(urls)"
   ]
  },
  {
   "cell_type": "code",
   "execution_count": 4,
   "metadata": {},
   "outputs": [
    {
     "data": {
      "text/plain": [
       "['http://www.segye.com/newsList/0101080100000?curPage=1',\n",
       " 'http://www.segye.com/newsList/0101080100000?curPage=2',\n",
       " 'http://www.segye.com/newsList/0101080100000?curPage=3',\n",
       " 'http://www.segye.com/newsList/0101080100000?curPage=4',\n",
       " 'http://www.segye.com/newsList/0101080100000?curPage=5',\n",
       " 'http://www.segye.com/newsList/0101080100000?curPage=6',\n",
       " 'http://www.segye.com/newsList/0101080100000?curPage=7',\n",
       " 'http://www.segye.com/newsList/0101080100000?curPage=8',\n",
       " 'http://www.segye.com/newsList/0101080100000?curPage=9',\n",
       " 'http://www.segye.com/newsList/0101080100000?curPage=10',\n",
       " 'http://www.segye.com/newsList/0101080100000?curPage=11',\n",
       " 'http://www.segye.com/newsList/0101080100000?curPage=12',\n",
       " 'http://www.segye.com/newsList/0101080100000?curPage=13',\n",
       " 'http://www.segye.com/newsList/0101080100000?curPage=14',\n",
       " 'http://www.segye.com/newsList/0101080100000?curPage=15',\n",
       " 'http://www.segye.com/newsList/0101080100000?curPage=16',\n",
       " 'http://www.segye.com/newsList/0101080100000?curPage=17',\n",
       " 'http://www.segye.com/newsList/0101080100000?curPage=18',\n",
       " 'http://www.segye.com/newsList/0101080100000?curPage=19',\n",
       " 'http://www.segye.com/newsList/0101080100000?curPage=20',\n",
       " 'http://www.segye.com/newsList/0101080100000?curPage=21',\n",
       " 'http://www.segye.com/newsList/0101080100000?curPage=22',\n",
       " 'http://www.segye.com/newsList/0101080100000?curPage=23',\n",
       " 'http://www.segye.com/newsList/0101080100000?curPage=24',\n",
       " 'http://www.segye.com/newsList/0101080100000?curPage=25',\n",
       " 'http://www.segye.com/newsList/0101080100000?curPage=26',\n",
       " 'http://www.segye.com/newsList/0101080100000?curPage=27',\n",
       " 'http://www.segye.com/newsList/0101080100000?curPage=28',\n",
       " 'http://www.segye.com/newsList/0101080100000?curPage=29',\n",
       " 'http://www.segye.com/newsList/0101080100000?curPage=30',\n",
       " 'http://www.segye.com/newsList/0101080100000?curPage=31',\n",
       " 'http://www.segye.com/newsList/0101080100000?curPage=32',\n",
       " 'http://www.segye.com/newsList/0101080100000?curPage=33',\n",
       " 'http://www.segye.com/newsList/0101080100000?curPage=34',\n",
       " 'http://www.segye.com/newsList/0101080100000?curPage=35',\n",
       " 'http://www.segye.com/newsList/0101080100000?curPage=36',\n",
       " 'http://www.segye.com/newsList/0101080100000?curPage=37',\n",
       " 'http://www.segye.com/newsList/0101080100000?curPage=38',\n",
       " 'http://www.segye.com/newsList/0101080100000?curPage=39',\n",
       " 'http://www.segye.com/newsList/0101080100000?curPage=40',\n",
       " 'http://www.segye.com/newsList/0101080100000?curPage=41',\n",
       " 'http://www.segye.com/newsList/0101080100000?curPage=42',\n",
       " 'http://www.segye.com/newsList/0101080100000?curPage=43',\n",
       " 'http://www.segye.com/newsList/0101080100000?curPage=44',\n",
       " 'http://www.segye.com/newsList/0101080100000?curPage=45',\n",
       " 'http://www.segye.com/newsList/0101080100000?curPage=46',\n",
       " 'http://www.segye.com/newsList/0101080100000?curPage=47',\n",
       " 'http://www.segye.com/newsList/0101080100000?curPage=48',\n",
       " 'http://www.segye.com/newsList/0101080100000?curPage=49',\n",
       " 'http://www.segye.com/newsList/0101080100000?curPage=50',\n",
       " 'http://www.segye.com/newsList/0101080100000?curPage=51',\n",
       " 'http://www.segye.com/newsList/0101080100000?curPage=52',\n",
       " 'http://www.segye.com/newsList/0101080100000?curPage=53',\n",
       " 'http://www.segye.com/newsList/0101080100000?curPage=54',\n",
       " 'http://www.segye.com/newsList/0101080100000?curPage=55',\n",
       " 'http://www.segye.com/newsList/0101080100000?curPage=56',\n",
       " 'http://www.segye.com/newsList/0101080100000?curPage=57',\n",
       " 'http://www.segye.com/newsList/0101080100000?curPage=58',\n",
       " 'http://www.segye.com/newsList/0101080100000?curPage=59',\n",
       " 'http://www.segye.com/newsList/0101080100000?curPage=60',\n",
       " 'http://www.segye.com/newsList/0101080100000?curPage=61',\n",
       " 'http://www.segye.com/newsList/0101080100000?curPage=62',\n",
       " 'http://www.segye.com/newsList/0101080100000?curPage=63',\n",
       " 'http://www.segye.com/newsList/0101080100000?curPage=64',\n",
       " 'http://www.segye.com/newsList/0101080100000?curPage=65',\n",
       " 'http://www.segye.com/newsList/0101080100000?curPage=66',\n",
       " 'http://www.segye.com/newsList/0101080100000?curPage=67',\n",
       " 'http://www.segye.com/newsList/0101080100000?curPage=68',\n",
       " 'http://www.segye.com/newsList/0101080100000?curPage=69',\n",
       " 'http://www.segye.com/newsList/0101080100000?curPage=70',\n",
       " 'http://www.segye.com/newsList/0101080100000?curPage=71',\n",
       " 'http://www.segye.com/newsList/0101080100000?curPage=72',\n",
       " 'http://www.segye.com/newsList/0101080100000?curPage=73',\n",
       " 'http://www.segye.com/newsList/0101080100000?curPage=74',\n",
       " 'http://www.segye.com/newsList/0101080100000?curPage=75',\n",
       " 'http://www.segye.com/newsList/0101080100000?curPage=76',\n",
       " 'http://www.segye.com/newsList/0101080100000?curPage=77',\n",
       " 'http://www.segye.com/newsList/0101080100000?curPage=78',\n",
       " 'http://www.segye.com/newsList/0101080100000?curPage=79',\n",
       " 'http://www.segye.com/newsList/0101080100000?curPage=80',\n",
       " 'http://www.segye.com/newsList/0101080100000?curPage=81',\n",
       " 'http://www.segye.com/newsList/0101080100000?curPage=82',\n",
       " 'http://www.segye.com/newsList/0101080100000?curPage=83',\n",
       " 'http://www.segye.com/newsList/0101080100000?curPage=84',\n",
       " 'http://www.segye.com/newsList/0101080100000?curPage=85',\n",
       " 'http://www.segye.com/newsList/0101080100000?curPage=86',\n",
       " 'http://www.segye.com/newsList/0101080100000?curPage=87',\n",
       " 'http://www.segye.com/newsList/0101080100000?curPage=88',\n",
       " 'http://www.segye.com/newsList/0101080100000?curPage=89',\n",
       " 'http://www.segye.com/newsList/0101080100000?curPage=90',\n",
       " 'http://www.segye.com/newsList/0101080100000?curPage=91',\n",
       " 'http://www.segye.com/newsList/0101080100000?curPage=92',\n",
       " 'http://www.segye.com/newsList/0101080100000?curPage=93',\n",
       " 'http://www.segye.com/newsList/0101080100000?curPage=94',\n",
       " 'http://www.segye.com/newsList/0101080100000?curPage=95',\n",
       " 'http://www.segye.com/newsList/0101080100000?curPage=96',\n",
       " 'http://www.segye.com/newsList/0101080100000?curPage=97',\n",
       " 'http://www.segye.com/newsList/0101080100000?curPage=98',\n",
       " 'http://www.segye.com/newsList/0101080100000?curPage=99',\n",
       " 'http://www.segye.com/newsList/0101080100000?curPage=100',\n",
       " 'http://www.segye.com/newsList/0101080100000?curPage=101',\n",
       " 'http://www.segye.com/newsList/0101080100000?curPage=102',\n",
       " 'http://www.segye.com/newsList/0101080100000?curPage=103',\n",
       " 'http://www.segye.com/newsList/0101080100000?curPage=104',\n",
       " 'http://www.segye.com/newsList/0101080100000?curPage=105',\n",
       " 'http://www.segye.com/newsList/0101080100000?curPage=106',\n",
       " 'http://www.segye.com/newsList/0101080100000?curPage=107',\n",
       " 'http://www.segye.com/newsList/0101080100000?curPage=108',\n",
       " 'http://www.segye.com/newsList/0101080100000?curPage=109',\n",
       " 'http://www.segye.com/newsList/0101080100000?curPage=110',\n",
       " 'http://www.segye.com/newsList/0101080100000?curPage=111',\n",
       " 'http://www.segye.com/newsList/0101080100000?curPage=112',\n",
       " 'http://www.segye.com/newsList/0101080100000?curPage=113',\n",
       " 'http://www.segye.com/newsList/0101080100000?curPage=114',\n",
       " 'http://www.segye.com/newsList/0101080100000?curPage=115',\n",
       " 'http://www.segye.com/newsList/0101080100000?curPage=116',\n",
       " 'http://www.segye.com/newsList/0101080100000?curPage=117',\n",
       " 'http://www.segye.com/newsList/0101080100000?curPage=118',\n",
       " 'http://www.segye.com/newsList/0101080100000?curPage=119',\n",
       " 'http://www.segye.com/newsList/0101080100000?curPage=120',\n",
       " 'http://www.segye.com/newsList/0101080100000?curPage=121',\n",
       " 'http://www.segye.com/newsList/0101080100000?curPage=122',\n",
       " 'http://www.segye.com/newsList/0101080100000?curPage=123',\n",
       " 'http://www.segye.com/newsList/0101080100000?curPage=124',\n",
       " 'http://www.segye.com/newsList/0101080100000?curPage=125',\n",
       " 'http://www.segye.com/newsList/0101080100000?curPage=126',\n",
       " 'http://www.segye.com/newsList/0101080100000?curPage=127',\n",
       " 'http://www.segye.com/newsList/0101080100000?curPage=128',\n",
       " 'http://www.segye.com/newsList/0101080100000?curPage=129',\n",
       " 'http://www.segye.com/newsList/0101080100000?curPage=130',\n",
       " 'http://www.segye.com/newsList/0101080100000?curPage=131',\n",
       " 'http://www.segye.com/newsList/0101080100000?curPage=132',\n",
       " 'http://www.segye.com/newsList/0101080100000?curPage=133',\n",
       " 'http://www.segye.com/newsList/0101080100000?curPage=134',\n",
       " 'http://www.segye.com/newsList/0101080100000?curPage=135',\n",
       " 'http://www.segye.com/newsList/0101080100000?curPage=136',\n",
       " 'http://www.segye.com/newsList/0101080100000?curPage=137',\n",
       " 'http://www.segye.com/newsList/0101080100000?curPage=138',\n",
       " 'http://www.segye.com/newsList/0101080100000?curPage=139',\n",
       " 'http://www.segye.com/newsList/0101080100000?curPage=140',\n",
       " 'http://www.segye.com/newsList/0101080100000?curPage=141',\n",
       " 'http://www.segye.com/newsList/0101080100000?curPage=142',\n",
       " 'http://www.segye.com/newsList/0101080100000?curPage=143',\n",
       " 'http://www.segye.com/newsList/0101080100000?curPage=144',\n",
       " 'http://www.segye.com/newsList/0101080100000?curPage=145',\n",
       " 'http://www.segye.com/newsList/0101080100000?curPage=146',\n",
       " 'http://www.segye.com/newsList/0101080100000?curPage=147',\n",
       " 'http://www.segye.com/newsList/0101080100000?curPage=148',\n",
       " 'http://www.segye.com/newsList/0101080100000?curPage=149',\n",
       " 'http://www.segye.com/newsList/0101080100000?curPage=150',\n",
       " 'http://www.segye.com/newsList/0101080100000?curPage=151',\n",
       " 'http://www.segye.com/newsList/0101080100000?curPage=152',\n",
       " 'http://www.segye.com/newsList/0101080100000?curPage=153',\n",
       " 'http://www.segye.com/newsList/0101080100000?curPage=154',\n",
       " 'http://www.segye.com/newsList/0101080100000?curPage=155',\n",
       " 'http://www.segye.com/newsList/0101080100000?curPage=156',\n",
       " 'http://www.segye.com/newsList/0101080100000?curPage=157',\n",
       " 'http://www.segye.com/newsList/0101080100000?curPage=158',\n",
       " 'http://www.segye.com/newsList/0101080100000?curPage=159',\n",
       " 'http://www.segye.com/newsList/0101080100000?curPage=160',\n",
       " 'http://www.segye.com/newsList/0101080100000?curPage=161',\n",
       " 'http://www.segye.com/newsList/0101080100000?curPage=162',\n",
       " 'http://www.segye.com/newsList/0101080100000?curPage=163',\n",
       " 'http://www.segye.com/newsList/0101080100000?curPage=164',\n",
       " 'http://www.segye.com/newsList/0101080100000?curPage=165',\n",
       " 'http://www.segye.com/newsList/0101080100000?curPage=166',\n",
       " 'http://www.segye.com/newsList/0101080100000?curPage=167',\n",
       " 'http://www.segye.com/newsList/0101080100000?curPage=168',\n",
       " 'http://www.segye.com/newsList/0101080100000?curPage=169',\n",
       " 'http://www.segye.com/newsList/0101080100000?curPage=170',\n",
       " 'http://www.segye.com/newsList/0101080100000?curPage=171',\n",
       " 'http://www.segye.com/newsList/0101080100000?curPage=172',\n",
       " 'http://www.segye.com/newsList/0101080100000?curPage=173',\n",
       " 'http://www.segye.com/newsList/0101080100000?curPage=174',\n",
       " 'http://www.segye.com/newsList/0101080100000?curPage=175',\n",
       " 'http://www.segye.com/newsList/0101080100000?curPage=176',\n",
       " 'http://www.segye.com/newsList/0101080100000?curPage=177',\n",
       " 'http://www.segye.com/newsList/0101080100000?curPage=178',\n",
       " 'http://www.segye.com/newsList/0101080100000?curPage=179',\n",
       " 'http://www.segye.com/newsList/0101080100000?curPage=180',\n",
       " 'http://www.segye.com/newsList/0101080100000?curPage=181',\n",
       " 'http://www.segye.com/newsList/0101080100000?curPage=182',\n",
       " 'http://www.segye.com/newsList/0101080100000?curPage=183',\n",
       " 'http://www.segye.com/newsList/0101080100000?curPage=184',\n",
       " 'http://www.segye.com/newsList/0101080100000?curPage=185',\n",
       " 'http://www.segye.com/newsList/0101080100000?curPage=186',\n",
       " 'http://www.segye.com/newsList/0101080100000?curPage=187',\n",
       " 'http://www.segye.com/newsList/0101080100000?curPage=188',\n",
       " 'http://www.segye.com/newsList/0101080100000?curPage=189',\n",
       " 'http://www.segye.com/newsList/0101080100000?curPage=190',\n",
       " 'http://www.segye.com/newsList/0101080100000?curPage=191',\n",
       " 'http://www.segye.com/newsList/0101080100000?curPage=192',\n",
       " 'http://www.segye.com/newsList/0101080100000?curPage=193',\n",
       " 'http://www.segye.com/newsList/0101080100000?curPage=194',\n",
       " 'http://www.segye.com/newsList/0101080100000?curPage=195',\n",
       " 'http://www.segye.com/newsList/0101080100000?curPage=196',\n",
       " 'http://www.segye.com/newsList/0101080100000?curPage=197',\n",
       " 'http://www.segye.com/newsList/0101080100000?curPage=198',\n",
       " 'http://www.segye.com/newsList/0101080100000?curPage=199',\n",
       " 'http://www.segye.com/newsList/0101080100000?curPage=200',\n",
       " 'http://www.segye.com/newsList/0101080100000?curPage=201',\n",
       " 'http://www.segye.com/newsList/0101080100000?curPage=202',\n",
       " 'http://www.segye.com/newsList/0101080100000?curPage=203',\n",
       " 'http://www.segye.com/newsList/0101080100000?curPage=204',\n",
       " 'http://www.segye.com/newsList/0101080100000?curPage=205',\n",
       " 'http://www.segye.com/newsList/0101080100000?curPage=206',\n",
       " 'http://www.segye.com/newsList/0101080100000?curPage=207',\n",
       " 'http://www.segye.com/newsList/0101080100000?curPage=208',\n",
       " 'http://www.segye.com/newsList/0101080100000?curPage=209',\n",
       " 'http://www.segye.com/newsList/0101080100000?curPage=210',\n",
       " 'http://www.segye.com/newsList/0101080100000?curPage=211',\n",
       " 'http://www.segye.com/newsList/0101080100000?curPage=212',\n",
       " 'http://www.segye.com/newsList/0101080100000?curPage=213',\n",
       " 'http://www.segye.com/newsList/0101080100000?curPage=214',\n",
       " 'http://www.segye.com/newsList/0101080100000?curPage=215',\n",
       " 'http://www.segye.com/newsList/0101080100000?curPage=216',\n",
       " 'http://www.segye.com/newsList/0101080100000?curPage=217',\n",
       " 'http://www.segye.com/newsList/0101080100000?curPage=218',\n",
       " 'http://www.segye.com/newsList/0101080100000?curPage=219',\n",
       " 'http://www.segye.com/newsList/0101080100000?curPage=220',\n",
       " 'http://www.segye.com/newsList/0101080100000?curPage=221',\n",
       " 'http://www.segye.com/newsList/0101080100000?curPage=222',\n",
       " 'http://www.segye.com/newsList/0101080100000?curPage=223',\n",
       " 'http://www.segye.com/newsList/0101080100000?curPage=224',\n",
       " 'http://www.segye.com/newsList/0101080100000?curPage=225',\n",
       " 'http://www.segye.com/newsList/0101080100000?curPage=226',\n",
       " 'http://www.segye.com/newsList/0101080100000?curPage=227',\n",
       " 'http://www.segye.com/newsList/0101080100000?curPage=228',\n",
       " 'http://www.segye.com/newsList/0101080100000?curPage=229',\n",
       " 'http://www.segye.com/newsList/0101080100000?curPage=230',\n",
       " 'http://www.segye.com/newsList/0101080100000?curPage=231',\n",
       " 'http://www.segye.com/newsList/0101080100000?curPage=232',\n",
       " 'http://www.segye.com/newsList/0101080100000?curPage=233',\n",
       " 'http://www.segye.com/newsList/0101080100000?curPage=234',\n",
       " 'http://www.segye.com/newsList/0101080100000?curPage=235',\n",
       " 'http://www.segye.com/newsList/0101080100000?curPage=236',\n",
       " 'http://www.segye.com/newsList/0101080100000?curPage=237',\n",
       " 'http://www.segye.com/newsList/0101080100000?curPage=238',\n",
       " 'http://www.segye.com/newsList/0101080100000?curPage=239',\n",
       " 'http://www.segye.com/newsList/0101080100000?curPage=240',\n",
       " 'http://www.segye.com/newsList/0101080100000?curPage=241',\n",
       " 'http://www.segye.com/newsList/0101080100000?curPage=242',\n",
       " 'http://www.segye.com/newsList/0101080100000?curPage=243',\n",
       " 'http://www.segye.com/newsList/0101080100000?curPage=244',\n",
       " 'http://www.segye.com/newsList/0101080100000?curPage=245',\n",
       " 'http://www.segye.com/newsList/0101080100000?curPage=246',\n",
       " 'http://www.segye.com/newsList/0101080100000?curPage=247',\n",
       " 'http://www.segye.com/newsList/0101080100000?curPage=248',\n",
       " 'http://www.segye.com/newsList/0101080100000?curPage=249',\n",
       " 'http://www.segye.com/newsList/0101080100000?curPage=250',\n",
       " 'http://www.segye.com/newsList/0101080100000?curPage=251',\n",
       " 'http://www.segye.com/newsList/0101080100000?curPage=252',\n",
       " 'http://www.segye.com/newsList/0101080100000?curPage=253',\n",
       " 'http://www.segye.com/newsList/0101080100000?curPage=254',\n",
       " 'http://www.segye.com/newsList/0101080100000?curPage=255',\n",
       " 'http://www.segye.com/newsList/0101080100000?curPage=256',\n",
       " 'http://www.segye.com/newsList/0101080100000?curPage=257',\n",
       " 'http://www.segye.com/newsList/0101080100000?curPage=258',\n",
       " 'http://www.segye.com/newsList/0101080100000?curPage=259',\n",
       " 'http://www.segye.com/newsList/0101080100000?curPage=260',\n",
       " 'http://www.segye.com/newsList/0101080100000?curPage=261',\n",
       " 'http://www.segye.com/newsList/0101080100000?curPage=262',\n",
       " 'http://www.segye.com/newsList/0101080100000?curPage=263',\n",
       " 'http://www.segye.com/newsList/0101080100000?curPage=264',\n",
       " 'http://www.segye.com/newsList/0101080100000?curPage=265',\n",
       " 'http://www.segye.com/newsList/0101080100000?curPage=266',\n",
       " 'http://www.segye.com/newsList/0101080100000?curPage=267',\n",
       " 'http://www.segye.com/newsList/0101080100000?curPage=268',\n",
       " 'http://www.segye.com/newsList/0101080100000?curPage=269',\n",
       " 'http://www.segye.com/newsList/0101080100000?curPage=270',\n",
       " 'http://www.segye.com/newsList/0101080100000?curPage=271',\n",
       " 'http://www.segye.com/newsList/0101080100000?curPage=272',\n",
       " 'http://www.segye.com/newsList/0101080100000?curPage=273',\n",
       " 'http://www.segye.com/newsList/0101080100000?curPage=274',\n",
       " 'http://www.segye.com/newsList/0101080100000?curPage=275',\n",
       " 'http://www.segye.com/newsList/0101080100000?curPage=276',\n",
       " 'http://www.segye.com/newsList/0101080100000?curPage=277',\n",
       " 'http://www.segye.com/newsList/0101080100000?curPage=278',\n",
       " 'http://www.segye.com/newsList/0101080100000?curPage=279',\n",
       " 'http://www.segye.com/newsList/0101080100000?curPage=280',\n",
       " 'http://www.segye.com/newsList/0101080100000?curPage=281',\n",
       " 'http://www.segye.com/newsList/0101080100000?curPage=282',\n",
       " 'http://www.segye.com/newsList/0101080100000?curPage=283',\n",
       " 'http://www.segye.com/newsList/0101080100000?curPage=284',\n",
       " 'http://www.segye.com/newsList/0101080100000?curPage=285',\n",
       " 'http://www.segye.com/newsList/0101080100000?curPage=286',\n",
       " 'http://www.segye.com/newsList/0101080100000?curPage=287',\n",
       " 'http://www.segye.com/newsList/0101080100000?curPage=288',\n",
       " 'http://www.segye.com/newsList/0101080100000?curPage=289',\n",
       " 'http://www.segye.com/newsList/0101080100000?curPage=290',\n",
       " 'http://www.segye.com/newsList/0101080100000?curPage=291',\n",
       " 'http://www.segye.com/newsList/0101080100000?curPage=292',\n",
       " 'http://www.segye.com/newsList/0101080100000?curPage=293',\n",
       " 'http://www.segye.com/newsList/0101080100000?curPage=294',\n",
       " 'http://www.segye.com/newsList/0101080100000?curPage=295',\n",
       " 'http://www.segye.com/newsList/0101080100000?curPage=296',\n",
       " 'http://www.segye.com/newsList/0101080100000?curPage=297',\n",
       " 'http://www.segye.com/newsList/0101080100000?curPage=298',\n",
       " 'http://www.segye.com/newsList/0101080100000?curPage=299',\n",
       " 'http://www.segye.com/newsList/0101080100000?curPage=300',\n",
       " 'http://www.segye.com/newsList/0101080100000?curPage=301',\n",
       " 'http://www.segye.com/newsList/0101080100000?curPage=302',\n",
       " 'http://www.segye.com/newsList/0101080100000?curPage=303',\n",
       " 'http://www.segye.com/newsList/0101080100000?curPage=304',\n",
       " 'http://www.segye.com/newsList/0101080100000?curPage=305',\n",
       " 'http://www.segye.com/newsList/0101080100000?curPage=306',\n",
       " 'http://www.segye.com/newsList/0101080100000?curPage=307',\n",
       " 'http://www.segye.com/newsList/0101080100000?curPage=308',\n",
       " 'http://www.segye.com/newsList/0101080100000?curPage=309',\n",
       " 'http://www.segye.com/newsList/0101080100000?curPage=310',\n",
       " 'http://www.segye.com/newsList/0101080100000?curPage=311',\n",
       " 'http://www.segye.com/newsList/0101080100000?curPage=312',\n",
       " 'http://www.segye.com/newsList/0101080100000?curPage=313',\n",
       " 'http://www.segye.com/newsList/0101080100000?curPage=314',\n",
       " 'http://www.segye.com/newsList/0101080100000?curPage=315',\n",
       " 'http://www.segye.com/newsList/0101080100000?curPage=316',\n",
       " 'http://www.segye.com/newsList/0101080100000?curPage=317',\n",
       " 'http://www.segye.com/newsList/0101080100000?curPage=318',\n",
       " 'http://www.segye.com/newsList/0101080100000?curPage=319',\n",
       " 'http://www.segye.com/newsList/0101080100000?curPage=320',\n",
       " 'http://www.segye.com/newsList/0101080100000?curPage=321',\n",
       " 'http://www.segye.com/newsList/0101080100000?curPage=322',\n",
       " 'http://www.segye.com/newsList/0101080100000?curPage=323',\n",
       " 'http://www.segye.com/newsList/0101080100000?curPage=324',\n",
       " 'http://www.segye.com/newsList/0101080100000?curPage=325',\n",
       " 'http://www.segye.com/newsList/0101080100000?curPage=326',\n",
       " 'http://www.segye.com/newsList/0101080100000?curPage=327',\n",
       " 'http://www.segye.com/newsList/0101080100000?curPage=328',\n",
       " 'http://www.segye.com/newsList/0101080100000?curPage=329',\n",
       " 'http://www.segye.com/newsList/0101080100000?curPage=330',\n",
       " 'http://www.segye.com/newsList/0101080100000?curPage=331',\n",
       " 'http://www.segye.com/newsList/0101080100000?curPage=332',\n",
       " 'http://www.segye.com/newsList/0101080100000?curPage=333',\n",
       " 'http://www.segye.com/newsList/0101080100000?curPage=334',\n",
       " 'http://www.segye.com/newsList/0101080100000?curPage=335',\n",
       " 'http://www.segye.com/newsList/0101080100000?curPage=336',\n",
       " 'http://www.segye.com/newsList/0101080100000?curPage=337',\n",
       " 'http://www.segye.com/newsList/0101080100000?curPage=338',\n",
       " 'http://www.segye.com/newsList/0101080100000?curPage=339',\n",
       " 'http://www.segye.com/newsList/0101080100000?curPage=340',\n",
       " 'http://www.segye.com/newsList/0101080100000?curPage=341',\n",
       " 'http://www.segye.com/newsList/0101080100000?curPage=342',\n",
       " 'http://www.segye.com/newsList/0101080100000?curPage=343',\n",
       " 'http://www.segye.com/newsList/0101080100000?curPage=344',\n",
       " 'http://www.segye.com/newsList/0101080100000?curPage=345',\n",
       " 'http://www.segye.com/newsList/0101080100000?curPage=346',\n",
       " 'http://www.segye.com/newsList/0101080100000?curPage=347',\n",
       " 'http://www.segye.com/newsList/0101080100000?curPage=348',\n",
       " 'http://www.segye.com/newsList/0101080100000?curPage=349',\n",
       " 'http://www.segye.com/newsList/0101080100000?curPage=350',\n",
       " 'http://www.segye.com/newsList/0101080100000?curPage=351',\n",
       " 'http://www.segye.com/newsList/0101080100000?curPage=352',\n",
       " 'http://www.segye.com/newsList/0101080100000?curPage=353',\n",
       " 'http://www.segye.com/newsList/0101080100000?curPage=354',\n",
       " 'http://www.segye.com/newsList/0101080100000?curPage=355',\n",
       " 'http://www.segye.com/newsList/0101080100000?curPage=356',\n",
       " 'http://www.segye.com/newsList/0101080100000?curPage=357',\n",
       " 'http://www.segye.com/newsList/0101080100000?curPage=358',\n",
       " 'http://www.segye.com/newsList/0101080100000?curPage=359',\n",
       " 'http://www.segye.com/newsList/0101080100000?curPage=360',\n",
       " 'http://www.segye.com/newsList/0101080100000?curPage=361',\n",
       " 'http://www.segye.com/newsList/0101080100000?curPage=362',\n",
       " 'http://www.segye.com/newsList/0101080100000?curPage=363',\n",
       " 'http://www.segye.com/newsList/0101080100000?curPage=364',\n",
       " 'http://www.segye.com/newsList/0101080100000?curPage=365',\n",
       " 'http://www.segye.com/newsList/0101080100000?curPage=366',\n",
       " 'http://www.segye.com/newsList/0101080100000?curPage=367',\n",
       " 'http://www.segye.com/newsList/0101080100000?curPage=368',\n",
       " 'http://www.segye.com/newsList/0101080100000?curPage=369',\n",
       " 'http://www.segye.com/newsList/0101080100000?curPage=370',\n",
       " 'http://www.segye.com/newsList/0101080100000?curPage=371',\n",
       " 'http://www.segye.com/newsList/0101080100000?curPage=372',\n",
       " 'http://www.segye.com/newsList/0101080100000?curPage=373',\n",
       " 'http://www.segye.com/newsList/0101080100000?curPage=374',\n",
       " 'http://www.segye.com/newsList/0101080100000?curPage=375',\n",
       " 'http://www.segye.com/newsList/0101080100000?curPage=376',\n",
       " 'http://www.segye.com/newsList/0101080100000?curPage=377',\n",
       " 'http://www.segye.com/newsList/0101080100000?curPage=378',\n",
       " 'http://www.segye.com/newsList/0101080100000?curPage=379',\n",
       " 'http://www.segye.com/newsList/0101080100000?curPage=380',\n",
       " 'http://www.segye.com/newsList/0101080100000?curPage=381',\n",
       " 'http://www.segye.com/newsList/0101080100000?curPage=382',\n",
       " 'http://www.segye.com/newsList/0101080100000?curPage=383',\n",
       " 'http://www.segye.com/newsList/0101080100000?curPage=384',\n",
       " 'http://www.segye.com/newsList/0101080100000?curPage=385',\n",
       " 'http://www.segye.com/newsList/0101080100000?curPage=386',\n",
       " 'http://www.segye.com/newsList/0101080100000?curPage=387',\n",
       " 'http://www.segye.com/newsList/0101080100000?curPage=388',\n",
       " 'http://www.segye.com/newsList/0101080100000?curPage=389',\n",
       " 'http://www.segye.com/newsList/0101080100000?curPage=390',\n",
       " 'http://www.segye.com/newsList/0101080100000?curPage=391',\n",
       " 'http://www.segye.com/newsList/0101080100000?curPage=392',\n",
       " 'http://www.segye.com/newsList/0101080100000?curPage=393',\n",
       " 'http://www.segye.com/newsList/0101080100000?curPage=394',\n",
       " 'http://www.segye.com/newsList/0101080100000?curPage=395',\n",
       " 'http://www.segye.com/newsList/0101080100000?curPage=396',\n",
       " 'http://www.segye.com/newsList/0101080100000?curPage=397',\n",
       " 'http://www.segye.com/newsList/0101080100000?curPage=398',\n",
       " 'http://www.segye.com/newsList/0101080100000?curPage=399',\n",
       " 'http://www.segye.com/newsList/0101080100000?curPage=400',\n",
       " 'http://www.segye.com/newsList/0101080100000?curPage=401',\n",
       " 'http://www.segye.com/newsList/0101080100000?curPage=402',\n",
       " 'http://www.segye.com/newsList/0101080100000?curPage=403',\n",
       " 'http://www.segye.com/newsList/0101080100000?curPage=404',\n",
       " 'http://www.segye.com/newsList/0101080100000?curPage=405',\n",
       " 'http://www.segye.com/newsList/0101080100000?curPage=406',\n",
       " 'http://www.segye.com/newsList/0101080100000?curPage=407',\n",
       " 'http://www.segye.com/newsList/0101080100000?curPage=408',\n",
       " 'http://www.segye.com/newsList/0101080100000?curPage=409',\n",
       " 'http://www.segye.com/newsList/0101080100000?curPage=410',\n",
       " 'http://www.segye.com/newsList/0101080100000?curPage=411',\n",
       " 'http://www.segye.com/newsList/0101080100000?curPage=412',\n",
       " 'http://www.segye.com/newsList/0101080100000?curPage=413',\n",
       " 'http://www.segye.com/newsList/0101080100000?curPage=414',\n",
       " 'http://www.segye.com/newsList/0101080100000?curPage=415',\n",
       " 'http://www.segye.com/newsList/0101080100000?curPage=416',\n",
       " 'http://www.segye.com/newsList/0101080100000?curPage=417',\n",
       " 'http://www.segye.com/newsList/0101080100000?curPage=418',\n",
       " 'http://www.segye.com/newsList/0101080100000?curPage=419',\n",
       " 'http://www.segye.com/newsList/0101080100000?curPage=420',\n",
       " 'http://www.segye.com/newsList/0101080100000?curPage=421',\n",
       " 'http://www.segye.com/newsList/0101080100000?curPage=422',\n",
       " 'http://www.segye.com/newsList/0101080100000?curPage=423',\n",
       " 'http://www.segye.com/newsList/0101080100000?curPage=424',\n",
       " 'http://www.segye.com/newsList/0101080100000?curPage=425',\n",
       " 'http://www.segye.com/newsList/0101080100000?curPage=426',\n",
       " 'http://www.segye.com/newsList/0101080100000?curPage=427',\n",
       " 'http://www.segye.com/newsList/0101080100000?curPage=428',\n",
       " 'http://www.segye.com/newsList/0101080100000?curPage=429',\n",
       " 'http://www.segye.com/newsList/0101080100000?curPage=430',\n",
       " 'http://www.segye.com/newsList/0101080100000?curPage=431',\n",
       " 'http://www.segye.com/newsList/0101080100000?curPage=432',\n",
       " 'http://www.segye.com/newsList/0101080100000?curPage=433',\n",
       " 'http://www.segye.com/newsList/0101080100000?curPage=434',\n",
       " 'http://www.segye.com/newsList/0101080100000?curPage=435',\n",
       " 'http://www.segye.com/newsList/0101080100000?curPage=436',\n",
       " 'http://www.segye.com/newsList/0101080100000?curPage=437',\n",
       " 'http://www.segye.com/newsList/0101080100000?curPage=438',\n",
       " 'http://www.segye.com/newsList/0101080100000?curPage=439',\n",
       " 'http://www.segye.com/newsList/0101080100000?curPage=440',\n",
       " 'http://www.segye.com/newsList/0101080100000?curPage=441',\n",
       " 'http://www.segye.com/newsList/0101080100000?curPage=442',\n",
       " 'http://www.segye.com/newsList/0101080100000?curPage=443',\n",
       " 'http://www.segye.com/newsList/0101080100000?curPage=444',\n",
       " 'http://www.segye.com/newsList/0101080100000?curPage=445',\n",
       " 'http://www.segye.com/newsList/0101080100000?curPage=446',\n",
       " 'http://www.segye.com/newsList/0101080100000?curPage=447',\n",
       " 'http://www.segye.com/newsList/0101080100000?curPage=448',\n",
       " 'http://www.segye.com/newsList/0101080100000?curPage=449',\n",
       " 'http://www.segye.com/newsList/0101080100000?curPage=450',\n",
       " 'http://www.segye.com/newsList/0101080100000?curPage=451',\n",
       " 'http://www.segye.com/newsList/0101080100000?curPage=452',\n",
       " 'http://www.segye.com/newsList/0101080100000?curPage=453',\n",
       " 'http://www.segye.com/newsList/0101080100000?curPage=454',\n",
       " 'http://www.segye.com/newsList/0101080100000?curPage=455',\n",
       " 'http://www.segye.com/newsList/0101080100000?curPage=456',\n",
       " 'http://www.segye.com/newsList/0101080100000?curPage=457',\n",
       " 'http://www.segye.com/newsList/0101080100000?curPage=458',\n",
       " 'http://www.segye.com/newsList/0101080100000?curPage=459',\n",
       " 'http://www.segye.com/newsList/0101080100000?curPage=460',\n",
       " 'http://www.segye.com/newsList/0101080100000?curPage=461',\n",
       " 'http://www.segye.com/newsList/0101080100000?curPage=462',\n",
       " 'http://www.segye.com/newsList/0101080100000?curPage=463',\n",
       " 'http://www.segye.com/newsList/0101080100000?curPage=464',\n",
       " 'http://www.segye.com/newsList/0101080100000?curPage=465',\n",
       " 'http://www.segye.com/newsList/0101080100000?curPage=466',\n",
       " 'http://www.segye.com/newsList/0101080100000?curPage=467',\n",
       " 'http://www.segye.com/newsList/0101080100000?curPage=468',\n",
       " 'http://www.segye.com/newsList/0101080100000?curPage=469',\n",
       " 'http://www.segye.com/newsList/0101080100000?curPage=470',\n",
       " 'http://www.segye.com/newsList/0101080100000?curPage=471',\n",
       " 'http://www.segye.com/newsList/0101080100000?curPage=472',\n",
       " 'http://www.segye.com/newsList/0101080100000?curPage=473',\n",
       " 'http://www.segye.com/newsList/0101080100000?curPage=474',\n",
       " 'http://www.segye.com/newsList/0101080100000?curPage=475',\n",
       " 'http://www.segye.com/newsList/0101080100000?curPage=476',\n",
       " 'http://www.segye.com/newsList/0101080100000?curPage=477',\n",
       " 'http://www.segye.com/newsList/0101080100000?curPage=478',\n",
       " 'http://www.segye.com/newsList/0101080100000?curPage=479',\n",
       " 'http://www.segye.com/newsList/0101080100000?curPage=480',\n",
       " 'http://www.segye.com/newsList/0101080100000?curPage=481',\n",
       " 'http://www.segye.com/newsList/0101080100000?curPage=482',\n",
       " 'http://www.segye.com/newsList/0101080100000?curPage=483',\n",
       " 'http://www.segye.com/newsList/0101080100000?curPage=484',\n",
       " 'http://www.segye.com/newsList/0101080100000?curPage=485',\n",
       " 'http://www.segye.com/newsList/0101080100000?curPage=486',\n",
       " 'http://www.segye.com/newsList/0101080100000?curPage=487',\n",
       " 'http://www.segye.com/newsList/0101080100000?curPage=488',\n",
       " 'http://www.segye.com/newsList/0101080100000?curPage=489',\n",
       " 'http://www.segye.com/newsList/0101080100000?curPage=490',\n",
       " 'http://www.segye.com/newsList/0101080100000?curPage=491',\n",
       " 'http://www.segye.com/newsList/0101080100000?curPage=492',\n",
       " 'http://www.segye.com/newsList/0101080100000?curPage=493',\n",
       " 'http://www.segye.com/newsList/0101080100000?curPage=494',\n",
       " 'http://www.segye.com/newsList/0101080100000?curPage=495',\n",
       " 'http://www.segye.com/newsList/0101080100000?curPage=496',\n",
       " 'http://www.segye.com/newsList/0101080100000?curPage=497',\n",
       " 'http://www.segye.com/newsList/0101080100000?curPage=498',\n",
       " 'http://www.segye.com/newsList/0101080100000?curPage=499',\n",
       " 'http://www.segye.com/newsList/0101080100000?curPage=500',\n",
       " 'http://www.segye.com/newsList/0101080100000?curPage=501',\n",
       " 'http://www.segye.com/newsList/0101080100000?curPage=502',\n",
       " 'http://www.segye.com/newsList/0101080100000?curPage=503',\n",
       " 'http://www.segye.com/newsList/0101080100000?curPage=504',\n",
       " 'http://www.segye.com/newsList/0101080100000?curPage=505',\n",
       " 'http://www.segye.com/newsList/0101080100000?curPage=506',\n",
       " 'http://www.segye.com/newsList/0101080100000?curPage=507',\n",
       " 'http://www.segye.com/newsList/0101080100000?curPage=508',\n",
       " 'http://www.segye.com/newsList/0101080100000?curPage=509',\n",
       " 'http://www.segye.com/newsList/0101080100000?curPage=510',\n",
       " 'http://www.segye.com/newsList/0101080100000?curPage=511',\n",
       " 'http://www.segye.com/newsList/0101080100000?curPage=512',\n",
       " 'http://www.segye.com/newsList/0101080100000?curPage=513',\n",
       " 'http://www.segye.com/newsList/0101080100000?curPage=514',\n",
       " 'http://www.segye.com/newsList/0101080100000?curPage=515',\n",
       " 'http://www.segye.com/newsList/0101080100000?curPage=516',\n",
       " 'http://www.segye.com/newsList/0101080100000?curPage=517',\n",
       " 'http://www.segye.com/newsList/0101080100000?curPage=518',\n",
       " 'http://www.segye.com/newsList/0101080100000?curPage=519',\n",
       " 'http://www.segye.com/newsList/0101080100000?curPage=520',\n",
       " 'http://www.segye.com/newsList/0101080100000?curPage=521',\n",
       " 'http://www.segye.com/newsList/0101080100000?curPage=522',\n",
       " 'http://www.segye.com/newsList/0101080100000?curPage=523',\n",
       " 'http://www.segye.com/newsList/0101080100000?curPage=524',\n",
       " 'http://www.segye.com/newsList/0101080100000?curPage=525',\n",
       " 'http://www.segye.com/newsList/0101080100000?curPage=526',\n",
       " 'http://www.segye.com/newsList/0101080100000?curPage=527',\n",
       " 'http://www.segye.com/newsList/0101080100000?curPage=528',\n",
       " 'http://www.segye.com/newsList/0101080100000?curPage=529',\n",
       " 'http://www.segye.com/newsList/0101080100000?curPage=530',\n",
       " 'http://www.segye.com/newsList/0101080100000?curPage=531',\n",
       " 'http://www.segye.com/newsList/0101080100000?curPage=532',\n",
       " 'http://www.segye.com/newsList/0101080100000?curPage=533',\n",
       " 'http://www.segye.com/newsList/0101080100000?curPage=534',\n",
       " 'http://www.segye.com/newsList/0101080100000?curPage=535',\n",
       " 'http://www.segye.com/newsList/0101080100000?curPage=536',\n",
       " 'http://www.segye.com/newsList/0101080100000?curPage=537',\n",
       " 'http://www.segye.com/newsList/0101080100000?curPage=538',\n",
       " 'http://www.segye.com/newsList/0101080100000?curPage=539',\n",
       " 'http://www.segye.com/newsList/0101080100000?curPage=540',\n",
       " 'http://www.segye.com/newsList/0101080100000?curPage=541',\n",
       " 'http://www.segye.com/newsList/0101080100000?curPage=542',\n",
       " 'http://www.segye.com/newsList/0101080100000?curPage=543',\n",
       " 'http://www.segye.com/newsList/0101080100000?curPage=544',\n",
       " 'http://www.segye.com/newsList/0101080100000?curPage=545',\n",
       " 'http://www.segye.com/newsList/0101080100000?curPage=546',\n",
       " 'http://www.segye.com/newsList/0101080100000?curPage=547',\n",
       " 'http://www.segye.com/newsList/0101080100000?curPage=548',\n",
       " 'http://www.segye.com/newsList/0101080100000?curPage=549',\n",
       " 'http://www.segye.com/newsList/0101080100000?curPage=550',\n",
       " 'http://www.segye.com/newsList/0101080100000?curPage=551',\n",
       " 'http://www.segye.com/newsList/0101080100000?curPage=552',\n",
       " 'http://www.segye.com/newsList/0101080100000?curPage=553',\n",
       " 'http://www.segye.com/newsList/0101080100000?curPage=554',\n",
       " 'http://www.segye.com/newsList/0101080100000?curPage=555',\n",
       " 'http://www.segye.com/newsList/0101080100000?curPage=556',\n",
       " 'http://www.segye.com/newsList/0101080100000?curPage=557',\n",
       " 'http://www.segye.com/newsList/0101080100000?curPage=558',\n",
       " 'http://www.segye.com/newsList/0101080100000?curPage=559',\n",
       " 'http://www.segye.com/newsList/0101080100000?curPage=560',\n",
       " 'http://www.segye.com/newsList/0101080100000?curPage=561',\n",
       " 'http://www.segye.com/newsList/0101080100000?curPage=562',\n",
       " 'http://www.segye.com/newsList/0101080100000?curPage=563',\n",
       " 'http://www.segye.com/newsList/0101080100000?curPage=564',\n",
       " 'http://www.segye.com/newsList/0101080100000?curPage=565',\n",
       " 'http://www.segye.com/newsList/0101080100000?curPage=566',\n",
       " 'http://www.segye.com/newsList/0101080100000?curPage=567',\n",
       " 'http://www.segye.com/newsList/0101080100000?curPage=568',\n",
       " 'http://www.segye.com/newsList/0101080100000?curPage=569',\n",
       " 'http://www.segye.com/newsList/0101080100000?curPage=570',\n",
       " 'http://www.segye.com/newsList/0101080100000?curPage=571',\n",
       " 'http://www.segye.com/newsList/0101080100000?curPage=572',\n",
       " 'http://www.segye.com/newsList/0101080100000?curPage=573',\n",
       " 'http://www.segye.com/newsList/0101080100000?curPage=574',\n",
       " 'http://www.segye.com/newsList/0101080100000?curPage=575',\n",
       " 'http://www.segye.com/newsList/0101080100000?curPage=576',\n",
       " 'http://www.segye.com/newsList/0101080100000?curPage=577',\n",
       " 'http://www.segye.com/newsList/0101080100000?curPage=578',\n",
       " 'http://www.segye.com/newsList/0101080100000?curPage=579',\n",
       " 'http://www.segye.com/newsList/0101080100000?curPage=580',\n",
       " 'http://www.segye.com/newsList/0101080100000?curPage=581',\n",
       " 'http://www.segye.com/newsList/0101080100000?curPage=582',\n",
       " 'http://www.segye.com/newsList/0101080100000?curPage=583',\n",
       " 'http://www.segye.com/newsList/0101080100000?curPage=584',\n",
       " 'http://www.segye.com/newsList/0101080100000?curPage=585',\n",
       " 'http://www.segye.com/newsList/0101080100000?curPage=586',\n",
       " 'http://www.segye.com/newsList/0101080100000?curPage=587',\n",
       " 'http://www.segye.com/newsList/0101080100000?curPage=588',\n",
       " 'http://www.segye.com/newsList/0101080100000?curPage=589',\n",
       " 'http://www.segye.com/newsList/0101080100000?curPage=590',\n",
       " 'http://www.segye.com/newsList/0101080100000?curPage=591',\n",
       " 'http://www.segye.com/newsList/0101080100000?curPage=592',\n",
       " 'http://www.segye.com/newsList/0101080100000?curPage=593',\n",
       " 'http://www.segye.com/newsList/0101080100000?curPage=594',\n",
       " 'http://www.segye.com/newsList/0101080100000?curPage=595',\n",
       " 'http://www.segye.com/newsList/0101080100000?curPage=596',\n",
       " 'http://www.segye.com/newsList/0101080100000?curPage=597',\n",
       " 'http://www.segye.com/newsList/0101080100000?curPage=598',\n",
       " 'http://www.segye.com/newsList/0101080100000?curPage=599',\n",
       " 'http://www.segye.com/newsList/0101080100000?curPage=600',\n",
       " 'http://www.segye.com/newsList/0101080100000?curPage=601',\n",
       " 'http://www.segye.com/newsList/0101080100000?curPage=602',\n",
       " 'http://www.segye.com/newsList/0101080100000?curPage=603',\n",
       " 'http://www.segye.com/newsList/0101080100000?curPage=604',\n",
       " 'http://www.segye.com/newsList/0101080100000?curPage=605',\n",
       " 'http://www.segye.com/newsList/0101080100000?curPage=606',\n",
       " 'http://www.segye.com/newsList/0101080100000?curPage=607',\n",
       " 'http://www.segye.com/newsList/0101080100000?curPage=608',\n",
       " 'http://www.segye.com/newsList/0101080100000?curPage=609',\n",
       " 'http://www.segye.com/newsList/0101080100000?curPage=610',\n",
       " 'http://www.segye.com/newsList/0101080100000?curPage=611',\n",
       " 'http://www.segye.com/newsList/0101080100000?curPage=612',\n",
       " 'http://www.segye.com/newsList/0101080100000?curPage=613',\n",
       " 'http://www.segye.com/newsList/0101080100000?curPage=614',\n",
       " 'http://www.segye.com/newsList/0101080100000?curPage=615',\n",
       " 'http://www.segye.com/newsList/0101080100000?curPage=616',\n",
       " 'http://www.segye.com/newsList/0101080100000?curPage=617',\n",
       " 'http://www.segye.com/newsList/0101080100000?curPage=618',\n",
       " 'http://www.segye.com/newsList/0101080100000?curPage=619',\n",
       " 'http://www.segye.com/newsList/0101080100000?curPage=620',\n",
       " 'http://www.segye.com/newsList/0101080100000?curPage=621',\n",
       " 'http://www.segye.com/newsList/0101080100000?curPage=622',\n",
       " 'http://www.segye.com/newsList/0101080100000?curPage=623',\n",
       " 'http://www.segye.com/newsList/0101080100000?curPage=624',\n",
       " 'http://www.segye.com/newsList/0101080100000?curPage=625',\n",
       " 'http://www.segye.com/newsList/0101080100000?curPage=626',\n",
       " 'http://www.segye.com/newsList/0101080100000?curPage=627',\n",
       " 'http://www.segye.com/newsList/0101080100000?curPage=628',\n",
       " 'http://www.segye.com/newsList/0101080100000?curPage=629',\n",
       " 'http://www.segye.com/newsList/0101080100000?curPage=630',\n",
       " 'http://www.segye.com/newsList/0101080100000?curPage=631',\n",
       " 'http://www.segye.com/newsList/0101080100000?curPage=632',\n",
       " 'http://www.segye.com/newsList/0101080100000?curPage=633',\n",
       " 'http://www.segye.com/newsList/0101080100000?curPage=634',\n",
       " 'http://www.segye.com/newsList/0101080100000?curPage=635',\n",
       " 'http://www.segye.com/newsList/0101080100000?curPage=636',\n",
       " 'http://www.segye.com/newsList/0101080100000?curPage=637',\n",
       " 'http://www.segye.com/newsList/0101080100000?curPage=638',\n",
       " 'http://www.segye.com/newsList/0101080100000?curPage=639',\n",
       " 'http://www.segye.com/newsList/0101080100000?curPage=640',\n",
       " 'http://www.segye.com/newsList/0101080100000?curPage=641',\n",
       " 'http://www.segye.com/newsList/0101080100000?curPage=642',\n",
       " 'http://www.segye.com/newsList/0101080100000?curPage=643',\n",
       " 'http://www.segye.com/newsList/0101080100000?curPage=644',\n",
       " 'http://www.segye.com/newsList/0101080100000?curPage=645',\n",
       " 'http://www.segye.com/newsList/0101080100000?curPage=646',\n",
       " 'http://www.segye.com/newsList/0101080100000?curPage=647',\n",
       " 'http://www.segye.com/newsList/0101080100000?curPage=648',\n",
       " 'http://www.segye.com/newsList/0101080100000?curPage=649',\n",
       " 'http://www.segye.com/newsList/0101080100000?curPage=650',\n",
       " 'http://www.segye.com/newsList/0101080100000?curPage=651',\n",
       " 'http://www.segye.com/newsList/0101080100000?curPage=652',\n",
       " 'http://www.segye.com/newsList/0101080100000?curPage=653',\n",
       " 'http://www.segye.com/newsList/0101080100000?curPage=654',\n",
       " 'http://www.segye.com/newsList/0101080100000?curPage=655',\n",
       " 'http://www.segye.com/newsList/0101080100000?curPage=656',\n",
       " 'http://www.segye.com/newsList/0101080100000?curPage=657',\n",
       " 'http://www.segye.com/newsList/0101080100000?curPage=658',\n",
       " 'http://www.segye.com/newsList/0101080100000?curPage=659',\n",
       " 'http://www.segye.com/newsList/0101080100000?curPage=660',\n",
       " 'http://www.segye.com/newsList/0101080100000?curPage=661',\n",
       " 'http://www.segye.com/newsList/0101080100000?curPage=662',\n",
       " 'http://www.segye.com/newsList/0101080100000?curPage=663',\n",
       " 'http://www.segye.com/newsList/0101080100000?curPage=664',\n",
       " 'http://www.segye.com/newsList/0101080100000?curPage=665',\n",
       " 'http://www.segye.com/newsList/0101080100000?curPage=666',\n",
       " 'http://www.segye.com/newsList/0101080100000?curPage=667',\n",
       " 'http://www.segye.com/newsList/0101080100000?curPage=668',\n",
       " 'http://www.segye.com/newsList/0101080100000?curPage=669',\n",
       " 'http://www.segye.com/newsList/0101080100000?curPage=670',\n",
       " 'http://www.segye.com/newsList/0101080100000?curPage=671',\n",
       " 'http://www.segye.com/newsList/0101080100000?curPage=672',\n",
       " 'http://www.segye.com/newsList/0101080100000?curPage=673',\n",
       " 'http://www.segye.com/newsList/0101080100000?curPage=674',\n",
       " 'http://www.segye.com/newsList/0101080100000?curPage=675',\n",
       " 'http://www.segye.com/newsList/0101080100000?curPage=676',\n",
       " 'http://www.segye.com/newsList/0101080100000?curPage=677',\n",
       " 'http://www.segye.com/newsList/0101080100000?curPage=678',\n",
       " 'http://www.segye.com/newsList/0101080100000?curPage=679',\n",
       " 'http://www.segye.com/newsList/0101080100000?curPage=680',\n",
       " 'http://www.segye.com/newsList/0101080100000?curPage=681',\n",
       " 'http://www.segye.com/newsList/0101080100000?curPage=682',\n",
       " 'http://www.segye.com/newsList/0101080100000?curPage=683',\n",
       " 'http://www.segye.com/newsList/0101080100000?curPage=684',\n",
       " 'http://www.segye.com/newsList/0101080100000?curPage=685',\n",
       " 'http://www.segye.com/newsList/0101080100000?curPage=686',\n",
       " 'http://www.segye.com/newsList/0101080100000?curPage=687',\n",
       " 'http://www.segye.com/newsList/0101080100000?curPage=688',\n",
       " 'http://www.segye.com/newsList/0101080100000?curPage=689',\n",
       " 'http://www.segye.com/newsList/0101080100000?curPage=690',\n",
       " 'http://www.segye.com/newsList/0101080100000?curPage=691',\n",
       " 'http://www.segye.com/newsList/0101080100000?curPage=692',\n",
       " 'http://www.segye.com/newsList/0101080100000?curPage=693',\n",
       " 'http://www.segye.com/newsList/0101080100000?curPage=694',\n",
       " 'http://www.segye.com/newsList/0101080100000?curPage=695',\n",
       " 'http://www.segye.com/newsList/0101080100000?curPage=696',\n",
       " 'http://www.segye.com/newsList/0101080100000?curPage=697',\n",
       " 'http://www.segye.com/newsList/0101080100000?curPage=698',\n",
       " 'http://www.segye.com/newsList/0101080100000?curPage=699',\n",
       " 'http://www.segye.com/newsList/0101080100000?curPage=700',\n",
       " 'http://www.segye.com/newsList/0101080100000?curPage=701',\n",
       " 'http://www.segye.com/newsList/0101080100000?curPage=702',\n",
       " 'http://www.segye.com/newsList/0101080100000?curPage=703',\n",
       " 'http://www.segye.com/newsList/0101080100000?curPage=704',\n",
       " 'http://www.segye.com/newsList/0101080100000?curPage=705',\n",
       " 'http://www.segye.com/newsList/0101080100000?curPage=706',\n",
       " 'http://www.segye.com/newsList/0101080100000?curPage=707',\n",
       " 'http://www.segye.com/newsList/0101080100000?curPage=708',\n",
       " 'http://www.segye.com/newsList/0101080100000?curPage=709',\n",
       " 'http://www.segye.com/newsList/0101080100000?curPage=710',\n",
       " 'http://www.segye.com/newsList/0101080100000?curPage=711',\n",
       " 'http://www.segye.com/newsList/0101080100000?curPage=712',\n",
       " 'http://www.segye.com/newsList/0101080100000?curPage=713',\n",
       " 'http://www.segye.com/newsList/0101080100000?curPage=714',\n",
       " 'http://www.segye.com/newsList/0101080100000?curPage=715',\n",
       " 'http://www.segye.com/newsList/0101080100000?curPage=716',\n",
       " 'http://www.segye.com/newsList/0101080100000?curPage=717',\n",
       " 'http://www.segye.com/newsList/0101080100000?curPage=718',\n",
       " 'http://www.segye.com/newsList/0101080100000?curPage=719',\n",
       " 'http://www.segye.com/newsList/0101080100000?curPage=720',\n",
       " 'http://www.segye.com/newsList/0101080100000?curPage=721',\n",
       " 'http://www.segye.com/newsList/0101080100000?curPage=722',\n",
       " 'http://www.segye.com/newsList/0101080100000?curPage=723',\n",
       " 'http://www.segye.com/newsList/0101080100000?curPage=724',\n",
       " 'http://www.segye.com/newsList/0101080100000?curPage=725',\n",
       " 'http://www.segye.com/newsList/0101080100000?curPage=726',\n",
       " 'http://www.segye.com/newsList/0101080100000?curPage=727',\n",
       " 'http://www.segye.com/newsList/0101080100000?curPage=728',\n",
       " 'http://www.segye.com/newsList/0101080100000?curPage=729',\n",
       " 'http://www.segye.com/newsList/0101080100000?curPage=730',\n",
       " 'http://www.segye.com/newsList/0101080100000?curPage=731',\n",
       " 'http://www.segye.com/newsList/0101080100000?curPage=732',\n",
       " 'http://www.segye.com/newsList/0101080100000?curPage=733',\n",
       " 'http://www.segye.com/newsList/0101080100000?curPage=734',\n",
       " 'http://www.segye.com/newsList/0101080100000?curPage=735',\n",
       " 'http://www.segye.com/newsList/0101080100000?curPage=736',\n",
       " 'http://www.segye.com/newsList/0101080100000?curPage=737',\n",
       " 'http://www.segye.com/newsList/0101080100000?curPage=738',\n",
       " 'http://www.segye.com/newsList/0101080100000?curPage=739',\n",
       " 'http://www.segye.com/newsList/0101080100000?curPage=740',\n",
       " 'http://www.segye.com/newsList/0101080100000?curPage=741',\n",
       " 'http://www.segye.com/newsList/0101080100000?curPage=742',\n",
       " 'http://www.segye.com/newsList/0101080100000?curPage=743',\n",
       " 'http://www.segye.com/newsList/0101080100000?curPage=744',\n",
       " 'http://www.segye.com/newsList/0101080100000?curPage=745',\n",
       " 'http://www.segye.com/newsList/0101080100000?curPage=746',\n",
       " 'http://www.segye.com/newsList/0101080100000?curPage=747',\n",
       " 'http://www.segye.com/newsList/0101080100000?curPage=748',\n",
       " 'http://www.segye.com/newsList/0101080100000?curPage=749',\n",
       " 'http://www.segye.com/newsList/0101080100000?curPage=750',\n",
       " 'http://www.segye.com/newsList/0101080100000?curPage=751',\n",
       " 'http://www.segye.com/newsList/0101080100000?curPage=752',\n",
       " 'http://www.segye.com/newsList/0101080100000?curPage=753',\n",
       " 'http://www.segye.com/newsList/0101080100000?curPage=754',\n",
       " 'http://www.segye.com/newsList/0101080100000?curPage=755',\n",
       " 'http://www.segye.com/newsList/0101080100000?curPage=756',\n",
       " 'http://www.segye.com/newsList/0101080100000?curPage=757',\n",
       " 'http://www.segye.com/newsList/0101080100000?curPage=758',\n",
       " 'http://www.segye.com/newsList/0101080100000?curPage=759',\n",
       " 'http://www.segye.com/newsList/0101080100000?curPage=760',\n",
       " 'http://www.segye.com/newsList/0101080100000?curPage=761',\n",
       " 'http://www.segye.com/newsList/0101080100000?curPage=762',\n",
       " 'http://www.segye.com/newsList/0101080100000?curPage=763',\n",
       " 'http://www.segye.com/newsList/0101080100000?curPage=764',\n",
       " 'http://www.segye.com/newsList/0101080100000?curPage=765',\n",
       " 'http://www.segye.com/newsList/0101080100000?curPage=766',\n",
       " 'http://www.segye.com/newsList/0101080100000?curPage=767',\n",
       " 'http://www.segye.com/newsList/0101080100000?curPage=768',\n",
       " 'http://www.segye.com/newsList/0101080100000?curPage=769',\n",
       " 'http://www.segye.com/newsList/0101080100000?curPage=770',\n",
       " 'http://www.segye.com/newsList/0101080100000?curPage=771',\n",
       " 'http://www.segye.com/newsList/0101080100000?curPage=772',\n",
       " 'http://www.segye.com/newsList/0101080100000?curPage=773',\n",
       " 'http://www.segye.com/newsList/0101080100000?curPage=774',\n",
       " 'http://www.segye.com/newsList/0101080100000?curPage=775',\n",
       " 'http://www.segye.com/newsList/0101080100000?curPage=776',\n",
       " 'http://www.segye.com/newsList/0101080100000?curPage=777',\n",
       " 'http://www.segye.com/newsList/0101080100000?curPage=778',\n",
       " 'http://www.segye.com/newsList/0101080100000?curPage=779',\n",
       " 'http://www.segye.com/newsList/0101080100000?curPage=780',\n",
       " 'http://www.segye.com/newsList/0101080100000?curPage=781',\n",
       " 'http://www.segye.com/newsList/0101080100000?curPage=782',\n",
       " 'http://www.segye.com/newsList/0101080100000?curPage=783',\n",
       " 'http://www.segye.com/newsList/0101080100000?curPage=784',\n",
       " 'http://www.segye.com/newsList/0101080100000?curPage=785',\n",
       " 'http://www.segye.com/newsList/0101080100000?curPage=786',\n",
       " 'http://www.segye.com/newsList/0101080100000?curPage=787',\n",
       " 'http://www.segye.com/newsList/0101080100000?curPage=788',\n",
       " 'http://www.segye.com/newsList/0101080100000?curPage=789',\n",
       " 'http://www.segye.com/newsList/0101080100000?curPage=790',\n",
       " 'http://www.segye.com/newsList/0101080100000?curPage=791',\n",
       " 'http://www.segye.com/newsList/0101080100000?curPage=792',\n",
       " 'http://www.segye.com/newsList/0101080100000?curPage=793',\n",
       " 'http://www.segye.com/newsList/0101080100000?curPage=794',\n",
       " 'http://www.segye.com/newsList/0101080100000?curPage=795',\n",
       " 'http://www.segye.com/newsList/0101080100000?curPage=796',\n",
       " 'http://www.segye.com/newsList/0101080100000?curPage=797',\n",
       " 'http://www.segye.com/newsList/0101080100000?curPage=798',\n",
       " 'http://www.segye.com/newsList/0101080100000?curPage=799',\n",
       " 'http://www.segye.com/newsList/0101080100000?curPage=800',\n",
       " 'http://www.segye.com/newsList/0101080100000?curPage=801',\n",
       " 'http://www.segye.com/newsList/0101080100000?curPage=802',\n",
       " 'http://www.segye.com/newsList/0101080100000?curPage=803',\n",
       " 'http://www.segye.com/newsList/0101080100000?curPage=804',\n",
       " 'http://www.segye.com/newsList/0101080100000?curPage=805',\n",
       " 'http://www.segye.com/newsList/0101080100000?curPage=806',\n",
       " 'http://www.segye.com/newsList/0101080100000?curPage=807',\n",
       " 'http://www.segye.com/newsList/0101080100000?curPage=808',\n",
       " 'http://www.segye.com/newsList/0101080100000?curPage=809',\n",
       " 'http://www.segye.com/newsList/0101080100000?curPage=810',\n",
       " 'http://www.segye.com/newsList/0101080100000?curPage=811',\n",
       " 'http://www.segye.com/newsList/0101080100000?curPage=812',\n",
       " 'http://www.segye.com/newsList/0101080100000?curPage=813',\n",
       " 'http://www.segye.com/newsList/0101080100000?curPage=814',\n",
       " 'http://www.segye.com/newsList/0101080100000?curPage=815',\n",
       " 'http://www.segye.com/newsList/0101080100000?curPage=816',\n",
       " 'http://www.segye.com/newsList/0101080100000?curPage=817',\n",
       " 'http://www.segye.com/newsList/0101080100000?curPage=818',\n",
       " 'http://www.segye.com/newsList/0101080100000?curPage=819',\n",
       " 'http://www.segye.com/newsList/0101080100000?curPage=820',\n",
       " 'http://www.segye.com/newsList/0101080100000?curPage=821',\n",
       " 'http://www.segye.com/newsList/0101080100000?curPage=822',\n",
       " 'http://www.segye.com/newsList/0101080100000?curPage=823',\n",
       " 'http://www.segye.com/newsList/0101080100000?curPage=824',\n",
       " 'http://www.segye.com/newsList/0101080100000?curPage=825',\n",
       " 'http://www.segye.com/newsList/0101080100000?curPage=826',\n",
       " 'http://www.segye.com/newsList/0101080100000?curPage=827',\n",
       " 'http://www.segye.com/newsList/0101080100000?curPage=828',\n",
       " 'http://www.segye.com/newsList/0101080100000?curPage=829',\n",
       " 'http://www.segye.com/newsList/0101080100000?curPage=830',\n",
       " 'http://www.segye.com/newsList/0101080100000?curPage=831',\n",
       " 'http://www.segye.com/newsList/0101080100000?curPage=832',\n",
       " 'http://www.segye.com/newsList/0101080100000?curPage=833',\n",
       " 'http://www.segye.com/newsList/0101080100000?curPage=834',\n",
       " 'http://www.segye.com/newsList/0101080100000?curPage=835',\n",
       " 'http://www.segye.com/newsList/0101080100000?curPage=836',\n",
       " 'http://www.segye.com/newsList/0101080100000?curPage=837',\n",
       " 'http://www.segye.com/newsList/0101080100000?curPage=838',\n",
       " 'http://www.segye.com/newsList/0101080100000?curPage=839',\n",
       " 'http://www.segye.com/newsList/0101080100000?curPage=840',\n",
       " 'http://www.segye.com/newsList/0101080100000?curPage=841',\n",
       " 'http://www.segye.com/newsList/0101080100000?curPage=842',\n",
       " 'http://www.segye.com/newsList/0101080100000?curPage=843',\n",
       " 'http://www.segye.com/newsList/0101080100000?curPage=844',\n",
       " 'http://www.segye.com/newsList/0101080100000?curPage=845',\n",
       " 'http://www.segye.com/newsList/0101080100000?curPage=846',\n",
       " 'http://www.segye.com/newsList/0101080100000?curPage=847',\n",
       " 'http://www.segye.com/newsList/0101080100000?curPage=848',\n",
       " 'http://www.segye.com/newsList/0101080100000?curPage=849',\n",
       " 'http://www.segye.com/newsList/0101080100000?curPage=850',\n",
       " 'http://www.segye.com/newsList/0101080100000?curPage=851',\n",
       " 'http://www.segye.com/newsList/0101080100000?curPage=852',\n",
       " 'http://www.segye.com/newsList/0101080100000?curPage=853',\n",
       " 'http://www.segye.com/newsList/0101080100000?curPage=854',\n",
       " 'http://www.segye.com/newsList/0101080100000?curPage=855',\n",
       " 'http://www.segye.com/newsList/0101080100000?curPage=856',\n",
       " 'http://www.segye.com/newsList/0101080100000?curPage=857',\n",
       " 'http://www.segye.com/newsList/0101080100000?curPage=858',\n",
       " 'http://www.segye.com/newsList/0101080100000?curPage=859',\n",
       " 'http://www.segye.com/newsList/0101080100000?curPage=860',\n",
       " 'http://www.segye.com/newsList/0101080100000?curPage=861',\n",
       " 'http://www.segye.com/newsList/0101080100000?curPage=862',\n",
       " 'http://www.segye.com/newsList/0101080100000?curPage=863',\n",
       " 'http://www.segye.com/newsList/0101080100000?curPage=864',\n",
       " 'http://www.segye.com/newsList/0101080100000?curPage=865',\n",
       " 'http://www.segye.com/newsList/0101080100000?curPage=866',\n",
       " 'http://www.segye.com/newsList/0101080100000?curPage=867',\n",
       " 'http://www.segye.com/newsList/0101080100000?curPage=868',\n",
       " 'http://www.segye.com/newsList/0101080100000?curPage=869',\n",
       " 'http://www.segye.com/newsList/0101080100000?curPage=870',\n",
       " 'http://www.segye.com/newsList/0101080100000?curPage=871',\n",
       " 'http://www.segye.com/newsList/0101080100000?curPage=872',\n",
       " 'http://www.segye.com/newsList/0101080100000?curPage=873',\n",
       " 'http://www.segye.com/newsList/0101080100000?curPage=874',\n",
       " 'http://www.segye.com/newsList/0101080100000?curPage=875',\n",
       " 'http://www.segye.com/newsList/0101080100000?curPage=876',\n",
       " 'http://www.segye.com/newsList/0101080100000?curPage=877',\n",
       " 'http://www.segye.com/newsList/0101080100000?curPage=878',\n",
       " 'http://www.segye.com/newsList/0101080100000?curPage=879',\n",
       " 'http://www.segye.com/newsList/0101080100000?curPage=880',\n",
       " 'http://www.segye.com/newsList/0101080100000?curPage=881',\n",
       " 'http://www.segye.com/newsList/0101080100000?curPage=882',\n",
       " 'http://www.segye.com/newsList/0101080100000?curPage=883',\n",
       " 'http://www.segye.com/newsList/0101080100000?curPage=884',\n",
       " 'http://www.segye.com/newsList/0101080100000?curPage=885',\n",
       " 'http://www.segye.com/newsList/0101080100000?curPage=886',\n",
       " 'http://www.segye.com/newsList/0101080100000?curPage=887',\n",
       " 'http://www.segye.com/newsList/0101080100000?curPage=888',\n",
       " 'http://www.segye.com/newsList/0101080100000?curPage=889',\n",
       " 'http://www.segye.com/newsList/0101080100000?curPage=890',\n",
       " 'http://www.segye.com/newsList/0101080100000?curPage=891',\n",
       " 'http://www.segye.com/newsList/0101080100000?curPage=892',\n",
       " 'http://www.segye.com/newsList/0101080100000?curPage=893',\n",
       " 'http://www.segye.com/newsList/0101080100000?curPage=894',\n",
       " 'http://www.segye.com/newsList/0101080100000?curPage=895',\n",
       " 'http://www.segye.com/newsList/0101080100000?curPage=896',\n",
       " 'http://www.segye.com/newsList/0101080100000?curPage=897',\n",
       " 'http://www.segye.com/newsList/0101080100000?curPage=898',\n",
       " 'http://www.segye.com/newsList/0101080100000?curPage=899',\n",
       " 'http://www.segye.com/newsList/0101080100000?curPage=900',\n",
       " 'http://www.segye.com/newsList/0101080100000?curPage=901',\n",
       " 'http://www.segye.com/newsList/0101080100000?curPage=902',\n",
       " 'http://www.segye.com/newsList/0101080100000?curPage=903',\n",
       " 'http://www.segye.com/newsList/0101080100000?curPage=904',\n",
       " 'http://www.segye.com/newsList/0101080100000?curPage=905',\n",
       " 'http://www.segye.com/newsList/0101080100000?curPage=906',\n",
       " 'http://www.segye.com/newsList/0101080100000?curPage=907',\n",
       " 'http://www.segye.com/newsList/0101080100000?curPage=908',\n",
       " 'http://www.segye.com/newsList/0101080100000?curPage=909',\n",
       " 'http://www.segye.com/newsList/0101080100000?curPage=910',\n",
       " 'http://www.segye.com/newsList/0101080100000?curPage=911',\n",
       " 'http://www.segye.com/newsList/0101080100000?curPage=912',\n",
       " 'http://www.segye.com/newsList/0101080100000?curPage=913',\n",
       " 'http://www.segye.com/newsList/0101080100000?curPage=914',\n",
       " 'http://www.segye.com/newsList/0101080100000?curPage=915',\n",
       " 'http://www.segye.com/newsList/0101080100000?curPage=916',\n",
       " 'http://www.segye.com/newsList/0101080100000?curPage=917',\n",
       " 'http://www.segye.com/newsList/0101080100000?curPage=918',\n",
       " 'http://www.segye.com/newsList/0101080100000?curPage=919',\n",
       " 'http://www.segye.com/newsList/0101080100000?curPage=920',\n",
       " 'http://www.segye.com/newsList/0101080100000?curPage=921',\n",
       " 'http://www.segye.com/newsList/0101080100000?curPage=922',\n",
       " 'http://www.segye.com/newsList/0101080100000?curPage=923',\n",
       " 'http://www.segye.com/newsList/0101080100000?curPage=924',\n",
       " 'http://www.segye.com/newsList/0101080100000?curPage=925',\n",
       " 'http://www.segye.com/newsList/0101080100000?curPage=926',\n",
       " 'http://www.segye.com/newsList/0101080100000?curPage=927',\n",
       " 'http://www.segye.com/newsList/0101080100000?curPage=928',\n",
       " 'http://www.segye.com/newsList/0101080100000?curPage=929',\n",
       " 'http://www.segye.com/newsList/0101080100000?curPage=930',\n",
       " 'http://www.segye.com/newsList/0101080100000?curPage=931',\n",
       " 'http://www.segye.com/newsList/0101080100000?curPage=932',\n",
       " 'http://www.segye.com/newsList/0101080100000?curPage=933',\n",
       " 'http://www.segye.com/newsList/0101080100000?curPage=934',\n",
       " 'http://www.segye.com/newsList/0101080100000?curPage=935',\n",
       " 'http://www.segye.com/newsList/0101080100000?curPage=936',\n",
       " 'http://www.segye.com/newsList/0101080100000?curPage=937',\n",
       " 'http://www.segye.com/newsList/0101080100000?curPage=938',\n",
       " 'http://www.segye.com/newsList/0101080100000?curPage=939',\n",
       " 'http://www.segye.com/newsList/0101080100000?curPage=940',\n",
       " 'http://www.segye.com/newsList/0101080100000?curPage=941',\n",
       " 'http://www.segye.com/newsList/0101080100000?curPage=942',\n",
       " 'http://www.segye.com/newsList/0101080100000?curPage=943',\n",
       " 'http://www.segye.com/newsList/0101080100000?curPage=944',\n",
       " 'http://www.segye.com/newsList/0101080100000?curPage=945',\n",
       " 'http://www.segye.com/newsList/0101080100000?curPage=946',\n",
       " 'http://www.segye.com/newsList/0101080100000?curPage=947',\n",
       " 'http://www.segye.com/newsList/0101080100000?curPage=948',\n",
       " 'http://www.segye.com/newsList/0101080100000?curPage=949',\n",
       " 'http://www.segye.com/newsList/0101080100000?curPage=950',\n",
       " 'http://www.segye.com/newsList/0101080100000?curPage=951',\n",
       " 'http://www.segye.com/newsList/0101080100000?curPage=952',\n",
       " 'http://www.segye.com/newsList/0101080100000?curPage=953',\n",
       " 'http://www.segye.com/newsList/0101080100000?curPage=954',\n",
       " 'http://www.segye.com/newsList/0101080100000?curPage=955',\n",
       " 'http://www.segye.com/newsList/0101080100000?curPage=956',\n",
       " 'http://www.segye.com/newsList/0101080100000?curPage=957',\n",
       " 'http://www.segye.com/newsList/0101080100000?curPage=958',\n",
       " 'http://www.segye.com/newsList/0101080100000?curPage=959',\n",
       " 'http://www.segye.com/newsList/0101080100000?curPage=960',\n",
       " 'http://www.segye.com/newsList/0101080100000?curPage=961',\n",
       " 'http://www.segye.com/newsList/0101080100000?curPage=962',\n",
       " 'http://www.segye.com/newsList/0101080100000?curPage=963',\n",
       " 'http://www.segye.com/newsList/0101080100000?curPage=964',\n",
       " 'http://www.segye.com/newsList/0101080100000?curPage=965',\n",
       " 'http://www.segye.com/newsList/0101080100000?curPage=966',\n",
       " 'http://www.segye.com/newsList/0101080100000?curPage=967',\n",
       " 'http://www.segye.com/newsList/0101080100000?curPage=968',\n",
       " 'http://www.segye.com/newsList/0101080100000?curPage=969',\n",
       " 'http://www.segye.com/newsList/0101080100000?curPage=970',\n",
       " 'http://www.segye.com/newsList/0101080100000?curPage=971',\n",
       " 'http://www.segye.com/newsList/0101080100000?curPage=972',\n",
       " 'http://www.segye.com/newsList/0101080100000?curPage=973',\n",
       " 'http://www.segye.com/newsList/0101080100000?curPage=974',\n",
       " 'http://www.segye.com/newsList/0101080100000?curPage=975',\n",
       " 'http://www.segye.com/newsList/0101080100000?curPage=976',\n",
       " 'http://www.segye.com/newsList/0101080100000?curPage=977',\n",
       " 'http://www.segye.com/newsList/0101080100000?curPage=978',\n",
       " 'http://www.segye.com/newsList/0101080100000?curPage=979',\n",
       " 'http://www.segye.com/newsList/0101080100000?curPage=980',\n",
       " 'http://www.segye.com/newsList/0101080100000?curPage=981',\n",
       " 'http://www.segye.com/newsList/0101080100000?curPage=982',\n",
       " 'http://www.segye.com/newsList/0101080100000?curPage=983',\n",
       " 'http://www.segye.com/newsList/0101080100000?curPage=984',\n",
       " 'http://www.segye.com/newsList/0101080100000?curPage=985',\n",
       " 'http://www.segye.com/newsList/0101080100000?curPage=986',\n",
       " 'http://www.segye.com/newsList/0101080100000?curPage=987',\n",
       " 'http://www.segye.com/newsList/0101080100000?curPage=988',\n",
       " 'http://www.segye.com/newsList/0101080100000?curPage=989',\n",
       " 'http://www.segye.com/newsList/0101080100000?curPage=990',\n",
       " 'http://www.segye.com/newsList/0101080100000?curPage=991',\n",
       " 'http://www.segye.com/newsList/0101080100000?curPage=992',\n",
       " 'http://www.segye.com/newsList/0101080100000?curPage=993',\n",
       " 'http://www.segye.com/newsList/0101080100000?curPage=994',\n",
       " 'http://www.segye.com/newsList/0101080100000?curPage=995',\n",
       " 'http://www.segye.com/newsList/0101080100000?curPage=996',\n",
       " 'http://www.segye.com/newsList/0101080100000?curPage=997',\n",
       " 'http://www.segye.com/newsList/0101080100000?curPage=998',\n",
       " 'http://www.segye.com/newsList/0101080100000?curPage=999']"
      ]
     },
     "execution_count": 4,
     "metadata": {},
     "output_type": "execute_result"
    }
   ],
   "source": [
    "urls"
   ]
  },
  {
   "cell_type": "markdown",
   "metadata": {},
   "source": [
    "### 하나의 페이지 테스트"
   ]
  },
  {
   "cell_type": "code",
   "execution_count": 5,
   "metadata": {},
   "outputs": [],
   "source": [
    "url = urls[0]\n",
    "html = urlopen(url)\n",
    "data = BeautifulSoup(html, \"lxml\")"
   ]
  },
  {
   "cell_type": "code",
   "execution_count": 6,
   "metadata": {},
   "outputs": [
    {
     "data": {
      "text/plain": [
       "<!DOCTYPE html PUBLIC \"-//W3C//DTD XHTML 1.0 Transitional//EN\" \"http://www.w3.org/TR/xhtml1/DTD/xhtml1-transitional.dtd\">\n",
       "<html lang=\"ko\" xmlns=\"http://www.w3.org/1999/xhtml\">\n",
       "<head>\n",
       "<meta content=\"text/html; charset=utf-8\" http-equiv=\"Content-Type\"/>\n",
       "<meta content=\"세계일보\" name=\"Author\"/>\n",
       "<meta content=\"세계일보\" name=\"Description\"/>\n",
       "<meta content=\"IE=edge,chrome=1\" http-equiv=\"X-UA-Compatible\"/>\n",
       "<link href=\"//img.segye.com/resourcesimages/favicon-segye1.ico\" rel=\"shortcut icon\"/>\n",
       "<link href=\"//img.segye.com/resources/css/segye2016.css\" rel=\"stylesheet\" type=\"text/css\"/>\n",
       "<title>세상을 보는 눈, 글로벌 미디어 - 세계일보 -</title>\n",
       "</head>\n",
       "<!-- Google Tag Manager -->\n",
       "<body><noscript><iframe height=\"0\" src=\"//www.googletagmanager.com/ns.html?id=GTM-KDPKKS\" style=\"display:none;visibility:hidden\" width=\"0\"></iframe></noscript>\n",
       "<script>(function(w,d,s,l,i){w[l]=w[l]||[];w[l].push({'gtm.start':\n",
       "new Date().getTime(),event:'gtm.js'});var f=d.getElementsByTagName(s)[0],\n",
       "j=d.createElement(s),dl=l!='dataLayer'?'&l='+l:'';j.async=true;j.src=\n",
       "'//www.googletagmanager.com/gtm.js?id='+i+dl;f.parentNode.insertBefore(j,f);\n",
       "})(window,document,'script','dataLayer','GTM-KDPKKS');</script>\n",
       "<!-- End Google Tag Manager -->\n",
       "<input id=\"seriesId\" name=\"seriesId\" type=\"hidden\" value=\"\"/>\n",
       "<input id=\"categoryId\" name=\"categoryId\" type=\"hidden\" value=\"0101080100000\"/>\n",
       "<input id=\"curPage\" name=\"curPage\" type=\"hidden\" value=\"1\"/>\n",
       "<script src=\"//img.segye.com/resources/js/jquery.js\"></script>\n",
       "<script src=\"//img.segye.com/resources/js/common_v2.js\"></script>\n",
       "<!------------------------>\n",
       "<!-- wrap start -->\n",
       "<div id=\"wrap\">\n",
       "<!------------------------>\n",
       "<!-- 헤더영역 start -->\n",
       "<div id=\"header\">\n",
       "<!-- 탑 네비 -->\n",
       "<div class=\"nvi_top\">\n",
       "<div class=\"top_link\">\n",
       "<a href=\"http://www.sportsworldi.com/\" target=\"_blank\">스포츠월드</a>    \n",
       "\t\t<a href=\"http://fn.segye.com/\" target=\"_blank\">세계파이낸스</a>    \n",
       "\t\t<a href=\"http://www.segyelocalnews.com/\" target=\"_blank\">세계로컬신문</a>    \t\n",
       "\t\t<a href=\"http://www.jknews.kr/main.jsp\" target=\"_blank\">종교신문</a>    \n",
       "\n",
       "\t\t<a href=\"javascript:sales();\">구독신청</a>   &amp;nbsp\n",
       "\t\t<a href=\"http://sg.scrapmaster.co.kr/\" target=\"_blank\">mPaper</a>    \n",
       "\t\t<a href=\"http://www.segye.com/rssInfo\" target=\"_blank\">RSS</a>\n",
       "</div>\n",
       "</div>\n",
       "<div class=\"logo_area\">\n",
       "<!-- 기본로고 -->\n",
       "<div class=\"top_logo\"><a href=\"http://www.segye.com/main\"><img src=\"//img.segye.com/resources/images/logo.png\"/></a></div>\n",
       "<!-- 명절로고\n",
       "\t\t<div class=\"top_logo_holiday\"><a href=\"http://www.segye.com/main\"><img src=\"//img.segye.com/resources/images/logo_2018.png\" /></a></div>\n",
       "\n",
       "\t\t-->\n",
       "<div class=\"top_bn250\"><iframe frameborder=\"0\" height=\"60\" marginheight=\"0\" marginwidth=\"0\" noresize=\"\" scrolling=\"no\" src=\"//white.contentsfeed.com/RealMedia/ads/adstream_sx.ads/segye.com/view3@x30\" width=\"250\"></iframe></div>\n",
       "<div class=\"top_sns\">\n",
       "<ul>\n",
       "<li><a href=\"https://www.facebook.com/segyetimes\" target=\"_blank\" title=\"세계일보 페이스북\"><img alt=\"페이스북\" border=\"0\" src=\"//img.segye.com/resources/images/topsns_fb.png\"/></a></li>\n",
       "<li><a href=\"https://twitter.com/segyecom\" target=\"_blank\" title=\"세계일보 트위터\"><img alt=\"트위터\" border=\"0\" src=\"//img.segye.com/resources/images/topsns_tw.png\"/></a></li>\n",
       "<li><a href=\"http://post.naver.com/my.nhn?memberNo=15305315\" target=\"_blank\" title=\"세계일보 네이버\"><img alt=\"네이버\" border=\"0\" src=\"//img.segye.com/resources/images/topsns_naver.png\"/></a></li>\n",
       "<li><a href=\"https://story.kakao.com/#ch/segyetimes\" target=\"_blank\" title=\"세계일보 카카오스토리\"><img alt=\"카카오스토리\" border=\"0\" src=\"//img.segye.com/resources/images/topsns_kk.png\"/></a></li>\n",
       "</ul>\n",
       "</div>\n",
       "<!-- 지면보기, 뉴스제보 start -->\n",
       "<div class=\"navi_menuS\">\n",
       "<a href=\"http://www.segye.com/newspaper\">지면보기</a>   l   <a href=\"http://company.segye.com/news/information\" target=\"_blank\">뉴스제보</a>\n",
       "</div>\n",
       "</div>\n",
       "<div class=\"gnbNav\">\n",
       "<div class=\"section_navi\">\n",
       "<!-- class설정= 뉴스(naviT_news), 오피니언(naviT_opinion), 연예(naviT_enter), 스포츠(naviT_sports), 포토비디오(naviT_phpoto), 기자블로그(naviT_blog) -->\n",
       "<!--전체보기 -->\n",
       "<div class=\"main_navi_all\" id=\"topOpen\"><a href=\"javascript:;\" title=\"서비스 전체보기\"><span><img border=\"0\" src=\"//img.segye.com/resources/images/listbt_blue.png\"/></span><font>전체보기</font></a></div>\n",
       "<div class=\"main_navi_all\" id=\"topClose\" style=\"display:none;\"><a href=\"javascript:;\" title=\"서비스 메뉴닫기\"><span><img border=\"0\" src=\"//img.segye.com/resources/images/listbt_x.png\"/></span><font>메뉴닫기</font></a></div>\n",
       "<ul class=\"navi_menu\">\n",
       "<li id=\"bigClass010101\"><a href=\"/newsList/0101010000000\">정치</a></li>\n",
       "<li id=\"bigClass010103\"><a href=\"/newsList/0101030000000\">경제</a></li>\n",
       "<li id=\"bigClass010108\"><a href=\"/newsList/0101080000000\">사회</a></li>\n",
       "<li id=\"bigClass010104\"><a href=\"/newsList/0101040000000\">국제</a></li>\n",
       "<li id=\"bigClass010105\"><a href=\"/newsList/0101050000000\">문화</a></li>\n",
       "<li id=\"bigClass010110\"><a href=\"/opinion\">오피니언</a></li>\n",
       "<li id=\"bigClass010106\"><a href=\"/ent\">연예</a></li>\n",
       "<li id=\"bigClass010111\"><a href=\"/sports\">스포츠</a></li>\n",
       "<li id=\"bigClass011500\"><a href=\"/photo\">포토</a></li>\n",
       "<li id=\"bigClass012600\"><a href=\"/video\">영상</a></li>\n",
       "<!-- 드론 오픈 후 숨김\n",
       "\t <li id=\"bigClass012500\"><a href=\"/innovList/0125000000000\">inno북스</a></li>\n",
       "\t <li id=\"bigClass012400\"><a href=\"http://www.segye.com/eco2018\"><img src=\"http://img.segye.com/resources/images/eco_maintitle.png\" /></a></li>\n",
       "\n",
       "\t  -->\n",
       "<!-- 드론 오픈 -->\n",
       "<li id=\"bigClass012500\" style=\"position:relative;top: -17px;margin-right:15px;\"><a href=\"http://www.segye.com/drone\"><img src=\"//img.segye.com/resources/images/drone_maintitle.png\"/></a></li>\n",
       "<li id=\"bigClass012400\"><a href=\"http://www.segye.com/eco2018\">환경</a></li>\n",
       "</ul>\n",
       "<!-- 우측 (검색, 로그인, 목록)버튼들 start -->\n",
       "<!-- 우측 (검색, 로그인, 목록)버튼들 start -->\n",
       "<div class=\"btn_all\" style=\"\">\n",
       "<dl>\n",
       "<div class=\"searchbox\" style=\"display:block;\">\n",
       "<form action=\"http://search3.segye.com/\" id=\"searchform\" method=\"post\" name=\"searchform\" target=\"_blank\">\n",
       "<label for=\"textfield\"></label>\n",
       "<input class=\"searchbox_txt\" id=\"searchWord\" name=\"searchWord\" placeholder=\"검색어를 입력하세요.\" type=\"text\"/>\n",
       "</form>\n",
       "</div>\n",
       "<!--검색버튼 클릭시 오픈 end -->\n",
       "<script type=\"text/javascript\">\n",
       "\t  var result = getCookie('eyeid');\n",
       "\t  if (result==\"\"){\n",
       "\t   document.write(\"<dd id='in'><a title='로그인' class='login' href='javascript:Login()'>로그인</a></dd>\");\n",
       "\t  }else{\n",
       "\t   document.write(\"<dd id='out'><a title='로그아웃' class='login_on' href='javascript:Logout()'>로그아웃</a></dd>\");\n",
       "\t  }\n",
       "\t  function getCookie(name) { \n",
       "\t\t var cookieName = name + \"=\";\n",
       "\t\t var cookie_start = 0;\n",
       "\t\t while ( cookie_start <= document.cookie.length ) { \n",
       "\t\t var cookie_end = (cookie_start+cookieName.length); \n",
       "\t\t if ( document.cookie.substring( cookie_start, cookie_end ) == cookieName) { \n",
       "\t\t if ((lastChrCookie=document.cookie.indexOf(\";\", cookie_end)) == -1) \n",
       "\t\t lastChrCookie = document.cookie.length;\n",
       "\t\t return decodeURI(document.cookie.substring(cookie_end, lastChrCookie));\n",
       "\t\t }\n",
       "\t\t cookie_start = document.cookie.indexOf(\" \", cookie_start ) + 1; \n",
       "\t\t if ( cookie_start == 0 )\n",
       "\t\t break; \n",
       "\t\t } \n",
       "\t\t return \"\";\n",
       "\t  }\n",
       "\t </script>\n",
       "<dd><a class=\"search\" title=\"검색\">검색</a></dd>\n",
       "<dd><a class=\"list\" title=\"전체보기\">전체보기</a></dd>\n",
       "<!-- 로그인박스 오픈 -->\n",
       "<div class=\"loginbox_main\" id=\"login\" style=\"display:none;\">\n",
       "<div><a href=\"/login\">로그인</a></div>\n",
       "<div><a href=\"/stipulation\">회원가입</a></div>\n",
       "</div>\n",
       "<div class=\"loginbox_main\" id=\"logout\" style=\"display:none;height:70px;\">\n",
       "<div><a href=\"javascript:logoutAction();\">로그아웃</a></div>\n",
       "<div><a href=\"/memberModify\">정보수정</a></div>\n",
       "<div><a href=\"/memberCancel\">회원탈퇴</a></div>\n",
       "</div>\n",
       "<div class=\"loginbox_close\" id=\"loginbox_close\" style=\"display:none;\"><img src=\"//img.segye.com/resources/images/bt_close.png\" style=\"cursor:pointer;\"/></div>\n",
       "<!-- 로그인박스 오픈 end -->\n",
       "<script type=\"text/javascript\">\n",
       "\t  function Login(){\n",
       "\t   $('#login').toggle();\n",
       "\t   $('#loginbox_close').toggle();\n",
       "\t  }\n",
       "\t  function Logout(){\n",
       "\t   $('#logout').toggle();\n",
       "\t   $('#loginbox_close').toggle();\n",
       "\t  }\n",
       "\t  $('#loginbox_close').click(function(){\n",
       "\t   $('#login').css('display', 'none');\n",
       "\t   $('#logout').css('display', 'none');\n",
       "\t   $('#loginbox_close').css('display', 'none');\n",
       "\t  });\n",
       "\t </script>\n",
       "</dl>\n",
       "</div>\n",
       "<!-- 우측 (검색, 로그인, 목록)버튼들 end -->\n",
       "</div>\n",
       "<div>\n",
       "<!-- 서비스 전체보기 클릭시 나타나는 메뉴박스 start -->\n",
       "<div id=\"topMenu\" style=\"display:none;\">\n",
       "<div class=\"footer_open_top\">\n",
       "<a class=\"closeBt2\"><img alt=\"닫기\" border=\"0\" src=\"//img.segye.com/resources/images/bt_close2.png\"/></a>\n",
       "<div class=\"bmenu1\">\n",
       "<ul>\n",
       "<li class=\"title\"><a href=\"http://www.segye.com/newsList/0101010000000\">뉴스</a></li>\n",
       "<li><a href=\"http://www.segye.com/newsList/0101010000000\">정치</a></li>\n",
       "<li><a href=\"http://www.segye.com/newsList/0101030000000\">경제</a></li>\n",
       "<li><a href=\"http://www.segye.com/newsList/0101080000000\">사회</a></li>\n",
       "<li><a href=\"http://www.segye.com/newsList/0101040000000\">국제</a></li>\n",
       "<li><a href=\"http://www.segye.com/newsList/0101050000000\">문화</a></li>\n",
       "<li><a href=\"http://www.segye.com/newsList/0101070000000\">전국</a></li>\n",
       "<li><a href=\"http://www.segye.com/newsList/0101120000000\">피플</a></li>\n",
       "<li><a href=\"http://www.segye.com/seriesList/4300000\">기획특집</a></li>\n",
       "<li><a href=\"http://www.segye.com/cardList/9140000\">카드뉴스</a></li>\n",
       "</ul>\n",
       "<ul>\n",
       "<li class=\"title\"><a href=\"http://www.segye.com/opinion\">오피니언</a></li>\n",
       "<li><a href=\"http://www.segye.com/newsList/0101100300000\">사설</a></li>\n",
       "<li><a href=\"http://www.segye.com/newsList/0101100100000\">오늘의칼럼</a></li>\n",
       "<li><a href=\"http://www.segye.com/newsList/0101100503000\">기자ㆍ데스크</a></li>\n",
       "<li><a href=\"http://www.segye.com/newsList/0101100501000\">논설위원칼럼</a></li>\n",
       "<li><a href=\"http://www.segye.com/newsList/0101100504000\">전문가칼럼</a></li>\n",
       "<li><a href=\"http://www.segye.com/newsList/0101100502000\">외부칼럼</a></li>\n",
       "<li><a href=\"http://www.segye.com/newsList/0101100800000\">기고ㆍ독자</a></li>\n",
       "<li><a href=\"http://www.segye.com/newsList/0101100200000\">월드</a></li>\n",
       "</ul>\n",
       "<ul>\n",
       "<li class=\"title\"><a href=\"http://www.segye.com/ent\">연예</a></li>\n",
       "<li><a href=\"http://www.segye.com/newsList/0101060100000\">연예가소식</a></li>\n",
       "<li><a href=\"http://www.segye.com/newsList/0101060500000\">TVㆍ방송</a></li>\n",
       "<li><a href=\"http://www.segye.com/newsList/0101060300000\">영화</a></li>\n",
       "<li><a href=\"http://www.segye.com/newsList/0101060400000\">대중음악</a></li>\n",
       "<li><a href=\"http://www.segye.com/newsList/0101060700000\">해외연예</a></li>\n",
       "</ul>\n",
       "<ul>\n",
       "<li class=\"title\"><a href=\"http://www.segye.com/sports\">스포츠</a></li>\n",
       "<li><a href=\"http://www.segye.com/newsList/0101110100000\">일반</a></li>\n",
       "<li><a href=\"http://www.segye.com/newsList/0101110400000\">야구</a></li>\n",
       "<li><a href=\"http://www.segye.com/newsList/0101110300000\">축구</a></li>\n",
       "<li><a href=\"http://www.segye.com/newsList/0101110500000\">농구</a></li>\n",
       "<li><a href=\"http://www.segye.com/newsList/0101110600000\">배구</a></li>\n",
       "<li><a href=\"http://www.segye.com/newsList/0101110200000\">골프</a></li>\n",
       "</ul>\n",
       "<ul>\n",
       "<li class=\"title\"><a href=\"http://www.segye.com/photo\">포토</a></li>\n",
       "<li><a href=\"http://www.segye.com/hotgalleryList/0115000000000\">핫갤러리</a></li>\n",
       "<li><a href=\"http://www.segye.com/photoList/0104010500000\">연예</a></li>\n",
       "<li><a href=\"http://www.segye.com/photoList/0104010400000\">스포츠</a></li>\n",
       "<li><a href=\"http://www.segye.com/photoList/0104010100000\">정치</a></li>\n",
       "<li><a href=\"http://www.segye.com/photoList/0104010200000\">경제</a></li>\n",
       "<li><a href=\"http://www.segye.com/photoList/0104010700000\">사회</a></li>\n",
       "<li><a href=\"http://www.segye.com/photoList/0104010600000\">국제</a></li>\n",
       "<li><a href=\"http://www.segye.com/photoList/0104010300000\">문화</a></li>\n",
       "<li><a href=\"http://www.segye.com/photoList/3000314\">렌즈로보는세상</a></li>\n",
       "<li><a href=\"http://www.segye.com/photoList/1000109\">포토에세이</a></li>\n",
       "</ul>\n",
       "</div>\n",
       "<div class=\"bmenu2\">\n",
       "<ul>\n",
       "<li class=\"title\"><a href=\"http://www.segye.com/video\">영상</a></li>\n",
       "<!--<li><a href=\"\">기자블로그</a><li>-->\n",
       "</ul>\n",
       "<ul>\n",
       "<li class=\"title\">부가서비스</li>\n",
       "<li><a href=\"http://www.segye.com/innovList/0125000000000\">inno북스</a></li>\n",
       "<li><a href=\"http://www.segye.com/drone\">드론</a></li>\n",
       "<li><a href=\"http://www.segye.com/eco2018\">환경</a></li>\n",
       "<li><a href=\"http://www.segye.com/newsList/3000222\">오늘의 운세</a></li>\n",
       "</ul>\n",
       "<ul>\n",
       "<li class=\"title\">외국어</li>\n",
       "<li><a href=\"http://www.segye.com/newsList/3100168\">해커스톡</a></li>\n",
       "<li><a href=\"http://www.segye.com/newsList/3100167\">영단기신토익</a></li>\n",
       "<li><a href=\"http://www.segye.com/newsList/3100164\">시사일본어</a></li>\n",
       "<li><a href=\"http://www.segye.com/newsList/3100169\">차이나로중국어</a></li>\n",
       "</ul>\n",
       "<ul>\n",
       "<li class=\"title\">Family Sites\n",
       "\t </li><li><a href=\"http://www.sportsworldi.com\" target=\"_blank\">스포츠월드</a></li>\n",
       "<li><a href=\"http://fn.segye.com\" target=\"_blank\">세계파이낸스</a></li>\n",
       "<li><a href=\"http://www.jknews.kr/main.jsp\" target=\"_blank\">종교신문</a></li>\n",
       "</ul>\n",
       "<ul>\n",
       "<li class=\"mpaper\"><a href=\"http://sg.scrapmaster.co.kr/\" target=\"_blank\" title=\"M-paper\"><img border=\"0\" src=\"//img.segye.com/resources/images/bt_mpaper.png\"/></a></li>\n",
       "<li class=\"rss\"><a href=\"http://www.segye.com/rssInfo\" target=\"_blank\" title=\"RSS\"><img border=\"0\" src=\"//img.segye.com/resources/images/bt_rss.png\"/></a></li>\n",
       "</ul>\n",
       "</div>\n",
       "</div>\n",
       "<!-- 서비스 전체보기 클릭시 나타나는 메뉴박스 end -->\n",
       "</div>\n",
       "<script>\n",
       "$('#topOpen,#topClose,#topMenu').click(function(){\n",
       "\t$('#topMenu').toggle();\n",
       "\t$('#topOpen').toggle();\n",
       "\t$('#topClose').toggle();\n",
       "});\n",
       "$('.navi_menu> li> a').each(function(){\n",
       "\tvar link = $(this).attr('href');\n",
       "\tif(link.indexOf('0101080100000') != -1 ){\n",
       "\t\t$(this).parent().addClass(\"on\");\n",
       "\t}\n",
       "});\n",
       "$('.search').click(function(){\n",
       "\tif($('#searchWord').val() == ''){\n",
       "\t\t$('.searchbox').toggle();\n",
       "\t}else{\n",
       "\t\t$('#searchform').submit();\n",
       "\t}\n",
       "});\n",
       "function logoutAction(){\n",
       "\tdeleteCookie(\"eyeid\", \".segye.com\" );\n",
       "\tdeleteCookie(\"eyename\", \".segye.com\" );\n",
       "\tlocation.href='/login';\n",
       "}\n",
       "\n",
       "function sales(){\n",
       "\tif(getCookie('eyeid')==''){\n",
       "\t\tlocation.href='/login?f=http://www.segye.com/sales';\n",
       "\t}else{\n",
       "\t\t$('#memberId').val(getCookie('eyeid'));\n",
       "\t\t//console.log(getCookie('eyeid'));\n",
       "\t\t$('#mfrm').attr('action','http://www.segye.com/sales').submit();\n",
       "\t}\n",
       "}\n",
       "</script>\n",
       "<form id=\"mfrm\" method=\"post\" name=\"mfrm\">\n",
       "<input id=\"memberId\" name=\"memberId\" type=\"hidden\"/>\n",
       "</form>\n",
       "<!-- 네비 서브 메뉴 리뉴얼 2017.07 시작 -->\n",
       "<div class=\"navi_menu_sub\" sytle=\"display:show;\">\n",
       "<div class=\"navi_subbox\">\n",
       "<ul id=\"subBar010101\" style=\"display:none;\">\n",
       "<li id=\"midClass01010101\"><a href=\"/newsList/0101010100000\">일반</a></li>\n",
       "<li id=\"midClass01010102\"><a href=\"/newsList/0101010200000\">청와대</a></li>\n",
       "<li id=\"midClass01010104\"><a href=\"/newsList/0101010400000\">국회ㆍ정당</a></li>\n",
       "<li id=\"midClass01010105\"><a href=\"/newsList/0101010500000\">선거ㆍ선관위</a></li>\n",
       "<li id=\"midClass01010106\"><a href=\"/newsList/0101010600000\">외교ㆍ안보</a></li>\n",
       "<li id=\"midClass01010107\"><a href=\"/newsList/0101010700000\">국방</a></li>\n",
       "<li id=\"midClass01010108\"><a href=\"/newsList/0101010800000\">북한ㆍ통일</a></li>\n",
       "</ul>\n",
       "<ul id=\"subBar010103\" style=\"display:none;\">\n",
       "<li id=\"midClass01010301\"><a href=\"/newsList/0101030100000\">일반</a></li>\n",
       "<li id=\"midClass01010303\"><a href=\"/newsList/0101030300000\">금융ㆍ증권</a></li>\n",
       "<li id=\"midClass01010305\"><a href=\"/newsList/0101030500000\">보험</a></li>\n",
       "<li id=\"midClass01010307\"><a href=\"/newsList/0101030700000\">부동산ㆍ건설</a></li>\n",
       "<li id=\"midClass01010309\"><a href=\"/newsList/0101030900000\">ITㆍ과학</a></li>\n",
       "<li id=\"midClass01010311\"><a href=\"/newsList/0101031100000\">산업ㆍ기업</a></li>\n",
       "<li id=\"midClass01010312\"><a href=\"/newsList/0101031200000\">자동차</a></li>\n",
       "<li id=\"midClass01010315\"><a href=\"/newsList/0101031500000\">쇼핑ㆍ유통</a></li>\n",
       "<li id=\"midClass01010316\"><a href=\"/newsList/0101031600000\">취업ㆍ창업</a></li>\n",
       "<li id=\"midClass01010317\"><a href=\"/newsList/0101031700000\">재테크</a></li>\n",
       "</ul>\n",
       "<ul id=\"subBar010108\" style=\"display:none;\">\n",
       "<li id=\"midClass01010801\"><a href=\"/newsList/0101080100000\">일반</a></li>\n",
       "<li id=\"midClass01010803\"><a href=\"/newsList/0101080300000\">검찰ㆍ법원</a></li>\n",
       "<li id=\"midClass01010805\"><a href=\"/newsList/0101080500000\">노동ㆍ복지</a></li>\n",
       "<li id=\"midClass01010807\"><a href=\"/newsList/0101080700000\">환경ㆍ날씨</a></li>\n",
       "<li id=\"midClass01010808\"><a href=\"/newsList/0101080800000\">교통ㆍ항공</a></li>\n",
       "<li id=\"midClass01010809\"><a href=\"/newsList/0101080900000\">교육ㆍ학교</a></li>\n",
       "<li id=\"midClass01010810\"><a href=\"/newsList/0101081000000\">사건사고</a></li>\n",
       "</ul>\n",
       "<ul id=\"subBar010104\" style=\"display:none;\">\n",
       "<li id=\"midClass01010401\"><a href=\"/newsList/0101040100000\">일반</a></li>\n",
       "<li id=\"midClass01010402\"><a href=\"/newsList/0101040200000\">미국ㆍ캐나다</a></li>\n",
       "<li id=\"midClass01010403\"><a href=\"/newsList/0101040300000\">중국</a></li>\n",
       "<li id=\"midClass01010404\"><a href=\"/newsList/0101040400000\">일본</a></li>\n",
       "<li id=\"midClass01010405\"><a href=\"/newsList/0101040500000\">아시아ㆍ태평양</a></li>\n",
       "<li id=\"midClass01010406\"><a href=\"/newsList/0101040600000\">유럽</a></li>\n",
       "<li id=\"midClass01010407\"><a href=\"/newsList/0101040700000\">중동ㆍ아프리카</a></li>\n",
       "<li id=\"midClass01010411\"><a href=\"/newsList/0101041100000\">러시아</a></li>\n",
       "<li id=\"midClass01010412\"><a href=\"/newsList/0101041200000\">중남미</a></li>\n",
       "<li id=\"midClass01010410\"><a href=\"/newsList/0101041000000\">국제경제</a></li>\n",
       "<li id=\"midClass01010413\"><a href=\"/newsList/0101041300000\">국제기구</a></li>\n",
       "</ul>\n",
       "<ul id=\"subBar010105\" style=\"display:none;\">\n",
       "<li id=\"midClass01010501\"><a href=\"/newsList/0101050100000\">일반</a></li>\n",
       "<li id=\"midClass01010503\"><a href=\"/newsList/0101050300000\">미디어</a></li>\n",
       "<li id=\"midClass01010504\"><a href=\"/newsList/0101050400000\">종교ㆍ학술</a></li>\n",
       "<li id=\"midClass01010506\"><a href=\"/newsList/0101050600000\">음악ㆍ공연</a></li>\n",
       "<li id=\"midClass01010507\"><a href=\"/newsList/0101050700000\">미술ㆍ전시</a></li>\n",
       "<li id=\"midClass01010508\"><a href=\"/newsList/0101050800000\">건강ㆍ의료</a></li>\n",
       "<li id=\"midClass01010509\"><a href=\"/newsList/0101050900000\">관광ㆍ레저</a></li>\n",
       "<li id=\"midClass01010510\"><a href=\"/newsList/0101051000000\">문학ㆍ출판</a></li>\n",
       "<li id=\"midClass01010511\"><a href=\"/newsList/0101051100000\">음식</a></li>\n",
       "<li id=\"midClass01010513\"><a href=\"/newsList/0101051300000\">패션ㆍ뷰티</a></li>\n",
       "<li id=\"midClass01010514\"><a href=\"/newsList/0101051400000\">결혼ㆍ육아</a></li>\n",
       "</ul>\n",
       "<ul id=\"subBar010107\" style=\"display:none;\">\n",
       "<li id=\"midClass01010701\"><a href=\"/newsList/0101070100000\">일반</a></li>\n",
       "<li id=\"midClass01010710\"><a href=\"/newsList/0101071000000\">서울</a></li>\n",
       "<li id=\"midClass01010709\"><a href=\"/newsList/0101070900000\">경기</a></li>\n",
       "<li id=\"midClass01010711\"><a href=\"/newsList/0101071100000\">강원</a></li>\n",
       "<li id=\"midClass01010706\"><a href=\"/newsList/0101070600000\">충청</a></li>\n",
       "<li id=\"midClass01010712\"><a href=\"/newsList/0101071200000\">영남</a></li>\n",
       "<li id=\"midClass01010707\"><a href=\"/newsList/0101070700000\">호남</a></li>\n",
       "<li id=\"midClass01010708\"><a href=\"/newsList/0101070800000\">제주</a></li>\n",
       "</ul>\n",
       "<ul id=\"subBar010110\" style=\"display:none;\">\n",
       "<li id=\"midClass01011003\"><a href=\"/newsList/0101100300000\">사설</a></li>\n",
       "<li id=\"midClass2001167\"><a href=\"/newsList/2009999\">오늘의칼럼</a></li>\n",
       "<li id=\"midClass0101100503\"><a href=\"/newsList/0101100503000\">기자ㆍ데스크</a></li>\n",
       "<li id=\"midClass0101100501\"><a href=\"/newsList/0101100501000\">논설위원칼럼</a></li>\n",
       "<li id=\"midClass0101100504\"><a href=\"/newsList/0101100504000\">전문가칼럼</a></li>\n",
       "<li id=\"midClass0101100502\"><a href=\"/newsList/0101100502000\">외부칼럼</a></li>\n",
       "<li id=\"midClass01011008\"><a href=\"/newsList/0101100800000\">기고ㆍ독자</a></li>\n",
       "<li id=\"midClass01011002\"><a href=\"/newsList/0101100200000\">월드</a></li>\n",
       "</ul>\n",
       "<ul id=\"subBar010106\" style=\"display:none;\">\n",
       "<li id=\"midClass01010601\"><a href=\"/newsList/0101060100000\">연예가소식</a></li>\n",
       "<li id=\"midClass01010605\"><a href=\"/newsList/0101060500000\">TVㆍ방송</a></li>\n",
       "<li id=\"midClass01010603\"><a href=\"/newsList/0101060300000\">영화</a></li>\n",
       "<li id=\"midClass01010604\"><a href=\"/newsList/0101060400000\">대중음악</a></li>\n",
       "<li id=\"midClass01010607\"><a href=\"/newsList/0101060700000\">해외연예</a></li>\n",
       "</ul>\n",
       "<ul id=\"subBar010111\" style=\"display:none;\">\n",
       "<li id=\"midClass01011101\"><a href=\"/newsList/0101110100000\">일반</a></li>\n",
       "<li id=\"midClass01011104\"><a href=\"/newsList/0101110400000\">야구</a></li>\n",
       "<li id=\"midClass01011103\"><a href=\"/newsList/0101110300000\">축구</a></li>\n",
       "<li id=\"midClass01011105\"><a href=\"/newsList/0101110500000\">농구</a></li>\n",
       "<li id=\"midClass01011106\"><a href=\"/newsList/0101110600000\">배구</a></li>\n",
       "<li id=\"midClass01011102\"><a href=\"/newsList/0101110200000\">골프</a></li>\n",
       "</ul>\n",
       "<ul id=\"subBar010112\" style=\"display:none;\">\n",
       "<li id=\"midClass01011201\"><a href=\"/newsList/0101120100000\">일반</a></li>\n",
       "<li id=\"midClass01011203\"><a href=\"/newsList/0101120300000\">동정ㆍ인사</a></li>\n",
       "<li id=\"midClass01011202\"><a href=\"/newsList/0101120200000\">부음</a></li>\n",
       "<li id=\"midClass01011205\"><a href=\"/newsList/0101120500000\">인터뷰</a></li>\n",
       "</ul>\n",
       "<ul id=\"subBar011500\" style=\"display:none;\">\n",
       "<li id=\"midClass01150000\"><a href=\"http://www.segye.com/hotgalleryList/0115000000000\">핫갤러리</a></li>\n",
       "<li id=\"midClass01040105\"><a href=\"http://www.segye.com/photoList/0104010500000\">연예</a></li>\n",
       "<li id=\"midClass01040104\"><a href=\"http://www.segye.com/photoList/0104010400000\">스포츠</a></li>\n",
       "<li id=\"midClass01040101\"><a href=\"http://www.segye.com/photoList/0104010100000\">정치</a></li>\n",
       "<li id=\"midClass01040102\"><a href=\"http://www.segye.com/photoList/0104010200000\">경제</a></li>\n",
       "<li id=\"midClass01040107\"><a href=\"http://www.segye.com/photoList/0104010700000\">사회</a></li>\n",
       "<li id=\"midClass01040106\"><a href=\"http://www.segye.com/photoList/0104010600000\">국제</a></li>\n",
       "<li id=\"midClass01040103\"><a href=\"http://www.segye.com/photoList/0104010300000\">문화</a></li>\n",
       "<li id=\"midClass3000314\"><a href=\"http://www.segye.com/photoList/3000314\">렌즈로보는세상</a></li>\n",
       "<li id=\"midClass1000109\"><a href=\"http://www.segye.com/photoList/1000109\">포토에세이</a></li>\n",
       "</ul>\n",
       "<ul id=\"subBar4300000\" style=\"display:none;\">\n",
       "<li id=\"midClass4300000\"><a href=\"/seriesList/4300000\">탐사</a></li>\n",
       "<li id=\"midClass4000000\"><a href=\"/seriesList/4000000\">기획</a></li>\n",
       "<li id=\"midClass4400000\"><a href=\"/seriesList/4400000\">이슈</a></li>\n",
       "<li id=\"midClassonly\"><a href=\"/newsList/only\">ONLY 세계</a></li>\n",
       "</ul>\n",
       "</div>\n",
       "</div>\n",
       "<!-- 네비 서브 메뉴 리뉴얼 2017.07 끝 -->\n",
       "<script>\n",
       "var thisSection='';\n",
       "$(\"[id^='bigClass']\").mouseenter(function(obj){\n",
       "\tvar subMenuId=$(this).attr('id').replace('bigClass','subBar');\n",
       "\t$(\"[id^='subBar']\").hide();\n",
       "\t$(\"#\"+subMenuId).show();\n",
       "});\n",
       "$(\".gnbNav\").mouseleave(function(){\n",
       "\t$(\"[id^='subBar']\").hide();\n",
       "\t$(\"#subBar\"+thisSection).show();\n",
       "});\n",
       "\n",
       "function selectMenu(categoryId){\n",
       "\tvar seriesId = [\"2001167\", \"3000314\",\"1000109\"];\n",
       "\tvar bigClassId=\"\";\n",
       "\tvar tmp=\"\";\n",
       "\n",
       "\tif(categoryId==''){\n",
       "\t\tcategoryExp=/List\\/(\\d{5,13})/;\n",
       "\t\ttmp=categoryExp.exec(location.href);\n",
       "\n",
       "\t\tif(tmp==null){\n",
       "\t\t\tvar editableCategoryExp = /\\/([a-z]+)$/;\n",
       "\t\t\tvar editableCategory = [\"opinion\", \"ent\",\"sports\", \"photo\",\"only\",\"video\"];\n",
       "\t\t\tvar editableCategoryId = [\"0101100000000\",\"0101060000000\",\"0101110000000\",\"0115000000000\",\"only\",\"0126000000000\"];\n",
       "\t\t\ttmp=editableCategoryExp.exec(location.href);\n",
       "\t\t\t\n",
       "\t\t\tif(tmp!=null){\n",
       "\t\t\t\tvar index=editableCategory.indexOf(tmp[1]);\n",
       "\t\t\t\tcategoryId=editableCategoryId[index];\n",
       "\t\t\t}\n",
       "\t\t}else{\n",
       "\t\t\tcategoryId=tmp[1];\n",
       "\t\t}\n",
       "\t}\n",
       "\n",
       "\tvar index=seriesId.indexOf(categoryId);\n",
       "\tif(index>-1){\n",
       "\t\tvar seriseBigClassId = [\"010110\",\"011500\",\"011500\"];\n",
       "\t\tbigClassId = seriseBigClassId[index];\n",
       "\t\tmidClassId= categoryId;\n",
       "\t}else if(!categoryId){\n",
       "\n",
       "\t}else if(categoryId.length==7 ||categoryId.length==4){\n",
       "\t\tvar tamsaSeries = [\"4300000\",\"4000000\",\"4400000\",\"only\"];\n",
       "\t\tif(tamsaSeries.indexOf(categoryId)>-1){\n",
       "\t\t\tbigClassId = '4300000';\n",
       "\t\t\tmidClassId = tamsaSeries[tamsaSeries.indexOf(categoryId)];\n",
       "\t\t}\n",
       "\t}else if(categoryId!=\"\"){\t\n",
       "\t\tvar regExp = /(\\d{2})(\\d{2})(\\d{2})(\\d{2})(\\d{2})(\\d{3})/\n",
       "\t\tidArray=regExp.exec(categoryId)\n",
       "\t\tbigClassId=idArray[1]+idArray[2]+idArray[3];\n",
       "\n",
       "\t\tbigClassId=(bigClassId==\"010401\"?\"011500\":bigClassId);\n",
       "\t\tmidClassId=idArray[1]+idArray[2]+idArray[3]+idArray[4];\n",
       "\t\tmidClassId= ( midClassId==\"01011005\" ? midClassId+idArray[5] : midClassId );\n",
       "\t\tif(tmp[1] == 'photo') midClassId='';\n",
       "\t}\n",
       "\n",
       "\tif(bigClassId!=\"\"){\n",
       "\t\tthisSection = bigClassId;\n",
       "\t\t$(\"#bigClass\"+bigClassId).attr('class','on');\n",
       "\t\t$(\"#midClass\"+midClassId).attr('class','on');\n",
       "\t\t$(\"#subBar\"+bigClassId).show();\n",
       "\t}\n",
       "}\n",
       "</script>\n",
       "</div>\n",
       "</div>\n",
       "<script>selectMenu('');</script>\n",
       "<!-- 헤더영역 end -->\n",
       "<!-- 양쪽 날개배너 start -->\n",
       "<div class=\"ad_subwing_wrap_L\">\n",
       "<iframe frameborder=\"0\" height=\"230\" marginheight=\"0\" marginwidth=\"0\" noresize=\"\" scrolling=\"no\" src=\"//white.contentsfeed.com/RealMedia/ads/adstream_sx.ads/segye.com/List3@TopLeft\" width=\"160\"></iframe>\n",
       "</div>\n",
       "<div class=\"ad_subwing_wrap_R\">\n",
       "<iframe frameborder=\"0\" height=\"230\" marginheight=\"0\" marginwidth=\"0\" noresize=\"\" scrolling=\"no\" src=\"https://white.contentsfeed.com/RealMedia/ads/adstream_sx.ads/segye.com/List3@TopRight\" width=\"160\"></iframe>\n",
       "</div>\n",
       "<!-- 양쪽 날개배너 end -->\n",
       "<!------------------------>\n",
       "<!-- 콘텐츠 영역 start -->\n",
       "<div id=\"content\">\n",
       "<!------------------------>\n",
       "<!-- content Left start -->\n",
       "<!-- newsList start -->\n",
       "<div class=\"newslist_area\">\n",
       "<div class=\"bd\">\n",
       "<div class=\"area_box\" data-current-page=\"1\">\n",
       "<dl class=\"Pho\">\n",
       "<dd class=\"photo\">\n",
       "<a href=\"/newsView/20181119002138\" style=\"cursor:pointer;\" target=\"_self\">\n",
       "</a><table border=\"0\" cellpadding=\"0\" cellspacing=\"0\"><tr><td align=\"center\" height=\"107\" style=\"vertical-align:middle;\" valign=\"middle\" width=\"178\"><img border=\"0\" src=\"http://img.segye.com/content/image/2018/11/19/20181119001878_t.jpg\"/></td></tr></table>\n",
       "</dd>\n",
       "</dl>\n",
       "<dl class=\"r_txt\">\n",
       "<dt class=\"title_cr\"><a href=\"/newsView/20181119002138\" target=\"_self\">\"성범죄 재판서 '술마셨다고 형량 감경' 없었다\" 분석 발표</a></dt>\n",
       "<dd class=\"read_cr\"><a href=\"/newsView/20181119002138\" target=\"_self\">최근 10년간 성범죄 판결문을 조사한 결과 '음주'는 성범죄의 형량을 낮추는 요인으로 작용하지 않았다는 분석 결과가 나왔다. 음주 상태에서 성범죄를 저지른 경우 '심신미약'이 인정돼 형량이 낮게 선고된다는 이른바 '주취감경'은 실제 법원 판결문에서 확인되지 않았다는 취지다.김두얼 명지대 제학과 교수는 19일 대법원 양형위원회와 형사정책연구원이 공동으로 개최한 '음주와 양형' 학술대회에서 2007년~2017년 성범죄 판결문 속 '음주와 성범죄의 관계', '음주가 선고형량에 미치는 영향'에 대한 통계분석 결과를 발표했다.김 교수의 연구결과에 따르면 이 기간 성범죄 재판 건수는 2007년 5천여건에서 2017년 1만3천여건으로 크게 늘었고, 음주 성범죄 비율은 2007년 25%에서 2017년 50%로 늘었다. 성폭행에 해당하는 강간 사건은 50% 이상이 음주 이후에 발생한 것으로 조사됐다.음주 후 성범죄에 대한 양형은 오히려 비(非)음주 성범죄보다 높은 경향을 보였다. 2017년 비음주</a></dd>\n",
       "</dl>\n",
       "<span class=\"date\">2018.11.19</span>\n",
       "</div>\n",
       "<div class=\"area_box\" data-current-page=\"1\">\n",
       "<dl class=\"r_txt\">\n",
       "<dt class=\"title_cr\"><a href=\"/newsView/20181119002101\" target=\"_self\">현직 여성 판사, 갑작스런 사망… \"너무 안타깝다\"</a></dt>\n",
       "<dd class=\"read_cr\"><a href=\"/newsView/20181119002101\" target=\"_self\">19일 갑자기 사망한 40대 여성 판사가 불과 열흘 전쯤 집안에 초상이 난 사실이 뒤늦게 알려져 안타까움을 더하고 있다.법조계에 따르면 이날 숨진 A(42사법연수원 32기) 서울고법 판사는 지난 8일 남편의 부친이 세상을 떠나는 시부상을 당했다. 서울시내 한 대형병원 장례식장에 빈소가 마련됐고 사흘 뒤인 지난 11일 오전 발인을 치렀다고 한다. 이에 A판사 주변에선 불행이 연달아 찾아오다니 너무 안타깝다 가족이 무척 괴로울 것 같은데 힘내길 바란다 등 반응이 나오고 있다.앞서 A판사는 이날 오전 자택에서 쓰러져 병원으로 옮겨졌지만 숨졌다. 경찰 등에 따르면 A판사가 새벽 4시쯤 서울 서초구의 자택 안방 화장실에서 의식을 잃고 쓰러진 채 발견됐다. A판사를 발견한 남편이 119에 신고해 인근 병원으로 옮겼지만 끝내 사망했다. 당시 외상은 없었던 것으로 알려졌다.A판사는 전날 직장인 서울고법으로 출근했다가 밤늦게 귀가한 것으로 전해졌다. 경찰은 A판사의 정확한 사망 원인을 확인하기 위해</a></dd>\n",
       "</dl>\n",
       "<span class=\"date\">2018.11.19</span>\n",
       "</div>\n",
       "<div class=\"area_box\" data-current-page=\"1\">\n",
       "<dl class=\"Pho\">\n",
       "<dd class=\"photo\">\n",
       "<a href=\"/newsView/20181119001945\" style=\"cursor:pointer;\" target=\"_self\">\n",
       "</a><table border=\"0\" cellpadding=\"0\" cellspacing=\"0\"><tr><td align=\"center\" height=\"107\" style=\"vertical-align:middle;\" valign=\"middle\" width=\"178\"><img border=\"0\" src=\"http://img.segye.com/content/image/2018/11/19/20181119001667_t.jpg\"/></td></tr></table>\n",
       "</dd>\n",
       "</dl>\n",
       "<dl class=\"r_txt\">\n",
       "<dt class=\"title_cr\"><a href=\"/newsView/20181119001945\" target=\"_self\">\"개 도살 없는 나라를\"… 동물보호단체 도살금지법 촉구</a></dt>\n",
       "<dd class=\"read_cr\"><a href=\"/newsView/20181119001945\" target=\"_self\">동물권보호단체들은 19일 서울 여의도 국회 정문 앞에서 정문에서 '개고양이 도살금지법 국회 상정' 관련 긴급 기자회견 열었다.현행법상 개는 가축이면서 동시에 반려동물에 속한다. 축산법은 소, 돼지와 함께 개를 가축으로 분류하고 있다. 하지만 개는 축산물 위생관리법에 포함돼 있지 않다. 동시에 동물보호법의 보호를 받는 반려동물에도 속한다. 이러한 개의 이중적 지위는 개 식용 논란에 불을 지피고 있다. 한국동물보호연합 등 동물보호활동 단체 회원들이 19일 오전 서울 여의도 국회 정문에서 개고양이 도살 금지법 국회 상정 관련 긴급 기자회견을 열었다.동물권단체들은 그간 개를 가축에서 제외해야 한다고 주장해왔다. 지난 6월 청와대 국민청원 게시판에는 축산법상에 규정된 가축에서 개가 제외되면 개 도살이 불법이 되고, 보신탕도 사라지게 된다는 청원이 올라와 21만여명이 동의했다. 최재관 청와대 농어업비서관은 이에 농장에서 기르는 동물을 가축으로 정의한 기존 제도가 시대에 맞지 않는 측면이 있다면</a></dd>\n",
       "</dl>\n",
       "<span class=\"date\">2018.11.19</span>\n",
       "</div>\n",
       "<div class=\"area_box\" data-current-page=\"1\">\n",
       "<dl class=\"Pho\">\n",
       "<dd class=\"photo\">\n",
       "<a href=\"/newsView/20181119001995\" style=\"cursor:pointer;\" target=\"_self\">\n",
       "</a><table border=\"0\" cellpadding=\"0\" cellspacing=\"0\"><tr><td align=\"center\" height=\"107\" style=\"vertical-align:middle;\" valign=\"middle\" width=\"178\"><img border=\"0\" src=\"http://img.segye.com/content/image/2018/11/19/20181119001838_t.jpg\"/></td></tr></table>\n",
       "</dd>\n",
       "</dl>\n",
       "<dl class=\"r_txt\">\n",
       "<dt class=\"title_cr\"><a href=\"/newsView/20181119001995\" target=\"_self\">고용노동부, '양진호 사업장' 특별근로감독 2주 연장</a></dt>\n",
       "<dd class=\"read_cr\"><a href=\"/newsView/20181119001995\" target=\"_self\">고용노동부가 직원폭행 등으로 논란을 일으킨 양진호 한국미래기술 회장의 사업장을 대상으로 특별근로감독을 2주 연장하기로 했다. 지난 2일 압수수색이 진행 중인 위디스크 운영사 이지원인터넷서비스 사무실.고용부는 19일 원래 양 회장에 대한 특별점검을 16일까지 진행할 계획이었는데 추가 조사가 필요하다고 판단해 2주 연장하기로 했다며 11월 말까지 진행할 것이라고 밝혔다.고용부의 이번 감독 대상은 양진호 한국미래기술 회장이 실제 소유하고 있는 것으로 알려진 한국인터넷기술원그룹 계열사 5개(한국인터넷기술원, 한국미래기술, 이지원인터넷서비스, 선한아이디, 블루브릭)다. 폭행과 엽기행각으로 물의를 빚어 구속돼 경찰 조사를 받아온 양진호 한국미래기술 회장이 16일 오전 검찰에 송치되기 위해 경기도 수원시 영통구 수원남부경찰서에서 나오고 있다.고용부는 특별근로감독에서 양 회장이 현직 직원들을 대상으로 폭행 등을 한 정황을 추가 발견하고 이 부분을 중점적으로 조사할 방침이다. 양 회장의 폭행이 처음</a></dd>\n",
       "</dl>\n",
       "<span class=\"date\">2018.11.19</span>\n",
       "</div>\n",
       "<div class=\"area_box\" data-current-page=\"1\">\n",
       "<dl class=\"Pho\">\n",
       "<dd class=\"photo\">\n",
       "<a href=\"/newsView/20181119001676\" style=\"cursor:pointer;\" target=\"_self\">\n",
       "</a><table border=\"0\" cellpadding=\"0\" cellspacing=\"0\"><tr><td align=\"center\" height=\"107\" style=\"vertical-align:middle;\" valign=\"middle\" width=\"178\"><img border=\"0\" src=\"http://img.segye.com/content/image/2018/11/19/20181119001465_t.jpg\"/></td></tr></table>\n",
       "</dd>\n",
       "</dl>\n",
       "<dl class=\"r_txt\">\n",
       "<dt class=\"title_cr\"><a href=\"/newsView/20181119001676\" target=\"_self\">방제훈련 중 숨진 해경 공무원에 '위험직무순직' 첫 인정</a></dt>\n",
       "<dd class=\"read_cr\"><a href=\"/newsView/20181119001676\" target=\"_self\">해상 방제훈련 중 다리를 심하게 다쳐 숨진 여수해경 고(故) 박영근(57) 주무관에 대해 '위험직무순직'이 인정됐다.해양오염확산방지 훈련에 따른 사망자에게 일반 '순직'이 아닌 '위험직무순직'을 인정한 것은 이번이 처음이다.여수해경 제공인사혁신처는 최근 열린 공무원재해보상심사위원회에서 박 주무관(선박항해운영주사)에 대한 위험직무순직신청을 가결했다고 19일 밝혔다.박 주무관은 지난 9월 10일 여수시 오동도 앞바다에서 방제훈련 중 방제정의 양묘기에 다리가 끼는 사고를 당해 병원으로 이송됐으나 숨졌다. 양묘기는 닻을 내리거나 올리기 위해 갑판에 설치된 장비다. 위험직무순직은 공무원이 고도의 위험을 무릅쓰고 직무를 수행하다 사망한 경우에 인정되며 통상의 순직보다 더 많은 보상금과 유족급여를 지급한다.앞서 국가지자체에서 공무 수행 중 사망한 무기계약직비정규직 근로자도 공무원과 동일하게 순직으로 인정하고, 현장공무원의 위험직무순직 인정 범위를 확대하는 내용의 공무원재해보상법이 지난 9월 21</a></dd>\n",
       "</dl>\n",
       "<span class=\"date\">2018.11.19</span>\n",
       "</div>\n",
       "<div class=\"area_box\" data-current-page=\"1\">\n",
       "<dl class=\"Pho\">\n",
       "<dd class=\"photo\">\n",
       "<a href=\"/newsView/20181119001739\" style=\"cursor:pointer;\" target=\"_self\">\n",
       "</a><table border=\"0\" cellpadding=\"0\" cellspacing=\"0\"><tr><td align=\"center\" height=\"107\" style=\"vertical-align:middle;\" valign=\"middle\" width=\"178\"><img border=\"0\" src=\"http://img.segye.com/content/image/2018/11/19/20181119001517_t.jpg\"/></td></tr></table>\n",
       "</dd>\n",
       "</dl>\n",
       "<dl class=\"r_txt\">\n",
       "<dt class=\"title_cr\"><a href=\"/newsView/20181119001739\" target=\"_self\">\"양진호, 재직자 폭행 정황 발견\"…특별감독 2주 연장</a></dt>\n",
       "<dd class=\"read_cr\"><a href=\"/newsView/20181119001739\" target=\"_self\">고용노동부가 양진호 한국미래기술 회장의 사업장을 대상으로 진행해온 특별근로감독을 2주 연장했다.노동부 관계자는 19일 양 회장 사업장에 대한 특별근로감독에 관해 당초 이달 16일까지 할 계획이었는데 추가 조사가 필요해 2주 연장하기로 했다고 밝혔다.이에 따라 특별근로감독은 오는 30일까지 계속된다.노동부는 지난 516일 양 회장이 실제 소유한 것으로 알려진 한국인터넷기술원그룹 계열사인 한국인터넷기술원, 한국미래기술, 이지원인터넷서비스, 선한아이디, 블루브릭 등 5개 사업장에 대해 특별근로감독을 했다.노동부는 특별근로감독에서 양 회장이 현직 직원들을 대상으로 폭행 등을 한 정황을 추가 발견한 것으로 알려졌다. 양 회장의 폭행이 처음으로 폭로된 영상은 퇴직 직원을 대상으로 한 것이었다.노동부의 다른 관계자는 (양 회장의) 재직자에 대한 폭행도 있을 수 있음을 보여주는 징후를 발견했다며 그런 부분에 대해 좀 더 포괄적인 조사가 필요하다고 판단해 특별근로감독 기간을 연장한 것이라고 말했다.</a></dd>\n",
       "</dl>\n",
       "<span class=\"date\">2018.11.19</span>\n",
       "</div>\n",
       "<div class=\"area_box\" data-current-page=\"1\">\n",
       "<dl class=\"Pho\">\n",
       "<dd class=\"photo\">\n",
       "<a href=\"/newsView/20181119001228\" style=\"cursor:pointer;\" target=\"_self\">\n",
       "</a><table border=\"0\" cellpadding=\"0\" cellspacing=\"0\"><tr><td align=\"center\" height=\"107\" style=\"vertical-align:middle;\" valign=\"middle\" width=\"178\"><img border=\"0\" src=\"http://img.segye.com/content/image/2018/11/19/20181119001026_t.jpg\"/></td></tr></table>\n",
       "</dd>\n",
       "</dl>\n",
       "<dl class=\"r_txt\">\n",
       "<dt class=\"title_cr\"><a href=\"/newsView/20181119001228\" target=\"_self\">'저작권 보호' 위한 시정권고 등 심의 기능 대폭 강화</a></dt>\n",
       "<dd class=\"read_cr\"><a href=\"/newsView/20181119001228\" target=\"_self\">한국저작권보호원(원장 윤태용사진)은 매년 증가하는 심의 건수 증가에 적극 대응하기 위해 저작권보호심의위원회 심의 기능을 강화한다고 19일 밝혔다.보호원 산하 저작권보호심의위원회는 저작권법 제122조의6에 따라 설치된 법정 심의기구다. 시정권고명령, 복제전송자 정보제공 청구 등 저작권 보호와 관련된 사항의 심의를 맡고 있다.최근 심의위원회의 심의 건수는 매년 증가하고 있다. 해외사이트 불법복제물에 대한 심의 등 심의 범위도 확대되면서 심의의 공정성과 효율성을 강화할 필요성이 커졌다.이에 심의의 공정성 및 효율성 확보를 위해 심의위원의 자격 요건을 강화하고 심의위원 수를 종래 5명 이상 10명 이내에서 15명 이상 20명 이내로 확대하는 저작권법 개정안이 지난달 국회 문화체육관광위원회에 회부됐다.앞서 2016년 12월에도 심의 공정성을 확보하기 위해 권리 보유자의 이해를 반영하는 심의위원 수와 이용자의 이해를 반영하는 심의위원 수가 균형을 이루도록 하는 저작권법 개정안이 국회를 통과한</a></dd>\n",
       "</dl>\n",
       "<span class=\"date\">2018.11.19</span>\n",
       "</div>\n",
       "<div class=\"area_box\" data-current-page=\"1\">\n",
       "<dl class=\"Pho\">\n",
       "<dd class=\"photo\">\n",
       "<a href=\"/newsView/20181119001540\" style=\"cursor:pointer;\" target=\"_self\">\n",
       "</a><table border=\"0\" cellpadding=\"0\" cellspacing=\"0\"><tr><td align=\"center\" height=\"107\" style=\"vertical-align:middle;\" valign=\"middle\" width=\"178\"><img border=\"0\" src=\"http://img.segye.com/content/image/2018/11/19/20181119001631_0.jpg\"/></td></tr></table>\n",
       "</dd>\n",
       "</dl>\n",
       "<dl class=\"r_txt\">\n",
       "<dt class=\"title_cr\"><a href=\"/newsView/20181119001540\" target=\"_self\">보호자 동의 없이 전신마취…끝내 깨어나지 못한 환자</a></dt>\n",
       "<dd class=\"read_cr\"><a href=\"/newsView/20181119001540\" target=\"_self\">전북 전주의 한 병원에서 수술을 받은 60대가 마취에서 제때 깨어나지 못해 숨졌다.유족은 보호자 동의도 없이 환자를 전신마취했다며 병원을 경찰에 고발했다.19일 유족과 경찰 등에 따르면 전주에 사는 김모(60여)씨는 지난 16일 오전 10시 30분께 집 근처 병원에서 어깨 근육 봉합 수술을 받았다.수술을 마치고 밖으로 나온 의사는 수술은 잘 됐다. 근육이 많이 찢어지지는 않았다고 기다리던 가족을 안심시켰다.남편은 거듭 감사합니다라며 머리를 숙이고 아내가 수술실 밖으로 나오기를 기다렸다.그런데 몇 시간이 지나도 김씨는 가족 앞에 모습을 드러내지 않았다.의사는 설명을 요구하는 가족에게 아직 마취에서 깨어나지 않아서 그렇다. 스스로 호흡을 못 해서 산소를 공급하고 있다고 답했다.이때까지 별다른 문제가 없을 것으로 생각했던 가족은 김씨가 병실로 이동한 오후 3시가 넘어서야 사태의 심각성을 알아챘다.김씨는 마취에서 깨어나지 않은 듯 제대로 의사 표현을 하지 못했고 여전히 산소호흡기를 착용하고</a></dd>\n",
       "</dl>\n",
       "<span class=\"date\">2018.11.19</span>\n",
       "</div>\n",
       "<div class=\"area_box\" data-current-page=\"1\">\n",
       "<dl class=\"Pho\">\n",
       "<dd class=\"photo\">\n",
       "<a href=\"/newsView/20181119001335\" style=\"cursor:pointer;\" target=\"_self\">\n",
       "</a><table border=\"0\" cellpadding=\"0\" cellspacing=\"0\"><tr><td align=\"center\" height=\"107\" style=\"vertical-align:middle;\" valign=\"middle\" width=\"178\"><img border=\"0\" src=\"http://img.segye.com/content/image/2018/11/19/20181119001126_t.jpg\"/></td></tr></table>\n",
       "</dd>\n",
       "</dl>\n",
       "<dl class=\"r_txt\">\n",
       "<dt class=\"title_cr\"><a href=\"/newsView/20181119001335\" target=\"_self\">'추락사 중학생' 점퍼, 경찰 압수…유족에 반환키로</a></dt>\n",
       "<dd class=\"read_cr\"><a href=\"/newsView/20181119001335\" target=\"_self\">인천에서 동급생들로부터 집단폭행을 당한 뒤 추락해 숨진 중학생의 패딩점퍼를 가해 학생 중 한 명이 입고 법원에 출석해 논란이 이는 가운데 경찰이 해당 점퍼를 압수해 유족에게 돌려주기로 했다.인천 연수경찰서는 상해치사 혐의로 구속한 중학생 4명 중 A(14)군이 빼앗아 입은 피해자 B(14사망)군의 패딩점퍼를 압수했다고 19일 밝혔다.경찰 관계자는 A군이 입고 있던 피해자의 점퍼를 압수해 보관하고 있으며 압수물 환부 절차에 따라 조만간 유족에게 돌려줄 예정이라고 말했다.A군 등 남녀 중학생 4명은 지난 13일 오후 5시 20분께 인천시 연수구 15층짜리 아파트 옥상에서 B군을 집단 폭행한 혐의를 받고 있다.B군은 1시간 20여분 뒤인 당일 오후 6시 40분께 이들의 폭행을 피하려다가 아파트 옥상에서 추락해 숨졌다.앞서 A군은 사건 당일 오전 2시께 인천시 연수구 한 공원에서 B군으로부터 패딩점퍼를 빼앗았다. 당시에도 폭행을 당한 B군은 현장에서 달아났다가 전자담배를 돌려주겠다는 말에</a></dd>\n",
       "</dl>\n",
       "<span class=\"date\">2018.11.19</span>\n",
       "</div>\n",
       "<div class=\"area_box\" data-current-page=\"1\">\n",
       "<dl class=\"Pho\">\n",
       "<dd class=\"photo\">\n",
       "<a href=\"/newsView/20181119001189\" style=\"cursor:pointer;\" target=\"_self\">\n",
       "</a><table border=\"0\" cellpadding=\"0\" cellspacing=\"0\"><tr><td align=\"center\" height=\"107\" style=\"vertical-align:middle;\" valign=\"middle\" width=\"178\"><img border=\"0\" src=\"http://img.segye.com/content/image/2018/11/19/20181119001098_t.jpg\"/></td></tr></table>\n",
       "</dd>\n",
       "</dl>\n",
       "<dl class=\"r_txt\">\n",
       "<dt class=\"title_cr\"><a href=\"/newsView/20181119001189\" target=\"_self\">140명 탑승한 KTX열차 포크레인과 충돌 '아찔'…다행히 부상자 3명에 그쳐</a></dt>\n",
       "<dd class=\"read_cr\"><a href=\"/newsView/20181119001189\" target=\"_self\">19일 오전 1시 10분쯤 부산발 서울행 KTX열차가 서울역 진입 전 500m지점에서 선로 교체 작업중이던 포크레인과 충돌한 사고 현장 모습.KTX가 주행중 포크레인과 들이받아 부상자 3명이 발생하는 등 아찔한사고가 발생했다.19일 오전 1시 10분쯤 부산발 서울행 KTX열차가 서울역 진입 전 500m 지점에서 선로 교체 작업 중이던 포크레인의 측면을 들이받는 사고가 발생했다.이 사고로 인해 해당 열차는 기관실 옆부분이 찢어졌고 포크레인 역시 일부가 파손됐다. 당시 해당열차 탑승객은 140명이었다.다행히 사망자는 발생하지않았으나 현장에서 작업중이던 A씨 등 3명이 부상을 당했다.승객들은 사고 발생 후 하차후 선로를 따라 도보로 플랫폼으로 이동했다.코레일과 경찰은 KTX가 서울역 종착 지점이 가까워지면서 속도를 줄였는지정확한 사고발생 경위를 조사 중이다.김용준 온라인 뉴스 기자 james1090@segye.com사진= SBS뉴스 캡처</a></dd>\n",
       "</dl>\n",
       "<span class=\"date\">2018.11.19</span>\n",
       "</div>\n",
       "<div class=\"area_box\" data-current-page=\"1\">\n",
       "<dl class=\"Pho\">\n",
       "<dd class=\"photo\">\n",
       "<a href=\"/newsView/20181119001281\" style=\"cursor:pointer;\" target=\"_self\">\n",
       "</a><table border=\"0\" cellpadding=\"0\" cellspacing=\"0\"><tr><td align=\"center\" height=\"107\" style=\"vertical-align:middle;\" valign=\"middle\" width=\"178\"><img border=\"0\" src=\"http://img.segye.com/content/image/2018/11/19/20181119001086_t.jpg\"/></td></tr></table>\n",
       "</dd>\n",
       "</dl>\n",
       "<dl class=\"r_txt\">\n",
       "<dt class=\"title_cr\"><a href=\"/newsView/20181119001281\" target=\"_self\">서울 지하철 2호선 노후전동차 200량 내달까지 교체</a></dt>\n",
       "<dd class=\"read_cr\"><a href=\"/newsView/20181119001281\" target=\"_self\">지하철 1~8호선을 운영하는 서울교통공사는 2호선 노후전동차 200량을 올해 말까지 교체한다고 19일 밝혔다. 200량 중 180량은 이미 도입됐고, 나머지 20량은 12월 초 반입을 앞두고 있다. 시운전을 끝내고 실제 영업운행(영업거리 72만km)에 투입된 120량은 지금까지 5분 이상 지연되는 장애 없이 안정적으로 운영되고 있다고 교통공사는 전했다. 이번에 도입된 신형전동차에는 충돌안전장치를 설치해 열차의 충돌이나 추돌이 발생했을 때 차량 간 연결기의 충격 흡수력을 향상했다. 국내 최초로 '공기질 개선장치'를 설치해 미세먼지(PM10)를 모니터링하고 제거할 수 있는 환기 시스템을 갖췄으며, 6단계 품질 안전 검증 시스템을 적용해 철도 선진국인 유럽 수준의 안전성을 확보했다.'스마트 실시간 통합정보 시스템'도 구축했다. 고장이 발생하면 고장정보가 LTE 무선통신망을 통해 실시간으로 종합관제센터와 차량기지에 전송돼 신속한 사고복구가 가능해진다. 서울교통공사는 2015년부터 2, 3호</a></dd>\n",
       "</dl>\n",
       "<span class=\"date\">2018.11.19</span>\n",
       "</div>\n",
       "<div class=\"area_box\" data-current-page=\"1\">\n",
       "<dl class=\"Pho\">\n",
       "<dd class=\"photo\">\n",
       "<a href=\"/newsView/20181119001310\" style=\"cursor:pointer;\" target=\"_self\">\n",
       "</a><table border=\"0\" cellpadding=\"0\" cellspacing=\"0\"><tr><td align=\"center\" height=\"107\" style=\"vertical-align:middle;\" valign=\"middle\" width=\"178\"><img border=\"0\" src=\"http://img.segye.com/content/image/2018/11/19/20181119001111_t.jpg\"/></td></tr></table>\n",
       "</dd>\n",
       "</dl>\n",
       "<dl class=\"r_txt\">\n",
       "<dt class=\"title_cr\"><a href=\"/newsView/20181119001310\" target=\"_self\">강제징용 피해자 소송지원 단체, 사기 혐의로 경찰 수사</a></dt>\n",
       "<dd class=\"read_cr\"><a href=\"/newsView/20181119001310\" target=\"_self\">일제 강제징용 피해자를 지원하기 위해 설립된 단체가 사기 혐의로 고발돼 경찰이 사실관계 확인에 나섰다.서울지방경찰청 지능범죄수사대는 '대일항쟁기 강제동원 피해자연합회'에 대한 고발이 접수됨에 따라 이달 13일 서울 서초구에 있는 이 단체 사무실을 압수수색 했다고 19일 밝혔다.이 단체는 일본 전범기업들을 상대로 강제징용 피해자와 유족들이 제기한 임금과 손해배상 소송을 지원하고 있는데, 이 과정에서 소송 진행을 명목으로 피해자와 유족을 상대로 돈을 챙겼다는 혐의(사기)로 고발장이 접수됐다.경찰은 이 단체의 자금 흐름을 추적하고 피해자와 유족을 상대로 돈을 낸 사실이 있는지 확인할 방침이다.이 단체 관계자는 회원들에게 금품을 받은 일이 없고 단체 운영비는 본부장과 사무총장들이 낸 비용으로 충당하고 있다며 사실무근이라고 일축했다.이 관계자는 또 전임 이사장이 사적인 범죄에 연루됐던 사실이 드러나 자리에서 물러났는데, 이에 불만을 품고 허위 내용으로 고발한 것으로 보인다고 주장했다.</a></dd>\n",
       "</dl>\n",
       "<span class=\"date\">2018.11.19</span>\n",
       "</div>\n",
       "<div class=\"area_box\" data-current-page=\"1\">\n",
       "<dl class=\"Pho\">\n",
       "<dd class=\"photo\">\n",
       "<a href=\"/newsView/20181119000938\" style=\"cursor:pointer;\" target=\"_self\">\n",
       "</a><table border=\"0\" cellpadding=\"0\" cellspacing=\"0\"><tr><td align=\"center\" height=\"107\" style=\"vertical-align:middle;\" valign=\"middle\" width=\"178\"><img border=\"0\" src=\"http://img.segye.com/content/image/2018/11/19/20181119000812_t.jpg\"/></td></tr></table>\n",
       "</dd>\n",
       "</dl>\n",
       "<dl class=\"r_txt\">\n",
       "<dt class=\"title_cr\"><a href=\"/newsView/20181119000938\" target=\"_self\">대전 유성에서 규모 2.1 지진 발생… \"진동 미미, 피해 신고 없어\"</a></dt>\n",
       "<dd class=\"read_cr\"><a href=\"/newsView/20181119000938\" target=\"_self\">19일 새벽 대전에서 지진이 발생했다.기상청에 따르면 이날오전3시 34분쯤 대전시 유성구 북서쪽 8km 지점에서 규모 2.1의 지진이 발생했다.진원은 북위 36.42도, 동경 127.30도, 지하 20km로 관측됐다.대전소방본부 관계자는 지진 문의 전화가 있었지만 현재까지 접수된 피해 신고는 없다고 전했다.기상청은 이번 지진으로 일부 사람들이 건물이 약하게 흔들리는 정도의 진동을 감지했을 뿐 규모가 작아 큰 피해는 없을 것으로 예상했다.최은숙 온라인 뉴스 기자 hhpp35@segye.com사진=기상청 제공</a></dd>\n",
       "</dl>\n",
       "<span class=\"date\">2018.11.19</span>\n",
       "</div>\n",
       "<div class=\"area_box\" data-current-page=\"1\">\n",
       "<dl class=\"Pho\">\n",
       "<dd class=\"photo\">\n",
       "<a href=\"/newsView/20181119000993\" style=\"cursor:pointer;\" target=\"_self\">\n",
       "</a><table border=\"0\" cellpadding=\"0\" cellspacing=\"0\"><tr><td align=\"center\" height=\"107\" style=\"vertical-align:middle;\" valign=\"middle\" width=\"178\"><img border=\"0\" src=\"http://img.segye.com/content/image/2018/11/19/20181119000820_t.jpg\"/></td></tr></table>\n",
       "</dd>\n",
       "</dl>\n",
       "<dl class=\"r_txt\">\n",
       "<dt class=\"title_cr\"><a href=\"/newsView/20181119000993\" target=\"_self\">서울 명동 YWCA회관에 불…40여명 대피 소동</a></dt>\n",
       "<dd class=\"read_cr\"><a href=\"/newsView/20181119000993\" target=\"_self\">19일 오전 9시 42분께 서울 중구 명동 서울YWCA회관 지하 1층 수영장 공사장에서 불이 나 수십명이 대피했다.경찰과 소방 당국에 따르면 연기가 난다는 신고를 접수하고 출동한 소방 당국은 오전 10시 5분 현재 지하 1층 화점을 발견해 초기 진압한 뒤 완진 작업 중이다.화재 직후 19명이 자력으로 대피했고, 소방 당국은 옥상 등 건물 다른 층에서 20여 명의 대피를 유도했다.경찰과 소방 당국은 정확한 화재 원인을 조사하고 있다.</a></dd>\n",
       "</dl>\n",
       "<span class=\"date\">2018.11.19</span>\n",
       "</div>\n",
       "<div class=\"area_box\" data-current-page=\"1\">\n",
       "<dl class=\"Pho\">\n",
       "<dd class=\"photo\">\n",
       "<a href=\"/newsView/20181119000839\" style=\"cursor:pointer;\" target=\"_self\">\n",
       "</a><table border=\"0\" cellpadding=\"0\" cellspacing=\"0\"><tr><td align=\"center\" height=\"107\" style=\"vertical-align:middle;\" valign=\"middle\" width=\"178\"><img border=\"0\" src=\"http://img.segye.com/content/image/2018/11/19/20181119000693_t.jpg\"/></td></tr></table>\n",
       "</dd>\n",
       "</dl>\n",
       "<dl class=\"r_txt\">\n",
       "<dt class=\"title_cr\"><a href=\"/newsView/20181119000839\" target=\"_self\">현직 변호사 “패딩 착용 학생, 강도나 공갈죄 추가 가능… 양형 참작해야”</a></dt>\n",
       "<dd class=\"read_cr\"><a href=\"/newsView/20181119000839\" target=\"_self\">이주민들을 위한 법률지원활동을 활발히 하고 있는 최정규 변호사는 19일 인천 중학생 집단폭행 추락사 사건과 관련해 (가해자들이) 옷을 빼앗아 입은 것이라면 강도죄나 공갈죄가 추가로 적용될 수 있다며 가해자들의 양형을 심리하는데 있어서 참작해야 될 부분이라고 지적했다. 최 변호사는 또 다문화 가정 자녀를 향한 차별이 심각한 수준이다. 인천 다문화 가정 자녀 10명 중 6명은 학교에 다니지 않고 있는 것으로 파악된다고 설명했다. 가해 학생이 숨진 피해자의 패딩을 입고 법원에 출두했다.연합뉴스◆패딩착용 가해 학생, 강도나 공갈죄 추가 가능...양형심리 참작해야최 변호사는 이날 MBC라디오 심인보의 시선집중에 출연해 가해자 가운데 한 명이 숨진 피해자의 패딩을 입고 법원에 출두한 것과 관련해 옷을 빼앗아 입은 것이라면 강도죄나 공갈죄가 추가로 적용될 수 있다. 사실 이 부분은 강도죄가 추가 되느냐 공갈죄가 추가 되느냐 라는 것보다는 가해자들의 양형을 심리하는데 있어서 참작해야 될 부분이 아</a></dd>\n",
       "</dl>\n",
       "<span class=\"date\">2018.11.19</span>\n",
       "</div>\n",
       "<div class=\"area_box\" data-current-page=\"1\">\n",
       "<dl class=\"Pho\">\n",
       "<dd class=\"photo\">\n",
       "<a href=\"/newsView/20181119000800\" style=\"cursor:pointer;\" target=\"_self\">\n",
       "</a><table border=\"0\" cellpadding=\"0\" cellspacing=\"0\"><tr><td align=\"center\" height=\"107\" style=\"vertical-align:middle;\" valign=\"middle\" width=\"178\"><img border=\"0\" src=\"http://img.segye.com/content/image/2018/11/19/20181119000779_0.jpg\"/></td></tr></table>\n",
       "</dd>\n",
       "</dl>\n",
       "<dl class=\"r_txt\">\n",
       "<dt class=\"title_cr\"><a href=\"/newsView/20181119000800\" target=\"_self\">현직 판사, 자택서 쓰러진 채 발견…끝내 사망</a></dt>\n",
       "<dd class=\"read_cr\"><a href=\"/newsView/20181119000800\" target=\"_self\">현직 판사가 자택 욕실에서 쓰러진 채 발견돼 병원으로 옮겨졌지만 사망했다. 19일 경찰 등에 따르면 서울고법 소속 A(42사법연수원 32기) 판사가 이날 오전 4시께 서울 서초구의 자택 안방 화장실에서 의식을 잃고 쓰러진 채 발견됐다. A씨를 발견한 남편이 119에 신고해 인근 병원으로 옮겼지만 끝내 사망했다. 당시 외상은 없었던 것으로 알려졌다. A씨는 전날 출근했다가 밤늦게 귀가한 것으로 알려졌다. 경찰은 A씨의 정확한 사망 원인을 확인하기 위해 시신을 부검할 계획이다.</a></dd>\n",
       "</dl>\n",
       "<span class=\"date\">2018.11.19</span>\n",
       "</div>\n",
       "<div class=\"area_box\" data-current-page=\"1\">\n",
       "<dl class=\"Pho\">\n",
       "<dd class=\"photo\">\n",
       "<a href=\"/newsView/20181119000781\" style=\"cursor:pointer;\" target=\"_self\">\n",
       "</a><table border=\"0\" cellpadding=\"0\" cellspacing=\"0\"><tr><td align=\"center\" height=\"107\" style=\"vertical-align:middle;\" valign=\"middle\" width=\"178\"><img border=\"0\" src=\"http://img.segye.com/content/image/2018/11/19/20181119000632_t.jpg\"/></td></tr></table>\n",
       "</dd>\n",
       "</dl>\n",
       "<dl class=\"r_txt\">\n",
       "<dt class=\"title_cr\"><a href=\"/newsView/20181119000781\" target=\"_self\">'변호사 되기' 리얼리티 예능…? 법조계 \"희화화 우려\"</a></dt>\n",
       "<dd class=\"read_cr\"><a href=\"/newsView/20181119000781\" target=\"_self\">모 방송사가 법학전문대학원(로스쿨)에 재학 중인 학생들이 출연하는 예능 프로그램을 기획 중이라는 사실이 알려지며 법조계 일각에서 반대 목소리가 나오기 시작했다. 변호사가 되는 과정을 다루는 리얼리티 예능을 표방한 해당 프로그램이 자칫 변호사와 법조계를 희화화할 수 있다는 것이다.19일 방송가에 따르면 모 종합편성채널 제작진은 내년 상반기 촬영과 방영을 목표로 리얼리티 예능 프로그램 인턴(가제)을 제작하기로 하고 현재 구체적 기획에 들어간 상태다. 인턴은 전문직업의 인턴과 수습 과정을 거치며 일어나는 일들을 일반에 소개하는 것이 목표다.다양한 전문직업군 중 우선 변호사가 되는 과정을 다룰 예정이다. 로스쿨 학생들이 실제 채용되는 것을 전제로 법무법인(로펌)에서 수습기간을 거치게 한다는 것이 현재까지 알려진 프로그램 내용의 골격이다. 벌써부터 학년, 나이 제한 없이 로스쿨 재학생들 중에서 출연자를 모집하고 나섰다는 소문도 돌고 있다.이에 사법시험 및 사법연수원 출신 변호사들로 구성된 대</a></dd>\n",
       "</dl>\n",
       "<span class=\"date\">2018.11.19</span>\n",
       "</div>\n",
       "<div class=\"area_box\" data-current-page=\"1\">\n",
       "<dl class=\"Pho\">\n",
       "<dd class=\"photo\">\n",
       "<a href=\"/newsView/20181119000698\" style=\"cursor:pointer;\" target=\"_self\">\n",
       "</a><table border=\"0\" cellpadding=\"0\" cellspacing=\"0\"><tr><td align=\"center\" height=\"107\" style=\"vertical-align:middle;\" valign=\"middle\" width=\"178\"><img border=\"0\" src=\"http://img.segye.com/content/image/2017/08/03/20170803002381_t.jpg\"/></td></tr></table>\n",
       "</dd>\n",
       "</dl>\n",
       "<dl class=\"r_txt\">\n",
       "<dt class=\"title_cr\"><a href=\"/newsView/20181119000698\" target=\"_self\">제주 단체관광객 5명 식중독 의심증세</a></dt>\n",
       "<dd class=\"read_cr\"><a href=\"/newsView/20181119000698\" target=\"_self\">제주에 온 단체관광객 20여명 중 5명이 식중독 의심증세를 보여 병원 치료를 받고 있다.19일 제주시와 소방 당국에 따르면 18일 오후 11시께 제주시 연동에 있는 한 호텔에 묵고 있던 A(68충남 천안)씨 등 5명이 구토와 설사 증세를 보여 인근 병원에서 치료를 받고 있다. 이들은 다른 단체관광객 일행과 함께 18일 오후 저녁 식사로 회를 먹고 난 후부터 이 같은 증상이 나타났다고 진술했다. 제주시 관계자는 환자들의 상태 등 병원에서 자세한 상황을 파악한 후 음식점 등에 대해 역학조사를 실시할 예정이라고 말했다.</a></dd>\n",
       "</dl>\n",
       "<span class=\"date\">2018.11.19</span>\n",
       "</div>\n",
       "<div class=\"area_box\" data-current-page=\"1\">\n",
       "<dl class=\"Pho\">\n",
       "<dd class=\"photo\">\n",
       "<a href=\"/newsView/20181111000815\" style=\"cursor:pointer;\" target=\"_self\">\n",
       "</a><table border=\"0\" cellpadding=\"0\" cellspacing=\"0\"><tr><td align=\"center\" height=\"107\" style=\"vertical-align:middle;\" valign=\"middle\" width=\"178\"><img border=\"0\" src=\"http://img.segye.com/content/image/2018/11/11/20181111000808_t.jpg\"/></td></tr></table>\n",
       "</dd>\n",
       "</dl>\n",
       "<dl class=\"r_txt\">\n",
       "<dt class=\"title_cr\"><a href=\"/newsView/20181111000815\" target=\"_self\">[직장맘 三고충 (1)] 직장 갑질에 시름 깊은 워킹맘 \"믿고 애 맡길 데 없나요\"</a></dt>\n",
       "<dd class=\"read_cr\"><a href=\"/newsView/20181111000815\" target=\"_self\">#1. 만삭의 워킹맘 A씨는 둔해진 몸 때문에 일하다가 넘어져 다치고 말았다. 이를 본 부장은 되레 화를 내며 A씨의 컴퓨터를 없애버렸다고 한다. A씨는 출산휴가까지 한달반 정도 남은 시점에 인사고과 최저점을 받고, 수당 30만원이 삭감되는 등 불이익까지 받았다고 토로했다.#2. 임신 22주차의 직장맘 B씨는 육아휴직 신청을 고민하던 중 회사로부터 사직을 권고받았다. 팀장은 B씨에게 이렇게 눈치가 없어 어떻게 사회생활을 했느냐, 남편이 돈을 잘 벌지 않느냐며 권고 사직을 거부하는 B씨를 정신적으로 괴롭히면서 직간접적으로 압박했다. B씨는관리팀에선 근무태도를 문제 삼고, 나아가 다른 직원들이 임신부를 불편하게 생각한다면서 그만둘 것을 종용했다고 하소연했다.워킹맘들이 임신과 육아로 직장에서 부당한 대우를 받는 현실은 어제오늘의 일은 아니다. 믿고 아이를 맡길 데가 드물어 휴직을 하고 싶어도 직장 상사 눈치를 봐야 하고, 갑질 수모까지 견뎌야 하는 게 우리 직장맘의 현주소다.실제로 조사</a></dd>\n",
       "</dl>\n",
       "<span class=\"date\">2018.11.19</span>\n",
       "</div>\n",
       "<div class=\"area_box\" data-current-page=\"1\">\n",
       "<dl class=\"Pho\">\n",
       "<dd class=\"photo\">\n",
       "<a href=\"/newsView/20181119000356\" style=\"cursor:pointer;\" target=\"_self\">\n",
       "</a><table border=\"0\" cellpadding=\"0\" cellspacing=\"0\"><tr><td align=\"center\" height=\"107\" style=\"vertical-align:middle;\" valign=\"middle\" width=\"178\"><img border=\"0\" src=\"http://img.segye.com/content/image/2018/11/19/20181119000275_t.jpg\"/></td></tr></table>\n",
       "</dd>\n",
       "</dl>\n",
       "<dl class=\"r_txt\">\n",
       "<dt class=\"title_cr\"><a href=\"/newsView/20181119000356\" target=\"_self\">인생 3할을 수감 생활한 50대, 출소 3일 만에 담 넘다 구속</a></dt>\n",
       "<dd class=\"read_cr\"><a href=\"/newsView/20181119000356\" target=\"_self\">광주 북부경찰서는 빈집에 잇달아 들어가 금품을 훔친 혐의(절도)로 이모(57)씨를 구속했다고 19일 밝혔다.이씨는 지난 5일 오전 11시 40분께 광주 북구 운암동의 한 주택에 출입문을 부수고 침입해 현금 10만원을 훔치는 등 3차례에 걸쳐 금품을 훔친 혐의를 받고 있다.전과 12범인 이씨는 20여년을 교도소에서 생활했다.지난 2일 1년형을 살고 교도소에서 출소한 이씨는 생활비를 마련하려고 출소 3일 만에 범행을 저지른 것으로 드러났다.경찰은 주택가에 범행 대상을 물색하다 귀가한 이씨를 잠복수사 끝에 검거했다. 경찰은 이씨가 한 차례 범행을 저지른 집에 또다시 침입하기도 했다며 형사들 사이에서 는 상습 절도범인 이씨는 나름 유명인물이다고 씁쓸해했다.</a></dd>\n",
       "</dl>\n",
       "<span class=\"date\">2018.11.19</span>\n",
       "</div>\n",
       "</div>\n",
       "<!-- paging start -->\n",
       "<div class=\"paging paginationElement\" data-cur-page=\"1\" data-endpaging=\"10\" data-list-articlenum=\"5\" data-pagingnum=\"10\" data-startpaging=\"1\" data-tot-articlenum=\"100\" data-totalpage=\"8686\">\n",
       "<a class=\"pre\" id=\"page_prev\" title=\"이전\"></a>\n",
       "<a class=\"selected\" id=\"selectPage\">{{PAGE}}</a>\n",
       "<a href=\"{{HREF}}\" id=\"noneSelectPage\">{{PAGE}}</a>\n",
       "<a class=\"next\" id=\"page_next\" title=\"다음\"></a>\n",
       "</div>\n",
       "<script> makePagination();</script>\n",
       "<!-- paging end -->\n",
       "</div>\n",
       "<!-- newsList end -->\n",
       "<!-- content Left end -->\n",
       "<!------------------------->\n",
       "<!-- content Right start -->\n",
       "<div class=\"news_aside\">\n",
       "<!-- ad :: 300x250 배너 start -->\n",
       "<div class=\"ad_right_300bn\">\n",
       "<iframe frameborder=\"0\" height=\"250\" marginheight=\"0\" marginwidth=\"0\" noresize=\"\" scrolling=\"no\" src=\"//white.contentsfeed.com/RealMedia/ads/adstream_sx.ads/segye.com/List3@Right\" width=\"300\"></iframe>\n",
       "</div>\n",
       "<!-- ad :: 300x250 배너 end -->\n",
       "<!-- 세계미래포럼 300x82 start\n",
       "<div style=\"width:300px;margin:0 0 35px 0;\">\n",
       "\t <div style=\"margin:0;\"><a href=\"https://www.worlddrone.co.kr/\" target=\"_blank\"  border=\"0\"><img src=https://img.segye.com/resources/images/ad/20181008_droneexpo_300x82.png  border=\"0\"></a></div>\n",
       "</div>\n",
       " 세계미래포럼 300x82 end-->\n",
       "<!-- 지방선거 특집페이지 오픈 후 삭제 start \n",
       "   <div style=\"margin-bottom:35px;\" id=\"613electionDiv\">\n",
       "\t<ul>\n",
       "\t\t<li><a href=\"http://segye.com/newsList/6000085\"  target=\"_blank\" ><img src=\"http://img.segye.com/resources/images/bn/613election_bn.png\" border=\"0\" width=\"300px\" height=\"82px\" /></a></li>\n",
       "\t</ul>\n",
       "\t</div>\n",
       "\n",
       "\t지방선거 특집페이지 오픈 후 삭제 end -->\n",
       "<!-- 지방선거 특집페이지 오픈 후 등록 start\n",
       "\t<div style=\"margin-bottom:35px;\" id=\"613electionDiv\">\n",
       "\t<ul>\n",
       "\t\t<li><a href=\"/election613\" target=\"_blank\" ><img src=\"http://img.segye.com/resources/images/bn/613election_bn03.png\" border=\"0\" width=\"300px\" height=\"82px\" /></li>\n",
       "\t</ul>\n",
       "\t</div>\n",
       "\t지방선거 특집페이지 오픈 end -->\n",
       "<!-- 2018 러시아 월드컵 start\n",
       "\t<div style=\"margin-bottom:35px;\">\n",
       "\t<ul>\n",
       "\t\t<li><a href=\"/worldcup2018\"  target=\"_blank\" ><img src=\"http://img.segye.com/resources/images/eventpage/worldcup2018_viewbn.jpg\" border=\"0\" width=\"300px\" height=\"82px\" /></a></li>\n",
       "\t</ul>\n",
       "\t</div>  \n",
       "   2018 러시아 월드컵 end -->\n",
       "<!-- R :: 추천뉴스 start -->\n",
       "<tornado:component componentid=\"0_2011022315484676\">\n",
       "<div class=\"news_recommand\" data-component=\"0_2011022315484676\">\n",
       "<div class=\"news_T\">인기 뉴스</div>\n",
       "<div class=\"news_Top\"><a href=\"/newsView/20181111001889\">\"만취한 나를 강간했다\"…무고에 파탄난 삶</a></div>\n",
       "<ul class=\"news_C\">\n",
       "<li>\n",
       "<span class=\"text_r\"><a href=\"/newsView/20181114005320\">\"여자라서 맞았다\"…성 대결로 번진 '이수역 폭행'</a></span>\n",
       "<span class=\"img_r\"><a href=\"/newsView/20181114005320\"><img border=\"0\" height=\"45\" src=\"http://img.segye.com/content/image/2018/11/14/20181114004455_0.jpg\" width=\"75\"/></a></span>\n",
       "</li>\n",
       "<li>\n",
       "<span class=\"text_r\"><a href=\"/newsView/20181029001184\">\"XX 그룹이라는 말까지…\" 걸그룹 전 멤버의 눈물</a></span>\n",
       "<span class=\"img_r\"><a href=\"/newsView/20181029001184\"><img border=\"0\" height=\"45\" src=\"http://img.segye.com/content/image/2018/10/29/20181029003181_0.jpg\" width=\"75\"/></a></span>\n",
       "</li>\n",
       "<li>\n",
       "<span class=\"text_r\"><a href=\"/newsView/20181114004032\">\"병역은 거부, 36개월도 NO\"… 고심 깊은 국방부</a></span>\n",
       "<span class=\"img_r\"><a href=\"/newsView/20181114004032\"><img border=\"0\" height=\"45\" src=\"http://img.segye.com/content/image/2018/11/14/20181114004042_0.jpg\" width=\"75\"/></a></span>\n",
       "</li>\n",
       "<li>\n",
       "<span class=\"text_r\"><a href=\"/newsView/20181005003396\">다리 굵으면 오래 산다? 허벅지 둘레를 키워야 하는 이유</a></span>\n",
       "<span class=\"img_r\"><a href=\"/newsView/20181005003396\"><img border=\"0\" height=\"45\" src=\"http://img.segye.com/content/image/2018/10/05/20181005002961_0.jpg\" width=\"75\"/></a></span>\n",
       "</li>\n",
       "</ul>\n",
       "</div>\n",
       "</tornado:component>\n",
       "<!-- R :: 추천뉴스 end -->\n",
       "<!-- R :: 포토 start -->\n",
       "<tornado:component componentid=\"0_2007102518411844\">\n",
       "<div class=\"pictorial\">\n",
       "<div class=\"news_T\">포토<span><a href=\"/photo\"><img border=\"0\" src=\"//img.segye.com/resources/images/bt_more.png\"/></a></span></div>\n",
       "<div class=\"view\" data-component=\"0_2007102518411844\" id=\"view\">\n",
       "<div id=\"window\"><a href=\"/newsView/20181119001300\"><img height=\"211\" src=\"http://img.segye.com/content/image/2018/11/19/20181119001799_0.jpg\" style=\"border:0; margin:0; padding:0;\" width=\"239\"/></a></div>\n",
       "<div class=\"txtBox\" id=\"txtBox\"><span class=\"txt\"><a href=\"/newsView/20181119001300\">배두나 '시크한 매력'</a></span><span class=\"bg\"></span></div>\n",
       "</div>\n",
       "<ul class=\"th_list\" id=\"list_thumb\">\n",
       "<li class=\"first on\" id=\"thumb_class_0\" rel=\"0\">\n",
       "<a href=\"/newsView/20181119001300\">\n",
       "<img alt=\"배두나 '시크한 매력'\" height=\"52\" src=\"http://img.segye.com/content/image/2018/11/19/20181119001799_0.jpg\" style=\"border:0; margin:0; padding:0;\" width=\"59\"/><span></span>\n",
       "</a>\n",
       "</li>\n",
       "<li class=\"first on\" id=\"thumb_class_0\" rel=\"1\">\n",
       "<a href=\"/newsView/20181114004936\">\n",
       "<img alt=\"트와이스 쯔위 '너무 사랑스러워'\" height=\"52\" src=\"http://img.segye.com/content/image/2018/11/14/20181114004321_0.jpg\" style=\"border:0; margin:0; padding:0;\" width=\"59\"/><span></span>\n",
       "</a>\n",
       "</li>\n",
       "<li class=\"first on\" id=\"thumb_class_0\" rel=\"2\">\n",
       "<a href=\"/newsView/20181114004900\">\n",
       "<img alt=\"트와이스 사나 '돋보이는 섹시'\" height=\"52\" src=\"http://img.segye.com/content/image/2018/11/14/20181114004322_0.jpg\" style=\"border:0; margin:0; padding:0;\" width=\"59\"/><span></span>\n",
       "</a>\n",
       "</li>\n",
       "<li class=\"first on\" id=\"thumb_class_0\" rel=\"3\">\n",
       "<a href=\"/newsView/20181114002475\">\n",
       "<img alt=\"전소민 '너무 사랑스러워'\" height=\"52\" src=\"http://img.segye.com/content/image/2018/11/14/20181114002326_0.jpg\" style=\"border:0; margin:0; padding:0;\" width=\"59\"/><span></span>\n",
       "</a>\n",
       "</li>\n",
       "</ul><ul class=\"th_list2\" id=\"list_thumb\">\n",
       "<li class=\"first on\" id=\"thumb_class_0\" rel=\"4\">\n",
       "<a href=\"/newsView/20181114000544\">\n",
       "<img alt=\"아이즈원 '국민 요정들'\" height=\"52\" src=\"http://img.segye.com/content/image/2018/11/14/20181114001018_0.jpg\" style=\"border:0; margin:0; padding:0;\" width=\"59\"/><span></span>\n",
       "</a>\n",
       "</li>\n",
       "<li class=\"first on\" id=\"thumb_class_0\" rel=\"5\">\n",
       "<a href=\"/newsView/20181113004690\">\n",
       "<img alt=\"구구단 미나 '아찔한 터치'\" height=\"52\" src=\"http://img.segye.com/content/image/2018/11/13/20181113004300_0.jpg\" style=\"border:0; margin:0; padding:0;\" width=\"59\"/><span></span>\n",
       "</a>\n",
       "</li>\n",
       "<li class=\"first on\" id=\"thumb_class_0\" rel=\"6\">\n",
       "<a href=\"/newsView/20181113001441\">\n",
       "<img alt=\"전지현 '오늘도 예쁨'\" height=\"52\" src=\"http://img.segye.com/content/image/2018/11/13/20181113001371_0.jpg\" style=\"border:0; margin:0; padding:0;\" width=\"59\"/><span></span>\n",
       "</a>\n",
       "</li>\n",
       "<li class=\"first on\" id=\"thumb_class_0\" rel=\"7\">\n",
       "<a href=\"/newsView/20181112002313\">\n",
       "<img alt=\"정유미 '여신의 손인사'\" height=\"52\" src=\"http://img.segye.com/content/image/2018/11/12/20181112002257_0.jpg\" style=\"border:0; margin:0; padding:0;\" width=\"59\"/><span></span>\n",
       "</a>\n",
       "</li>\n",
       "<li class=\"first on\" id=\"thumb_class_0\" rel=\"8\">\n",
       "<a href=\"/newsView/20181108002714\">\n",
       "<img alt=\"구구단 세정 '센터 미모'\" height=\"52\" src=\"http://img.segye.com/content/image/2018/11/08/20181108002693_0.jpg\" style=\"border:0; margin:0; padding:0;\" width=\"59\"/><span></span>\n",
       "</a>\n",
       "</li>\n",
       "</ul>\n",
       "</div>\n",
       "<script type=\"text/javascript\">\n",
       "\tvar currentIndex = -1;\n",
       "\tvar obj;\n",
       "\tfunction showImage(index){\n",
       "\t\tif(index < $('#list_thumb img').length){\n",
       "\t\t\t\n",
       "\t\t\tvar currentImage = $('#list_thumb img')[currentIndex];\n",
       "\t\t\tvar indexImage = $('#list_thumb img')[index];\n",
       "\t\t\tclearTimeout(myTimer);\n",
       "\t\t\t\n",
       "\t\t\t\tmyTimer = setTimeout(\"showNext()\", 3000);\n",
       "\t\t\t\t$(currentImage).parent().children('span').removeClass('line');\n",
       "\t\t\t\t$(indexImage).parent().children('span').addClass('line');\n",
       "\t\t\t\timg_url = $(indexImage).attr('src');\n",
       "\t\t\t\timg_title = $(indexImage).attr('alt');\n",
       "\t\t\t\timg_href = $(indexImage).parent('a').attr('href');\n",
       "\t\t\t\t$('#window img').attr('src',img_url);\n",
       "\t\t\t\t$('#window a').attr('href',img_href);\n",
       "\t\t\t\t$('#txtBox span a').text(img_title);\n",
       "\t\t\t\t$('#txtBox span a').attr('href',img_href);\n",
       "\t\t\t\tcurrentIndex = index;\n",
       "\n",
       "\t\t\t}\n",
       "\t\t}\n",
       "\n",
       "\tfunction showNext(){\n",
       "\t\tvar len = $('#list_thumb img').length;\n",
       "\t\tvar next = currentIndex < (len-1) ? currentIndex + 1 : 0;\n",
       "\t\tshowImage(next);\n",
       "\t}\n",
       "\tvar myTimer;\n",
       "\t$(document).ready(function(){\n",
       "\t\tmyTimer = setTimeout(\"showNext()\", 3000);\n",
       "\t\tshowNext();\n",
       "\t\t$('#list_thumb img').bind('mouseover',function(e){\n",
       "\t\t\te.preventDefault();\n",
       "\t\t\tvar count = $(this).parent().parent().attr('rel');\n",
       "\t\t\tshowImage(parseInt(count));\n",
       "\t\t});\n",
       "\t})\n",
       "</script>\n",
       "</tornado:component>\n",
       "<!-- R :: 포토 end -->\n",
       "<!-- R :: 많이 본 뉴스 start -->\n",
       "<div class=\"news_favor\">\n",
       "<div class=\"news_T\">많이 본 뉴스</div>\n",
       "<ul class=\"news_C\">\n",
       "<li class=\"facor_1\"><a href=\"//www.segye.com/newsView/20181118001880\">JSA 귀순병 오청성 \"한국군, 군대 같지 않은 군대\"</a></li>\n",
       "<li class=\"facor_2\"><a href=\"//www.segye.com/newsView/20181119000890\">이재명 기자회견은 트위터 투표 결과 때문? 80% 이상 '경찰 주장'에 공감→위기 상황</a></li>\n",
       "<li class=\"facor_3\"><a href=\"//www.segye.com/newsView/20181119000432\">홍진영 언니 '먹언' 제조기 등극 \"탄산은 숨 쉬려고 먹는다\"</a></li>\n",
       "<li class=\"facor_4\"><a href=\"//www.segye.com/newsView/20181119000481\">장동민 6억 사기 고백 \"돈 벌려는 생각 아니었다\" 사건의 내막은?</a></li>\n",
       "<li class=\"facor_5\"><a href=\"//www.segye.com/newsView/20181119000294\">10대 아들이 부모에게 흉기 휘둘러… 아버지 숨져</a></li>\n",
       "<li class=\"facor_6\"><a href=\"//www.segye.com/newsView/20181119000800\">현직 판사, 자택서 쓰러진 채 발견…끝내 사망</a></li>\n",
       "<li class=\"facor_7\"><a href=\"//www.segye.com/newsView/20181119001197\">전여옥 \"좌파진영 3차대전급 내전 시작됐다\"</a></li>\n",
       "<li class=\"facor_8\"><a href=\"//www.segye.com/newsView/20181119000833\">JSA 귀순병 목소리 최초공개… 완벽한 '서울말씨'</a></li>\n",
       "<li class=\"facor_9\"><a href=\"//www.segye.com/newsView/20181118000603\">'전참시' 이승윤 매니저, 이영자도 극찬한 '훈남 외모'+'특급 성실성' 화제</a></li>\n",
       "<li class=\"facor_10\"><a href=\"//www.segye.com/newsView/20181118000494\">한라산 오르던 60대 관광객 심정지로 사망</a></li>\n",
       "</ul>\n",
       "</div>\n",
       "<!-- R :: 많이 본 뉴스 end -->\n",
       "<!-- R :: 카드뉴스 start -->\n",
       "<div class=\"cardnews\">\n",
       "<div class=\"photo1\">\n",
       "<a border=\"0\" href=\"/cardView/20181030003955\" id=\"photo_left_link\"><img border=\"0\" height=\"300px\" src=\"http://img.segye.com/content/image/2018/10/31/20181031000452_0.jpg\" width=\"300px\"/></a>\n",
       "<span class=\"face\"><img border=\"0\" src=\"http://img.segye.com/resources/images/cardnews_t.png\"/></span>\n",
       "</div>\n",
       "</div>\n",
       "<!-- R :: 카드뉴스 end -->\n",
       "<!-- R :: 홍보배너 start -->\n",
       "<!-- <div class=\"promotion_bn\">\n",
       "\t<ul>\n",
       "\t\t<li><a href=\"\"><img src=\"http://img.segye.com/resources/images/common/bn/mainRight_253x47_ucc.png\" border=\"0\" width=\"300px\" height=\"56px\" /></li>\n",
       "\t</ul>\n",
       "</div> -->\n",
       "<!-- R :: 홍보배너 end -->\n",
       "</div>\n",
       "<!-- content Right end -->\n",
       "</div>\n",
       "<!-- 콘텐츠 영역 end -->\n",
       "<!------------------------>\n",
       "<!------------------------>\n",
       "<!-- 푸터 영역 start -->\n",
       "<script type=\"text/javascript\">\n",
       "\tif(typeof _GUL == 'undefined'){\n",
       "\t\tvar _aid = \"\";\t\t\t// 기사 ID\n",
       "\t\tvar _seriesid = \"\";\n",
       "\t\t\n",
       "\t\tif(document.getElementById(\"SG_CreatorName\")){\n",
       "\t\t\tvar _aname = document.getElementById(\"SG_CreatorName\").innerHTML;\t\t// 기자명\n",
       "\t\t}\n",
       "\t\t\n",
       "\t\tif(document.getElementById(\"SG_MECHE\")){\n",
       "\t\t\tvar _atype = document.getElementById(\"SG_MECHE\").innerHTML.replace(\"<\",\"\").replace(\">\",\"\").replace(\"&lt;\",\"\").replace(\"&gt;\",\"\");\t\t// 기성성타입\n",
       "\t\t}\n",
       "\t\tvar _GCD = '';\n",
       "\t\tif(_GCD == ''){\n",
       "\t\t\tif('13'==7){\n",
       "\t\t\t\t_GCD = '0101080000000';\n",
       "\t\t\t}else{\n",
       "\t\t\t\t_GCD='010108'+'0000000';\n",
       "\t\t\t}\n",
       "\t\t}\n",
       "\t\tif(_GCD.substr(0,4)=='0198'){\n",
       "\t\t\t_GCD ='0115030000000';\n",
       "\t\t}else if(_GCD.substr(0,4)=='0121'){\n",
       "\t\t\t_GCD ='0101030000000';\n",
       "\t\t}else if(_GCD.substr(0,4)=='0101'){\n",
       "\t\t\t//_GCD ='0101010000000';\n",
       "\t\t}else if(_GCD.substr(0,4)=='0117'){\n",
       "\t\t\t_GCD ='0117000000000';\n",
       "\t\t}else if(_GCD.substr(0,4)=='0114'){\n",
       "\t\t\t_GCD ='0114000000000';\n",
       "\t\t}else if(_GCD.substr(0,4)=='0115'){\n",
       "\t\t\t_GCD ='0115000000000';\n",
       "\t\t}else if(_GCD.substr(0,4)=='0104'){\n",
       "\t\t\t_GCD ='0104000000000';\n",
       "\t\t}else if(_GCD.substr(0,4)=='0103'){\n",
       "\t\t\t_GCD ='0101080000000';\n",
       "\t\t}else if(_GCD.substr(0,4)=='0198'){\n",
       "\t\t\t_GCD ='0115030000000';\n",
       "\t\t}else if(_GCD.substr(0,4)=='0100'){\n",
       "\t\t\t_GCD ='0101080000000';\n",
       "\t\t}else if(_GCD.substr(0,4)=='0112'){\n",
       "\t\t\t_GCD ='0112000000000';\n",
       "\t\t}else if(_GCD.substr(0,4)=='0501'){\n",
       "\t\t\t_GCD ='0101030000000';\n",
       "\t\t}else if(_GCD.substr(0,2)==\"11\"){\n",
       "\t\t\t_GCD ='0101060000000';\n",
       "\t\t}else if(_GCD.substr(0,2)=='71'){\n",
       "\t\t\t_GCD ='0101030000000';\n",
       "\t\t}else if(_GCD.substr(0,2)=='93'){\n",
       "\t\t\t_GCD ='0101040000000';\n",
       "\t\t}else if(_GCD.substr(0,2)=='97'){\n",
       "\t\t\t_GCD ='0101030000000';\n",
       "\t\t}else if(_GCD.substr(0,2)=='91'){\n",
       "\t\t\t_GCD ='0101080000000';\n",
       "\t\t}else if(_GCD=='0200000000000'){\n",
       "\t\t\t_GCD ='0101080000000';\n",
       "\t\t}else if(_GCD=='0202000000000'){\n",
       "\t\t\t_GCD ='0101080000000';\n",
       "\t\t}else if(_GCD=='0201000000000'){\n",
       "\t\t\t_GCD ='0101060000000';\n",
       "\t\t}else if(_seriesid == '6450038' ){\n",
       "\t\t\t_GCD ='0119000000000';\n",
       "\t\t}else if(_GCD == '' ){\n",
       "\t\t\t_GCD ='0199000000000';\n",
       "\t\t}\n",
       "\n",
       "\t\tif(_GCD == '' ){\n",
       "\t\t\t_GCD ='0199000000000';\n",
       "\t\t}\n",
       "\t\tvar _GUL = 'ace.segye.com';\n",
       "\t\tvar _GPT='80';\n",
       "\t\tvar _SGPT='443';\n",
       "\t\tvar _AIMG = new Image();\n",
       "\t\tvar _bn=navigator.appName;\n",
       "\t\tvar _PR = location.protocol==\"https:\"?\"https://\"+_GUL+\":\"+_SGPT:\"http://\"+_GUL+\":\"+_GPT;\n",
       "\t\tif( _bn.indexOf(\"Netscape\") > -1 || _bn==\"Mozilla\"){\n",
       "\t\t\tsetTimeout(\"_AIMG.src = _PR+'/?cookie';\",1); \n",
       "\t\t}else{\n",
       "\t\t\t_AIMG.src = _PR+'/?cookie'; \n",
       "\t\t};\n",
       "\t\tdocument.writeln(\"<scr\"+\"ipt language='javascript' src='//img.segye.com/resources/js/acecounter/acecounter_V70.js'></scr\"+\"ipt>\");\n",
       "\t}\n",
       "</script>\n",
       "<!-- 푸터 서비스 전체보기 클릭시 나타나는 메뉴박스 start -->\n",
       "<div id=\"footer\">\n",
       "<!-- 푸터 서비스 전체보기 클릭시 나타나는 메뉴박스 start -->\n",
       "<div class=\"footer_open_down\" id=\"footerClose\" style=\"display:none\">\n",
       "<a class=\"closeBt2\" id=\"footerBt\"><img alt=\"닫기\" border=\"0\" src=\"//img.segye.com/resources/images/bt_close2.png\"/></a>\n",
       "<div class=\"bmenu1\">\n",
       "<ul>\n",
       "<li class=\"title\"><a href=\"/main\">뉴스</a></li>\n",
       "<li><a href=\"http://www.segye.com/newsList/0101010000000\">정치</a></li>\n",
       "<li><a href=\"http://www.segye.com/newsList/0101030000000\">경제</a></li>\n",
       "<li><a href=\"http://www.segye.com/newsList/0101080000000\">사회</a></li>\n",
       "<li><a href=\"http://www.segye.com/newsList/0101040000000\">국제</a></li>\n",
       "<li><a href=\"http://www.segye.com/newsList/0101050000000\">문화</a></li>\n",
       "<li><a href=\"http://www.segye.com/newsList/0101070000000\">전국</a></li>\n",
       "<li><a href=\"http://www.segye.com/newsList/0101120000000\">피플</a></li>\n",
       "<li><a href=\"http://www.segye.com/seriesList/4300000\">기획특집</a></li>\n",
       "<li><a href=\"http://www.segye.com/cardList/9140000\">카드뉴스</a></li>\n",
       "</ul>\n",
       "<ul>\n",
       "<li class=\"title\"><a href=\"http://www.segye.com/opinion\">오피니언</a></li>\n",
       "<li><a href=\"http://www.segye.com/newsList/0101100300000\">사설</a></li>\n",
       "<li><a href=\"http://www.segye.com/newsList/2001167\">오늘의 칼럼</a></li>\n",
       "<li><a href=\"http://www.segye.com/newsList/0101100503000\">기자ㆍ데스크</a></li>\n",
       "<li><a href=\"http://www.segye.com/newsList/0101100501000\">논설위원칼럼</a></li>\n",
       "<li><a href=\"http://www.segye.com/newsList/0101100504000\">전문가칼럼</a></li>\n",
       "<li><a href=\"http://www.segye.com/newsList/0101100502000\">외부칼럼</a></li>\n",
       "<li><a href=\"http://www.segye.com/newsList/0101100800000\">기고ㆍ독자</a></li>\n",
       "<li><a href=\"http://www.segye.com/newsList/0101100200000\">월드</a></li>\n",
       "</ul>\n",
       "<ul>\n",
       "<li class=\"title\"><a href=\"http://www.segye.com/ent\">연예</a></li>\n",
       "<li><a href=\"http://www.segye.com/newsList/0101060100000\">연예가소식</a></li>\n",
       "<li><a href=\"http://www.segye.com/newsList/0101060500000\">TV·방송</a></li>\n",
       "<li><a href=\"http://www.segye.com/newsList/0101060300000\">영화</a></li>\n",
       "<li><a href=\"http://www.segye.com/newsList/0101060400000\">대중음악</a></li>\n",
       "<li><a href=\"http://www.segye.com/newsList/0101060700000\">해외연예</a></li>\n",
       "</ul>\n",
       "<ul>\n",
       "<li class=\"title\"><a href=\"http://www.segye.com/sports\">스포츠</a></li>\n",
       "<li><a href=\"http://www.segye.com/newsList/0101110100000\">일반</a></li>\n",
       "<li><a href=\"http://www.segye.com/newsList/0101110400000\">야구</a></li>\n",
       "<li><a href=\"http://www.segye.com/newsList/0101110300000\">축구</a></li>\n",
       "<li><a href=\"http://www.segye.com/newsList/0101110500000\">농구</a></li>\n",
       "<li><a href=\"http://www.segye.com/newsList/0101110600000\">배구</a></li>\n",
       "<li><a href=\"http://www.segye.com/newsList/0101110200000\">골프</a></li>\n",
       "</ul>\n",
       "<ul>\n",
       "<li class=\"title\"><a href=\"http://www.segye.com/photo\">포토</a></li>\n",
       "<li><a href=\"http://www.segye.com/hotgalleryList/0115000000000\">핫갤러리</a></li>\n",
       "<li><a href=\"http://www.segye.com/photoList/0104010500000\">연예</a></li>\n",
       "<li><a href=\"http://www.segye.com/photoList/0104010400000\">스포츠</a></li>\n",
       "<li><a href=\"http://www.segye.com/photoList/0104010100000\">정치</a></li>\n",
       "<li><a href=\"http://www.segye.com/photoList/0104010200000\">경제</a></li>\n",
       "<li><a href=\"http://www.segye.com/photoList/0104010700000\">사회</a></li>\n",
       "<li><a href=\"http://www.segye.com/photoList/0104010600000\">국제</a></li>\n",
       "<li><a href=\"http://www.segye.com/photoList/0104010300000\">문화</a></li>\n",
       "<li><a href=\"http://www.segye.com/photoList/3000314\">렌즈로 보는 세상</a></li>\n",
       "<li><a href=\"http://www.segye.com/photoList/1000109\">포토에세이</a></li>\n",
       "</ul>\n",
       "</div>\n",
       "<div class=\"bmenu2\">\n",
       "<ul>\n",
       "<li class=\"title\"><a href=\"http://www.segye.com/video\">영상</a></li>\n",
       "</ul>\n",
       "<ul>\n",
       "<li class=\"title\">부가서비스</li>\n",
       "<li><a href=\"http://www.segye.com/innovList/0125000000000\">inno북스</a></li>\n",
       "<li><a href=\"http://www.segye.com/drone\">드론</a></li>\n",
       "<li><a href=\"http://www.segye.com/eco2018\">환경</a></li>\n",
       "<li><a href=\"http://www.segye.com/newsList/3000222\">오늘의 운세</a></li>\n",
       "</ul>\n",
       "<ul>\n",
       "<li class=\"title\">외국어</li>\n",
       "<li><a href=\"http://www.segye.com/newsList/3100168\">해커스톡</a></li>\n",
       "<li><a href=\"http://www.segye.com/newsList/3100167\">영단기신토익</a></li>\n",
       "<li><a href=\"http://www.segye.com/newsList/3100164\">시사일본어</a></li>\n",
       "<li><a href=\"http://www.segye.com/newsList/3100169\">차이나로중국어</a></li>\n",
       "</ul>\n",
       "<ul>\n",
       "<li class=\"title\">Family Sites\n",
       "\t\t\t\t\t</li><li><a href=\"http://www.sportsworldi.com\" target=\"_blank\">스포츠월드</a></li>\n",
       "<li><a href=\"http://fn.segye.com\" target=\"_blank\">세계파이낸스</a></li>\n",
       "<li><a href=\"http://www.jknews.kr/main.jsp\" target=\"_blank\">종교신문</a></li>\n",
       "</ul>\n",
       "<ul>\n",
       "<li class=\"mpaper\"><a href=\"http://sg.scrapmaster.co.kr/\" target=\"_blank\" title=\"M-paper\"><img border=\"0\" src=\"//img.segye.com/resources/images/bt_mpaper.png\"/></a></li>\n",
       "<li class=\"rss\"><a href=\"http://www.segye.com/rssInfo\" target=\"_blank\" title=\"RSS\"><img border=\"0\" src=\"//img.segye.com/resources/images/bt_rss.png\"/></a></li>\n",
       "</ul>\n",
       "</div>\n",
       "</div>\n",
       "<!-- 푸터 서비스 전체보기 클릭시 나타나는 메뉴박스 end -->\n",
       "<!-- 퀵 메뉴(리스트, 상단) start -->\n",
       "<div class=\"quick\">\n",
       "<ul>\n",
       "<li><a href=\"http://www.segye.com/main\" title=\"홈으로\"><img border=\"0\" src=\"//img.segye.com/resources/images/quick_home.png\"/></a></li>\n",
       "<li><a href=\"#wrap\" title=\"맨위로\"><img border=\"0\" src=\"//img.segye.com/resources/images/quick_top.png\"/></a></li>\n",
       "</ul>\n",
       "</div>\n",
       "<!-- 퀵 메뉴(상단,홈으로,리스트) end -->\n",
       "<!-- 푸터영역 start -->\n",
       "<div class=\"footerarea\">\n",
       "<div class=\"footerareas\">\n",
       "<div class=\"footer_logo\"><a href=\"http://www.segye.com/main\" title=\"세계일보\"><img border=\"0\" src=\"//img.segye.com/resources/images/logo_s.png\"/></a></div>\n",
       "<div class=\"footer_inner\">\n",
       "<ul>\n",
       "<li class=\"txt\"><a href=\"http://company.segye.com\" target=\"_blank\">회사소개</a></li>\n",
       "<li class=\"line2\">ㅣ</li>\n",
       "<li class=\"txt\"><a href=\"http://company.segye.com/alliance/paperad\" target=\"_blank\">지면광고</a></li>\n",
       "<li class=\"line2\">ㅣ</li>\n",
       "<li class=\"txt\"><a href=\"http://company.segye.com/alliance/onlinead\" target=\"_blank\">온라인광고</a></li>\n",
       "<li class=\"line2\">ㅣ</li>\n",
       "<li class=\"txt\"><a href=\"http://company.segye.com/alliance/displayad\" target=\"_blank\">전광판 광고</a></li>\n",
       "<li class=\"line2\">ㅣ</li>\n",
       "<li class=\"txt\"><a href=\"http://company.segye.com/alliance/partner\" target=\"_blank\">사업제휴</a></li>\n",
       "<li class=\"line2\">ㅣ</li>\n",
       "<li class=\"txt\"><a href=\"http://company.segye.com/service/readersRights\" target=\"_blank\">독자인권위원회</a></li>\n",
       "<li class=\"line2\">ㅣ</li>\n",
       "<li class=\"txt\"><a href=\"http://company.segye.com/service/apply\" target=\"_blank\">정정보도신청</a></li>\n",
       "<li class=\"line2\">ㅣ</li>\n",
       "<li class=\"txt\"><a href=\"http://company.segye.com/service/privacyStatement\" target=\"_blank\">개인정보취급방침</a></li>\n",
       "<li class=\"line2\">ㅣ</li>\n",
       "<li class=\"txt\"><a href=\"http://company.segye.com/service/youthProtectionPolicy\" target=\"_blank\">청소년보호정책</a></li>\n",
       "<li class=\"line2\">ㅣ</li>\n",
       "<li class=\"txt\"><a href=\"http://company.segye.com/service/userTerms\" target=\"_blank\">이용자약관</a></li>\n",
       "<li class=\"line2\">ㅣ</li>\n",
       "<li class=\"txt\"><a href=\"http://company.segye.com/service/digitalNewsRules\" target=\"_blank\">디지털뉴스이용규칙</a></li>\n",
       "<li class=\"line2\">ㅣ</li>\n",
       "<li class=\"txt\"><a href=\"http://company.segye.com/service/notice&amp;type=list\" target=\"_blank\">고객센터</a></li>\n",
       "</ul>\n",
       "<div class=\"footer_openbt\" id=\"footerOn\"><a title=\"서비스 전체보기\"><font></font><span><img border=\"0\" src=\"//img.segye.com/resources/images/listbt.png\"/></span></a></div>\n",
       "</div>\n",
       "</div>\n",
       "<div class=\"copyright\">\n",
       "<div class=\"copy\">\n",
       "<font class=\"copy1\">서울시 종로구 경희궁길 26   l   등록번호 : 서울, 아03959   |   등록일(발행일) : 2015년 11월 2일  ㅣ  발행인 : 정희택  ㅣ  편집인 : 황정미</font>\n",
       "<font class=\"copy2\">전화번호 : 02-2000-1234   l   청소년보호 책임자 : 문준식   |   Copyright ⓒ 세계일보 All rights reserved.</font>\n",
       "</div>\n",
       "<div class=\"selectoverMenu\">\n",
       "<label for=\"select\"></label>\n",
       "<select id=\"select\" name=\"select\" onchange=\"goSite(this.value);\" style=\"font-size:12px;padding:2px;\">\n",
       "<option selected=\"selected\" value=\"\">문화사업</option>\n",
       "<option value=\"http://company.segye.com/event/agriculture\">세계농업기술상</option>\n",
       "<option value=\"http://munhak.segye.com/munhak/segye_culture9.asp\">세계문학상</option>\n",
       "<option value=\"http://shinchun.segye.com/shinchun/shinchun_2018.asp\">신춘문예</option>\n",
       "<option value=\"http://music.segye.com\">음악콩쿠르</option>\n",
       "</select>\n",
       "<select id=\"select\" name=\"select\" onchange=\"goSite(this.value);\" style=\"font-size:12px;padding:2px;\">\n",
       "<option selected=\"selected\">글로벌미디어</option>\n",
       "<option value=\"http://www.washingtontimes.com/\">Washington Times</option>\n",
       "<option value=\"http://www.tdm.com/\">Tiempos Del Mundo</option>\n",
       "<option value=\"http://www.worldtimes.co.jp/\">일본 세계일보</option>\n",
       "</select>\n",
       "</div>\n",
       "</div>\n",
       "</div>\n",
       "<!-- 푸터영역 end -->\n",
       "</div>\n",
       "<script>\n",
       "$('#footerBt').click(function(){\n",
       "\t$('#footerClose').css('display', 'none');\n",
       "});\n",
       "$('#footerOn').click(function(){\n",
       "\t$('#footerClose').css('display', '');\n",
       "});\n",
       "\n",
       "/*var linkback = linkback|| {};\n",
       "(function() {\n",
       "\tvar d = document, scr = d.createElement('script'), pro = d.location.protocol,\n",
       "\ttar = d.getElementsByTagName('head')[0];\n",
       "\tscr.type = 'text/javascript';  scr.async = true;\n",
       "\tscr.src = ((pro === 'https:') ? 'https' : 'http') + '://linkback.contentsfeed.com/src/lb4segye.min.js';\n",
       "\tscr.charset='utf-8';\n",
       "\tif(!linkback.l){linkback.l=true; tar.insertBefore(scr, tar.firstChild);}\n",
       "})();*/\n",
       "</script>\n",
       "<!-- 푸터 영역 end -->\n",
       "</div>\n",
       "<!-- wrap end -->\n",
       "</div></body></html>"
      ]
     },
     "execution_count": 6,
     "metadata": {},
     "output_type": "execute_result"
    }
   ],
   "source": [
    "data"
   ]
  },
  {
   "cell_type": "code",
   "execution_count": 7,
   "metadata": {
    "scrolled": false
   },
   "outputs": [],
   "source": [
    "data_temp = data.find_all('div', 'newslist_area')"
   ]
  },
  {
   "cell_type": "code",
   "execution_count": 8,
   "metadata": {},
   "outputs": [
    {
     "data": {
      "text/plain": [
       "1"
      ]
     },
     "execution_count": 8,
     "metadata": {},
     "output_type": "execute_result"
    }
   ],
   "source": [
    "len(data_temp)"
   ]
  },
  {
   "cell_type": "markdown",
   "metadata": {},
   "source": [
    "#### 제목 가져오기"
   ]
  },
  {
   "cell_type": "code",
   "execution_count": 9,
   "metadata": {},
   "outputs": [],
   "source": [
    "data_title = data_temp[0].find_all('dt', 'title_cr')"
   ]
  },
  {
   "cell_type": "code",
   "execution_count": 10,
   "metadata": {},
   "outputs": [
    {
     "data": {
      "text/plain": [
       "<dt class=\"title_cr\"><a href=\"/newsView/20181119002138\" target=\"_self\">\"성범죄 재판서 '술마셨다고 형량 감경' 없었다\" 분석 발표</a></dt>"
      ]
     },
     "execution_count": 10,
     "metadata": {},
     "output_type": "execute_result"
    }
   ],
   "source": [
    "data_title[0]"
   ]
  },
  {
   "cell_type": "code",
   "execution_count": 11,
   "metadata": {},
   "outputs": [
    {
     "data": {
      "text/plain": [
       "<dt class=\"title_cr\"><a href=\"/newsView/20181119000356\" target=\"_self\">인생 3할을 수감 생활한 50대, 출소 3일 만에 담 넘다 구속</a></dt>"
      ]
     },
     "execution_count": 11,
     "metadata": {},
     "output_type": "execute_result"
    }
   ],
   "source": [
    "data_title[-1]"
   ]
  },
  {
   "cell_type": "code",
   "execution_count": 12,
   "metadata": {},
   "outputs": [
    {
     "data": {
      "text/plain": [
       "20"
      ]
     },
     "execution_count": 12,
     "metadata": {},
     "output_type": "execute_result"
    }
   ],
   "source": [
    "len(data_title)"
   ]
  },
  {
   "cell_type": "code",
   "execution_count": 13,
   "metadata": {},
   "outputs": [
    {
     "data": {
      "text/plain": [
       "'\"성범죄 재판서 \\'술마셨다고 형량 감경\\' 없었다\" 분석 발표'"
      ]
     },
     "execution_count": 13,
     "metadata": {},
     "output_type": "execute_result"
    }
   ],
   "source": [
    "data_title[0].get_text()"
   ]
  },
  {
   "cell_type": "code",
   "execution_count": 14,
   "metadata": {},
   "outputs": [
    {
     "data": {
      "text/plain": [
       "'\"성범죄 재판서 술마셨다고 형량 감경 없었다\" 분석 발표'"
      ]
     },
     "execution_count": 14,
     "metadata": {},
     "output_type": "execute_result"
    }
   ],
   "source": [
    "re.sub('[\\'\\n\\r\\t\\xa0]', '', data_title[0].get_text())"
   ]
  },
  {
   "cell_type": "markdown",
   "metadata": {},
   "source": [
    "#### 날짜 가져오기"
   ]
  },
  {
   "cell_type": "code",
   "execution_count": 15,
   "metadata": {},
   "outputs": [],
   "source": [
    "data_date = data_temp[0].find_all('span', 'date')"
   ]
  },
  {
   "cell_type": "code",
   "execution_count": 16,
   "metadata": {},
   "outputs": [
    {
     "data": {
      "text/plain": [
       "<span class=\"date\">2018.11.19</span>"
      ]
     },
     "execution_count": 16,
     "metadata": {},
     "output_type": "execute_result"
    }
   ],
   "source": [
    "data_date[0]"
   ]
  },
  {
   "cell_type": "code",
   "execution_count": 17,
   "metadata": {},
   "outputs": [
    {
     "data": {
      "text/plain": [
       "<span class=\"date\">2018.11.19</span>"
      ]
     },
     "execution_count": 17,
     "metadata": {},
     "output_type": "execute_result"
    }
   ],
   "source": [
    "data_date[-1]"
   ]
  },
  {
   "cell_type": "code",
   "execution_count": 18,
   "metadata": {},
   "outputs": [
    {
     "data": {
      "text/plain": [
       "20"
      ]
     },
     "execution_count": 18,
     "metadata": {},
     "output_type": "execute_result"
    }
   ],
   "source": [
    "len(data_date)"
   ]
  },
  {
   "cell_type": "code",
   "execution_count": 19,
   "metadata": {},
   "outputs": [
    {
     "data": {
      "text/plain": [
       "'2018.11.19'"
      ]
     },
     "execution_count": 19,
     "metadata": {},
     "output_type": "execute_result"
    }
   ],
   "source": [
    "data_date[0].get_text()"
   ]
  },
  {
   "cell_type": "markdown",
   "metadata": {},
   "source": [
    "### 데이터 수집 및 확인"
   ]
  },
  {
   "cell_type": "markdown",
   "metadata": {},
   "source": [
    "### 언론사(세계)"
   ]
  },
  {
   "cell_type": "code",
   "execution_count": 21,
   "metadata": {},
   "outputs": [
    {
     "name": "stdout",
     "output_type": "stream",
     "text": [
      "시작 날짜를 입력하세요.  ex) 20181007 \n",
      "20181111\n",
      "마지막 날짜를 입력하세요.  ex) 20181115 \n",
      "20181117\n",
      "==================================================\n",
      "[2018.11.11 ~ 2018.11.17] 데이터 수집을 시작합니다.\n",
      "\n",
      "4 페이지 수집중입니다.... ing     [수집완료]\n",
      "5 페이지 수집중입니다.... ing     [수집완료]\n",
      "6 페이지 수집중입니다.... ing     [수집완료]\n",
      "7 페이지 수집중입니다.... ing     [수집완료]\n",
      "8 페이지 수집중입니다.... ing     [수집완료]\n",
      "9 페이지 수집중입니다.... ing     [수집완료]\n",
      "10 페이지 수집중입니다.... ing     [수집완료]\n",
      "11 페이지 수집중입니다.... ing     [수집완료]\n",
      "12 페이지 수집중입니다.... ing     [수집완료]\n",
      "13 페이지 수집중입니다.... ing     [수집완료]\n",
      "14 페이지 수집중입니다.... ing     [수집완료]\n",
      "15 페이지 수집중입니다.... ing     [수집완료]\n",
      "16 페이지 수집중입니다.... ing     [수집완료]\n",
      "17 페이지 수집중입니다.... ing     [수집완료]\n",
      "18 페이지 수집중입니다.... ing     [수집완료]\n",
      "19 페이지 수집중입니다.... ing     [수집완료]\n",
      "20 페이지 수집중입니다.... ing     [수집완료]\n",
      "21 페이지 수집중입니다.... ing     [수집완료]\n",
      "22 페이지 수집중입니다.... ing     [수집완료]\n",
      "23 페이지 수집중입니다.... ing     [수집완료]\n",
      "24 페이지 수집중입니다.... ing     [수집완료]\n",
      "25 페이지 수집중입니다.... ing     [수집완료]\n",
      "26 페이지 수집중입니다.... ing     [수집완료]\n",
      "27 페이지 수집중입니다.... ing     [수집완료]\n",
      "28 페이지 수집중입니다.... ing     [수집완료]\n",
      "29 페이지 수집중입니다.... ing     [수집완료]\n",
      "==================================================\n",
      "데이터 수집을 완료했습니다.\n",
      "총 계산 시간: 0:00:13.767787\n",
      "총 수집 개수: 495개\n"
     ]
    }
   ],
   "source": [
    "title = []\n",
    "date = []\n",
    "page = 0\n",
    "\n",
    "start_flag = False\n",
    "end_flag = False\n",
    "\n",
    "end_date = input(\"시작 날짜를 입력하세요.  ex) 20181007 \\n\")\n",
    "start_date = input(\"마지막 날짜를 입력하세요.  ex) 20181115 \\n\")\n",
    "end_date = end_date[:4] + '.' + end_date[4:6] + '.' + end_date[6:]\n",
    "start_date = start_date[:4] + '.' + start_date[4:6] + '.' + start_date[6:]\n",
    "\n",
    "print(\"=\" * 50)\n",
    "print(\"[%s ~ %s] 데이터 수집을 시작합니다.\\n\" % (end_date, start_date))\n",
    "\n",
    "start = datetime.now()\n",
    "\n",
    "for url in urls:\n",
    "    html = urlopen(url)\n",
    "    data = BeautifulSoup(html, \"lxml\")    \n",
    "    data_temp = data.find_all('div', 'newslist_area')\n",
    "    \n",
    "    # 기사 제목 및 날짜 찾기\n",
    "    data_title = data_temp[0].find_all('dt', 'title_cr')\n",
    "    data_date = data_temp[0].find_all('span', 'date')\n",
    "    \n",
    "    # 데이터수집 체크\n",
    "    page += 1\n",
    "    \n",
    "    if start_flag:\n",
    "        print(\"%d 페이지 수집중입니다.... ing\" %page, end='')\n",
    "    \n",
    "    for x in range(len(data_title)):\n",
    "        \n",
    "        # 기사 끝날 날짜 체크 (end_flag 변경)\n",
    "        if data_date[x].get_text() in end_date:\n",
    "            temp_date = data_date[x].get_text()\n",
    "            end_flag = True\n",
    "\n",
    "        # 기사 끝날 날짜 체크(반복문 out)    \n",
    "        if end_flag:\n",
    "            if not(temp_date == data_date[x].get_text()):\n",
    "                break       \n",
    "        \n",
    "        \n",
    "        if not(start_flag):            \n",
    "            # 기사 시작 날짜 체크\n",
    "            if not(data_date[x].get_text() in start_date):            \n",
    "                continue\n",
    "            print(\"%d 페이지 수집중입니다.... ing\" %page, end='')\n",
    "            start_flag = True\n",
    "        \n",
    "  \n",
    "        \n",
    "        # 기사 제목만 가져오기\n",
    "        title.append(re.sub('[\\'\\n\\r\\t\\xa0]', '', data_title[x].get_text()))\n",
    "   \n",
    "        # 기사 날짜만 가져오기\n",
    "        date.append(data_date[x].get_text())\n",
    "        \n",
    "\n",
    "    # 데이터 수집 시작 체크\n",
    "    if not(start_flag):\n",
    "        continue\n",
    "        \n",
    "    # 데이터수집 체크\n",
    "    print(\"     [수집완료]\")       \n",
    "          \n",
    "    \n",
    "    # 기사 끝날 날짜 체크(반복문 out)  \n",
    "    if end_flag:\n",
    "        if not(temp_date == data_date[x].get_text()):\n",
    "            break \n",
    "\n",
    "        \n",
    "end = datetime.now()\n",
    "print(\"=\" * 50)\n",
    "print(\"데이터 수집을 완료했습니다.\")\n",
    "elapsed = end - start\n",
    "print('총 계산 시간: ', end='');   print(elapsed)\n",
    "print('총 수집 개수: %d개' %len(title))"
   ]
  },
  {
   "cell_type": "code",
   "execution_count": null,
   "metadata": {},
   "outputs": [],
   "source": [
    "len(title)"
   ]
  },
  {
   "cell_type": "code",
   "execution_count": null,
   "metadata": {},
   "outputs": [],
   "source": [
    "len(date)"
   ]
  },
  {
   "cell_type": "code",
   "execution_count": 24,
   "metadata": {},
   "outputs": [
    {
     "data": {
      "text/plain": [
       "'\"재미 삼아 기절시켰다\"…거제 학교폭력 가해자 처벌 청원'"
      ]
     },
     "execution_count": 24,
     "metadata": {},
     "output_type": "execute_result"
    }
   ],
   "source": [
    "title[0]"
   ]
  },
  {
   "cell_type": "code",
   "execution_count": 25,
   "metadata": {},
   "outputs": [
    {
     "data": {
      "text/plain": [
       "'2018.11.17'"
      ]
     },
     "execution_count": 25,
     "metadata": {},
     "output_type": "execute_result"
    }
   ],
   "source": [
    "date[0]"
   ]
  },
  {
   "cell_type": "code",
   "execution_count": 26,
   "metadata": {},
   "outputs": [
    {
     "data": {
      "text/plain": [
       "'유전무죄 무전유죄…법 지키면 손해인 대한민국? [김현주의 일상 톡톡]'"
      ]
     },
     "execution_count": 26,
     "metadata": {},
     "output_type": "execute_result"
    }
   ],
   "source": [
    "title[-1]"
   ]
  },
  {
   "cell_type": "code",
   "execution_count": 27,
   "metadata": {},
   "outputs": [
    {
     "data": {
      "text/plain": [
       "'2018.11.11'"
      ]
     },
     "execution_count": 27,
     "metadata": {},
     "output_type": "execute_result"
    }
   ],
   "source": [
    "date[-1]"
   ]
  },
  {
   "cell_type": "markdown",
   "metadata": {},
   "source": [
    "### DataFrame 만들기 & 파일로 저장하기"
   ]
  },
  {
   "cell_type": "code",
   "execution_count": 28,
   "metadata": {},
   "outputs": [],
   "source": [
    "df_temp = {'Title' : title, 'Date' : date}\n",
    "df = pd.DataFrame(df_temp)"
   ]
  },
  {
   "cell_type": "code",
   "execution_count": 29,
   "metadata": {},
   "outputs": [
    {
     "name": "stdout",
     "output_type": "stream",
     "text": [
      "<class 'pandas.core.frame.DataFrame'>\n",
      "RangeIndex: 495 entries, 0 to 494\n",
      "Data columns (total 2 columns):\n",
      "Title    495 non-null object\n",
      "Date     495 non-null object\n",
      "dtypes: object(2)\n",
      "memory usage: 7.8+ KB\n"
     ]
    }
   ],
   "source": [
    "df.info()"
   ]
  },
  {
   "cell_type": "code",
   "execution_count": 30,
   "metadata": {},
   "outputs": [
    {
     "data": {
      "text/html": [
       "<div>\n",
       "<style scoped>\n",
       "    .dataframe tbody tr th:only-of-type {\n",
       "        vertical-align: middle;\n",
       "    }\n",
       "\n",
       "    .dataframe tbody tr th {\n",
       "        vertical-align: top;\n",
       "    }\n",
       "\n",
       "    .dataframe thead th {\n",
       "        text-align: right;\n",
       "    }\n",
       "</style>\n",
       "<table border=\"1\" class=\"dataframe\">\n",
       "  <thead>\n",
       "    <tr style=\"text-align: right;\">\n",
       "      <th></th>\n",
       "      <th>Title</th>\n",
       "      <th>Date</th>\n",
       "    </tr>\n",
       "  </thead>\n",
       "  <tbody>\n",
       "    <tr>\n",
       "      <th>0</th>\n",
       "      <td>\"재미 삼아 기절시켰다\"…거제 학교폭력 가해자 처벌 청원</td>\n",
       "      <td>2018.11.17</td>\n",
       "    </tr>\n",
       "    <tr>\n",
       "      <th>1</th>\n",
       "      <td>전해철 혜경궁 김씨경찰수사 결과에 \"고발 취하했는데 결과 나오니 당황스러운 마음 뿐\"</td>\n",
       "      <td>2018.11.17</td>\n",
       "    </tr>\n",
       "    <tr>\n",
       "      <th>2</th>\n",
       "      <td>‘혜경궁 김씨’ 밝혀낸 누리꾼들…이재명도 “누리꾼 도와달라”</td>\n",
       "      <td>2018.11.17</td>\n",
       "    </tr>\n",
       "    <tr>\n",
       "      <th>3</th>\n",
       "      <td>충북 청주 한 아파트서 30대 남성, 아내 살해 후 유서 남기고 투신 사망</td>\n",
       "      <td>2018.11.17</td>\n",
       "    </tr>\n",
       "    <tr>\n",
       "      <th>4</th>\n",
       "      <td>양구 군인 사망 軍 대공혐의 없다에 누리꾼\"사망원인 규명 안됐는데 북한 소행부터 원...</td>\n",
       "      <td>2018.11.17</td>\n",
       "    </tr>\n",
       "    <tr>\n",
       "      <th>5</th>\n",
       "      <td>\"혜경궁 김씨는 이재명 부인\"… 논란 일파만파</td>\n",
       "      <td>2018.11.17</td>\n",
       "    </tr>\n",
       "    <tr>\n",
       "      <th>6</th>\n",
       "      <td>시민단체·학무보 “유치원생·학부모가 호구?”… 한국당에 ‘경고’</td>\n",
       "      <td>2018.11.17</td>\n",
       "    </tr>\n",
       "    <tr>\n",
       "      <th>7</th>\n",
       "      <td>“학교 밖 청소년 향한 이해와 배려 절실”</td>\n",
       "      <td>2018.11.17</td>\n",
       "    </tr>\n",
       "    <tr>\n",
       "      <th>8</th>\n",
       "      <td>“경찰이면 다냐”… 경찰관 급소 가격한 30대</td>\n",
       "      <td>2018.11.17</td>\n",
       "    </tr>\n",
       "    <tr>\n",
       "      <th>9</th>\n",
       "      <td>가정폭력 피해 쉼터 왔는데… 사회는 문제아 낙인</td>\n",
       "      <td>2018.11.17</td>\n",
       "    </tr>\n",
       "  </tbody>\n",
       "</table>\n",
       "</div>"
      ],
      "text/plain": [
       "                                               Title        Date\n",
       "0                    \"재미 삼아 기절시켰다\"…거제 학교폭력 가해자 처벌 청원  2018.11.17\n",
       "1    전해철 혜경궁 김씨경찰수사 결과에 \"고발 취하했는데 결과 나오니 당황스러운 마음 뿐\"  2018.11.17\n",
       "2                  ‘혜경궁 김씨’ 밝혀낸 누리꾼들…이재명도 “누리꾼 도와달라”  2018.11.17\n",
       "3          충북 청주 한 아파트서 30대 남성, 아내 살해 후 유서 남기고 투신 사망  2018.11.17\n",
       "4  양구 군인 사망 軍 대공혐의 없다에 누리꾼\"사망원인 규명 안됐는데 북한 소행부터 원...  2018.11.17\n",
       "5                          \"혜경궁 김씨는 이재명 부인\"… 논란 일파만파  2018.11.17\n",
       "6                시민단체·학무보 “유치원생·학부모가 호구?”… 한국당에 ‘경고’  2018.11.17\n",
       "7                            “학교 밖 청소년 향한 이해와 배려 절실”  2018.11.17\n",
       "8                          “경찰이면 다냐”… 경찰관 급소 가격한 30대  2018.11.17\n",
       "9                         가정폭력 피해 쉼터 왔는데… 사회는 문제아 낙인  2018.11.17"
      ]
     },
     "execution_count": 30,
     "metadata": {},
     "output_type": "execute_result"
    }
   ],
   "source": [
    "df.head(10)"
   ]
  },
  {
   "cell_type": "code",
   "execution_count": 31,
   "metadata": {},
   "outputs": [
    {
     "data": {
      "text/html": [
       "<div>\n",
       "<style scoped>\n",
       "    .dataframe tbody tr th:only-of-type {\n",
       "        vertical-align: middle;\n",
       "    }\n",
       "\n",
       "    .dataframe tbody tr th {\n",
       "        vertical-align: top;\n",
       "    }\n",
       "\n",
       "    .dataframe thead th {\n",
       "        text-align: right;\n",
       "    }\n",
       "</style>\n",
       "<table border=\"1\" class=\"dataframe\">\n",
       "  <thead>\n",
       "    <tr style=\"text-align: right;\">\n",
       "      <th></th>\n",
       "      <th>Title</th>\n",
       "      <th>Date</th>\n",
       "    </tr>\n",
       "  </thead>\n",
       "  <tbody>\n",
       "    <tr>\n",
       "      <th>485</th>\n",
       "      <td>음주운전 안된다 경종 울리고 떠나…윤창호씨 영결식</td>\n",
       "      <td>2018.11.11</td>\n",
       "    </tr>\n",
       "    <tr>\n",
       "      <th>486</th>\n",
       "      <td>차한성·김기춘, 10년 만에 인연에서 악연으로</td>\n",
       "      <td>2018.11.11</td>\n",
       "    </tr>\n",
       "    <tr>\n",
       "      <th>487</th>\n",
       "      <td>광주형 일자리 협상 15일 데드라인…현대차·노동계 설득 총력</td>\n",
       "      <td>2018.11.11</td>\n",
       "    </tr>\n",
       "    <tr>\n",
       "      <th>488</th>\n",
       "      <td>한때는 범법자, 이제는 봉사왕…\"사회봉사가 나를 바꿨다\"</td>\n",
       "      <td>2018.11.11</td>\n",
       "    </tr>\n",
       "    <tr>\n",
       "      <th>489</th>\n",
       "      <td>\"여자 불러줄게\"… 모텔 따라가 탈탈 털린 남성들</td>\n",
       "      <td>2018.11.11</td>\n",
       "    </tr>\n",
       "    <tr>\n",
       "      <th>490</th>\n",
       "      <td>“마약 거래에 성범죄물도 넘실”…다크웹 속엔 또다른 ‘워마드’가 있다</td>\n",
       "      <td>2018.11.11</td>\n",
       "    </tr>\n",
       "    <tr>\n",
       "      <th>491</th>\n",
       "      <td>불법 온상 다크웹…한국, 더이상 무풍지대 아니다</td>\n",
       "      <td>2018.11.11</td>\n",
       "    </tr>\n",
       "    <tr>\n",
       "      <th>492</th>\n",
       "      <td>\"스마트폰 그만 보세요\"…위험천만 산행 스몸비</td>\n",
       "      <td>2018.11.11</td>\n",
       "    </tr>\n",
       "    <tr>\n",
       "      <th>493</th>\n",
       "      <td>고교 무상급식 놓고…부산시-기장군의 진실게임</td>\n",
       "      <td>2018.11.11</td>\n",
       "    </tr>\n",
       "    <tr>\n",
       "      <th>494</th>\n",
       "      <td>유전무죄 무전유죄…법 지키면 손해인 대한민국? [김현주의 일상 톡톡]</td>\n",
       "      <td>2018.11.11</td>\n",
       "    </tr>\n",
       "  </tbody>\n",
       "</table>\n",
       "</div>"
      ],
      "text/plain": [
       "                                      Title        Date\n",
       "485             음주운전 안된다 경종 울리고 떠나…윤창호씨 영결식  2018.11.11\n",
       "486               차한성·김기춘, 10년 만에 인연에서 악연으로  2018.11.11\n",
       "487       광주형 일자리 협상 15일 데드라인…현대차·노동계 설득 총력  2018.11.11\n",
       "488         한때는 범법자, 이제는 봉사왕…\"사회봉사가 나를 바꿨다\"  2018.11.11\n",
       "489             \"여자 불러줄게\"… 모텔 따라가 탈탈 털린 남성들  2018.11.11\n",
       "490  “마약 거래에 성범죄물도 넘실”…다크웹 속엔 또다른 ‘워마드’가 있다  2018.11.11\n",
       "491              불법 온상 다크웹…한국, 더이상 무풍지대 아니다  2018.11.11\n",
       "492               \"스마트폰 그만 보세요\"…위험천만 산행 스몸비  2018.11.11\n",
       "493                고교 무상급식 놓고…부산시-기장군의 진실게임  2018.11.11\n",
       "494  유전무죄 무전유죄…법 지키면 손해인 대한민국? [김현주의 일상 톡톡]  2018.11.11"
      ]
     },
     "execution_count": 31,
     "metadata": {},
     "output_type": "execute_result"
    }
   ],
   "source": [
    "df.tail(10)"
   ]
  },
  {
   "cell_type": "markdown",
   "metadata": {},
   "source": [
    "### 결과 저장하기(주석 처리)"
   ]
  },
  {
   "cell_type": "code",
   "execution_count": 32,
   "metadata": {},
   "outputs": [],
   "source": [
    "# Thema = input(\"주제를 입력하세요.  ex) society \\n\")\n",
    "# df.to_csv('TeamMission/segye_%s_title_(%s - %s).csv' % (Thema, end_date, start_date), sep=',', encoding='UTF-8')"
   ]
  },
  {
   "cell_type": "markdown",
   "metadata": {},
   "source": [
    "## 기사 단어 뽑기"
   ]
  },
  {
   "cell_type": "markdown",
   "metadata": {},
   "source": [
    "### 저장된 데이터 가져오기"
   ]
  },
  {
   "cell_type": "code",
   "execution_count": 36,
   "metadata": {},
   "outputs": [
    {
     "name": "stdout",
     "output_type": "stream",
     "text": [
      "언론사 데이터를 가져오려면 : 1 \n",
      "국민청원 데이터를 가져오려면 : 2\n",
      "1\n",
      "주제를 입력하세요.  ex) society \n",
      "economy\n",
      "시작 날짜를 입력하세요.  ex) 20181007 \n",
      "20180101\n",
      "마지막 날짜를 입력하세요.  ex) 20181115 \n",
      "20180331\n",
      "제목만 가져오려면 : 1\n",
      "본문까지 가져오려면 : 2 \n",
      "1\n"
     ]
    }
   ],
   "source": [
    "check = input(\"언론사 데이터를 가져오려면 : 1 \\n국민청원 데이터를 가져오려면 : 2\\n\")\n",
    "\n",
    "if check == \"1\":\n",
    "    Thema = input(\"주제를 입력하세요.  ex) society \\n\")\n",
    "    end_date = input(\"시작 날짜를 입력하세요.  ex) 20181007 \\n\")\n",
    "    start_date = input(\"마지막 날짜를 입력하세요.  ex) 20181115 \\n\")\n",
    "    choose = input(\"제목만 가져오려면 : 1\\n본문까지 가져오려면 : 2 \\n\")\n",
    "    end_date = end_date[:4] + '.' + end_date[4:6] + '.' + end_date[6:]\n",
    "    start_date = start_date[:4] + '.' + start_date[4:6] + '.' + start_date[6:]\n",
    "else:\n",
    "    thema = input(\"청원 분야를 입력하세요.\\n- 일교/통일/국방 : 36 \\n- 일자리 : 37 \\n- 인권/성평등 : 49 \\n\")\n",
    "    day = input(\"진행 중 청원 : 1, 만료된 청원 : 2, 전체 청원 : 3\\n\")\n",
    "    end_date = input(\"시작 날짜를 입력하세요.  ex) 181007 \\n\")\n",
    "    start_date = input(\"마지막 날짜를 입력하세요.  ex) 181115 \\n\")\n",
    "    end_date = end_date[:2] + '.' + end_date[2:4] + '.' + end_date[4:]\n",
    "    start_date = start_date[:2] + '.' + start_date[2:4] + '.' + start_date[4:]"
   ]
  },
  {
   "cell_type": "code",
   "execution_count": 37,
   "metadata": {},
   "outputs": [],
   "source": [
    "if check == \"1\":\n",
    "    if choose == '1':\n",
    "        word = pd.read_csv('./TeamMission/segye_%s_title_(%s - %s).csv' % (Thema, end_date, start_date), sep=',', encoding='utf-8')\n",
    "    else:\n",
    "        word = pd.read_csv('./TeamMission/segye_%s_(%s - %s).csv' % (Thema, end_date, start_date), sep=',', encoding='utf-8')\n",
    "else:\n",
    "    word = pd.read_csv('./TeamMission/president_%s_%s_(%s - %s).csv' % (thema, day, end_date, start_date), sep=',', encoding='utf-8')\n",
    "\n",
    "del word['Unnamed: 0']"
   ]
  },
  {
   "cell_type": "code",
   "execution_count": 38,
   "metadata": {},
   "outputs": [
    {
     "name": "stdout",
     "output_type": "stream",
     "text": [
      "<class 'pandas.core.frame.DataFrame'>\n",
      "RangeIndex: 2451 entries, 0 to 2450\n",
      "Data columns (total 2 columns):\n",
      "Title    2451 non-null object\n",
      "Date     2451 non-null object\n",
      "dtypes: object(2)\n",
      "memory usage: 38.4+ KB\n"
     ]
    }
   ],
   "source": [
    "word.info()"
   ]
  },
  {
   "cell_type": "code",
   "execution_count": 39,
   "metadata": {},
   "outputs": [
    {
     "data": {
      "text/html": [
       "<div>\n",
       "<style scoped>\n",
       "    .dataframe tbody tr th:only-of-type {\n",
       "        vertical-align: middle;\n",
       "    }\n",
       "\n",
       "    .dataframe tbody tr th {\n",
       "        vertical-align: top;\n",
       "    }\n",
       "\n",
       "    .dataframe thead th {\n",
       "        text-align: right;\n",
       "    }\n",
       "</style>\n",
       "<table border=\"1\" class=\"dataframe\">\n",
       "  <thead>\n",
       "    <tr style=\"text-align: right;\">\n",
       "      <th></th>\n",
       "      <th>Title</th>\n",
       "      <th>Date</th>\n",
       "    </tr>\n",
       "  </thead>\n",
       "  <tbody>\n",
       "    <tr>\n",
       "      <th>0</th>\n",
       "      <td>[일상톡톡 플러스] \"자취 감췄던 전세매물 갑자기 쏟아지는 까닭은?\"</td>\n",
       "      <td>2018.03.31</td>\n",
       "    </tr>\n",
       "    <tr>\n",
       "      <th>1</th>\n",
       "      <td>[출발부터 마이너스-상] \"학자금 대출 상환 부담…취업해도 남는 게 없네\"</td>\n",
       "      <td>2018.03.31</td>\n",
       "    </tr>\n",
       "    <tr>\n",
       "      <th>2</th>\n",
       "      <td>[출발부터 마이너스-하] 결혼하느라 빚 지고…육아휴직하니 소득 줄어</td>\n",
       "      <td>2018.03.31</td>\n",
       "    </tr>\n",
       "    <tr>\n",
       "      <th>3</th>\n",
       "      <td>재건축 초과이익환수제는 헌법 위반일까</td>\n",
       "      <td>2018.03.31</td>\n",
       "    </tr>\n",
       "    <tr>\n",
       "      <th>4</th>\n",
       "      <td>[스타벅스 탐구②] “국내 커피시장 상생 위해 더 노력”</td>\n",
       "      <td>2018.03.31</td>\n",
       "    </tr>\n",
       "    <tr>\n",
       "      <th>5</th>\n",
       "      <td>[스타벅스 탐구①] 커피 공화국 사람들이 스타벅스로 가는 이유는</td>\n",
       "      <td>2018.03.31</td>\n",
       "    </tr>\n",
       "    <tr>\n",
       "      <th>6</th>\n",
       "      <td>[김현주의 일상 톡톡] 국가부채 1500조원 시대 공무원연금 논란 진실은?</td>\n",
       "      <td>2018.03.31</td>\n",
       "    </tr>\n",
       "    <tr>\n",
       "      <th>7</th>\n",
       "      <td>한우자조금, 신규 캐릭터 ‘한우패밀리’ 네이밍 공모전 개최</td>\n",
       "      <td>2018.03.31</td>\n",
       "    </tr>\n",
       "    <tr>\n",
       "      <th>8</th>\n",
       "      <td>금호타이어 노조, 해외매각 수용… 회생 발판 마련</td>\n",
       "      <td>2018.03.30</td>\n",
       "    </tr>\n",
       "    <tr>\n",
       "      <th>9</th>\n",
       "      <td>금호타이어 노사, 9인 긴급 간담회서 해외매각 합의</td>\n",
       "      <td>2018.03.30</td>\n",
       "    </tr>\n",
       "  </tbody>\n",
       "</table>\n",
       "</div>"
      ],
      "text/plain": [
       "                                       Title        Date\n",
       "0     [일상톡톡 플러스] \"자취 감췄던 전세매물 갑자기 쏟아지는 까닭은?\"  2018.03.31\n",
       "1  [출발부터 마이너스-상] \"학자금 대출 상환 부담…취업해도 남는 게 없네\"  2018.03.31\n",
       "2      [출발부터 마이너스-하] 결혼하느라 빚 지고…육아휴직하니 소득 줄어  2018.03.31\n",
       "3                       재건축 초과이익환수제는 헌법 위반일까  2018.03.31\n",
       "4            [스타벅스 탐구②] “국내 커피시장 상생 위해 더 노력”  2018.03.31\n",
       "5        [스타벅스 탐구①] 커피 공화국 사람들이 스타벅스로 가는 이유는  2018.03.31\n",
       "6  [김현주의 일상 톡톡] 국가부채 1500조원 시대 공무원연금 논란 진실은?  2018.03.31\n",
       "7           한우자조금, 신규 캐릭터 ‘한우패밀리’ 네이밍 공모전 개최  2018.03.31\n",
       "8                금호타이어 노조, 해외매각 수용… 회생 발판 마련  2018.03.30\n",
       "9               금호타이어 노사, 9인 긴급 간담회서 해외매각 합의  2018.03.30"
      ]
     },
     "execution_count": 39,
     "metadata": {},
     "output_type": "execute_result"
    }
   ],
   "source": [
    "word.head(10)"
   ]
  },
  {
   "cell_type": "code",
   "execution_count": 40,
   "metadata": {},
   "outputs": [
    {
     "data": {
      "text/html": [
       "<div>\n",
       "<style scoped>\n",
       "    .dataframe tbody tr th:only-of-type {\n",
       "        vertical-align: middle;\n",
       "    }\n",
       "\n",
       "    .dataframe tbody tr th {\n",
       "        vertical-align: top;\n",
       "    }\n",
       "\n",
       "    .dataframe thead th {\n",
       "        text-align: right;\n",
       "    }\n",
       "</style>\n",
       "<table border=\"1\" class=\"dataframe\">\n",
       "  <thead>\n",
       "    <tr style=\"text-align: right;\">\n",
       "      <th></th>\n",
       "      <th>Title</th>\n",
       "      <th>Date</th>\n",
       "    </tr>\n",
       "  </thead>\n",
       "  <tbody>\n",
       "    <tr>\n",
       "      <th>2441</th>\n",
       "      <td>[일상톡톡 플러스] \"회사는 전쟁터, 밖은 지옥…이직 확정 전 사직서 쓰지 마라?\"</td>\n",
       "      <td>2018.01.01</td>\n",
       "    </tr>\n",
       "    <tr>\n",
       "      <th>2442</th>\n",
       "      <td>[2018 새해특집] 금리 한두 차례 인상 가능성… 중위험·중수익 전략을</td>\n",
       "      <td>2018.01.01</td>\n",
       "    </tr>\n",
       "    <tr>\n",
       "      <th>2443</th>\n",
       "      <td>[2018 새해특집] 금·달러, 대안 투자로 20∼30% 보유 바람직</td>\n",
       "      <td>2018.01.01</td>\n",
       "    </tr>\n",
       "    <tr>\n",
       "      <th>2444</th>\n",
       "      <td>글로벌 기업 KT&amp;G, 해외 사회공헌 ‘활발’</td>\n",
       "      <td>2018.01.01</td>\n",
       "    </tr>\n",
       "    <tr>\n",
       "      <th>2445</th>\n",
       "      <td>[4차 산업혁명 파고-산업계 무인화 가속] 창의성·문제해결능력 갖춘 미래 인재 키운다</td>\n",
       "      <td>2018.01.01</td>\n",
       "    </tr>\n",
       "    <tr>\n",
       "      <th>2446</th>\n",
       "      <td>[4차 산업혁명 파고-산업계 무인화 가속] 인간의 일터 잠식하는 AI … ‘일자리 ...</td>\n",
       "      <td>2018.01.01</td>\n",
       "    </tr>\n",
       "    <tr>\n",
       "      <th>2447</th>\n",
       "      <td>작년 수출 5천739억달러 사상최대…반도체 수출 첫 900억달러</td>\n",
       "      <td>2018.01.01</td>\n",
       "    </tr>\n",
       "    <tr>\n",
       "      <th>2448</th>\n",
       "      <td>무술년 황금 개의 해…개띠 금융 CEO은 누구?</td>\n",
       "      <td>2018.01.01</td>\n",
       "    </tr>\n",
       "    <tr>\n",
       "      <th>2449</th>\n",
       "      <td>[김현주의 일상 톡톡] 롱패딩 열풍…미니스커트가 미소 짓는다고?</td>\n",
       "      <td>2018.01.01</td>\n",
       "    </tr>\n",
       "    <tr>\n",
       "      <th>2450</th>\n",
       "      <td>[이코노 브리핑] 한국GM 노사 임금협상 잠정 합의 외</td>\n",
       "      <td>2018.01.01</td>\n",
       "    </tr>\n",
       "  </tbody>\n",
       "</table>\n",
       "</div>"
      ],
      "text/plain": [
       "                                                  Title        Date\n",
       "2441     [일상톡톡 플러스] \"회사는 전쟁터, 밖은 지옥…이직 확정 전 사직서 쓰지 마라?\"  2018.01.01\n",
       "2442           [2018 새해특집] 금리 한두 차례 인상 가능성… 중위험·중수익 전략을  2018.01.01\n",
       "2443             [2018 새해특집] 금·달러, 대안 투자로 20∼30% 보유 바람직  2018.01.01\n",
       "2444                          글로벌 기업 KT&G, 해외 사회공헌 ‘활발’  2018.01.01\n",
       "2445    [4차 산업혁명 파고-산업계 무인화 가속] 창의성·문제해결능력 갖춘 미래 인재 키운다  2018.01.01\n",
       "2446  [4차 산업혁명 파고-산업계 무인화 가속] 인간의 일터 잠식하는 AI … ‘일자리 ...  2018.01.01\n",
       "2447                작년 수출 5천739억달러 사상최대…반도체 수출 첫 900억달러  2018.01.01\n",
       "2448                         무술년 황금 개의 해…개띠 금융 CEO은 누구?  2018.01.01\n",
       "2449                [김현주의 일상 톡톡] 롱패딩 열풍…미니스커트가 미소 짓는다고?  2018.01.01\n",
       "2450                     [이코노 브리핑] 한국GM 노사 임금협상 잠정 합의 외  2018.01.01"
      ]
     },
     "execution_count": 40,
     "metadata": {},
     "output_type": "execute_result"
    }
   ],
   "source": [
    "word.tail(10)"
   ]
  },
  {
   "cell_type": "code",
   "execution_count": 41,
   "metadata": {},
   "outputs": [
    {
     "data": {
      "text/plain": [
       "2451"
      ]
     },
     "execution_count": 41,
     "metadata": {},
     "output_type": "execute_result"
    }
   ],
   "source": [
    "len(word)"
   ]
  },
  {
   "cell_type": "markdown",
   "metadata": {},
   "source": [
    "#### DataFrame -> List -> String"
   ]
  },
  {
   "cell_type": "code",
   "execution_count": 42,
   "metadata": {},
   "outputs": [
    {
     "name": "stdout",
     "output_type": "stream",
     "text": [
      "총 계산 시간: 0:00:00.234014\n"
     ]
    }
   ],
   "source": [
    "words = str()\n",
    "\n",
    "start = datetime.now()\n",
    "\n",
    "if check == '1':\n",
    "    if choose == '1':\n",
    "        for i in range(len(list(word['Title']))):\n",
    "            words += str(list(word['Title'])[i])\n",
    "    else:\n",
    "        for i in range(len(list(word['News']))):\n",
    "            words += str(list(word['News'])[i])\n",
    "else:\n",
    "    for i in range(len(list(word['Title']))):\n",
    "        words += str(list(word['Title'])[i])\n",
    "\n",
    "end = datetime.now()\n",
    "elapsed = end - start\n",
    "print('총 계산 시간: ', end='');   print(elapsed)"
   ]
  },
  {
   "cell_type": "code",
   "execution_count": 43,
   "metadata": {},
   "outputs": [
    {
     "data": {
      "text/plain": [
       "'[일상톡톡 플러스] \"자취 감췄던 전세매물 갑자기 쏟아지는 까닭은?\"[출발부터 마이너스-상] \"학자금 대출 상환 부담…취업해도 남는 게 없네\"[출발부터 마이너스-하] 결혼하느라 빚 지고…육아휴직하니 소득 줄어재건축 초과이익환수제는 헌법 위반일까[스타벅스 탐구②] “국내 커피시장 상생 위해 더 노력”[스타벅스 탐구①] 커피 공화국 사람들이 스타벅스로 가는 이유는[김현주의 일상 톡톡] 국가부채 1500조원 시대 공무원연금 논란 진실은?한우자조금, 신규 캐릭터 ‘한우패밀리’ 네이밍 공모전 개최금호타이어 노조, 해외매각 수용… 회생 발판 마련금호타이어 노사, 9인 긴급 간담회서 해외매각 합의금호타이어 노사 \"더블스타 자본유치 합의\"금호타이어 노사정-채권단 해외매각 합의안 극적 타결김상조 공정위원장 \"경제환경 변화 반영한 공정거래법 전면 개편 추진\"LG전자 협력회 정기총회…동반성장성과공유·시상식건물마다 임대 문구… 빈 점포 느는 청담·압구정 상권현대중공업지주 본격 출범…대표이사에 권오갑 부회장2월 소비·투자 증가세 이어져정부 압박·싸늘한 여론… 금호타이어 해외매각 어떻게 되나재벌 저격수 금감원장 등장… 금융시장 살얼음판제7회 수산인의 날…\"깨끗한 바다, 풍요로운 어장 회복하자\"김영문 관세청장, 국제이사화물 통관센터 현장 점검[일상톡톡 플러스] \"OO대게, 산지 가서 먹어도 비싸다?\"긴급 간담회 금호타이어 정상화 분수령이총리 \"대기업 일감몰아주기·편법승계 막도록 제도화할 것\"초특가 항공권 구매하고 코나커피 받자…세일여행사 창립 33주년 기념 감사 이벤트금리 인하 덕에 한은 작년 순익 4조 육박…16년 만에 최대금호타이어 노조, 해외매각 조합원 찬반투표 결정흙수저는 결국 흙수저…빈곤 탈출 확률 점점 떨어져금호타이어 노조, 해외 매각 조합원 찬반투표…贊이면 더블스타, 反이면 법정관리\"콘크리트 건물로 피신\"…톈궁 1호 추락시 행동요령은한국GM 노사 임단협 교섭 결렬…\"자금난 타개 어려워졌다\"금호타이어 노조, 해외매각 조합원 찬반투표 결정건물마다 빈 점포 속출…청담동·압구정에 '"
      ]
     },
     "execution_count": 43,
     "metadata": {},
     "output_type": "execute_result"
    }
   ],
   "source": [
    "words[:1000]"
   ]
  },
  {
   "cell_type": "code",
   "execution_count": 44,
   "metadata": {},
   "outputs": [
    {
     "data": {
      "text/plain": [
       "71575"
      ]
     },
     "execution_count": 44,
     "metadata": {},
     "output_type": "execute_result"
    }
   ],
   "source": [
    "len(words)"
   ]
  },
  {
   "cell_type": "markdown",
   "metadata": {},
   "source": [
    "#### 트위터로 단어 뽑기"
   ]
  },
  {
   "cell_type": "code",
   "execution_count": 45,
   "metadata": {},
   "outputs": [
    {
     "name": "stderr",
     "output_type": "stream",
     "text": [
      "C:\\python\\Anaconda3-52\\lib\\site-packages\\konlpy\\tag\\_okt.py:16: UserWarning: \"Twitter\" has changed to \"Okt\" since KoNLPy v0.4.5.\n",
      "  warn('\"Twitter\" has changed to \"Okt\" since KoNLPy v0.4.5.')\n"
     ]
    },
    {
     "name": "stdout",
     "output_type": "stream",
     "text": [
      "총 계산 시간: 0:00:11.355649\n"
     ]
    }
   ],
   "source": [
    "start = datetime.now()\n",
    "\n",
    "twitter = Twitter()\n",
    "nouns3 = twitter.nouns(words)\n",
    "count3 = Counter(nouns3)\n",
    "\n",
    "end = datetime.now()\n",
    "elapsed = end - start\n",
    "print('총 계산 시간: ', end='');   print(elapsed)"
   ]
  },
  {
   "cell_type": "markdown",
   "metadata": {},
   "source": [
    "#### 단어 분류"
   ]
  },
  {
   "cell_type": "code",
   "execution_count": 46,
   "metadata": {},
   "outputs": [
    {
     "data": {
      "text/plain": [
       "(2217, 12437, 3393)"
      ]
     },
     "execution_count": 46,
     "metadata": {},
     "output_type": "execute_result"
    }
   ],
   "source": [
    "one_words = []\n",
    "two_words = []\n",
    "etc_words = []\n",
    "\n",
    "for noun in nouns3:\n",
    "    if len(noun) == 1:\n",
    "        one_words.append(noun)\n",
    "    elif len(noun) == 2:\n",
    "        two_words.append(noun)\n",
    "    else:\n",
    "        etc_words.append(noun)\n",
    "        \n",
    "len(one_words), len(two_words), len(etc_words)"
   ]
  },
  {
   "cell_type": "code",
   "execution_count": 47,
   "metadata": {},
   "outputs": [
    {
     "data": {
      "text/plain": [
       "(380, 3204, 1353)"
      ]
     },
     "execution_count": 47,
     "metadata": {},
     "output_type": "execute_result"
    }
   ],
   "source": [
    "one_words = list(set(one_words))\n",
    "two_words = list(set(two_words))\n",
    "etc_words = list(set(etc_words))\n",
    "\n",
    "len(one_words), len(two_words), len(etc_words)"
   ]
  },
  {
   "cell_type": "code",
   "execution_count": 48,
   "metadata": {},
   "outputs": [
    {
     "name": "stdout",
     "output_type": "stream",
     "text": [
      "윤\t잔\t창\t팩\t늘\t그\t피\t몸\t며\t경\t닉\t쏙\t첫\t정\t워\t싹\t땅\t저\t암\t던\t땀\t명\t탓\t점\t객\t보\t달\t악\t판\t죄\t숨\t사\t볼\t텍\t철\t곤\t포\t뭘\t데\t뜻\t젠\t웬\t꿀\t현\t과\t봄\t향\t폐\t더\t랩\t킥\t글\t속\t치\t멍\t갑\t직\t걸\t초\t율\t군\t꿈\t이\t드\t쉰\t쇼\t탈\t각\t역\t두\t캣\t임\t낼\t개\t월\t게\t좀\t담\t융\t통\t호\t차\t망\t집\t몫\t급\t떼\t션\t관\t식\t손\t락\t류\t힘\t죽\t틈\t뚝\t익\t별\t샵\t료\t공\t날\t쌀\t샘\t만\t을\t쉬\t늦\t컴\t톱\t반\t로\t딸\t국\t능\t덕\t폭\t붐\t번\t턴\t불\t돈\t거\t행\t밖\t신\t주\t칼\t너\t트\t층\t원\t끼\t것\t스\t면\t코\t오\t혈\t최\t덫\t여\t발\t설\t디\t작\t변\t안\t맘\t황\t활\t휘\t캔\t품\t특\t제\t배\t굿\t킴\t빈\t흙\t상\t못\t총\t민\t형\t햄\t후\t럼\t액\t벌\t펜\t닛\t자\t령\t병\t족\t벽\t낙\t짓\t앱\t빅\t끌\t규\t셀\t헬\t녀\t절\t소\t둘\t전\t잡\t밸\t의\t유\t택\t알\t독\t밤\t셋\t늪\t률\t단\t투\t옆\t쭉\t새\t놈\t또\t빵\t폰\t중\t렉\t핸\t빚\t접\t셈\t충\t나\t마\t떡\t숲\t노\t왜\t편\t값\t억\t적\t약\t곧\t산\t듯\t술\t널\t남\t린\t밑\t홍\t바\t검\t티\t살\t팔\t엠\t내\t꼭\t밍\t등\t봉\t뿔\t킹\t풀\t처\t쥐\t박\t길\t델\t뉴\t앞\t난\t항\t뿐\t심\t론\t세\t콕\t네\t일\t재\t뒤\t권\t딜\t확\t곳\t위\t콩\t쾌\t질\t매\t존\t업\t문\t츠\t뻔\t숍\t키\t팬\t척\t어\t계\t실\t줄\t쌍\t고\t종\t촌\t터\t교\t강\t량\t부\t눈\t생\t함\t욜\t도\t구\t납\t법\t콘\t비\t목\t분\t해\t돌\t연\t찬\t런\t맛\t버\t채\t수\t퍼\t준\t홈\t꺽\t외\t메\t타\t답\t책\t인\t열\t웨\t큐\t물\t리\t땐\t뭐\t띤\t카\t및\t기\t용\t겸\t폴\t딥\t간\t끝\t팀\t때\t회\t무\t핀\t년\t태\t말\t친\t애\t베\t삶\t예\t블\t금\t링\t턱\t선\t감\t시\t장\t건\t청\t은\t방\t짐\t닭\t김\t범\t퇴\t"
     ]
    }
   ],
   "source": [
    "for word in one_words:\n",
    "    print(word, end='\\t')"
   ]
  },
  {
   "cell_type": "markdown",
   "metadata": {},
   "source": [
    "#### stop_words 생성"
   ]
  },
  {
   "cell_type": "code",
   "execution_count": 49,
   "metadata": {},
   "outputs": [],
   "source": [
    "stop_words = []\n",
    "sw_time = ['오늘', '어제', '미래', '내일', '시작', '하루', '올해', '오전', '오후', '하루', '이번', '다시', '마지막','개월', '내년']\n",
    "sw_various = ['알림','소식', '궂긴', '기업', '회장','최대','대통령','한국','청와대','대표','포토','의원','정부','정치','후보','추진','이유','달라','만난','누구','사진','직접','마련','리선']\n",
    "sw_region = ['서울','인천','수원','용인','대전','대구','부산','울산','광주','제주','제주도']\n",
    "\n",
    "stop_words.extend(one_words)\n",
    "stop_words.extend(sw_time)\n",
    "stop_words.extend(sw_various)\n",
    "stop_words.extend(sw_region)\n",
    "stop_words.extend(one_words)"
   ]
  },
  {
   "cell_type": "markdown",
   "metadata": {},
   "source": [
    "#### stop_words 빼기"
   ]
  },
  {
   "cell_type": "code",
   "execution_count": 50,
   "metadata": {},
   "outputs": [
    {
     "data": {
      "text/plain": [
       "15169"
      ]
     },
     "execution_count": 50,
     "metadata": {},
     "output_type": "execute_result"
    }
   ],
   "source": [
    "nouns = [word for word in nouns3 if word not in stop_words]\n",
    "len(nouns)"
   ]
  },
  {
   "cell_type": "code",
   "execution_count": 51,
   "metadata": {},
   "outputs": [],
   "source": [
    "common_word2 = Counter(nouns)"
   ]
  },
  {
   "cell_type": "code",
   "execution_count": 52,
   "metadata": {},
   "outputs": [],
   "source": [
    "common_word2 = common_word2.most_common()"
   ]
  },
  {
   "cell_type": "code",
   "execution_count": 53,
   "metadata": {},
   "outputs": [],
   "source": [
    "wordname = []\n",
    "wordfreq = []\n",
    "\n",
    "for i in range(len(common_word2)):\n",
    "    wordname.append(common_word2[i][0])\n",
    "    wordfreq.append(common_word2[i][1])\n",
    "    \n",
    "    ecolist = pd.DataFrame({'단어명' : wordname, '빈도수':wordfreq})"
   ]
  },
  {
   "cell_type": "code",
   "execution_count": 54,
   "metadata": {},
   "outputs": [
    {
     "data": {
      "text/html": [
       "<div>\n",
       "<style scoped>\n",
       "    .dataframe tbody tr th:only-of-type {\n",
       "        vertical-align: middle;\n",
       "    }\n",
       "\n",
       "    .dataframe tbody tr th {\n",
       "        vertical-align: top;\n",
       "    }\n",
       "\n",
       "    .dataframe thead th {\n",
       "        text-align: right;\n",
       "    }\n",
       "</style>\n",
       "<table border=\"1\" class=\"dataframe\">\n",
       "  <thead>\n",
       "    <tr style=\"text-align: right;\">\n",
       "      <th></th>\n",
       "      <th>단어명</th>\n",
       "      <th>빈도수</th>\n",
       "    </tr>\n",
       "  </thead>\n",
       "  <tbody>\n",
       "    <tr>\n",
       "      <th>0</th>\n",
       "      <td>가상</td>\n",
       "      <td>113</td>\n",
       "    </tr>\n",
       "    <tr>\n",
       "      <th>1</th>\n",
       "      <td>화폐</td>\n",
       "      <td>110</td>\n",
       "    </tr>\n",
       "    <tr>\n",
       "      <th>2</th>\n",
       "      <td>톡톡</td>\n",
       "      <td>81</td>\n",
       "    </tr>\n",
       "    <tr>\n",
       "      <th>3</th>\n",
       "      <td>일상</td>\n",
       "      <td>79</td>\n",
       "    </tr>\n",
       "    <tr>\n",
       "      <th>4</th>\n",
       "      <td>삼성</td>\n",
       "      <td>72</td>\n",
       "    </tr>\n",
       "  </tbody>\n",
       "</table>\n",
       "</div>"
      ],
      "text/plain": [
       "  단어명  빈도수\n",
       "0  가상  113\n",
       "1  화폐  110\n",
       "2  톡톡   81\n",
       "3  일상   79\n",
       "4  삼성   72"
      ]
     },
     "execution_count": 54,
     "metadata": {},
     "output_type": "execute_result"
    }
   ],
   "source": [
    "ecolist.head()"
   ]
  },
  {
   "cell_type": "markdown",
   "metadata": {},
   "source": [
    "#### stop_word 실행한 데이터 저장"
   ]
  },
  {
   "cell_type": "code",
   "execution_count": 55,
   "metadata": {},
   "outputs": [
    {
     "name": "stdout",
     "output_type": "stream",
     "text": [
      "./TeamMission/segye_economy_title_word_utf_(2018.01.01 - 2018.03.31).csv 파일을 생성했습니다.\n"
     ]
    }
   ],
   "source": [
    "if check == \"1\":\n",
    "    if choose == \"1\":\n",
    "        ecolist.to_csv('./TeamMission/segye_%s_title_word_utf_(%s - %s).csv'% (Thema, end_date, start_date), sep=',', encoding='utf-8')\n",
    "        print('./TeamMission/segye_%s_title_word_utf_(%s - %s).csv 파일을 생성했습니다.'% (Thema, end_date, start_date))\n",
    "    else:\n",
    "        ecolist.to_csv('./TeamMission/segye_%s_word_utf_(%s - %s).csv'% (Thema, end_date, start_date), sep=',', encoding='utf-8')\n",
    "        print('./TeamMission/segye_%s_word_utf_(%s - %s).csv 파일을 생성했습니다.'% (Thema, end_date, start_date))\n",
    "else:\n",
    "    ecolist.to_csv('TeamMission/president_%s_%s_word_utf_(%s - %s).csv'% (thema, day, end_date, start_date), sep=',', encoding='utf-8')\n",
    "    print('TeamMission/president_%s_%s_word_utf_(%s - %s).csv 파일을 생성했습니다.'% (thema, day, end_date, start_date))\n",
    "    "
   ]
  },
  {
   "cell_type": "markdown",
   "metadata": {},
   "source": [
    "#### 워드클라우드 만들기"
   ]
  },
  {
   "cell_type": "code",
   "execution_count": 56,
   "metadata": {},
   "outputs": [
    {
     "data": {
      "text/plain": [
       "(nltk.text.Text, 15169)"
      ]
     },
     "execution_count": 56,
     "metadata": {},
     "output_type": "execute_result"
    }
   ],
   "source": [
    "token = nltk.Text(nouns, name='기사')\n",
    "type(token), len(token)"
   ]
  },
  {
   "cell_type": "code",
   "execution_count": 57,
   "metadata": {},
   "outputs": [
    {
     "data": {
      "text/plain": [
       "[('가상', 113),\n",
       " ('화폐', 110),\n",
       " ('톡톡', 81),\n",
       " ('일상', 79),\n",
       " ('삼성', 72),\n",
       " ('타이어', 69),\n",
       " ('인상', 69),\n",
       " ('코노', 68),\n",
       " ('브리핑', 68),\n",
       " ('금호', 64),\n",
       " ('투자', 64),\n",
       " ('최저임금', 64),\n",
       " ('일자리', 62),\n",
       " ('지원', 62),\n",
       " ('김동연', 59),\n",
       " ('시장', 58),\n",
       " ('금융', 57),\n",
       " ('해외', 54),\n",
       " ('경영', 51),\n",
       " ('롯데', 50),\n",
       " ('금리', 49),\n",
       " ('수출', 48),\n",
       " ('관세', 48),\n",
       " ('사업', 47),\n",
       " ('특집', 47),\n",
       " ('최고', 45),\n",
       " ('사회', 44),\n",
       " ('플러스', 43),\n",
       " ('산업', 42),\n",
       " ('은행', 42)]"
      ]
     },
     "execution_count": 57,
     "metadata": {},
     "output_type": "execute_result"
    }
   ],
   "source": [
    "token.vocab().most_common(30)"
   ]
  },
  {
   "cell_type": "markdown",
   "metadata": {},
   "source": [
    "#### 워드클라우드 한글폰트 설정"
   ]
  },
  {
   "cell_type": "code",
   "execution_count": 58,
   "metadata": {},
   "outputs": [],
   "source": [
    "from matplotlib import font_manager, rc\n",
    "\n",
    "font_name = font_manager.FontProperties(fname=\"C:/Windows/Fonts/malgun.ttf\").get_name()\n",
    "rc('font', family=font_name)"
   ]
  },
  {
   "cell_type": "code",
   "execution_count": 59,
   "metadata": {},
   "outputs": [
    {
     "data": {
      "text/plain": [
       "1000"
      ]
     },
     "execution_count": 59,
     "metadata": {},
     "output_type": "execute_result"
    }
   ],
   "source": [
    "data = token.vocab().most_common(1000)\n",
    "len(data)"
   ]
  },
  {
   "cell_type": "code",
   "execution_count": 60,
   "metadata": {},
   "outputs": [
    {
     "data": {
      "text/plain": [
       "[('가상', 113),\n",
       " ('화폐', 110),\n",
       " ('톡톡', 81),\n",
       " ('일상', 79),\n",
       " ('삼성', 72),\n",
       " ('타이어', 69),\n",
       " ('인상', 69),\n",
       " ('코노', 68),\n",
       " ('브리핑', 68),\n",
       " ('금호', 64)]"
      ]
     },
     "execution_count": 60,
     "metadata": {},
     "output_type": "execute_result"
    }
   ],
   "source": [
    "data[:10]"
   ]
  },
  {
   "cell_type": "markdown",
   "metadata": {},
   "source": [
    "#### data를 딕셔너리 형태로 변환"
   ]
  },
  {
   "cell_type": "code",
   "execution_count": 61,
   "metadata": {},
   "outputs": [
    {
     "data": {
      "text/plain": [
       "1000"
      ]
     },
     "execution_count": 61,
     "metadata": {},
     "output_type": "execute_result"
    }
   ],
   "source": [
    "dict_data = dict(data)\n",
    "len(dict_data)"
   ]
  },
  {
   "cell_type": "markdown",
   "metadata": {},
   "source": [
    "#### 워드클라우드 그리기"
   ]
  },
  {
   "cell_type": "code",
   "execution_count": 62,
   "metadata": {},
   "outputs": [],
   "source": [
    "%matplotlib inline\n",
    "import matplotlib.pyplot as plt\n",
    "from wordcloud import WordCloud"
   ]
  },
  {
   "cell_type": "code",
   "execution_count": 63,
   "metadata": {},
   "outputs": [
    {
     "data": {
      "image/png": "[encoded data removed]",
      "text/plain": [
       "<Figure size 1728x1152 with 1 Axes>"
      ]
     },
     "metadata": {},
     "output_type": "display_data"
    }
   ],
   "source": [
    "params = {\n",
    "    \"width\"            : 800,\n",
    "    \"height\"           : 600,\n",
    "    \"min_font_size\"    : 2**3, \n",
    "    \"max_font_size\"    : 2**7, \n",
    "    \"max_words\"        : 100,\n",
    "    \"relative_scaling\" : 0.2,\n",
    "#     \"font_path\"        : 'C:/Windows/Fonts/malgun.ttf',\n",
    "    \"font_path\"        : 'C:/Windows/Fonts/HMFMMUEX.TTC',\n",
    "    \"background_color\" : 'white',\n",
    "}\n",
    "\n",
    "wordcolud = WordCloud(**params)\n",
    "# wordcolud = wordcolud.generate(text) \n",
    "wordcolud = wordcolud.generate_from_frequencies(dict_data) \n",
    "\n",
    "if check == '1':\n",
    "    if choose == '1':\n",
    "        save_img = 'images/segye_%s_title_wordcloud_(%s - %s).png' % (Thema, end_date, start_date)\n",
    "    else:\n",
    "        save_img = 'images/segye_%s_wordcloud_(%s - %s).png' % (Thema, end_date, start_date)\n",
    "else:\n",
    "    save_img = 'images/president_%s_%s_(%s - %s).png' % (thema, day, end_date, start_date)\n",
    "    \n",
    "plt.figure(figsize=(24,16))\n",
    "plt.imshow(wordcolud)\n",
    "plt.axis('off')\n",
    "plt.savefig(save_img)"
   ]
  },
  {
   "cell_type": "markdown",
   "metadata": {},
   "source": [
    "## 국민청원 크롤링하기"
   ]
  },
  {
   "cell_type": "markdown",
   "metadata": {},
   "source": [
    "#### 국민청원 분야별 게시판 주소\n",
    "- 외교/통일/국방 : 36\n",
    "- 일자리 : 37\n",
    "- 인권/성평등 : 49"
   ]
  },
  {
   "cell_type": "code",
   "execution_count": 70,
   "metadata": {},
   "outputs": [
    {
     "name": "stdout",
     "output_type": "stream",
     "text": [
      "크롤링할 청원 분야를 입력하세요.\n",
      "- 일교/통일/국방 : 36 \n",
      "- 일자리 : 37 \n",
      "- 인권/성평등 : 49 \n",
      "36\n",
      "진행 중 청원 : 1, 만료된 청원 : 2 \n",
      "1\n"
     ]
    }
   ],
   "source": [
    "urls = []\n",
    "thema = input(\"크롤링할 청원 분야를 입력하세요.\\n- 일교/통일/국방 : 36 \\n- 일자리 : 37 \\n- 인권/성평등 : 49 \\n\")\n",
    "day = input(\"진행 중 청원 : 1, 만료된 청원 : 2 \\n\")\n",
    "for x in range(1, 2000):\n",
    "    urls.append('https://www1.president.go.kr/petitions/category?c=%s&only=%s&page=%d&order=1' % (thema, day, x))"
   ]
  },
  {
   "cell_type": "code",
   "execution_count": 71,
   "metadata": {},
   "outputs": [
    {
     "data": {
      "text/plain": [
       "1999"
      ]
     },
     "execution_count": 71,
     "metadata": {},
     "output_type": "execute_result"
    }
   ],
   "source": [
    "len(urls)"
   ]
  },
  {
   "cell_type": "code",
   "execution_count": 72,
   "metadata": {},
   "outputs": [
    {
     "data": {
      "text/plain": [
       "'https://www1.president.go.kr/petitions/category?c=36&only=1&page=1&order=1'"
      ]
     },
     "execution_count": 72,
     "metadata": {},
     "output_type": "execute_result"
    }
   ],
   "source": [
    "urls[0]"
   ]
  },
  {
   "cell_type": "markdown",
   "metadata": {},
   "source": [
    "### 데이터 수집 및 확인"
   ]
  },
  {
   "cell_type": "code",
   "execution_count": 75,
   "metadata": {},
   "outputs": [
    {
     "name": "stdout",
     "output_type": "stream",
     "text": [
      "시작 날짜를 입력하세요.  ex) 181007 \n",
      "181111\n",
      "마지막 날짜를 입력하세요.  ex) 181115 \n",
      "181117\n",
      "==================================================\n",
      "[18.11.11 ~ 18.11.17] 국민청원 데이터를 수집합니다.\n",
      "\n",
      "10 페이지 수집중입니다.... ing     [수집완료]\n",
      "11 페이지 수집중입니다.... ing     [수집완료]\n",
      "12 페이지 수집중입니다.... ing     [수집완료]\n",
      "13 페이지 수집중입니다.... ing     [수집완료]\n",
      "14 페이지 수집중입니다.... ing     [수집완료]\n",
      "15 페이지 수집중입니다.... ing     [수집완료]\n",
      "16 페이지 수집중입니다.... ing     [수집완료]\n",
      "17 페이지 수집중입니다.... ing     [수집완료]\n",
      "18 페이지 수집중입니다.... ing     [수집완료]\n",
      "19 페이지 수집중입니다.... ing     [수집완료]\n",
      "20 페이지 수집중입니다.... ing     [수집완료]\n",
      "21 페이지 수집중입니다.... ing     [수집완료]\n",
      "22 페이지 수집중입니다.... ing     [수집완료]\n",
      "23 페이지 수집중입니다.... ing     [수집완료]\n",
      "24 페이지 수집중입니다.... ing     [수집완료]\n",
      "25 페이지 수집중입니다.... ing     [수집완료]\n",
      "26 페이지 수집중입니다.... ing     [수집완료]\n",
      "27 페이지 수집중입니다.... ing     [수집완료]\n",
      "28 페이지 수집중입니다.... ing     [수집완료]\n",
      "29 페이지 수집중입니다.... ing     [수집완료]\n",
      "30 페이지 수집중입니다.... ing     [수집완료]\n",
      "31 페이지 수집중입니다.... ing     [수집완료]\n",
      "32 페이지 수집중입니다.... ing     [수집완료]\n",
      "33 페이지 수집중입니다.... ing     [수집완료]\n",
      "34 페이지 수집중입니다.... ing     [수집완료]\n",
      "35 페이지 수집중입니다.... ing     [수집완료]\n",
      "36 페이지 수집중입니다.... ing     [수집완료]\n",
      "37 페이지 수집중입니다.... ing     [수집완료]\n"
     ]
    },
    {
     "ename": "KeyboardInterrupt",
     "evalue": "",
     "output_type": "error",
     "traceback": [
      "\u001b[1;31m---------------------------------------------------------------------------\u001b[0m",
      "\u001b[1;31mKeyboardInterrupt\u001b[0m                         Traceback (most recent call last)",
      "\u001b[1;32m<ipython-input-75-379ced17c412>\u001b[0m in \u001b[0;36m<module>\u001b[1;34m()\u001b[0m\n\u001b[0;32m     26\u001b[0m     \u001b[1;31m# url 이동 및 html 소스 수집\u001b[0m\u001b[1;33m\u001b[0m\u001b[1;33m\u001b[0m\u001b[0m\n\u001b[0;32m     27\u001b[0m     \u001b[0mdriver\u001b[0m\u001b[1;33m.\u001b[0m\u001b[0mget\u001b[0m\u001b[1;33m(\u001b[0m\u001b[0murl\u001b[0m\u001b[1;33m)\u001b[0m\u001b[1;33m\u001b[0m\u001b[0m\n\u001b[1;32m---> 28\u001b[1;33m     \u001b[0mtime\u001b[0m\u001b[1;33m.\u001b[0m\u001b[0msleep\u001b[0m\u001b[1;33m(\u001b[0m\u001b[1;36m2\u001b[0m\u001b[1;33m)\u001b[0m\u001b[1;33m\u001b[0m\u001b[0m\n\u001b[0m\u001b[0;32m     29\u001b[0m     \u001b[0mdata\u001b[0m \u001b[1;33m=\u001b[0m \u001b[0mBeautifulSoup\u001b[0m\u001b[1;33m(\u001b[0m\u001b[0mdriver\u001b[0m\u001b[1;33m.\u001b[0m\u001b[0mpage_source\u001b[0m\u001b[1;33m,\u001b[0m \u001b[1;34m\"lxml\"\u001b[0m\u001b[1;33m)\u001b[0m\u001b[1;33m\u001b[0m\u001b[0m\n\u001b[0;32m     30\u001b[0m     \u001b[0mtime\u001b[0m\u001b[1;33m.\u001b[0m\u001b[0msleep\u001b[0m\u001b[1;33m(\u001b[0m\u001b[1;36m2\u001b[0m\u001b[1;33m)\u001b[0m\u001b[1;33m\u001b[0m\u001b[0m\n",
      "\u001b[1;31mKeyboardInterrupt\u001b[0m: "
     ]
    }
   ],
   "source": [
    "title = []\n",
    "date = []\n",
    "count = []\n",
    "page = 0\n",
    "\n",
    "start_flag = False\n",
    "end_flag = False\n",
    "\n",
    "end_date = input(\"시작 날짜를 입력하세요.  ex) 181007 \\n\")\n",
    "start_date = input(\"마지막 날짜를 입력하세요.  ex) 181115 \\n\")\n",
    "end_date = end_date[:2] + '.' + end_date[2:4] + '.' + end_date[4:]\n",
    "start_date = start_date[:2] + '.' + start_date[2:4] + '.' + start_date[4:]\n",
    "\n",
    "print(\"=\" * 50)\n",
    "print(\"[%s ~ %s] 국민청원 데이터를 수집합니다.\\n\" % (end_date, start_date))\n",
    "\n",
    "start = datetime.now()\n",
    "\n",
    "# 가상 드라이버 시작\n",
    "driver_path = \"driver/chromedriver.exe\"\n",
    "driver = webdriver.Chrome(executable_path=driver_path)\n",
    "time.sleep(1)\n",
    "\n",
    "for url in urls:\n",
    "    time.sleep(3)\n",
    "    # url 이동 및 html 소스 수집\n",
    "    driver.get(url)\n",
    "    time.sleep(2)\n",
    "    data = BeautifulSoup(driver.page_source, \"lxml\")\n",
    "    time.sleep(2)    \n",
    "\n",
    "    \n",
    "    # 청원 데이터 찾기\n",
    "    data_list = data.find('ul', 'petition_list').find_all('li')\n",
    "\n",
    "    \n",
    "    # 데이터 수집 체크\n",
    "    page += 1\n",
    "\n",
    "    if len(data_list) == 0:\n",
    "        break\n",
    "        \n",
    "    if start_flag:\n",
    "        print(\"%d 페이지 수집중입니다.... ing\" %page, end='')\n",
    "        \n",
    "    for x in range(len(data_list)):\n",
    "        \n",
    "        # 기사 끝날 날짜 체크 (end_flag 변경)\n",
    "        if data_list[x].find('div', 'bl_date light').get_text()[5:13] in end_date:\n",
    "            temp_date = data_list[x].find('div', 'bl_date light').get_text()[5:13]\n",
    "            end_flag = True\n",
    "               \n",
    "\n",
    "        # 기사 끝날 날짜 체크(반복문 out)    \n",
    "        if end_flag:\n",
    "            if not(temp_date == data_list[x].find('div', 'bl_date light').get_text()[5:13]):\n",
    "                break       \n",
    "        \n",
    "        \n",
    "        if not(start_flag):            \n",
    "            # 기사 시작 날짜 체크                                                                      \n",
    "            if not(data_list[x].find('div', 'bl_date light').get_text()[5:13] in start_date):            \n",
    "                continue\n",
    "            print(\"%d 페이지 수집중입니다.... ing\" %page, end='')\n",
    "            start_flag = True        \n",
    "          \n",
    "        # 청원 제목만 가져오기\n",
    "        title.append(data_list[x].find('a', 'cb relpy_w').get_text()[3:])\n",
    "   \n",
    "        # 청원 날짜만 가져오기\n",
    "        date.append(data_list[x].find('div', 'bl_date light').get_text()[5:13])\n",
    "        \n",
    "        # 청원 참여인원 가져오기\n",
    "        count.append(data_list[x].find('div', 'bl_agree cs').get_text()[5:])\n",
    "    \n",
    "    # 데이터 수집 시작 체크\n",
    "    if not(start_flag):\n",
    "        continue\n",
    "\n",
    "        \n",
    "    # 데이터수집 체크\n",
    "    print(\"     [수집완료]\")       \n",
    "\n",
    "    \n",
    "    # 기사 끝날 날짜 체크(반복문 out)  \n",
    "    if end_flag:\n",
    "        if not(temp_date == data_list[x].find('div', 'bl_date light').get_text()[5:13]):\n",
    "            break \n",
    "\n",
    "        \n",
    "end = datetime.now()\n",
    "print(\"=\" * 50)\n",
    "print(\"데이터 수집을 완료했습니다.\")\n",
    "elapsed = end - start\n",
    "print('총 계산 시간: ', end='');   print(elapsed)\n",
    "print('총 수집 개수: %d개' %len(title))    "
   ]
  },
  {
   "cell_type": "code",
   "execution_count": null,
   "metadata": {},
   "outputs": [],
   "source": [
    "len(title)"
   ]
  },
  {
   "cell_type": "code",
   "execution_count": null,
   "metadata": {},
   "outputs": [],
   "source": [
    "len(date)"
   ]
  },
  {
   "cell_type": "code",
   "execution_count": null,
   "metadata": {},
   "outputs": [],
   "source": [
    "len(count)"
   ]
  },
  {
   "cell_type": "code",
   "execution_count": null,
   "metadata": {},
   "outputs": [],
   "source": [
    "title[0]"
   ]
  },
  {
   "cell_type": "code",
   "execution_count": null,
   "metadata": {},
   "outputs": [],
   "source": [
    "date[0]"
   ]
  },
  {
   "cell_type": "code",
   "execution_count": null,
   "metadata": {},
   "outputs": [],
   "source": [
    "count[0]"
   ]
  },
  {
   "cell_type": "code",
   "execution_count": null,
   "metadata": {},
   "outputs": [],
   "source": [
    "title[-1]"
   ]
  },
  {
   "cell_type": "code",
   "execution_count": null,
   "metadata": {},
   "outputs": [],
   "source": [
    "date[-1]"
   ]
  },
  {
   "cell_type": "code",
   "execution_count": null,
   "metadata": {},
   "outputs": [],
   "source": [
    "count[-1]"
   ]
  },
  {
   "cell_type": "markdown",
   "metadata": {},
   "source": [
    "### DataFrame 만들기 & 파일로 저장하기"
   ]
  },
  {
   "cell_type": "code",
   "execution_count": null,
   "metadata": {},
   "outputs": [],
   "source": [
    "df_temp = {'Title' : title, 'Date' : date, 'count' : count}\n",
    "df = pd.DataFrame(df_temp)"
   ]
  },
  {
   "cell_type": "code",
   "execution_count": null,
   "metadata": {},
   "outputs": [],
   "source": [
    "df.info()"
   ]
  },
  {
   "cell_type": "code",
   "execution_count": null,
   "metadata": {},
   "outputs": [],
   "source": [
    "df.head()"
   ]
  },
  {
   "cell_type": "code",
   "execution_count": null,
   "metadata": {},
   "outputs": [],
   "source": [
    "df.to_csv('TeamMission/president_%s_%s_(%s - %s).csv' % (thema, day, end_date, start_date), sep=',', encoding='UTF-8')\n",
    "print('TeamMission/president_%s_%s_(%s - %s).csv 파일을 생성했습니다.' % (thema, day, end_date, start_date))      "
   ]
  },
  {
   "cell_type": "markdown",
   "metadata": {},
   "source": [
    "### 국민청원 데이터 정리"
   ]
  },
  {
   "cell_type": "markdown",
   "metadata": {},
   "source": [
    "#### 데이터 읽어오기"
   ]
  },
  {
   "cell_type": "code",
   "execution_count": 2,
   "metadata": {},
   "outputs": [],
   "source": [
    "president_36_1 = pd.read_csv('./TeamMission/president_36_1_(18.01.01 - 18.11.16).csv', sep=(','), encoding='utf-8')\n",
    "president_36_2 = pd.read_csv('./TeamMission/president_36_2_(18.01.01 - 18.10.17).csv', sep=(','), encoding='utf-8')\n",
    "president_37_1 = pd.read_csv('./TeamMission/president_37_1_(18.01.01 - 18.11.16).csv', sep=(','), encoding='utf-8')\n",
    "president_37_2 = pd.read_csv('TeamMission/president_37_2_(18.01.01 - 18.11.16).csv', sep=(','), encoding='utf-8')\n",
    "president_49_1 = pd.read_csv('./TeamMission/president_49_1_(18.01.01 - 18.11.16).csv', sep=(','), encoding='utf-8')\n",
    "president_49_2 = pd.read_csv('TeamMission/president_49_2_(18.01.01 - 18.11.16).csv', sep=(','), encoding='utf-8')"
   ]
  },
  {
   "cell_type": "code",
   "execution_count": 3,
   "metadata": {},
   "outputs": [
    {
     "data": {
      "text/html": [
       "<div>\n",
       "<style scoped>\n",
       "    .dataframe tbody tr th:only-of-type {\n",
       "        vertical-align: middle;\n",
       "    }\n",
       "\n",
       "    .dataframe tbody tr th {\n",
       "        vertical-align: top;\n",
       "    }\n",
       "\n",
       "    .dataframe thead th {\n",
       "        text-align: right;\n",
       "    }\n",
       "</style>\n",
       "<table border=\"1\" class=\"dataframe\">\n",
       "  <thead>\n",
       "    <tr style=\"text-align: right;\">\n",
       "      <th></th>\n",
       "      <th>Unnamed: 0</th>\n",
       "      <th>Title</th>\n",
       "      <th>Date</th>\n",
       "      <th>count</th>\n",
       "    </tr>\n",
       "  </thead>\n",
       "  <tbody>\n",
       "    <tr>\n",
       "      <th>0</th>\n",
       "      <td>0</td>\n",
       "      <td>북한은매번 일본한테 과거사 과거사 사죄요구합니다..</td>\n",
       "      <td>18.11.16</td>\n",
       "      <td>5명</td>\n",
       "    </tr>\n",
       "    <tr>\n",
       "      <th>1</th>\n",
       "      <td>1</td>\n",
       "      <td>문재인 대통령님 국방부 분들 의경 경찰청 없앨거면 군대복무기간 12개월이하로 줄여주세요</td>\n",
       "      <td>18.11.16</td>\n",
       "      <td>2명</td>\n",
       "    </tr>\n",
       "    <tr>\n",
       "      <th>2</th>\n",
       "      <td>2</td>\n",
       "      <td>양구 군인 총상 사고 진상규명하십시오.</td>\n",
       "      <td>18.11.16</td>\n",
       "      <td>102명</td>\n",
       "    </tr>\n",
       "    <tr>\n",
       "      <th>3</th>\n",
       "      <td>3</td>\n",
       "      <td>옥류관 냉면정치...성공할까???</td>\n",
       "      <td>18.11.16</td>\n",
       "      <td>4명</td>\n",
       "    </tr>\n",
       "    <tr>\n",
       "      <th>4</th>\n",
       "      <td>4</td>\n",
       "      <td>중국강경대응</td>\n",
       "      <td>18.11.16</td>\n",
       "      <td>3명</td>\n",
       "    </tr>\n",
       "  </tbody>\n",
       "</table>\n",
       "</div>"
      ],
      "text/plain": [
       "   Unnamed: 0                                             Title      Date  \\\n",
       "0           0                      북한은매번 일본한테 과거사 과거사 사죄요구합니다..  18.11.16   \n",
       "1           1  문재인 대통령님 국방부 분들 의경 경찰청 없앨거면 군대복무기간 12개월이하로 줄여주세요  18.11.16   \n",
       "2           2                             양구 군인 총상 사고 진상규명하십시오.  18.11.16   \n",
       "3           3                                옥류관 냉면정치...성공할까???  18.11.16   \n",
       "4           4                                            중국강경대응  18.11.16   \n",
       "\n",
       "  count  \n",
       "0    5명  \n",
       "1    2명  \n",
       "2  102명  \n",
       "3    4명  \n",
       "4    3명  "
      ]
     },
     "execution_count": 3,
     "metadata": {},
     "output_type": "execute_result"
    }
   ],
   "source": [
    "president_36_1.head()"
   ]
  },
  {
   "cell_type": "markdown",
   "metadata": {},
   "source": [
    "#### 불필요한 열 제거"
   ]
  },
  {
   "cell_type": "code",
   "execution_count": 4,
   "metadata": {},
   "outputs": [],
   "source": [
    "president_36_1.drop('Unnamed: 0',axis=1, inplace=True)\n",
    "president_36_2.drop('Unnamed: 0',axis=1, inplace=True)\n",
    "president_37_1.drop('Unnamed: 0',axis=1, inplace=True)\n",
    "president_37_2.drop('Unnamed: 0',axis=1, inplace=True)\n",
    "president_49_1.drop('Unnamed: 0',axis=1, inplace=True)\n",
    "president_49_2.drop('Unnamed: 0',axis=1, inplace=True)"
   ]
  },
  {
   "cell_type": "code",
   "execution_count": 5,
   "metadata": {},
   "outputs": [
    {
     "data": {
      "text/html": [
       "<div>\n",
       "<style scoped>\n",
       "    .dataframe tbody tr th:only-of-type {\n",
       "        vertical-align: middle;\n",
       "    }\n",
       "\n",
       "    .dataframe tbody tr th {\n",
       "        vertical-align: top;\n",
       "    }\n",
       "\n",
       "    .dataframe thead th {\n",
       "        text-align: right;\n",
       "    }\n",
       "</style>\n",
       "<table border=\"1\" class=\"dataframe\">\n",
       "  <thead>\n",
       "    <tr style=\"text-align: right;\">\n",
       "      <th></th>\n",
       "      <th>Title</th>\n",
       "      <th>Date</th>\n",
       "      <th>count</th>\n",
       "    </tr>\n",
       "  </thead>\n",
       "  <tbody>\n",
       "    <tr>\n",
       "      <th>0</th>\n",
       "      <td>북한은매번 일본한테 과거사 과거사 사죄요구합니다..</td>\n",
       "      <td>18.11.16</td>\n",
       "      <td>5명</td>\n",
       "    </tr>\n",
       "    <tr>\n",
       "      <th>1</th>\n",
       "      <td>문재인 대통령님 국방부 분들 의경 경찰청 없앨거면 군대복무기간 12개월이하로 줄여주세요</td>\n",
       "      <td>18.11.16</td>\n",
       "      <td>2명</td>\n",
       "    </tr>\n",
       "    <tr>\n",
       "      <th>2</th>\n",
       "      <td>양구 군인 총상 사고 진상규명하십시오.</td>\n",
       "      <td>18.11.16</td>\n",
       "      <td>102명</td>\n",
       "    </tr>\n",
       "    <tr>\n",
       "      <th>3</th>\n",
       "      <td>옥류관 냉면정치...성공할까???</td>\n",
       "      <td>18.11.16</td>\n",
       "      <td>4명</td>\n",
       "    </tr>\n",
       "    <tr>\n",
       "      <th>4</th>\n",
       "      <td>중국강경대응</td>\n",
       "      <td>18.11.16</td>\n",
       "      <td>3명</td>\n",
       "    </tr>\n",
       "  </tbody>\n",
       "</table>\n",
       "</div>"
      ],
      "text/plain": [
       "                                              Title      Date count\n",
       "0                      북한은매번 일본한테 과거사 과거사 사죄요구합니다..  18.11.16    5명\n",
       "1  문재인 대통령님 국방부 분들 의경 경찰청 없앨거면 군대복무기간 12개월이하로 줄여주세요  18.11.16    2명\n",
       "2                             양구 군인 총상 사고 진상규명하십시오.  18.11.16  102명\n",
       "3                                옥류관 냉면정치...성공할까???  18.11.16    4명\n",
       "4                                            중국강경대응  18.11.16    3명"
      ]
     },
     "execution_count": 5,
     "metadata": {},
     "output_type": "execute_result"
    }
   ],
   "source": [
    "president_36_1.head()"
   ]
  },
  {
   "cell_type": "code",
   "execution_count": 6,
   "metadata": {},
   "outputs": [
    {
     "data": {
      "text/plain": [
       "(1977, 18222)"
      ]
     },
     "execution_count": 6,
     "metadata": {},
     "output_type": "execute_result"
    }
   ],
   "source": [
    "len(president_36_1), len(president_36_2)"
   ]
  },
  {
   "cell_type": "code",
   "execution_count": 7,
   "metadata": {},
   "outputs": [
    {
     "data": {
      "text/plain": [
       "(1653, 15820)"
      ]
     },
     "execution_count": 7,
     "metadata": {},
     "output_type": "execute_result"
    }
   ],
   "source": [
    "len(president_37_1), len(president_37_2)"
   ]
  },
  {
   "cell_type": "code",
   "execution_count": 8,
   "metadata": {},
   "outputs": [
    {
     "data": {
      "text/plain": [
       "(2313, 20582)"
      ]
     },
     "execution_count": 8,
     "metadata": {},
     "output_type": "execute_result"
    }
   ],
   "source": [
    "len(president_49_1), len(president_49_2)"
   ]
  },
  {
   "cell_type": "markdown",
   "metadata": {},
   "source": [
    "#### 데이터 합치기"
   ]
  },
  {
   "cell_type": "code",
   "execution_count": 9,
   "metadata": {},
   "outputs": [],
   "source": [
    "president_36_3 = pd.concat([president_36_1, president_36_2])\n",
    "president_37_3 = pd.concat([president_37_1, president_37_2])\n",
    "president_49_3 = pd.concat([president_49_1, president_49_2])"
   ]
  },
  {
   "cell_type": "code",
   "execution_count": 10,
   "metadata": {
    "scrolled": true
   },
   "outputs": [
    {
     "data": {
      "text/html": [
       "<div>\n",
       "<style scoped>\n",
       "    .dataframe tbody tr th:only-of-type {\n",
       "        vertical-align: middle;\n",
       "    }\n",
       "\n",
       "    .dataframe tbody tr th {\n",
       "        vertical-align: top;\n",
       "    }\n",
       "\n",
       "    .dataframe thead th {\n",
       "        text-align: right;\n",
       "    }\n",
       "</style>\n",
       "<table border=\"1\" class=\"dataframe\">\n",
       "  <thead>\n",
       "    <tr style=\"text-align: right;\">\n",
       "      <th></th>\n",
       "      <th>Title</th>\n",
       "      <th>Date</th>\n",
       "      <th>count</th>\n",
       "    </tr>\n",
       "  </thead>\n",
       "  <tbody>\n",
       "    <tr>\n",
       "      <th>0</th>\n",
       "      <td>북한은매번 일본한테 과거사 과거사 사죄요구합니다..</td>\n",
       "      <td>18.11.16</td>\n",
       "      <td>5명</td>\n",
       "    </tr>\n",
       "    <tr>\n",
       "      <th>1</th>\n",
       "      <td>문재인 대통령님 국방부 분들 의경 경찰청 없앨거면 군대복무기간 12개월이하로 줄여주세요</td>\n",
       "      <td>18.11.16</td>\n",
       "      <td>2명</td>\n",
       "    </tr>\n",
       "    <tr>\n",
       "      <th>2</th>\n",
       "      <td>양구 군인 총상 사고 진상규명하십시오.</td>\n",
       "      <td>18.11.16</td>\n",
       "      <td>102명</td>\n",
       "    </tr>\n",
       "    <tr>\n",
       "      <th>3</th>\n",
       "      <td>옥류관 냉면정치...성공할까???</td>\n",
       "      <td>18.11.16</td>\n",
       "      <td>4명</td>\n",
       "    </tr>\n",
       "    <tr>\n",
       "      <th>4</th>\n",
       "      <td>중국강경대응</td>\n",
       "      <td>18.11.16</td>\n",
       "      <td>3명</td>\n",
       "    </tr>\n",
       "  </tbody>\n",
       "</table>\n",
       "</div>"
      ],
      "text/plain": [
       "                                              Title      Date count\n",
       "0                      북한은매번 일본한테 과거사 과거사 사죄요구합니다..  18.11.16    5명\n",
       "1  문재인 대통령님 국방부 분들 의경 경찰청 없앨거면 군대복무기간 12개월이하로 줄여주세요  18.11.16    2명\n",
       "2                             양구 군인 총상 사고 진상규명하십시오.  18.11.16  102명\n",
       "3                                옥류관 냉면정치...성공할까???  18.11.16    4명\n",
       "4                                            중국강경대응  18.11.16    3명"
      ]
     },
     "execution_count": 10,
     "metadata": {},
     "output_type": "execute_result"
    }
   ],
   "source": [
    "president_36_3.head()"
   ]
  },
  {
   "cell_type": "code",
   "execution_count": 11,
   "metadata": {},
   "outputs": [
    {
     "data": {
      "text/html": [
       "<div>\n",
       "<style scoped>\n",
       "    .dataframe tbody tr th:only-of-type {\n",
       "        vertical-align: middle;\n",
       "    }\n",
       "\n",
       "    .dataframe tbody tr th {\n",
       "        vertical-align: top;\n",
       "    }\n",
       "\n",
       "    .dataframe thead th {\n",
       "        text-align: right;\n",
       "    }\n",
       "</style>\n",
       "<table border=\"1\" class=\"dataframe\">\n",
       "  <thead>\n",
       "    <tr style=\"text-align: right;\">\n",
       "      <th></th>\n",
       "      <th>Title</th>\n",
       "      <th>Date</th>\n",
       "      <th>count</th>\n",
       "    </tr>\n",
       "  </thead>\n",
       "  <tbody>\n",
       "    <tr>\n",
       "      <th>18217</th>\n",
       "      <td>어려운 결단 핵무장</td>\n",
       "      <td>18.01.01</td>\n",
       "      <td>1명</td>\n",
       "    </tr>\n",
       "    <tr>\n",
       "      <th>18218</th>\n",
       "      <td>예비역 복학생 등록금을 동일학번 비군복무자 학년별 등록금과 같게 적용해 주세요</td>\n",
       "      <td>18.01.01</td>\n",
       "      <td>2명</td>\n",
       "    </tr>\n",
       "    <tr>\n",
       "      <th>18219</th>\n",
       "      <td>‘홍준표법’이라고 불리는 2005년 개정 국적법으로 삭제된 국적법을  왜 다시 환원...</td>\n",
       "      <td>18.01.01</td>\n",
       "      <td>70명</td>\n",
       "    </tr>\n",
       "    <tr>\n",
       "      <th>18220</th>\n",
       "      <td>여러분! 2018년 우리의 안보는 우리가 지킵시다.</td>\n",
       "      <td>18.01.01</td>\n",
       "      <td>11명</td>\n",
       "    </tr>\n",
       "    <tr>\n",
       "      <th>18221</th>\n",
       "      <td>UAE 관련</td>\n",
       "      <td>18.01.01</td>\n",
       "      <td>0명</td>\n",
       "    </tr>\n",
       "  </tbody>\n",
       "</table>\n",
       "</div>"
      ],
      "text/plain": [
       "                                                   Title      Date count\n",
       "18217                                         어려운 결단 핵무장  18.01.01    1명\n",
       "18218        예비역 복학생 등록금을 동일학번 비군복무자 학년별 등록금과 같게 적용해 주세요  18.01.01    2명\n",
       "18219  ‘홍준표법’이라고 불리는 2005년 개정 국적법으로 삭제된 국적법을  왜 다시 환원...  18.01.01   70명\n",
       "18220                       여러분! 2018년 우리의 안보는 우리가 지킵시다.  18.01.01   11명\n",
       "18221                                             UAE 관련  18.01.01    0명"
      ]
     },
     "execution_count": 11,
     "metadata": {},
     "output_type": "execute_result"
    }
   ],
   "source": [
    "president_36_3.tail()"
   ]
  },
  {
   "cell_type": "code",
   "execution_count": 12,
   "metadata": {},
   "outputs": [
    {
     "data": {
      "text/plain": [
       "(20199, 17473, 22895)"
      ]
     },
     "execution_count": 12,
     "metadata": {},
     "output_type": "execute_result"
    }
   ],
   "source": [
    "len(president_36_3), len(president_37_3), len(president_49_3)"
   ]
  },
  {
   "cell_type": "code",
   "execution_count": 13,
   "metadata": {},
   "outputs": [
    {
     "data": {
      "text/plain": [
       "5"
      ]
     },
     "execution_count": 13,
     "metadata": {},
     "output_type": "execute_result"
    }
   ],
   "source": [
    "int(list(president_36_3['count'])[0][:-1].replace(',', ''))"
   ]
  },
  {
   "cell_type": "markdown",
   "metadata": {},
   "source": [
    "#### 데이터 저장"
   ]
  },
  {
   "cell_type": "code",
   "execution_count": 14,
   "metadata": {},
   "outputs": [
    {
     "name": "stdout",
     "output_type": "stream",
     "text": [
      "./TeamMission/president_36_3_(18.01.01 - 18.11.16).csv 파일을 생성했습니다.\n",
      "./TeamMission/president_37_3_(18.01.01 - 18.11.16).csv 파일을 생성했습니다.\n",
      "./TeamMission/president_49_3_(18.01.01 - 18.11.16).csv 파일을 생성했습니다.\n"
     ]
    }
   ],
   "source": [
    "president_36_3.to_csv('./TeamMission/president_36_3_(18.01.01 - 18.11.16).csv', sep=',', encoding='UTF-8')\n",
    "print('./TeamMission/president_36_3_(18.01.01 - 18.11.16).csv 파일을 생성했습니다.')\n",
    "president_37_3.to_csv('./TeamMission/president_37_3_(18.01.01 - 18.11.16).csv', sep=',', encoding='UTF-8')\n",
    "print('./TeamMission/president_37_3_(18.01.01 - 18.11.16).csv 파일을 생성했습니다.')\n",
    "president_49_3.to_csv('./TeamMission/president_49_3_(18.01.01 - 18.11.16).csv', sep=',', encoding='UTF-8')\n",
    "print('./TeamMission/president_49_3_(18.01.01 - 18.11.16).csv 파일을 생성했습니다.')"
   ]
  },
  {
   "cell_type": "markdown",
   "metadata": {},
   "source": [
    "#### 청원 참여인원 합계 구하기"
   ]
  },
  {
   "cell_type": "code",
   "execution_count": 15,
   "metadata": {},
   "outputs": [],
   "source": [
    "sum_count_36 = 0\n",
    "sum_count_37 = 0\n",
    "sum_count_49 = 0\n",
    "\n",
    "for x in range(len(president_36_3)):\n",
    "    sum_count_36 += int(list(president_36_3['count'])[x][:-1].replace(',', ''))\n",
    "    \n",
    "for x in range(len(president_37_3)):\n",
    "    sum_count_37 += int(list(president_37_3['count'])[x][:-1].replace(',', ''))\n",
    "    \n",
    "for x in range(len(president_49_3)):\n",
    "    sum_count_49 += int(list(president_49_3['count'])[x][:-1].replace(',', ''))  \n",
    "    "
   ]
  },
  {
   "cell_type": "code",
   "execution_count": 16,
   "metadata": {},
   "outputs": [
    {
     "data": {
      "text/plain": [
       "(3088617, 734551, 9391430)"
      ]
     },
     "execution_count": 16,
     "metadata": {},
     "output_type": "execute_result"
    }
   ],
   "source": [
    "sum_count_36, sum_count_37, sum_count_49"
   ]
  },
  {
   "cell_type": "markdown",
   "metadata": {},
   "source": [
    "### 네이버 데이터랩을 활용한 검색지수 산출"
   ]
  },
  {
   "cell_type": "code",
   "execution_count": 17,
   "metadata": {},
   "outputs": [],
   "source": [
    "%matplotlib inline"
   ]
  },
  {
   "cell_type": "code",
   "execution_count": 18,
   "metadata": {},
   "outputs": [
    {
     "name": "stdout",
     "output_type": "stream",
     "text": [
      "분야를 입력하세요. \n",
      "정치 : 36, 경제 : 37, 사회 : 49 \n",
      "36\n"
     ]
    }
   ],
   "source": [
    "thema = input(\"분야를 입력하세요. \\n정치 : 36, 경제 : 37, 사회 : 49 \\n\")"
   ]
  },
  {
   "cell_type": "code",
   "execution_count": 19,
   "metadata": {},
   "outputs": [],
   "source": [
    "data1 = pd.read_excel('./TeamMission/datalab_%s_1_1.xlsx' %thema)\n",
    "data2 = pd.read_excel('./TeamMission/datalab_%s_1_2.xlsx' %thema)"
   ]
  },
  {
   "cell_type": "code",
   "execution_count": 20,
   "metadata": {},
   "outputs": [
    {
     "data": {
      "text/html": [
       "<div>\n",
       "<style scoped>\n",
       "    .dataframe tbody tr th:only-of-type {\n",
       "        vertical-align: middle;\n",
       "    }\n",
       "\n",
       "    .dataframe tbody tr th {\n",
       "        vertical-align: top;\n",
       "    }\n",
       "\n",
       "    .dataframe thead th {\n",
       "        text-align: right;\n",
       "    }\n",
       "</style>\n",
       "<table border=\"1\" class=\"dataframe\">\n",
       "  <thead>\n",
       "    <tr style=\"text-align: right;\">\n",
       "      <th></th>\n",
       "      <th>날짜</th>\n",
       "      <th>남북통일</th>\n",
       "      <th>날짜.1</th>\n",
       "      <th>한반도안보</th>\n",
       "    </tr>\n",
       "  </thead>\n",
       "  <tbody>\n",
       "    <tr>\n",
       "      <th>0</th>\n",
       "      <td>2018-01-01</td>\n",
       "      <td>15.61909</td>\n",
       "      <td>2018-01-01</td>\n",
       "      <td>13.13730</td>\n",
       "    </tr>\n",
       "    <tr>\n",
       "      <th>1</th>\n",
       "      <td>2018-01-02</td>\n",
       "      <td>27.78527</td>\n",
       "      <td>2018-01-02</td>\n",
       "      <td>12.57081</td>\n",
       "    </tr>\n",
       "    <tr>\n",
       "      <th>2</th>\n",
       "      <td>2018-01-03</td>\n",
       "      <td>44.21364</td>\n",
       "      <td>2018-01-03</td>\n",
       "      <td>13.13730</td>\n",
       "    </tr>\n",
       "    <tr>\n",
       "      <th>3</th>\n",
       "      <td>2018-01-04</td>\n",
       "      <td>16.02373</td>\n",
       "      <td>2018-01-04</td>\n",
       "      <td>13.27218</td>\n",
       "    </tr>\n",
       "    <tr>\n",
       "      <th>4</th>\n",
       "      <td>2018-01-05</td>\n",
       "      <td>100.00000</td>\n",
       "      <td>2018-01-05</td>\n",
       "      <td>11.59967</td>\n",
       "    </tr>\n",
       "  </tbody>\n",
       "</table>\n",
       "</div>"
      ],
      "text/plain": [
       "           날짜       남북통일        날짜.1     한반도안보\n",
       "0  2018-01-01   15.61909  2018-01-01  13.13730\n",
       "1  2018-01-02   27.78527  2018-01-02  12.57081\n",
       "2  2018-01-03   44.21364  2018-01-03  13.13730\n",
       "3  2018-01-04   16.02373  2018-01-04  13.27218\n",
       "4  2018-01-05  100.00000  2018-01-05  11.59967"
      ]
     },
     "execution_count": 20,
     "metadata": {},
     "output_type": "execute_result"
    }
   ],
   "source": [
    "data1.head()"
   ]
  },
  {
   "cell_type": "code",
   "execution_count": 21,
   "metadata": {},
   "outputs": [
    {
     "data": {
      "text/html": [
       "<div>\n",
       "<style scoped>\n",
       "    .dataframe tbody tr th:only-of-type {\n",
       "        vertical-align: middle;\n",
       "    }\n",
       "\n",
       "    .dataframe tbody tr th {\n",
       "        vertical-align: top;\n",
       "    }\n",
       "\n",
       "    .dataframe thead th {\n",
       "        text-align: right;\n",
       "    }\n",
       "</style>\n",
       "<table border=\"1\" class=\"dataframe\">\n",
       "  <thead>\n",
       "    <tr style=\"text-align: right;\">\n",
       "      <th></th>\n",
       "      <th>날짜</th>\n",
       "      <th>남북통일</th>\n",
       "      <th>날짜.1</th>\n",
       "      <th>한반도안보</th>\n",
       "    </tr>\n",
       "  </thead>\n",
       "  <tbody>\n",
       "    <tr>\n",
       "      <th>0</th>\n",
       "      <td>2018-01-01</td>\n",
       "      <td>23.66790</td>\n",
       "      <td>2018-01-01</td>\n",
       "      <td>34.69640</td>\n",
       "    </tr>\n",
       "    <tr>\n",
       "      <th>1</th>\n",
       "      <td>2018-01-02</td>\n",
       "      <td>35.06815</td>\n",
       "      <td>2018-01-02</td>\n",
       "      <td>42.25526</td>\n",
       "    </tr>\n",
       "    <tr>\n",
       "      <th>2</th>\n",
       "      <td>2018-01-03</td>\n",
       "      <td>38.41387</td>\n",
       "      <td>2018-01-03</td>\n",
       "      <td>50.68153</td>\n",
       "    </tr>\n",
       "    <tr>\n",
       "      <th>3</th>\n",
       "      <td>2018-01-04</td>\n",
       "      <td>39.03345</td>\n",
       "      <td>2018-01-04</td>\n",
       "      <td>45.22924</td>\n",
       "    </tr>\n",
       "    <tr>\n",
       "      <th>4</th>\n",
       "      <td>2018-01-05</td>\n",
       "      <td>37.42255</td>\n",
       "      <td>2018-01-05</td>\n",
       "      <td>44.48574</td>\n",
       "    </tr>\n",
       "  </tbody>\n",
       "</table>\n",
       "</div>"
      ],
      "text/plain": [
       "           날짜      남북통일        날짜.1     한반도안보\n",
       "0  2018-01-01  23.66790  2018-01-01  34.69640\n",
       "1  2018-01-02  35.06815  2018-01-02  42.25526\n",
       "2  2018-01-03  38.41387  2018-01-03  50.68153\n",
       "3  2018-01-04  39.03345  2018-01-04  45.22924\n",
       "4  2018-01-05  37.42255  2018-01-05  44.48574"
      ]
     },
     "execution_count": 21,
     "metadata": {},
     "output_type": "execute_result"
    }
   ],
   "source": [
    "data2.head()"
   ]
  },
  {
   "cell_type": "code",
   "execution_count": 22,
   "metadata": {},
   "outputs": [
    {
     "data": {
      "text/html": [
       "<div>\n",
       "<style scoped>\n",
       "    .dataframe tbody tr th:only-of-type {\n",
       "        vertical-align: middle;\n",
       "    }\n",
       "\n",
       "    .dataframe tbody tr th {\n",
       "        vertical-align: top;\n",
       "    }\n",
       "\n",
       "    .dataframe thead th {\n",
       "        text-align: right;\n",
       "    }\n",
       "</style>\n",
       "<table border=\"1\" class=\"dataframe\">\n",
       "  <thead>\n",
       "    <tr style=\"text-align: right;\">\n",
       "      <th></th>\n",
       "      <th>날짜</th>\n",
       "      <th>남북통일</th>\n",
       "      <th>날짜.1</th>\n",
       "      <th>한반도안보</th>\n",
       "    </tr>\n",
       "  </thead>\n",
       "  <tbody>\n",
       "    <tr>\n",
       "      <th>317</th>\n",
       "      <td>2018-11-14</td>\n",
       "      <td>14.18937</td>\n",
       "      <td>2018-11-14</td>\n",
       "      <td>18.28972</td>\n",
       "    </tr>\n",
       "    <tr>\n",
       "      <th>318</th>\n",
       "      <td>2018-11-15</td>\n",
       "      <td>11.81548</td>\n",
       "      <td>2018-11-15</td>\n",
       "      <td>16.64418</td>\n",
       "    </tr>\n",
       "    <tr>\n",
       "      <th>319</th>\n",
       "      <td>2018-11-16</td>\n",
       "      <td>11.68060</td>\n",
       "      <td>2018-11-16</td>\n",
       "      <td>15.83490</td>\n",
       "    </tr>\n",
       "    <tr>\n",
       "      <th>320</th>\n",
       "      <td>2018-11-17</td>\n",
       "      <td>10.19692</td>\n",
       "      <td>2018-11-17</td>\n",
       "      <td>11.08713</td>\n",
       "    </tr>\n",
       "    <tr>\n",
       "      <th>321</th>\n",
       "      <td>2018-11-18</td>\n",
       "      <td>12.00431</td>\n",
       "      <td>2018-11-18</td>\n",
       "      <td>14.70191</td>\n",
       "    </tr>\n",
       "  </tbody>\n",
       "</table>\n",
       "</div>"
      ],
      "text/plain": [
       "             날짜      남북통일        날짜.1     한반도안보\n",
       "317  2018-11-14  14.18937  2018-11-14  18.28972\n",
       "318  2018-11-15  11.81548  2018-11-15  16.64418\n",
       "319  2018-11-16  11.68060  2018-11-16  15.83490\n",
       "320  2018-11-17  10.19692  2018-11-17  11.08713\n",
       "321  2018-11-18  12.00431  2018-11-18  14.70191"
      ]
     },
     "execution_count": 22,
     "metadata": {},
     "output_type": "execute_result"
    }
   ],
   "source": [
    "data1.tail()"
   ]
  },
  {
   "cell_type": "code",
   "execution_count": 23,
   "metadata": {},
   "outputs": [
    {
     "data": {
      "text/html": [
       "<div>\n",
       "<style scoped>\n",
       "    .dataframe tbody tr th:only-of-type {\n",
       "        vertical-align: middle;\n",
       "    }\n",
       "\n",
       "    .dataframe tbody tr th {\n",
       "        vertical-align: top;\n",
       "    }\n",
       "\n",
       "    .dataframe thead th {\n",
       "        text-align: right;\n",
       "    }\n",
       "</style>\n",
       "<table border=\"1\" class=\"dataframe\">\n",
       "  <thead>\n",
       "    <tr style=\"text-align: right;\">\n",
       "      <th></th>\n",
       "      <th>날짜</th>\n",
       "      <th>남북통일</th>\n",
       "      <th>날짜.1</th>\n",
       "      <th>한반도안보</th>\n",
       "    </tr>\n",
       "  </thead>\n",
       "  <tbody>\n",
       "    <tr>\n",
       "      <th>317</th>\n",
       "      <td>2018-11-14</td>\n",
       "      <td>42.75092</td>\n",
       "      <td>2018-11-14</td>\n",
       "      <td>61.46220</td>\n",
       "    </tr>\n",
       "    <tr>\n",
       "      <th>318</th>\n",
       "      <td>2018-11-15</td>\n",
       "      <td>43.74225</td>\n",
       "      <td>2018-11-15</td>\n",
       "      <td>56.75340</td>\n",
       "    </tr>\n",
       "    <tr>\n",
       "      <th>319</th>\n",
       "      <td>2018-11-16</td>\n",
       "      <td>38.66171</td>\n",
       "      <td>2018-11-16</td>\n",
       "      <td>44.73358</td>\n",
       "    </tr>\n",
       "    <tr>\n",
       "      <th>320</th>\n",
       "      <td>2018-11-17</td>\n",
       "      <td>29.24411</td>\n",
       "      <td>2018-11-17</td>\n",
       "      <td>40.64436</td>\n",
       "    </tr>\n",
       "    <tr>\n",
       "      <th>321</th>\n",
       "      <td>2018-11-18</td>\n",
       "      <td>40.39653</td>\n",
       "      <td>2018-11-18</td>\n",
       "      <td>46.34448</td>\n",
       "    </tr>\n",
       "  </tbody>\n",
       "</table>\n",
       "</div>"
      ],
      "text/plain": [
       "             날짜      남북통일        날짜.1     한반도안보\n",
       "317  2018-11-14  42.75092  2018-11-14  61.46220\n",
       "318  2018-11-15  43.74225  2018-11-15  56.75340\n",
       "319  2018-11-16  38.66171  2018-11-16  44.73358\n",
       "320  2018-11-17  29.24411  2018-11-17  40.64436\n",
       "321  2018-11-18  40.39653  2018-11-18  46.34448"
      ]
     },
     "execution_count": 23,
     "metadata": {},
     "output_type": "execute_result"
    }
   ],
   "source": [
    "data2.tail()"
   ]
  },
  {
   "cell_type": "code",
   "execution_count": 24,
   "metadata": {},
   "outputs": [
    {
     "data": {
      "text/plain": [
       "(322, 322)"
      ]
     },
     "execution_count": 24,
     "metadata": {},
     "output_type": "execute_result"
    }
   ],
   "source": [
    "len(data1), len(data2)"
   ]
  },
  {
   "cell_type": "code",
   "execution_count": 25,
   "metadata": {},
   "outputs": [],
   "source": [
    "data1['통합'] = data1[data1.columns[1]] + data1[data1.columns[3]]\n",
    "data2['통합'] = data2[data2.columns[1]] + data2[data2.columns[3]]"
   ]
  },
  {
   "cell_type": "code",
   "execution_count": 26,
   "metadata": {},
   "outputs": [
    {
     "data": {
      "text/html": [
       "<div>\n",
       "<style scoped>\n",
       "    .dataframe tbody tr th:only-of-type {\n",
       "        vertical-align: middle;\n",
       "    }\n",
       "\n",
       "    .dataframe tbody tr th {\n",
       "        vertical-align: top;\n",
       "    }\n",
       "\n",
       "    .dataframe thead th {\n",
       "        text-align: right;\n",
       "    }\n",
       "</style>\n",
       "<table border=\"1\" class=\"dataframe\">\n",
       "  <thead>\n",
       "    <tr style=\"text-align: right;\">\n",
       "      <th></th>\n",
       "      <th>날짜</th>\n",
       "      <th>남북통일</th>\n",
       "      <th>날짜.1</th>\n",
       "      <th>한반도안보</th>\n",
       "      <th>통합</th>\n",
       "    </tr>\n",
       "  </thead>\n",
       "  <tbody>\n",
       "    <tr>\n",
       "      <th>0</th>\n",
       "      <td>2018-01-01</td>\n",
       "      <td>15.61909</td>\n",
       "      <td>2018-01-01</td>\n",
       "      <td>13.13730</td>\n",
       "      <td>28.75639</td>\n",
       "    </tr>\n",
       "    <tr>\n",
       "      <th>1</th>\n",
       "      <td>2018-01-02</td>\n",
       "      <td>27.78527</td>\n",
       "      <td>2018-01-02</td>\n",
       "      <td>12.57081</td>\n",
       "      <td>40.35608</td>\n",
       "    </tr>\n",
       "    <tr>\n",
       "      <th>2</th>\n",
       "      <td>2018-01-03</td>\n",
       "      <td>44.21364</td>\n",
       "      <td>2018-01-03</td>\n",
       "      <td>13.13730</td>\n",
       "      <td>57.35094</td>\n",
       "    </tr>\n",
       "    <tr>\n",
       "      <th>3</th>\n",
       "      <td>2018-01-04</td>\n",
       "      <td>16.02373</td>\n",
       "      <td>2018-01-04</td>\n",
       "      <td>13.27218</td>\n",
       "      <td>29.29591</td>\n",
       "    </tr>\n",
       "    <tr>\n",
       "      <th>4</th>\n",
       "      <td>2018-01-05</td>\n",
       "      <td>100.00000</td>\n",
       "      <td>2018-01-05</td>\n",
       "      <td>11.59967</td>\n",
       "      <td>111.59967</td>\n",
       "    </tr>\n",
       "  </tbody>\n",
       "</table>\n",
       "</div>"
      ],
      "text/plain": [
       "           날짜       남북통일        날짜.1     한반도안보         통합\n",
       "0  2018-01-01   15.61909  2018-01-01  13.13730   28.75639\n",
       "1  2018-01-02   27.78527  2018-01-02  12.57081   40.35608\n",
       "2  2018-01-03   44.21364  2018-01-03  13.13730   57.35094\n",
       "3  2018-01-04   16.02373  2018-01-04  13.27218   29.29591\n",
       "4  2018-01-05  100.00000  2018-01-05  11.59967  111.59967"
      ]
     },
     "execution_count": 26,
     "metadata": {},
     "output_type": "execute_result"
    }
   ],
   "source": [
    "data1.head()"
   ]
  },
  {
   "cell_type": "code",
   "execution_count": 27,
   "metadata": {},
   "outputs": [
    {
     "data": {
      "text/html": [
       "<div>\n",
       "<style scoped>\n",
       "    .dataframe tbody tr th:only-of-type {\n",
       "        vertical-align: middle;\n",
       "    }\n",
       "\n",
       "    .dataframe tbody tr th {\n",
       "        vertical-align: top;\n",
       "    }\n",
       "\n",
       "    .dataframe thead th {\n",
       "        text-align: right;\n",
       "    }\n",
       "</style>\n",
       "<table border=\"1\" class=\"dataframe\">\n",
       "  <thead>\n",
       "    <tr style=\"text-align: right;\">\n",
       "      <th></th>\n",
       "      <th>날짜</th>\n",
       "      <th>남북통일</th>\n",
       "      <th>날짜.1</th>\n",
       "      <th>한반도안보</th>\n",
       "      <th>통합</th>\n",
       "    </tr>\n",
       "  </thead>\n",
       "  <tbody>\n",
       "    <tr>\n",
       "      <th>0</th>\n",
       "      <td>2018-01-01</td>\n",
       "      <td>23.66790</td>\n",
       "      <td>2018-01-01</td>\n",
       "      <td>34.69640</td>\n",
       "      <td>58.36430</td>\n",
       "    </tr>\n",
       "    <tr>\n",
       "      <th>1</th>\n",
       "      <td>2018-01-02</td>\n",
       "      <td>35.06815</td>\n",
       "      <td>2018-01-02</td>\n",
       "      <td>42.25526</td>\n",
       "      <td>77.32341</td>\n",
       "    </tr>\n",
       "    <tr>\n",
       "      <th>2</th>\n",
       "      <td>2018-01-03</td>\n",
       "      <td>38.41387</td>\n",
       "      <td>2018-01-03</td>\n",
       "      <td>50.68153</td>\n",
       "      <td>89.09540</td>\n",
       "    </tr>\n",
       "    <tr>\n",
       "      <th>3</th>\n",
       "      <td>2018-01-04</td>\n",
       "      <td>39.03345</td>\n",
       "      <td>2018-01-04</td>\n",
       "      <td>45.22924</td>\n",
       "      <td>84.26269</td>\n",
       "    </tr>\n",
       "    <tr>\n",
       "      <th>4</th>\n",
       "      <td>2018-01-05</td>\n",
       "      <td>37.42255</td>\n",
       "      <td>2018-01-05</td>\n",
       "      <td>44.48574</td>\n",
       "      <td>81.90829</td>\n",
       "    </tr>\n",
       "  </tbody>\n",
       "</table>\n",
       "</div>"
      ],
      "text/plain": [
       "           날짜      남북통일        날짜.1     한반도안보        통합\n",
       "0  2018-01-01  23.66790  2018-01-01  34.69640  58.36430\n",
       "1  2018-01-02  35.06815  2018-01-02  42.25526  77.32341\n",
       "2  2018-01-03  38.41387  2018-01-03  50.68153  89.09540\n",
       "3  2018-01-04  39.03345  2018-01-04  45.22924  84.26269\n",
       "4  2018-01-05  37.42255  2018-01-05  44.48574  81.90829"
      ]
     },
     "execution_count": 27,
     "metadata": {},
     "output_type": "execute_result"
    }
   ],
   "source": [
    "data2.head()"
   ]
  },
  {
   "cell_type": "code",
   "execution_count": 28,
   "metadata": {},
   "outputs": [],
   "source": [
    "data1['날짜'] = data1['날짜'].apply(lambda x: datetime.datetime.strptime(x, '%Y-%m-%d'))\n",
    "data2['날짜'] = data2['날짜'].apply(lambda x: datetime.datetime.strptime(x, '%Y-%m-%d'))"
   ]
  },
  {
   "cell_type": "code",
   "execution_count": 29,
   "metadata": {},
   "outputs": [
    {
     "data": {
      "text/html": [
       "<div>\n",
       "<style scoped>\n",
       "    .dataframe tbody tr th:only-of-type {\n",
       "        vertical-align: middle;\n",
       "    }\n",
       "\n",
       "    .dataframe tbody tr th {\n",
       "        vertical-align: top;\n",
       "    }\n",
       "\n",
       "    .dataframe thead th {\n",
       "        text-align: right;\n",
       "    }\n",
       "</style>\n",
       "<table border=\"1\" class=\"dataframe\">\n",
       "  <thead>\n",
       "    <tr style=\"text-align: right;\">\n",
       "      <th></th>\n",
       "      <th>날짜</th>\n",
       "      <th>남북통일</th>\n",
       "      <th>날짜.1</th>\n",
       "      <th>한반도안보</th>\n",
       "      <th>통합</th>\n",
       "    </tr>\n",
       "  </thead>\n",
       "  <tbody>\n",
       "    <tr>\n",
       "      <th>0</th>\n",
       "      <td>2018-01-01</td>\n",
       "      <td>23.66790</td>\n",
       "      <td>2018-01-01</td>\n",
       "      <td>34.69640</td>\n",
       "      <td>58.36430</td>\n",
       "    </tr>\n",
       "    <tr>\n",
       "      <th>1</th>\n",
       "      <td>2018-01-02</td>\n",
       "      <td>35.06815</td>\n",
       "      <td>2018-01-02</td>\n",
       "      <td>42.25526</td>\n",
       "      <td>77.32341</td>\n",
       "    </tr>\n",
       "    <tr>\n",
       "      <th>2</th>\n",
       "      <td>2018-01-03</td>\n",
       "      <td>38.41387</td>\n",
       "      <td>2018-01-03</td>\n",
       "      <td>50.68153</td>\n",
       "      <td>89.09540</td>\n",
       "    </tr>\n",
       "    <tr>\n",
       "      <th>3</th>\n",
       "      <td>2018-01-04</td>\n",
       "      <td>39.03345</td>\n",
       "      <td>2018-01-04</td>\n",
       "      <td>45.22924</td>\n",
       "      <td>84.26269</td>\n",
       "    </tr>\n",
       "    <tr>\n",
       "      <th>4</th>\n",
       "      <td>2018-01-05</td>\n",
       "      <td>37.42255</td>\n",
       "      <td>2018-01-05</td>\n",
       "      <td>44.48574</td>\n",
       "      <td>81.90829</td>\n",
       "    </tr>\n",
       "  </tbody>\n",
       "</table>\n",
       "</div>"
      ],
      "text/plain": [
       "          날짜      남북통일        날짜.1     한반도안보        통합\n",
       "0 2018-01-01  23.66790  2018-01-01  34.69640  58.36430\n",
       "1 2018-01-02  35.06815  2018-01-02  42.25526  77.32341\n",
       "2 2018-01-03  38.41387  2018-01-03  50.68153  89.09540\n",
       "3 2018-01-04  39.03345  2018-01-04  45.22924  84.26269\n",
       "4 2018-01-05  37.42255  2018-01-05  44.48574  81.90829"
      ]
     },
     "execution_count": 29,
     "metadata": {},
     "output_type": "execute_result"
    }
   ],
   "source": [
    "data2.head()"
   ]
  },
  {
   "cell_type": "code",
   "execution_count": 30,
   "metadata": {},
   "outputs": [],
   "source": [
    "data1['지수차'] = data1['통합'] - data2['통합']"
   ]
  },
  {
   "cell_type": "code",
   "execution_count": 31,
   "metadata": {},
   "outputs": [
    {
     "data": {
      "text/html": [
       "<div>\n",
       "<style scoped>\n",
       "    .dataframe tbody tr th:only-of-type {\n",
       "        vertical-align: middle;\n",
       "    }\n",
       "\n",
       "    .dataframe tbody tr th {\n",
       "        vertical-align: top;\n",
       "    }\n",
       "\n",
       "    .dataframe thead th {\n",
       "        text-align: right;\n",
       "    }\n",
       "</style>\n",
       "<table border=\"1\" class=\"dataframe\">\n",
       "  <thead>\n",
       "    <tr style=\"text-align: right;\">\n",
       "      <th></th>\n",
       "      <th>날짜</th>\n",
       "      <th>남북통일</th>\n",
       "      <th>날짜.1</th>\n",
       "      <th>한반도안보</th>\n",
       "      <th>통합</th>\n",
       "      <th>지수차</th>\n",
       "    </tr>\n",
       "  </thead>\n",
       "  <tbody>\n",
       "    <tr>\n",
       "      <th>317</th>\n",
       "      <td>2018-11-14</td>\n",
       "      <td>14.18937</td>\n",
       "      <td>2018-11-14</td>\n",
       "      <td>18.28972</td>\n",
       "      <td>32.47909</td>\n",
       "      <td>-71.73403</td>\n",
       "    </tr>\n",
       "    <tr>\n",
       "      <th>318</th>\n",
       "      <td>2018-11-15</td>\n",
       "      <td>11.81548</td>\n",
       "      <td>2018-11-15</td>\n",
       "      <td>16.64418</td>\n",
       "      <td>28.45966</td>\n",
       "      <td>-72.03599</td>\n",
       "    </tr>\n",
       "    <tr>\n",
       "      <th>319</th>\n",
       "      <td>2018-11-16</td>\n",
       "      <td>11.68060</td>\n",
       "      <td>2018-11-16</td>\n",
       "      <td>15.83490</td>\n",
       "      <td>27.51550</td>\n",
       "      <td>-55.87979</td>\n",
       "    </tr>\n",
       "    <tr>\n",
       "      <th>320</th>\n",
       "      <td>2018-11-17</td>\n",
       "      <td>10.19692</td>\n",
       "      <td>2018-11-17</td>\n",
       "      <td>11.08713</td>\n",
       "      <td>21.28405</td>\n",
       "      <td>-48.60442</td>\n",
       "    </tr>\n",
       "    <tr>\n",
       "      <th>321</th>\n",
       "      <td>2018-11-18</td>\n",
       "      <td>12.00431</td>\n",
       "      <td>2018-11-18</td>\n",
       "      <td>14.70191</td>\n",
       "      <td>26.70622</td>\n",
       "      <td>-60.03479</td>\n",
       "    </tr>\n",
       "  </tbody>\n",
       "</table>\n",
       "</div>"
      ],
      "text/plain": [
       "            날짜      남북통일        날짜.1     한반도안보        통합       지수차\n",
       "317 2018-11-14  14.18937  2018-11-14  18.28972  32.47909 -71.73403\n",
       "318 2018-11-15  11.81548  2018-11-15  16.64418  28.45966 -72.03599\n",
       "319 2018-11-16  11.68060  2018-11-16  15.83490  27.51550 -55.87979\n",
       "320 2018-11-17  10.19692  2018-11-17  11.08713  21.28405 -48.60442\n",
       "321 2018-11-18  12.00431  2018-11-18  14.70191  26.70622 -60.03479"
      ]
     },
     "execution_count": 31,
     "metadata": {},
     "output_type": "execute_result"
    }
   ],
   "source": [
    "data1.tail()"
   ]
  },
  {
   "cell_type": "code",
   "execution_count": 32,
   "metadata": {},
   "outputs": [
    {
     "data": {
      "image/png": "[encoded data removed]",
      "text/plain": [
       "<Figure size 576x288 with 1 Axes>"
      ]
     },
     "metadata": {},
     "output_type": "display_data"
    }
   ],
   "source": [
    "plt.figure(figsize=(8,4))\n",
    "plt.plot(data1['날짜'], data1[data1.columns[1]], label='긍정')\n",
    "plt.plot(data2['날짜'], data2[data2.columns[1]], label='부정')\n",
    "plt.title(data1.columns[1])\n",
    "plt.legend()\n",
    "plt.show()"
   ]
  },
  {
   "cell_type": "code",
   "execution_count": 33,
   "metadata": {},
   "outputs": [
    {
     "data": {
      "image/png": "[encoded data removed]",
      "text/plain": [
       "<Figure size 576x288 with 1 Axes>"
      ]
     },
     "metadata": {},
     "output_type": "display_data"
    }
   ],
   "source": [
    "plt.figure(figsize=(8,4))\n",
    "plt.plot(data1['날짜'], data1[data1.columns[3]], label='긍정')\n",
    "plt.plot(data2['날짜'], data2[data2.columns[3]], label='부정')\n",
    "plt.title(data1.columns[3])\n",
    "plt.legend()\n",
    "plt.show()"
   ]
  },
  {
   "cell_type": "code",
   "execution_count": 34,
   "metadata": {},
   "outputs": [
    {
     "data": {
      "image/png": "[encoded data removed]",
      "text/plain": [
       "<Figure size 576x288 with 1 Axes>"
      ]
     },
     "metadata": {},
     "output_type": "display_data"
    }
   ],
   "source": [
    "plt_1 = plt.figure(figsize=(8,4))\n",
    "plt.plot(data1['날짜'], data1[data1.columns[4]], label='긍정')\n",
    "plt.plot(data2['날짜'], data2[data2.columns[4]], label='부정')\n",
    "plt.title(data1.columns[4])\n",
    "plt.legend()\n",
    "plt.show()"
   ]
  },
  {
   "cell_type": "code",
   "execution_count": 35,
   "metadata": {},
   "outputs": [],
   "source": [
    "plt_1.savefig(r'./images/datalab_%s_1.png' %thema, format='png')"
   ]
  },
  {
   "cell_type": "code",
   "execution_count": 36,
   "metadata": {},
   "outputs": [
    {
     "data": {
      "image/png": "[encoded data removed]",
      "text/plain": [
       "<Figure size 576x288 with 1 Axes>"
      ]
     },
     "metadata": {},
     "output_type": "display_data"
    }
   ],
   "source": [
    "plt_2 = plt.figure(figsize=(8,4))\n",
    "plt.plot(data1['날짜'], data1[data1.columns[5]], 'c', label='점수')\n",
    "plt.title(data1.columns[5])\n",
    "plt.legend()\n",
    "plt.show()"
   ]
  },
  {
   "cell_type": "code",
   "execution_count": 37,
   "metadata": {},
   "outputs": [],
   "source": [
    "plt_2.savefig(r'./images/datalab_%s_2.png' %thema, format='png')"
   ]
  },
  {
   "cell_type": "code",
   "execution_count": 38,
   "metadata": {},
   "outputs": [
    {
     "data": {
      "text/html": [
       "<div>\n",
       "<style scoped>\n",
       "    .dataframe tbody tr th:only-of-type {\n",
       "        vertical-align: middle;\n",
       "    }\n",
       "\n",
       "    .dataframe tbody tr th {\n",
       "        vertical-align: top;\n",
       "    }\n",
       "\n",
       "    .dataframe thead th {\n",
       "        text-align: right;\n",
       "    }\n",
       "</style>\n",
       "<table border=\"1\" class=\"dataframe\">\n",
       "  <thead>\n",
       "    <tr style=\"text-align: right;\">\n",
       "      <th></th>\n",
       "      <th>날짜</th>\n",
       "      <th>남북통일</th>\n",
       "      <th>날짜.1</th>\n",
       "      <th>한반도안보</th>\n",
       "      <th>통합</th>\n",
       "      <th>지수차</th>\n",
       "    </tr>\n",
       "  </thead>\n",
       "  <tbody>\n",
       "    <tr>\n",
       "      <th>0</th>\n",
       "      <td>2018-01-01</td>\n",
       "      <td>15.61909</td>\n",
       "      <td>2018-01-01</td>\n",
       "      <td>13.13730</td>\n",
       "      <td>28.75639</td>\n",
       "      <td>-29.60791</td>\n",
       "    </tr>\n",
       "    <tr>\n",
       "      <th>1</th>\n",
       "      <td>2018-01-02</td>\n",
       "      <td>27.78527</td>\n",
       "      <td>2018-01-02</td>\n",
       "      <td>12.57081</td>\n",
       "      <td>40.35608</td>\n",
       "      <td>-36.96733</td>\n",
       "    </tr>\n",
       "    <tr>\n",
       "      <th>2</th>\n",
       "      <td>2018-01-03</td>\n",
       "      <td>44.21364</td>\n",
       "      <td>2018-01-03</td>\n",
       "      <td>13.13730</td>\n",
       "      <td>57.35094</td>\n",
       "      <td>-31.74446</td>\n",
       "    </tr>\n",
       "    <tr>\n",
       "      <th>3</th>\n",
       "      <td>2018-01-04</td>\n",
       "      <td>16.02373</td>\n",
       "      <td>2018-01-04</td>\n",
       "      <td>13.27218</td>\n",
       "      <td>29.29591</td>\n",
       "      <td>-54.96678</td>\n",
       "    </tr>\n",
       "    <tr>\n",
       "      <th>4</th>\n",
       "      <td>2018-01-05</td>\n",
       "      <td>100.00000</td>\n",
       "      <td>2018-01-05</td>\n",
       "      <td>11.59967</td>\n",
       "      <td>111.59967</td>\n",
       "      <td>29.69138</td>\n",
       "    </tr>\n",
       "  </tbody>\n",
       "</table>\n",
       "</div>"
      ],
      "text/plain": [
       "          날짜       남북통일        날짜.1     한반도안보         통합       지수차\n",
       "0 2018-01-01   15.61909  2018-01-01  13.13730   28.75639 -29.60791\n",
       "1 2018-01-02   27.78527  2018-01-02  12.57081   40.35608 -36.96733\n",
       "2 2018-01-03   44.21364  2018-01-03  13.13730   57.35094 -31.74446\n",
       "3 2018-01-04   16.02373  2018-01-04  13.27218   29.29591 -54.96678\n",
       "4 2018-01-05  100.00000  2018-01-05  11.59967  111.59967  29.69138"
      ]
     },
     "execution_count": 38,
     "metadata": {},
     "output_type": "execute_result"
    }
   ],
   "source": [
    "data1.head()"
   ]
  },
  {
   "cell_type": "code",
   "execution_count": 39,
   "metadata": {},
   "outputs": [
    {
     "name": "stdout",
     "output_type": "stream",
     "text": [
      "./TeamMission/datalab_%s_1_3.csv 파일을 생성했습니다.\n"
     ]
    }
   ],
   "source": [
    "data1.to_csv('./TeamMission/datalab_%s_1_3.csv' %thema, sep=',', encoding='UTF-8')\n",
    "print('./TeamMission/datalab_%s_1_3.csv 파일을 생성했습니다.')"
   ]
  },
  {
   "cell_type": "markdown",
   "metadata": {},
   "source": [
    "#### 지수차 그래프 그리기"
   ]
  },
  {
   "cell_type": "code",
   "execution_count": 40,
   "metadata": {},
   "outputs": [],
   "source": [
    "data1 = pd.read_csv('./TeamMission/datalab_36_1_3.csv')\n",
    "data2 = pd.read_csv('./TeamMission/datalab_37_1_3.csv')\n",
    "data3 = pd.read_csv('./TeamMission/datalab_49_1_3.csv')"
   ]
  },
  {
   "cell_type": "code",
   "execution_count": 55,
   "metadata": {},
   "outputs": [
    {
     "data": {
      "image/png": "[encoded data removed]",
      "text/plain": [
       "<Figure size 576x288 with 1 Axes>"
      ]
     },
     "metadata": {},
     "output_type": "display_data"
    }
   ],
   "source": [
    "plt_3 = plt.figure(figsize=(8,4))\n",
    "plt.plot(data1['날짜'], data1[data1.columns[6]], label='정치')\n",
    "plt.plot(data2['날짜'], data2[data2.columns[6]], label='경제')\n",
    "plt.plot(data3['날짜'], data3[data3.columns[6]], label='사회')\n",
    "plt.title(data1.columns[6])\n",
    "plt.legend()\n",
    "plt.show()"
   ]
  },
  {
   "cell_type": "code",
   "execution_count": 56,
   "metadata": {},
   "outputs": [],
   "source": [
    "plt_3.savefig(r'./images/datalab_%s_3.png' %thema, format='png')"
   ]
  },
  {
   "cell_type": "markdown",
   "metadata": {},
   "source": [
    "### 점수화"
   ]
  },
  {
   "cell_type": "markdown",
   "metadata": {},
   "source": [
    "##### 점수지표\n",
    "- 청원 점수 : 25%\n",
    "- 네이버랩 검색지수 : 25%\n",
    "- 정량지표(목표달성도) : 50%"
   ]
  },
  {
   "cell_type": "markdown",
   "metadata": {},
   "source": [
    "#### 청원 점수"
   ]
  },
  {
   "cell_type": "code",
   "execution_count": 43,
   "metadata": {},
   "outputs": [
    {
     "data": {
      "text/plain": [
       "(20199, 17473, 22895)"
      ]
     },
     "execution_count": 43,
     "metadata": {},
     "output_type": "execute_result"
    }
   ],
   "source": [
    "len(president_36_3), len(president_37_3), len(president_49_3)"
   ]
  },
  {
   "cell_type": "code",
   "execution_count": 44,
   "metadata": {},
   "outputs": [
    {
     "data": {
      "text/plain": [
       "(3088617, 734551, 9391430)"
      ]
     },
     "execution_count": 44,
     "metadata": {},
     "output_type": "execute_result"
    }
   ],
   "source": [
    "sum_count_36, sum_count_37, sum_count_49"
   ]
  },
  {
   "cell_type": "markdown",
   "metadata": {},
   "source": [
    "#### 네이버랩 검색지수(평균)"
   ]
  },
  {
   "cell_type": "code",
   "execution_count": 45,
   "metadata": {},
   "outputs": [
    {
     "data": {
      "text/plain": [
       "(-59.178, -75.999, -6.988)"
      ]
     },
     "execution_count": 45,
     "metadata": {},
     "output_type": "execute_result"
    }
   ],
   "source": [
    "round(sum(data1[data1.columns[6]]) / len(data1[data1.columns[6]]), 3), round(sum(data2[data2.columns[6]]) / len(data2[data2.columns[6]]),3), round(sum(data3[data3.columns[6]]) / len(data3[data3.columns[6]]), 3)"
   ]
  },
  {
   "cell_type": "markdown",
   "metadata": {},
   "source": [
    "#### 정량지표(목표달성도)"
   ]
  },
  {
   "cell_type": "markdown",
   "metadata": {},
   "source": [
    "2018년 예산안 중 실제 이행예정 중이였던 정책들과\n",
    "2018년도 실제 수행된 정책들을 비교해서 점수화\n",
    "\n",
    "cf) 2018년 기획재정부 정책 예산안.pdf 참고"
   ]
  },
  {
   "cell_type": "markdown",
   "metadata": {},
   "source": [
    "- 정치 : -10점\n",
    "- 경제 : -30점\n",
    "- 사회 : -20점"
   ]
  },
  {
   "cell_type": "markdown",
   "metadata": {},
   "source": [
    "### 총평"
   ]
  },
  {
   "cell_type": "markdown",
   "metadata": {},
   "source": [
    "정치 : 100 - (6.3 + 10.25 + 5)\n",
    "\n",
    "경제 : 100 - (1.75 + 13.25 + 15)\n",
    "\n",
    "사회 : 100 - (16.95 + 1.5 + 10)"
   ]
  },
  {
   "cell_type": "code",
   "execution_count": 50,
   "metadata": {},
   "outputs": [
    {
     "data": {
      "text/plain": [
       "78.45"
      ]
     },
     "execution_count": 50,
     "metadata": {},
     "output_type": "execute_result"
    }
   ],
   "source": [
    "100 - (6.3 + 10.25 + 5)"
   ]
  },
  {
   "cell_type": "code",
   "execution_count": 52,
   "metadata": {},
   "outputs": [
    {
     "data": {
      "text/plain": [
       "70.0"
      ]
     },
     "execution_count": 52,
     "metadata": {},
     "output_type": "execute_result"
    }
   ],
   "source": [
    "100 - (1.75 + 13.25 + 15)"
   ]
  },
  {
   "cell_type": "code",
   "execution_count": 53,
   "metadata": {},
   "outputs": [
    {
     "data": {
      "text/plain": [
       "71.55"
      ]
     },
     "execution_count": 53,
     "metadata": {},
     "output_type": "execute_result"
    }
   ],
   "source": [
    "100 - (16.95 + 1.5 + 10)"
   ]
  },
  {
   "cell_type": "code",
   "execution_count": 54,
   "metadata": {},
   "outputs": [
    {
     "data": {
      "text/plain": [
       "73.33333333333333"
      ]
     },
     "execution_count": 54,
     "metadata": {},
     "output_type": "execute_result"
    }
   ],
   "source": [
    "(78.45+70.0+71.55)/3"
   ]
  },
  {
   "cell_type": "markdown",
   "metadata": {},
   "source": [
    "끝~"
   ]
  },
  {
   "cell_type": "code",
   "execution_count": null,
   "metadata": {},
   "outputs": [],
   "source": []
  }
 ],
 "metadata": {
  "kernelspec": {
   "display_name": "Python 3",
   "language": "python",
   "name": "python3"
  },
  "language_info": {
   "codemirror_mode": {
    "name": "ipython",
    "version": 3
   },
   "file_extension": ".py",
   "mimetype": "text/x-python",
   "name": "python",
   "nbconvert_exporter": "python",
   "pygments_lexer": "ipython3",
   "version": "3.6.5"
  }
 },
 "nbformat": 4,
 "nbformat_minor": 2
}
